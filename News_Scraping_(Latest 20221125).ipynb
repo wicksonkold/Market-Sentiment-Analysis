{
  "nbformat": 4,
  "nbformat_minor": 0,
  "metadata": {
    "colab": {
      "provenance": [],
      "collapsed_sections": [
        "s0_f1jMKCJDM"
      ],
      "mount_file_id": "19RouGDdy_xXjvY0lGAK07xPAqy6LmXj7",
      "authorship_tag": "ABX9TyPD101xMVCEjPic3i2TsRuo",
      "include_colab_link": true
    },
    "kernelspec": {
      "name": "python3",
      "display_name": "Python 3"
    },
    "language_info": {
      "name": "python"
    },
    "widgets": {
      "application/vnd.jupyter.widget-state+json": {
        "ed31af44bbf54ba6abdcad68ad4eefa9": {
          "model_module": "@jupyter-widgets/controls",
          "model_name": "HBoxModel",
          "model_module_version": "1.5.0",
          "state": {
            "_dom_classes": [],
            "_model_module": "@jupyter-widgets/controls",
            "_model_module_version": "1.5.0",
            "_model_name": "HBoxModel",
            "_view_count": null,
            "_view_module": "@jupyter-widgets/controls",
            "_view_module_version": "1.5.0",
            "_view_name": "HBoxView",
            "box_style": "",
            "children": [
              "IPY_MODEL_72bbba6210cf49bf84c38324b9d17859",
              "IPY_MODEL_b6f6ed2c35fe4d6f8f6743e088cd91b3",
              "IPY_MODEL_f9b375c333034161b3406c73216196f5"
            ],
            "layout": "IPY_MODEL_9d46b16086504635ba5a5f4aa8064d4c"
          }
        },
        "72bbba6210cf49bf84c38324b9d17859": {
          "model_module": "@jupyter-widgets/controls",
          "model_name": "HTMLModel",
          "model_module_version": "1.5.0",
          "state": {
            "_dom_classes": [],
            "_model_module": "@jupyter-widgets/controls",
            "_model_module_version": "1.5.0",
            "_model_name": "HTMLModel",
            "_view_count": null,
            "_view_module": "@jupyter-widgets/controls",
            "_view_module_version": "1.5.0",
            "_view_name": "HTMLView",
            "description": "",
            "description_tooltip": null,
            "layout": "IPY_MODEL_36c7f6b372d948aba83bf429e85dbe86",
            "placeholder": "​",
            "style": "IPY_MODEL_fe6ace0c108b4ebb8af32f5ca47e645e",
            "value": "Downloading: 100%"
          }
        },
        "b6f6ed2c35fe4d6f8f6743e088cd91b3": {
          "model_module": "@jupyter-widgets/controls",
          "model_name": "FloatProgressModel",
          "model_module_version": "1.5.0",
          "state": {
            "_dom_classes": [],
            "_model_module": "@jupyter-widgets/controls",
            "_model_module_version": "1.5.0",
            "_model_name": "FloatProgressModel",
            "_view_count": null,
            "_view_module": "@jupyter-widgets/controls",
            "_view_module_version": "1.5.0",
            "_view_name": "ProgressView",
            "bar_style": "success",
            "description": "",
            "description_tooltip": null,
            "layout": "IPY_MODEL_df7e1bdad54e4cb09b58292122237fd2",
            "max": 359,
            "min": 0,
            "orientation": "horizontal",
            "style": "IPY_MODEL_96c6e8d8870247d9b54ce1c3e711f419",
            "value": 359
          }
        },
        "f9b375c333034161b3406c73216196f5": {
          "model_module": "@jupyter-widgets/controls",
          "model_name": "HTMLModel",
          "model_module_version": "1.5.0",
          "state": {
            "_dom_classes": [],
            "_model_module": "@jupyter-widgets/controls",
            "_model_module_version": "1.5.0",
            "_model_name": "HTMLModel",
            "_view_count": null,
            "_view_module": "@jupyter-widgets/controls",
            "_view_module_version": "1.5.0",
            "_view_name": "HTMLView",
            "description": "",
            "description_tooltip": null,
            "layout": "IPY_MODEL_35e477f4885a4b48838d58e4f82fa786",
            "placeholder": "​",
            "style": "IPY_MODEL_bd0e95a5366042a886926be95b745958",
            "value": " 359/359 [00:00&lt;00:00, 6.87kB/s]"
          }
        },
        "9d46b16086504635ba5a5f4aa8064d4c": {
          "model_module": "@jupyter-widgets/base",
          "model_name": "LayoutModel",
          "model_module_version": "1.2.0",
          "state": {
            "_model_module": "@jupyter-widgets/base",
            "_model_module_version": "1.2.0",
            "_model_name": "LayoutModel",
            "_view_count": null,
            "_view_module": "@jupyter-widgets/base",
            "_view_module_version": "1.2.0",
            "_view_name": "LayoutView",
            "align_content": null,
            "align_items": null,
            "align_self": null,
            "border": null,
            "bottom": null,
            "display": null,
            "flex": null,
            "flex_flow": null,
            "grid_area": null,
            "grid_auto_columns": null,
            "grid_auto_flow": null,
            "grid_auto_rows": null,
            "grid_column": null,
            "grid_gap": null,
            "grid_row": null,
            "grid_template_areas": null,
            "grid_template_columns": null,
            "grid_template_rows": null,
            "height": null,
            "justify_content": null,
            "justify_items": null,
            "left": null,
            "margin": null,
            "max_height": null,
            "max_width": null,
            "min_height": null,
            "min_width": null,
            "object_fit": null,
            "object_position": null,
            "order": null,
            "overflow": null,
            "overflow_x": null,
            "overflow_y": null,
            "padding": null,
            "right": null,
            "top": null,
            "visibility": null,
            "width": null
          }
        },
        "36c7f6b372d948aba83bf429e85dbe86": {
          "model_module": "@jupyter-widgets/base",
          "model_name": "LayoutModel",
          "model_module_version": "1.2.0",
          "state": {
            "_model_module": "@jupyter-widgets/base",
            "_model_module_version": "1.2.0",
            "_model_name": "LayoutModel",
            "_view_count": null,
            "_view_module": "@jupyter-widgets/base",
            "_view_module_version": "1.2.0",
            "_view_name": "LayoutView",
            "align_content": null,
            "align_items": null,
            "align_self": null,
            "border": null,
            "bottom": null,
            "display": null,
            "flex": null,
            "flex_flow": null,
            "grid_area": null,
            "grid_auto_columns": null,
            "grid_auto_flow": null,
            "grid_auto_rows": null,
            "grid_column": null,
            "grid_gap": null,
            "grid_row": null,
            "grid_template_areas": null,
            "grid_template_columns": null,
            "grid_template_rows": null,
            "height": null,
            "justify_content": null,
            "justify_items": null,
            "left": null,
            "margin": null,
            "max_height": null,
            "max_width": null,
            "min_height": null,
            "min_width": null,
            "object_fit": null,
            "object_position": null,
            "order": null,
            "overflow": null,
            "overflow_x": null,
            "overflow_y": null,
            "padding": null,
            "right": null,
            "top": null,
            "visibility": null,
            "width": null
          }
        },
        "fe6ace0c108b4ebb8af32f5ca47e645e": {
          "model_module": "@jupyter-widgets/controls",
          "model_name": "DescriptionStyleModel",
          "model_module_version": "1.5.0",
          "state": {
            "_model_module": "@jupyter-widgets/controls",
            "_model_module_version": "1.5.0",
            "_model_name": "DescriptionStyleModel",
            "_view_count": null,
            "_view_module": "@jupyter-widgets/base",
            "_view_module_version": "1.2.0",
            "_view_name": "StyleView",
            "description_width": ""
          }
        },
        "df7e1bdad54e4cb09b58292122237fd2": {
          "model_module": "@jupyter-widgets/base",
          "model_name": "LayoutModel",
          "model_module_version": "1.2.0",
          "state": {
            "_model_module": "@jupyter-widgets/base",
            "_model_module_version": "1.2.0",
            "_model_name": "LayoutModel",
            "_view_count": null,
            "_view_module": "@jupyter-widgets/base",
            "_view_module_version": "1.2.0",
            "_view_name": "LayoutView",
            "align_content": null,
            "align_items": null,
            "align_self": null,
            "border": null,
            "bottom": null,
            "display": null,
            "flex": null,
            "flex_flow": null,
            "grid_area": null,
            "grid_auto_columns": null,
            "grid_auto_flow": null,
            "grid_auto_rows": null,
            "grid_column": null,
            "grid_gap": null,
            "grid_row": null,
            "grid_template_areas": null,
            "grid_template_columns": null,
            "grid_template_rows": null,
            "height": null,
            "justify_content": null,
            "justify_items": null,
            "left": null,
            "margin": null,
            "max_height": null,
            "max_width": null,
            "min_height": null,
            "min_width": null,
            "object_fit": null,
            "object_position": null,
            "order": null,
            "overflow": null,
            "overflow_x": null,
            "overflow_y": null,
            "padding": null,
            "right": null,
            "top": null,
            "visibility": null,
            "width": null
          }
        },
        "96c6e8d8870247d9b54ce1c3e711f419": {
          "model_module": "@jupyter-widgets/controls",
          "model_name": "ProgressStyleModel",
          "model_module_version": "1.5.0",
          "state": {
            "_model_module": "@jupyter-widgets/controls",
            "_model_module_version": "1.5.0",
            "_model_name": "ProgressStyleModel",
            "_view_count": null,
            "_view_module": "@jupyter-widgets/base",
            "_view_module_version": "1.2.0",
            "_view_name": "StyleView",
            "bar_color": null,
            "description_width": ""
          }
        },
        "35e477f4885a4b48838d58e4f82fa786": {
          "model_module": "@jupyter-widgets/base",
          "model_name": "LayoutModel",
          "model_module_version": "1.2.0",
          "state": {
            "_model_module": "@jupyter-widgets/base",
            "_model_module_version": "1.2.0",
            "_model_name": "LayoutModel",
            "_view_count": null,
            "_view_module": "@jupyter-widgets/base",
            "_view_module_version": "1.2.0",
            "_view_name": "LayoutView",
            "align_content": null,
            "align_items": null,
            "align_self": null,
            "border": null,
            "bottom": null,
            "display": null,
            "flex": null,
            "flex_flow": null,
            "grid_area": null,
            "grid_auto_columns": null,
            "grid_auto_flow": null,
            "grid_auto_rows": null,
            "grid_column": null,
            "grid_gap": null,
            "grid_row": null,
            "grid_template_areas": null,
            "grid_template_columns": null,
            "grid_template_rows": null,
            "height": null,
            "justify_content": null,
            "justify_items": null,
            "left": null,
            "margin": null,
            "max_height": null,
            "max_width": null,
            "min_height": null,
            "min_width": null,
            "object_fit": null,
            "object_position": null,
            "order": null,
            "overflow": null,
            "overflow_x": null,
            "overflow_y": null,
            "padding": null,
            "right": null,
            "top": null,
            "visibility": null,
            "width": null
          }
        },
        "bd0e95a5366042a886926be95b745958": {
          "model_module": "@jupyter-widgets/controls",
          "model_name": "DescriptionStyleModel",
          "model_module_version": "1.5.0",
          "state": {
            "_model_module": "@jupyter-widgets/controls",
            "_model_module_version": "1.5.0",
            "_model_name": "DescriptionStyleModel",
            "_view_count": null,
            "_view_module": "@jupyter-widgets/base",
            "_view_module_version": "1.2.0",
            "_view_name": "StyleView",
            "description_width": ""
          }
        },
        "35a06feb97924b61a32855254b7e16fd": {
          "model_module": "@jupyter-widgets/controls",
          "model_name": "HBoxModel",
          "model_module_version": "1.5.0",
          "state": {
            "_dom_classes": [],
            "_model_module": "@jupyter-widgets/controls",
            "_model_module_version": "1.5.0",
            "_model_name": "HBoxModel",
            "_view_count": null,
            "_view_module": "@jupyter-widgets/controls",
            "_view_module_version": "1.5.0",
            "_view_name": "HBoxView",
            "box_style": "",
            "children": [
              "IPY_MODEL_f926f87202d046b0a519a28872c85bf6",
              "IPY_MODEL_5671a7453c09474491b623f9b52887d0",
              "IPY_MODEL_ff266b0f2cf5446a94ee2f9a6f682cb9"
            ],
            "layout": "IPY_MODEL_4f669ed13140482a81d1eb8b1410293e"
          }
        },
        "f926f87202d046b0a519a28872c85bf6": {
          "model_module": "@jupyter-widgets/controls",
          "model_name": "HTMLModel",
          "model_module_version": "1.5.0",
          "state": {
            "_dom_classes": [],
            "_model_module": "@jupyter-widgets/controls",
            "_model_module_version": "1.5.0",
            "_model_name": "HTMLModel",
            "_view_count": null,
            "_view_module": "@jupyter-widgets/controls",
            "_view_module_version": "1.5.0",
            "_view_name": "HTMLView",
            "description": "",
            "description_tooltip": null,
            "layout": "IPY_MODEL_87542f0f54b44c8d97b5911a79a9396c",
            "placeholder": "​",
            "style": "IPY_MODEL_1829153b26f8440aafe7bb9b33b724b6",
            "value": "Downloading: 100%"
          }
        },
        "5671a7453c09474491b623f9b52887d0": {
          "model_module": "@jupyter-widgets/controls",
          "model_name": "FloatProgressModel",
          "model_module_version": "1.5.0",
          "state": {
            "_dom_classes": [],
            "_model_module": "@jupyter-widgets/controls",
            "_model_module_version": "1.5.0",
            "_model_name": "FloatProgressModel",
            "_view_count": null,
            "_view_module": "@jupyter-widgets/controls",
            "_view_module_version": "1.5.0",
            "_view_name": "ProgressView",
            "bar_style": "success",
            "description": "",
            "description_tooltip": null,
            "layout": "IPY_MODEL_674787cddcac4a16826e9b4c36ce8970",
            "max": 441551705,
            "min": 0,
            "orientation": "horizontal",
            "style": "IPY_MODEL_4314870d9f684c98a0b8d51fd7d90159",
            "value": 441551705
          }
        },
        "ff266b0f2cf5446a94ee2f9a6f682cb9": {
          "model_module": "@jupyter-widgets/controls",
          "model_name": "HTMLModel",
          "model_module_version": "1.5.0",
          "state": {
            "_dom_classes": [],
            "_model_module": "@jupyter-widgets/controls",
            "_model_module_version": "1.5.0",
            "_model_name": "HTMLModel",
            "_view_count": null,
            "_view_module": "@jupyter-widgets/controls",
            "_view_module_version": "1.5.0",
            "_view_name": "HTMLView",
            "description": "",
            "description_tooltip": null,
            "layout": "IPY_MODEL_bb33dda9ac44460290437184af7bf57d",
            "placeholder": "​",
            "style": "IPY_MODEL_8c141a393397401fafc718c016baebd5",
            "value": " 442M/442M [00:22&lt;00:00, 20.5MB/s]"
          }
        },
        "4f669ed13140482a81d1eb8b1410293e": {
          "model_module": "@jupyter-widgets/base",
          "model_name": "LayoutModel",
          "model_module_version": "1.2.0",
          "state": {
            "_model_module": "@jupyter-widgets/base",
            "_model_module_version": "1.2.0",
            "_model_name": "LayoutModel",
            "_view_count": null,
            "_view_module": "@jupyter-widgets/base",
            "_view_module_version": "1.2.0",
            "_view_name": "LayoutView",
            "align_content": null,
            "align_items": null,
            "align_self": null,
            "border": null,
            "bottom": null,
            "display": null,
            "flex": null,
            "flex_flow": null,
            "grid_area": null,
            "grid_auto_columns": null,
            "grid_auto_flow": null,
            "grid_auto_rows": null,
            "grid_column": null,
            "grid_gap": null,
            "grid_row": null,
            "grid_template_areas": null,
            "grid_template_columns": null,
            "grid_template_rows": null,
            "height": null,
            "justify_content": null,
            "justify_items": null,
            "left": null,
            "margin": null,
            "max_height": null,
            "max_width": null,
            "min_height": null,
            "min_width": null,
            "object_fit": null,
            "object_position": null,
            "order": null,
            "overflow": null,
            "overflow_x": null,
            "overflow_y": null,
            "padding": null,
            "right": null,
            "top": null,
            "visibility": null,
            "width": null
          }
        },
        "87542f0f54b44c8d97b5911a79a9396c": {
          "model_module": "@jupyter-widgets/base",
          "model_name": "LayoutModel",
          "model_module_version": "1.2.0",
          "state": {
            "_model_module": "@jupyter-widgets/base",
            "_model_module_version": "1.2.0",
            "_model_name": "LayoutModel",
            "_view_count": null,
            "_view_module": "@jupyter-widgets/base",
            "_view_module_version": "1.2.0",
            "_view_name": "LayoutView",
            "align_content": null,
            "align_items": null,
            "align_self": null,
            "border": null,
            "bottom": null,
            "display": null,
            "flex": null,
            "flex_flow": null,
            "grid_area": null,
            "grid_auto_columns": null,
            "grid_auto_flow": null,
            "grid_auto_rows": null,
            "grid_column": null,
            "grid_gap": null,
            "grid_row": null,
            "grid_template_areas": null,
            "grid_template_columns": null,
            "grid_template_rows": null,
            "height": null,
            "justify_content": null,
            "justify_items": null,
            "left": null,
            "margin": null,
            "max_height": null,
            "max_width": null,
            "min_height": null,
            "min_width": null,
            "object_fit": null,
            "object_position": null,
            "order": null,
            "overflow": null,
            "overflow_x": null,
            "overflow_y": null,
            "padding": null,
            "right": null,
            "top": null,
            "visibility": null,
            "width": null
          }
        },
        "1829153b26f8440aafe7bb9b33b724b6": {
          "model_module": "@jupyter-widgets/controls",
          "model_name": "DescriptionStyleModel",
          "model_module_version": "1.5.0",
          "state": {
            "_model_module": "@jupyter-widgets/controls",
            "_model_module_version": "1.5.0",
            "_model_name": "DescriptionStyleModel",
            "_view_count": null,
            "_view_module": "@jupyter-widgets/base",
            "_view_module_version": "1.2.0",
            "_view_name": "StyleView",
            "description_width": ""
          }
        },
        "674787cddcac4a16826e9b4c36ce8970": {
          "model_module": "@jupyter-widgets/base",
          "model_name": "LayoutModel",
          "model_module_version": "1.2.0",
          "state": {
            "_model_module": "@jupyter-widgets/base",
            "_model_module_version": "1.2.0",
            "_model_name": "LayoutModel",
            "_view_count": null,
            "_view_module": "@jupyter-widgets/base",
            "_view_module_version": "1.2.0",
            "_view_name": "LayoutView",
            "align_content": null,
            "align_items": null,
            "align_self": null,
            "border": null,
            "bottom": null,
            "display": null,
            "flex": null,
            "flex_flow": null,
            "grid_area": null,
            "grid_auto_columns": null,
            "grid_auto_flow": null,
            "grid_auto_rows": null,
            "grid_column": null,
            "grid_gap": null,
            "grid_row": null,
            "grid_template_areas": null,
            "grid_template_columns": null,
            "grid_template_rows": null,
            "height": null,
            "justify_content": null,
            "justify_items": null,
            "left": null,
            "margin": null,
            "max_height": null,
            "max_width": null,
            "min_height": null,
            "min_width": null,
            "object_fit": null,
            "object_position": null,
            "order": null,
            "overflow": null,
            "overflow_x": null,
            "overflow_y": null,
            "padding": null,
            "right": null,
            "top": null,
            "visibility": null,
            "width": null
          }
        },
        "4314870d9f684c98a0b8d51fd7d90159": {
          "model_module": "@jupyter-widgets/controls",
          "model_name": "ProgressStyleModel",
          "model_module_version": "1.5.0",
          "state": {
            "_model_module": "@jupyter-widgets/controls",
            "_model_module_version": "1.5.0",
            "_model_name": "ProgressStyleModel",
            "_view_count": null,
            "_view_module": "@jupyter-widgets/base",
            "_view_module_version": "1.2.0",
            "_view_name": "StyleView",
            "bar_color": null,
            "description_width": ""
          }
        },
        "bb33dda9ac44460290437184af7bf57d": {
          "model_module": "@jupyter-widgets/base",
          "model_name": "LayoutModel",
          "model_module_version": "1.2.0",
          "state": {
            "_model_module": "@jupyter-widgets/base",
            "_model_module_version": "1.2.0",
            "_model_name": "LayoutModel",
            "_view_count": null,
            "_view_module": "@jupyter-widgets/base",
            "_view_module_version": "1.2.0",
            "_view_name": "LayoutView",
            "align_content": null,
            "align_items": null,
            "align_self": null,
            "border": null,
            "bottom": null,
            "display": null,
            "flex": null,
            "flex_flow": null,
            "grid_area": null,
            "grid_auto_columns": null,
            "grid_auto_flow": null,
            "grid_auto_rows": null,
            "grid_column": null,
            "grid_gap": null,
            "grid_row": null,
            "grid_template_areas": null,
            "grid_template_columns": null,
            "grid_template_rows": null,
            "height": null,
            "justify_content": null,
            "justify_items": null,
            "left": null,
            "margin": null,
            "max_height": null,
            "max_width": null,
            "min_height": null,
            "min_width": null,
            "object_fit": null,
            "object_position": null,
            "order": null,
            "overflow": null,
            "overflow_x": null,
            "overflow_y": null,
            "padding": null,
            "right": null,
            "top": null,
            "visibility": null,
            "width": null
          }
        },
        "8c141a393397401fafc718c016baebd5": {
          "model_module": "@jupyter-widgets/controls",
          "model_name": "DescriptionStyleModel",
          "model_module_version": "1.5.0",
          "state": {
            "_model_module": "@jupyter-widgets/controls",
            "_model_module_version": "1.5.0",
            "_model_name": "DescriptionStyleModel",
            "_view_count": null,
            "_view_module": "@jupyter-widgets/base",
            "_view_module_version": "1.2.0",
            "_view_name": "StyleView",
            "description_width": ""
          }
        },
        "709d4a587e424f6ea4bf58eee7a1ddc4": {
          "model_module": "@jupyter-widgets/controls",
          "model_name": "HBoxModel",
          "model_module_version": "1.5.0",
          "state": {
            "_dom_classes": [],
            "_model_module": "@jupyter-widgets/controls",
            "_model_module_version": "1.5.0",
            "_model_name": "HBoxModel",
            "_view_count": null,
            "_view_module": "@jupyter-widgets/controls",
            "_view_module_version": "1.5.0",
            "_view_name": "HBoxView",
            "box_style": "",
            "children": [
              "IPY_MODEL_dd305845b42d4134aae10c8a88990674",
              "IPY_MODEL_3236dd6516a740afbdbe9f170ec2b740",
              "IPY_MODEL_bad867da83e14dff83ddea5d4fdf9d3f"
            ],
            "layout": "IPY_MODEL_463dd86e3afe48768197a418d29d5d43"
          }
        },
        "dd305845b42d4134aae10c8a88990674": {
          "model_module": "@jupyter-widgets/controls",
          "model_name": "HTMLModel",
          "model_module_version": "1.5.0",
          "state": {
            "_dom_classes": [],
            "_model_module": "@jupyter-widgets/controls",
            "_model_module_version": "1.5.0",
            "_model_name": "HTMLModel",
            "_view_count": null,
            "_view_module": "@jupyter-widgets/controls",
            "_view_module_version": "1.5.0",
            "_view_name": "HTMLView",
            "description": "",
            "description_tooltip": null,
            "layout": "IPY_MODEL_35646f6bb07b472199209653e4005663",
            "placeholder": "​",
            "style": "IPY_MODEL_b0924cbb0c234df89ba240adec21567d",
            "value": "Downloading: 100%"
          }
        },
        "3236dd6516a740afbdbe9f170ec2b740": {
          "model_module": "@jupyter-widgets/controls",
          "model_name": "FloatProgressModel",
          "model_module_version": "1.5.0",
          "state": {
            "_dom_classes": [],
            "_model_module": "@jupyter-widgets/controls",
            "_model_module_version": "1.5.0",
            "_model_name": "FloatProgressModel",
            "_view_count": null,
            "_view_module": "@jupyter-widgets/controls",
            "_view_module_version": "1.5.0",
            "_view_name": "ProgressView",
            "bar_style": "success",
            "description": "",
            "description_tooltip": null,
            "layout": "IPY_MODEL_8ff9370709854eb7ba30d625b9389a2d",
            "max": 570,
            "min": 0,
            "orientation": "horizontal",
            "style": "IPY_MODEL_810a51d34f6648ef9d51400e17cda681",
            "value": 570
          }
        },
        "bad867da83e14dff83ddea5d4fdf9d3f": {
          "model_module": "@jupyter-widgets/controls",
          "model_name": "HTMLModel",
          "model_module_version": "1.5.0",
          "state": {
            "_dom_classes": [],
            "_model_module": "@jupyter-widgets/controls",
            "_model_module_version": "1.5.0",
            "_model_name": "HTMLModel",
            "_view_count": null,
            "_view_module": "@jupyter-widgets/controls",
            "_view_module_version": "1.5.0",
            "_view_name": "HTMLView",
            "description": "",
            "description_tooltip": null,
            "layout": "IPY_MODEL_3b673317332c4dfbbed962404dcb7bf1",
            "placeholder": "​",
            "style": "IPY_MODEL_2c99edbb020b4851a6f77df1a55072f4",
            "value": " 570/570 [00:00&lt;00:00, 5.78kB/s]"
          }
        },
        "463dd86e3afe48768197a418d29d5d43": {
          "model_module": "@jupyter-widgets/base",
          "model_name": "LayoutModel",
          "model_module_version": "1.2.0",
          "state": {
            "_model_module": "@jupyter-widgets/base",
            "_model_module_version": "1.2.0",
            "_model_name": "LayoutModel",
            "_view_count": null,
            "_view_module": "@jupyter-widgets/base",
            "_view_module_version": "1.2.0",
            "_view_name": "LayoutView",
            "align_content": null,
            "align_items": null,
            "align_self": null,
            "border": null,
            "bottom": null,
            "display": null,
            "flex": null,
            "flex_flow": null,
            "grid_area": null,
            "grid_auto_columns": null,
            "grid_auto_flow": null,
            "grid_auto_rows": null,
            "grid_column": null,
            "grid_gap": null,
            "grid_row": null,
            "grid_template_areas": null,
            "grid_template_columns": null,
            "grid_template_rows": null,
            "height": null,
            "justify_content": null,
            "justify_items": null,
            "left": null,
            "margin": null,
            "max_height": null,
            "max_width": null,
            "min_height": null,
            "min_width": null,
            "object_fit": null,
            "object_position": null,
            "order": null,
            "overflow": null,
            "overflow_x": null,
            "overflow_y": null,
            "padding": null,
            "right": null,
            "top": null,
            "visibility": null,
            "width": null
          }
        },
        "35646f6bb07b472199209653e4005663": {
          "model_module": "@jupyter-widgets/base",
          "model_name": "LayoutModel",
          "model_module_version": "1.2.0",
          "state": {
            "_model_module": "@jupyter-widgets/base",
            "_model_module_version": "1.2.0",
            "_model_name": "LayoutModel",
            "_view_count": null,
            "_view_module": "@jupyter-widgets/base",
            "_view_module_version": "1.2.0",
            "_view_name": "LayoutView",
            "align_content": null,
            "align_items": null,
            "align_self": null,
            "border": null,
            "bottom": null,
            "display": null,
            "flex": null,
            "flex_flow": null,
            "grid_area": null,
            "grid_auto_columns": null,
            "grid_auto_flow": null,
            "grid_auto_rows": null,
            "grid_column": null,
            "grid_gap": null,
            "grid_row": null,
            "grid_template_areas": null,
            "grid_template_columns": null,
            "grid_template_rows": null,
            "height": null,
            "justify_content": null,
            "justify_items": null,
            "left": null,
            "margin": null,
            "max_height": null,
            "max_width": null,
            "min_height": null,
            "min_width": null,
            "object_fit": null,
            "object_position": null,
            "order": null,
            "overflow": null,
            "overflow_x": null,
            "overflow_y": null,
            "padding": null,
            "right": null,
            "top": null,
            "visibility": null,
            "width": null
          }
        },
        "b0924cbb0c234df89ba240adec21567d": {
          "model_module": "@jupyter-widgets/controls",
          "model_name": "DescriptionStyleModel",
          "model_module_version": "1.5.0",
          "state": {
            "_model_module": "@jupyter-widgets/controls",
            "_model_module_version": "1.5.0",
            "_model_name": "DescriptionStyleModel",
            "_view_count": null,
            "_view_module": "@jupyter-widgets/base",
            "_view_module_version": "1.2.0",
            "_view_name": "StyleView",
            "description_width": ""
          }
        },
        "8ff9370709854eb7ba30d625b9389a2d": {
          "model_module": "@jupyter-widgets/base",
          "model_name": "LayoutModel",
          "model_module_version": "1.2.0",
          "state": {
            "_model_module": "@jupyter-widgets/base",
            "_model_module_version": "1.2.0",
            "_model_name": "LayoutModel",
            "_view_count": null,
            "_view_module": "@jupyter-widgets/base",
            "_view_module_version": "1.2.0",
            "_view_name": "LayoutView",
            "align_content": null,
            "align_items": null,
            "align_self": null,
            "border": null,
            "bottom": null,
            "display": null,
            "flex": null,
            "flex_flow": null,
            "grid_area": null,
            "grid_auto_columns": null,
            "grid_auto_flow": null,
            "grid_auto_rows": null,
            "grid_column": null,
            "grid_gap": null,
            "grid_row": null,
            "grid_template_areas": null,
            "grid_template_columns": null,
            "grid_template_rows": null,
            "height": null,
            "justify_content": null,
            "justify_items": null,
            "left": null,
            "margin": null,
            "max_height": null,
            "max_width": null,
            "min_height": null,
            "min_width": null,
            "object_fit": null,
            "object_position": null,
            "order": null,
            "overflow": null,
            "overflow_x": null,
            "overflow_y": null,
            "padding": null,
            "right": null,
            "top": null,
            "visibility": null,
            "width": null
          }
        },
        "810a51d34f6648ef9d51400e17cda681": {
          "model_module": "@jupyter-widgets/controls",
          "model_name": "ProgressStyleModel",
          "model_module_version": "1.5.0",
          "state": {
            "_model_module": "@jupyter-widgets/controls",
            "_model_module_version": "1.5.0",
            "_model_name": "ProgressStyleModel",
            "_view_count": null,
            "_view_module": "@jupyter-widgets/base",
            "_view_module_version": "1.2.0",
            "_view_name": "StyleView",
            "bar_color": null,
            "description_width": ""
          }
        },
        "3b673317332c4dfbbed962404dcb7bf1": {
          "model_module": "@jupyter-widgets/base",
          "model_name": "LayoutModel",
          "model_module_version": "1.2.0",
          "state": {
            "_model_module": "@jupyter-widgets/base",
            "_model_module_version": "1.2.0",
            "_model_name": "LayoutModel",
            "_view_count": null,
            "_view_module": "@jupyter-widgets/base",
            "_view_module_version": "1.2.0",
            "_view_name": "LayoutView",
            "align_content": null,
            "align_items": null,
            "align_self": null,
            "border": null,
            "bottom": null,
            "display": null,
            "flex": null,
            "flex_flow": null,
            "grid_area": null,
            "grid_auto_columns": null,
            "grid_auto_flow": null,
            "grid_auto_rows": null,
            "grid_column": null,
            "grid_gap": null,
            "grid_row": null,
            "grid_template_areas": null,
            "grid_template_columns": null,
            "grid_template_rows": null,
            "height": null,
            "justify_content": null,
            "justify_items": null,
            "left": null,
            "margin": null,
            "max_height": null,
            "max_width": null,
            "min_height": null,
            "min_width": null,
            "object_fit": null,
            "object_position": null,
            "order": null,
            "overflow": null,
            "overflow_x": null,
            "overflow_y": null,
            "padding": null,
            "right": null,
            "top": null,
            "visibility": null,
            "width": null
          }
        },
        "2c99edbb020b4851a6f77df1a55072f4": {
          "model_module": "@jupyter-widgets/controls",
          "model_name": "DescriptionStyleModel",
          "model_module_version": "1.5.0",
          "state": {
            "_model_module": "@jupyter-widgets/controls",
            "_model_module_version": "1.5.0",
            "_model_name": "DescriptionStyleModel",
            "_view_count": null,
            "_view_module": "@jupyter-widgets/base",
            "_view_module_version": "1.2.0",
            "_view_name": "StyleView",
            "description_width": ""
          }
        },
        "4bd546a82a68479380649207022f2c0c": {
          "model_module": "@jupyter-widgets/controls",
          "model_name": "HBoxModel",
          "model_module_version": "1.5.0",
          "state": {
            "_dom_classes": [],
            "_model_module": "@jupyter-widgets/controls",
            "_model_module_version": "1.5.0",
            "_model_name": "HBoxModel",
            "_view_count": null,
            "_view_module": "@jupyter-widgets/controls",
            "_view_module_version": "1.5.0",
            "_view_name": "HBoxView",
            "box_style": "",
            "children": [
              "IPY_MODEL_f3b87cd6961743ef88fd5593df1713d1",
              "IPY_MODEL_287a1fd687a84d65bf023d0a7fe42eb9",
              "IPY_MODEL_ac1960513c3741a8b9b6124401a5168a"
            ],
            "layout": "IPY_MODEL_cfb599aaf56f46e3aba2f591a0aed93e"
          }
        },
        "f3b87cd6961743ef88fd5593df1713d1": {
          "model_module": "@jupyter-widgets/controls",
          "model_name": "HTMLModel",
          "model_module_version": "1.5.0",
          "state": {
            "_dom_classes": [],
            "_model_module": "@jupyter-widgets/controls",
            "_model_module_version": "1.5.0",
            "_model_name": "HTMLModel",
            "_view_count": null,
            "_view_module": "@jupyter-widgets/controls",
            "_view_module_version": "1.5.0",
            "_view_name": "HTMLView",
            "description": "",
            "description_tooltip": null,
            "layout": "IPY_MODEL_6bb1df60572a413fa639d5286d495bf9",
            "placeholder": "​",
            "style": "IPY_MODEL_dd800053ca3746abaed5afbe31ebe50f",
            "value": "Downloading: 100%"
          }
        },
        "287a1fd687a84d65bf023d0a7fe42eb9": {
          "model_module": "@jupyter-widgets/controls",
          "model_name": "FloatProgressModel",
          "model_module_version": "1.5.0",
          "state": {
            "_dom_classes": [],
            "_model_module": "@jupyter-widgets/controls",
            "_model_module_version": "1.5.0",
            "_model_name": "FloatProgressModel",
            "_view_count": null,
            "_view_module": "@jupyter-widgets/controls",
            "_view_module_version": "1.5.0",
            "_view_name": "ProgressView",
            "bar_style": "success",
            "description": "",
            "description_tooltip": null,
            "layout": "IPY_MODEL_a35897a1b6ba4ba59903a10cb989ccf4",
            "max": 440473133,
            "min": 0,
            "orientation": "horizontal",
            "style": "IPY_MODEL_66be9b4d43c14c6f84df7249537c88c7",
            "value": 440473133
          }
        },
        "ac1960513c3741a8b9b6124401a5168a": {
          "model_module": "@jupyter-widgets/controls",
          "model_name": "HTMLModel",
          "model_module_version": "1.5.0",
          "state": {
            "_dom_classes": [],
            "_model_module": "@jupyter-widgets/controls",
            "_model_module_version": "1.5.0",
            "_model_name": "HTMLModel",
            "_view_count": null,
            "_view_module": "@jupyter-widgets/controls",
            "_view_module_version": "1.5.0",
            "_view_name": "HTMLView",
            "description": "",
            "description_tooltip": null,
            "layout": "IPY_MODEL_857885feeca44386884d4d07c286562a",
            "placeholder": "​",
            "style": "IPY_MODEL_96818eba610c47fdbc7e1aaaf297e414",
            "value": " 440M/440M [00:15&lt;00:00, 49.2MB/s]"
          }
        },
        "cfb599aaf56f46e3aba2f591a0aed93e": {
          "model_module": "@jupyter-widgets/base",
          "model_name": "LayoutModel",
          "model_module_version": "1.2.0",
          "state": {
            "_model_module": "@jupyter-widgets/base",
            "_model_module_version": "1.2.0",
            "_model_name": "LayoutModel",
            "_view_count": null,
            "_view_module": "@jupyter-widgets/base",
            "_view_module_version": "1.2.0",
            "_view_name": "LayoutView",
            "align_content": null,
            "align_items": null,
            "align_self": null,
            "border": null,
            "bottom": null,
            "display": null,
            "flex": null,
            "flex_flow": null,
            "grid_area": null,
            "grid_auto_columns": null,
            "grid_auto_flow": null,
            "grid_auto_rows": null,
            "grid_column": null,
            "grid_gap": null,
            "grid_row": null,
            "grid_template_areas": null,
            "grid_template_columns": null,
            "grid_template_rows": null,
            "height": null,
            "justify_content": null,
            "justify_items": null,
            "left": null,
            "margin": null,
            "max_height": null,
            "max_width": null,
            "min_height": null,
            "min_width": null,
            "object_fit": null,
            "object_position": null,
            "order": null,
            "overflow": null,
            "overflow_x": null,
            "overflow_y": null,
            "padding": null,
            "right": null,
            "top": null,
            "visibility": null,
            "width": null
          }
        },
        "6bb1df60572a413fa639d5286d495bf9": {
          "model_module": "@jupyter-widgets/base",
          "model_name": "LayoutModel",
          "model_module_version": "1.2.0",
          "state": {
            "_model_module": "@jupyter-widgets/base",
            "_model_module_version": "1.2.0",
            "_model_name": "LayoutModel",
            "_view_count": null,
            "_view_module": "@jupyter-widgets/base",
            "_view_module_version": "1.2.0",
            "_view_name": "LayoutView",
            "align_content": null,
            "align_items": null,
            "align_self": null,
            "border": null,
            "bottom": null,
            "display": null,
            "flex": null,
            "flex_flow": null,
            "grid_area": null,
            "grid_auto_columns": null,
            "grid_auto_flow": null,
            "grid_auto_rows": null,
            "grid_column": null,
            "grid_gap": null,
            "grid_row": null,
            "grid_template_areas": null,
            "grid_template_columns": null,
            "grid_template_rows": null,
            "height": null,
            "justify_content": null,
            "justify_items": null,
            "left": null,
            "margin": null,
            "max_height": null,
            "max_width": null,
            "min_height": null,
            "min_width": null,
            "object_fit": null,
            "object_position": null,
            "order": null,
            "overflow": null,
            "overflow_x": null,
            "overflow_y": null,
            "padding": null,
            "right": null,
            "top": null,
            "visibility": null,
            "width": null
          }
        },
        "dd800053ca3746abaed5afbe31ebe50f": {
          "model_module": "@jupyter-widgets/controls",
          "model_name": "DescriptionStyleModel",
          "model_module_version": "1.5.0",
          "state": {
            "_model_module": "@jupyter-widgets/controls",
            "_model_module_version": "1.5.0",
            "_model_name": "DescriptionStyleModel",
            "_view_count": null,
            "_view_module": "@jupyter-widgets/base",
            "_view_module_version": "1.2.0",
            "_view_name": "StyleView",
            "description_width": ""
          }
        },
        "a35897a1b6ba4ba59903a10cb989ccf4": {
          "model_module": "@jupyter-widgets/base",
          "model_name": "LayoutModel",
          "model_module_version": "1.2.0",
          "state": {
            "_model_module": "@jupyter-widgets/base",
            "_model_module_version": "1.2.0",
            "_model_name": "LayoutModel",
            "_view_count": null,
            "_view_module": "@jupyter-widgets/base",
            "_view_module_version": "1.2.0",
            "_view_name": "LayoutView",
            "align_content": null,
            "align_items": null,
            "align_self": null,
            "border": null,
            "bottom": null,
            "display": null,
            "flex": null,
            "flex_flow": null,
            "grid_area": null,
            "grid_auto_columns": null,
            "grid_auto_flow": null,
            "grid_auto_rows": null,
            "grid_column": null,
            "grid_gap": null,
            "grid_row": null,
            "grid_template_areas": null,
            "grid_template_columns": null,
            "grid_template_rows": null,
            "height": null,
            "justify_content": null,
            "justify_items": null,
            "left": null,
            "margin": null,
            "max_height": null,
            "max_width": null,
            "min_height": null,
            "min_width": null,
            "object_fit": null,
            "object_position": null,
            "order": null,
            "overflow": null,
            "overflow_x": null,
            "overflow_y": null,
            "padding": null,
            "right": null,
            "top": null,
            "visibility": null,
            "width": null
          }
        },
        "66be9b4d43c14c6f84df7249537c88c7": {
          "model_module": "@jupyter-widgets/controls",
          "model_name": "ProgressStyleModel",
          "model_module_version": "1.5.0",
          "state": {
            "_model_module": "@jupyter-widgets/controls",
            "_model_module_version": "1.5.0",
            "_model_name": "ProgressStyleModel",
            "_view_count": null,
            "_view_module": "@jupyter-widgets/base",
            "_view_module_version": "1.2.0",
            "_view_name": "StyleView",
            "bar_color": null,
            "description_width": ""
          }
        },
        "857885feeca44386884d4d07c286562a": {
          "model_module": "@jupyter-widgets/base",
          "model_name": "LayoutModel",
          "model_module_version": "1.2.0",
          "state": {
            "_model_module": "@jupyter-widgets/base",
            "_model_module_version": "1.2.0",
            "_model_name": "LayoutModel",
            "_view_count": null,
            "_view_module": "@jupyter-widgets/base",
            "_view_module_version": "1.2.0",
            "_view_name": "LayoutView",
            "align_content": null,
            "align_items": null,
            "align_self": null,
            "border": null,
            "bottom": null,
            "display": null,
            "flex": null,
            "flex_flow": null,
            "grid_area": null,
            "grid_auto_columns": null,
            "grid_auto_flow": null,
            "grid_auto_rows": null,
            "grid_column": null,
            "grid_gap": null,
            "grid_row": null,
            "grid_template_areas": null,
            "grid_template_columns": null,
            "grid_template_rows": null,
            "height": null,
            "justify_content": null,
            "justify_items": null,
            "left": null,
            "margin": null,
            "max_height": null,
            "max_width": null,
            "min_height": null,
            "min_width": null,
            "object_fit": null,
            "object_position": null,
            "order": null,
            "overflow": null,
            "overflow_x": null,
            "overflow_y": null,
            "padding": null,
            "right": null,
            "top": null,
            "visibility": null,
            "width": null
          }
        },
        "96818eba610c47fdbc7e1aaaf297e414": {
          "model_module": "@jupyter-widgets/controls",
          "model_name": "DescriptionStyleModel",
          "model_module_version": "1.5.0",
          "state": {
            "_model_module": "@jupyter-widgets/controls",
            "_model_module_version": "1.5.0",
            "_model_name": "DescriptionStyleModel",
            "_view_count": null,
            "_view_module": "@jupyter-widgets/base",
            "_view_module_version": "1.2.0",
            "_view_name": "StyleView",
            "description_width": ""
          }
        },
        "9a02d7c9005a49f0b4e10c068bf2e229": {
          "model_module": "@jupyter-widgets/controls",
          "model_name": "HBoxModel",
          "model_module_version": "1.5.0",
          "state": {
            "_dom_classes": [],
            "_model_module": "@jupyter-widgets/controls",
            "_model_module_version": "1.5.0",
            "_model_name": "HBoxModel",
            "_view_count": null,
            "_view_module": "@jupyter-widgets/controls",
            "_view_module_version": "1.5.0",
            "_view_name": "HBoxView",
            "box_style": "",
            "children": [
              "IPY_MODEL_d18ebd698a8741c9888ca7423d9a405a",
              "IPY_MODEL_92c68ff2c91b4944b57fcf4eabda8851",
              "IPY_MODEL_c075891ecbc44ae494eb684050f7c072"
            ],
            "layout": "IPY_MODEL_b50903d0d9944ae0903110bd978e06a3"
          }
        },
        "d18ebd698a8741c9888ca7423d9a405a": {
          "model_module": "@jupyter-widgets/controls",
          "model_name": "HTMLModel",
          "model_module_version": "1.5.0",
          "state": {
            "_dom_classes": [],
            "_model_module": "@jupyter-widgets/controls",
            "_model_module_version": "1.5.0",
            "_model_name": "HTMLModel",
            "_view_count": null,
            "_view_module": "@jupyter-widgets/controls",
            "_view_module_version": "1.5.0",
            "_view_name": "HTMLView",
            "description": "",
            "description_tooltip": null,
            "layout": "IPY_MODEL_fff493d6183946aaab4d9809140ffc7b",
            "placeholder": "​",
            "style": "IPY_MODEL_3a99e9021b3f41bf858aa9556f171542",
            "value": "Downloading: 100%"
          }
        },
        "92c68ff2c91b4944b57fcf4eabda8851": {
          "model_module": "@jupyter-widgets/controls",
          "model_name": "FloatProgressModel",
          "model_module_version": "1.5.0",
          "state": {
            "_dom_classes": [],
            "_model_module": "@jupyter-widgets/controls",
            "_model_module_version": "1.5.0",
            "_model_name": "FloatProgressModel",
            "_view_count": null,
            "_view_module": "@jupyter-widgets/controls",
            "_view_module_version": "1.5.0",
            "_view_name": "ProgressView",
            "bar_style": "success",
            "description": "",
            "description_tooltip": null,
            "layout": "IPY_MODEL_7613a15b81414ce890daf813f015f706",
            "max": 231508,
            "min": 0,
            "orientation": "horizontal",
            "style": "IPY_MODEL_da36eb88eb7e4e01975452f1fcb57a49",
            "value": 231508
          }
        },
        "c075891ecbc44ae494eb684050f7c072": {
          "model_module": "@jupyter-widgets/controls",
          "model_name": "HTMLModel",
          "model_module_version": "1.5.0",
          "state": {
            "_dom_classes": [],
            "_model_module": "@jupyter-widgets/controls",
            "_model_module_version": "1.5.0",
            "_model_name": "HTMLModel",
            "_view_count": null,
            "_view_module": "@jupyter-widgets/controls",
            "_view_module_version": "1.5.0",
            "_view_name": "HTMLView",
            "description": "",
            "description_tooltip": null,
            "layout": "IPY_MODEL_adc74f861e904e3981891b4af6ac2769",
            "placeholder": "​",
            "style": "IPY_MODEL_f818b7ef059b44ecb888bfee8b58c82a",
            "value": " 232k/232k [00:00&lt;00:00, 1.90MB/s]"
          }
        },
        "b50903d0d9944ae0903110bd978e06a3": {
          "model_module": "@jupyter-widgets/base",
          "model_name": "LayoutModel",
          "model_module_version": "1.2.0",
          "state": {
            "_model_module": "@jupyter-widgets/base",
            "_model_module_version": "1.2.0",
            "_model_name": "LayoutModel",
            "_view_count": null,
            "_view_module": "@jupyter-widgets/base",
            "_view_module_version": "1.2.0",
            "_view_name": "LayoutView",
            "align_content": null,
            "align_items": null,
            "align_self": null,
            "border": null,
            "bottom": null,
            "display": null,
            "flex": null,
            "flex_flow": null,
            "grid_area": null,
            "grid_auto_columns": null,
            "grid_auto_flow": null,
            "grid_auto_rows": null,
            "grid_column": null,
            "grid_gap": null,
            "grid_row": null,
            "grid_template_areas": null,
            "grid_template_columns": null,
            "grid_template_rows": null,
            "height": null,
            "justify_content": null,
            "justify_items": null,
            "left": null,
            "margin": null,
            "max_height": null,
            "max_width": null,
            "min_height": null,
            "min_width": null,
            "object_fit": null,
            "object_position": null,
            "order": null,
            "overflow": null,
            "overflow_x": null,
            "overflow_y": null,
            "padding": null,
            "right": null,
            "top": null,
            "visibility": null,
            "width": null
          }
        },
        "fff493d6183946aaab4d9809140ffc7b": {
          "model_module": "@jupyter-widgets/base",
          "model_name": "LayoutModel",
          "model_module_version": "1.2.0",
          "state": {
            "_model_module": "@jupyter-widgets/base",
            "_model_module_version": "1.2.0",
            "_model_name": "LayoutModel",
            "_view_count": null,
            "_view_module": "@jupyter-widgets/base",
            "_view_module_version": "1.2.0",
            "_view_name": "LayoutView",
            "align_content": null,
            "align_items": null,
            "align_self": null,
            "border": null,
            "bottom": null,
            "display": null,
            "flex": null,
            "flex_flow": null,
            "grid_area": null,
            "grid_auto_columns": null,
            "grid_auto_flow": null,
            "grid_auto_rows": null,
            "grid_column": null,
            "grid_gap": null,
            "grid_row": null,
            "grid_template_areas": null,
            "grid_template_columns": null,
            "grid_template_rows": null,
            "height": null,
            "justify_content": null,
            "justify_items": null,
            "left": null,
            "margin": null,
            "max_height": null,
            "max_width": null,
            "min_height": null,
            "min_width": null,
            "object_fit": null,
            "object_position": null,
            "order": null,
            "overflow": null,
            "overflow_x": null,
            "overflow_y": null,
            "padding": null,
            "right": null,
            "top": null,
            "visibility": null,
            "width": null
          }
        },
        "3a99e9021b3f41bf858aa9556f171542": {
          "model_module": "@jupyter-widgets/controls",
          "model_name": "DescriptionStyleModel",
          "model_module_version": "1.5.0",
          "state": {
            "_model_module": "@jupyter-widgets/controls",
            "_model_module_version": "1.5.0",
            "_model_name": "DescriptionStyleModel",
            "_view_count": null,
            "_view_module": "@jupyter-widgets/base",
            "_view_module_version": "1.2.0",
            "_view_name": "StyleView",
            "description_width": ""
          }
        },
        "7613a15b81414ce890daf813f015f706": {
          "model_module": "@jupyter-widgets/base",
          "model_name": "LayoutModel",
          "model_module_version": "1.2.0",
          "state": {
            "_model_module": "@jupyter-widgets/base",
            "_model_module_version": "1.2.0",
            "_model_name": "LayoutModel",
            "_view_count": null,
            "_view_module": "@jupyter-widgets/base",
            "_view_module_version": "1.2.0",
            "_view_name": "LayoutView",
            "align_content": null,
            "align_items": null,
            "align_self": null,
            "border": null,
            "bottom": null,
            "display": null,
            "flex": null,
            "flex_flow": null,
            "grid_area": null,
            "grid_auto_columns": null,
            "grid_auto_flow": null,
            "grid_auto_rows": null,
            "grid_column": null,
            "grid_gap": null,
            "grid_row": null,
            "grid_template_areas": null,
            "grid_template_columns": null,
            "grid_template_rows": null,
            "height": null,
            "justify_content": null,
            "justify_items": null,
            "left": null,
            "margin": null,
            "max_height": null,
            "max_width": null,
            "min_height": null,
            "min_width": null,
            "object_fit": null,
            "object_position": null,
            "order": null,
            "overflow": null,
            "overflow_x": null,
            "overflow_y": null,
            "padding": null,
            "right": null,
            "top": null,
            "visibility": null,
            "width": null
          }
        },
        "da36eb88eb7e4e01975452f1fcb57a49": {
          "model_module": "@jupyter-widgets/controls",
          "model_name": "ProgressStyleModel",
          "model_module_version": "1.5.0",
          "state": {
            "_model_module": "@jupyter-widgets/controls",
            "_model_module_version": "1.5.0",
            "_model_name": "ProgressStyleModel",
            "_view_count": null,
            "_view_module": "@jupyter-widgets/base",
            "_view_module_version": "1.2.0",
            "_view_name": "StyleView",
            "bar_color": null,
            "description_width": ""
          }
        },
        "adc74f861e904e3981891b4af6ac2769": {
          "model_module": "@jupyter-widgets/base",
          "model_name": "LayoutModel",
          "model_module_version": "1.2.0",
          "state": {
            "_model_module": "@jupyter-widgets/base",
            "_model_module_version": "1.2.0",
            "_model_name": "LayoutModel",
            "_view_count": null,
            "_view_module": "@jupyter-widgets/base",
            "_view_module_version": "1.2.0",
            "_view_name": "LayoutView",
            "align_content": null,
            "align_items": null,
            "align_self": null,
            "border": null,
            "bottom": null,
            "display": null,
            "flex": null,
            "flex_flow": null,
            "grid_area": null,
            "grid_auto_columns": null,
            "grid_auto_flow": null,
            "grid_auto_rows": null,
            "grid_column": null,
            "grid_gap": null,
            "grid_row": null,
            "grid_template_areas": null,
            "grid_template_columns": null,
            "grid_template_rows": null,
            "height": null,
            "justify_content": null,
            "justify_items": null,
            "left": null,
            "margin": null,
            "max_height": null,
            "max_width": null,
            "min_height": null,
            "min_width": null,
            "object_fit": null,
            "object_position": null,
            "order": null,
            "overflow": null,
            "overflow_x": null,
            "overflow_y": null,
            "padding": null,
            "right": null,
            "top": null,
            "visibility": null,
            "width": null
          }
        },
        "f818b7ef059b44ecb888bfee8b58c82a": {
          "model_module": "@jupyter-widgets/controls",
          "model_name": "DescriptionStyleModel",
          "model_module_version": "1.5.0",
          "state": {
            "_model_module": "@jupyter-widgets/controls",
            "_model_module_version": "1.5.0",
            "_model_name": "DescriptionStyleModel",
            "_view_count": null,
            "_view_module": "@jupyter-widgets/base",
            "_view_module_version": "1.2.0",
            "_view_name": "StyleView",
            "description_width": ""
          }
        },
        "a45b009e0492484d84dbdaca9f0da38b": {
          "model_module": "@jupyter-widgets/controls",
          "model_name": "HBoxModel",
          "model_module_version": "1.5.0",
          "state": {
            "_dom_classes": [],
            "_model_module": "@jupyter-widgets/controls",
            "_model_module_version": "1.5.0",
            "_model_name": "HBoxModel",
            "_view_count": null,
            "_view_module": "@jupyter-widgets/controls",
            "_view_module_version": "1.5.0",
            "_view_name": "HBoxView",
            "box_style": "",
            "children": [
              "IPY_MODEL_cfe2b636426644dd91fe2caaf1c52e4b",
              "IPY_MODEL_9d890cd2d6394f44bd319f937e80a3b7",
              "IPY_MODEL_53f1339749424ccf83cb0c734fafe95b"
            ],
            "layout": "IPY_MODEL_5400ce4e8ac141269bdcc01025b4080e"
          }
        },
        "cfe2b636426644dd91fe2caaf1c52e4b": {
          "model_module": "@jupyter-widgets/controls",
          "model_name": "HTMLModel",
          "model_module_version": "1.5.0",
          "state": {
            "_dom_classes": [],
            "_model_module": "@jupyter-widgets/controls",
            "_model_module_version": "1.5.0",
            "_model_name": "HTMLModel",
            "_view_count": null,
            "_view_module": "@jupyter-widgets/controls",
            "_view_module_version": "1.5.0",
            "_view_name": "HTMLView",
            "description": "",
            "description_tooltip": null,
            "layout": "IPY_MODEL_f8d35957158741279fd7c14e475f3318",
            "placeholder": "​",
            "style": "IPY_MODEL_92115770b85f43e78639848cd015229b",
            "value": "Downloading: 100%"
          }
        },
        "9d890cd2d6394f44bd319f937e80a3b7": {
          "model_module": "@jupyter-widgets/controls",
          "model_name": "FloatProgressModel",
          "model_module_version": "1.5.0",
          "state": {
            "_dom_classes": [],
            "_model_module": "@jupyter-widgets/controls",
            "_model_module_version": "1.5.0",
            "_model_name": "FloatProgressModel",
            "_view_count": null,
            "_view_module": "@jupyter-widgets/controls",
            "_view_module_version": "1.5.0",
            "_view_name": "ProgressView",
            "bar_style": "success",
            "description": "",
            "description_tooltip": null,
            "layout": "IPY_MODEL_8f66644b7fc040a3b57f14d7e64b8231",
            "max": 28,
            "min": 0,
            "orientation": "horizontal",
            "style": "IPY_MODEL_38f29f53af634fbe98b0f0696c37a146",
            "value": 28
          }
        },
        "53f1339749424ccf83cb0c734fafe95b": {
          "model_module": "@jupyter-widgets/controls",
          "model_name": "HTMLModel",
          "model_module_version": "1.5.0",
          "state": {
            "_dom_classes": [],
            "_model_module": "@jupyter-widgets/controls",
            "_model_module_version": "1.5.0",
            "_model_name": "HTMLModel",
            "_view_count": null,
            "_view_module": "@jupyter-widgets/controls",
            "_view_module_version": "1.5.0",
            "_view_name": "HTMLView",
            "description": "",
            "description_tooltip": null,
            "layout": "IPY_MODEL_a790bdeeac9c4253975d83c4486716be",
            "placeholder": "​",
            "style": "IPY_MODEL_67ed7c6c4dd84cffbc13ed284dc15a2f",
            "value": " 28.0/28.0 [00:00&lt;00:00, 840B/s]"
          }
        },
        "5400ce4e8ac141269bdcc01025b4080e": {
          "model_module": "@jupyter-widgets/base",
          "model_name": "LayoutModel",
          "model_module_version": "1.2.0",
          "state": {
            "_model_module": "@jupyter-widgets/base",
            "_model_module_version": "1.2.0",
            "_model_name": "LayoutModel",
            "_view_count": null,
            "_view_module": "@jupyter-widgets/base",
            "_view_module_version": "1.2.0",
            "_view_name": "LayoutView",
            "align_content": null,
            "align_items": null,
            "align_self": null,
            "border": null,
            "bottom": null,
            "display": null,
            "flex": null,
            "flex_flow": null,
            "grid_area": null,
            "grid_auto_columns": null,
            "grid_auto_flow": null,
            "grid_auto_rows": null,
            "grid_column": null,
            "grid_gap": null,
            "grid_row": null,
            "grid_template_areas": null,
            "grid_template_columns": null,
            "grid_template_rows": null,
            "height": null,
            "justify_content": null,
            "justify_items": null,
            "left": null,
            "margin": null,
            "max_height": null,
            "max_width": null,
            "min_height": null,
            "min_width": null,
            "object_fit": null,
            "object_position": null,
            "order": null,
            "overflow": null,
            "overflow_x": null,
            "overflow_y": null,
            "padding": null,
            "right": null,
            "top": null,
            "visibility": null,
            "width": null
          }
        },
        "f8d35957158741279fd7c14e475f3318": {
          "model_module": "@jupyter-widgets/base",
          "model_name": "LayoutModel",
          "model_module_version": "1.2.0",
          "state": {
            "_model_module": "@jupyter-widgets/base",
            "_model_module_version": "1.2.0",
            "_model_name": "LayoutModel",
            "_view_count": null,
            "_view_module": "@jupyter-widgets/base",
            "_view_module_version": "1.2.0",
            "_view_name": "LayoutView",
            "align_content": null,
            "align_items": null,
            "align_self": null,
            "border": null,
            "bottom": null,
            "display": null,
            "flex": null,
            "flex_flow": null,
            "grid_area": null,
            "grid_auto_columns": null,
            "grid_auto_flow": null,
            "grid_auto_rows": null,
            "grid_column": null,
            "grid_gap": null,
            "grid_row": null,
            "grid_template_areas": null,
            "grid_template_columns": null,
            "grid_template_rows": null,
            "height": null,
            "justify_content": null,
            "justify_items": null,
            "left": null,
            "margin": null,
            "max_height": null,
            "max_width": null,
            "min_height": null,
            "min_width": null,
            "object_fit": null,
            "object_position": null,
            "order": null,
            "overflow": null,
            "overflow_x": null,
            "overflow_y": null,
            "padding": null,
            "right": null,
            "top": null,
            "visibility": null,
            "width": null
          }
        },
        "92115770b85f43e78639848cd015229b": {
          "model_module": "@jupyter-widgets/controls",
          "model_name": "DescriptionStyleModel",
          "model_module_version": "1.5.0",
          "state": {
            "_model_module": "@jupyter-widgets/controls",
            "_model_module_version": "1.5.0",
            "_model_name": "DescriptionStyleModel",
            "_view_count": null,
            "_view_module": "@jupyter-widgets/base",
            "_view_module_version": "1.2.0",
            "_view_name": "StyleView",
            "description_width": ""
          }
        },
        "8f66644b7fc040a3b57f14d7e64b8231": {
          "model_module": "@jupyter-widgets/base",
          "model_name": "LayoutModel",
          "model_module_version": "1.2.0",
          "state": {
            "_model_module": "@jupyter-widgets/base",
            "_model_module_version": "1.2.0",
            "_model_name": "LayoutModel",
            "_view_count": null,
            "_view_module": "@jupyter-widgets/base",
            "_view_module_version": "1.2.0",
            "_view_name": "LayoutView",
            "align_content": null,
            "align_items": null,
            "align_self": null,
            "border": null,
            "bottom": null,
            "display": null,
            "flex": null,
            "flex_flow": null,
            "grid_area": null,
            "grid_auto_columns": null,
            "grid_auto_flow": null,
            "grid_auto_rows": null,
            "grid_column": null,
            "grid_gap": null,
            "grid_row": null,
            "grid_template_areas": null,
            "grid_template_columns": null,
            "grid_template_rows": null,
            "height": null,
            "justify_content": null,
            "justify_items": null,
            "left": null,
            "margin": null,
            "max_height": null,
            "max_width": null,
            "min_height": null,
            "min_width": null,
            "object_fit": null,
            "object_position": null,
            "order": null,
            "overflow": null,
            "overflow_x": null,
            "overflow_y": null,
            "padding": null,
            "right": null,
            "top": null,
            "visibility": null,
            "width": null
          }
        },
        "38f29f53af634fbe98b0f0696c37a146": {
          "model_module": "@jupyter-widgets/controls",
          "model_name": "ProgressStyleModel",
          "model_module_version": "1.5.0",
          "state": {
            "_model_module": "@jupyter-widgets/controls",
            "_model_module_version": "1.5.0",
            "_model_name": "ProgressStyleModel",
            "_view_count": null,
            "_view_module": "@jupyter-widgets/base",
            "_view_module_version": "1.2.0",
            "_view_name": "StyleView",
            "bar_color": null,
            "description_width": ""
          }
        },
        "a790bdeeac9c4253975d83c4486716be": {
          "model_module": "@jupyter-widgets/base",
          "model_name": "LayoutModel",
          "model_module_version": "1.2.0",
          "state": {
            "_model_module": "@jupyter-widgets/base",
            "_model_module_version": "1.2.0",
            "_model_name": "LayoutModel",
            "_view_count": null,
            "_view_module": "@jupyter-widgets/base",
            "_view_module_version": "1.2.0",
            "_view_name": "LayoutView",
            "align_content": null,
            "align_items": null,
            "align_self": null,
            "border": null,
            "bottom": null,
            "display": null,
            "flex": null,
            "flex_flow": null,
            "grid_area": null,
            "grid_auto_columns": null,
            "grid_auto_flow": null,
            "grid_auto_rows": null,
            "grid_column": null,
            "grid_gap": null,
            "grid_row": null,
            "grid_template_areas": null,
            "grid_template_columns": null,
            "grid_template_rows": null,
            "height": null,
            "justify_content": null,
            "justify_items": null,
            "left": null,
            "margin": null,
            "max_height": null,
            "max_width": null,
            "min_height": null,
            "min_width": null,
            "object_fit": null,
            "object_position": null,
            "order": null,
            "overflow": null,
            "overflow_x": null,
            "overflow_y": null,
            "padding": null,
            "right": null,
            "top": null,
            "visibility": null,
            "width": null
          }
        },
        "67ed7c6c4dd84cffbc13ed284dc15a2f": {
          "model_module": "@jupyter-widgets/controls",
          "model_name": "DescriptionStyleModel",
          "model_module_version": "1.5.0",
          "state": {
            "_model_module": "@jupyter-widgets/controls",
            "_model_module_version": "1.5.0",
            "_model_name": "DescriptionStyleModel",
            "_view_count": null,
            "_view_module": "@jupyter-widgets/base",
            "_view_module_version": "1.2.0",
            "_view_name": "StyleView",
            "description_width": ""
          }
        },
        "bf469b80ae1141868c47e3ec64919e07": {
          "model_module": "@jupyter-widgets/controls",
          "model_name": "HBoxModel",
          "model_module_version": "1.5.0",
          "state": {
            "_dom_classes": [],
            "_model_module": "@jupyter-widgets/controls",
            "_model_module_version": "1.5.0",
            "_model_name": "HBoxModel",
            "_view_count": null,
            "_view_module": "@jupyter-widgets/controls",
            "_view_module_version": "1.5.0",
            "_view_name": "HBoxView",
            "box_style": "",
            "children": [
              "IPY_MODEL_a907f6ce30ea4346a4cf66111c3e36f0",
              "IPY_MODEL_9b9bad81ff8045d0bb098dbdae82aac9",
              "IPY_MODEL_67b93ccc278c4a78938847b0b2f926de"
            ],
            "layout": "IPY_MODEL_3212229e7dcd4cc0b2a38d9cf04886ef"
          }
        },
        "a907f6ce30ea4346a4cf66111c3e36f0": {
          "model_module": "@jupyter-widgets/controls",
          "model_name": "HTMLModel",
          "model_module_version": "1.5.0",
          "state": {
            "_dom_classes": [],
            "_model_module": "@jupyter-widgets/controls",
            "_model_module_version": "1.5.0",
            "_model_name": "HTMLModel",
            "_view_count": null,
            "_view_module": "@jupyter-widgets/controls",
            "_view_module_version": "1.5.0",
            "_view_name": "HTMLView",
            "description": "",
            "description_tooltip": null,
            "layout": "IPY_MODEL_2d6eb7f971784db2b07eddd01fdeffea",
            "placeholder": "​",
            "style": "IPY_MODEL_c2334c16e1f04b9f84d0365fc1045315",
            "value": "Downloading: 100%"
          }
        },
        "9b9bad81ff8045d0bb098dbdae82aac9": {
          "model_module": "@jupyter-widgets/controls",
          "model_name": "FloatProgressModel",
          "model_module_version": "1.5.0",
          "state": {
            "_dom_classes": [],
            "_model_module": "@jupyter-widgets/controls",
            "_model_module_version": "1.5.0",
            "_model_name": "FloatProgressModel",
            "_view_count": null,
            "_view_module": "@jupyter-widgets/controls",
            "_view_module_version": "1.5.0",
            "_view_name": "ProgressView",
            "bar_style": "success",
            "description": "",
            "description_tooltip": null,
            "layout": "IPY_MODEL_4e962a2ba9924ce59d83d2d3dc79e377",
            "max": 533,
            "min": 0,
            "orientation": "horizontal",
            "style": "IPY_MODEL_cbe7a050409143fab7b4bdfce1918166",
            "value": 533
          }
        },
        "67b93ccc278c4a78938847b0b2f926de": {
          "model_module": "@jupyter-widgets/controls",
          "model_name": "HTMLModel",
          "model_module_version": "1.5.0",
          "state": {
            "_dom_classes": [],
            "_model_module": "@jupyter-widgets/controls",
            "_model_module_version": "1.5.0",
            "_model_name": "HTMLModel",
            "_view_count": null,
            "_view_module": "@jupyter-widgets/controls",
            "_view_module_version": "1.5.0",
            "_view_name": "HTMLView",
            "description": "",
            "description_tooltip": null,
            "layout": "IPY_MODEL_75a5aefa88e8474386a3b3c6baa25f4c",
            "placeholder": "​",
            "style": "IPY_MODEL_a93b290800554be6a7e7b0bdc83a8893",
            "value": " 533/533 [00:00&lt;00:00, 12.9kB/s]"
          }
        },
        "3212229e7dcd4cc0b2a38d9cf04886ef": {
          "model_module": "@jupyter-widgets/base",
          "model_name": "LayoutModel",
          "model_module_version": "1.2.0",
          "state": {
            "_model_module": "@jupyter-widgets/base",
            "_model_module_version": "1.2.0",
            "_model_name": "LayoutModel",
            "_view_count": null,
            "_view_module": "@jupyter-widgets/base",
            "_view_module_version": "1.2.0",
            "_view_name": "LayoutView",
            "align_content": null,
            "align_items": null,
            "align_self": null,
            "border": null,
            "bottom": null,
            "display": null,
            "flex": null,
            "flex_flow": null,
            "grid_area": null,
            "grid_auto_columns": null,
            "grid_auto_flow": null,
            "grid_auto_rows": null,
            "grid_column": null,
            "grid_gap": null,
            "grid_row": null,
            "grid_template_areas": null,
            "grid_template_columns": null,
            "grid_template_rows": null,
            "height": null,
            "justify_content": null,
            "justify_items": null,
            "left": null,
            "margin": null,
            "max_height": null,
            "max_width": null,
            "min_height": null,
            "min_width": null,
            "object_fit": null,
            "object_position": null,
            "order": null,
            "overflow": null,
            "overflow_x": null,
            "overflow_y": null,
            "padding": null,
            "right": null,
            "top": null,
            "visibility": null,
            "width": null
          }
        },
        "2d6eb7f971784db2b07eddd01fdeffea": {
          "model_module": "@jupyter-widgets/base",
          "model_name": "LayoutModel",
          "model_module_version": "1.2.0",
          "state": {
            "_model_module": "@jupyter-widgets/base",
            "_model_module_version": "1.2.0",
            "_model_name": "LayoutModel",
            "_view_count": null,
            "_view_module": "@jupyter-widgets/base",
            "_view_module_version": "1.2.0",
            "_view_name": "LayoutView",
            "align_content": null,
            "align_items": null,
            "align_self": null,
            "border": null,
            "bottom": null,
            "display": null,
            "flex": null,
            "flex_flow": null,
            "grid_area": null,
            "grid_auto_columns": null,
            "grid_auto_flow": null,
            "grid_auto_rows": null,
            "grid_column": null,
            "grid_gap": null,
            "grid_row": null,
            "grid_template_areas": null,
            "grid_template_columns": null,
            "grid_template_rows": null,
            "height": null,
            "justify_content": null,
            "justify_items": null,
            "left": null,
            "margin": null,
            "max_height": null,
            "max_width": null,
            "min_height": null,
            "min_width": null,
            "object_fit": null,
            "object_position": null,
            "order": null,
            "overflow": null,
            "overflow_x": null,
            "overflow_y": null,
            "padding": null,
            "right": null,
            "top": null,
            "visibility": null,
            "width": null
          }
        },
        "c2334c16e1f04b9f84d0365fc1045315": {
          "model_module": "@jupyter-widgets/controls",
          "model_name": "DescriptionStyleModel",
          "model_module_version": "1.5.0",
          "state": {
            "_model_module": "@jupyter-widgets/controls",
            "_model_module_version": "1.5.0",
            "_model_name": "DescriptionStyleModel",
            "_view_count": null,
            "_view_module": "@jupyter-widgets/base",
            "_view_module_version": "1.2.0",
            "_view_name": "StyleView",
            "description_width": ""
          }
        },
        "4e962a2ba9924ce59d83d2d3dc79e377": {
          "model_module": "@jupyter-widgets/base",
          "model_name": "LayoutModel",
          "model_module_version": "1.2.0",
          "state": {
            "_model_module": "@jupyter-widgets/base",
            "_model_module_version": "1.2.0",
            "_model_name": "LayoutModel",
            "_view_count": null,
            "_view_module": "@jupyter-widgets/base",
            "_view_module_version": "1.2.0",
            "_view_name": "LayoutView",
            "align_content": null,
            "align_items": null,
            "align_self": null,
            "border": null,
            "bottom": null,
            "display": null,
            "flex": null,
            "flex_flow": null,
            "grid_area": null,
            "grid_auto_columns": null,
            "grid_auto_flow": null,
            "grid_auto_rows": null,
            "grid_column": null,
            "grid_gap": null,
            "grid_row": null,
            "grid_template_areas": null,
            "grid_template_columns": null,
            "grid_template_rows": null,
            "height": null,
            "justify_content": null,
            "justify_items": null,
            "left": null,
            "margin": null,
            "max_height": null,
            "max_width": null,
            "min_height": null,
            "min_width": null,
            "object_fit": null,
            "object_position": null,
            "order": null,
            "overflow": null,
            "overflow_x": null,
            "overflow_y": null,
            "padding": null,
            "right": null,
            "top": null,
            "visibility": null,
            "width": null
          }
        },
        "cbe7a050409143fab7b4bdfce1918166": {
          "model_module": "@jupyter-widgets/controls",
          "model_name": "ProgressStyleModel",
          "model_module_version": "1.5.0",
          "state": {
            "_model_module": "@jupyter-widgets/controls",
            "_model_module_version": "1.5.0",
            "_model_name": "ProgressStyleModel",
            "_view_count": null,
            "_view_module": "@jupyter-widgets/base",
            "_view_module_version": "1.2.0",
            "_view_name": "StyleView",
            "bar_color": null,
            "description_width": ""
          }
        },
        "75a5aefa88e8474386a3b3c6baa25f4c": {
          "model_module": "@jupyter-widgets/base",
          "model_name": "LayoutModel",
          "model_module_version": "1.2.0",
          "state": {
            "_model_module": "@jupyter-widgets/base",
            "_model_module_version": "1.2.0",
            "_model_name": "LayoutModel",
            "_view_count": null,
            "_view_module": "@jupyter-widgets/base",
            "_view_module_version": "1.2.0",
            "_view_name": "LayoutView",
            "align_content": null,
            "align_items": null,
            "align_self": null,
            "border": null,
            "bottom": null,
            "display": null,
            "flex": null,
            "flex_flow": null,
            "grid_area": null,
            "grid_auto_columns": null,
            "grid_auto_flow": null,
            "grid_auto_rows": null,
            "grid_column": null,
            "grid_gap": null,
            "grid_row": null,
            "grid_template_areas": null,
            "grid_template_columns": null,
            "grid_template_rows": null,
            "height": null,
            "justify_content": null,
            "justify_items": null,
            "left": null,
            "margin": null,
            "max_height": null,
            "max_width": null,
            "min_height": null,
            "min_width": null,
            "object_fit": null,
            "object_position": null,
            "order": null,
            "overflow": null,
            "overflow_x": null,
            "overflow_y": null,
            "padding": null,
            "right": null,
            "top": null,
            "visibility": null,
            "width": null
          }
        },
        "a93b290800554be6a7e7b0bdc83a8893": {
          "model_module": "@jupyter-widgets/controls",
          "model_name": "DescriptionStyleModel",
          "model_module_version": "1.5.0",
          "state": {
            "_model_module": "@jupyter-widgets/controls",
            "_model_module_version": "1.5.0",
            "_model_name": "DescriptionStyleModel",
            "_view_count": null,
            "_view_module": "@jupyter-widgets/base",
            "_view_module_version": "1.2.0",
            "_view_name": "StyleView",
            "description_width": ""
          }
        },
        "92b2f7f9b7dc47ba9f0d6de76a19c757": {
          "model_module": "@jupyter-widgets/controls",
          "model_name": "HBoxModel",
          "model_module_version": "1.5.0",
          "state": {
            "_dom_classes": [],
            "_model_module": "@jupyter-widgets/controls",
            "_model_module_version": "1.5.0",
            "_model_name": "HBoxModel",
            "_view_count": null,
            "_view_module": "@jupyter-widgets/controls",
            "_view_module_version": "1.5.0",
            "_view_name": "HBoxView",
            "box_style": "",
            "children": [
              "IPY_MODEL_495d5e0da5d94d5dadf1b65e9e1c32be",
              "IPY_MODEL_9071737a209742b9b213a4e63996c1ed",
              "IPY_MODEL_56b8c118fc864b1cbe1e5df41072aa54"
            ],
            "layout": "IPY_MODEL_ea70d4357f3b4abcbfe7e698530c2b9a"
          }
        },
        "495d5e0da5d94d5dadf1b65e9e1c32be": {
          "model_module": "@jupyter-widgets/controls",
          "model_name": "HTMLModel",
          "model_module_version": "1.5.0",
          "state": {
            "_dom_classes": [],
            "_model_module": "@jupyter-widgets/controls",
            "_model_module_version": "1.5.0",
            "_model_name": "HTMLModel",
            "_view_count": null,
            "_view_module": "@jupyter-widgets/controls",
            "_view_module_version": "1.5.0",
            "_view_name": "HTMLView",
            "description": "",
            "description_tooltip": null,
            "layout": "IPY_MODEL_8f24c198dfaa47bb9ea2df9b0cd3e82d",
            "placeholder": "​",
            "style": "IPY_MODEL_ae35c997974c4cecbdd9fab9377cebd4",
            "value": "Downloading: 100%"
          }
        },
        "9071737a209742b9b213a4e63996c1ed": {
          "model_module": "@jupyter-widgets/controls",
          "model_name": "FloatProgressModel",
          "model_module_version": "1.5.0",
          "state": {
            "_dom_classes": [],
            "_model_module": "@jupyter-widgets/controls",
            "_model_module_version": "1.5.0",
            "_model_name": "FloatProgressModel",
            "_view_count": null,
            "_view_module": "@jupyter-widgets/controls",
            "_view_module_version": "1.5.0",
            "_view_name": "ProgressView",
            "bar_style": "success",
            "description": "",
            "description_tooltip": null,
            "layout": "IPY_MODEL_cf9284a339754e40a165935839c404b0",
            "max": 439101405,
            "min": 0,
            "orientation": "horizontal",
            "style": "IPY_MODEL_049095ec6fa742568428aa8e0daac8d8",
            "value": 439101405
          }
        },
        "56b8c118fc864b1cbe1e5df41072aa54": {
          "model_module": "@jupyter-widgets/controls",
          "model_name": "HTMLModel",
          "model_module_version": "1.5.0",
          "state": {
            "_dom_classes": [],
            "_model_module": "@jupyter-widgets/controls",
            "_model_module_version": "1.5.0",
            "_model_name": "HTMLModel",
            "_view_count": null,
            "_view_module": "@jupyter-widgets/controls",
            "_view_module_version": "1.5.0",
            "_view_name": "HTMLView",
            "description": "",
            "description_tooltip": null,
            "layout": "IPY_MODEL_b1430c2f78a344dcb3e87be76d08ebcd",
            "placeholder": "​",
            "style": "IPY_MODEL_8aaad63b0a42408d8e51dc05327b6c77",
            "value": " 439M/439M [00:10&lt;00:00, 39.4MB/s]"
          }
        },
        "ea70d4357f3b4abcbfe7e698530c2b9a": {
          "model_module": "@jupyter-widgets/base",
          "model_name": "LayoutModel",
          "model_module_version": "1.2.0",
          "state": {
            "_model_module": "@jupyter-widgets/base",
            "_model_module_version": "1.2.0",
            "_model_name": "LayoutModel",
            "_view_count": null,
            "_view_module": "@jupyter-widgets/base",
            "_view_module_version": "1.2.0",
            "_view_name": "LayoutView",
            "align_content": null,
            "align_items": null,
            "align_self": null,
            "border": null,
            "bottom": null,
            "display": null,
            "flex": null,
            "flex_flow": null,
            "grid_area": null,
            "grid_auto_columns": null,
            "grid_auto_flow": null,
            "grid_auto_rows": null,
            "grid_column": null,
            "grid_gap": null,
            "grid_row": null,
            "grid_template_areas": null,
            "grid_template_columns": null,
            "grid_template_rows": null,
            "height": null,
            "justify_content": null,
            "justify_items": null,
            "left": null,
            "margin": null,
            "max_height": null,
            "max_width": null,
            "min_height": null,
            "min_width": null,
            "object_fit": null,
            "object_position": null,
            "order": null,
            "overflow": null,
            "overflow_x": null,
            "overflow_y": null,
            "padding": null,
            "right": null,
            "top": null,
            "visibility": null,
            "width": null
          }
        },
        "8f24c198dfaa47bb9ea2df9b0cd3e82d": {
          "model_module": "@jupyter-widgets/base",
          "model_name": "LayoutModel",
          "model_module_version": "1.2.0",
          "state": {
            "_model_module": "@jupyter-widgets/base",
            "_model_module_version": "1.2.0",
            "_model_name": "LayoutModel",
            "_view_count": null,
            "_view_module": "@jupyter-widgets/base",
            "_view_module_version": "1.2.0",
            "_view_name": "LayoutView",
            "align_content": null,
            "align_items": null,
            "align_self": null,
            "border": null,
            "bottom": null,
            "display": null,
            "flex": null,
            "flex_flow": null,
            "grid_area": null,
            "grid_auto_columns": null,
            "grid_auto_flow": null,
            "grid_auto_rows": null,
            "grid_column": null,
            "grid_gap": null,
            "grid_row": null,
            "grid_template_areas": null,
            "grid_template_columns": null,
            "grid_template_rows": null,
            "height": null,
            "justify_content": null,
            "justify_items": null,
            "left": null,
            "margin": null,
            "max_height": null,
            "max_width": null,
            "min_height": null,
            "min_width": null,
            "object_fit": null,
            "object_position": null,
            "order": null,
            "overflow": null,
            "overflow_x": null,
            "overflow_y": null,
            "padding": null,
            "right": null,
            "top": null,
            "visibility": null,
            "width": null
          }
        },
        "ae35c997974c4cecbdd9fab9377cebd4": {
          "model_module": "@jupyter-widgets/controls",
          "model_name": "DescriptionStyleModel",
          "model_module_version": "1.5.0",
          "state": {
            "_model_module": "@jupyter-widgets/controls",
            "_model_module_version": "1.5.0",
            "_model_name": "DescriptionStyleModel",
            "_view_count": null,
            "_view_module": "@jupyter-widgets/base",
            "_view_module_version": "1.2.0",
            "_view_name": "StyleView",
            "description_width": ""
          }
        },
        "cf9284a339754e40a165935839c404b0": {
          "model_module": "@jupyter-widgets/base",
          "model_name": "LayoutModel",
          "model_module_version": "1.2.0",
          "state": {
            "_model_module": "@jupyter-widgets/base",
            "_model_module_version": "1.2.0",
            "_model_name": "LayoutModel",
            "_view_count": null,
            "_view_module": "@jupyter-widgets/base",
            "_view_module_version": "1.2.0",
            "_view_name": "LayoutView",
            "align_content": null,
            "align_items": null,
            "align_self": null,
            "border": null,
            "bottom": null,
            "display": null,
            "flex": null,
            "flex_flow": null,
            "grid_area": null,
            "grid_auto_columns": null,
            "grid_auto_flow": null,
            "grid_auto_rows": null,
            "grid_column": null,
            "grid_gap": null,
            "grid_row": null,
            "grid_template_areas": null,
            "grid_template_columns": null,
            "grid_template_rows": null,
            "height": null,
            "justify_content": null,
            "justify_items": null,
            "left": null,
            "margin": null,
            "max_height": null,
            "max_width": null,
            "min_height": null,
            "min_width": null,
            "object_fit": null,
            "object_position": null,
            "order": null,
            "overflow": null,
            "overflow_x": null,
            "overflow_y": null,
            "padding": null,
            "right": null,
            "top": null,
            "visibility": null,
            "width": null
          }
        },
        "049095ec6fa742568428aa8e0daac8d8": {
          "model_module": "@jupyter-widgets/controls",
          "model_name": "ProgressStyleModel",
          "model_module_version": "1.5.0",
          "state": {
            "_model_module": "@jupyter-widgets/controls",
            "_model_module_version": "1.5.0",
            "_model_name": "ProgressStyleModel",
            "_view_count": null,
            "_view_module": "@jupyter-widgets/base",
            "_view_module_version": "1.2.0",
            "_view_name": "StyleView",
            "bar_color": null,
            "description_width": ""
          }
        },
        "b1430c2f78a344dcb3e87be76d08ebcd": {
          "model_module": "@jupyter-widgets/base",
          "model_name": "LayoutModel",
          "model_module_version": "1.2.0",
          "state": {
            "_model_module": "@jupyter-widgets/base",
            "_model_module_version": "1.2.0",
            "_model_name": "LayoutModel",
            "_view_count": null,
            "_view_module": "@jupyter-widgets/base",
            "_view_module_version": "1.2.0",
            "_view_name": "LayoutView",
            "align_content": null,
            "align_items": null,
            "align_self": null,
            "border": null,
            "bottom": null,
            "display": null,
            "flex": null,
            "flex_flow": null,
            "grid_area": null,
            "grid_auto_columns": null,
            "grid_auto_flow": null,
            "grid_auto_rows": null,
            "grid_column": null,
            "grid_gap": null,
            "grid_row": null,
            "grid_template_areas": null,
            "grid_template_columns": null,
            "grid_template_rows": null,
            "height": null,
            "justify_content": null,
            "justify_items": null,
            "left": null,
            "margin": null,
            "max_height": null,
            "max_width": null,
            "min_height": null,
            "min_width": null,
            "object_fit": null,
            "object_position": null,
            "order": null,
            "overflow": null,
            "overflow_x": null,
            "overflow_y": null,
            "padding": null,
            "right": null,
            "top": null,
            "visibility": null,
            "width": null
          }
        },
        "8aaad63b0a42408d8e51dc05327b6c77": {
          "model_module": "@jupyter-widgets/controls",
          "model_name": "DescriptionStyleModel",
          "model_module_version": "1.5.0",
          "state": {
            "_model_module": "@jupyter-widgets/controls",
            "_model_module_version": "1.5.0",
            "_model_name": "DescriptionStyleModel",
            "_view_count": null,
            "_view_module": "@jupyter-widgets/base",
            "_view_module_version": "1.2.0",
            "_view_name": "StyleView",
            "description_width": ""
          }
        },
        "3aeb6a74c4f44aa1b74e5f9972eeacad": {
          "model_module": "@jupyter-widgets/controls",
          "model_name": "HBoxModel",
          "model_module_version": "1.5.0",
          "state": {
            "_dom_classes": [],
            "_model_module": "@jupyter-widgets/controls",
            "_model_module_version": "1.5.0",
            "_model_name": "HBoxModel",
            "_view_count": null,
            "_view_module": "@jupyter-widgets/controls",
            "_view_module_version": "1.5.0",
            "_view_name": "HBoxView",
            "box_style": "",
            "children": [
              "IPY_MODEL_321a9e7f3e0a47d5b69b7fa8530fe4e9",
              "IPY_MODEL_36960f2e343744cca06d20bea2762967",
              "IPY_MODEL_4067b588754e498198f4388ba898363f"
            ],
            "layout": "IPY_MODEL_be956ab504b04d26841f24e6a6422f63"
          }
        },
        "321a9e7f3e0a47d5b69b7fa8530fe4e9": {
          "model_module": "@jupyter-widgets/controls",
          "model_name": "HTMLModel",
          "model_module_version": "1.5.0",
          "state": {
            "_dom_classes": [],
            "_model_module": "@jupyter-widgets/controls",
            "_model_module_version": "1.5.0",
            "_model_name": "HTMLModel",
            "_view_count": null,
            "_view_module": "@jupyter-widgets/controls",
            "_view_module_version": "1.5.0",
            "_view_name": "HTMLView",
            "description": "",
            "description_tooltip": null,
            "layout": "IPY_MODEL_4c2c6215ebb84c0c8979fe3764a2277b",
            "placeholder": "​",
            "style": "IPY_MODEL_f78375133628482481fd2a661529ab0b",
            "value": "Downloading: 100%"
          }
        },
        "36960f2e343744cca06d20bea2762967": {
          "model_module": "@jupyter-widgets/controls",
          "model_name": "FloatProgressModel",
          "model_module_version": "1.5.0",
          "state": {
            "_dom_classes": [],
            "_model_module": "@jupyter-widgets/controls",
            "_model_module_version": "1.5.0",
            "_model_name": "FloatProgressModel",
            "_view_count": null,
            "_view_module": "@jupyter-widgets/controls",
            "_view_module_version": "1.5.0",
            "_view_name": "ProgressView",
            "bar_style": "success",
            "description": "",
            "description_tooltip": null,
            "layout": "IPY_MODEL_3732fc8516af4e8cb7bdc51b569dffbb",
            "max": 226122,
            "min": 0,
            "orientation": "horizontal",
            "style": "IPY_MODEL_cc3b18266c534954b8551a545c38c512",
            "value": 226122
          }
        },
        "4067b588754e498198f4388ba898363f": {
          "model_module": "@jupyter-widgets/controls",
          "model_name": "HTMLModel",
          "model_module_version": "1.5.0",
          "state": {
            "_dom_classes": [],
            "_model_module": "@jupyter-widgets/controls",
            "_model_module_version": "1.5.0",
            "_model_name": "HTMLModel",
            "_view_count": null,
            "_view_module": "@jupyter-widgets/controls",
            "_view_module_version": "1.5.0",
            "_view_name": "HTMLView",
            "description": "",
            "description_tooltip": null,
            "layout": "IPY_MODEL_142cdfa0a4f6414192f4dc17f4f0b587",
            "placeholder": "​",
            "style": "IPY_MODEL_0f6c8dc7d4f844a4ae6c58cbf662fdef",
            "value": " 226k/226k [00:00&lt;00:00, 1.02MB/s]"
          }
        },
        "be956ab504b04d26841f24e6a6422f63": {
          "model_module": "@jupyter-widgets/base",
          "model_name": "LayoutModel",
          "model_module_version": "1.2.0",
          "state": {
            "_model_module": "@jupyter-widgets/base",
            "_model_module_version": "1.2.0",
            "_model_name": "LayoutModel",
            "_view_count": null,
            "_view_module": "@jupyter-widgets/base",
            "_view_module_version": "1.2.0",
            "_view_name": "LayoutView",
            "align_content": null,
            "align_items": null,
            "align_self": null,
            "border": null,
            "bottom": null,
            "display": null,
            "flex": null,
            "flex_flow": null,
            "grid_area": null,
            "grid_auto_columns": null,
            "grid_auto_flow": null,
            "grid_auto_rows": null,
            "grid_column": null,
            "grid_gap": null,
            "grid_row": null,
            "grid_template_areas": null,
            "grid_template_columns": null,
            "grid_template_rows": null,
            "height": null,
            "justify_content": null,
            "justify_items": null,
            "left": null,
            "margin": null,
            "max_height": null,
            "max_width": null,
            "min_height": null,
            "min_width": null,
            "object_fit": null,
            "object_position": null,
            "order": null,
            "overflow": null,
            "overflow_x": null,
            "overflow_y": null,
            "padding": null,
            "right": null,
            "top": null,
            "visibility": null,
            "width": null
          }
        },
        "4c2c6215ebb84c0c8979fe3764a2277b": {
          "model_module": "@jupyter-widgets/base",
          "model_name": "LayoutModel",
          "model_module_version": "1.2.0",
          "state": {
            "_model_module": "@jupyter-widgets/base",
            "_model_module_version": "1.2.0",
            "_model_name": "LayoutModel",
            "_view_count": null,
            "_view_module": "@jupyter-widgets/base",
            "_view_module_version": "1.2.0",
            "_view_name": "LayoutView",
            "align_content": null,
            "align_items": null,
            "align_self": null,
            "border": null,
            "bottom": null,
            "display": null,
            "flex": null,
            "flex_flow": null,
            "grid_area": null,
            "grid_auto_columns": null,
            "grid_auto_flow": null,
            "grid_auto_rows": null,
            "grid_column": null,
            "grid_gap": null,
            "grid_row": null,
            "grid_template_areas": null,
            "grid_template_columns": null,
            "grid_template_rows": null,
            "height": null,
            "justify_content": null,
            "justify_items": null,
            "left": null,
            "margin": null,
            "max_height": null,
            "max_width": null,
            "min_height": null,
            "min_width": null,
            "object_fit": null,
            "object_position": null,
            "order": null,
            "overflow": null,
            "overflow_x": null,
            "overflow_y": null,
            "padding": null,
            "right": null,
            "top": null,
            "visibility": null,
            "width": null
          }
        },
        "f78375133628482481fd2a661529ab0b": {
          "model_module": "@jupyter-widgets/controls",
          "model_name": "DescriptionStyleModel",
          "model_module_version": "1.5.0",
          "state": {
            "_model_module": "@jupyter-widgets/controls",
            "_model_module_version": "1.5.0",
            "_model_name": "DescriptionStyleModel",
            "_view_count": null,
            "_view_module": "@jupyter-widgets/base",
            "_view_module_version": "1.2.0",
            "_view_name": "StyleView",
            "description_width": ""
          }
        },
        "3732fc8516af4e8cb7bdc51b569dffbb": {
          "model_module": "@jupyter-widgets/base",
          "model_name": "LayoutModel",
          "model_module_version": "1.2.0",
          "state": {
            "_model_module": "@jupyter-widgets/base",
            "_model_module_version": "1.2.0",
            "_model_name": "LayoutModel",
            "_view_count": null,
            "_view_module": "@jupyter-widgets/base",
            "_view_module_version": "1.2.0",
            "_view_name": "LayoutView",
            "align_content": null,
            "align_items": null,
            "align_self": null,
            "border": null,
            "bottom": null,
            "display": null,
            "flex": null,
            "flex_flow": null,
            "grid_area": null,
            "grid_auto_columns": null,
            "grid_auto_flow": null,
            "grid_auto_rows": null,
            "grid_column": null,
            "grid_gap": null,
            "grid_row": null,
            "grid_template_areas": null,
            "grid_template_columns": null,
            "grid_template_rows": null,
            "height": null,
            "justify_content": null,
            "justify_items": null,
            "left": null,
            "margin": null,
            "max_height": null,
            "max_width": null,
            "min_height": null,
            "min_width": null,
            "object_fit": null,
            "object_position": null,
            "order": null,
            "overflow": null,
            "overflow_x": null,
            "overflow_y": null,
            "padding": null,
            "right": null,
            "top": null,
            "visibility": null,
            "width": null
          }
        },
        "cc3b18266c534954b8551a545c38c512": {
          "model_module": "@jupyter-widgets/controls",
          "model_name": "ProgressStyleModel",
          "model_module_version": "1.5.0",
          "state": {
            "_model_module": "@jupyter-widgets/controls",
            "_model_module_version": "1.5.0",
            "_model_name": "ProgressStyleModel",
            "_view_count": null,
            "_view_module": "@jupyter-widgets/base",
            "_view_module_version": "1.2.0",
            "_view_name": "StyleView",
            "bar_color": null,
            "description_width": ""
          }
        },
        "142cdfa0a4f6414192f4dc17f4f0b587": {
          "model_module": "@jupyter-widgets/base",
          "model_name": "LayoutModel",
          "model_module_version": "1.2.0",
          "state": {
            "_model_module": "@jupyter-widgets/base",
            "_model_module_version": "1.2.0",
            "_model_name": "LayoutModel",
            "_view_count": null,
            "_view_module": "@jupyter-widgets/base",
            "_view_module_version": "1.2.0",
            "_view_name": "LayoutView",
            "align_content": null,
            "align_items": null,
            "align_self": null,
            "border": null,
            "bottom": null,
            "display": null,
            "flex": null,
            "flex_flow": null,
            "grid_area": null,
            "grid_auto_columns": null,
            "grid_auto_flow": null,
            "grid_auto_rows": null,
            "grid_column": null,
            "grid_gap": null,
            "grid_row": null,
            "grid_template_areas": null,
            "grid_template_columns": null,
            "grid_template_rows": null,
            "height": null,
            "justify_content": null,
            "justify_items": null,
            "left": null,
            "margin": null,
            "max_height": null,
            "max_width": null,
            "min_height": null,
            "min_width": null,
            "object_fit": null,
            "object_position": null,
            "order": null,
            "overflow": null,
            "overflow_x": null,
            "overflow_y": null,
            "padding": null,
            "right": null,
            "top": null,
            "visibility": null,
            "width": null
          }
        },
        "0f6c8dc7d4f844a4ae6c58cbf662fdef": {
          "model_module": "@jupyter-widgets/controls",
          "model_name": "DescriptionStyleModel",
          "model_module_version": "1.5.0",
          "state": {
            "_model_module": "@jupyter-widgets/controls",
            "_model_module_version": "1.5.0",
            "_model_name": "DescriptionStyleModel",
            "_view_count": null,
            "_view_module": "@jupyter-widgets/base",
            "_view_module_version": "1.2.0",
            "_view_name": "StyleView",
            "description_width": ""
          }
        },
        "ed3381eba6324ab2a759812e5ec80d0e": {
          "model_module": "@jupyter-widgets/controls",
          "model_name": "HBoxModel",
          "model_module_version": "1.5.0",
          "state": {
            "_dom_classes": [],
            "_model_module": "@jupyter-widgets/controls",
            "_model_module_version": "1.5.0",
            "_model_name": "HBoxModel",
            "_view_count": null,
            "_view_module": "@jupyter-widgets/controls",
            "_view_module_version": "1.5.0",
            "_view_name": "HBoxView",
            "box_style": "",
            "children": [
              "IPY_MODEL_3b04a96719e44ef4bcc76bd41808ea8e",
              "IPY_MODEL_21f2831a17454031b7d5393265fdf51d",
              "IPY_MODEL_6f4d14cf60eb4ba49c592dfb54cbca55"
            ],
            "layout": "IPY_MODEL_e06f03a5d7bd47b3a772af8415b35d93"
          }
        },
        "3b04a96719e44ef4bcc76bd41808ea8e": {
          "model_module": "@jupyter-widgets/controls",
          "model_name": "HTMLModel",
          "model_module_version": "1.5.0",
          "state": {
            "_dom_classes": [],
            "_model_module": "@jupyter-widgets/controls",
            "_model_module_version": "1.5.0",
            "_model_name": "HTMLModel",
            "_view_count": null,
            "_view_module": "@jupyter-widgets/controls",
            "_view_module_version": "1.5.0",
            "_view_name": "HTMLView",
            "description": "",
            "description_tooltip": null,
            "layout": "IPY_MODEL_2aff8d28cc964ab58ce047c7de31ae8e",
            "placeholder": "​",
            "style": "IPY_MODEL_76f9d592790b437a9a0fa749bcfe1edb",
            "value": "Downloading: 100%"
          }
        },
        "21f2831a17454031b7d5393265fdf51d": {
          "model_module": "@jupyter-widgets/controls",
          "model_name": "FloatProgressModel",
          "model_module_version": "1.5.0",
          "state": {
            "_dom_classes": [],
            "_model_module": "@jupyter-widgets/controls",
            "_model_module_version": "1.5.0",
            "_model_name": "FloatProgressModel",
            "_view_count": null,
            "_view_module": "@jupyter-widgets/controls",
            "_view_module_version": "1.5.0",
            "_view_name": "ProgressView",
            "bar_style": "success",
            "description": "",
            "description_tooltip": null,
            "layout": "IPY_MODEL_acaf90a62baa4aa39b6a90c1c52619eb",
            "max": 533,
            "min": 0,
            "orientation": "horizontal",
            "style": "IPY_MODEL_4aefbe19b6fd4d29a1d91e98fed4ce5f",
            "value": 533
          }
        },
        "6f4d14cf60eb4ba49c592dfb54cbca55": {
          "model_module": "@jupyter-widgets/controls",
          "model_name": "HTMLModel",
          "model_module_version": "1.5.0",
          "state": {
            "_dom_classes": [],
            "_model_module": "@jupyter-widgets/controls",
            "_model_module_version": "1.5.0",
            "_model_name": "HTMLModel",
            "_view_count": null,
            "_view_module": "@jupyter-widgets/controls",
            "_view_module_version": "1.5.0",
            "_view_name": "HTMLView",
            "description": "",
            "description_tooltip": null,
            "layout": "IPY_MODEL_a63d838fcee549009a61dcba83dbd283",
            "placeholder": "​",
            "style": "IPY_MODEL_e5f2688354fa49a39f4904ce9b6a6f66",
            "value": " 533/533 [00:00&lt;00:00, 9.36kB/s]"
          }
        },
        "e06f03a5d7bd47b3a772af8415b35d93": {
          "model_module": "@jupyter-widgets/base",
          "model_name": "LayoutModel",
          "model_module_version": "1.2.0",
          "state": {
            "_model_module": "@jupyter-widgets/base",
            "_model_module_version": "1.2.0",
            "_model_name": "LayoutModel",
            "_view_count": null,
            "_view_module": "@jupyter-widgets/base",
            "_view_module_version": "1.2.0",
            "_view_name": "LayoutView",
            "align_content": null,
            "align_items": null,
            "align_self": null,
            "border": null,
            "bottom": null,
            "display": null,
            "flex": null,
            "flex_flow": null,
            "grid_area": null,
            "grid_auto_columns": null,
            "grid_auto_flow": null,
            "grid_auto_rows": null,
            "grid_column": null,
            "grid_gap": null,
            "grid_row": null,
            "grid_template_areas": null,
            "grid_template_columns": null,
            "grid_template_rows": null,
            "height": null,
            "justify_content": null,
            "justify_items": null,
            "left": null,
            "margin": null,
            "max_height": null,
            "max_width": null,
            "min_height": null,
            "min_width": null,
            "object_fit": null,
            "object_position": null,
            "order": null,
            "overflow": null,
            "overflow_x": null,
            "overflow_y": null,
            "padding": null,
            "right": null,
            "top": null,
            "visibility": null,
            "width": null
          }
        },
        "2aff8d28cc964ab58ce047c7de31ae8e": {
          "model_module": "@jupyter-widgets/base",
          "model_name": "LayoutModel",
          "model_module_version": "1.2.0",
          "state": {
            "_model_module": "@jupyter-widgets/base",
            "_model_module_version": "1.2.0",
            "_model_name": "LayoutModel",
            "_view_count": null,
            "_view_module": "@jupyter-widgets/base",
            "_view_module_version": "1.2.0",
            "_view_name": "LayoutView",
            "align_content": null,
            "align_items": null,
            "align_self": null,
            "border": null,
            "bottom": null,
            "display": null,
            "flex": null,
            "flex_flow": null,
            "grid_area": null,
            "grid_auto_columns": null,
            "grid_auto_flow": null,
            "grid_auto_rows": null,
            "grid_column": null,
            "grid_gap": null,
            "grid_row": null,
            "grid_template_areas": null,
            "grid_template_columns": null,
            "grid_template_rows": null,
            "height": null,
            "justify_content": null,
            "justify_items": null,
            "left": null,
            "margin": null,
            "max_height": null,
            "max_width": null,
            "min_height": null,
            "min_width": null,
            "object_fit": null,
            "object_position": null,
            "order": null,
            "overflow": null,
            "overflow_x": null,
            "overflow_y": null,
            "padding": null,
            "right": null,
            "top": null,
            "visibility": null,
            "width": null
          }
        },
        "76f9d592790b437a9a0fa749bcfe1edb": {
          "model_module": "@jupyter-widgets/controls",
          "model_name": "DescriptionStyleModel",
          "model_module_version": "1.5.0",
          "state": {
            "_model_module": "@jupyter-widgets/controls",
            "_model_module_version": "1.5.0",
            "_model_name": "DescriptionStyleModel",
            "_view_count": null,
            "_view_module": "@jupyter-widgets/base",
            "_view_module_version": "1.2.0",
            "_view_name": "StyleView",
            "description_width": ""
          }
        },
        "acaf90a62baa4aa39b6a90c1c52619eb": {
          "model_module": "@jupyter-widgets/base",
          "model_name": "LayoutModel",
          "model_module_version": "1.2.0",
          "state": {
            "_model_module": "@jupyter-widgets/base",
            "_model_module_version": "1.2.0",
            "_model_name": "LayoutModel",
            "_view_count": null,
            "_view_module": "@jupyter-widgets/base",
            "_view_module_version": "1.2.0",
            "_view_name": "LayoutView",
            "align_content": null,
            "align_items": null,
            "align_self": null,
            "border": null,
            "bottom": null,
            "display": null,
            "flex": null,
            "flex_flow": null,
            "grid_area": null,
            "grid_auto_columns": null,
            "grid_auto_flow": null,
            "grid_auto_rows": null,
            "grid_column": null,
            "grid_gap": null,
            "grid_row": null,
            "grid_template_areas": null,
            "grid_template_columns": null,
            "grid_template_rows": null,
            "height": null,
            "justify_content": null,
            "justify_items": null,
            "left": null,
            "margin": null,
            "max_height": null,
            "max_width": null,
            "min_height": null,
            "min_width": null,
            "object_fit": null,
            "object_position": null,
            "order": null,
            "overflow": null,
            "overflow_x": null,
            "overflow_y": null,
            "padding": null,
            "right": null,
            "top": null,
            "visibility": null,
            "width": null
          }
        },
        "4aefbe19b6fd4d29a1d91e98fed4ce5f": {
          "model_module": "@jupyter-widgets/controls",
          "model_name": "ProgressStyleModel",
          "model_module_version": "1.5.0",
          "state": {
            "_model_module": "@jupyter-widgets/controls",
            "_model_module_version": "1.5.0",
            "_model_name": "ProgressStyleModel",
            "_view_count": null,
            "_view_module": "@jupyter-widgets/base",
            "_view_module_version": "1.2.0",
            "_view_name": "StyleView",
            "bar_color": null,
            "description_width": ""
          }
        },
        "a63d838fcee549009a61dcba83dbd283": {
          "model_module": "@jupyter-widgets/base",
          "model_name": "LayoutModel",
          "model_module_version": "1.2.0",
          "state": {
            "_model_module": "@jupyter-widgets/base",
            "_model_module_version": "1.2.0",
            "_model_name": "LayoutModel",
            "_view_count": null,
            "_view_module": "@jupyter-widgets/base",
            "_view_module_version": "1.2.0",
            "_view_name": "LayoutView",
            "align_content": null,
            "align_items": null,
            "align_self": null,
            "border": null,
            "bottom": null,
            "display": null,
            "flex": null,
            "flex_flow": null,
            "grid_area": null,
            "grid_auto_columns": null,
            "grid_auto_flow": null,
            "grid_auto_rows": null,
            "grid_column": null,
            "grid_gap": null,
            "grid_row": null,
            "grid_template_areas": null,
            "grid_template_columns": null,
            "grid_template_rows": null,
            "height": null,
            "justify_content": null,
            "justify_items": null,
            "left": null,
            "margin": null,
            "max_height": null,
            "max_width": null,
            "min_height": null,
            "min_width": null,
            "object_fit": null,
            "object_position": null,
            "order": null,
            "overflow": null,
            "overflow_x": null,
            "overflow_y": null,
            "padding": null,
            "right": null,
            "top": null,
            "visibility": null,
            "width": null
          }
        },
        "e5f2688354fa49a39f4904ce9b6a6f66": {
          "model_module": "@jupyter-widgets/controls",
          "model_name": "DescriptionStyleModel",
          "model_module_version": "1.5.0",
          "state": {
            "_model_module": "@jupyter-widgets/controls",
            "_model_module_version": "1.5.0",
            "_model_name": "DescriptionStyleModel",
            "_view_count": null,
            "_view_module": "@jupyter-widgets/base",
            "_view_module_version": "1.2.0",
            "_view_name": "StyleView",
            "description_width": ""
          }
        }
      }
    }
  },
  "cells": [
    {
      "cell_type": "markdown",
      "metadata": {
        "id": "view-in-github",
        "colab_type": "text"
      },
      "source": [
        "<a href=\"https://colab.research.google.com/github/wicksonkold/Market-Sentiment-Analysis/blob/main/News_Scraping_(Latest%2020221125).ipynb\" target=\"_parent\"><img src=\"https://colab.research.google.com/assets/colab-badge.svg\" alt=\"Open In Colab\"/></a>"
      ]
    },
    {
      "cell_type": "code",
      "execution_count": 1,
      "metadata": {
        "id": "v_XapeR2GY5E",
        "colab": {
          "base_uri": "https://localhost:8080/"
        },
        "outputId": "52840cfa-442d-4dbf-d2bd-5e2333b12d36"
      },
      "outputs": [
        {
          "output_type": "stream",
          "name": "stdout",
          "text": [
            "\u001b[?25l\r\u001b[K     |████                            | 10 kB 19.7 MB/s eta 0:00:01\r\u001b[K     |███████▉                        | 20 kB 25.5 MB/s eta 0:00:01\r\u001b[K     |███████████▉                    | 30 kB 32.6 MB/s eta 0:00:01\r\u001b[K     |███████████████▊                | 40 kB 36.3 MB/s eta 0:00:01\r\u001b[K     |███████████████████▋            | 51 kB 34.5 MB/s eta 0:00:01\r\u001b[K     |███████████████████████▋        | 61 kB 37.0 MB/s eta 0:00:01\r\u001b[K     |███████████████████████████▌    | 71 kB 9.0 MB/s eta 0:00:01\r\u001b[K     |███████████████████████████████▍| 81 kB 9.9 MB/s eta 0:00:01\r\u001b[K     |████████████████████████████████| 83 kB 1.5 MB/s \n",
            "\u001b[K     |████████████████████████████████| 50 kB 5.8 MB/s \n",
            "\u001b[K     |████████████████████████████████| 106 kB 40.7 MB/s \n",
            "\u001b[K     |████████████████████████████████| 140 kB 61.6 MB/s \n",
            "\u001b[K     |████████████████████████████████| 127 kB 69.3 MB/s \n",
            "\u001b[?25h  Building wheel for parse (setup.py) ... \u001b[?25l\u001b[?25hdone\n",
            "\u001b[K     |████████████████████████████████| 1.2 MB 4.7 MB/s \n",
            "\u001b[K     |████████████████████████████████| 62 kB 1.4 MB/s \n",
            "\u001b[K     |████████████████████████████████| 128 kB 74.4 MB/s \n",
            "\u001b[K     |████████████████████████████████| 362 kB 47.6 MB/s \n",
            "\u001b[?25h  Building wheel for feedparser (setup.py) ... \u001b[?25l\u001b[?25hdone\n",
            "\u001b[K     |████████████████████████████████| 5.5 MB 5.2 MB/s \n",
            "\u001b[K     |████████████████████████████████| 182 kB 53.3 MB/s \n",
            "\u001b[K     |████████████████████████████████| 7.6 MB 37.2 MB/s \n",
            "\u001b[K     |████████████████████████████████| 211 kB 4.7 MB/s \n",
            "\u001b[K     |████████████████████████████████| 7.4 MB 44.1 MB/s \n",
            "\u001b[K     |████████████████████████████████| 93 kB 2.4 MB/s \n",
            "\u001b[?25h  Building wheel for tinysegmenter (setup.py) ... \u001b[?25l\u001b[?25hdone\n",
            "  Building wheel for feedfinder2 (setup.py) ... \u001b[?25l\u001b[?25hdone\n",
            "  Building wheel for jieba3k (setup.py) ... \u001b[?25l\u001b[?25hdone\n",
            "\u001b[K     |████████████████████████████████| 2.1 MB 5.2 MB/s \n",
            "\u001b[K     |████████████████████████████████| 1.2 MB 46.7 MB/s \n",
            "\u001b[31mERROR: pip's dependency resolver does not currently take into account all the packages that are installed. This behaviour is the source of the following dependency conflicts.\n",
            "ipython 7.9.0 requires jedi>=0.10, which is not installed.\u001b[0m\n",
            "\u001b[?25h\u001b[33mWARNING: Running pip as the 'root' user can result in broken permissions and conflicting behaviour with the system package manager. It is recommended to use a virtual environment instead: https://pip.pypa.io/warnings/venv\u001b[0m\u001b[33m\n",
            "\u001b[0m\u001b[33mWARNING: Running pip as the 'root' user can result in broken permissions and conflicting behaviour with the system package manager. It is recommended to use a virtual environment instead: https://pip.pypa.io/warnings/venv\u001b[0m\u001b[33m\n",
            "\u001b[0mLooking in indexes: https://pypi.org/simple, https://us-python.pkg.dev/colab-wheels/public/simple/\n",
            "Collecting bert-extractive-summarizer\n",
            "  Downloading bert_extractive_summarizer-0.10.1-py3-none-any.whl (25 kB)\n",
            "Requirement already satisfied: scikit-learn in /usr/local/lib/python3.7/dist-packages (from bert-extractive-summarizer) (1.0.2)\n",
            "Requirement already satisfied: spacy in /usr/local/lib/python3.7/dist-packages (from bert-extractive-summarizer) (3.4.3)\n",
            "Requirement already satisfied: transformers in /usr/local/lib/python3.7/dist-packages (from bert-extractive-summarizer) (4.24.0)\n",
            "Requirement already satisfied: threadpoolctl>=2.0.0 in /usr/local/lib/python3.7/dist-packages (from scikit-learn->bert-extractive-summarizer) (3.1.0)\n",
            "Requirement already satisfied: joblib>=0.11 in /usr/local/lib/python3.7/dist-packages (from scikit-learn->bert-extractive-summarizer) (1.2.0)\n",
            "Requirement already satisfied: numpy>=1.14.6 in /usr/local/lib/python3.7/dist-packages (from scikit-learn->bert-extractive-summarizer) (1.21.6)\n",
            "Requirement already satisfied: scipy>=1.1.0 in /usr/local/lib/python3.7/dist-packages (from scikit-learn->bert-extractive-summarizer) (1.7.3)\n",
            "Requirement already satisfied: cymem<2.1.0,>=2.0.2 in /usr/local/lib/python3.7/dist-packages (from spacy->bert-extractive-summarizer) (2.0.7)\n",
            "Requirement already satisfied: pathy>=0.3.5 in /usr/local/lib/python3.7/dist-packages (from spacy->bert-extractive-summarizer) (0.8.1)\n",
            "Requirement already satisfied: requests<3.0.0,>=2.13.0 in /usr/local/lib/python3.7/dist-packages (from spacy->bert-extractive-summarizer) (2.28.1)\n",
            "Requirement already satisfied: thinc<8.2.0,>=8.1.0 in /usr/local/lib/python3.7/dist-packages (from spacy->bert-extractive-summarizer) (8.1.5)\n",
            "Requirement already satisfied: jinja2 in /usr/local/lib/python3.7/dist-packages (from spacy->bert-extractive-summarizer) (2.11.3)\n",
            "Requirement already satisfied: preshed<3.1.0,>=3.0.2 in /usr/local/lib/python3.7/dist-packages (from spacy->bert-extractive-summarizer) (3.0.8)\n",
            "Requirement already satisfied: wasabi<1.1.0,>=0.9.1 in /usr/local/lib/python3.7/dist-packages (from spacy->bert-extractive-summarizer) (0.10.1)\n",
            "Requirement already satisfied: catalogue<2.1.0,>=2.0.6 in /usr/local/lib/python3.7/dist-packages (from spacy->bert-extractive-summarizer) (2.0.8)\n",
            "Requirement already satisfied: srsly<3.0.0,>=2.4.3 in /usr/local/lib/python3.7/dist-packages (from spacy->bert-extractive-summarizer) (2.4.5)\n",
            "Requirement already satisfied: typing-extensions<4.2.0,>=3.7.4 in /usr/local/lib/python3.7/dist-packages (from spacy->bert-extractive-summarizer) (4.1.1)\n",
            "Requirement already satisfied: setuptools in /usr/local/lib/python3.7/dist-packages (from spacy->bert-extractive-summarizer) (65.6.3)\n",
            "Requirement already satisfied: packaging>=20.0 in /usr/local/lib/python3.7/dist-packages (from spacy->bert-extractive-summarizer) (21.3)\n",
            "Requirement already satisfied: spacy-loggers<2.0.0,>=1.0.0 in /usr/local/lib/python3.7/dist-packages (from spacy->bert-extractive-summarizer) (1.0.3)\n",
            "Requirement already satisfied: pydantic!=1.8,!=1.8.1,<1.11.0,>=1.7.4 in /usr/local/lib/python3.7/dist-packages (from spacy->bert-extractive-summarizer) (1.10.2)\n",
            "Requirement already satisfied: typer<0.8.0,>=0.3.0 in /usr/local/lib/python3.7/dist-packages (from spacy->bert-extractive-summarizer) (0.7.0)\n",
            "Requirement already satisfied: tqdm<5.0.0,>=4.38.0 in /usr/local/lib/python3.7/dist-packages (from spacy->bert-extractive-summarizer) (4.64.1)\n",
            "Requirement already satisfied: spacy-legacy<3.1.0,>=3.0.10 in /usr/local/lib/python3.7/dist-packages (from spacy->bert-extractive-summarizer) (3.0.10)\n",
            "Requirement already satisfied: langcodes<4.0.0,>=3.2.0 in /usr/local/lib/python3.7/dist-packages (from spacy->bert-extractive-summarizer) (3.3.0)\n",
            "Requirement already satisfied: murmurhash<1.1.0,>=0.28.0 in /usr/local/lib/python3.7/dist-packages (from spacy->bert-extractive-summarizer) (1.0.9)\n",
            "Requirement already satisfied: tokenizers!=0.11.3,<0.14,>=0.11.1 in /usr/local/lib/python3.7/dist-packages (from transformers->bert-extractive-summarizer) (0.13.2)\n",
            "Requirement already satisfied: filelock in /usr/local/lib/python3.7/dist-packages (from transformers->bert-extractive-summarizer) (3.8.0)\n",
            "Requirement already satisfied: pyyaml>=5.1 in /usr/local/lib/python3.7/dist-packages (from transformers->bert-extractive-summarizer) (6.0)\n",
            "Requirement already satisfied: importlib-metadata in /usr/local/lib/python3.7/dist-packages (from transformers->bert-extractive-summarizer) (4.13.0)\n",
            "Requirement already satisfied: huggingface-hub<1.0,>=0.10.0 in /usr/local/lib/python3.7/dist-packages (from transformers->bert-extractive-summarizer) (0.11.0)\n",
            "Requirement already satisfied: regex!=2019.12.17 in /usr/local/lib/python3.7/dist-packages (from transformers->bert-extractive-summarizer) (2022.6.2)\n",
            "Requirement already satisfied: zipp>=0.5 in /usr/local/lib/python3.7/dist-packages (from catalogue<2.1.0,>=2.0.6->spacy->bert-extractive-summarizer) (3.10.0)\n",
            "Requirement already satisfied: pyparsing!=3.0.5,>=2.0.2 in /usr/local/lib/python3.7/dist-packages (from packaging>=20.0->spacy->bert-extractive-summarizer) (3.0.9)\n",
            "Requirement already satisfied: smart-open<6.0.0,>=5.2.1 in /usr/local/lib/python3.7/dist-packages (from pathy>=0.3.5->spacy->bert-extractive-summarizer) (5.2.1)\n",
            "Requirement already satisfied: charset-normalizer<3,>=2 in /usr/local/lib/python3.7/dist-packages (from requests<3.0.0,>=2.13.0->spacy->bert-extractive-summarizer) (2.1.1)\n",
            "Requirement already satisfied: idna<4,>=2.5 in /usr/local/lib/python3.7/dist-packages (from requests<3.0.0,>=2.13.0->spacy->bert-extractive-summarizer) (2.10)\n",
            "Requirement already satisfied: urllib3<1.27,>=1.21.1 in /usr/local/lib/python3.7/dist-packages (from requests<3.0.0,>=2.13.0->spacy->bert-extractive-summarizer) (1.25.11)\n",
            "Requirement already satisfied: certifi>=2017.4.17 in /usr/local/lib/python3.7/dist-packages (from requests<3.0.0,>=2.13.0->spacy->bert-extractive-summarizer) (2022.9.24)\n",
            "Requirement already satisfied: confection<1.0.0,>=0.0.1 in /usr/local/lib/python3.7/dist-packages (from thinc<8.2.0,>=8.1.0->spacy->bert-extractive-summarizer) (0.0.3)\n",
            "Requirement already satisfied: blis<0.8.0,>=0.7.8 in /usr/local/lib/python3.7/dist-packages (from thinc<8.2.0,>=8.1.0->spacy->bert-extractive-summarizer) (0.7.9)\n",
            "Requirement already satisfied: click<9.0.0,>=7.1.1 in /usr/local/lib/python3.7/dist-packages (from typer<0.8.0,>=0.3.0->spacy->bert-extractive-summarizer) (7.1.2)\n",
            "Requirement already satisfied: MarkupSafe>=0.23 in /usr/local/lib/python3.7/dist-packages (from jinja2->spacy->bert-extractive-summarizer) (2.0.1)\n",
            "Installing collected packages: bert-extractive-summarizer\n",
            "Successfully installed bert-extractive-summarizer-0.10.1\n",
            "\u001b[33mWARNING: Running pip as the 'root' user can result in broken permissions and conflicting behaviour with the system package manager. It is recommended to use a virtual environment instead: https://pip.pypa.io/warnings/venv\u001b[0m\u001b[33m\n",
            "\u001b[0m"
          ]
        }
      ],
      "source": [
        "!pip install pandas --upgrade --quiet\n",
        "!pip install numpy --upgrade --quiet\n",
        "!pip install requests-html --upgrade --quiet\n",
        "!pip install pygooglenews --upgrade --quiet\n",
        "!pip install transformers --upgrade --quiet\n",
        "!pip install newspaper3k --upgrade --quiet\n",
        "!pip install yfinance --upgrade --quiet\n",
        "!pip install -U pip setuptools wheel --upgrade --quiet\n",
        "!pip install -U spacy --upgrade --quiet\n",
        "!pip install requests_html --upgrade --quiet\n",
        "!pip install bert-extractive-summarizer\n"
      ]
    },
    {
      "cell_type": "markdown",
      "source": [
        "#Testing (Maybe For TR CTI)"
      ],
      "metadata": {
        "id": "s0_f1jMKCJDM"
      }
    },
    {
      "cell_type": "code",
      "source": [
        "'''\n",
        "#CTI??? LOL\n",
        "from pygooglenews import GoogleNews\n",
        "from newspaper import Article\n",
        "from newspaper import Config\n",
        "import nltk\n",
        "nltk.download('punkt')\n",
        "\n",
        "#USER_AGENT = 'Mozilla/5.0 (Macintosh; Intel Mac OS X 10.15; rv:78.0) Geck/20100101 Firefox/78.0'\n",
        "USER_AGENT = 'Mozilla/5.0 (Macintosh; Intel Mac OS X 10_15_7) AppleWebKit/537.36 (KHTML, like Gecko) Chrome/104.0.5112.79 Safari/537.36'\n",
        "config = Config()\n",
        "config.browser_user_agent = USER_AGENT\n",
        "config.request_timeout = 10 \n",
        "\n",
        "gn = GoogleNews(lang = 'en', country = 'US')\n",
        "\n",
        "def get_titlesss(search):\n",
        "    stories = []\n",
        "    search = gn.search(search, when = '1d') #when: duration; 2y = 2 years, 6m = 6 months, etc. \n",
        "    newsitem = search['entries']\n",
        "    for item in newsitem:\n",
        "        try:\n",
        "          story = item.link\n",
        "          url = item.link\n",
        "          article = Article(url, config=config)\n",
        "\n",
        "          article.download()\n",
        "          article.parse()\n",
        "          authors = \", \".join(author for author in article.authors) \n",
        "          title = article.title\n",
        "          date = article.publish_date\n",
        "          text = article.text\n",
        "          image = article.top_image\n",
        "          videos = article.movies\n",
        "          url = article.url\n",
        "\n",
        "          article.nlp()\n",
        "          keywords = article.keywords\n",
        "          keywords.sort()\n",
        "          print(\"\\n\")\n",
        "          print(item.link)\n",
        "          print(f\"📌 Keywords: {keywords}\")\n",
        "          print(f\"📰 Summary: {article.summary}\")\n",
        "          stories.append(story)\n",
        "        except:\n",
        "          pass\n",
        "    return stories\n",
        "'''"
      ],
      "metadata": {
        "colab": {
          "base_uri": "https://localhost:8080/",
          "height": 0
        },
        "id": "83E8UCg0CG6B",
        "outputId": "83f4c60c-1d02-4bc0-82c1-ba518e2c6a27"
      },
      "execution_count": 2,
      "outputs": [
        {
          "output_type": "execute_result",
          "data": {
            "text/plain": [
              "'\\n#CTI??? LOL\\nfrom pygooglenews import GoogleNews\\nfrom newspaper import Article\\nfrom newspaper import Config\\nimport nltk\\nnltk.download(\\'punkt\\')\\n\\n#USER_AGENT = \\'Mozilla/5.0 (Macintosh; Intel Mac OS X 10.15; rv:78.0) Geck/20100101 Firefox/78.0\\'\\nUSER_AGENT = \\'Mozilla/5.0 (Macintosh; Intel Mac OS X 10_15_7) AppleWebKit/537.36 (KHTML, like Gecko) Chrome/104.0.5112.79 Safari/537.36\\'\\nconfig = Config()\\nconfig.browser_user_agent = USER_AGENT\\nconfig.request_timeout = 10 \\n\\ngn = GoogleNews(lang = \\'en\\', country = \\'US\\')\\n\\ndef get_titlesss(search):\\n    stories = []\\n    search = gn.search(search, when = \\'1d\\') #when: duration; 2y = 2 years, 6m = 6 months, etc. \\n    newsitem = search[\\'entries\\']\\n    for item in newsitem:\\n        try:\\n          story = item.link\\n          url = item.link\\n          article = Article(url, config=config)\\n\\n          article.download()\\n          article.parse()\\n          authors = \", \".join(author for author in article.authors) \\n          title = article.title\\n          date = article.publish_date\\n          text = article.text\\n          image = article.top_image\\n          videos = article.movies\\n          url = article.url\\n\\n          article.nlp()\\n          keywords = article.keywords\\n          keywords.sort()\\n          print(\"\\n\")\\n          print(item.link)\\n          print(f\"📌 Keywords: {keywords}\")\\n          print(f\"📰 Summary: {article.summary}\")\\n          stories.append(story)\\n        except:\\n          pass\\n    return stories\\n'"
            ],
            "application/vnd.google.colaboratory.intrinsic+json": {
              "type": "string"
            }
          },
          "metadata": {},
          "execution_count": 2
        }
      ]
    },
    {
      "cell_type": "code",
      "source": [
        "#get_titlesss('cyber security')\n"
      ],
      "metadata": {
        "id": "bbJcffpDCtvl"
      },
      "execution_count": 3,
      "outputs": []
    },
    {
      "cell_type": "markdown",
      "source": [
        "#Import & Functions\n"
      ],
      "metadata": {
        "id": "T3_Ad9ErIB_t"
      }
    },
    {
      "cell_type": "code",
      "source": [
        "import os\n",
        "from transformers import BertTokenizer, BertForSequenceClassification\n",
        "from transformers import pipeline\n",
        "from summarizer import Summarizer,TransformerSummarizer\n",
        "from transformers import AutoModelForMaskedLM\n",
        "import numpy as np\n",
        "import pandas as pd\n",
        "import matplotlib as plt\n",
        "from newspaper import Article\n",
        "import yfinance as yf\n",
        "import nltk\n",
        "nltk.download('punkt')"
      ],
      "metadata": {
        "id": "yrRCgqyUHz8c",
        "colab": {
          "base_uri": "https://localhost:8080/"
        },
        "outputId": "1c401422-dc24-4759-a2f4-cef76a0e47d6"
      },
      "execution_count": 4,
      "outputs": [
        {
          "output_type": "stream",
          "name": "stderr",
          "text": [
            "[nltk_data] Downloading package punkt to /root/nltk_data...\n",
            "[nltk_data]   Unzipping tokenizers/punkt.zip.\n"
          ]
        },
        {
          "output_type": "execute_result",
          "data": {
            "text/plain": [
              "True"
            ]
          },
          "metadata": {},
          "execution_count": 4
        }
      ]
    },
    {
      "cell_type": "markdown",
      "source": [
        "#Scrape Google News"
      ],
      "metadata": {
        "id": "eMdRJPlgCL9k"
      }
    },
    {
      "cell_type": "code",
      "source": [
        "from pygooglenews import GoogleNews\n",
        "#from datetime import date\n",
        "\n",
        "def get_news(search_w):\n",
        "  stories = []\n",
        "  #start_date = datetime.date(2021, 1, 1)\n",
        "  #end_date = datetime.date(2022,11,13)\n",
        "  gn = GoogleNews(lang='en', country = 'HK')\n",
        "  #search = gn.search('Hang Seng', from_=start_date.strftime('%Y-%m-%d', to_=(end_date+delta).strftime('%Y-%m-%d')))\n",
        "  search = gn.search(search_w, when = '1d')\n",
        "  #search = gn.geo_headlines('Hong Kong')\n",
        "  #search = gn.topic_headlines('BUSINESS', proxies=None, scraping_bee=None) \n",
        "  newsitem = search['entries']\n",
        "  for item in newsitem:\n",
        "    story = {\n",
        "        'title':item.title,\n",
        "        'published':item.published,\n",
        "        'published_parsed':item.published_parsed,\n",
        "        'link':item.link\n",
        "    }\n",
        "    stories.append(story)\n",
        "  return stories\n",
        "'''\n",
        "#Set the keyword search\n",
        "test_name = get_titles('HSBC')\n",
        "\n",
        "#append the result (Only links) into a empty list\n",
        "test_link = []\n",
        "for i in range(len(test_name)):\n",
        "  test_link.append(test_name[i].get('link'))\n",
        "print(test_link)\n",
        "arc_test = test_link[0]\n",
        "'''"
      ],
      "metadata": {
        "id": "cASx1DGUHzzS",
        "colab": {
          "base_uri": "https://localhost:8080/",
          "height": 70
        },
        "outputId": "c20de1a2-4dc1-4171-8bc5-e8629822ba31"
      },
      "execution_count": 5,
      "outputs": [
        {
          "output_type": "execute_result",
          "data": {
            "text/plain": [
              "\"\\n#Set the keyword search\\ntest_name = get_titles('HSBC')\\n\\n#append the result (Only links) into a empty list\\ntest_link = []\\nfor i in range(len(test_name)):\\n  test_link.append(test_name[i].get('link'))\\nprint(test_link)\\narc_test = test_link[0]\\n\""
            ],
            "application/vnd.google.colaboratory.intrinsic+json": {
              "type": "string"
            }
          },
          "metadata": {},
          "execution_count": 5
        }
      ]
    },
    {
      "cell_type": "markdown",
      "source": [
        "#Finbert Related Function"
      ],
      "metadata": {
        "id": "Wub-G4CIA7VY"
      }
    },
    {
      "cell_type": "code",
      "source": [
        "#Finbert \n",
        "def sentiment_check(sentences):\n",
        "  tone = []\n",
        "  tone_Score = []\n",
        "  esg = []\n",
        "  esg_Score = []\n",
        "  flsc = []\n",
        "  flsc_Score = []\n",
        "  esg9cat = []\n",
        "  esg9cat_Score = []\n",
        "  \n",
        "  if type(sentences) == list:\n",
        "    for idx, sent in enumerate(sentences):\n",
        "      tempL, tempS = tone_A(sent)\n",
        "      tone.append(tempL)\n",
        "      tone_Score.append(tempS)\n",
        "      '''\n",
        "      tempL, tempS = esg_A(sent)\n",
        "      esg.append(tempL)\n",
        "      esg_Score.append(tempS)\n",
        "\n",
        "      tempL, tempS = flsc_A(sent)\n",
        "      flsc.append(tempL)\n",
        "      flsc_Score.append(tempS)    \n",
        "\n",
        "      tempL, tempS = esg9cat_A(sent)\n",
        "      esg9cat.append(tempL)\n",
        "      esg9cat_Score.append(tempS) \n",
        "      \n",
        "    d = {'Sentences': sentences,'Tone': tone, 'Tone Score': tone_Score,\n",
        "        'ESG': esg, 'ESG Score': esg_Score,\n",
        "        'FLSC': flsc, 'FLSC Score': flsc_Score,\n",
        "        'ESG9Cat': esg9cat, 'ESG9Cat Score': esg9cat_Score}\n",
        "      '''   \n",
        "  else:\n",
        "    tempL, tempS = tone_A(sentences)\n",
        "    tone.append(tempL)\n",
        "    tone_Score.append(tempS)  \n",
        "\n",
        "  d = {'Sentences': sentences,'Tone': tone, 'Tone Score': tone_Score}\n",
        "  df_FinBERT_Score = pd.DataFrame(data=d)\n",
        "  temp_df = df_FinBERT_Score\n",
        "  #Calculate the score for each line and given a overall score\n",
        "  sent_positive = temp_df.Tone.str.count(\"Positive\").sum()\n",
        "  sent_negative = temp_df.Tone.str.count(\"Negative\").sum()\n",
        "  sent_neutral = temp_df.Tone.str.count(\"Neutral\").sum()\n",
        "  total = sent_positive + sent_negative + sent_neutral\n",
        "  \n",
        "  #Weight\n",
        "  sent_pov_weight = sent_positive / total\n",
        "  sent_neg_weight = sent_negative / total\n",
        "  sent_neut_weight = sent_neutral / total\n",
        "  \n",
        "\n",
        "  #find the largest number\n",
        "  if sent_pov_weight >= sent_neg_weight and sent_pov_weight >= sent_neut_weight:\n",
        "    temp_num = temp_df.loc[temp_df['Tone'] == 'Positive']\n",
        "    arc_tone = ['Positive']\n",
        "    arc_score = [temp_num['Tone Score'].sum()/len(temp_num['Tone Score'])]\n",
        "  \n",
        "  elif sent_neg_weight >= sent_pov_weight and sent_neg_weight >= sent_neut_weight:\n",
        "    temp_num = temp_df.loc[temp_df['Tone'] == 'Negative']\n",
        "    arc_tone = ['Negative']\n",
        "    arc_score = [temp_num['Tone Score'].sum()/len(temp_num['Tone Score'])]\n",
        "  \n",
        "  elif sent_neut_weight >= sent_neg_weight and sent_neut_weight >= sent_pov_weight:\n",
        "    temp_num = temp_df.loc[temp_df['Tone'] == 'Neutral']\n",
        "    arc_tone = ['Neutral']\n",
        "    arc_score = [temp_num['Tone Score'].sum()/len(temp_num['Tone Score'])]\n",
        "  \n",
        "  \n",
        "  d1 = {'Article Tone':arc_tone, 'Article Score':arc_score}  \n",
        "  df_Article_Score = pd.DataFrame(data=d1)\n",
        "\n",
        "  return df_FinBERT_Score, df_Article_Score\n",
        "  \n",
        "def tone_A(sentences):\n",
        "  #Tone\n",
        "  finbert = BertForSequenceClassification.from_pretrained('yiyanghkust/finbert-tone',num_labels=3, cache_dir='~/from_pretrained')\n",
        "  tokenizer = BertTokenizer.from_pretrained('yiyanghkust/finbert-tone')\n",
        "  inputs = tokenizer(sentences, return_tensors=\"pt\", padding=True)\n",
        "  nlp = pipeline(\"sentiment-analysis\", model=finbert, tokenizer=tokenizer)\n",
        "  try:\n",
        "    results = nlp(sentences)\n",
        "  except:\n",
        "    firstpart = sentences[:511]\n",
        "    results = nlp(firstpart)\n",
        "    \n",
        "\n",
        "  #print('Tone:',results)\n",
        "  temp_label = results[0].get('label')\n",
        "  temp_score = results[0].get('score')\n",
        "  return temp_label, temp_score\n",
        "\n",
        "def esg_A(sentences):\n",
        "  #ESG stands for Environmental, Social, Governance or None.\n",
        "  finbert = BertForSequenceClassification.from_pretrained('yiyanghkust/finbert-esg',num_labels=4, cache_dir='~/from_pretrained')\n",
        "  tokenizer = BertTokenizer.from_pretrained('yiyanghkust/finbert-esg')\n",
        "  nlp = pipeline(\"text-classification\", model=finbert, tokenizer=tokenizer)\n",
        "  \n",
        "  results = nlp(sentences)\n",
        "  #print('ESG:',results)\n",
        "  temp_label = results[0].get('label')\n",
        "  temp_score = results[0].get('score')\n",
        "  return temp_label, temp_score\n",
        "\n",
        "def flsc_A(sentences):\n",
        "  #Forward-looking statements\n",
        "  finbert = BertForSequenceClassification.from_pretrained('yiyanghkust/finbert-fls',num_labels=3, cache_dir='~/from_pretrained')\n",
        "  tokenizer = BertTokenizer.from_pretrained('yiyanghkust/finbert-fls')\n",
        "  nlp = pipeline(\"text-classification\", model=finbert, tokenizer=tokenizer)\n",
        "  \n",
        "  results = nlp(sentences)\n",
        "  #print('FLS:',results)# [{'label': 'Specific FLS', 'score': 0.77278733253479}]\n",
        "  temp_label = results[0].get('label')\n",
        "  temp_score = results[0].get('score')\n",
        "  return temp_label, temp_score\n",
        "\n",
        "def esg9cat_A(sentences):\n",
        "  #Climate Change, Natural Capital, Pollution & Waste, Human Capital, Product Liability, Community Relations, Corporate Governance, Business Ethics & Values, or Non-ESG.\n",
        "  finbert = BertForSequenceClassification.from_pretrained('yiyanghkust/finbert-esg-9-categories',num_labels=9)\n",
        "  tokenizer = BertTokenizer.from_pretrained('yiyanghkust/finbert-esg-9-categories')\n",
        "  nlp = pipeline(\"text-classification\", model=finbert, tokenizer=tokenizer)\n",
        "\n",
        "  results = nlp(sentences)\n",
        "  #print('9Cat:',results) # [{'label': 'Climate Change', 'score': 0.9955655932426453}]\n",
        "  temp_label = results[0].get('label')\n",
        "  temp_score = results[0].get('score')\n",
        "  return temp_label, temp_score "
      ],
      "metadata": {
        "id": "eEebpQsfH0Dj"
      },
      "execution_count": 6,
      "outputs": []
    },
    {
      "cell_type": "markdown",
      "source": [
        "#FinBERT Summarization"
      ],
      "metadata": {
        "id": "cOx1xE8nZu69"
      }
    },
    {
      "cell_type": "code",
      "source": [
        "def finBERT_Sum(paragraph):\n",
        "  model = AutoModelForMaskedLM.from_pretrained(\"yiyanghkust/finbert-pretrain\")\n",
        "\n",
        "  bert_model = TransformerSummarizer()\n",
        "  full = ''.join(bert_model(paragraph, min_length=60))\n",
        "  return full"
      ],
      "metadata": {
        "id": "9FtZjJG0Zugx"
      },
      "execution_count": 7,
      "outputs": []
    },
    {
      "cell_type": "markdown",
      "source": [
        "#Newspaper3k Function - get article"
      ],
      "metadata": {
        "id": "hnVE1ASqA_NZ"
      }
    },
    {
      "cell_type": "code",
      "source": [
        "#Newspaper3K\n",
        "\n",
        "#this function is to clean all unwanted blank line and return a paragraph\n",
        "def process_arc(url):\n",
        "  sentences = (get_article(url))\n",
        "  s1 = sentences.split(\"\\n\")\n",
        "  temp = []\n",
        "  print(s1)\n",
        "  for i in range(len(s1)):\n",
        "    if s1[i] != '':\n",
        "      temp.append(s1[i])\n",
        "  \n",
        "  temp_join = ' '.join(temp)\n",
        "  return temp_join\n",
        "\n",
        "def get_article(url):\n",
        "  test = ''\n",
        "  try:\n",
        "    #For different language newspaper refer above table\n",
        "    toi_article = Article(url, language=\"en\") # en for English\n",
        "    #To download the article\n",
        "    toi_article.download()\n",
        "    #To parse the article\n",
        "    toi_article.parse()\n",
        "    #To perform natural language processing ie..nlp\n",
        "    toi_article.nlp()\n",
        "    '''\n",
        "    #print the link\n",
        "    print(\"Article's link:\", url)\n",
        "    print('==================================================')\n",
        "    #To extract title\n",
        "    print(\"Article's Title:\", toi_article.title)\n",
        "    print('==================================================')\n",
        "    #To extract keywords\n",
        "    print(\"Article's Keywords:\", toi_article.keywords)\n",
        "    print('==================================================')\n",
        "    #To extract text\n",
        "    print(\"Article's Text:\", toi_article.text)\n",
        "    print('==================================================')\n",
        "    #To extract summary\n",
        "    print(\"Article's Summary:\", toi_article.summary)\n",
        "    print('==================================================')\n",
        "    '''\n",
        "    test = toi_article.text\n",
        "  except:\n",
        "    pass\n",
        "\n",
        "  return test\n"
      ],
      "metadata": {
        "id": "Ngdhy1XgBAgj"
      },
      "execution_count": 8,
      "outputs": []
    },
    {
      "cell_type": "markdown",
      "source": [
        "#Save to excel storage\n"
      ],
      "metadata": {
        "id": "BZZr9QdWvOvg"
      }
    },
    {
      "cell_type": "code",
      "source": [
        "\n",
        "def to_storage(df2):\n",
        "  try:\n",
        "    df_news_storage = pd.read_excel('/content/drive/MyDrive/Colab Notebooks/Data/News Storage.xlsx')\n",
        "    new_df_news_storage = pd.concat([df_news_storage,df2], ignore_index=True)\n",
        "    new_df_news_storage.to_excel('/content/drive/MyDrive/Colab Notebooks/Data/News Storage.xlsx')\n",
        "  except:\n",
        "    df2.to_excel('/content/drive/MyDrive/Colab Notebooks/Data/News Storage.xlsx', index = None)\n",
        "\n",
        "  print('successful saved...\\n','='*50)\n",
        "  return"
      ],
      "metadata": {
        "id": "-2fbzVZovOTZ"
      },
      "execution_count": 18,
      "outputs": []
    },
    {
      "cell_type": "markdown",
      "source": [
        "#Stocks"
      ],
      "metadata": {
        "id": "A8J9k754vH3J"
      }
    },
    {
      "cell_type": "code",
      "source": [
        "def get_stocks(name):\n",
        "  # Set the start and end date\n",
        "  start_date = '2020-01-01'\n",
        "  end_date = '2022-11-17'\n",
        "\n",
        "  # Set the ticker\n",
        "  #ticker = ['^HSI','0005.HK','0023.HK'] \n",
        "  ticker = name \n",
        "  # Get the data\n",
        "  data = yf.download(ticker, start_date, end_date)\n",
        "  # Print the last 5 rows\n",
        "  #print(data.head())\n",
        "  df = pd.DataFrame(data=data)\n",
        "  return df"
      ],
      "metadata": {
        "id": "VZ3QjKu3vHYY"
      },
      "execution_count": 10,
      "outputs": []
    },
    {
      "cell_type": "markdown",
      "source": [
        "#Main Body - Call Function"
      ],
      "metadata": {
        "id": "Esf_7FkxvywH"
      }
    },
    {
      "cell_type": "code",
      "source": [
        "#Enter the keyword search in google news\n",
        "news_list = get_news('HSBC')\n",
        "print(news_list[1])\n"
      ],
      "metadata": {
        "id": "2_BAFMqXH0BM",
        "colab": {
          "base_uri": "https://localhost:8080/"
        },
        "outputId": "a9d596cc-4a32-46e7-f279-ba6d2603fcb0"
      },
      "execution_count": 11,
      "outputs": [
        {
          "output_type": "stream",
          "name": "stdout",
          "text": [
            "{'title': 'HSBC Advance Account Review – Forbes Advisor UK - Forbes', 'published': 'Thu, 24 Nov 2022 19:55:00 GMT', 'published_parsed': time.struct_time(tm_year=2022, tm_mon=11, tm_mday=24, tm_hour=19, tm_min=55, tm_sec=0, tm_wday=3, tm_yday=328, tm_isdst=0), 'link': 'https://news.google.com/__i/rss/rd/articles/CBMiRmh0dHBzOi8vd3d3LmZvcmJlcy5jb20vdWsvYWR2aXNvci9iYW5raW5nL2hzYmMtYWR2YW5jZS1hY2NvdW50LXJldmlldy_SAQA?oc=5'}\n"
          ]
        }
      ]
    },
    {
      "cell_type": "code",
      "source": [
        "#append the result (Only links) into a empty list\n",
        "news_title = []\n",
        "news_link = []\n",
        "news_published = []\n",
        "for i in range(len(news_list)):\n",
        "  news_title.append(news_list[i].get('title'))\n",
        "  news_link.append(news_list[i].get('link'))\n",
        "  news_published.append(news_list[i].get('published'))\n",
        "print(news_link[:5])"
      ],
      "metadata": {
        "colab": {
          "base_uri": "https://localhost:8080/"
        },
        "id": "ije3DiBdp-lj",
        "outputId": "2a23b09e-ea81-4963-baba-d6ab6796ffdd"
      },
      "execution_count": 12,
      "outputs": [
        {
          "output_type": "stream",
          "name": "stdout",
          "text": [
            "['https://news.google.com/__i/rss/rd/articles/CBMiSWh0dHBzOi8vd3d3LnByaXZhdGViYW5rZXJpbnRlcm5hdGlvbmFsLmNvbS9uZXdzL2hzYmMtZ3BiLWRwbS1hc2lhLW1vYmlsZS_SAQA?oc=5', 'https://news.google.com/__i/rss/rd/articles/CBMiRmh0dHBzOi8vd3d3LmZvcmJlcy5jb20vdWsvYWR2aXNvci9iYW5raW5nL2hzYmMtYWR2YW5jZS1hY2NvdW50LXJldmlldy_SAQA?oc=5', 'https://news.google.com/__i/rss/rd/articles/CBMiP2h0dHBzOi8vd3d3LmZ0LmNvbS9jb250ZW50LzQ3ZmU4MTM5LTE2NzItNGQ2Yy1hMTliLWQzYTdjYWU0NzU3YtIBAA?oc=5', 'https://news.google.com/__i/rss/rd/articles/CBMicGh0dHBzOi8vd3d3LmZ0YWR2aXNlci5jb20vcHJvdGVjdGlvbi8yMDIyLzExLzI0L2hzYmMtbGlmZS1wYXlzLW91dC0xMDAtb2YtcHJvc3RhdGUtYW5kLXRlc3RpY3VsYXItY2FuY2VyLWNsYWltcy_SAQA?oc=5', 'https://news.google.com/__i/rss/rd/articles/CBMingFodHRwczovL3d3dy5zY21wLmNvbS9idXNpbmVzcy9iYW5raW5nLWZpbmFuY2UvYXJ0aWNsZS8zMjAwODM0L3dpbGwtaW5mbGF0aW9uLWRlcmFpbC1lc2ctdGFyZ2V0cy1oc2JjLXBvbGwtZmluZHMtNjAtY2VudC1maW5hbmNpYWwtcHJvZmVzc2lvbmFscy1iZWxpZXZlLWhpZ2hlctIBAA?oc=5']\n"
          ]
        }
      ]
    },
    {
      "cell_type": "code",
      "source": [
        "article_title = []\n",
        "article_date = []\n",
        "article_text = []\n",
        "article_summarized_text = []\n",
        "tone = []\n",
        "tone_score = []\n",
        "\n",
        "#create a loop to process all the news\n",
        "for i in range(len(news_list)):\n",
        "  sorted_arc = process_arc(news_link[i])\n",
        "  article_text.append(sorted_arc)\n",
        "  sum_arc = finBERT_Sum(sorted_arc)\n",
        "  tempT, tempS = tone_A(sum_arc)\n",
        "  \n",
        "  #append to a list and transform into excel\n",
        "  article_title.append(news_title[i])\n",
        "  article_date.append(news_published[i])\n",
        "  article_summarized_text.append(sum_arc)\n",
        "  tone.append(tempT)\n",
        "  tone_score.append(tempS)"
      ],
      "metadata": {
        "colab": {
          "base_uri": "https://localhost:8080/",
          "height": 1000,
          "referenced_widgets": [
            "ed31af44bbf54ba6abdcad68ad4eefa9",
            "72bbba6210cf49bf84c38324b9d17859",
            "b6f6ed2c35fe4d6f8f6743e088cd91b3",
            "f9b375c333034161b3406c73216196f5",
            "9d46b16086504635ba5a5f4aa8064d4c",
            "36c7f6b372d948aba83bf429e85dbe86",
            "fe6ace0c108b4ebb8af32f5ca47e645e",
            "df7e1bdad54e4cb09b58292122237fd2",
            "96c6e8d8870247d9b54ce1c3e711f419",
            "35e477f4885a4b48838d58e4f82fa786",
            "bd0e95a5366042a886926be95b745958",
            "35a06feb97924b61a32855254b7e16fd",
            "f926f87202d046b0a519a28872c85bf6",
            "5671a7453c09474491b623f9b52887d0",
            "ff266b0f2cf5446a94ee2f9a6f682cb9",
            "4f669ed13140482a81d1eb8b1410293e",
            "87542f0f54b44c8d97b5911a79a9396c",
            "1829153b26f8440aafe7bb9b33b724b6",
            "674787cddcac4a16826e9b4c36ce8970",
            "4314870d9f684c98a0b8d51fd7d90159",
            "bb33dda9ac44460290437184af7bf57d",
            "8c141a393397401fafc718c016baebd5",
            "709d4a587e424f6ea4bf58eee7a1ddc4",
            "dd305845b42d4134aae10c8a88990674",
            "3236dd6516a740afbdbe9f170ec2b740",
            "bad867da83e14dff83ddea5d4fdf9d3f",
            "463dd86e3afe48768197a418d29d5d43",
            "35646f6bb07b472199209653e4005663",
            "b0924cbb0c234df89ba240adec21567d",
            "8ff9370709854eb7ba30d625b9389a2d",
            "810a51d34f6648ef9d51400e17cda681",
            "3b673317332c4dfbbed962404dcb7bf1",
            "2c99edbb020b4851a6f77df1a55072f4",
            "4bd546a82a68479380649207022f2c0c",
            "f3b87cd6961743ef88fd5593df1713d1",
            "287a1fd687a84d65bf023d0a7fe42eb9",
            "ac1960513c3741a8b9b6124401a5168a",
            "cfb599aaf56f46e3aba2f591a0aed93e",
            "6bb1df60572a413fa639d5286d495bf9",
            "dd800053ca3746abaed5afbe31ebe50f",
            "a35897a1b6ba4ba59903a10cb989ccf4",
            "66be9b4d43c14c6f84df7249537c88c7",
            "857885feeca44386884d4d07c286562a",
            "96818eba610c47fdbc7e1aaaf297e414",
            "9a02d7c9005a49f0b4e10c068bf2e229",
            "d18ebd698a8741c9888ca7423d9a405a",
            "92c68ff2c91b4944b57fcf4eabda8851",
            "c075891ecbc44ae494eb684050f7c072",
            "b50903d0d9944ae0903110bd978e06a3",
            "fff493d6183946aaab4d9809140ffc7b",
            "3a99e9021b3f41bf858aa9556f171542",
            "7613a15b81414ce890daf813f015f706",
            "da36eb88eb7e4e01975452f1fcb57a49",
            "adc74f861e904e3981891b4af6ac2769",
            "f818b7ef059b44ecb888bfee8b58c82a",
            "a45b009e0492484d84dbdaca9f0da38b",
            "cfe2b636426644dd91fe2caaf1c52e4b",
            "9d890cd2d6394f44bd319f937e80a3b7",
            "53f1339749424ccf83cb0c734fafe95b",
            "5400ce4e8ac141269bdcc01025b4080e",
            "f8d35957158741279fd7c14e475f3318",
            "92115770b85f43e78639848cd015229b",
            "8f66644b7fc040a3b57f14d7e64b8231",
            "38f29f53af634fbe98b0f0696c37a146",
            "a790bdeeac9c4253975d83c4486716be",
            "67ed7c6c4dd84cffbc13ed284dc15a2f",
            "bf469b80ae1141868c47e3ec64919e07",
            "a907f6ce30ea4346a4cf66111c3e36f0",
            "9b9bad81ff8045d0bb098dbdae82aac9",
            "67b93ccc278c4a78938847b0b2f926de",
            "3212229e7dcd4cc0b2a38d9cf04886ef",
            "2d6eb7f971784db2b07eddd01fdeffea",
            "c2334c16e1f04b9f84d0365fc1045315",
            "4e962a2ba9924ce59d83d2d3dc79e377",
            "cbe7a050409143fab7b4bdfce1918166",
            "75a5aefa88e8474386a3b3c6baa25f4c",
            "a93b290800554be6a7e7b0bdc83a8893",
            "92b2f7f9b7dc47ba9f0d6de76a19c757",
            "495d5e0da5d94d5dadf1b65e9e1c32be",
            "9071737a209742b9b213a4e63996c1ed",
            "56b8c118fc864b1cbe1e5df41072aa54",
            "ea70d4357f3b4abcbfe7e698530c2b9a",
            "8f24c198dfaa47bb9ea2df9b0cd3e82d",
            "ae35c997974c4cecbdd9fab9377cebd4",
            "cf9284a339754e40a165935839c404b0",
            "049095ec6fa742568428aa8e0daac8d8",
            "b1430c2f78a344dcb3e87be76d08ebcd",
            "8aaad63b0a42408d8e51dc05327b6c77",
            "3aeb6a74c4f44aa1b74e5f9972eeacad",
            "321a9e7f3e0a47d5b69b7fa8530fe4e9",
            "36960f2e343744cca06d20bea2762967",
            "4067b588754e498198f4388ba898363f",
            "be956ab504b04d26841f24e6a6422f63",
            "4c2c6215ebb84c0c8979fe3764a2277b",
            "f78375133628482481fd2a661529ab0b",
            "3732fc8516af4e8cb7bdc51b569dffbb",
            "cc3b18266c534954b8551a545c38c512",
            "142cdfa0a4f6414192f4dc17f4f0b587",
            "0f6c8dc7d4f844a4ae6c58cbf662fdef",
            "ed3381eba6324ab2a759812e5ec80d0e",
            "3b04a96719e44ef4bcc76bd41808ea8e",
            "21f2831a17454031b7d5393265fdf51d",
            "6f4d14cf60eb4ba49c592dfb54cbca55",
            "e06f03a5d7bd47b3a772af8415b35d93",
            "2aff8d28cc964ab58ce047c7de31ae8e",
            "76f9d592790b437a9a0fa749bcfe1edb",
            "acaf90a62baa4aa39b6a90c1c52619eb",
            "4aefbe19b6fd4d29a1d91e98fed4ce5f",
            "a63d838fcee549009a61dcba83dbd283",
            "e5f2688354fa49a39f4904ce9b6a6f66"
          ]
        },
        "id": "IaBoE7uorZV9",
        "outputId": "6cd79115-eec2-4301-dae9-f525836bdbd5"
      },
      "execution_count": 13,
      "outputs": [
        {
          "output_type": "stream",
          "name": "stdout",
          "text": [
            "['Siew Meng Tan', '', 'HSBC Global Private Banking (GPB) has announced the launch of its discretionary digital platform (DPM) in Asia, the first bank in the region to offer this service on a mobile app.', '', 'This feature allows private banking clients to subscribe and reallocate their discretionary portfolio via the HSBC GPB’s mobile apps. As a result, they now have 24/7 access to portfolio holdings and manager updates.', '', 'Launched online in May 20221, the programme uses building blocks to construct clients’ portfolios exclusively for clients in Asia with a minimum investment of $200,000. These discretionary portfolio building blocks offer equity, fixed income and multi-asset portfolios, managed for HSBC GPB by HSBC Asset Management and third-party managers.', '', 'In addition, this DPM strategy represents over 10% of HSBC GPB’s DPM assets under management in Asia.', '', 'Last year, HSBC GPB released its online trading platform for private banking clients in Asia to connect clients with the latest market opportunities. This included trading access to 10 key financial markets.', '', 'Siew Meng Tan, regional head of HSBC Global Private Banking, Asia Pacific, said: “In an increasingly challenging environment, more and more clients in Asia are opting for discretionary mandates to diversify their portfolios, build multiple income streams and take up defensive positions in high-quality companies to withstand market volatility and interest rate hikes. The new discretionary digital platform will enable us to serve the immense and fast-growing segment of underserved affluent-to-high net worth investors, giving them access to sophisticated and exclusive DPM portfolio building blocks, especially the next generation clients who are more hands-on in portfolio construction.”', '', 'He added: “Most discussions on DPM or portfolio construction today are still heavily reliant on face-to-face meetings, whether physical or virtual. The discretionary digital platform is built upon our strategic vision of making a broad product shelf and CIO3 content digitally available to our clients beyond the UHNW space. Having a simple yet powerful digital wealth management platform enabling investment at their fingertips has been a true game changer appreciated by many of our clients, especially digitally savvy millennials, who desire flexible means for more proactive wealth management, anytime and anywhere. In Hong Kong, 90% of our clients said that our digital services exceeded or met their expectations, a year-on-year increase of 5%.”']\n"
          ]
        },
        {
          "output_type": "display_data",
          "data": {
            "text/plain": [
              "Downloading:   0%|          | 0.00/359 [00:00<?, ?B/s]"
            ],
            "application/vnd.jupyter.widget-view+json": {
              "version_major": 2,
              "version_minor": 0,
              "model_id": "ed31af44bbf54ba6abdcad68ad4eefa9"
            }
          },
          "metadata": {}
        },
        {
          "output_type": "display_data",
          "data": {
            "text/plain": [
              "Downloading:   0%|          | 0.00/442M [00:00<?, ?B/s]"
            ],
            "application/vnd.jupyter.widget-view+json": {
              "version_major": 2,
              "version_minor": 0,
              "model_id": "35a06feb97924b61a32855254b7e16fd"
            }
          },
          "metadata": {}
        },
        {
          "output_type": "stream",
          "name": "stderr",
          "text": [
            "Some weights of the model checkpoint at yiyanghkust/finbert-pretrain were not used when initializing BertForMaskedLM: ['cls.seq_relationship.bias', 'cls.seq_relationship.weight']\n",
            "- This IS expected if you are initializing BertForMaskedLM from the checkpoint of a model trained on another task or with another architecture (e.g. initializing a BertForSequenceClassification model from a BertForPreTraining model).\n",
            "- This IS NOT expected if you are initializing BertForMaskedLM from the checkpoint of a model that you expect to be exactly identical (initializing a BertForSequenceClassification model from a BertForSequenceClassification model).\n"
          ]
        },
        {
          "output_type": "display_data",
          "data": {
            "text/plain": [
              "Downloading:   0%|          | 0.00/570 [00:00<?, ?B/s]"
            ],
            "application/vnd.jupyter.widget-view+json": {
              "version_major": 2,
              "version_minor": 0,
              "model_id": "709d4a587e424f6ea4bf58eee7a1ddc4"
            }
          },
          "metadata": {}
        },
        {
          "output_type": "display_data",
          "data": {
            "text/plain": [
              "Downloading:   0%|          | 0.00/440M [00:00<?, ?B/s]"
            ],
            "application/vnd.jupyter.widget-view+json": {
              "version_major": 2,
              "version_minor": 0,
              "model_id": "4bd546a82a68479380649207022f2c0c"
            }
          },
          "metadata": {}
        },
        {
          "output_type": "stream",
          "name": "stderr",
          "text": [
            "Some weights of the model checkpoint at bert-base-uncased were not used when initializing BertModel: ['cls.predictions.bias', 'cls.seq_relationship.bias', 'cls.predictions.decoder.weight', 'cls.seq_relationship.weight', 'cls.predictions.transform.dense.bias', 'cls.predictions.transform.dense.weight', 'cls.predictions.transform.LayerNorm.weight', 'cls.predictions.transform.LayerNorm.bias']\n",
            "- This IS expected if you are initializing BertModel from the checkpoint of a model trained on another task or with another architecture (e.g. initializing a BertForSequenceClassification model from a BertForPreTraining model).\n",
            "- This IS NOT expected if you are initializing BertModel from the checkpoint of a model that you expect to be exactly identical (initializing a BertForSequenceClassification model from a BertForSequenceClassification model).\n"
          ]
        },
        {
          "output_type": "display_data",
          "data": {
            "text/plain": [
              "Downloading:   0%|          | 0.00/232k [00:00<?, ?B/s]"
            ],
            "application/vnd.jupyter.widget-view+json": {
              "version_major": 2,
              "version_minor": 0,
              "model_id": "9a02d7c9005a49f0b4e10c068bf2e229"
            }
          },
          "metadata": {}
        },
        {
          "output_type": "display_data",
          "data": {
            "text/plain": [
              "Downloading:   0%|          | 0.00/28.0 [00:00<?, ?B/s]"
            ],
            "application/vnd.jupyter.widget-view+json": {
              "version_major": 2,
              "version_minor": 0,
              "model_id": "a45b009e0492484d84dbdaca9f0da38b"
            }
          },
          "metadata": {}
        },
        {
          "output_type": "display_data",
          "data": {
            "text/plain": [
              "Downloading:   0%|          | 0.00/533 [00:00<?, ?B/s]"
            ],
            "application/vnd.jupyter.widget-view+json": {
              "version_major": 2,
              "version_minor": 0,
              "model_id": "bf469b80ae1141868c47e3ec64919e07"
            }
          },
          "metadata": {}
        },
        {
          "output_type": "display_data",
          "data": {
            "text/plain": [
              "Downloading:   0%|          | 0.00/439M [00:00<?, ?B/s]"
            ],
            "application/vnd.jupyter.widget-view+json": {
              "version_major": 2,
              "version_minor": 0,
              "model_id": "92b2f7f9b7dc47ba9f0d6de76a19c757"
            }
          },
          "metadata": {}
        },
        {
          "output_type": "display_data",
          "data": {
            "text/plain": [
              "Downloading:   0%|          | 0.00/226k [00:00<?, ?B/s]"
            ],
            "application/vnd.jupyter.widget-view+json": {
              "version_major": 2,
              "version_minor": 0,
              "model_id": "3aeb6a74c4f44aa1b74e5f9972eeacad"
            }
          },
          "metadata": {}
        },
        {
          "output_type": "display_data",
          "data": {
            "text/plain": [
              "Downloading:   0%|          | 0.00/533 [00:00<?, ?B/s]"
            ],
            "application/vnd.jupyter.widget-view+json": {
              "version_major": 2,
              "version_minor": 0,
              "model_id": "ed3381eba6324ab2a759812e5ec80d0e"
            }
          },
          "metadata": {}
        },
        {
          "output_type": "stream",
          "name": "stdout",
          "text": [
            "['']\n"
          ]
        },
        {
          "output_type": "stream",
          "name": "stderr",
          "text": [
            "Some weights of the model checkpoint at yiyanghkust/finbert-pretrain were not used when initializing BertForMaskedLM: ['cls.seq_relationship.bias', 'cls.seq_relationship.weight']\n",
            "- This IS expected if you are initializing BertForMaskedLM from the checkpoint of a model trained on another task or with another architecture (e.g. initializing a BertForSequenceClassification model from a BertForPreTraining model).\n",
            "- This IS NOT expected if you are initializing BertForMaskedLM from the checkpoint of a model that you expect to be exactly identical (initializing a BertForSequenceClassification model from a BertForSequenceClassification model).\n",
            "Some weights of the model checkpoint at bert-base-uncased were not used when initializing BertModel: ['cls.predictions.bias', 'cls.seq_relationship.bias', 'cls.predictions.decoder.weight', 'cls.seq_relationship.weight', 'cls.predictions.transform.dense.bias', 'cls.predictions.transform.dense.weight', 'cls.predictions.transform.LayerNorm.weight', 'cls.predictions.transform.LayerNorm.bias']\n",
            "- This IS expected if you are initializing BertModel from the checkpoint of a model trained on another task or with another architecture (e.g. initializing a BertForSequenceClassification model from a BertForPreTraining model).\n",
            "- This IS NOT expected if you are initializing BertModel from the checkpoint of a model that you expect to be exactly identical (initializing a BertForSequenceClassification model from a BertForSequenceClassification model).\n"
          ]
        },
        {
          "output_type": "stream",
          "name": "stdout",
          "text": [
            "['Latest news on ETFs Visit our ETF Hub to find out more and to explore our in-depth data and comparison tools', '', 'HSBC Asset Management has become the latest asset manager to downgrade the classifications of Paris-aligned exchange traded funds under the EU’s Sustainable Finance Disclosure Regulation.', '', 'The fund arm of London-based banking group HSBC has written to investors in seven Ucits ETFs, informing them that the vehicles’ SFDR categories will be changed from Article 9 to Article 8.', '', 'The changes, which take effect from December 1, apply to the HSBC MSCI Europe, Japan, USA, World, Asia Pacific ex-Japan and Emerging Markets Climate Paris-Aligned Ucits ETFs.', '', 'Under SFDR, Article 9 funds must follow a sustainable investment strategy, while Article 8 funds should consider environmental or social factors but do not need to target a sustainable outcome.', '', 'This article was previously published by Ignites Europe, a title owned by the FT Group.', '', 'According to recent guidance from the European markets watchdog, vehicles classified as Article 9 should exclusively be invested in sustainable assets.', '', 'HSBC AM said its move came “pending further regulatory clarification on the categorisation of funds that track benchmarks that qualify as EU Paris-aligned benchmarks”.', '', 'The company said its directors had “determined that it is in the best interests of investors to recategorise the funds as Article 8 funds under SFDR”.', '', '“This is a recategorisation for SFDR purposes only. There is no change to the investment objective or investment policy of each fund or the way in which each fund is managed,” HSBC AM added.', '', 'BlackRock and Invesco made similar moves earlier this month, in a change that collectively affected more than 20 ETFs.', '', 'Morningstar analysis has indicated there has been an acceleration in fund firms downgrading products’ SFDR classifications as they prepare to implement new regulatory technical standards that will come into effect in January 2023.', '', '*Ignites Europe is a news service published by FT Specialist for professionals working in the asset management industry. It covers everything from new product launches to regulations and industry trends. Trials and subscriptions are available at igniteseurope.com.', '', 'Click here to visit the ETF Hub', '', '', '', '']\n"
          ]
        },
        {
          "output_type": "stream",
          "name": "stderr",
          "text": [
            "Some weights of the model checkpoint at yiyanghkust/finbert-pretrain were not used when initializing BertForMaskedLM: ['cls.seq_relationship.bias', 'cls.seq_relationship.weight']\n",
            "- This IS expected if you are initializing BertForMaskedLM from the checkpoint of a model trained on another task or with another architecture (e.g. initializing a BertForSequenceClassification model from a BertForPreTraining model).\n",
            "- This IS NOT expected if you are initializing BertForMaskedLM from the checkpoint of a model that you expect to be exactly identical (initializing a BertForSequenceClassification model from a BertForSequenceClassification model).\n",
            "Some weights of the model checkpoint at bert-base-uncased were not used when initializing BertModel: ['cls.predictions.bias', 'cls.seq_relationship.bias', 'cls.predictions.decoder.weight', 'cls.seq_relationship.weight', 'cls.predictions.transform.dense.bias', 'cls.predictions.transform.dense.weight', 'cls.predictions.transform.LayerNorm.weight', 'cls.predictions.transform.LayerNorm.bias']\n",
            "- This IS expected if you are initializing BertModel from the checkpoint of a model trained on another task or with another architecture (e.g. initializing a BertForSequenceClassification model from a BertForPreTraining model).\n",
            "- This IS NOT expected if you are initializing BertModel from the checkpoint of a model that you expect to be exactly identical (initializing a BertForSequenceClassification model from a BertForSequenceClassification model).\n"
          ]
        },
        {
          "output_type": "stream",
          "name": "stdout",
          "text": [
            "['HSBC Life has paid out on 100 per cent of prostate and testicular cancer claims between January and September this year, according to data published today (November 24).', '', 'The insurer said examples included a customer who received a £9,300 payment after making a prostate cancer claim, and a testicular cancer claim for £48,530.', '', 'Both claims, the insurer said, were paid within 24 hours and submitted on HSBC Life Critical Illness Plus policies.', '', 'Around one in eight men will be diagnosed with prostate cancer at some stage in their life, according to Prostate Cancer UK.', '', 'Around 2,400 men a year suffer from testicular cancer, according to Cancer Research, with men aged between 30 to 34-years-old most at risk.', '', \"With November being 'Men’s Health Awareness Month', HSBC Life said it wanted to highlight the importance of health check-ups.\", '', 'It has also urged advisers to be aware of the full range of support available for customers and the differences in critical illness policies - such as variances to standard cover definitions among provider.', '', \"HSBC Life's critical illness product provides policyholders with access to physiotherapy, a second medical opinion, mental health support, and annual health MOTs.\", '', '“Men’s Health Awareness Month is a vital campaign as it seeks to encourage open conversation around male health-related issues and reduce any stigma,\" said HSBC Life chief executive, Mark Hussein.', '', '\"It also signposts the valuable information and resources available to provide support and comfort for men and their families during times of need.”', '', 'According to experts, \\'added value services\\' form a core part of modern protection plans and \"cannot be understated\".', '', 'Proposition and distribution director at CIExpert, Paul Roberts, said: “Perhaps the most important of all linked to cancer is access to a face-to-face second medical opinion, providing reassurance regarding any diagnosis supported by a comprehensive treatment plan.', '', '\"Insurers such as HSBC Life, who include this as standard for all their life & critical illness plus plan policyholders, must be commended for doing so.”', '', 'ruby.hinchliffe@ft.com']\n"
          ]
        },
        {
          "output_type": "stream",
          "name": "stderr",
          "text": [
            "Some weights of the model checkpoint at yiyanghkust/finbert-pretrain were not used when initializing BertForMaskedLM: ['cls.seq_relationship.bias', 'cls.seq_relationship.weight']\n",
            "- This IS expected if you are initializing BertForMaskedLM from the checkpoint of a model trained on another task or with another architecture (e.g. initializing a BertForSequenceClassification model from a BertForPreTraining model).\n",
            "- This IS NOT expected if you are initializing BertForMaskedLM from the checkpoint of a model that you expect to be exactly identical (initializing a BertForSequenceClassification model from a BertForSequenceClassification model).\n",
            "Some weights of the model checkpoint at bert-base-uncased were not used when initializing BertModel: ['cls.predictions.bias', 'cls.seq_relationship.bias', 'cls.predictions.decoder.weight', 'cls.seq_relationship.weight', 'cls.predictions.transform.dense.bias', 'cls.predictions.transform.dense.weight', 'cls.predictions.transform.LayerNorm.weight', 'cls.predictions.transform.LayerNorm.bias']\n",
            "- This IS expected if you are initializing BertModel from the checkpoint of a model trained on another task or with another architecture (e.g. initializing a BertForSequenceClassification model from a BertForPreTraining model).\n",
            "- This IS NOT expected if you are initializing BertModel from the checkpoint of a model that you expect to be exactly identical (initializing a BertForSequenceClassification model from a BertForSequenceClassification model).\n"
          ]
        },
        {
          "output_type": "stream",
          "name": "stdout",
          "text": [
            "['The HSBC headquarters in Hong Kong’s Central. The bank’s third ESG sentiment survey this year polled 352 financial professionals across the globe in roles related to ESG decision-making. Photo: Yik Yeung -man']\n"
          ]
        },
        {
          "output_type": "stream",
          "name": "stderr",
          "text": [
            "Some weights of the model checkpoint at yiyanghkust/finbert-pretrain were not used when initializing BertForMaskedLM: ['cls.seq_relationship.bias', 'cls.seq_relationship.weight']\n",
            "- This IS expected if you are initializing BertForMaskedLM from the checkpoint of a model trained on another task or with another architecture (e.g. initializing a BertForSequenceClassification model from a BertForPreTraining model).\n",
            "- This IS NOT expected if you are initializing BertForMaskedLM from the checkpoint of a model that you expect to be exactly identical (initializing a BertForSequenceClassification model from a BertForSequenceClassification model).\n",
            "Some weights of the model checkpoint at bert-base-uncased were not used when initializing BertModel: ['cls.predictions.bias', 'cls.seq_relationship.bias', 'cls.predictions.decoder.weight', 'cls.seq_relationship.weight', 'cls.predictions.transform.dense.bias', 'cls.predictions.transform.dense.weight', 'cls.predictions.transform.LayerNorm.weight', 'cls.predictions.transform.LayerNorm.bias']\n",
            "- This IS expected if you are initializing BertModel from the checkpoint of a model trained on another task or with another architecture (e.g. initializing a BertForSequenceClassification model from a BertForPreTraining model).\n",
            "- This IS NOT expected if you are initializing BertModel from the checkpoint of a model that you expect to be exactly identical (initializing a BertForSequenceClassification model from a BertForSequenceClassification model).\n"
          ]
        },
        {
          "output_type": "stream",
          "name": "stdout",
          "text": [
            "['Mumbai: HSBC Mutual Fund will absorb the entire team of L&T Mutual Fund it acquired last month, said two people with direct knowledge of the matter.The Indian asset management arm of the British bank has introduced a new management structure where its existing head Ravi Menon and L&T Mutual\\'s Kailash Kulkarni would be the co-chief executive officers, the people said. Kulkarni was CEO of L&T Mutual.The heads of the erstwhile L&T Mutual will be in charge of the investment teams - both equity and debt . The equities team of the merged entity will be led by Venugopal Manghat, who will now be the chief investment officer (CIO). Shriram Ramanathan, fixed income head of L&T Mutual, will be the CIO of the new entity\\'s fixed income business, they said. An HSBC spokesperson declined to comment.The merged entity, which got the regulatory nod last month, will have a team of about 450 people. The fund management team will now have 26 personnel including fund managers, analysts and dealers.\"The combined entity will have a large asset base and higher size. They have good credentials and will also attract institutional investors due to their scale,\" said Dhirendra Kumar, founder, of Value Research.']\n"
          ]
        },
        {
          "output_type": "stream",
          "name": "stderr",
          "text": [
            "Some weights of the model checkpoint at yiyanghkust/finbert-pretrain were not used when initializing BertForMaskedLM: ['cls.seq_relationship.bias', 'cls.seq_relationship.weight']\n",
            "- This IS expected if you are initializing BertForMaskedLM from the checkpoint of a model trained on another task or with another architecture (e.g. initializing a BertForSequenceClassification model from a BertForPreTraining model).\n",
            "- This IS NOT expected if you are initializing BertForMaskedLM from the checkpoint of a model that you expect to be exactly identical (initializing a BertForSequenceClassification model from a BertForSequenceClassification model).\n",
            "Some weights of the model checkpoint at bert-base-uncased were not used when initializing BertModel: ['cls.predictions.bias', 'cls.seq_relationship.bias', 'cls.predictions.decoder.weight', 'cls.seq_relationship.weight', 'cls.predictions.transform.dense.bias', 'cls.predictions.transform.dense.weight', 'cls.predictions.transform.LayerNorm.weight', 'cls.predictions.transform.LayerNorm.bias']\n",
            "- This IS expected if you are initializing BertModel from the checkpoint of a model trained on another task or with another architecture (e.g. initializing a BertForSequenceClassification model from a BertForPreTraining model).\n",
            "- This IS NOT expected if you are initializing BertModel from the checkpoint of a model that you expect to be exactly identical (initializing a BertForSequenceClassification model from a BertForSequenceClassification model).\n"
          ]
        },
        {
          "output_type": "stream",
          "name": "stdout",
          "text": [
            "['']\n"
          ]
        },
        {
          "output_type": "stream",
          "name": "stderr",
          "text": [
            "Some weights of the model checkpoint at yiyanghkust/finbert-pretrain were not used when initializing BertForMaskedLM: ['cls.seq_relationship.bias', 'cls.seq_relationship.weight']\n",
            "- This IS expected if you are initializing BertForMaskedLM from the checkpoint of a model trained on another task or with another architecture (e.g. initializing a BertForSequenceClassification model from a BertForPreTraining model).\n",
            "- This IS NOT expected if you are initializing BertForMaskedLM from the checkpoint of a model that you expect to be exactly identical (initializing a BertForSequenceClassification model from a BertForSequenceClassification model).\n",
            "Some weights of the model checkpoint at bert-base-uncased were not used when initializing BertModel: ['cls.predictions.bias', 'cls.seq_relationship.bias', 'cls.predictions.decoder.weight', 'cls.seq_relationship.weight', 'cls.predictions.transform.dense.bias', 'cls.predictions.transform.dense.weight', 'cls.predictions.transform.LayerNorm.weight', 'cls.predictions.transform.LayerNorm.bias']\n",
            "- This IS expected if you are initializing BertModel from the checkpoint of a model trained on another task or with another architecture (e.g. initializing a BertForSequenceClassification model from a BertForPreTraining model).\n",
            "- This IS NOT expected if you are initializing BertModel from the checkpoint of a model that you expect to be exactly identical (initializing a BertForSequenceClassification model from a BertForSequenceClassification model).\n"
          ]
        },
        {
          "output_type": "stream",
          "name": "stdout",
          "text": [
            "['HSBC is rewarding its existing borrowers switching deals with a raft of enhanced rate cuts while extending the period they can lock into a new deal before their current rate ends.', '', 'Previously existing customers could switch rates three months before their old deal ended without incurring a penalty. This has now been extended to six months.', '', 'To help borrowers switch rates by themselves, HSBC has launched a new mobile mortgage rate switching service which it says makes it simpler and quicker for borrowers to change rates.', '', 'For existing borrowers with 10 per cent equity they can switch to a 4.99 per cent five-year fixed rate following a rate cut of 0.20 percentage points. The deal has an arrangement fee of £999.', '', 'A two-year fee-free fixed rate of 5.59 per cent is now available at 90 per cent loan to value (LTV) following a 0.20 percentage point reduction.', '', 'At 60 per cent LTV existing borrowers can access a two-year fixed rate of 4.89 per cent down from 5.1 per cent with a fee of £999 and a five-year deal at 4.74 per cent down from 4.89 per cent with the same fee.', '', 'Rates for borrowers remortgaging to HSBC have been cut by up to 0.11 percentage points.']\n"
          ]
        },
        {
          "output_type": "stream",
          "name": "stderr",
          "text": [
            "Some weights of the model checkpoint at yiyanghkust/finbert-pretrain were not used when initializing BertForMaskedLM: ['cls.seq_relationship.bias', 'cls.seq_relationship.weight']\n",
            "- This IS expected if you are initializing BertForMaskedLM from the checkpoint of a model trained on another task or with another architecture (e.g. initializing a BertForSequenceClassification model from a BertForPreTraining model).\n",
            "- This IS NOT expected if you are initializing BertForMaskedLM from the checkpoint of a model that you expect to be exactly identical (initializing a BertForSequenceClassification model from a BertForSequenceClassification model).\n",
            "Some weights of the model checkpoint at bert-base-uncased were not used when initializing BertModel: ['cls.predictions.bias', 'cls.seq_relationship.bias', 'cls.predictions.decoder.weight', 'cls.seq_relationship.weight', 'cls.predictions.transform.dense.bias', 'cls.predictions.transform.dense.weight', 'cls.predictions.transform.LayerNorm.weight', 'cls.predictions.transform.LayerNorm.bias']\n",
            "- This IS expected if you are initializing BertModel from the checkpoint of a model trained on another task or with another architecture (e.g. initializing a BertForSequenceClassification model from a BertForPreTraining model).\n",
            "- This IS NOT expected if you are initializing BertModel from the checkpoint of a model that you expect to be exactly identical (initializing a BertForSequenceClassification model from a BertForSequenceClassification model).\n"
          ]
        },
        {
          "output_type": "stream",
          "name": "stdout",
          "text": [
            "['HSBC has relocated to the Spaces building in the Cloche d’Or. The inauguration of its new office space took place on Tuesday 22 November, in the presence of guests including the finance minister Yuriko Backes (DP) and the UK ambassador, Fleur Thomas. Among the guests from the financial world were Chris Davies, deputy CEO of HSBC Continental Europe, Jerry Grbic, CEO of the Luxembourg Bankers’ Association (ABBL), Claude Marx, Luxembourg Financial Sector Supervisory Commission (CSSF) and Nicolas Mackel, CEO of Luxembourg for Finance.', '', 'The choice to occupy the space, managed by International Workplace Group, was motivated “by the desire to occupy a building that is more environmentally friendly and socially sustainable”, said Emanuele Vignoli, CEO of HSBC Luxembourg. That is why HSBC has signed a “green lease” with IWG, a commitment that also offers flexibility in the amount of space occupied.', '', 'HSBC currently occupies more than 2,000m2, or 75%, of the new building, which was designed by Fabeck Architects and meets Breeam excellent certification. The workspaces are designed to encourage collaborative work. There are also relaxation areas and common areas to encourage links between employees.', '', 'Read this report in French on the Paperjam site']\n"
          ]
        },
        {
          "output_type": "stream",
          "name": "stderr",
          "text": [
            "Some weights of the model checkpoint at yiyanghkust/finbert-pretrain were not used when initializing BertForMaskedLM: ['cls.seq_relationship.bias', 'cls.seq_relationship.weight']\n",
            "- This IS expected if you are initializing BertForMaskedLM from the checkpoint of a model trained on another task or with another architecture (e.g. initializing a BertForSequenceClassification model from a BertForPreTraining model).\n",
            "- This IS NOT expected if you are initializing BertForMaskedLM from the checkpoint of a model that you expect to be exactly identical (initializing a BertForSequenceClassification model from a BertForSequenceClassification model).\n",
            "Some weights of the model checkpoint at bert-base-uncased were not used when initializing BertModel: ['cls.predictions.bias', 'cls.seq_relationship.bias', 'cls.predictions.decoder.weight', 'cls.seq_relationship.weight', 'cls.predictions.transform.dense.bias', 'cls.predictions.transform.dense.weight', 'cls.predictions.transform.LayerNorm.weight', 'cls.predictions.transform.LayerNorm.bias']\n",
            "- This IS expected if you are initializing BertModel from the checkpoint of a model trained on another task or with another architecture (e.g. initializing a BertForSequenceClassification model from a BertForPreTraining model).\n",
            "- This IS NOT expected if you are initializing BertModel from the checkpoint of a model that you expect to be exactly identical (initializing a BertForSequenceClassification model from a BertForSequenceClassification model).\n"
          ]
        },
        {
          "output_type": "stream",
          "name": "stdout",
          "text": [
            "['A global “spoofing shop” which scammed victims out of tens of millions of pounds has been thwarted by international law enforcement agencies.', '', 'A global “spoofing shop” which scammed victims out of tens of millions of pounds has been thwarted by international law enforcement agencies.', '', \"London's Metropolitan Police Service said Thursday it had shut down fraud website iSpoof and made more than 100 UK arrests in connection with the case. The Met worked in coordination with the Federal Bureau of Investigation, Europol and Dutch authorities to make the arrests.\", '', 'ISpoof allowed fraudsters, who paid in Bitcoin, to disguise their phone numbers so it appeared they were calling from major banks including Barclays, HSBC, Lloyds to trick people into giving them personal details.', '', 'As many as 20 people every minute were being contacted by the scammers and iSpoof earned as much as £3.2 million ($3.9 million) over one 20 month period from the scheme. Losses reported as a result of the iSpoof calls and texts is around £48 million, the Met said, adding that because fraud is vastly underreported, the full amount is believed to be much higher.', '', '“The exploitation of technology by organized criminals is one of the greatest challenges for law enforcement in the 21st century,” said Met Commissioner Mark Rowley. “The Met is targeting the criminals at the center of these illicit webs that cause misery for thousands.”', '', \"The average loss for those who reported the scam was £10,000 and police said there was more than 70,000 numbers linked to the suspects. The alleged ringmaster of the website was arrested near London's Canary Wharf earlier this month and has been charged with several offenses.\"]\n"
          ]
        },
        {
          "output_type": "stream",
          "name": "stderr",
          "text": [
            "Some weights of the model checkpoint at yiyanghkust/finbert-pretrain were not used when initializing BertForMaskedLM: ['cls.seq_relationship.bias', 'cls.seq_relationship.weight']\n",
            "- This IS expected if you are initializing BertForMaskedLM from the checkpoint of a model trained on another task or with another architecture (e.g. initializing a BertForSequenceClassification model from a BertForPreTraining model).\n",
            "- This IS NOT expected if you are initializing BertForMaskedLM from the checkpoint of a model that you expect to be exactly identical (initializing a BertForSequenceClassification model from a BertForSequenceClassification model).\n",
            "Some weights of the model checkpoint at bert-base-uncased were not used when initializing BertModel: ['cls.predictions.bias', 'cls.seq_relationship.bias', 'cls.predictions.decoder.weight', 'cls.seq_relationship.weight', 'cls.predictions.transform.dense.bias', 'cls.predictions.transform.dense.weight', 'cls.predictions.transform.LayerNorm.weight', 'cls.predictions.transform.LayerNorm.bias']\n",
            "- This IS expected if you are initializing BertModel from the checkpoint of a model trained on another task or with another architecture (e.g. initializing a BertForSequenceClassification model from a BertForPreTraining model).\n",
            "- This IS NOT expected if you are initializing BertModel from the checkpoint of a model that you expect to be exactly identical (initializing a BertForSequenceClassification model from a BertForSequenceClassification model).\n"
          ]
        },
        {
          "output_type": "stream",
          "name": "stdout",
          "text": [
            "['Canada’s Men’s Sevens Team roster has been named by Assistant Coach Sean White for the second stop of the HSBC World Rugby Sevens Series 2023 in Dubai.', '', 'Canada’s Men’s Sevens Team roster named for HSBC World Rugby Sevens Series stop in Dubai', '', 'November 24, 2022 (Langford, BC) – Canada’s Men’s Sevens Team roster has been named by Assistant Coach Sean White for the second stop of the HSBC World Rugby Sevens Series 2023 in Dubai.', '', 'An HSBC World Rugby Sevens Series mainstay event, the Emirates Dubai Sevens will take place December 1-3, and is the first of four consecutive men’s and women’s combined events. The men’s tournament will see 16 teams competing in four pools, with Canada in Pool D.', '', 'Twelve players return from the squad that finished 10th in Hong Kong in early November, with Cooper Coats re-joining the team after missing Hong Kong. Coats, Josiah Morra, David Richard, and Brock Webster join the team in Dubai following two test matches with the Men’s National Team in Amsterdam, including a win over the Netherlands and a narrow loss to Namibia.', '', 'Coming off a standout performance in Hong Kong is Thomas Isherwood. The Okotoks, Alberta native, playing in just his second season with the Men’s Sevens program, made a name for himself with an impressive offload play to David Richard in Canada’s match against Kenya, as just one example of his exceptional play. The Hong Kong tournament was monumental for Kal Sager as well, as it marked his international debut; Dubai will be his second tour with the Men’s Sevens program.', '', '“Our team is looking forward to utilizing our learnings from Hong Kong and finding a more consistent performance over the next two legs,” said White, who will lead Canada’s Men’s Sevens Team following the departure of Head Coach Henry Paul. “It is an honour to be given the opportunity to lead and develop this team in our back-to-back stops in Dubai and Cape Town. The approach is to continue to prepare the players for the challenges they face and grow as a group each time we come together, on or off the pitch.”', '', 'Canada will play the United States, Samoa and Japan during pool play, starting with the United States on Thursday December 1 at 10:06 p.m. PT / Friday December 2 at 1:06 a.m. ET.', '', 'SCHEDULE / COVERAGE', '', 'For the most up to date information on the HSBC World Rugby Sevens Series and live coverage, visit the official website world.rugby/sevens-series. There you will find details regarding the event format, schedule, and the latest news.', '', 'WHERE TO WATCH', '', 'Broadcast coverage of the HSBC World Rugby Sevens Series will be available in Canada via CBC. All events are available to live stream via cbcsports.ca, the CBC Sports app, and the free CBC Gem streaming service.', '', 'CANADA’S MEN’S SEVENS ROSTER', '', '1. Anton Ngongo (Victoria, BC) – Castaway Wanderers', '', '2. Jake Thiel (Victoria, BC) – James Bay AA', '', '3. D’Shawn Bowen (Toronto, ON) – Pacific Pride', '', '4. Phil Berna (Vancouver, BC) – Vancouver Rowing Club', '', '5. Alex Russell (Chichester, ENG) – McGill University', '', '6. Josiah Morra (Toronto, ON) – Castaway Wanderers / Toronto Saracens', '', '7. Brock Webster (Uxbridge, ON) – Oshawa Vikings RFC', '', '8. Cooper Coats (Halifax, NS) – Halifax Tars', '', '12. David Richard (Milton, ON) – Mississauga Blues RFC', '', '19. Matthew Oworu (Calgary, AB) – Pacific Pride', '', '23. Thomas Isherwood (Okotoks, AB) – Foothills Lions RFC', '', '33. Kal Sager (Peterborough, ON) – Peterborough Pagans / Trent University', '', '44. Lockie Kratz (Victoria, BC) – Castaways Wanderers / NOLA Gold']\n"
          ]
        },
        {
          "output_type": "stream",
          "name": "stderr",
          "text": [
            "Some weights of the model checkpoint at yiyanghkust/finbert-pretrain were not used when initializing BertForMaskedLM: ['cls.seq_relationship.bias', 'cls.seq_relationship.weight']\n",
            "- This IS expected if you are initializing BertForMaskedLM from the checkpoint of a model trained on another task or with another architecture (e.g. initializing a BertForSequenceClassification model from a BertForPreTraining model).\n",
            "- This IS NOT expected if you are initializing BertForMaskedLM from the checkpoint of a model that you expect to be exactly identical (initializing a BertForSequenceClassification model from a BertForSequenceClassification model).\n",
            "Some weights of the model checkpoint at bert-base-uncased were not used when initializing BertModel: ['cls.predictions.bias', 'cls.seq_relationship.bias', 'cls.predictions.decoder.weight', 'cls.seq_relationship.weight', 'cls.predictions.transform.dense.bias', 'cls.predictions.transform.dense.weight', 'cls.predictions.transform.LayerNorm.weight', 'cls.predictions.transform.LayerNorm.bias']\n",
            "- This IS expected if you are initializing BertModel from the checkpoint of a model trained on another task or with another architecture (e.g. initializing a BertForSequenceClassification model from a BertForPreTraining model).\n",
            "- This IS NOT expected if you are initializing BertModel from the checkpoint of a model that you expect to be exactly identical (initializing a BertForSequenceClassification model from a BertForSequenceClassification model).\n"
          ]
        },
        {
          "output_type": "stream",
          "name": "stdout",
          "text": [
            "['Sales rise 88.34% to Rs 18.42 crore', '', 'Net profit of HSBC Investdirect Financial Services India rose 73.03% to Rs 6.16 crore in the quarter ended September 2022 as against Rs 3.56 crore during the previous quarter ended September 2021. Sales rose 88.34% to Rs 18.42 crore in the quarter ended September 2022 as against Rs 9.78 crore during the previous quarter ended September 2021.18.429.7886.5478.328.294.728.224.676.163.56', '', 'Powered by Capital Market - Live News', '', '(This story has not been edited by Business Standard staff and is auto-generated from a syndicated feed.)']\n"
          ]
        },
        {
          "output_type": "stream",
          "name": "stderr",
          "text": [
            "Some weights of the model checkpoint at yiyanghkust/finbert-pretrain were not used when initializing BertForMaskedLM: ['cls.seq_relationship.bias', 'cls.seq_relationship.weight']\n",
            "- This IS expected if you are initializing BertForMaskedLM from the checkpoint of a model trained on another task or with another architecture (e.g. initializing a BertForSequenceClassification model from a BertForPreTraining model).\n",
            "- This IS NOT expected if you are initializing BertForMaskedLM from the checkpoint of a model that you expect to be exactly identical (initializing a BertForSequenceClassification model from a BertForSequenceClassification model).\n",
            "Some weights of the model checkpoint at bert-base-uncased were not used when initializing BertModel: ['cls.predictions.bias', 'cls.seq_relationship.bias', 'cls.predictions.decoder.weight', 'cls.seq_relationship.weight', 'cls.predictions.transform.dense.bias', 'cls.predictions.transform.dense.weight', 'cls.predictions.transform.LayerNorm.weight', 'cls.predictions.transform.LayerNorm.bias']\n",
            "- This IS expected if you are initializing BertModel from the checkpoint of a model trained on another task or with another architecture (e.g. initializing a BertForSequenceClassification model from a BertForPreTraining model).\n",
            "- This IS NOT expected if you are initializing BertModel from the checkpoint of a model that you expect to be exactly identical (initializing a BertForSequenceClassification model from a BertForSequenceClassification model).\n"
          ]
        },
        {
          "output_type": "stream",
          "name": "stdout",
          "text": [
            "['Abu Dhabi: Defending champion Thomas Pieters will be joined at the Abu Dhabi HSBC Championship at Yas Island by former winners Tommy Fleetwood and Shane Lowry for the 18th edition of the opening Rolex Series event of the 2023 DP World Tour season from January 19-22.', '', 'Yas Links Abu Dhabi on Yas Island will host the prestigious tournament for the second consecutive year, which has long been a fixture on the global golf schedule, having first been staged in 2006.', '', 'Pieters became the first Belgian to win a Rolex Series event after outlasting a star-studded field in challenging breezy conditions at Yas Links, signing for a level par 72 and a ten under total, to earn him the coveted Falcon Trophy and a sixth victory on the DP World Tour.', '', 'Tommy Fleetwood, who won the title in 2017 and 2018, will be eager to add a third crown in the next edition. Image Credit: Gulf News Archives', '', 'Global golf calendar', '', 'Aref Al Awani, General Secretary of Abu Dhabi Sports Council, said: “We are proud to host the 2023 Abu Dhabi HSBC Championship at Yas Links following a successful debut earlier this year. We’re delighted this tournament is so well established on the DP World Tour and global golf calendar, and we’re excited to welcome back reigning champion Thomas Pieters, and former winners Tommy Fleetwood and Shane Lowry.”', '', 'Abdulfattah Sharaf, HSBC UAE CEO and Head of International Markets, said: “We are delighted to support the Abu Dhabi HSBC Championship as it returns to Yas Island for the second consecutive year. Last year was a milestone for the tournament entering a new era, and as part of our commitment to supporting new visions and opportunities across the UAE, we look forward to taking this fantastic sport to more people.”', '', 'Tom Phillips, Head of Middle East for the DP World Tour, added: “This prestigious Rolex Series event is always an excellent way to kick of the year and we are delighted to be returning to Yas Links for the 18th edition of the Abu Dhabi HSBC Championship.”', '', 'Defending champion Pieters said: “I’m looking forward to coming back to Yas Island for the Abu Dhabi HSBC Championship. Winning a Rolex Series event gave me a lot of confidence going into the 2022 season, knowing you can match it with the best in the world is huge, and it’s always a great feeling to come back as defending champion to any tournament.”', '', 'Positive start', '', 'Fleetwood, a two-time winner in 2017 and 2018, said: “I’ve always enjoyed starting the year in Abu Dhabi at this prestigious tournament. I’ve based myself in the UAE, it’s a brilliant part of the world, and a place I’ve been successful on the golf course, so it will be nice to play in front of family and friends to begin my DP World Tour season. Yas Links was a new challenge and look forward to coming back for the Abu Dhabi HSBC Championship once again.”', '', 'The 2019 winner Shane Lowry is happy to return to Abu Dhabi, a world-class destination for sport. Image Credit: Gulf News Archives', '', 'Lowry, a winner in 2019. said: “Coming back as a past champion is always nice and Yas Island is a world-class destination for sport, plus you add in the amazing fans, and it makes for a winning atmosphere.”', '', 'Earlier this month, the DP World Tour confirmed all Rolex Series events will have a total prize fund of $9 million — an increase of $1 million from the 2022 prize. The 2023 tournament will be the second of four events forming the Middle East swing, as Abu Dhabi prepares to host two weeks of world class golf across multiple venues.']\n"
          ]
        },
        {
          "output_type": "stream",
          "name": "stderr",
          "text": [
            "Some weights of the model checkpoint at yiyanghkust/finbert-pretrain were not used when initializing BertForMaskedLM: ['cls.seq_relationship.bias', 'cls.seq_relationship.weight']\n",
            "- This IS expected if you are initializing BertForMaskedLM from the checkpoint of a model trained on another task or with another architecture (e.g. initializing a BertForSequenceClassification model from a BertForPreTraining model).\n",
            "- This IS NOT expected if you are initializing BertForMaskedLM from the checkpoint of a model that you expect to be exactly identical (initializing a BertForSequenceClassification model from a BertForSequenceClassification model).\n",
            "Some weights of the model checkpoint at bert-base-uncased were not used when initializing BertModel: ['cls.predictions.bias', 'cls.seq_relationship.bias', 'cls.predictions.decoder.weight', 'cls.seq_relationship.weight', 'cls.predictions.transform.dense.bias', 'cls.predictions.transform.dense.weight', 'cls.predictions.transform.LayerNorm.weight', 'cls.predictions.transform.LayerNorm.bias']\n",
            "- This IS expected if you are initializing BertModel from the checkpoint of a model trained on another task or with another architecture (e.g. initializing a BertForSequenceClassification model from a BertForPreTraining model).\n",
            "- This IS NOT expected if you are initializing BertModel from the checkpoint of a model that you expect to be exactly identical (initializing a BertForSequenceClassification model from a BertForSequenceClassification model).\n"
          ]
        },
        {
          "output_type": "stream",
          "name": "stdout",
          "text": [
            "['A town centre bank is looking to improve its security with the addition of a new CCTV camera outside the branch.', '', 'HSBC has applied for permission to install one new CCTV camera outside its branch in Rushden.', '', 'Advertisement Hide Ad', '', 'The prominent building is on the corner with College Street and is right at the heart of the town’s High Street.', '', 'HSBC in Rushden High Street', '', 'Documents submitted as part of the application state: “The bank is currently planning to improve the level of security at this branch.', '', '\"Therefore, it is proposed to install one new CCTV camera as a deterrent to anti-social behaviour, as well as aiding in detection and prosecution.”', '', 'Advertisement Hide Ad', '', 'The bank says the appearance of the building will not be affected if the application is approved as the works are ‘minor.’', '', 'However, the documents go on to say: “Although the building is not listed, it holds significant architectural merit.', '', 'Advertisement Hide Ad', '', '\"Therefore we propose to install the CCTV camera so that it is mounted on the brick extension on College Street rather than risk damaging any stonework on the original part of the building.”', '', 'A spokesman for HSBC UK told the Northants Telegraph: “We continually review our security arrangements, including our CCTV coverage across our branch network.', '', 'Advertisement Hide Ad', '', '\"While there have been no specific incidents to bring about this application to have additional CCTV coverage outside the front of our Rushden branch, we do use CCTV for the safety and security of our customers and branch colleagues and update or amend them from time to time.”']\n"
          ]
        },
        {
          "output_type": "stream",
          "name": "stderr",
          "text": [
            "Some weights of the model checkpoint at yiyanghkust/finbert-pretrain were not used when initializing BertForMaskedLM: ['cls.seq_relationship.bias', 'cls.seq_relationship.weight']\n",
            "- This IS expected if you are initializing BertForMaskedLM from the checkpoint of a model trained on another task or with another architecture (e.g. initializing a BertForSequenceClassification model from a BertForPreTraining model).\n",
            "- This IS NOT expected if you are initializing BertForMaskedLM from the checkpoint of a model that you expect to be exactly identical (initializing a BertForSequenceClassification model from a BertForSequenceClassification model).\n",
            "Some weights of the model checkpoint at bert-base-uncased were not used when initializing BertModel: ['cls.predictions.bias', 'cls.seq_relationship.bias', 'cls.predictions.decoder.weight', 'cls.seq_relationship.weight', 'cls.predictions.transform.dense.bias', 'cls.predictions.transform.dense.weight', 'cls.predictions.transform.LayerNorm.weight', 'cls.predictions.transform.LayerNorm.bias']\n",
            "- This IS expected if you are initializing BertModel from the checkpoint of a model trained on another task or with another architecture (e.g. initializing a BertForSequenceClassification model from a BertForPreTraining model).\n",
            "- This IS NOT expected if you are initializing BertModel from the checkpoint of a model that you expect to be exactly identical (initializing a BertForSequenceClassification model from a BertForSequenceClassification model).\n"
          ]
        },
        {
          "output_type": "stream",
          "name": "stdout",
          "text": [
            "['Jubilant', '', 'Global brokerage HSBC maintained a buy rating on, Credit Suisse retained an outperform tag on, HSBC maintained a buy on Delhivery and JPMorgan maintained its neutral stance onWe have collated a list of recommendations from top brokerage firms from ETNow and other sources:HSBC maintained a buy rating on Jubilant FoodWorks with a target of Rs 750.Jubilant is aggressively scaling up its Domino\\'s network, HSBC said, adding that its long-term investment case is quite appealing.Market do fear that margins may slip in the near term, it said.Credit Suisse retained the outperform rating on Apollo Hospitals with a target price of Rs 5100. Apollo 24/7 is scaling up to a leadership position in digital health, said Credit Suisse.E-pharmacy app downloads maintain strong momentum while Apollo 24/7 and RIL-Netmeds are gaining share which is a positive sign, it added.\"Apollo\\'s physical network lends a distinct advantage. Going forward, easing of discounting level would benefit MedPlus in the near term. Apollo has the balance sheet strength,\" said the note.HSBC maintained its buy rating on Delhivery with a target price of Rs 455. The company reported consecutive weak quarters that have shattered the Street\\'s confidence.“We believe that the e-commerce industry growth has slowed down in India,” said the note. Delivery business is predominantly an operating leverage story, it added.JPMorgan maintained a neutral rating on Tata Motors with a target price of Rs 410. JLR retails is beginning to grow on a low base price, it said.\"JLR outperforms peers in China imports. Europe sees underperformance, while US sales were in line with estimates. Product mix remains strong, and China\\'s contribution is steady,\" said the note.']\n"
          ]
        },
        {
          "output_type": "stream",
          "name": "stderr",
          "text": [
            "Some weights of the model checkpoint at yiyanghkust/finbert-pretrain were not used when initializing BertForMaskedLM: ['cls.seq_relationship.bias', 'cls.seq_relationship.weight']\n",
            "- This IS expected if you are initializing BertForMaskedLM from the checkpoint of a model trained on another task or with another architecture (e.g. initializing a BertForSequenceClassification model from a BertForPreTraining model).\n",
            "- This IS NOT expected if you are initializing BertForMaskedLM from the checkpoint of a model that you expect to be exactly identical (initializing a BertForSequenceClassification model from a BertForSequenceClassification model).\n",
            "Some weights of the model checkpoint at bert-base-uncased were not used when initializing BertModel: ['cls.predictions.bias', 'cls.seq_relationship.bias', 'cls.predictions.decoder.weight', 'cls.seq_relationship.weight', 'cls.predictions.transform.dense.bias', 'cls.predictions.transform.dense.weight', 'cls.predictions.transform.LayerNorm.weight', 'cls.predictions.transform.LayerNorm.bias']\n",
            "- This IS expected if you are initializing BertModel from the checkpoint of a model trained on another task or with another architecture (e.g. initializing a BertForSequenceClassification model from a BertForPreTraining model).\n",
            "- This IS NOT expected if you are initializing BertModel from the checkpoint of a model that you expect to be exactly identical (initializing a BertForSequenceClassification model from a BertForSequenceClassification model).\n"
          ]
        },
        {
          "output_type": "stream",
          "name": "stdout",
          "text": [
            "['', '', '', '', '', '', '', '', '', '', '', '', '', '', 'DUBAI, Nov 24 (Reuters) - Saudi eyecare group Magrabi, which runs one of the largest chains of optical retail stores and eye clinics in the Middle East, is considering a flotation of its hospitals business next year and has hired banks for the deal, two sources familiar with the matter said.', '', 'Magrabi has mandated Rothschild & Co (ROTH.PA) as financial advisor and HSBC as lead manager to run the initial public offering (IPO), said the sources, who declined to be named as the matter is not public.', '', 'Magrabi and HSBC did not immediately respond to a request for comment when contacted by Reuters on Wednesday. Rothschild declined to comment.', '', \"Saudi Arabia is encouraging more family-owned companies to list in a bid to deepen its capital markets under reforms aimed at reducing the kingdom's reliance on oil revenues.\", '', 'The kingdom has had a surge in IPOs since it listed oil giant Saudi Aramco (2222.SE) in a record $29.4 billion listing in 2019.', '', \"Saudi Arabia's Middle East Healthcare Company, the company behind Saudi German Hospitals, raised $3.2 billion in 2019 when it sold 30% of the company in an IPO. Nahdi Medical, one of the largest pharmacy chains in the kingdom, raised $1.36 billion in March from its public share sale.\", '', 'Founded in 1955 as an eye hospital in Jeddah, Magrabi runs more than 32 hospitals across the Middle East, according to information on its website. Magrabi says it was the first in the Middle East to perform a corneal transplant surgery in 1968.', '', 'Flush with cash from high oil prices, the Gulf region has become a bright spot for global equity capital markets this year, with government-led privatisation programmes leading to a surge of public share sales.', '', 'Gulf issuers have raised around $16 billion this year, accounting for about half of total IPO proceeds from Europe, the Middle East, and Africa, according to data from Refinitiv.', '', 'Reporting by Hadeel Al Sayegh; Editing by Janane Venkatraman', '', '', '', '', '', '', '', '', '', '', '', 'Our Standards: The Thomson Reuters Trust Principles.']\n"
          ]
        },
        {
          "output_type": "stream",
          "name": "stderr",
          "text": [
            "Some weights of the model checkpoint at yiyanghkust/finbert-pretrain were not used when initializing BertForMaskedLM: ['cls.seq_relationship.bias', 'cls.seq_relationship.weight']\n",
            "- This IS expected if you are initializing BertForMaskedLM from the checkpoint of a model trained on another task or with another architecture (e.g. initializing a BertForSequenceClassification model from a BertForPreTraining model).\n",
            "- This IS NOT expected if you are initializing BertForMaskedLM from the checkpoint of a model that you expect to be exactly identical (initializing a BertForSequenceClassification model from a BertForSequenceClassification model).\n",
            "Some weights of the model checkpoint at bert-base-uncased were not used when initializing BertModel: ['cls.predictions.bias', 'cls.seq_relationship.bias', 'cls.predictions.decoder.weight', 'cls.seq_relationship.weight', 'cls.predictions.transform.dense.bias', 'cls.predictions.transform.dense.weight', 'cls.predictions.transform.LayerNorm.weight', 'cls.predictions.transform.LayerNorm.bias']\n",
            "- This IS expected if you are initializing BertModel from the checkpoint of a model trained on another task or with another architecture (e.g. initializing a BertForSequenceClassification model from a BertForPreTraining model).\n",
            "- This IS NOT expected if you are initializing BertModel from the checkpoint of a model that you expect to be exactly identical (initializing a BertForSequenceClassification model from a BertForSequenceClassification model).\n"
          ]
        },
        {
          "output_type": "stream",
          "name": "stdout",
          "text": [
            "['A charity wants to collect 2,000 toys as it celebrates 20 years of collecting Christmas presents for children in need.', '', 'The Coalition for the Protection of Children is partnering with HSBC Bermuda for the fifth year to spread Christmas joy through their annual Toys for Tots campaign.', '', 'The charity said it hoped this year’s event – the 20th annual toy drive – would garner at least 2,000 donations to help meet increased demand.', '', 'Kelly Hunt, the coalition’s executive director, said: “The past two years have been particularly stressful for those who are struggling to make ends meet.', '', '“Unfortunately, we are still noticing significant numbers of low-income households in Bermuda that are accessing our services for basic needs and have seen an increase of 159 per cent in families since before the pandemic.', '', '“Thankfully, Bermuda has always demonstrated its philanthropic spirit each year and helps to alleviate some of that stress over the holiday period. Now more than ever, we hope that people will support the families who need assistance.”', '', 'In addition to toys, the charity hopes to receive donations of diapers, baby formula, bulk toiletry items, utility and grocery vouchers, gift certificates, school uniforms and school supplies.', '', 'Judy Doidge of HSBC Bermuda said: “HSBC is proud to support the coalition in one of the longest-running and impactful initiatives serving our community over the holidays.', '', '“We are excited to be a part of this 20-year milestone that offers many families a bit of relief and cheer over the holidays.', '', '“Additionally, and for its sixth year, HSBC has committed to donate an estimated 150 grocery hampers and vouchers to families for the holidays, with HSBC volunteers also supporting the charity throughout the appeal.”', '', 'The Toys for Tots campaign launched island-wide on November 21 and will continue until December 9.', '', 'Ms Hunt added: “We look forward to working with HSBC to deliver some holiday cheer to our families again on this our 20th anniversary year of this initiative.', '', '“The CPC continues to be grateful for the generous support from the community for the Toys for Tots programme. We would like to thank everyone who has participated in this initiative over the years.”', '', 'Donated items can be dropped off at Annex Toys, Price Rite, Gorham’s, Arnold’s Discount Warehouse, People’s Pharmacy and at the Harborview Centre, Somerset and St George’s HSBC bank branches.']\n"
          ]
        },
        {
          "output_type": "stream",
          "name": "stderr",
          "text": [
            "Some weights of the model checkpoint at yiyanghkust/finbert-pretrain were not used when initializing BertForMaskedLM: ['cls.seq_relationship.bias', 'cls.seq_relationship.weight']\n",
            "- This IS expected if you are initializing BertForMaskedLM from the checkpoint of a model trained on another task or with another architecture (e.g. initializing a BertForSequenceClassification model from a BertForPreTraining model).\n",
            "- This IS NOT expected if you are initializing BertForMaskedLM from the checkpoint of a model that you expect to be exactly identical (initializing a BertForSequenceClassification model from a BertForSequenceClassification model).\n",
            "Some weights of the model checkpoint at bert-base-uncased were not used when initializing BertModel: ['cls.predictions.bias', 'cls.seq_relationship.bias', 'cls.predictions.decoder.weight', 'cls.seq_relationship.weight', 'cls.predictions.transform.dense.bias', 'cls.predictions.transform.dense.weight', 'cls.predictions.transform.LayerNorm.weight', 'cls.predictions.transform.LayerNorm.bias']\n",
            "- This IS expected if you are initializing BertModel from the checkpoint of a model trained on another task or with another architecture (e.g. initializing a BertForSequenceClassification model from a BertForPreTraining model).\n",
            "- This IS NOT expected if you are initializing BertModel from the checkpoint of a model that you expect to be exactly identical (initializing a BertForSequenceClassification model from a BertForSequenceClassification model).\n"
          ]
        },
        {
          "output_type": "stream",
          "name": "stdout",
          "text": [
            "['Create a free account and access your personalized content collection with our latest publications and analyses.', '', 'License and Republishing', '', 'World Economic Forum articles may be republished in accordance with the Creative Commons Attribution-NonCommercial-NoDerivatives 4.0 International Public License, and in accordance with our Terms of Use.', '', 'The views expressed in this article are those of the author alone and not the World Economic Forum.']\n"
          ]
        },
        {
          "output_type": "stream",
          "name": "stderr",
          "text": [
            "Some weights of the model checkpoint at yiyanghkust/finbert-pretrain were not used when initializing BertForMaskedLM: ['cls.seq_relationship.bias', 'cls.seq_relationship.weight']\n",
            "- This IS expected if you are initializing BertForMaskedLM from the checkpoint of a model trained on another task or with another architecture (e.g. initializing a BertForSequenceClassification model from a BertForPreTraining model).\n",
            "- This IS NOT expected if you are initializing BertForMaskedLM from the checkpoint of a model that you expect to be exactly identical (initializing a BertForSequenceClassification model from a BertForSequenceClassification model).\n",
            "Some weights of the model checkpoint at bert-base-uncased were not used when initializing BertModel: ['cls.predictions.bias', 'cls.seq_relationship.bias', 'cls.predictions.decoder.weight', 'cls.seq_relationship.weight', 'cls.predictions.transform.dense.bias', 'cls.predictions.transform.dense.weight', 'cls.predictions.transform.LayerNorm.weight', 'cls.predictions.transform.LayerNorm.bias']\n",
            "- This IS expected if you are initializing BertModel from the checkpoint of a model trained on another task or with another architecture (e.g. initializing a BertForSequenceClassification model from a BertForPreTraining model).\n",
            "- This IS NOT expected if you are initializing BertModel from the checkpoint of a model that you expect to be exactly identical (initializing a BertForSequenceClassification model from a BertForSequenceClassification model).\n"
          ]
        },
        {
          "output_type": "stream",
          "name": "stdout",
          "text": [
            "['Standard Chartered Bank has appointed Mazen Fahad Al Bunyan as Chief Executive Officer, Standard Chartered Bank Saudi Arabia, effective November 2022.', '', 'Prior to joining Standard Chartered Bank, Al Bunyan was the CEO of Alawwal Invest Company, the investment subsidiary of The Saudi British Bank (SABB/HSBC) based in Riyadh, where he led the integration of Alawwal Invest with SABB/HSBC Saudi Arabia. Prior to that, he held various leadership positions including Co-Head of Global Banking within SABB/HSBC Riyadh as well as Vice President of Corporate Banking Coverage for KSA and Kuwait at Deutsche Bank.', '', 'Standard Chartered Bank Saudi Arabia launched its operations in Riyadh in June 2021, providing banking services to sovereign and government related entities, large corporates, financial institutions and multinational companies operating in the Kingdom.', '', 'Commenting on the announcement, Dr Boutros Klink, CEO Standard Chartered Middle East (ex UAE) said: “I am delighted to announce the appointment of Mazen Bunyan as Country CEO for Standard Chartered Bank Saudi Arabia. Mazen brings deep regional experience, and strong track record. In his new role as CEO, Mazen will oversee the operations of Standard Chartered Bank Saudi Arabia, and will lead the Bank’s expansion in the market, strengthen our client base, expand our products and services offering, and solidify our network in support of the Kingdoms growth ambitions.”', '', 'Copyright 2022 Al Hilal Publishing and Marketing Group Provided by SyndiGate Media Inc. (Syndigate.info).']\n"
          ]
        },
        {
          "output_type": "stream",
          "name": "stderr",
          "text": [
            "Some weights of the model checkpoint at yiyanghkust/finbert-pretrain were not used when initializing BertForMaskedLM: ['cls.seq_relationship.bias', 'cls.seq_relationship.weight']\n",
            "- This IS expected if you are initializing BertForMaskedLM from the checkpoint of a model trained on another task or with another architecture (e.g. initializing a BertForSequenceClassification model from a BertForPreTraining model).\n",
            "- This IS NOT expected if you are initializing BertForMaskedLM from the checkpoint of a model that you expect to be exactly identical (initializing a BertForSequenceClassification model from a BertForSequenceClassification model).\n",
            "Some weights of the model checkpoint at bert-base-uncased were not used when initializing BertModel: ['cls.predictions.bias', 'cls.seq_relationship.bias', 'cls.predictions.decoder.weight', 'cls.seq_relationship.weight', 'cls.predictions.transform.dense.bias', 'cls.predictions.transform.dense.weight', 'cls.predictions.transform.LayerNorm.weight', 'cls.predictions.transform.LayerNorm.bias']\n",
            "- This IS expected if you are initializing BertModel from the checkpoint of a model trained on another task or with another architecture (e.g. initializing a BertForSequenceClassification model from a BertForPreTraining model).\n",
            "- This IS NOT expected if you are initializing BertModel from the checkpoint of a model that you expect to be exactly identical (initializing a BertForSequenceClassification model from a BertForSequenceClassification model).\n"
          ]
        },
        {
          "output_type": "stream",
          "name": "stdout",
          "text": [
            "['THE Conservative peer Michelle Mone and her children reportedly received £29 million from the profits of a PPE business which was awarded large government contracts after she recommended it to ministers.', '', 'The Guardian reports that Mone, originally from the East End of Glasgow, helped support the company PPE Medpro to gain a place in the “VIP lane” which the UK Government used during the pandemic to prioritise companies which had political connections.', '', 'The newspaper said it had seen documents which indicate tens of millions of pounds of PPE Medpro’s profits were later transferred to a secret offshore trust of which Mone and her adult children benefited from.', '', 'Asked by The Guardian a year ago why PPE Medpro was not declared in Mone’s financial interests, her lawyer said: “Baroness Mone did not declare any interest as she did not benefit financially and was not connected to PPE Medpro in any capacity.”', '', 'READ MORE: Nicola Sturgeon wants a de-facto referendum - but what do polls say?', '', 'The leaked documents, produced by the bank HSBC, reportedly contradict that statement.', '', 'They show that Mone’s husband, Douglas Barrowman, was paid a minimum of £65m in profits from PPE Medpro and then distributed these funds through a series of offshore accounts, trusts and companies.', '', 'The eventual recipient of the funds, according to the documents, include an Isle of Man trust which was set up to benefit Mone, who was Barrowman’s fiancée at the time, and her children.', '', 'The documents add that, in October 2020, he transferred £28.8m to the trust which originated from PPE Medpro profits.', '', 'This came just five months after Mone helped the PPE company secure contracts to supply both face masks and sterile gowns for use in the NHS.', '', 'HSBC told the newspaper it was unable to comment, even to confirm if the couple had been among its clients.', '', 'A lawyer for Mone said: “There are a number of reasons why our client cannot comment on these issues and she is under duty to do so.”', '', 'A lawyer representing both Barrowman and PPE Medpro said that a continuing investigation limited what they were able to say.', '', 'However, they did add: “For the time being we are also instructed to say there is much inaccuracy in the portrayal of the alleged ‘facts’ and a number of them are completely wrong.”', '', 'Mone, 51, and Barrowman, 57, have both repeatedly said they had no “involvement” in Medpro and “no role” in the process through which the company was awarded government contracts.', '', 'READ MORE: Poll says 50% of Scots would vote SNP in de-facto indyref election', '', 'PPE Medpro itself has also refused to identify its backers, although denied it was awarded contracts because of “company or personal connections to either the UK Government or the Conservative Party.', '', 'David Cameron appointed Mone the baroness of Mayfair in 2015. She is the former owner of a lingerie business.', '', 'The leaked documents setting out the bank’s understanding of the offshore distribution of Medpro’s profits were produced by the bank, which held several accounts linked to the Tory peer.', '', 'Following the report, the SNP has said that independence for Scotland is the only way to escape the economic mismanagement of Westminster.', '', 'Other Tory figures linked to Covid contracts include Michael Gove who referred a firm run by a Tory donor which went on to secure contracts worth nearly £50m.', '', 'The SNP’s Cabinet Office spokesperson Brendan O’Hara said: “The Tory Government’s approach of handling multi-billion-pound Covid contracts has been driven by rampant cronyism.', '', '“It has been nothing more than a scandal that has seen staggering sums of money find their way into the pockets of the Tories’ pals without scrutiny.', '', '“Cronyism, sleaze and corruption continues to thrive under this Westminster Tory government. As does the House of Lords, stuffed with over 800 unelected peers.', '', '“Independence for Scotland is the only way we can truly uphold democracy and escape Westminster governments we don’t vote for, and their economic mismanagement.”', '', 'READ MORE: Next steps to Scottish independence after Supreme Court ruling', '', 'The Guardian write that HSBC launched its own investigation following reports about Mone’s links to PPE Medpro.', '', 'However, a report produced by the bank on the couple stated that it did “not manage to corroborate” those concerns.', '', 'The bank’s investigation did note that “large value inter-account transfers” originating from PPE Medpro were being routed through offshore accounts, often crediting and debiting within minutes of each other.', '', 'The internal bank report described the flow of money as “unusual activity”, noting a concern that Barrowman “may be attempting to conceal the true origins of the funds through multiple layers of transactions creating a distance between the receipt of PPE funds and the final beneficiaries.”', '', 'In reference to Mone, it stated that the transfers “suggest a UK peer in the House of Lords has benefited from a contract with the UK Government”.', '', 'It is believed that Barrowman told HSBC his wife had “no involvement” in the business activities of PPE Medpro, and that the onward transfers of its profits via his personal bank account had been made “in his personal capacity”.', '', 'The bank was unable to corroborate any concerns of wrongdoing by the couple, although it did identify a number of “risks” relating to retaining Barrowman and Mone as clients.', '', 'A government spokesperson said: “We have worked tirelessly throughout the pandemic to protect health and social care staff on the frontline, with over 23.2 billion PPE items delivered so far.', '', '“We are currently engaged in a mediation process with PPE Medpro and are unable to comment on the specifics of this contract.”']\n"
          ]
        },
        {
          "output_type": "stream",
          "name": "stderr",
          "text": [
            "Some weights of the model checkpoint at yiyanghkust/finbert-pretrain were not used when initializing BertForMaskedLM: ['cls.seq_relationship.bias', 'cls.seq_relationship.weight']\n",
            "- This IS expected if you are initializing BertForMaskedLM from the checkpoint of a model trained on another task or with another architecture (e.g. initializing a BertForSequenceClassification model from a BertForPreTraining model).\n",
            "- This IS NOT expected if you are initializing BertForMaskedLM from the checkpoint of a model that you expect to be exactly identical (initializing a BertForSequenceClassification model from a BertForSequenceClassification model).\n",
            "Some weights of the model checkpoint at bert-base-uncased were not used when initializing BertModel: ['cls.predictions.bias', 'cls.seq_relationship.bias', 'cls.predictions.decoder.weight', 'cls.seq_relationship.weight', 'cls.predictions.transform.dense.bias', 'cls.predictions.transform.dense.weight', 'cls.predictions.transform.LayerNorm.weight', 'cls.predictions.transform.LayerNorm.bias']\n",
            "- This IS expected if you are initializing BertModel from the checkpoint of a model trained on another task or with another architecture (e.g. initializing a BertForSequenceClassification model from a BertForPreTraining model).\n",
            "- This IS NOT expected if you are initializing BertModel from the checkpoint of a model that you expect to be exactly identical (initializing a BertForSequenceClassification model from a BertForSequenceClassification model).\n"
          ]
        },
        {
          "output_type": "stream",
          "name": "stdout",
          "text": [
            "['(Alliance News) - The following is a round-up of updates by London-listed companies, issued on ...', '', 'Every week we ask our Twitter followers which stocks we should write about', '', 'Eyes are on HSBC, CK Hutchison, and CK Infrastructure', '', 'UPDATED for November 2022: Earnings season is in full swing, bringing us more dividend news', '', 'Morningstar OBSR reveals the top funds for investors seeking exposure to European equities', '', 'Morningstar reveals the top 10 best performers over the last five years', '', 'Businesses that have competitive advantages within their industry are good candidates for dividen...', '', 'THE WEEK: Morningstar columnist Rodney Hobson provides two pieces of advice to George Osborne, an...', '', 'Mining companies are operating in a challenging environment but could now be the time to top up o...', '', \"Arguing Over Money? Here's How to Stop The festive period can be a tense one if money matters join us at the table. Luckily there are so...\", '', \"12 Lessons on Money (And Life) From Buffett and Munger Two of the world's most successful investors have some wisdom for you, and it's not just about wh...\", '', \"Insurance Stocks Rise on Solvency II Tweaks VIDEO: The government thinks changes to EU laws on capital will help pensions, but it's early day...\", '', 'Pound Boosted by Scottish Independence Ruling Currency markets buoyed by Supreme Court blocking Scotland from holding a referendum without West...']\n"
          ]
        },
        {
          "output_type": "stream",
          "name": "stderr",
          "text": [
            "Some weights of the model checkpoint at yiyanghkust/finbert-pretrain were not used when initializing BertForMaskedLM: ['cls.seq_relationship.bias', 'cls.seq_relationship.weight']\n",
            "- This IS expected if you are initializing BertForMaskedLM from the checkpoint of a model trained on another task or with another architecture (e.g. initializing a BertForSequenceClassification model from a BertForPreTraining model).\n",
            "- This IS NOT expected if you are initializing BertForMaskedLM from the checkpoint of a model that you expect to be exactly identical (initializing a BertForSequenceClassification model from a BertForSequenceClassification model).\n",
            "Some weights of the model checkpoint at bert-base-uncased were not used when initializing BertModel: ['cls.predictions.bias', 'cls.seq_relationship.bias', 'cls.predictions.decoder.weight', 'cls.seq_relationship.weight', 'cls.predictions.transform.dense.bias', 'cls.predictions.transform.dense.weight', 'cls.predictions.transform.LayerNorm.weight', 'cls.predictions.transform.LayerNorm.bias']\n",
            "- This IS expected if you are initializing BertModel from the checkpoint of a model trained on another task or with another architecture (e.g. initializing a BertForSequenceClassification model from a BertForPreTraining model).\n",
            "- This IS NOT expected if you are initializing BertModel from the checkpoint of a model that you expect to be exactly identical (initializing a BertForSequenceClassification model from a BertForSequenceClassification model).\n"
          ]
        },
        {
          "output_type": "stream",
          "name": "stdout",
          "text": [
            "['Global law firm White & Case LLP has advised Goldman Sachs and Morgan Stanley as joint global co-ordinators, HSBC Bank, Jefferies and BofA Securities as joint bookrunners and ING Bank as co-lead manager on the initial public offering (IPO) of Ithaca Energy Limited and its premium listing on the London Stock Exchange.', '', 'The offering raised a total of £262 million (exclusive of the over-allotment option), valuing the company at £2.5 billion and making the transaction the largest IPO on the London Stock Exchange so far this year.', '', 'Owned by Israeli-listed Delek Group, Ithaca Energy is one of the largest independent oil and gas companies with production and development activities in the UK Continental Shelf, ranking second by resources and third by production.', '', 'The White & Case team that advised on the transaction was led by partners Jonathan Parry, Daniel Turgel and Laura Sizemore, with support from counsel Bob Lehner and associates Andy Scott and Tarang Nagar.', '', 'Press contact', '', 'For more information please speak to your local media contact.']\n"
          ]
        },
        {
          "output_type": "stream",
          "name": "stderr",
          "text": [
            "Some weights of the model checkpoint at yiyanghkust/finbert-pretrain were not used when initializing BertForMaskedLM: ['cls.seq_relationship.bias', 'cls.seq_relationship.weight']\n",
            "- This IS expected if you are initializing BertForMaskedLM from the checkpoint of a model trained on another task or with another architecture (e.g. initializing a BertForSequenceClassification model from a BertForPreTraining model).\n",
            "- This IS NOT expected if you are initializing BertForMaskedLM from the checkpoint of a model that you expect to be exactly identical (initializing a BertForSequenceClassification model from a BertForSequenceClassification model).\n",
            "Some weights of the model checkpoint at bert-base-uncased were not used when initializing BertModel: ['cls.predictions.bias', 'cls.seq_relationship.bias', 'cls.predictions.decoder.weight', 'cls.seq_relationship.weight', 'cls.predictions.transform.dense.bias', 'cls.predictions.transform.dense.weight', 'cls.predictions.transform.LayerNorm.weight', 'cls.predictions.transform.LayerNorm.bias']\n",
            "- This IS expected if you are initializing BertModel from the checkpoint of a model trained on another task or with another architecture (e.g. initializing a BertForSequenceClassification model from a BertForPreTraining model).\n",
            "- This IS NOT expected if you are initializing BertModel from the checkpoint of a model that you expect to be exactly identical (initializing a BertForSequenceClassification model from a BertForSequenceClassification model).\n"
          ]
        },
        {
          "output_type": "stream",
          "name": "stdout",
          "text": [
            "['Date: 4 November 2022', '', 'Time: 2pm – 2:45pm | Location: Virtual', '', 'Minutes', '', 'Item 1 – Welcome', '', 'The Chair thanked members for attending and confirmed that the Minutes of the July 2022 meeting had been published on the Bank’s website.', '', 'The Chair expressed the Committee’s gratefulness to members who had since left the Committee, and welcomed new members. The Chair also welcomes those who were attending as observers as part of the Bank’s Meeting Varied People (MVP) initiative.', '', 'Item 2 – Discussion on market conditions', '', 'A broad update on developments and conditions in global markets was presented by a member of the Committee, highlighting developments including the potential impact of fiscal policy on inflation; the recent Liability Driven Investment (LDI) deleveraging; and the likely path of Quantitative Tightening (QT) beyond the near term.', '', 'The Committee discussed market conditions, focusing on a wide range of topics including the potential balance of demand and supply in gilt markets over coming years; and the likely trajectory for LDI collateral buffers towards a ‘new normal’.', '', 'There was wide agreement that the introduction of tiered remuneration of Bank of England reserves – around which there had been media speculation – would be a negative outcome for monetary policy transmission because of the expected increase in demand for short-dated gilts that it could incentivise, which in turn may lower their yields and hence reduce the effective pass through of monetary policy.', '', 'Item 3 – AOB', '', 'The Chair thanked members for their time, and welcomed any suggestions for future agenda items to be sent to the Secretariat in due course.', '', 'The Chair confirmed that the next MMC was scheduled for 6 December 2022, to be hosted in person at the Bank of England.']\n"
          ]
        },
        {
          "output_type": "stream",
          "name": "stderr",
          "text": [
            "Some weights of the model checkpoint at yiyanghkust/finbert-pretrain were not used when initializing BertForMaskedLM: ['cls.seq_relationship.bias', 'cls.seq_relationship.weight']\n",
            "- This IS expected if you are initializing BertForMaskedLM from the checkpoint of a model trained on another task or with another architecture (e.g. initializing a BertForSequenceClassification model from a BertForPreTraining model).\n",
            "- This IS NOT expected if you are initializing BertForMaskedLM from the checkpoint of a model that you expect to be exactly identical (initializing a BertForSequenceClassification model from a BertForSequenceClassification model).\n",
            "Some weights of the model checkpoint at bert-base-uncased were not used when initializing BertModel: ['cls.predictions.bias', 'cls.seq_relationship.bias', 'cls.predictions.decoder.weight', 'cls.seq_relationship.weight', 'cls.predictions.transform.dense.bias', 'cls.predictions.transform.dense.weight', 'cls.predictions.transform.LayerNorm.weight', 'cls.predictions.transform.LayerNorm.bias']\n",
            "- This IS expected if you are initializing BertModel from the checkpoint of a model trained on another task or with another architecture (e.g. initializing a BertForSequenceClassification model from a BertForPreTraining model).\n",
            "- This IS NOT expected if you are initializing BertModel from the checkpoint of a model that you expect to be exactly identical (initializing a BertForSequenceClassification model from a BertForSequenceClassification model).\n"
          ]
        },
        {
          "output_type": "stream",
          "name": "stdout",
          "text": [
            "['Quantifeed, a digital wealth management solutions provider for financial institutions, is to acquire fellow wealthtech Alpima.', '', 'The terms of the deal have not been disclosed. Zelig, an independent investment banking firm focused purely on fintech and related technologies, acted as exclusive financial advisor on the transaction.', '', 'Founded in 2015 in London, Alpima provides a front office platform for investment management, delivered on a Software-as-a-Service (SaaS) basis.', '', 'Quantifeed is two years older and is headquartered in Hong Kong. Earlier this year, it closed a Series C funding round, led by HSBC Asset Management.', '', 'Alex Ypsilanti, co-founder and CEO of Quantifeed, says the combination of “two hugely talented teams of financial engineers” will result in “a world-class technology platform”.', '', 'Rafael Febres-Cordero, executive chairman of Alpima, says the two firms “share passion for designing and building technology solutions that solve client problems and help them deliver a personalised client experience at scale”.', '', 'Quantifeed and Alpima say they complement each other in terms of client names, geographic coverage, and product suite. Both businesses have client bases of Tier 1 financial institutions across Asia, EMEA, and the Americas, including Julius Bär, BBVA, DBS, Fidelity, and MUFG.', '', 'The combined platform promises “unparalleled capabilities across the entire portfolio management spectrum”, covering portfolio construction, personalisation, visualisation, risk analytics, order management, trading, monitoring, and reporting.', '', 'Its target market is private banks, asset managers, banks, brokers, insurers, and independent financial advisers (IFAs) globally.', '', 'The combined business is backed by financial investors such as LUN Partners and strategic investors such as Franklin Templeton, HSBC Asset Management, Fidelity International Strategic Ventures, and Daiwa.']\n"
          ]
        },
        {
          "output_type": "stream",
          "name": "stderr",
          "text": [
            "Some weights of the model checkpoint at yiyanghkust/finbert-pretrain were not used when initializing BertForMaskedLM: ['cls.seq_relationship.bias', 'cls.seq_relationship.weight']\n",
            "- This IS expected if you are initializing BertForMaskedLM from the checkpoint of a model trained on another task or with another architecture (e.g. initializing a BertForSequenceClassification model from a BertForPreTraining model).\n",
            "- This IS NOT expected if you are initializing BertForMaskedLM from the checkpoint of a model that you expect to be exactly identical (initializing a BertForSequenceClassification model from a BertForSequenceClassification model).\n",
            "Some weights of the model checkpoint at bert-base-uncased were not used when initializing BertModel: ['cls.predictions.bias', 'cls.seq_relationship.bias', 'cls.predictions.decoder.weight', 'cls.seq_relationship.weight', 'cls.predictions.transform.dense.bias', 'cls.predictions.transform.dense.weight', 'cls.predictions.transform.LayerNorm.weight', 'cls.predictions.transform.LayerNorm.bias']\n",
            "- This IS expected if you are initializing BertModel from the checkpoint of a model trained on another task or with another architecture (e.g. initializing a BertForSequenceClassification model from a BertForPreTraining model).\n",
            "- This IS NOT expected if you are initializing BertModel from the checkpoint of a model that you expect to be exactly identical (initializing a BertForSequenceClassification model from a BertForSequenceClassification model).\n"
          ]
        },
        {
          "output_type": "stream",
          "name": "stdout",
          "text": [
            "['The content you are trying to view is exclusive to our subscribers.', '', 'To unlock this article:']\n"
          ]
        },
        {
          "output_type": "stream",
          "name": "stderr",
          "text": [
            "Some weights of the model checkpoint at yiyanghkust/finbert-pretrain were not used when initializing BertForMaskedLM: ['cls.seq_relationship.bias', 'cls.seq_relationship.weight']\n",
            "- This IS expected if you are initializing BertForMaskedLM from the checkpoint of a model trained on another task or with another architecture (e.g. initializing a BertForSequenceClassification model from a BertForPreTraining model).\n",
            "- This IS NOT expected if you are initializing BertForMaskedLM from the checkpoint of a model that you expect to be exactly identical (initializing a BertForSequenceClassification model from a BertForSequenceClassification model).\n",
            "Some weights of the model checkpoint at bert-base-uncased were not used when initializing BertModel: ['cls.predictions.bias', 'cls.seq_relationship.bias', 'cls.predictions.decoder.weight', 'cls.seq_relationship.weight', 'cls.predictions.transform.dense.bias', 'cls.predictions.transform.dense.weight', 'cls.predictions.transform.LayerNorm.weight', 'cls.predictions.transform.LayerNorm.bias']\n",
            "- This IS expected if you are initializing BertModel from the checkpoint of a model trained on another task or with another architecture (e.g. initializing a BertForSequenceClassification model from a BertForPreTraining model).\n",
            "- This IS NOT expected if you are initializing BertModel from the checkpoint of a model that you expect to be exactly identical (initializing a BertForSequenceClassification model from a BertForSequenceClassification model).\n"
          ]
        },
        {
          "output_type": "stream",
          "name": "stdout",
          "text": [
            "['The content you are trying to view is exclusive to our subscribers.', '', 'To unlock this article:']\n"
          ]
        },
        {
          "output_type": "stream",
          "name": "stderr",
          "text": [
            "Some weights of the model checkpoint at yiyanghkust/finbert-pretrain were not used when initializing BertForMaskedLM: ['cls.seq_relationship.bias', 'cls.seq_relationship.weight']\n",
            "- This IS expected if you are initializing BertForMaskedLM from the checkpoint of a model trained on another task or with another architecture (e.g. initializing a BertForSequenceClassification model from a BertForPreTraining model).\n",
            "- This IS NOT expected if you are initializing BertForMaskedLM from the checkpoint of a model that you expect to be exactly identical (initializing a BertForSequenceClassification model from a BertForSequenceClassification model).\n",
            "Some weights of the model checkpoint at bert-base-uncased were not used when initializing BertModel: ['cls.predictions.bias', 'cls.seq_relationship.bias', 'cls.predictions.decoder.weight', 'cls.seq_relationship.weight', 'cls.predictions.transform.dense.bias', 'cls.predictions.transform.dense.weight', 'cls.predictions.transform.LayerNorm.weight', 'cls.predictions.transform.LayerNorm.bias']\n",
            "- This IS expected if you are initializing BertModel from the checkpoint of a model trained on another task or with another architecture (e.g. initializing a BertForSequenceClassification model from a BertForPreTraining model).\n",
            "- This IS NOT expected if you are initializing BertModel from the checkpoint of a model that you expect to be exactly identical (initializing a BertForSequenceClassification model from a BertForSequenceClassification model).\n"
          ]
        },
        {
          "output_type": "stream",
          "name": "stdout",
          "text": [
            "['Despite Japan’s uncertainty on whether to issue a central bank digital currency (CBDC), the Bank of Japan (BoJ) continues experimenting with a potential digital yen.', '', 'The Japanese central bank has started a collaboration with three megabanks and regional banks to conduct a CBDC issuance pilot, the local news agency Nikkei reported on Nov. 23.', '', 'The pilot aims to provide demo experiments for the issuance of Japan’s national digital currency, the digital yen, starting in spring 2023.', '', 'As part of the trial, the BoJ is expected to cooperate with major private banks and other organizations to detect and solve any issues related to customer deposits and withdrawals on bank accounts. According to the report, the pilot will involve testing the offline functionality of Japan’s possible CBDC, targeting payments without the internet.', '', 'Japan’s central bank plans to proceed with its CBDC experiment for about two years and make a decision on whether to issue a digital currency by 2026, the report notes.', '', 'The news comes amid countries around the globe increasingly launching CBDC research and development initiatives, with countries like China leading the global CBDC race.', '', 'As Cointelegraph reported on Nov. 22, the Reserve Bank of India is preparing to start a retail pilot of the digital rupee in collaboration with major local banks including the State Bank of India in December. In mid-November, the Federal Reserve Bank of New York’s Innovation Center announced the launch of a 12-week proof-of-concept CBDC pilot in partnership with banking giants like BNY Mellon, Citi, HSBC and others.', '', 'Related: Japan’s International Payments System will test plastic cards for CBDC', '', 'While the majority of the world has been rushing to launch a CBDC, some countries like Denmark have dropped out of the digital currency race. Among reasons for dropping their CBDC or CBDC-related projects, the central banks listed potential difficulties for the private sector, questionable value and benefits and other issues. Still, no central bank has ruled out the possibility of launching a CBDC completely.']\n"
          ]
        },
        {
          "output_type": "stream",
          "name": "stderr",
          "text": [
            "Some weights of the model checkpoint at yiyanghkust/finbert-pretrain were not used when initializing BertForMaskedLM: ['cls.seq_relationship.bias', 'cls.seq_relationship.weight']\n",
            "- This IS expected if you are initializing BertForMaskedLM from the checkpoint of a model trained on another task or with another architecture (e.g. initializing a BertForSequenceClassification model from a BertForPreTraining model).\n",
            "- This IS NOT expected if you are initializing BertForMaskedLM from the checkpoint of a model that you expect to be exactly identical (initializing a BertForSequenceClassification model from a BertForSequenceClassification model).\n",
            "Some weights of the model checkpoint at bert-base-uncased were not used when initializing BertModel: ['cls.predictions.bias', 'cls.seq_relationship.bias', 'cls.predictions.decoder.weight', 'cls.seq_relationship.weight', 'cls.predictions.transform.dense.bias', 'cls.predictions.transform.dense.weight', 'cls.predictions.transform.LayerNorm.weight', 'cls.predictions.transform.LayerNorm.bias']\n",
            "- This IS expected if you are initializing BertModel from the checkpoint of a model trained on another task or with another architecture (e.g. initializing a BertForSequenceClassification model from a BertForPreTraining model).\n",
            "- This IS NOT expected if you are initializing BertModel from the checkpoint of a model that you expect to be exactly identical (initializing a BertForSequenceClassification model from a BertForSequenceClassification model).\n"
          ]
        },
        {
          "output_type": "stream",
          "name": "stdout",
          "text": [
            "['Mastercard has launched a Treasury Intelligence Platform, aimed at providing businesses with more insights into payment flows.', '', 'Payment processing giant Mastercard launched its Global Treasury Intelligence platform this month, which aims to provide businesses and governments with more visibility into payment flows.', '', 'The cloud-based intelligence platform has many use cases and leverages the wealth of data Mastercard has on payments, which it has gathered as the second largest payment-processing corporation in the world behind Visa.', '', 'SEE ALSO: Blockchain to Secure Contactless Payments', '', 'With the intelligence platform, businesses are able to see all key payment metrics in a unified dashboard. For company treasurers, this allows them to analyze the benefits and drawbacks changing invoice dates, frequency, or payment type. Operations managers can identify risks by analyzing spend patterns. To better understand supply chain risks, Mastercard has integrated KYS (know your supplier) and ESG ratings into the platform.', '', 'Through the standardization of all data sources, Mastercard hopes to deliver an integrated solution that can be utilized by all employees in an organization.', '', '“The health of the business does not sit in just one team or silo. With Global Treasury Intelligence, we are providing the broad, interconnected views our customers need to make smarter decisions with better outcomes across their enterprises,” said Raj Seshadri, president of Data & Services at Mastercard. “This solution is a powerful addition to our suite of insights and analytics services. The insights it offers will help our customers to realize the full value of innovative Mastercard solutions such as Track BPS and Mastercard Instant Pay.”', '', 'Mastercard built the intelligence platform in partnership with AI-powered analytics engine Robobai, which is already partnered with organizations such as Accenture, Deloitte, and PwC. One of Robobai’s goals is to move businesses off spreadsheets for forecasting, and into real-time data solutions that more accurately visualize company flows.', '', '“HSBC is an early adopter of Mastercard’s Global Treasury Intelligence because of the insights it gives us into the needs of our clients. By unlocking this data-driven collaboration with our customers, we see how to best help them achieve their goals for treasury,” said Brian Tomkins, global head of commercial cards at HSBC.']\n"
          ]
        },
        {
          "output_type": "stream",
          "name": "stderr",
          "text": [
            "Some weights of the model checkpoint at yiyanghkust/finbert-pretrain were not used when initializing BertForMaskedLM: ['cls.seq_relationship.bias', 'cls.seq_relationship.weight']\n",
            "- This IS expected if you are initializing BertForMaskedLM from the checkpoint of a model trained on another task or with another architecture (e.g. initializing a BertForSequenceClassification model from a BertForPreTraining model).\n",
            "- This IS NOT expected if you are initializing BertForMaskedLM from the checkpoint of a model that you expect to be exactly identical (initializing a BertForSequenceClassification model from a BertForSequenceClassification model).\n",
            "Some weights of the model checkpoint at bert-base-uncased were not used when initializing BertModel: ['cls.predictions.bias', 'cls.seq_relationship.bias', 'cls.predictions.decoder.weight', 'cls.seq_relationship.weight', 'cls.predictions.transform.dense.bias', 'cls.predictions.transform.dense.weight', 'cls.predictions.transform.LayerNorm.weight', 'cls.predictions.transform.LayerNorm.bias']\n",
            "- This IS expected if you are initializing BertModel from the checkpoint of a model trained on another task or with another architecture (e.g. initializing a BertForSequenceClassification model from a BertForPreTraining model).\n",
            "- This IS NOT expected if you are initializing BertModel from the checkpoint of a model that you expect to be exactly identical (initializing a BertForSequenceClassification model from a BertForSequenceClassification model).\n"
          ]
        },
        {
          "output_type": "stream",
          "name": "stdout",
          "text": [
            "['Delhivery share: Notwithstanding the current drag in the overall revenue figures of Delhivery in FY23, brokerages like ICICI Bank, Jefferies and HSBC maintain a buy rating on this stock. Breaking from its losing streak over the past seven trading sessions, the stock was trading with gains of 1.15 per cent on the NSE at Rs 329.', '', 'Jefferies puts a price target of Rs 700 estimating a 114 per cent upside in this stock. The stock was recommended at a price of Rs 326.', '', 'Meanwhile, HSBC has lowered the targets by nearly 36 per cent from Rs 710 to Rs 455. The current target is at Rs 455, which is still 40 per cent higher from the level of Rs 326 at which it was recommended. It has lowered the target on the back of consecutive weak quarters, which it said has said has shattered the confidence of the street. Yet, it maintains a buy rating in this stock.', '', 'ICICI Securities has also upgraded its stance on Delhivery from Sell to BUY calling the current weakness as transient which is “unlikely to be symptomatic of structural weakness in the space”.', '', '“We believe Delhivery’s current valuations provide a great opportunity to BUY this high-quality stock,” the brokerage noted. The target is Rs 351 from this brokerage.', '', 'The company has cut its revenue growth estimates “meaningfully” for FY23/FY24E/25E (16%/23%/24%), it said in a note.', '', 'The brokerage has cited its lowest cost structure compared to peers across first mile, mid mile and last mile logistics in express parcel business to be a competitive edge in a cost-sensitive market.', '', 'Read More: Stock Market Today LIVE: Bank Nifty surpasses 43000; Sensex up 400 points, Nifty over 100 points higher', '', 'Even HSBC highlighted that Delhivery is primarily an operating leverage story.', '', 'ICICI Securities also opined that technology and trust moat should strengthen its dominant share in niche segments such as secured delivery. A hands-on management ensures agile decision making and timely intervention during exception handling, it said.', '', 'Delhivery’s share price has corrected by 50 per cent from peak levels of July 2022 on concerns around sustainability of revenue growth and path to profitability, ICICI Securities report said.', '', 'The stock has corrected 14 per cent in the last 7 trading sessions.', '', 'Intraday Chart', '', 'Price Movement', '', '“We envisage an upside scenario where the stock re-rates to Rs 620 if revenue growth recovery in express parcel and PTL segments are higher than estimates,” the ICICI Securities said.', '', 'However, downside up to Rs 300 is not ruled out, says this brokerage if EBITDA margin profitability is pushed beyond Q4FY23 and medium-term revenue growth visibility worsens further due to global headwinds.', '', 'Technical Analysis', '', 'Expert Nilesh Jain sees a further downside up to Rs 300-Rs 310 on current chart structure. His recommendation is to exit the stock if the view is near to short term. The stock is trading in an oversold territory and could see a pullback.', '', 'Jain, who is Assistant Vice President - Lead Derivative and Technical Research at Centrum Broking, recommends exit on rise at levels between Rs 350-Rs 370.', '', 'Delhivery Vs Sensex', '', 'Source: BSE', '', '(Disclaimer: The views/suggestions/advises expressed here in this article is solely by investment experts. Zee Business suggests its readers to consult with their investment advisers before making any financial decision.)']\n"
          ]
        },
        {
          "output_type": "stream",
          "name": "stderr",
          "text": [
            "Some weights of the model checkpoint at yiyanghkust/finbert-pretrain were not used when initializing BertForMaskedLM: ['cls.seq_relationship.bias', 'cls.seq_relationship.weight']\n",
            "- This IS expected if you are initializing BertForMaskedLM from the checkpoint of a model trained on another task or with another architecture (e.g. initializing a BertForSequenceClassification model from a BertForPreTraining model).\n",
            "- This IS NOT expected if you are initializing BertForMaskedLM from the checkpoint of a model that you expect to be exactly identical (initializing a BertForSequenceClassification model from a BertForSequenceClassification model).\n",
            "Some weights of the model checkpoint at bert-base-uncased were not used when initializing BertModel: ['cls.predictions.bias', 'cls.seq_relationship.bias', 'cls.predictions.decoder.weight', 'cls.seq_relationship.weight', 'cls.predictions.transform.dense.bias', 'cls.predictions.transform.dense.weight', 'cls.predictions.transform.LayerNorm.weight', 'cls.predictions.transform.LayerNorm.bias']\n",
            "- This IS expected if you are initializing BertModel from the checkpoint of a model trained on another task or with another architecture (e.g. initializing a BertForSequenceClassification model from a BertForPreTraining model).\n",
            "- This IS NOT expected if you are initializing BertModel from the checkpoint of a model that you expect to be exactly identical (initializing a BertForSequenceClassification model from a BertForSequenceClassification model).\n"
          ]
        },
        {
          "output_type": "stream",
          "name": "stdout",
          "text": [
            "['Not quite', '', 'The first two sentences of the Times of Malta leader of November 19, namely: “Governments are sometimes forced to bail out struggling banks that are too big to fail” and “This is done because the cost of letting a bank go under is often greater than that of bailing it out with taxpayers’ money”, are no longer totally correct after the Greek crisis.', '', 'When the EU passed directive No. 2014/58/EU (now, of course, part of Maltese law) governmental “bailouts” effectively dropped into a different pecking order, where “bailins” assumed as much, if not more, importance and priority.', '', '“Bailins” brought EU credit institutions and systemically important institutions (SIIs) into a situation where, in a bank crisis, and indeed much before getting to that stage, they have to constantly act and assume certain responsibilities before public funds (government or taxpayers’ monies) can be fallen upon.', '', 'In terms of the mentioned BRRD (bank recovery and resolution directive), various new regulatory structures have come to exist in all EU member states and these constantly monitor and control the operations and ongoing financial situations of banks much more strongly than prior to the Greek crisis.', '', 'These structures include an SRB (single resolution board) as part of the ECB and local BRR committees, with, in fact, the Malta one existing and operating regularly within the MFSA. Such committees meet regularly, have full-time staff operating and, inter alia, work on close regular monitoring of banks’ MRELs (minimum regulatory eligible liabilities), RRPs (recovery and resolution plans) and other control metrics, all of which designed to ensure that banks, including those licensed and operating in/from Malta, remain in an operational financial state that provide some peace of mind.', '', 'One would be correct in saying that, with the BRRD, the concept of “prevention is better than control” is brought much more to the fore in the protection of all stakeholders. And, also, that in crises it should not only be taxpayers’ who carry the can.', '', 'John Consiglio, Department of Banking & Finance, University of Malta – Msida', '', 'Service at HSBC', '', 'Photo: Matthew Mirabelli', '', 'I refer to the article ‘The elderly are facing added obstacles to banking’ (November 3).', '', 'I agree with this article and I am one of the thousands of elderly who use HSBC as their main bank.', '', 'The government was warned to be careful of HSBC because this bank is neither good to its employees nor to its depositors. How correct this warning was.', '', 'Today, the bank itself (HSBC) is proving the validity of this warning. That is not all. HSBC is not cashing cheques under €20. So when I receive a bill for less than €20, what am I supposed to do?', '', 'HSBC also advises us to use an ATM to withdraw cash. Quite often, when I try to do this, there is a notice that says “cash is not available”.', '', 'HSBC were supposed to open new branches, instead they are closing very central ones. I mention only two – Balzan and Msida. On the part of HSBC there is more than one “breach of contract”.', '', 'I ask the minister for the elderly to note and take action and not let us elderly continue suffering because of HSBC’s policies.', '', 'Carmel Gatt – Sliema']\n"
          ]
        },
        {
          "output_type": "stream",
          "name": "stderr",
          "text": [
            "Some weights of the model checkpoint at yiyanghkust/finbert-pretrain were not used when initializing BertForMaskedLM: ['cls.seq_relationship.bias', 'cls.seq_relationship.weight']\n",
            "- This IS expected if you are initializing BertForMaskedLM from the checkpoint of a model trained on another task or with another architecture (e.g. initializing a BertForSequenceClassification model from a BertForPreTraining model).\n",
            "- This IS NOT expected if you are initializing BertForMaskedLM from the checkpoint of a model that you expect to be exactly identical (initializing a BertForSequenceClassification model from a BertForSequenceClassification model).\n",
            "Some weights of the model checkpoint at bert-base-uncased were not used when initializing BertModel: ['cls.predictions.bias', 'cls.seq_relationship.bias', 'cls.predictions.decoder.weight', 'cls.seq_relationship.weight', 'cls.predictions.transform.dense.bias', 'cls.predictions.transform.dense.weight', 'cls.predictions.transform.LayerNorm.weight', 'cls.predictions.transform.LayerNorm.bias']\n",
            "- This IS expected if you are initializing BertModel from the checkpoint of a model trained on another task or with another architecture (e.g. initializing a BertForSequenceClassification model from a BertForPreTraining model).\n",
            "- This IS NOT expected if you are initializing BertModel from the checkpoint of a model that you expect to be exactly identical (initializing a BertForSequenceClassification model from a BertForSequenceClassification model).\n"
          ]
        },
        {
          "output_type": "stream",
          "name": "stdout",
          "text": [
            "['The content you are trying to view is exclusive to our subscribers.', '', 'To unlock this article:']\n"
          ]
        },
        {
          "output_type": "stream",
          "name": "stderr",
          "text": [
            "Some weights of the model checkpoint at yiyanghkust/finbert-pretrain were not used when initializing BertForMaskedLM: ['cls.seq_relationship.bias', 'cls.seq_relationship.weight']\n",
            "- This IS expected if you are initializing BertForMaskedLM from the checkpoint of a model trained on another task or with another architecture (e.g. initializing a BertForSequenceClassification model from a BertForPreTraining model).\n",
            "- This IS NOT expected if you are initializing BertForMaskedLM from the checkpoint of a model that you expect to be exactly identical (initializing a BertForSequenceClassification model from a BertForSequenceClassification model).\n",
            "Some weights of the model checkpoint at bert-base-uncased were not used when initializing BertModel: ['cls.predictions.bias', 'cls.seq_relationship.bias', 'cls.predictions.decoder.weight', 'cls.seq_relationship.weight', 'cls.predictions.transform.dense.bias', 'cls.predictions.transform.dense.weight', 'cls.predictions.transform.LayerNorm.weight', 'cls.predictions.transform.LayerNorm.bias']\n",
            "- This IS expected if you are initializing BertModel from the checkpoint of a model trained on another task or with another architecture (e.g. initializing a BertForSequenceClassification model from a BertForPreTraining model).\n",
            "- This IS NOT expected if you are initializing BertModel from the checkpoint of a model that you expect to be exactly identical (initializing a BertForSequenceClassification model from a BertForSequenceClassification model).\n"
          ]
        },
        {
          "output_type": "stream",
          "name": "stdout",
          "text": [
            "['Midlands Deals Adam Beech', '', 'Mark Greasley, Paul Armstrong, Ben Laing, Steve Sharp and Ben Lavin', '', 'A Burton on Trent-based leisure business has expanded and created jobs after securing a £2.4m funding package from HSBC UK.', '', 'Branston Golf and Country Club has utilised a cash injection to assist the business with its regeneration plans, following a management buyout prior to the Covid-19 pandemic.', '', 'The transformation includes the development of a health club, 17m swimming pool, conference facilities, creche, and a 2,000 sq ft gym, alongside extensive maintenance of multiple site golf courses.', '', \"Branston Golf and Country Club has established ten jobs across the business, created to manage and support the promotion and operation of the club's new and improved facilities.\", '', 'As a result of expansion, the business is estimating an increase of 25 per cent in turnover.', '', 'Managing director Ben Laing said: \"The support from HSBC UK has enabled us to extend our investment over a longer period.', '', '\"Consolidating the investment in one package will enable us to drive the rate and volume of all revenue streams, resulting in steady and consistent growth across all business sections.', '', '\"As we operate in the premium segment of the market, this investment has ensured that we can deliver the highest quality of service and facilities to all our members and customers.\"', '', 'Paul Armstrong, area director at HSBC UK, added: \"We\\'re pleased to be able to support businesses from sectors that are still recovering from the impact of the pandemic, such as Branston Golf and Country Club.', '', '\"The club is in a position to move forward with its exciting plans for future growth.\"']\n"
          ]
        },
        {
          "output_type": "stream",
          "name": "stderr",
          "text": [
            "Some weights of the model checkpoint at yiyanghkust/finbert-pretrain were not used when initializing BertForMaskedLM: ['cls.seq_relationship.bias', 'cls.seq_relationship.weight']\n",
            "- This IS expected if you are initializing BertForMaskedLM from the checkpoint of a model trained on another task or with another architecture (e.g. initializing a BertForSequenceClassification model from a BertForPreTraining model).\n",
            "- This IS NOT expected if you are initializing BertForMaskedLM from the checkpoint of a model that you expect to be exactly identical (initializing a BertForSequenceClassification model from a BertForSequenceClassification model).\n",
            "Some weights of the model checkpoint at bert-base-uncased were not used when initializing BertModel: ['cls.predictions.bias', 'cls.seq_relationship.bias', 'cls.predictions.decoder.weight', 'cls.seq_relationship.weight', 'cls.predictions.transform.dense.bias', 'cls.predictions.transform.dense.weight', 'cls.predictions.transform.LayerNorm.weight', 'cls.predictions.transform.LayerNorm.bias']\n",
            "- This IS expected if you are initializing BertModel from the checkpoint of a model trained on another task or with another architecture (e.g. initializing a BertForSequenceClassification model from a BertForPreTraining model).\n",
            "- This IS NOT expected if you are initializing BertModel from the checkpoint of a model that you expect to be exactly identical (initializing a BertForSequenceClassification model from a BertForSequenceClassification model).\n"
          ]
        },
        {
          "output_type": "stream",
          "name": "stdout",
          "text": [
            "['J. Safra Sarasin has hired a handful of private bankers from rival pure-plays, including Julius Baer, finews.asia has learned.', '', 'A handful of former Julius Baer private bankers have joined J. Safra Sarasin, sources told finews.asia, specifically in its client advisory unit in Singapore.', '', 'J. Safra Sarasin appoints Michael Leutwyler as managing director, client advisory. Leutwyler was most recently working at Julius Baer, where he spent eight years, last as a managing director senior advisor. Previously, he also worked at Barclays, Deutsche Bank, Merrill Lynch and UBS.', '', 'The bank has also hired Rupesh Singh as a managing director in the unit after he, too, spent eight years at Julius Baer as a former managing director senior advisor. Prior to that, he worked at ANZ, HSBC, Citi and ABN AMRO.', '', 'Former Julius Baer Bankers', '', 'Outside of the managing director level, the Swiss-Brazilian private bank hired Julius Baer alumni Ashvin Kumar as executive director and Nitin Sachdeva as director in Singapore.', '', 'Kumar was most recently the head of operations at Indorama Investment Advisors, Singapore after a five-year stint with Julius Baer. Previously, he also worked at UBS, HSBC, Barclays, Citi and ABN AMRO.', '', 'Sachdeva was most recently with Julius and previously worked at Standard Chartered, Citi and HSBC.', '', 'Singapore Operations', '', 'In addition to Julius Baer, J. Safra Sarasin also hired from another rival pure-play in EFG, namely its ex-head of operations in Singapore, Bernard Tan, for the same role. Tan previously worked at the former BSI, BNP Paribas and Morgan Stanley.', '', 'A spokesperson for the bank confirmed the new hires.']\n"
          ]
        },
        {
          "output_type": "stream",
          "name": "stderr",
          "text": [
            "Some weights of the model checkpoint at yiyanghkust/finbert-pretrain were not used when initializing BertForMaskedLM: ['cls.seq_relationship.bias', 'cls.seq_relationship.weight']\n",
            "- This IS expected if you are initializing BertForMaskedLM from the checkpoint of a model trained on another task or with another architecture (e.g. initializing a BertForSequenceClassification model from a BertForPreTraining model).\n",
            "- This IS NOT expected if you are initializing BertForMaskedLM from the checkpoint of a model that you expect to be exactly identical (initializing a BertForSequenceClassification model from a BertForSequenceClassification model).\n",
            "Some weights of the model checkpoint at bert-base-uncased were not used when initializing BertModel: ['cls.predictions.bias', 'cls.seq_relationship.bias', 'cls.predictions.decoder.weight', 'cls.seq_relationship.weight', 'cls.predictions.transform.dense.bias', 'cls.predictions.transform.dense.weight', 'cls.predictions.transform.LayerNorm.weight', 'cls.predictions.transform.LayerNorm.bias']\n",
            "- This IS expected if you are initializing BertModel from the checkpoint of a model trained on another task or with another architecture (e.g. initializing a BertForSequenceClassification model from a BertForPreTraining model).\n",
            "- This IS NOT expected if you are initializing BertModel from the checkpoint of a model that you expect to be exactly identical (initializing a BertForSequenceClassification model from a BertForSequenceClassification model).\n"
          ]
        },
        {
          "output_type": "stream",
          "name": "stdout",
          "text": [
            "['Ever fancied getting up close and personal with exotic creepy crawlies like praying mantises, stick insects, or even vinegaroons?', '', \"Surprisingly enough, that opportunity is right on your doorstep with the opening of the UK's largest insect zoo right here in Norfolk.\", '', 'Visitors can handle a number of insects at BugzUK Parc in Lenwade (Image: Chris Harvey Visuals)', '', 'BugzUK Parc, run by Martin French, recently completed the construction of its larger premises in Lenwade, near Reepham, which now covers 8,100 sq ft.', '', \"It houses Mr French's collection of more than 200 different species of invertebrates from across the globe.\", '', 'Through a zoo, café and gift shop open to the public, the new attraction has also provided a boost to the local economy and created 10 jobs for locals.', '', 'Martin French has expanded BugzUK Parc in Lenwade (Image: Chris Harvey Visuals)', '', 'The expansion was made possible by a £70,000 funding package from HSBC UK.', '', 'Martin French, who founded BugzUK business more than two decades ago, said: \"Breeding tropical invertebrates has been a passion of mine for the past 30 years.', '', '\"It’s so exciting to see how many bug-mad kids and adults there are in and around Norfolk.', '', 'Martin French has long been passionate about exotic invertebrates (Image: Kate Wolstenholme/Newsquest)', '', '\"Opening the zoo has allowed me to turn this hobby into a career so I can share my knowledge with the next generation of invertebrate enthusiasts.', '', '\"The support from HSBC UK has been invaluable in completing the build and enabling us to launch.\"', '', 'BugzUK Park first opened earlier this year and has already enjoyed success, welcoming more than 10,000 visitors through the door.', '', 'During handling session experiences, visitors can get up close with creatures including stick insects, praying mantises, millipedes, beetles, snails, vinegaroons, katydids and cockroaches.', '', 'The site also doubles up as a teaching centre and is set to host a number of educational trips throughout the school year.', '', \"What's more, Mr French is planning to further expand the attraction over the next decade, opening new exhibitions each year and offering additional employment opportunities.\", '', 'Martin French launched BugzUK more than 20 years ago (Image: Chris Harvey Visuals)', '', 'Daniel Jones, regional director at HSBC UK, added: “Supporting the launch of this unique, educational attraction has been so rewarding, especially with the knowledge that further expansion is planned over the next decade.', '', '\"It’s certainly one of the more niche businesses we’ve worked with, and we’re really pleased with the positive response it’s had so far.\"', '', 'Part of the expanded BugzUK Parc premises in Lenwade (Image: Chris Harvey Visuals)']\n"
          ]
        },
        {
          "output_type": "stream",
          "name": "stderr",
          "text": [
            "Some weights of the model checkpoint at yiyanghkust/finbert-pretrain were not used when initializing BertForMaskedLM: ['cls.seq_relationship.bias', 'cls.seq_relationship.weight']\n",
            "- This IS expected if you are initializing BertForMaskedLM from the checkpoint of a model trained on another task or with another architecture (e.g. initializing a BertForSequenceClassification model from a BertForPreTraining model).\n",
            "- This IS NOT expected if you are initializing BertForMaskedLM from the checkpoint of a model that you expect to be exactly identical (initializing a BertForSequenceClassification model from a BertForSequenceClassification model).\n",
            "Some weights of the model checkpoint at bert-base-uncased were not used when initializing BertModel: ['cls.predictions.bias', 'cls.seq_relationship.bias', 'cls.predictions.decoder.weight', 'cls.seq_relationship.weight', 'cls.predictions.transform.dense.bias', 'cls.predictions.transform.dense.weight', 'cls.predictions.transform.LayerNorm.weight', 'cls.predictions.transform.LayerNorm.bias']\n",
            "- This IS expected if you are initializing BertModel from the checkpoint of a model trained on another task or with another architecture (e.g. initializing a BertForSequenceClassification model from a BertForPreTraining model).\n",
            "- This IS NOT expected if you are initializing BertModel from the checkpoint of a model that you expect to be exactly identical (initializing a BertForSequenceClassification model from a BertForSequenceClassification model).\n"
          ]
        },
        {
          "output_type": "stream",
          "name": "stdout",
          "text": [
            "['FinAccel, the leading digital financial services company in Southeast Asia, today announced the appointment of Chao Gao as CTO, Kredivo, Jean Lua as Chief HR Officer, Matt Mullarkey as General Counsel and Wisaksana Djawi as Director, Krom Bank.', '', 'Prior to joining FinAccel, Chao was CTO at Imprint, an early stage US-based fintech startup, and prior to that, the head of engineering for Grab’s delivery segment, where he led the development of the engineering stack that today powers the largest delivery business in Southeast Asia. Jean was previously a senior HR leader for Shopee International and prior to that role led organization & people development initiatives across the company. Matt was previously at Shearman and Sterling LLP in Singapore, specializing in finance, M&A and energy transactions. Wisaksana Djawi was previously part of the launch team for Bank Jago, one of Indonesia’s pioneering neobanks, and prior to that, held various business roles at HSBC Indonesia.', '', '“Chao, Jean, Matt and Wisaksana are top-flight executives who will help us drive our growth to the next level. Not only do they bring strong expertise in their respective functions, but they also share a strong desire to be part of one of the most transformational fintech companies in Southeast Asia. We’re excited to welcome them to our leadership team,” said Akshay Garg, Group CEO of FinAccel.', '', 'In a joint statement, Chao, Jean, Matt and Wisaksana said, “We are thrilled to be joining FinAccel at this time. With a singular culture, Kredivo’s established market leadership and the upcoming launch of the neobank Krom, the company is firing on multiple cylinders. We’re very excited to take the company to the next level of growth.”', '', 'About FinAccel', '', 'FinAccel is a financial technology company focused on making financial services fast, affordable and accessible for the under-banked population of Southeast Asia. FinAccel’s products and entities include Kredivo, the leading BNPL platform in Indonesia and Vietnam, KrediFazz, the leading digital credit platform in Indonesia, and Krom Bank Indonesia (formerly Bank Bisnis). FinAccel is backed by leading venture capital firms and corporate investors such as Square Peg Capital, Jungle Ventures, Naver Financial, Mirae Asset and Victory Park Capital Advisors among others. To know more about FinAccel, visit http://www.finaccel.co.']\n"
          ]
        },
        {
          "output_type": "stream",
          "name": "stderr",
          "text": [
            "Some weights of the model checkpoint at yiyanghkust/finbert-pretrain were not used when initializing BertForMaskedLM: ['cls.seq_relationship.bias', 'cls.seq_relationship.weight']\n",
            "- This IS expected if you are initializing BertForMaskedLM from the checkpoint of a model trained on another task or with another architecture (e.g. initializing a BertForSequenceClassification model from a BertForPreTraining model).\n",
            "- This IS NOT expected if you are initializing BertForMaskedLM from the checkpoint of a model that you expect to be exactly identical (initializing a BertForSequenceClassification model from a BertForSequenceClassification model).\n",
            "Some weights of the model checkpoint at bert-base-uncased were not used when initializing BertModel: ['cls.predictions.bias', 'cls.seq_relationship.bias', 'cls.predictions.decoder.weight', 'cls.seq_relationship.weight', 'cls.predictions.transform.dense.bias', 'cls.predictions.transform.dense.weight', 'cls.predictions.transform.LayerNorm.weight', 'cls.predictions.transform.LayerNorm.bias']\n",
            "- This IS expected if you are initializing BertModel from the checkpoint of a model trained on another task or with another architecture (e.g. initializing a BertForSequenceClassification model from a BertForPreTraining model).\n",
            "- This IS NOT expected if you are initializing BertModel from the checkpoint of a model that you expect to be exactly identical (initializing a BertForSequenceClassification model from a BertForSequenceClassification model).\n"
          ]
        },
        {
          "output_type": "stream",
          "name": "stdout",
          "text": [
            "['']\n"
          ]
        },
        {
          "output_type": "stream",
          "name": "stderr",
          "text": [
            "Some weights of the model checkpoint at yiyanghkust/finbert-pretrain were not used when initializing BertForMaskedLM: ['cls.seq_relationship.bias', 'cls.seq_relationship.weight']\n",
            "- This IS expected if you are initializing BertForMaskedLM from the checkpoint of a model trained on another task or with another architecture (e.g. initializing a BertForSequenceClassification model from a BertForPreTraining model).\n",
            "- This IS NOT expected if you are initializing BertForMaskedLM from the checkpoint of a model that you expect to be exactly identical (initializing a BertForSequenceClassification model from a BertForSequenceClassification model).\n",
            "Some weights of the model checkpoint at bert-base-uncased were not used when initializing BertModel: ['cls.predictions.bias', 'cls.seq_relationship.bias', 'cls.predictions.decoder.weight', 'cls.seq_relationship.weight', 'cls.predictions.transform.dense.bias', 'cls.predictions.transform.dense.weight', 'cls.predictions.transform.LayerNorm.weight', 'cls.predictions.transform.LayerNorm.bias']\n",
            "- This IS expected if you are initializing BertModel from the checkpoint of a model trained on another task or with another architecture (e.g. initializing a BertForSequenceClassification model from a BertForPreTraining model).\n",
            "- This IS NOT expected if you are initializing BertModel from the checkpoint of a model that you expect to be exactly identical (initializing a BertForSequenceClassification model from a BertForSequenceClassification model).\n"
          ]
        },
        {
          "output_type": "stream",
          "name": "stdout",
          "text": [
            "['Photo: iStock Photo: iStock', '', 'Publicis Sapient’s recently forecast that embedded-finance revenues would increase by more than 40% annually through to 2025. Unsurprisingly, therefore, banking groups are now increasing their focus on providing these third-party services.', '', 'According to banking technology provider BankFi, there is a war waging for who – or perhaps even what – will be the ‘front door’ for the digital services required to run a business.', '', 'Christoffer Malmer, SEBx Christoffer Malmer, SEBx', '', 'In October, Sumitomo Mitsui Financial Group announced plans to expand its embedded-finance business in southeast Asia, while NatWest entered into a strategic partnership with Vodeno Group to create a new banking-as-a-service (BaaS) business in the UK.', '', 'Just a few weeks earlier, HSBC introduced what it described as the only solution that embeds banking services into a cloud enterprise resource planning system in conjunction with Oracle NetSuite.', '', 'Head of platforms, Aman Narain, says the bank is enthusiastic about a broad spectrum of BaaS opportunities, from automating account payables to making FX services available to customers of banks who are unable to do it themselves, to supporting customers’ sellers on a supply chain with point-of-sale solutions that enable them to get credit and keep growing their business.', '', '“There']\n"
          ]
        },
        {
          "output_type": "stream",
          "name": "stderr",
          "text": [
            "Some weights of the model checkpoint at yiyanghkust/finbert-pretrain were not used when initializing BertForMaskedLM: ['cls.seq_relationship.bias', 'cls.seq_relationship.weight']\n",
            "- This IS expected if you are initializing BertForMaskedLM from the checkpoint of a model trained on another task or with another architecture (e.g. initializing a BertForSequenceClassification model from a BertForPreTraining model).\n",
            "- This IS NOT expected if you are initializing BertForMaskedLM from the checkpoint of a model that you expect to be exactly identical (initializing a BertForSequenceClassification model from a BertForSequenceClassification model).\n",
            "Some weights of the model checkpoint at bert-base-uncased were not used when initializing BertModel: ['cls.predictions.bias', 'cls.seq_relationship.bias', 'cls.predictions.decoder.weight', 'cls.seq_relationship.weight', 'cls.predictions.transform.dense.bias', 'cls.predictions.transform.dense.weight', 'cls.predictions.transform.LayerNorm.weight', 'cls.predictions.transform.LayerNorm.bias']\n",
            "- This IS expected if you are initializing BertModel from the checkpoint of a model trained on another task or with another architecture (e.g. initializing a BertForSequenceClassification model from a BertForPreTraining model).\n",
            "- This IS NOT expected if you are initializing BertModel from the checkpoint of a model that you expect to be exactly identical (initializing a BertForSequenceClassification model from a BertForSequenceClassification model).\n"
          ]
        },
        {
          "output_type": "stream",
          "name": "stdout",
          "text": [
            "['(Bloomberg) -- The Middle Eastern operator of KFC and Pizza Hut outlets drew orders worth $105 billion for its initial public offering, raising $1.8 billion for its shareholders in the first-ever dual-listing in Riyadh and Abu Dhabi.', '', 'Most Read from Bloomberg', '', 'Saudi Arabia’s Public Investment Fund and Dubai businessman Mohamed Alabbar sold 2.5 billion shares in Americana Restaurants International Plc. The IPO priced at the top end of the range, valuing the business at $6 billion, and continues a trend of listings being massively oversubscribed in the Middle East.', '', 'Gulf IPOs have been on a tear this year. About $19 billion has been raised so far from share sales, putting the region on course for its second-best year on record -- eclipsed only by 2019, which saw Aramco’s $29.4 billion listing, data compiled by Bloomberg show.', '', 'Americana shares were priced at 2.68 riyals each, or 2.62 dirhams, according to a statement on Thursday. The initial price range was 2.55 riyals to 2.68 riyals each, or 2.50 dirhams to 2.62 dirhams apiece.', '', 'Saudi Arabia’s Tadawul stock exchange had been encouraging firms for years to dual list, but none had done so before Americana. A successful deal is expected to set a precedent for others.', '', 'Americana is the biggest Saudi Arabian IPO this year after Nahdi Medical Co.’s $1.4 billion listing. It will also be the first company to have its shares traded in both Riyadh and Abu Dhabi.', '', 'Earlier on Thursday, a unit of the state-owned Aramco received regulatory approval for an IPO in Riyadh that could raise about $1 billion. Meanwhile, Saudi Arabian utility Marafiq raised $897 million in a share sale that drew $53 billion in orders, and its shares closed up 3.5% on trading debut on Thursday.', '', 'Story continues', '', 'The Middle East’s listing boom stands in sharp contrast to most other markets where IPOs have slumped sharply because of concerns over high inflation and rising interest rates, coupled with recession risks in the US and Europe.', '', 'Americana’s listing date hasn’t been finalized and the company now expects to provide further information on the offering timetable and allocations to investors around Nov. 28, as a result of the public holiday in Saudi Arabia on Wednesday. It had previously said it was due to start trading in Riyadh and Abu Dhabi on Dec. 6.', '', 'First Abu Dhabi Bank PJSC, Goldman Sachs Group Inc., Morgan Stanley and SNB Capital are joint global coordinators for the IPO, while HSBC Holdings Plc and EFG Hermes are joint bookrunners. Rothschild & Co. is the financial adviser.', '', '(Updates listing date in 9th paragraph)', '', 'Most Read from Bloomberg Businessweek', '', '©2022 Bloomberg L.P.']\n"
          ]
        },
        {
          "output_type": "stream",
          "name": "stderr",
          "text": [
            "Some weights of the model checkpoint at yiyanghkust/finbert-pretrain were not used when initializing BertForMaskedLM: ['cls.seq_relationship.bias', 'cls.seq_relationship.weight']\n",
            "- This IS expected if you are initializing BertForMaskedLM from the checkpoint of a model trained on another task or with another architecture (e.g. initializing a BertForSequenceClassification model from a BertForPreTraining model).\n",
            "- This IS NOT expected if you are initializing BertForMaskedLM from the checkpoint of a model that you expect to be exactly identical (initializing a BertForSequenceClassification model from a BertForSequenceClassification model).\n",
            "Some weights of the model checkpoint at bert-base-uncased were not used when initializing BertModel: ['cls.predictions.bias', 'cls.seq_relationship.bias', 'cls.predictions.decoder.weight', 'cls.seq_relationship.weight', 'cls.predictions.transform.dense.bias', 'cls.predictions.transform.dense.weight', 'cls.predictions.transform.LayerNorm.weight', 'cls.predictions.transform.LayerNorm.bias']\n",
            "- This IS expected if you are initializing BertModel from the checkpoint of a model trained on another task or with another architecture (e.g. initializing a BertForSequenceClassification model from a BertForPreTraining model).\n",
            "- This IS NOT expected if you are initializing BertModel from the checkpoint of a model that you expect to be exactly identical (initializing a BertForSequenceClassification model from a BertForSequenceClassification model).\n"
          ]
        },
        {
          "output_type": "stream",
          "name": "stdout",
          "text": [
            "['The content you are trying to view is exclusive to our subscribers.', '', 'To unlock this article:']\n"
          ]
        },
        {
          "output_type": "stream",
          "name": "stderr",
          "text": [
            "Some weights of the model checkpoint at yiyanghkust/finbert-pretrain were not used when initializing BertForMaskedLM: ['cls.seq_relationship.bias', 'cls.seq_relationship.weight']\n",
            "- This IS expected if you are initializing BertForMaskedLM from the checkpoint of a model trained on another task or with another architecture (e.g. initializing a BertForSequenceClassification model from a BertForPreTraining model).\n",
            "- This IS NOT expected if you are initializing BertForMaskedLM from the checkpoint of a model that you expect to be exactly identical (initializing a BertForSequenceClassification model from a BertForSequenceClassification model).\n",
            "Some weights of the model checkpoint at bert-base-uncased were not used when initializing BertModel: ['cls.predictions.bias', 'cls.seq_relationship.bias', 'cls.predictions.decoder.weight', 'cls.seq_relationship.weight', 'cls.predictions.transform.dense.bias', 'cls.predictions.transform.dense.weight', 'cls.predictions.transform.LayerNorm.weight', 'cls.predictions.transform.LayerNorm.bias']\n",
            "- This IS expected if you are initializing BertModel from the checkpoint of a model trained on another task or with another architecture (e.g. initializing a BertForSequenceClassification model from a BertForPreTraining model).\n",
            "- This IS NOT expected if you are initializing BertModel from the checkpoint of a model that you expect to be exactly identical (initializing a BertForSequenceClassification model from a BertForSequenceClassification model).\n"
          ]
        },
        {
          "output_type": "stream",
          "name": "stdout",
          "text": [
            "['Share Share Article via Facebook Share Article via Twitter Share Article via LinkedIn Share Article via Email', '', 'We are unambiguously contractionary in our monetary position, says RBNZ', '', 'Adrian Orr of Reserve Bank of New Zealand discusses its biggest-ever rate hike of 75 basis points.']\n"
          ]
        },
        {
          "output_type": "stream",
          "name": "stderr",
          "text": [
            "Some weights of the model checkpoint at yiyanghkust/finbert-pretrain were not used when initializing BertForMaskedLM: ['cls.seq_relationship.bias', 'cls.seq_relationship.weight']\n",
            "- This IS expected if you are initializing BertForMaskedLM from the checkpoint of a model trained on another task or with another architecture (e.g. initializing a BertForSequenceClassification model from a BertForPreTraining model).\n",
            "- This IS NOT expected if you are initializing BertForMaskedLM from the checkpoint of a model that you expect to be exactly identical (initializing a BertForSequenceClassification model from a BertForSequenceClassification model).\n",
            "Some weights of the model checkpoint at bert-base-uncased were not used when initializing BertModel: ['cls.predictions.bias', 'cls.seq_relationship.bias', 'cls.predictions.decoder.weight', 'cls.seq_relationship.weight', 'cls.predictions.transform.dense.bias', 'cls.predictions.transform.dense.weight', 'cls.predictions.transform.LayerNorm.weight', 'cls.predictions.transform.LayerNorm.bias']\n",
            "- This IS expected if you are initializing BertModel from the checkpoint of a model trained on another task or with another architecture (e.g. initializing a BertForSequenceClassification model from a BertForPreTraining model).\n",
            "- This IS NOT expected if you are initializing BertModel from the checkpoint of a model that you expect to be exactly identical (initializing a BertForSequenceClassification model from a BertForSequenceClassification model).\n"
          ]
        },
        {
          "output_type": "stream",
          "name": "stdout",
          "text": [
            "['Speakers from State Street, Citi and HSBC among fund experts in attendance at the Irish Funds Annual UK Symposium.']\n"
          ]
        },
        {
          "output_type": "stream",
          "name": "stderr",
          "text": [
            "Some weights of the model checkpoint at yiyanghkust/finbert-pretrain were not used when initializing BertForMaskedLM: ['cls.seq_relationship.bias', 'cls.seq_relationship.weight']\n",
            "- This IS expected if you are initializing BertForMaskedLM from the checkpoint of a model trained on another task or with another architecture (e.g. initializing a BertForSequenceClassification model from a BertForPreTraining model).\n",
            "- This IS NOT expected if you are initializing BertForMaskedLM from the checkpoint of a model that you expect to be exactly identical (initializing a BertForSequenceClassification model from a BertForSequenceClassification model).\n",
            "Some weights of the model checkpoint at bert-base-uncased were not used when initializing BertModel: ['cls.predictions.bias', 'cls.seq_relationship.bias', 'cls.predictions.decoder.weight', 'cls.seq_relationship.weight', 'cls.predictions.transform.dense.bias', 'cls.predictions.transform.dense.weight', 'cls.predictions.transform.LayerNorm.weight', 'cls.predictions.transform.LayerNorm.bias']\n",
            "- This IS expected if you are initializing BertModel from the checkpoint of a model trained on another task or with another architecture (e.g. initializing a BertForSequenceClassification model from a BertForPreTraining model).\n",
            "- This IS NOT expected if you are initializing BertModel from the checkpoint of a model that you expect to be exactly identical (initializing a BertForSequenceClassification model from a BertForSequenceClassification model).\n"
          ]
        },
        {
          "output_type": "stream",
          "name": "stdout",
          "text": [
            "['']\n"
          ]
        },
        {
          "output_type": "stream",
          "name": "stderr",
          "text": [
            "Some weights of the model checkpoint at yiyanghkust/finbert-pretrain were not used when initializing BertForMaskedLM: ['cls.seq_relationship.bias', 'cls.seq_relationship.weight']\n",
            "- This IS expected if you are initializing BertForMaskedLM from the checkpoint of a model trained on another task or with another architecture (e.g. initializing a BertForSequenceClassification model from a BertForPreTraining model).\n",
            "- This IS NOT expected if you are initializing BertForMaskedLM from the checkpoint of a model that you expect to be exactly identical (initializing a BertForSequenceClassification model from a BertForSequenceClassification model).\n",
            "Some weights of the model checkpoint at bert-base-uncased were not used when initializing BertModel: ['cls.predictions.bias', 'cls.seq_relationship.bias', 'cls.predictions.decoder.weight', 'cls.seq_relationship.weight', 'cls.predictions.transform.dense.bias', 'cls.predictions.transform.dense.weight', 'cls.predictions.transform.LayerNorm.weight', 'cls.predictions.transform.LayerNorm.bias']\n",
            "- This IS expected if you are initializing BertModel from the checkpoint of a model trained on another task or with another architecture (e.g. initializing a BertForSequenceClassification model from a BertForPreTraining model).\n",
            "- This IS NOT expected if you are initializing BertModel from the checkpoint of a model that you expect to be exactly identical (initializing a BertForSequenceClassification model from a BertForSequenceClassification model).\n"
          ]
        },
        {
          "output_type": "stream",
          "name": "stdout",
          "text": [
            "['Why did this happen?', '', 'Please make sure your browser supports JavaScript and cookies and that you are not blocking them from loading. For more information you can review our Terms of Service and Cookie Policy.']\n"
          ]
        },
        {
          "output_type": "stream",
          "name": "stderr",
          "text": [
            "Some weights of the model checkpoint at yiyanghkust/finbert-pretrain were not used when initializing BertForMaskedLM: ['cls.seq_relationship.bias', 'cls.seq_relationship.weight']\n",
            "- This IS expected if you are initializing BertForMaskedLM from the checkpoint of a model trained on another task or with another architecture (e.g. initializing a BertForSequenceClassification model from a BertForPreTraining model).\n",
            "- This IS NOT expected if you are initializing BertForMaskedLM from the checkpoint of a model that you expect to be exactly identical (initializing a BertForSequenceClassification model from a BertForSequenceClassification model).\n",
            "Some weights of the model checkpoint at bert-base-uncased were not used when initializing BertModel: ['cls.predictions.bias', 'cls.seq_relationship.bias', 'cls.predictions.decoder.weight', 'cls.seq_relationship.weight', 'cls.predictions.transform.dense.bias', 'cls.predictions.transform.dense.weight', 'cls.predictions.transform.LayerNorm.weight', 'cls.predictions.transform.LayerNorm.bias']\n",
            "- This IS expected if you are initializing BertModel from the checkpoint of a model trained on another task or with another architecture (e.g. initializing a BertForSequenceClassification model from a BertForPreTraining model).\n",
            "- This IS NOT expected if you are initializing BertModel from the checkpoint of a model that you expect to be exactly identical (initializing a BertForSequenceClassification model from a BertForSequenceClassification model).\n"
          ]
        },
        {
          "output_type": "stream",
          "name": "stdout",
          "text": [
            "['Dubai Islamic Bank has priced its inaugural sustainable sukuk, a $750m 5-year senior issue with a profit rate of 5.493 per cent per annum representing a spread of 155bps over 5-year US Treasuries.', '', 'The transaction marked the first-ever sustainable sukuk from a UAE financial institution and the largest issue size ($750m) in the international capital markets from a GCC bank since February 2022. The book was 2.3x oversubscribed.', '', 'The sukuk was priced after completing a marketing exercise where DIB updated investors on its financial performance as well as its sustainable finance framework.', '', '“We are delighted to have issued our inaugural sustainable sukuk today. This deal was very important for DIB given our strong commitment to sustainable finance and the UAE’s Net Zero agenda and the Dubai Clean Energy Strategy,” said Dr Adnan Chilwan, group chief executive officer, DIB.', '', '“I was particularly pleased with the investor response which enabled us to issue a larger size ($750m) well within our pricing parameters and the success of this transaction continues to highlight the confidence investors place in DIB. While we may be the first UAE bank to issue a sustainable sukuk, I sincerely trust we have set a precedent here for other UAE banks to follow,” he added.', '', 'The sukuk is listed on Euronext Dublin and NASDAQ Dubai.', '', 'Standard Chartered Bank acted as sole sustainability structurer while Bank ABC, Dubai Islamic Bank, Emirates NBD Capital, First Abu Dhabi Bank, HSBC, KFH Capital, Sharjah Islamic Bank, Standard Chartered Bank and The Islamic Corporation for the Development of the Private Sector acted as joint lead managers and bookrunners on the transaction.', '', 'The lender posted Dhs4.101bn in group net profit for the first nine months of the year, rising 34 per cent year-on-year, against Dhs3.069bn reported during Q1-Q3 2021.', '', 'Read: Dubai Islamic Bank posts 34% rise in group net profit for Q1-Q3 2022']\n"
          ]
        },
        {
          "output_type": "stream",
          "name": "stderr",
          "text": [
            "Some weights of the model checkpoint at yiyanghkust/finbert-pretrain were not used when initializing BertForMaskedLM: ['cls.seq_relationship.bias', 'cls.seq_relationship.weight']\n",
            "- This IS expected if you are initializing BertForMaskedLM from the checkpoint of a model trained on another task or with another architecture (e.g. initializing a BertForSequenceClassification model from a BertForPreTraining model).\n",
            "- This IS NOT expected if you are initializing BertForMaskedLM from the checkpoint of a model that you expect to be exactly identical (initializing a BertForSequenceClassification model from a BertForSequenceClassification model).\n",
            "Some weights of the model checkpoint at bert-base-uncased were not used when initializing BertModel: ['cls.predictions.bias', 'cls.seq_relationship.bias', 'cls.predictions.decoder.weight', 'cls.seq_relationship.weight', 'cls.predictions.transform.dense.bias', 'cls.predictions.transform.dense.weight', 'cls.predictions.transform.LayerNorm.weight', 'cls.predictions.transform.LayerNorm.bias']\n",
            "- This IS expected if you are initializing BertModel from the checkpoint of a model trained on another task or with another architecture (e.g. initializing a BertForSequenceClassification model from a BertForPreTraining model).\n",
            "- This IS NOT expected if you are initializing BertModel from the checkpoint of a model that you expect to be exactly identical (initializing a BertForSequenceClassification model from a BertForSequenceClassification model).\n"
          ]
        },
        {
          "output_type": "stream",
          "name": "stdout",
          "text": [
            "['Two launches this week represent the growing ETF market in the middle east, with Abu Dhabi based Chimera Capital launching its Chimera FTSE ADX 15 Exchange Traded Fund and HSBC Asset Management expanding its ETF and indexing product suite with five new Islamic ESG ETFs.', '', 'ADX, the Abu Dhabi securities exchange, reports that ETF trading values have surpassed AED 1.4 billion year to date, making, the exchange says, the exchange’s ETFs the most liquid in the Arab world.', '', 'Australia and Japan also featured in what was a busy week, coming up to the US’s Thanksgiving holiday and in the slow approach to Christmas. BetaShares brought us the BetaShares Interest Rate Hedged Australian Investment Grade Corporate Bond ETF and Global X ETFs Japan also turned to Solactive, launching the Global X Autonomous & EV ETF.', '', 'Chinese asset manager CSOP was also busy, launching CSOP US Large Oil & Gas Companies Daily (2x) Leveraged Product (7204.HK) and CSOP US Large Oil & Gas Companies Daily (-2X) Inverse Product (7505.HK) on the Hong Kong Stock Exchange.', '', 'Global X ETFs in Europe was back on the provision of income trail, with the launch in Europe of the Global X Nasdaq 100 Covered Call UCITS ETF (QYLD).', '', 'The firm writes that the launch of QYLD represents Global X’s first synthetic product, which will replicate the underlying index via a total return swap.', '', 'Other launches came from T. Rowe Price, with a floating rate ETF, and from Hartford Funds with its Hartford Disciplined US Equity ETF (HDUS), described as a US large-cap, style-pure product.', '', 'Finally, Harbor Capital Advisors has launched its latest ETF, the Harbor Health Care ETF (MEDI), the 11th ETF for the firm’s growing line-up of ETFs.', '', 'CSOP’s US large oil & gas companies leverage and inverse products to list on HKEX', '', 'Global X ETFs brings its first Covered Call strategy to the European Market with launch of QYLD', '', 'BetaShares launches ETF tracking Solactive Australian Investment Grade Bond Select DH Index', '', 'HSBC Asset Management launches new Shariah screened ESG ETFs', '', 'Global X Japan launches ETF Tracking Solactive Autonomous and Electric Vehicles', '', 'Harbor Capital Advisors launches Health Care Strategy ETF, MEDI', '', 'T. Rowe Price launches floating rate ETF', '', 'Hartford Funds launches disciplined US equity ETF, HDUS', '', 'Chimera Capital LLC launches ETF tracking the performance of the FTSE ADX 15 Index']\n"
          ]
        },
        {
          "output_type": "stream",
          "name": "stderr",
          "text": [
            "Some weights of the model checkpoint at yiyanghkust/finbert-pretrain were not used when initializing BertForMaskedLM: ['cls.seq_relationship.bias', 'cls.seq_relationship.weight']\n",
            "- This IS expected if you are initializing BertForMaskedLM from the checkpoint of a model trained on another task or with another architecture (e.g. initializing a BertForSequenceClassification model from a BertForPreTraining model).\n",
            "- This IS NOT expected if you are initializing BertForMaskedLM from the checkpoint of a model that you expect to be exactly identical (initializing a BertForSequenceClassification model from a BertForSequenceClassification model).\n",
            "Some weights of the model checkpoint at bert-base-uncased were not used when initializing BertModel: ['cls.predictions.bias', 'cls.seq_relationship.bias', 'cls.predictions.decoder.weight', 'cls.seq_relationship.weight', 'cls.predictions.transform.dense.bias', 'cls.predictions.transform.dense.weight', 'cls.predictions.transform.LayerNorm.weight', 'cls.predictions.transform.LayerNorm.bias']\n",
            "- This IS expected if you are initializing BertModel from the checkpoint of a model trained on another task or with another architecture (e.g. initializing a BertForSequenceClassification model from a BertForPreTraining model).\n",
            "- This IS NOT expected if you are initializing BertModel from the checkpoint of a model that you expect to be exactly identical (initializing a BertForSequenceClassification model from a BertForSequenceClassification model).\n"
          ]
        },
        {
          "output_type": "stream",
          "name": "stdout",
          "text": [
            "['Why did this happen?', '', 'Please make sure your browser supports JavaScript and cookies and that you are not blocking them from loading. For more information you can review our Terms of Service and Cookie Policy.']\n"
          ]
        },
        {
          "output_type": "stream",
          "name": "stderr",
          "text": [
            "Some weights of the model checkpoint at yiyanghkust/finbert-pretrain were not used when initializing BertForMaskedLM: ['cls.seq_relationship.bias', 'cls.seq_relationship.weight']\n",
            "- This IS expected if you are initializing BertForMaskedLM from the checkpoint of a model trained on another task or with another architecture (e.g. initializing a BertForSequenceClassification model from a BertForPreTraining model).\n",
            "- This IS NOT expected if you are initializing BertForMaskedLM from the checkpoint of a model that you expect to be exactly identical (initializing a BertForSequenceClassification model from a BertForSequenceClassification model).\n",
            "Some weights of the model checkpoint at bert-base-uncased were not used when initializing BertModel: ['cls.predictions.bias', 'cls.seq_relationship.bias', 'cls.predictions.decoder.weight', 'cls.seq_relationship.weight', 'cls.predictions.transform.dense.bias', 'cls.predictions.transform.dense.weight', 'cls.predictions.transform.LayerNorm.weight', 'cls.predictions.transform.LayerNorm.bias']\n",
            "- This IS expected if you are initializing BertModel from the checkpoint of a model trained on another task or with another architecture (e.g. initializing a BertForSequenceClassification model from a BertForPreTraining model).\n",
            "- This IS NOT expected if you are initializing BertModel from the checkpoint of a model that you expect to be exactly identical (initializing a BertForSequenceClassification model from a BertForSequenceClassification model).\n"
          ]
        },
        {
          "output_type": "stream",
          "name": "stdout",
          "text": [
            "['By Stefano Rebaudo', '', 'Nov 24 (Reuters) - A turning point for peripheral euro zone government bonds appears to be underway as more enticing yields and a European Central Bank backstop could rein in the risk premium for Southern European debt.', '', \"The coming year will provide a real test, as investors shift their focus to bond supply and what the ECB does in terms of quantitative tightening, starting as soon as the central bank's next policy meeting on December 15, when it will likely raise interest rates again.\", '', 'The ECB is debating when to start selling off its holdings of government debt, but is still keeping its Transmission Protection Instrument (TPI) in place.', '', \"The TPI is there to stop any euro zone member's bond yields from spiking suddenly, which could threaten the ECB's ability to make monetary policy effective across the region.\", '', '“There is a lot of money on the sidelines, and investors are revisiting their assumptions. If inflation and bond volatility gets under control, they will begin to add high-yield sovereign bonds to their fixed income portfolio,” said Niall O’Sullivan, CIO of multi-asset strategies at Neuberger Berman.', '', '“In the short-term, we are a bit cautious on Italy as its bonds rallied a lot, but we are still favourably disposed towards Spain and Portugal,” he added.', '', 'Rising rates would normally hit peripheral bonds harder than core. But the spread between yields on benchmark German Bunds and those of more indebted countries has narrowed recently, defying that rule of thumb.', '', \"The 2-year German Schatz yield is trading around 2.1%, not far off a 14-year high of 2.25% hit a couple of weeks ago. It's risen by 273 basis points so far this year, 32 of those in this quarter alone.\", '', 'Italian 2-year bonds meanwhile, have risen 279 bps this year, but have actually dropped 14 bps so far in the fourth quarter.', '', 'Sovereign and corporate bonds have also been moving in opposite directions, as government bond spreads have tightened, while those on company bonds have widened.', '', 'Story continues', '', 'Reprinted with permission of Citi Research. Not to be reproduced.', '', '\"Furthermore, the negative correlation between peripheral yield gaps and equities has reasserted itself this year, showing that rising risk appetite has also boosted demand for peripheral bonds. It has been the case with Italian BTPs, but also with Spanish Bonos and Portugal’s government bonds.', '', 'But this outperformance hinges on a number of factors.', '', 'Chris Attfield, a rate strategist at HSBC, mentioned as primary triggers for a potential spread widening “a more hawkish ECB, continued challenging supply conditions, and a potential worsening of debt sustainability metrics due to high yields and a possible recession.”', '', 'Attfield expects the Italian-German 10-year yield gap to widen to 235 bps by year-end, from closer to 192 right now.', '', '“Intra-EMU spreads are already pricing a sharply lower ECB delivery on terminal rate versus current pricing,” JP Morgan analysts said in a research note mentioning forecasts for a terminal rate of 2.25-2.50%.', '', 'Forwards on ECB euro short-term rates now show investors believe euro zone rates will peak in August 2023 at around 2.9%.', '', \"A recession might lead to a rise in public debt as tax revenues drop and there's greater risk that governments will raise spending to support the economy.\", '', 'Bank of America expects net government bond supply to rise close to 400 billion euros next year, the highest on record, arguing that quantitative tightening measures by the ECB will be challenging to implement.', '', 'Italian political risks have been subdued as current prime minister Giorgia Meloni’s comments during the election campaign that she would respect EU budget rules reassured investors.', '', 'However, some analysts fear that concern about a potential clash with the European Union could grow if right-wing parties push for lower taxes and higher pension spending.', '', '(Reporting by Stefano Rebaudo, editing by Amanda Cooper and Chizu Nomiyama) ;))']\n"
          ]
        },
        {
          "output_type": "stream",
          "name": "stderr",
          "text": [
            "Some weights of the model checkpoint at yiyanghkust/finbert-pretrain were not used when initializing BertForMaskedLM: ['cls.seq_relationship.bias', 'cls.seq_relationship.weight']\n",
            "- This IS expected if you are initializing BertForMaskedLM from the checkpoint of a model trained on another task or with another architecture (e.g. initializing a BertForSequenceClassification model from a BertForPreTraining model).\n",
            "- This IS NOT expected if you are initializing BertForMaskedLM from the checkpoint of a model that you expect to be exactly identical (initializing a BertForSequenceClassification model from a BertForSequenceClassification model).\n",
            "Some weights of the model checkpoint at bert-base-uncased were not used when initializing BertModel: ['cls.predictions.bias', 'cls.seq_relationship.bias', 'cls.predictions.decoder.weight', 'cls.seq_relationship.weight', 'cls.predictions.transform.dense.bias', 'cls.predictions.transform.dense.weight', 'cls.predictions.transform.LayerNorm.weight', 'cls.predictions.transform.LayerNorm.bias']\n",
            "- This IS expected if you are initializing BertModel from the checkpoint of a model trained on another task or with another architecture (e.g. initializing a BertForSequenceClassification model from a BertForPreTraining model).\n",
            "- This IS NOT expected if you are initializing BertModel from the checkpoint of a model that you expect to be exactly identical (initializing a BertForSequenceClassification model from a BertForSequenceClassification model).\n"
          ]
        },
        {
          "output_type": "stream",
          "name": "stdout",
          "text": [
            "['Why did this happen?', '', 'Please make sure your browser supports JavaScript and cookies and that you are not blocking them from loading. For more information you can review our Terms of Service and Cookie Policy.']\n"
          ]
        },
        {
          "output_type": "stream",
          "name": "stderr",
          "text": [
            "Some weights of the model checkpoint at yiyanghkust/finbert-pretrain were not used when initializing BertForMaskedLM: ['cls.seq_relationship.bias', 'cls.seq_relationship.weight']\n",
            "- This IS expected if you are initializing BertForMaskedLM from the checkpoint of a model trained on another task or with another architecture (e.g. initializing a BertForSequenceClassification model from a BertForPreTraining model).\n",
            "- This IS NOT expected if you are initializing BertForMaskedLM from the checkpoint of a model that you expect to be exactly identical (initializing a BertForSequenceClassification model from a BertForSequenceClassification model).\n",
            "Some weights of the model checkpoint at bert-base-uncased were not used when initializing BertModel: ['cls.predictions.bias', 'cls.seq_relationship.bias', 'cls.predictions.decoder.weight', 'cls.seq_relationship.weight', 'cls.predictions.transform.dense.bias', 'cls.predictions.transform.dense.weight', 'cls.predictions.transform.LayerNorm.weight', 'cls.predictions.transform.LayerNorm.bias']\n",
            "- This IS expected if you are initializing BertModel from the checkpoint of a model trained on another task or with another architecture (e.g. initializing a BertForSequenceClassification model from a BertForPreTraining model).\n",
            "- This IS NOT expected if you are initializing BertModel from the checkpoint of a model that you expect to be exactly identical (initializing a BertForSequenceClassification model from a BertForSequenceClassification model).\n"
          ]
        },
        {
          "output_type": "stream",
          "name": "stdout",
          "text": [
            "[\"The Android banking fraud malware known as SharkBot has reared its head once again on the official Google Play Store, posing as file managers to bypass the app marketplace's restrictions.\", '', 'A majority of the users who downloaded the rogue apps are located in the U.K. and Italy, Romanian cybersecurity company Bitdefender said in an analysis published this week.', '', 'SharkBot, first discovered towards the end of 2021 by Cleafy, is a recurring mobile threat distributed both on the Google Play Store and other third-party app stores.', '', 'One of the trojan\\'s primary goals is to initiate money transfers from compromised devices via a technique called \"Automatic Transfer System\" (ATS), in which a transaction triggered via a banking app is intercepted to swap the payee account with an actor-controlled account in the background.', '', \"It's also capable of serving a fake login overlay when users attempt to open legitimate banking apps, stealing the credentials in the process.\", '', 'Often, such apps offer seemingly harmless functionality, masquerading as antivirus software and cleaners to sneak into the Google Play Store. But they also double up as droppers that, once installed on the device, can fetch the malware payload.', '', 'The dropper apps, now taken down, are below -', '', 'X-File Manager (com.victorsoftice.llc) - 10,000+ downloads', '', 'FileVoyager (com.potsepko9.FileManagerApp) - 5,000+ downloads', '', 'LiteCleaner M (com.ltdevelopergroups.litecleaner.m) - 1,000+ downloads', '', 'LiteCleaner M is still available for download from a third-party app store called Apksos, which also houses a fourth SharkBot artifact by the name \"Phone AID, Cleaner, Booster\" (com.sidalistudio.developer.app).', '', \"The X-File Manager app, which was only accessible to users in Italy, attracted over 10,000 downloads before it was removed. With Google steadily clamping down on permission abuse, the threat actor's choice of using a file manager as a lure is not surprising.\", '', \"That's because Google's Developer Program Policy restricts the permission to install external packages (REQUEST_INSTALL_PACKAGES) to a handful of app categories: web browsers, instant messengers that support attachments, file managers, enterprise device management, backup and restore, and device transfer.\", '', 'Invariably, this permission is abused to download and install malware from a remote server. Some of the targeted bank apps include Bank of Ireland, Bank of Scotland, Barclays, BNL, HSBC U.K., Lloyds Bank, Metro Bank, and Santander.', '', '\"The application [i.e., the dropper] performs anti-emulator checks and targets users from Great Britain and Italy by verifying if the SIM ISO corresponds with IT or GB,\" Bitdefender researchers said.', '', 'Users who have installed the aforementioned apps are recommended to delete them and change their bank account passwords immediately. Users are also advised to enable Play Store Protect, and scrutinize app ratings and reviews before downloading them.']\n"
          ]
        },
        {
          "output_type": "stream",
          "name": "stderr",
          "text": [
            "Some weights of the model checkpoint at yiyanghkust/finbert-pretrain were not used when initializing BertForMaskedLM: ['cls.seq_relationship.bias', 'cls.seq_relationship.weight']\n",
            "- This IS expected if you are initializing BertForMaskedLM from the checkpoint of a model trained on another task or with another architecture (e.g. initializing a BertForSequenceClassification model from a BertForPreTraining model).\n",
            "- This IS NOT expected if you are initializing BertForMaskedLM from the checkpoint of a model that you expect to be exactly identical (initializing a BertForSequenceClassification model from a BertForSequenceClassification model).\n",
            "Some weights of the model checkpoint at bert-base-uncased were not used when initializing BertModel: ['cls.predictions.bias', 'cls.seq_relationship.bias', 'cls.predictions.decoder.weight', 'cls.seq_relationship.weight', 'cls.predictions.transform.dense.bias', 'cls.predictions.transform.dense.weight', 'cls.predictions.transform.LayerNorm.weight', 'cls.predictions.transform.LayerNorm.bias']\n",
            "- This IS expected if you are initializing BertModel from the checkpoint of a model trained on another task or with another architecture (e.g. initializing a BertForSequenceClassification model from a BertForPreTraining model).\n",
            "- This IS NOT expected if you are initializing BertModel from the checkpoint of a model that you expect to be exactly identical (initializing a BertForSequenceClassification model from a BertForSequenceClassification model).\n"
          ]
        },
        {
          "output_type": "stream",
          "name": "stdout",
          "text": [
            "['Clearing Service Market Scope & Overview 2022-2028: Prior to discussing the specifics of the product, manufacturing procedures, price structures, and raw materials, the Clearing Service market research analysis first covered definitions, categories, applications, and market overviews. Information on the primary location, the economy, the item value, benefit, limit, generation, supply, demand, market size, and its growth rate are provided by the analysis.', '', 'Get Sample of Report @ https://www.intelligencemarketreport.com/report-sample/804950', '', 'The Clearing Service market report also covers other aspects like segmentation and its sub segments, competitors’ earnings, market share, and pricing. For business executives, marketing, sales, and product managers, consultants, analysts, and other stakeholders looking for essential industry data in easily accessible documents with properly presented tables and graphs, the research includes historical data.', '', 'The research study includes profiles of leading companies operating in the global Clearing Service Market:', '', 'DTCC', '', 'ASX', '', 'HKEX', '', 'Japan Securities Clearing', '', 'EquityClear', '', 'Wells Fargo', '', 'CACEIS', '', 'HSBC Bank', '', 'SIX', '', 'GIS HK', '', 'ABN AMRO', '', 'Bursa Malaysia', '', 'KPEI', '', 'BME', '', 'FUTU', '', 'StoneX', '', 'Cboe', '', 'Citigroup', '', 'NANHUA', '', 'SMBC', '', 'Market Segmentation Analysis', '', 'More custom research can be added to meet your particular needs. In the report’s conclusion, there are also expert opinions from the sector. The research report includes a SWOT analysis of the market. The Clearing Service market is segmented into numerous categories based on market players, geographic areas, application types, and other factors.', '', 'COVID-19 Impact Analysis', '', 'Our research report offers an exhaustive analysis of market trends and revenue projections for the phase following COVID-19. The Clearing Service market concentrates on major trends and a number of methodologies, including SWOT analysis and Pestle’s Five Forces analysis, in order to comprehend competition, risks, and market growth determinants.', '', 'Regional Outlook', '', 'The investigation included a SWOT analysis of a new project, a viability analysis of an investment, and an estimation of the investment return. The major geographical regions and nations of the world are the focus of the Clearing Service market research report, which carefully examines the most important regional market conditions.', '', 'Segment by Type', '', 'Equities Clearing Service', '', 'Securities Clearing Service', '', 'Others', '', 'Segment by Application', '', 'SMEs', '', 'Large Enterprise', '', 'Years considered for the study are as follows:', '', 'Historical year – 2019, 2020', '', 'Base year – 2021', '', 'Forecast period – 2022 to 2028', '', 'Do you have any specific query regarding this research? Ask Your Query @ https://www.intelligencemarketreport.com/send-an-enquiry/804950', '', 'Competitive Analysis', '', 'The report, which is divided into sections, looks at significant changes and aspects of the Clearing Service market. These market dynamics also include their effects and all of the opportunities, challenges, growth drivers, and growth restraints. The techniques used by top players to outperform rivals are also discussed.', '', 'Key Reasons to Buy Clearing Service Market Report', '', 'The research study provides a thorough overview of the market, details on various industry players and the competitive environment, potential threats, and growth prospects.', '', 'The research looks at market participants, raw material and equipment suppliers, end users, traders, distributors, and other important stakeholders.', '', 'The in-depth market research report also includes analyses of the SWOT, reliability, and ROI of new projects.', '', 'Conclusion', '', 'You will develop a thorough understanding of the global market and its business environment through in-depth market analysis. After a thorough market analysis, the reader will have a solid understanding of the global Clearing Service market and its business environment.', '', 'Table of Content', '', '1 Scope of the Report', '', '2 Executive Summary', '', '3 Global Clearing Service by Company', '', '4 World Historic Review for Clearing Service by Geographic Region', '', '5 Americas', '', '6 APAC', '', '7 Europe', '', '8 Middle East & Africa', '', '9 Market Drivers, Challenges and Trends', '', '10 Manufacturing Cost Structure Analysis', '', '11 Marketing, Distributors and Customer', '', '12 World Forecast Review for Clearing Service by Geographic Region', '', '13 Key Players Analysis', '', '14 Research Findings and Conclusion', '', 'Buy This Report@ https://www.intelligencemarketreport.com/checkout/804950', '', 'Contact Us:', '', 'Akash Anand', '', 'Head of Business Development & Strategy', '', 'sales@intelligencemarketreport.com', '', 'Phone: +44 20 8144 2758', '', 'Our Most Selling Reports', '', 'Global AI-Powered Chatbot Market Growth (Status and Outlook) 2022-2028', '', 'Global Industrial Turbochargers Market Opportunities and Forecast 2022-2028', '', 'Global Distributed Acoustic Sensing Market Opportunities and Forecast 2022-2028']\n"
          ]
        },
        {
          "output_type": "stream",
          "name": "stderr",
          "text": [
            "Some weights of the model checkpoint at yiyanghkust/finbert-pretrain were not used when initializing BertForMaskedLM: ['cls.seq_relationship.bias', 'cls.seq_relationship.weight']\n",
            "- This IS expected if you are initializing BertForMaskedLM from the checkpoint of a model trained on another task or with another architecture (e.g. initializing a BertForSequenceClassification model from a BertForPreTraining model).\n",
            "- This IS NOT expected if you are initializing BertForMaskedLM from the checkpoint of a model that you expect to be exactly identical (initializing a BertForSequenceClassification model from a BertForSequenceClassification model).\n",
            "Some weights of the model checkpoint at bert-base-uncased were not used when initializing BertModel: ['cls.predictions.bias', 'cls.seq_relationship.bias', 'cls.predictions.decoder.weight', 'cls.seq_relationship.weight', 'cls.predictions.transform.dense.bias', 'cls.predictions.transform.dense.weight', 'cls.predictions.transform.LayerNorm.weight', 'cls.predictions.transform.LayerNorm.bias']\n",
            "- This IS expected if you are initializing BertModel from the checkpoint of a model trained on another task or with another architecture (e.g. initializing a BertForSequenceClassification model from a BertForPreTraining model).\n",
            "- This IS NOT expected if you are initializing BertModel from the checkpoint of a model that you expect to be exactly identical (initializing a BertForSequenceClassification model from a BertForSequenceClassification model).\n"
          ]
        },
        {
          "output_type": "stream",
          "name": "stdout",
          "text": [
            "['The 2022 season has been in the history books for a matter of days, but the 2023 DP World Tour campaign has already begun.', '', 'Covering a full 12-month period, the tour will visit dozens of countries en route to crowning winner of the season-long Race to Dubai presented by Rolex.', '', 'It’s set to be the most lucrative year in tour history too, with more than $144million in prize money on offer.', '', 'Keep reading to find out where the DP World Tour is heading this year...', '', 'DP World Tour 2023 schedule', '', 'November 24-27: Joburg Open', '', 'Houghton GC, Johannesburg, South Africa', '', 'November 24-27: Fortinet Australian PGA Championship', '', 'Royal Queensland, Brisbane, Australia', '', 'December 1-4: Investec South African Open', '', 'Blair Atholl Estate, Johannesburg, South Africa', '', 'December 1-4: ISPS Handa Australian Open', '', 'Victoria GC, Melbourne, Australia', '', 'December 8-11: Alfred Dunhill Championship', '', 'Leopard Creek, Malelane, South Africa', '', 'December 15-18: AfrAsia Bank Mauritius Open', '', 'Mont Choisy le Golf, Mauritius', '', 'January 13-15: Hero Cup', '', 'Abu Dhabi GC, UAE', '', 'January 19-22: Abu Dhabi HSBC Championship', '', 'Yas Links, Abu Dhabi, UAE', '', 'January 26-29: Dubai Desert Classic', '', 'Emirates GC, Dubai, UAE', '', '• PGA Tour 2023 schedule in full', '', '', '', '• How many majors has Tiger Woods won?', '', 'February 2-5: Ras Al Khaimah Championship', '', 'Al Hamra, UAE', '', 'February 9-12: Singapore Classic', '', 'Laguna Resort, Singapore', '', 'February 16-19: Thailand Classic', '', 'Amata Spring, Bangkok, Thailand', '', 'February 23-26: Hero Indian Open', '', 'Venue TBC', '', 'March 9-12: Magical Kenya Open', '', 'Muthaiga GC, Nairobi, Kenya', '', 'March 16-19: SDC Championship', '', 'St Francis Links, Eastern Cape, South Africa', '', 'March 22-26: WGC – Dell Technologies Match Play', '', 'Austin, Texas, USA', '', 'March 23-26: Jonsson Workwear Open', '', 'The Club at Steyn City, Johannesburg, South Africa', '', 'April 6-9: The Masters', '', 'Augusta, Georgia, USA', '', 'April 20-23: ISPS Handa Championship', '', 'PGM Ishioka, Omimata, Japan', '', 'April 27-30: Korean event', '', 'Name and venue TBC', '', 'May 4-7: Italian Open', '', 'Marco Simone, Rome, Italy', '', 'May 11-14: Soudal Open', '', 'Rinkven International, Antwerp, Belgium', '', 'May 18-21: PGA Championship', '', 'Oak Hill, Rochester, USA', '', 'May 25-28: Dutch Open', '', 'Bernardus Golf, Cromvoirt, Netherlands', '', 'June 1-4: Porsche European Open', '', 'Green Eagle, Hamburg, Germany', '', 'June 8-11: Volvo Car Scandinavian Mixed', '', 'Ullna, Stockholm, Sweden', '', 'June 15-18: US Open', '', 'LA CC, Los Angeles, USA', '', 'June 22-25: BMW International Open', '', 'Munchen Eichenried, Munich, Germany', '', 'June 29-July 2: Betfred British Masters', '', 'The Belfry, Sutton Coldfield, England', '', 'July 6-9: Made in Himmerland', '', 'Himmerland, Farso, Denmark', '', 'July 13-16: Genesis Scottish Open', '', 'Renaissance Club, North Berwick, Scotland', '', 'July 13-16: Barbasol Championship', '', 'Keene Trace, Kentucky, USA', '', \"• Who is Rory McIlroy's coach?\", '', '• Stableford: The scoring system explained', '', '', '', 'July 20-23: The Open', '', 'Royal Liverpool, England', '', 'July 20-23: Barracuda Championship', '', 'Tahoe, Truckee, USA', '', 'August 17-20: ISPS Handa World Invitational presented by AVIV Clinics', '', 'Galgorm Castle, Northern Ireland', '', 'August 24-27: D+D Real Czech Masters', '', 'Albatross Resort, Prague, Czech Republic', '', 'August 31-September 3: Omega European Masters', '', 'Crans-sur-Sierre, Crans Montana, Switzerland', '', 'September 7-10: Horizon Irish Open', '', 'The K Club, Kildare, Ireland', '', 'September 14-17: BMW PGA Championship', '', 'Wentworth, England', '', 'September 21-24: Cazoo Open de France', '', 'Le Golf National, France', '', 'September 29-October 1: Ryder Cup', '', 'Marco Simone, Rome, Italy', '', 'October 5-8: Alfred Dunhill Links Championship', '', 'St Andrews/Kingsbarns/Carnoustie, Scotland', '', 'October 12-15: acciona Open de Espana', '', 'Club de Campo Villa de Madrid, Spain', '', 'November 9-12: Nedbank Golf Challenge', '', 'Sun City, South Africa', '', 'November 16-19: DP World Tour Championship', '', 'Jumeirah Golf Estates, Dubai, UAE']\n"
          ]
        },
        {
          "output_type": "stream",
          "name": "stderr",
          "text": [
            "Some weights of the model checkpoint at yiyanghkust/finbert-pretrain were not used when initializing BertForMaskedLM: ['cls.seq_relationship.bias', 'cls.seq_relationship.weight']\n",
            "- This IS expected if you are initializing BertForMaskedLM from the checkpoint of a model trained on another task or with another architecture (e.g. initializing a BertForSequenceClassification model from a BertForPreTraining model).\n",
            "- This IS NOT expected if you are initializing BertForMaskedLM from the checkpoint of a model that you expect to be exactly identical (initializing a BertForSequenceClassification model from a BertForSequenceClassification model).\n",
            "Some weights of the model checkpoint at bert-base-uncased were not used when initializing BertModel: ['cls.predictions.bias', 'cls.seq_relationship.bias', 'cls.predictions.decoder.weight', 'cls.seq_relationship.weight', 'cls.predictions.transform.dense.bias', 'cls.predictions.transform.dense.weight', 'cls.predictions.transform.LayerNorm.weight', 'cls.predictions.transform.LayerNorm.bias']\n",
            "- This IS expected if you are initializing BertModel from the checkpoint of a model trained on another task or with another architecture (e.g. initializing a BertForSequenceClassification model from a BertForPreTraining model).\n",
            "- This IS NOT expected if you are initializing BertModel from the checkpoint of a model that you expect to be exactly identical (initializing a BertForSequenceClassification model from a BertForSequenceClassification model).\n"
          ]
        },
        {
          "output_type": "stream",
          "name": "stdout",
          "text": [
            "['An international one stop spoofing shop, which enabled criminals to appear as if they were calling from banks, tax offices and other official bodies, has been taken down in the UK’s biggest ever fraud operation.', '', 'More than 200,000 potential victims in the UK alone have been directly targeted through the fraud website iSpoof.', '', '', '', 'At one stage, almost 20 people every minute of the day were being contacted by scammers hiding behind false identities using the site.', '', '', '', 'They posed as representatives of banks including Barclays, Santander, HSBC, Lloyds, Halifax, First Direct, Natwest, Nationwide and TSB.', '', '', '', 'Scotland Yard’s Cyber Crime Unit worked with international law enforcement, including authorities in the US and Ukraine, to dismantle the website this week.', '', '', '', 'iSpoof enabled criminals to appear as if they were calling from banks, tax offices and other official bodies as they attempted to defraud victims.', '', '', '', 'Victims are believed to have lost tens of millions of pounds while those behind the site earned almost £3.2 million in one 20 month period. The website is believed to have caused an estimated worldwide loss in excess of £100 million. Losses reported to Action Fraud as a result of the calls and texts via iSpoof is around £48 million. The average loss from those who reported being targeted is believed to be £10,000.', '', '', '', 'The Met is texting more than 70,000 numbers contacted via iSpoof and linked to an identified suspect.', '', '', '', 'Commissioner Sir Mark Rowley says: “The exploitation of technology by organised criminals is one of the greatest challenges for law enforcement in the 21st century. By taking away the tools and systems that have enabled fraudsters to cheat innocent people at scale, this operation shows how we are determined to target corrupt individuals intent on exploiting often vulnerable victims.”', '', '', '', 'The Met’s Cyber and Economic Crime Units co-coordinated the operation with Europol, Eurojust, the Dutch authorities and the FBI.', '', '', '', 'In the UK, more than 100 people have been arrested, the vast majority on suspicion of fraud.']\n"
          ]
        },
        {
          "output_type": "stream",
          "name": "stderr",
          "text": [
            "Some weights of the model checkpoint at yiyanghkust/finbert-pretrain were not used when initializing BertForMaskedLM: ['cls.seq_relationship.bias', 'cls.seq_relationship.weight']\n",
            "- This IS expected if you are initializing BertForMaskedLM from the checkpoint of a model trained on another task or with another architecture (e.g. initializing a BertForSequenceClassification model from a BertForPreTraining model).\n",
            "- This IS NOT expected if you are initializing BertForMaskedLM from the checkpoint of a model that you expect to be exactly identical (initializing a BertForSequenceClassification model from a BertForSequenceClassification model).\n",
            "Some weights of the model checkpoint at bert-base-uncased were not used when initializing BertModel: ['cls.predictions.bias', 'cls.seq_relationship.bias', 'cls.predictions.decoder.weight', 'cls.seq_relationship.weight', 'cls.predictions.transform.dense.bias', 'cls.predictions.transform.dense.weight', 'cls.predictions.transform.LayerNorm.weight', 'cls.predictions.transform.LayerNorm.bias']\n",
            "- This IS expected if you are initializing BertModel from the checkpoint of a model trained on another task or with another architecture (e.g. initializing a BertForSequenceClassification model from a BertForPreTraining model).\n",
            "- This IS NOT expected if you are initializing BertModel from the checkpoint of a model that you expect to be exactly identical (initializing a BertForSequenceClassification model from a BertForSequenceClassification model).\n"
          ]
        },
        {
          "output_type": "stream",
          "name": "stdout",
          "text": [
            "['Why did this happen?', '', 'Please make sure your browser supports JavaScript and cookies and that you are not blocking them from loading. For more information you can review our Terms of Service and Cookie Policy.']\n"
          ]
        },
        {
          "output_type": "stream",
          "name": "stderr",
          "text": [
            "Some weights of the model checkpoint at yiyanghkust/finbert-pretrain were not used when initializing BertForMaskedLM: ['cls.seq_relationship.bias', 'cls.seq_relationship.weight']\n",
            "- This IS expected if you are initializing BertForMaskedLM from the checkpoint of a model trained on another task or with another architecture (e.g. initializing a BertForSequenceClassification model from a BertForPreTraining model).\n",
            "- This IS NOT expected if you are initializing BertForMaskedLM from the checkpoint of a model that you expect to be exactly identical (initializing a BertForSequenceClassification model from a BertForSequenceClassification model).\n",
            "Some weights of the model checkpoint at bert-base-uncased were not used when initializing BertModel: ['cls.predictions.bias', 'cls.seq_relationship.bias', 'cls.predictions.decoder.weight', 'cls.seq_relationship.weight', 'cls.predictions.transform.dense.bias', 'cls.predictions.transform.dense.weight', 'cls.predictions.transform.LayerNorm.weight', 'cls.predictions.transform.LayerNorm.bias']\n",
            "- This IS expected if you are initializing BertModel from the checkpoint of a model trained on another task or with another architecture (e.g. initializing a BertForSequenceClassification model from a BertForPreTraining model).\n",
            "- This IS NOT expected if you are initializing BertModel from the checkpoint of a model that you expect to be exactly identical (initializing a BertForSequenceClassification model from a BertForSequenceClassification model).\n"
          ]
        },
        {
          "output_type": "stream",
          "name": "stdout",
          "text": [
            "['New Visa Card Features Personal Carbon Emissions Tracker', '', 'One of several new programs to monitor your spending habits', '', 'The monitoring of personal behavior by banks will take another step forward as Canadian credit union Vancity launches a new credit card technology to report users’ carbon emissions.', '', 'On Oct. 19, Vancity announced that it will be “the first financial institution in Canada to offer its individual and business members a way to estimate the CO2 emissions that come from their purchases.” Vancity said its carbon counter, which is attached to Visa credit cards, was developed with ecolytiq, one of Europe’s leading climate engagement technology companies.', '', 'This will be the first carbon counter program for Visa holders. Mastercard already provides a CO2 emissions-tracking card, developed with technology from Swedish company Doconomy. The Visa credit card technology developed by ecolytiq also provides “education and behavioral nudging” so that card users are not only informed about the CO2 emissions of their buying activity but also told how to reduce them.', '', 'According to ecolytiq, “the financial industry will play a major role in fighting climate change. Our Sustainability-as-a-Service solution enables financial institutions to offer their customers environmental footprinting as well as personalized impact offsetting and ESG investments.”', '', 'Other tech companies are joining in this quest. Michael Evans, president of Alibaba Group, a Chinese tech company, announced at the World Economic Forum in 2021 that his company was developing an “individual carbon footprint tracker” that will monitor people’s behavior in terms of “where they are traveling, how they are traveling, what they are eating, what they are consuming.”', '', 'While this technology was ostensibly developed to fight climate change, many worry that is a first step toward personal social credit scores and could be used to track other types of behavior besides carbon emissions. For example, credit card companies Visa, Mastercard, and American Express announced in September that they would begin tracking purchases made at gun stores.', '', 'At the same time, the Biden administration is moving forward with an initiative to create a Central Bank Digital Currency (CBDC), which could ultimately replace the U.S. dollar. In place of bank deposits, a CBDC would be a digital currency issued directly by the federal government that people or banks would hold in digital wallets, similar to bitcoins. But by contrast to bitcoins, a CBDC would be controlled by either the Federal Reserve or the U.S. Treasury Department.', '', 'President Joe Biden took a first step in March toward creating a U.S. CBDC, directing his administration to report to him by October on how it would create a digital currency.', '', 'Biden stated, “My administration places the highest urgency on research and development efforts into the potential design and deployment options of a United States CBDC.” Other countries are also in the race to develop their own digital currencies. Among the priorities that Biden set for the CBDC were fighting climate change and “financial inclusion and equity.”', '', 'Biden also instructed his attorney general, Merrick Garland, to determine whether or not he will need Congressional approval to launch a CBDC, or whether the Biden administration could do it on its own. That report has since been delayed.', '', 'In February, however, the Boston Fed completed the first phase of Project Hamilton, a CBDC simulation it developed with MIT’s Digital Currency Initiative. And on Nov. 21, the Fed launched a pilot program to test a digital dollar through its New York Innovation Center.', '', 'The Fed stated that “the New York Innovation Center (NYIC) is participating in a proof-of-concept project along with members of the private sector to explore the feasibility of an interoperable network of digital central bank liabilities and commercial bank digital money.” This program is being done in collaboration with BNY Mellon, Citibank, HSBC, Mastercard, PNC Bank, TD Bank, Truist, U.S. Bank, and Wells Fargo.', '', 'Among the world’s major economies, the China’s ruling communist regime was among the first to issue a CBDC. In 2020, it introduced the e-CNY or digital yuan. By the end of 2021, the digital yuan had 260 million users, representing about one-fifth of China’s population, according to the People’s Bank of China. China’s CBDC gives its central bank access to, and control over, every digital yuan transaction.']\n"
          ]
        },
        {
          "output_type": "stream",
          "name": "stderr",
          "text": [
            "Some weights of the model checkpoint at yiyanghkust/finbert-pretrain were not used when initializing BertForMaskedLM: ['cls.seq_relationship.bias', 'cls.seq_relationship.weight']\n",
            "- This IS expected if you are initializing BertForMaskedLM from the checkpoint of a model trained on another task or with another architecture (e.g. initializing a BertForSequenceClassification model from a BertForPreTraining model).\n",
            "- This IS NOT expected if you are initializing BertForMaskedLM from the checkpoint of a model that you expect to be exactly identical (initializing a BertForSequenceClassification model from a BertForSequenceClassification model).\n",
            "Some weights of the model checkpoint at bert-base-uncased were not used when initializing BertModel: ['cls.predictions.bias', 'cls.seq_relationship.bias', 'cls.predictions.decoder.weight', 'cls.seq_relationship.weight', 'cls.predictions.transform.dense.bias', 'cls.predictions.transform.dense.weight', 'cls.predictions.transform.LayerNorm.weight', 'cls.predictions.transform.LayerNorm.bias']\n",
            "- This IS expected if you are initializing BertModel from the checkpoint of a model trained on another task or with another architecture (e.g. initializing a BertForSequenceClassification model from a BertForPreTraining model).\n",
            "- This IS NOT expected if you are initializing BertModel from the checkpoint of a model that you expect to be exactly identical (initializing a BertForSequenceClassification model from a BertForSequenceClassification model).\n"
          ]
        },
        {
          "output_type": "stream",
          "name": "stdout",
          "text": [
            "['GBP rallies to key levels', '', 'As demand for UK bonds jump', '', 'Sentiment aided by better-than-expected UK data', '', 'And Supreme Court ruling on Scottish independence', '', 'Image © Adobe Images', '', 'Demand for UK government bonds has helped pull the British Pound materially higher over recent hours and with the remainder of the week being a quiet one owing to the U.S. Thanksgiving holiday, gains might stick.', '', 'The Pound rallied sharply against the Euro, Dollar and other major currencies through Wednesday and into Thursday amidst a sharp pick up in the value of UK government debt.', '', 'The value of ten-year government gilts rose above 110.39 amidst increased demand, pushing the yield they pay. investors below 3.0%, meaning the cost of borrowing in the UK is in the process of falling.', '', 'The below chart shows the rising value of a ten-year bond has correlated with a rise in the value of the Pound:', '', 'Above: GB ten-year bonds (top) and GBP/USD (bottom). Consider setting a free FX rate alert here to better time your payment requirements.', '', 'The rise in bond values and the corresponding fall in their yields was replicated across other time tenors in the bond market, meaning the cost of funding mortgages and other financial products in the UK has eased.', '', 'The Pound to Euro exchange rate reached a 24-hour peak at 1.1644 and is at 1.1587 on Thursday, taking euro payment rates at the typical bank to around 1.1354 and those at competitive payment providers to around 1.1550.', '', 'The Pound to Dollar exchange rate reached a 24-hour peak at 1.2113 and is at 1.2093 at the time of writing, taking dollar payment rates at a typical bank to around 1.1850 and those at competitive payment specialists to around 1.2057.', '', 'Falling bond yields represent an easing in UK financial conditions, which supports future economic activity.', '', \"Bond yields surged in the wake of former Prime Minister Liz Truss' September mini-budget as investors demanded greater compensation (yield) for holding UK bonds.\", '', 'These investors judged that the proposed unfunded tax cuts would require more borrowing, at a time when the cost of borrowing on international markets is rising.', '', 'In order to invest in UK bonds, investors demanded greater compensation from the government, in the form of higher yields.', '', 'The resultant surge in bond yields meanwhile sent the cost of finance through the economy rocketing, risking a destabilisation of the UK financial sector and exacerbating the economic slowdown.', '', 'The Pound reflected this anxiety by dropping sharply.', '', 'The current retracement lower in bond yields is therefore supportive of the UK economic outlook and the Pound.', '', '\"A return to fiscal orthodoxy, reduced political risk premium and reduced risks of a housing market correction from a less amplified BoE policy cycle are also positive for the currency,\" says Paul Robson, head of FX research at NatWest Markets.', '', 'The Pound has rallied by 7.40% from its post-mini budget low that was reached on September 26, it has meanwhile advanced 16.50% since this point.', '', '\"After a volatile few months following a year of underperformance, the tide may be turning for the better for GBP. Structural weaknesses will not completely turn around overnight, but the risks are much better priced at these levels of FX and rates,\" says Paul Mackel, head of FX research at HSBC.', '', 'In their latest year-ahead outlook, HSBC says it is forecasting a rebound in the Pound during 2023.', '', \"(If you are looking to protect or boost your international payment budget you could consider securing today's rate for use in the future, or set an order for your ideal rate when it is achieved, more information can be found here.)\", '', 'There were some key domestic factors that facilitated improved sentiment towards UK assets midweek.', '', 'UK data came in better than expected, with PMIs for November revealing that the slowdown in UK economic activity has settled.', '', 'The country is in recession, but this is well-priced by markets, meaning that there is now a greater propensity for upside surprises relative to downside surprises.', '', 'In short, the Pound is therefore likely to be more reactive to good news than bad.', '', \"The Supreme Court meanwhile ruled Scotland's government could not hold an independence referendum without the consent of the UK government.\", '', 'This punts the risk of a breakup of the Union into the long grass, easing another potential flashpoint for investors.', '', '\"The Supreme Court’s ruling today against a Scottish independence referendum is also likely to have helped the pound,\" says Charles Purdy, CEO of Smart Currency Exchange.']\n"
          ]
        },
        {
          "output_type": "stream",
          "name": "stderr",
          "text": [
            "Some weights of the model checkpoint at yiyanghkust/finbert-pretrain were not used when initializing BertForMaskedLM: ['cls.seq_relationship.bias', 'cls.seq_relationship.weight']\n",
            "- This IS expected if you are initializing BertForMaskedLM from the checkpoint of a model trained on another task or with another architecture (e.g. initializing a BertForSequenceClassification model from a BertForPreTraining model).\n",
            "- This IS NOT expected if you are initializing BertForMaskedLM from the checkpoint of a model that you expect to be exactly identical (initializing a BertForSequenceClassification model from a BertForSequenceClassification model).\n",
            "Some weights of the model checkpoint at bert-base-uncased were not used when initializing BertModel: ['cls.predictions.bias', 'cls.seq_relationship.bias', 'cls.predictions.decoder.weight', 'cls.seq_relationship.weight', 'cls.predictions.transform.dense.bias', 'cls.predictions.transform.dense.weight', 'cls.predictions.transform.LayerNorm.weight', 'cls.predictions.transform.LayerNorm.bias']\n",
            "- This IS expected if you are initializing BertModel from the checkpoint of a model trained on another task or with another architecture (e.g. initializing a BertForSequenceClassification model from a BertForPreTraining model).\n",
            "- This IS NOT expected if you are initializing BertModel from the checkpoint of a model that you expect to be exactly identical (initializing a BertForSequenceClassification model from a BertForSequenceClassification model).\n"
          ]
        },
        {
          "output_type": "stream",
          "name": "stdout",
          "text": [
            "['Ebix, Inc. (NASDAQ:EBIX - Get Rating) announced a quarterly dividend on Wednesday, November 23rd, Zacks reports. Investors of record on Monday, December 5th will be paid a dividend of 0.075 per share by the technology company on Friday, December 16th. This represents a $0.30 dividend on an annualized basis and a dividend yield of 1.55%. The ex-dividend date of this dividend is Friday, December 2nd.', '', 'Ebix has a dividend payout ratio of 10.0% indicating that its dividend is sufficiently covered by earnings.', '', 'Ebix Stock Performance', '', 'NASDAQ:EBIX traded up $0.26 during trading hours on Thursday, reaching $19.36. The stock had a trading volume of 226,825 shares, compared to its average volume of 905,361. Ebix has a 12-month low of $12.50 and a 12-month high of $44.42. The stock has a 50 day simple moving average of $19.54 and a 200 day simple moving average of $22.21. The stock has a market cap of $598.22 million, a P/E ratio of 8.27 and a beta of 2.55.', '', 'Wall Street Analyst Weigh In', '', 'Separately, StockNews.com assumed coverage on shares of Ebix in a report on Wednesday, October 12th. They issued a \"hold\" rating for the company.', '', 'Institutional Trading of Ebix', '', \"Large investors have recently modified their holdings of the business. Captrust Financial Advisors lifted its position in Ebix by 56.6% during the first quarter. Captrust Financial Advisors now owns 2,051 shares of the technology company's stock valued at $68,000 after purchasing an additional 741 shares during the last quarter. Point72 Hong Kong Ltd purchased a new stake in shares of Ebix during the 1st quarter valued at $106,000. Teachers Retirement System of The State of Kentucky bought a new stake in shares of Ebix during the 3rd quarter worth $135,000. Hsbc Holdings PLC purchased a new position in Ebix in the first quarter worth $277,000. Finally, AlphaCrest Capital Management LLC bought a new position in Ebix in the first quarter valued at $314,000. Institutional investors own 66.35% of the company's stock.\", '', 'Ebix Company Profile', '', 'Ebix, Inc, together with its subsidiaries, provides on-demand infrastructure software exchanges and e-commerce services to the insurance, financial, travel, and healthcare industries in the United States and internationally. It develops and deploys insurance and reinsurance exchanges; provides software-as-a-service (SaaS) enterprise solutions in the areas of customer relationship management, and front-end and back-end systems; and offers outsourced administrative and risk compliance solutions.', '', 'See Also', '', \"This instant news alert was generated by narrative science technology and financial data from MarketBeat in order to provide readers with the fastest and most accurate reporting. This story was reviewed by MarketBeat's editorial team prior to publication. Please send any questions or comments about this story to contact@marketbeat.com.\", '', \"Before you consider Ebix, you'll want to hear this.\", '', \"MarketBeat keeps track of Wall Street's top-rated and best performing research analysts and the stocks they recommend to their clients on a daily basis. MarketBeat has identified the five stocks that top analysts are quietly whispering to their clients to buy now before the broader market catches on... and Ebix wasn't on the list.\", '', 'While Ebix currently has a \"N/A\" rating among analysts, top-rated analysts believe these five stocks are better buys.', '', 'View The Five Stocks Here']\n"
          ]
        },
        {
          "output_type": "stream",
          "name": "stderr",
          "text": [
            "Some weights of the model checkpoint at yiyanghkust/finbert-pretrain were not used when initializing BertForMaskedLM: ['cls.seq_relationship.bias', 'cls.seq_relationship.weight']\n",
            "- This IS expected if you are initializing BertForMaskedLM from the checkpoint of a model trained on another task or with another architecture (e.g. initializing a BertForSequenceClassification model from a BertForPreTraining model).\n",
            "- This IS NOT expected if you are initializing BertForMaskedLM from the checkpoint of a model that you expect to be exactly identical (initializing a BertForSequenceClassification model from a BertForSequenceClassification model).\n",
            "Some weights of the model checkpoint at bert-base-uncased were not used when initializing BertModel: ['cls.predictions.bias', 'cls.seq_relationship.bias', 'cls.predictions.decoder.weight', 'cls.seq_relationship.weight', 'cls.predictions.transform.dense.bias', 'cls.predictions.transform.dense.weight', 'cls.predictions.transform.LayerNorm.weight', 'cls.predictions.transform.LayerNorm.bias']\n",
            "- This IS expected if you are initializing BertModel from the checkpoint of a model trained on another task or with another architecture (e.g. initializing a BertForSequenceClassification model from a BertForPreTraining model).\n",
            "- This IS NOT expected if you are initializing BertModel from the checkpoint of a model that you expect to be exactly identical (initializing a BertForSequenceClassification model from a BertForSequenceClassification model).\n"
          ]
        },
        {
          "output_type": "stream",
          "name": "stdout",
          "text": [
            "['Why did this happen?', '', 'Please make sure your browser supports JavaScript and cookies and that you are not blocking them from loading. For more information you can review our Terms of Service and Cookie Policy.']\n"
          ]
        },
        {
          "output_type": "stream",
          "name": "stderr",
          "text": [
            "Some weights of the model checkpoint at yiyanghkust/finbert-pretrain were not used when initializing BertForMaskedLM: ['cls.seq_relationship.bias', 'cls.seq_relationship.weight']\n",
            "- This IS expected if you are initializing BertForMaskedLM from the checkpoint of a model trained on another task or with another architecture (e.g. initializing a BertForSequenceClassification model from a BertForPreTraining model).\n",
            "- This IS NOT expected if you are initializing BertForMaskedLM from the checkpoint of a model that you expect to be exactly identical (initializing a BertForSequenceClassification model from a BertForSequenceClassification model).\n",
            "Some weights of the model checkpoint at bert-base-uncased were not used when initializing BertModel: ['cls.predictions.bias', 'cls.seq_relationship.bias', 'cls.predictions.decoder.weight', 'cls.seq_relationship.weight', 'cls.predictions.transform.dense.bias', 'cls.predictions.transform.dense.weight', 'cls.predictions.transform.LayerNorm.weight', 'cls.predictions.transform.LayerNorm.bias']\n",
            "- This IS expected if you are initializing BertModel from the checkpoint of a model trained on another task or with another architecture (e.g. initializing a BertForSequenceClassification model from a BertForPreTraining model).\n",
            "- This IS NOT expected if you are initializing BertModel from the checkpoint of a model that you expect to be exactly identical (initializing a BertForSequenceClassification model from a BertForSequenceClassification model).\n"
          ]
        },
        {
          "output_type": "stream",
          "name": "stdout",
          "text": [
            "['The content you are trying to view is exclusive to our subscribers.', '', 'To unlock this article:']\n"
          ]
        },
        {
          "output_type": "stream",
          "name": "stderr",
          "text": [
            "Some weights of the model checkpoint at yiyanghkust/finbert-pretrain were not used when initializing BertForMaskedLM: ['cls.seq_relationship.bias', 'cls.seq_relationship.weight']\n",
            "- This IS expected if you are initializing BertForMaskedLM from the checkpoint of a model trained on another task or with another architecture (e.g. initializing a BertForSequenceClassification model from a BertForPreTraining model).\n",
            "- This IS NOT expected if you are initializing BertForMaskedLM from the checkpoint of a model that you expect to be exactly identical (initializing a BertForSequenceClassification model from a BertForSequenceClassification model).\n",
            "Some weights of the model checkpoint at bert-base-uncased were not used when initializing BertModel: ['cls.predictions.bias', 'cls.seq_relationship.bias', 'cls.predictions.decoder.weight', 'cls.seq_relationship.weight', 'cls.predictions.transform.dense.bias', 'cls.predictions.transform.dense.weight', 'cls.predictions.transform.LayerNorm.weight', 'cls.predictions.transform.LayerNorm.bias']\n",
            "- This IS expected if you are initializing BertModel from the checkpoint of a model trained on another task or with another architecture (e.g. initializing a BertForSequenceClassification model from a BertForPreTraining model).\n",
            "- This IS NOT expected if you are initializing BertModel from the checkpoint of a model that you expect to be exactly identical (initializing a BertForSequenceClassification model from a BertForSequenceClassification model).\n"
          ]
        },
        {
          "output_type": "stream",
          "name": "stdout",
          "text": [
            "['Why did this happen?', '', 'Please make sure your browser supports JavaScript and cookies and that you are not blocking them from loading. For more information you can review our Terms of Service and Cookie Policy.']\n"
          ]
        },
        {
          "output_type": "stream",
          "name": "stderr",
          "text": [
            "Some weights of the model checkpoint at yiyanghkust/finbert-pretrain were not used when initializing BertForMaskedLM: ['cls.seq_relationship.bias', 'cls.seq_relationship.weight']\n",
            "- This IS expected if you are initializing BertForMaskedLM from the checkpoint of a model trained on another task or with another architecture (e.g. initializing a BertForSequenceClassification model from a BertForPreTraining model).\n",
            "- This IS NOT expected if you are initializing BertForMaskedLM from the checkpoint of a model that you expect to be exactly identical (initializing a BertForSequenceClassification model from a BertForSequenceClassification model).\n",
            "Some weights of the model checkpoint at bert-base-uncased were not used when initializing BertModel: ['cls.predictions.bias', 'cls.seq_relationship.bias', 'cls.predictions.decoder.weight', 'cls.seq_relationship.weight', 'cls.predictions.transform.dense.bias', 'cls.predictions.transform.dense.weight', 'cls.predictions.transform.LayerNorm.weight', 'cls.predictions.transform.LayerNorm.bias']\n",
            "- This IS expected if you are initializing BertModel from the checkpoint of a model trained on another task or with another architecture (e.g. initializing a BertForSequenceClassification model from a BertForPreTraining model).\n",
            "- This IS NOT expected if you are initializing BertModel from the checkpoint of a model that you expect to be exactly identical (initializing a BertForSequenceClassification model from a BertForSequenceClassification model).\n"
          ]
        },
        {
          "output_type": "stream",
          "name": "stdout",
          "text": [
            "['Explained', '', 'The UK’s biggest ever anti-fraud operation has brought down a phone-number spoofing site used by criminals to scam thousands of victims out of money.', '', 'About 70,000 potential fraud victims are set to receive a text today or tomorrow from the Metropolitan Police and will be asked to get in touch with the force.', '', 'The average loss among those who have reported being targeted to date is £10,000, with one victim losing £3m.', '', 'It follows an investigation by the Met’s Cyber Crime Unit into the website, iSpoof.cc. Scotland Yard co-ordinated with authorities including Europol and the FBI, and investigators managed to infiltrate the site.', '', 'Here’s how the global operation brought down iSpoof, and how potential victims can find out if they have been targeted.', '', 'What is iSpoof?', '', 'Described by police as an “international one stop spoofing shop”, iSpoof.cc enabled fraudsters to appear as if they were calling from banks, tax offices and other official bodies in order to trick victims.', '', 'The website allowed users, who paid in Bitcoin, to disguise their phone number so it appeared they were calling from a trusted source, in a process known as “spoofing”.', '', 'Criminals using the websites posed as representatives of banks including Barclays, Santander, HSBC, Lloyds, Halifax, First Direct, NatWest, Nationwide and TSB.', '', 'iSpoof was created in December 2020 and at its peak had 59,000 users, with charges ranging from £150 to £5,000 per month.', '', 'The people behind the site earned almost £3.2m over a 20-month period, the Met said.', '', 'How many victims were targeted?', '', 'In the 12 months until August 2022 about 10 million fraudulent calls were made globally via iSpoof, with around 3.5 million of those made in the UK.', '', 'Of these calls, more than 350,000 lasted more than one minute. These calls were made to 200,000 individuals – leading the police to believe there are more than 200,000 potential victims in the UK alone.', '', 'To date, 4,785 people have reported being targeted to Action Fraud, the UK’s national reporting centre for fraud and cyber crime. The average loss among these people is £10,000, while one person lost £3 million.', '', 'There are likely many more victims across the world: 40 per cent of calls were made in the United States, 35 per cent in the UK and the rest were made across a number of countries.', '', 'How do I know if I have been targeted?', '', 'Around 70,000 UK numbers have currently been identified by the Met that have been linked to an identified suspect in the iSpoof sting.', '', 'These numbers will receive a text from the police on Thursday or Friday and will be asked to contact the force.', '', 'Those who are contacted will be encouraged to report any incident on the official Met website, and should not respond to any texts. The Met’s text will not include a clickable link.', '', 'Speaking on BBC Radio 4’s Today programme, Metropolitan Police Commissioner Sir Mark Rowley acknowledged it was “slightly bizarre” that potential fraud victims would be contacted via text.', '', '“So don’t respond to any texts with sort of dodgy shortcuts and things,” he said. “Come through official websites is the best way of doing this.', '', '“But we want to hear from you because the people we message in the next 24 hours have been victims of fraud or attempted fraud and we can stack all these offences against the people we’ve been arresting.”', '', 'Anyone who believes they were contacted as part of a scam where a number was spoofed can report this online via Action Fraud.', '', 'How did police bring down iSpoof?', '', 'The Met’s Cyber Crime Unit began investigating iSpoof in June 2021 under the name of Operation Elaborate. Scotland Yard co-ordinated with Europol, Eurojust, the Dutch authorities and the FBI.', '', 'Investigators were able to infiltrate the site and began collecting information and tracing Bitcoin records. The Met said the website’s server contained a “treasure trove” of 70 millions rows of information.', '', 'The investigation has found 59,000 potential suspects, with investigators focusing first on UK users and those who have spent at least £100 of Bitcoin to use the site.', '', 'Sir Mark said: “Together with the support of partners across UK policing and internationally, we are reinventing the way fraud is investigated. The Met is targeting the criminals at the centre of these illicit webs that cause misery for thousands.', '', '“By taking away the tools and systems that have enabled fraudsters to cheat innocent people at scale, this operation shows how we are determined to target corrupt individuals intent on exploiting often vulnerable victims.”', '', 'Have any arrests been made?', '', 'In the UK, more than 100 people have been arrested, the vast majority on suspicion of fraud. Details of other suspects have been passed onto police in Holland, Australia, France and Ireland.', '', 'Of the 120 arrests made in the UK, 103 were in London. These include alleged site administrator Teejay Fletcher, 35, who was arrested in east London earlier this month and is facing criminal charges.', '', 'Fletcher has been charged with making or supplying articles for use in fraud, participating in activities of an organised crime group and proceeds of crime matters. He was remanded in custody and is next due to appear at Southwark Crown Court on 6 December.']\n"
          ]
        },
        {
          "output_type": "stream",
          "name": "stderr",
          "text": [
            "Some weights of the model checkpoint at yiyanghkust/finbert-pretrain were not used when initializing BertForMaskedLM: ['cls.seq_relationship.bias', 'cls.seq_relationship.weight']\n",
            "- This IS expected if you are initializing BertForMaskedLM from the checkpoint of a model trained on another task or with another architecture (e.g. initializing a BertForSequenceClassification model from a BertForPreTraining model).\n",
            "- This IS NOT expected if you are initializing BertForMaskedLM from the checkpoint of a model that you expect to be exactly identical (initializing a BertForSequenceClassification model from a BertForSequenceClassification model).\n",
            "Some weights of the model checkpoint at bert-base-uncased were not used when initializing BertModel: ['cls.predictions.bias', 'cls.seq_relationship.bias', 'cls.predictions.decoder.weight', 'cls.seq_relationship.weight', 'cls.predictions.transform.dense.bias', 'cls.predictions.transform.dense.weight', 'cls.predictions.transform.LayerNorm.weight', 'cls.predictions.transform.LayerNorm.bias']\n",
            "- This IS expected if you are initializing BertModel from the checkpoint of a model trained on another task or with another architecture (e.g. initializing a BertForSequenceClassification model from a BertForPreTraining model).\n",
            "- This IS NOT expected if you are initializing BertModel from the checkpoint of a model that you expect to be exactly identical (initializing a BertForSequenceClassification model from a BertForSequenceClassification model).\n"
          ]
        },
        {
          "output_type": "stream",
          "name": "stdout",
          "text": [
            "['Something went wrong, please try again later.', '', 'Invalid email Something went wrong, please try again later.', '', \"Sign up to our email newsletter for daily updates on what's happening in and around Birmingham\", '', 'Tesco, Asda and Aldi are expected to be hit by cash shortages over the festive period, a union has said, after security staff voted to go on strike. Hundreds of G4s workers who deliver cash and coins to some banks and supermarkets are due to walk out over pay.', '', 'The industrial action could impact the supply of cash to banking clients like Barclays HSBC and Santander, as well as supermarkets Aldi, Tesco and Asda. The GMB union said it will be the first ever strike at G4S.', '', \"A total 97 per cent of staff voted in favour of action, scheduled to take place from 3am on December 5, the Liverpool Echo reports. The security firm said it had 'contingency plans' to mitigate disruption if the strike goes ahead, however the union warned 'genuine cash shortages' could be expected over the festive period.\", '', \"Read more - Aldi brings back Jo Malone giant candle dupe that's £325 cheaper\", '', 'GMB national officer Eamon O\\'Hearn said: \"There are low paid workers doing a dangerous job, transferring the cash so many of us still rely on every day. All they are asking for is a wage they can live on, that they can feed their families on, that they can treat their children this Christmas on.', '', '\"G4S Cash staff provide an absolutely vital service. If they walk out, we can expect genuine cash shortages over the festive period.\"', '', 'A G4S spokesman said: \"We are continuing to engage with our employees and their union and hope to reach an amicable agreement without the need for industrial action. In the event of a strike, we have contingency plans to minimise disruption to cash services across the country.\"', '', 'G4S Cash Solutions initially offered members a part pay freeze and has since tabled an offer of a four per cent increase and lump sum bonus based on contracted hours. The security giant was taken over by American firm Allied Universal for £3.8 billion last year following a takeover battle.', '', 'The firm stressed that its UK cash drivers have received pay of £13.08 an hour for 2022 after a pay deal was agreed with the GMB from January.', '', 'Read more:']\n"
          ]
        },
        {
          "output_type": "stream",
          "name": "stderr",
          "text": [
            "Some weights of the model checkpoint at yiyanghkust/finbert-pretrain were not used when initializing BertForMaskedLM: ['cls.seq_relationship.bias', 'cls.seq_relationship.weight']\n",
            "- This IS expected if you are initializing BertForMaskedLM from the checkpoint of a model trained on another task or with another architecture (e.g. initializing a BertForSequenceClassification model from a BertForPreTraining model).\n",
            "- This IS NOT expected if you are initializing BertForMaskedLM from the checkpoint of a model that you expect to be exactly identical (initializing a BertForSequenceClassification model from a BertForSequenceClassification model).\n",
            "Some weights of the model checkpoint at bert-base-uncased were not used when initializing BertModel: ['cls.predictions.bias', 'cls.seq_relationship.bias', 'cls.predictions.decoder.weight', 'cls.seq_relationship.weight', 'cls.predictions.transform.dense.bias', 'cls.predictions.transform.dense.weight', 'cls.predictions.transform.LayerNorm.weight', 'cls.predictions.transform.LayerNorm.bias']\n",
            "- This IS expected if you are initializing BertModel from the checkpoint of a model trained on another task or with another architecture (e.g. initializing a BertForSequenceClassification model from a BertForPreTraining model).\n",
            "- This IS NOT expected if you are initializing BertModel from the checkpoint of a model that you expect to be exactly identical (initializing a BertForSequenceClassification model from a BertForSequenceClassification model).\n"
          ]
        },
        {
          "output_type": "stream",
          "name": "stdout",
          "text": [
            "['']\n"
          ]
        },
        {
          "output_type": "stream",
          "name": "stderr",
          "text": [
            "Some weights of the model checkpoint at yiyanghkust/finbert-pretrain were not used when initializing BertForMaskedLM: ['cls.seq_relationship.bias', 'cls.seq_relationship.weight']\n",
            "- This IS expected if you are initializing BertForMaskedLM from the checkpoint of a model trained on another task or with another architecture (e.g. initializing a BertForSequenceClassification model from a BertForPreTraining model).\n",
            "- This IS NOT expected if you are initializing BertForMaskedLM from the checkpoint of a model that you expect to be exactly identical (initializing a BertForSequenceClassification model from a BertForSequenceClassification model).\n",
            "Some weights of the model checkpoint at bert-base-uncased were not used when initializing BertModel: ['cls.predictions.bias', 'cls.seq_relationship.bias', 'cls.predictions.decoder.weight', 'cls.seq_relationship.weight', 'cls.predictions.transform.dense.bias', 'cls.predictions.transform.dense.weight', 'cls.predictions.transform.LayerNorm.weight', 'cls.predictions.transform.LayerNorm.bias']\n",
            "- This IS expected if you are initializing BertModel from the checkpoint of a model trained on another task or with another architecture (e.g. initializing a BertForSequenceClassification model from a BertForPreTraining model).\n",
            "- This IS NOT expected if you are initializing BertModel from the checkpoint of a model that you expect to be exactly identical (initializing a BertForSequenceClassification model from a BertForSequenceClassification model).\n"
          ]
        },
        {
          "output_type": "stream",
          "name": "stdout",
          "text": [
            "['The content you are trying to view is exclusive to our subscribers.', '', 'To unlock this article:']\n"
          ]
        },
        {
          "output_type": "stream",
          "name": "stderr",
          "text": [
            "Some weights of the model checkpoint at yiyanghkust/finbert-pretrain were not used when initializing BertForMaskedLM: ['cls.seq_relationship.bias', 'cls.seq_relationship.weight']\n",
            "- This IS expected if you are initializing BertForMaskedLM from the checkpoint of a model trained on another task or with another architecture (e.g. initializing a BertForSequenceClassification model from a BertForPreTraining model).\n",
            "- This IS NOT expected if you are initializing BertForMaskedLM from the checkpoint of a model that you expect to be exactly identical (initializing a BertForSequenceClassification model from a BertForSequenceClassification model).\n",
            "Some weights of the model checkpoint at bert-base-uncased were not used when initializing BertModel: ['cls.predictions.bias', 'cls.seq_relationship.bias', 'cls.predictions.decoder.weight', 'cls.seq_relationship.weight', 'cls.predictions.transform.dense.bias', 'cls.predictions.transform.dense.weight', 'cls.predictions.transform.LayerNorm.weight', 'cls.predictions.transform.LayerNorm.bias']\n",
            "- This IS expected if you are initializing BertModel from the checkpoint of a model trained on another task or with another architecture (e.g. initializing a BertForSequenceClassification model from a BertForPreTraining model).\n",
            "- This IS NOT expected if you are initializing BertModel from the checkpoint of a model that you expect to be exactly identical (initializing a BertForSequenceClassification model from a BertForSequenceClassification model).\n"
          ]
        },
        {
          "output_type": "stream",
          "name": "stdout",
          "text": [
            "['']\n"
          ]
        },
        {
          "output_type": "stream",
          "name": "stderr",
          "text": [
            "Some weights of the model checkpoint at yiyanghkust/finbert-pretrain were not used when initializing BertForMaskedLM: ['cls.seq_relationship.bias', 'cls.seq_relationship.weight']\n",
            "- This IS expected if you are initializing BertForMaskedLM from the checkpoint of a model trained on another task or with another architecture (e.g. initializing a BertForSequenceClassification model from a BertForPreTraining model).\n",
            "- This IS NOT expected if you are initializing BertForMaskedLM from the checkpoint of a model that you expect to be exactly identical (initializing a BertForSequenceClassification model from a BertForSequenceClassification model).\n",
            "Some weights of the model checkpoint at bert-base-uncased were not used when initializing BertModel: ['cls.predictions.bias', 'cls.seq_relationship.bias', 'cls.predictions.decoder.weight', 'cls.seq_relationship.weight', 'cls.predictions.transform.dense.bias', 'cls.predictions.transform.dense.weight', 'cls.predictions.transform.LayerNorm.weight', 'cls.predictions.transform.LayerNorm.bias']\n",
            "- This IS expected if you are initializing BertModel from the checkpoint of a model trained on another task or with another architecture (e.g. initializing a BertForSequenceClassification model from a BertForPreTraining model).\n",
            "- This IS NOT expected if you are initializing BertModel from the checkpoint of a model that you expect to be exactly identical (initializing a BertForSequenceClassification model from a BertForSequenceClassification model).\n"
          ]
        },
        {
          "output_type": "stream",
          "name": "stdout",
          "text": [
            "['Fabiola Liacy De Felip / Ti Gong', '', 'A dual exhibition, \"Carpe Diem,\" is now underway at ArtCN Gallery in Shanghai, featuring artworks by renowned Chinese artist Ann Niu and Kenyan painter Peter Ngugi.', '', 'Though gallery owner Anne-Cecile Noique envisioned it as two independent exhibitions, there is a dialogue linking Niu and Ngugi.', '', \"The links between China and Kenya date back to the 15th century with great Chinese naval explorer Zheng He's expedition to East Africa. Chinese chronicles recount how Zheng sailed along the Kenyan coast observing Swahili villages and their traditions, developing ties between East and West.\", '', 'Courtesy of Ann Niu studio / Ti Gong', '', '\"This has been our motto \\'Linking East and West,\\' so with this show I want to continue our mission of nurturing dialogues in art and culture between artists from China and those abroad,\" she added.', '', \"Niu has been with ArtCN since its inauguration in 2012, and for Ngugi it is his first solo exhibition in China. Both artists' works are based on their own life experience, drawing inspiration from their daily routine, the people they meet and the places they visit.\", '', 'In their own artistic language, they share a strong passion for life itself with a forward attitude toward living the moment, being in the present – \"seize the day\" as Carpe Diem dictates it.', '', 'Courtesy of Ann Niu studio / Ti Gong', '', 'Courtesy of Ann Niu studio / Ti Gong', '', 'Niu, born in Shanghai in the late 1960s, has lived, studied and worked in China, Japan, South Korea and the United States. Her works have been exhibited in many countries and are among the collections of the Singapore National Art Museum, Shanghai Art Museum, HSBC Private Bank and the Stephen A. Schwarzman Education Foundation as well as private collectors worldwide.', '', 'She is known for her use of lines and curves, whether seemingly mingled chaotically or loosely scratched on the canvas. Faces and bodies are hidden in the mesh. Her paintings always evoke mixed feelings from indulgence to sentiment.', '', \"She approaches the essence of many cultures and expresses it via her particular feminine angle. The wild brushstrokes and striking colors reveal the artist's passion and sensitivity toward her artworks.\", '', 'Courtesy of Ann Niu studio / Ti Gong', '', 'For the current exhibition, she has chosen the works covering three of her favorite themes: scholar stone, silhouettes and the \"dream\" series. As always, she uses graceful, calligraphic lines enhanced by vibrant and auspicious colors to achieve a striking visual effect, which in her artistic language speaks about the fragility but resilience of human nature.', '', \"In Ngugi's work, silhouettes, devoid of any features, are set against a colorful and flowery background. The contrast and separation of colors and strokes are a metaphor for individuality and coexistence. These strokes are a depiction of the diverse tribal and cultural mix in contemporary Kenyan society.\", '', '\"The umber silhouettes are all based on real people. The background is a metaphor, an imagination and a creation. The strong presence of traditional and contemporary African design is deliberately employed in the narration of an African story. My work interrogates the relevance of telling these stories to the world,\" he said.', '', 'Courtesy of ArtCN / Ti Gong', '', 'Exhibition info:', '', 'Date: Through January 18 (closed on Mondays), 11am-7pm', '', 'Address: Bldg 3, 876 Jiangsu Rd', '', 'Tel: 6167-3917']\n"
          ]
        },
        {
          "output_type": "stream",
          "name": "stderr",
          "text": [
            "Some weights of the model checkpoint at yiyanghkust/finbert-pretrain were not used when initializing BertForMaskedLM: ['cls.seq_relationship.bias', 'cls.seq_relationship.weight']\n",
            "- This IS expected if you are initializing BertForMaskedLM from the checkpoint of a model trained on another task or with another architecture (e.g. initializing a BertForSequenceClassification model from a BertForPreTraining model).\n",
            "- This IS NOT expected if you are initializing BertForMaskedLM from the checkpoint of a model that you expect to be exactly identical (initializing a BertForSequenceClassification model from a BertForSequenceClassification model).\n",
            "Some weights of the model checkpoint at bert-base-uncased were not used when initializing BertModel: ['cls.predictions.bias', 'cls.seq_relationship.bias', 'cls.predictions.decoder.weight', 'cls.seq_relationship.weight', 'cls.predictions.transform.dense.bias', 'cls.predictions.transform.dense.weight', 'cls.predictions.transform.LayerNorm.weight', 'cls.predictions.transform.LayerNorm.bias']\n",
            "- This IS expected if you are initializing BertModel from the checkpoint of a model trained on another task or with another architecture (e.g. initializing a BertForSequenceClassification model from a BertForPreTraining model).\n",
            "- This IS NOT expected if you are initializing BertModel from the checkpoint of a model that you expect to be exactly identical (initializing a BertForSequenceClassification model from a BertForSequenceClassification model).\n"
          ]
        },
        {
          "output_type": "stream",
          "name": "stdout",
          "text": [
            "['']\n"
          ]
        },
        {
          "output_type": "stream",
          "name": "stderr",
          "text": [
            "Some weights of the model checkpoint at yiyanghkust/finbert-pretrain were not used when initializing BertForMaskedLM: ['cls.seq_relationship.bias', 'cls.seq_relationship.weight']\n",
            "- This IS expected if you are initializing BertForMaskedLM from the checkpoint of a model trained on another task or with another architecture (e.g. initializing a BertForSequenceClassification model from a BertForPreTraining model).\n",
            "- This IS NOT expected if you are initializing BertForMaskedLM from the checkpoint of a model that you expect to be exactly identical (initializing a BertForSequenceClassification model from a BertForSequenceClassification model).\n",
            "Some weights of the model checkpoint at bert-base-uncased were not used when initializing BertModel: ['cls.predictions.bias', 'cls.seq_relationship.bias', 'cls.predictions.decoder.weight', 'cls.seq_relationship.weight', 'cls.predictions.transform.dense.bias', 'cls.predictions.transform.dense.weight', 'cls.predictions.transform.LayerNorm.weight', 'cls.predictions.transform.LayerNorm.bias']\n",
            "- This IS expected if you are initializing BertModel from the checkpoint of a model trained on another task or with another architecture (e.g. initializing a BertForSequenceClassification model from a BertForPreTraining model).\n",
            "- This IS NOT expected if you are initializing BertModel from the checkpoint of a model that you expect to be exactly identical (initializing a BertForSequenceClassification model from a BertForSequenceClassification model).\n"
          ]
        },
        {
          "output_type": "stream",
          "name": "stdout",
          "text": [
            "['Hong Kong share market finished session firmly in positive territory on Thursday, 24 November 2022, registering second day of winning streak, as risk sentiment remained upbeat on following the broadly positive cues from Wall Street overnight, amid hopes for a slower pace of interest rate hikes by the U. S.', '', 'Federal Reserve.', '', \"Also supported sentiment was Beijing rolled out a series of policies to support the troubled property sector and speculation that government would cut banks' reserve requirement ratio (RRR) to aid the economy.\", '', 'At closing bell, the benchmark Hang Seng Index added 137.09 points, or 0.78%, to 17,660.90. The Hang Seng China Enterprises Index rose 47.24 points, or 0.79%, to 5,992.35.', '', 'Among blue chips, Country Garden rose 20% to HK$2.83, while Longfor Group surged 12% to HK$21.05. HSBC gained 1.8% to HK$46, and Hong Kong Exchanges & Clearing rose 1% to HK$291.40.', '', 'Powered by Capital Market - Live News', '', '(This story has not been edited by Business Standard staff and is auto-generated from a syndicated feed.)']\n"
          ]
        },
        {
          "output_type": "stream",
          "name": "stderr",
          "text": [
            "Some weights of the model checkpoint at yiyanghkust/finbert-pretrain were not used when initializing BertForMaskedLM: ['cls.seq_relationship.bias', 'cls.seq_relationship.weight']\n",
            "- This IS expected if you are initializing BertForMaskedLM from the checkpoint of a model trained on another task or with another architecture (e.g. initializing a BertForSequenceClassification model from a BertForPreTraining model).\n",
            "- This IS NOT expected if you are initializing BertForMaskedLM from the checkpoint of a model that you expect to be exactly identical (initializing a BertForSequenceClassification model from a BertForSequenceClassification model).\n",
            "Some weights of the model checkpoint at bert-base-uncased were not used when initializing BertModel: ['cls.predictions.bias', 'cls.seq_relationship.bias', 'cls.predictions.decoder.weight', 'cls.seq_relationship.weight', 'cls.predictions.transform.dense.bias', 'cls.predictions.transform.dense.weight', 'cls.predictions.transform.LayerNorm.weight', 'cls.predictions.transform.LayerNorm.bias']\n",
            "- This IS expected if you are initializing BertModel from the checkpoint of a model trained on another task or with another architecture (e.g. initializing a BertForSequenceClassification model from a BertForPreTraining model).\n",
            "- This IS NOT expected if you are initializing BertModel from the checkpoint of a model that you expect to be exactly identical (initializing a BertForSequenceClassification model from a BertForSequenceClassification model).\n"
          ]
        },
        {
          "output_type": "stream",
          "name": "stdout",
          "text": [
            "['Which stock out of the top private lenders — HDFC Bank, ICICI Bank, Axis Bank and Indusind Bank — is giving you more value for the buck you are spending? One way to look at it is Price-to-Earnings (PE) ratio. In a layman’s terms, a PE ratio determines the amount of money an investor is willing to pay for each rupee of profit that a company makes.', '', 'The P/E ratio is indicative of whether the stock of a company is overvalued or undervalued compared to its earnings. This metric also suggests what people feel about the growth potential of the stock. A high PE ratio means that the market is willing to pay a high price for the stock.', '', \"Another way to look at it is the Price-to-book value (P/B) which is the ratio of company's share price against its book value of equity i.e. value of a company's assets expressed on the balance sheet. It is indicative of whether company's stock price is valued properly.\", '', 'A P/B ratio of 1 means that the stock price is on par with the book value of the company while a P/B ratio below 1 signals that a stock may be undervalued. Number above 1 determines that the stock is overvalued.', '', 'See Table', '', 'Q2FY23 Earnings Comparison', '', 'Investors can make their investment decision relying on above metrics and see what they want to pay for their favourite stock.', '', 'Read More: Stock Market Today LIVE: Bank Nifty surpasses 43000; Sensex up 400 points, Nifty over 100 points higher', '', 'Analyst View on Valuations', '', 'On valuation, market expert Sandeep Jain said that no stock among them was overvalued and all have good growth potential. However, he remains bullish on ICICI Bank over the long term.', '', 'His advice to investors is to view the stock based on price-to-book value. The banks are into lending business and one must consider the asset quality while making a move in banking sector stock, he reasoned.', '', 'HDFC Bank Vs ICICI Bank Vs Axis Bank Vs Indusind Bank Vs BSE SENSEX', '', 'HDFC Bank stock (+22.76 per cent) has outperformed the Sensex (+13.75 per cent) over the six month period and has been on par with the S&P BSE Bankex (+22.94 per cent). On the YTD basis, HDFC Bank (6.18 per cent) has underperformed Bankex (+16.84 per cent) and outperformed the Sensex (3.31 per cent).', '', 'ICICI Bank stock (+29.83 per cent) has outperformed the Sensex (+12.55 per cent) and S&P BSE Bankex (+22.17 per cent) over the six month period. On the YTD basis, ICICI Bank (20.46 per cent) has outperformed Sensex (3.31 per cent) and Bankex (16.84 per cent).', '', 'Axis Bank stock (+29.19 per cent) has outperformed the Sensex (+12.55 per cent) and S&P BSE Bankex (+22.17 per cent) over the six month period. On the YTD basis, Axis Bank (24.90 per cent) has outperformed Sensex (3.31 per cent) and Bankex (16.84 per cent).', '', 'Indusind Bank stock (+27.11 per cent) has outperformed the Sensex (+12.55 per cent) and S&P BSE Bankex (+22.17 per cent) over the six month period. On the YTD basis, Indusind Bank (24.89 per cent) has outperformed Sensex (3.31 per cent) and Bankex (16.84 per cent).', '', 'HDFC Bank shares were trading at Rs 1,614.35 on the NSE, up Rs 15.20 or 0.95 perc cent at 1:40 pm on Thursday.', '', 'What brokerages say?', '', 'ICICI Bank: Buy | Recommended at: Rs 914 | Target: Rs 1250 | Upside: 37%', '', 'Morgan Stanley maintains an ‘Overweight’ on ICICI Bank. The stock was recommended at a price of Rs 914.', '', 'CLSA on ICICI Bank | Recommended at Rs 920 | Target: Rs 1200 | Upside: 23%', '', 'CLSA maintains a Buy on this stock citing NIM margins outlook to remain positive with pickup in broad-based growth. Pristine asset quality with 17 per cent return on equity is estimated and it remains a top pick for this brokerage.', '', 'Meanwhile, HSBC maintains a Buy with price target of Rs 1100.', '', 'ICICI Bank stock was trading at Rs 935.70 on the NSE and was up by Rs 8.25 or 0.89 per cent.', '', 'Indusind Bank: Buy | Recommended at: Rs 1144 | Target: Rs 1377 | Upside: 20%', '', 'Goldman Sachs has cut its target from Rs 1389 to Rs 1377. The counter was recommended at a price of Rs 1144.', '', 'Indusind Bank stock was trading at Rs 1,171.05 on the NSE and was down by Rs 3.30 or 0.28 per cent.', '', 'Axis Bank: Buy | Recommended at: Rs 858 | Target: Rs 1150 | Upside: 34%', '', 'Morgan Stanley maintains an ‘Overweight’ rating on Axis Bank. The stock was recommended at a price of Rs 858. HSBC maintain a ‘Buy’ for target of Rs 1150.', '', 'Axis Bank stock was trading at Rs 874.05 on the NSE and was down by Rs 3.30 or 0.07 per cent.', '', '(Disclaimer: The views/suggestions/advises expressed here in this article is solely by investment experts. Zee Business suggests its readers to consult with their investment advisers before making any financial decision.)']\n"
          ]
        },
        {
          "output_type": "stream",
          "name": "stderr",
          "text": [
            "Some weights of the model checkpoint at yiyanghkust/finbert-pretrain were not used when initializing BertForMaskedLM: ['cls.seq_relationship.bias', 'cls.seq_relationship.weight']\n",
            "- This IS expected if you are initializing BertForMaskedLM from the checkpoint of a model trained on another task or with another architecture (e.g. initializing a BertForSequenceClassification model from a BertForPreTraining model).\n",
            "- This IS NOT expected if you are initializing BertForMaskedLM from the checkpoint of a model that you expect to be exactly identical (initializing a BertForSequenceClassification model from a BertForSequenceClassification model).\n",
            "Some weights of the model checkpoint at bert-base-uncased were not used when initializing BertModel: ['cls.predictions.bias', 'cls.seq_relationship.bias', 'cls.predictions.decoder.weight', 'cls.seq_relationship.weight', 'cls.predictions.transform.dense.bias', 'cls.predictions.transform.dense.weight', 'cls.predictions.transform.LayerNorm.weight', 'cls.predictions.transform.LayerNorm.bias']\n",
            "- This IS expected if you are initializing BertModel from the checkpoint of a model trained on another task or with another architecture (e.g. initializing a BertForSequenceClassification model from a BertForPreTraining model).\n",
            "- This IS NOT expected if you are initializing BertModel from the checkpoint of a model that you expect to be exactly identical (initializing a BertForSequenceClassification model from a BertForSequenceClassification model).\n"
          ]
        },
        {
          "output_type": "stream",
          "name": "stdout",
          "text": [
            "['Jon Smith explains how the economic cycle works and why this can help him build his wealth over time via the FTSE 100.', '', 'You’re reading a free article with opinions that may differ from The Motley Fool’s Premium Investing Services. Become a Motley Fool member today to get instant access to our top analyst recommendations, in-depth research, investing resources , and more. Learn More .', '', 'Now that the year is almost over, I’m trying to spend some time looking at the bigger picture. Sometimes I can get so caught up in the events of a particular day or week that I ignore my plan for the next year or next decade. It’s true that in 2022 there’s been a lot for investors to digest and deal with. Yet when I zoom out, we’re still following the same economic cycle that has been repeating for centuries. With that in mind, here’s how I think I can make £200k from investing in the FTSE 100 for the long term.', '', 'The economic cycle', '', 'My strategy relies on the market following the same pattern that it has in the past. This correlates to the different stages of the economic cycle. During a slowdown and recession (such as now), the stock market typically underperforms. Then during the years that follow, the recovery and boom periods see the market rally.', '', 'Of course, in reality it’s not that simple. The main difficulty investors like me have is that I can’t predict how long a boom period or a recession will last. I know that both will end at some point, but that stage of the cycle can last for months or years.', '', 'Yet because the cycle will continue in the future, my idea of drip-feeding money into the stock market each month makes perfect sense. Some refer to it as ‘pound cost averaging’. In other words, I get an average price of different stocks due to buying more each month at different prices.', '', 'The reason why I think this is smart is because during the bad times I get to buy at low prices. During the good times, I get to buy as the stock is rallying.', '', 'How I can use the FTSE 100 to my advantage', '', 'I want to target mostly FTSE 100 stocks with my regular investment plan. This is because these are the largest UK listed companies and therefore have a proven track record and successful business model.s Stocks like British American Tobacco and HSBC are global titans with a history of profitability.', '', 'In order to reach my goal of £200k, it’s going to take me several years. I don’t want to run the risk of a small company going bust over this period. Even though a FTSE 100 company can still go bankrupt, I feel the risk is lower.', '', 'Over the past decade, the average total return of the FTSE 100 (including reinvested dividends) is 18.3%. But if I shorten this to five years, the return drops to 4.2%.', '', 'I’m going to be conservative and use an average total return of 7% for my £400 a month. Using this assumption, it would take me just under 20 years to hit a portfolio worth £200k. It might take more or less time to achieve this depending on the economic cycle over this period. Yet as decades of data do show, the long-term trend is higher.']\n"
          ]
        },
        {
          "output_type": "stream",
          "name": "stderr",
          "text": [
            "Some weights of the model checkpoint at yiyanghkust/finbert-pretrain were not used when initializing BertForMaskedLM: ['cls.seq_relationship.bias', 'cls.seq_relationship.weight']\n",
            "- This IS expected if you are initializing BertForMaskedLM from the checkpoint of a model trained on another task or with another architecture (e.g. initializing a BertForSequenceClassification model from a BertForPreTraining model).\n",
            "- This IS NOT expected if you are initializing BertForMaskedLM from the checkpoint of a model that you expect to be exactly identical (initializing a BertForSequenceClassification model from a BertForSequenceClassification model).\n",
            "Some weights of the model checkpoint at bert-base-uncased were not used when initializing BertModel: ['cls.predictions.bias', 'cls.seq_relationship.bias', 'cls.predictions.decoder.weight', 'cls.seq_relationship.weight', 'cls.predictions.transform.dense.bias', 'cls.predictions.transform.dense.weight', 'cls.predictions.transform.LayerNorm.weight', 'cls.predictions.transform.LayerNorm.bias']\n",
            "- This IS expected if you are initializing BertModel from the checkpoint of a model trained on another task or with another architecture (e.g. initializing a BertForSequenceClassification model from a BertForPreTraining model).\n",
            "- This IS NOT expected if you are initializing BertModel from the checkpoint of a model that you expect to be exactly identical (initializing a BertForSequenceClassification model from a BertForSequenceClassification model).\n"
          ]
        },
        {
          "output_type": "stream",
          "name": "stdout",
          "text": [
            "['Representational image.', '', \"Mumbai: A relatively stronger day in trade for the benchmark indices as compared to the previous trading sessions of this week. Both the : A relatively stronger day in trade for the benchmark indices as compared to the previous trading sessions of this week. Both the Nifty and the Bank Nifty were up almost a percent at the day's highest point. The Sensex followed suit, while the broader markets underperformed the benchmark indices. On the sectoral front, it was not PSU banks, but IT as the top performing sector today, with the PSU Banks coming in as the second highest gainer.\", '', 'Media, Energy, Financials and FMCG held to the greens, while Nifty Energy and Metals were the top laggards in trade today. Stock specific action saw Apollo Hospitals, HDFC Life, BPCL, Tata Consumer, Power Grid, Infosys as the top winners today, while Coal India, Kotak Bank, Eicher Motors, Cipla made up the list of the losers.', '', \"These were the stocks buzzing in today's trading session:\", '', '1. INSURANCE STOCKS-', '', \"Insurance stocks such as Star Health, HDFC Life, GIC RE and others saw solid gains today on the back of IRDAI's new regulations. The insurance regulator has scrapped commission caps on both life as well as non-life insurance. Insurers will now also have full freedom to design their products. These regulations were taken well by the street and the concerned stocks saw surges between 3-5% today.\", '', '2. FINO PAYMENTS-', '', 'This stock saw a massive rally today, up a whopping 17.5% in trade. Capri Global Holdings Private Limited bought 13 lakh shares representing 1.59% of the total equity of Fino Payments Bank at a price of Rs 228.77 per share. This block deal pushed the stock up in trade today.', '', '3. PVR+INOX-', '', 'These multiplex stocks were buzzing on the back of an update on their merger. NCLT is all set to take the final call for the merger on December 15. PVR, Inox got NSE, BSE nod for their merger in June. The combined entity will have a network of more than 1,500 screens.', '', '4. JUBILANT FOOD-', '', \"The stock was up about 2% at the day's highest point on the back of a brokerage note. HSBC has maintained a buy rating on the stock, and has set a target price of Rs 750 per share as compared to the current market price of Rs 550.\", '', '5. HG INRFRA-', '', 'H.G. Infra Engineering rallied 4.24% to Rs 598.10 after the EPC company announced that it has received the appointed date letter from Adani Road Transport for a road project in Uttar Pradesh.', '', 'The company has received a letter from Adani Road Transport regarding declaration of appointed date as 3 November 2022, by Authority for the project in Uttar Pradesh.', '', '6. TILAK NAGAR INDUSTRIES-', '', 'The stock was up almost 3% today as its brandy unit, Brandy Mansion House became the biggest producer of brandy in India by volume, surpassing McDowells.', '', '7. HI TECH PIPES-', '', 'The stock hit its all-time high level today, up about 1.5% in trade. This comes in on the announcement of the board meet that will happen today. Fundraising through preferential issue of equity will be on the agenda of this meeting.', '', '8. PB FINTECH-', '', \"The stock had a spectacular day in trade today. On one hand, it gained because of the IRDAI's easing of insurance regulations. On the other, the stock had 1.6% of its total equity change hands in a block deal. Due to these reasons, the stock rallied in today's trading session.\", '', '9. APOLLO HOSPITALS-', '', 'A top Nifty gainer today, the stock was up about 5% on the back of a brokerage note. Credit Suisse maintained theor outperformance stance on the stock, setting the target price of the stock at Rs 5,100 as compared to the current market price of Rs 4,818 per share.', '', '10. OLECTRA GREENTECH-', '', 'Another solid gainer in trade, the stock was up about 10% today. Over 4,42,700 shares of the company changed hands in four separate block deals. This helped the stock cement strong gains on the street today.']\n"
          ]
        },
        {
          "output_type": "stream",
          "name": "stderr",
          "text": [
            "Some weights of the model checkpoint at yiyanghkust/finbert-pretrain were not used when initializing BertForMaskedLM: ['cls.seq_relationship.bias', 'cls.seq_relationship.weight']\n",
            "- This IS expected if you are initializing BertForMaskedLM from the checkpoint of a model trained on another task or with another architecture (e.g. initializing a BertForSequenceClassification model from a BertForPreTraining model).\n",
            "- This IS NOT expected if you are initializing BertForMaskedLM from the checkpoint of a model that you expect to be exactly identical (initializing a BertForSequenceClassification model from a BertForSequenceClassification model).\n",
            "Some weights of the model checkpoint at bert-base-uncased were not used when initializing BertModel: ['cls.predictions.bias', 'cls.seq_relationship.bias', 'cls.predictions.decoder.weight', 'cls.seq_relationship.weight', 'cls.predictions.transform.dense.bias', 'cls.predictions.transform.dense.weight', 'cls.predictions.transform.LayerNorm.weight', 'cls.predictions.transform.LayerNorm.bias']\n",
            "- This IS expected if you are initializing BertModel from the checkpoint of a model trained on another task or with another architecture (e.g. initializing a BertForSequenceClassification model from a BertForPreTraining model).\n",
            "- This IS NOT expected if you are initializing BertModel from the checkpoint of a model that you expect to be exactly identical (initializing a BertForSequenceClassification model from a BertForSequenceClassification model).\n"
          ]
        },
        {
          "output_type": "stream",
          "name": "stdout",
          "text": [
            "['By Alisha Houlihan for AMLi', '', 'The Slovak Republic has improved measures to combat money laundering (ML) and terrorist financing (TF), demonstrating “steady improvements” according to the EU’s AML body MONEYVAL.', '', 'In its latest report, MONEYVAL said the country had demonstrated “good progress” in the level of compliance with the Financial Action Task Force (FATF) standards.']\n"
          ]
        },
        {
          "output_type": "stream",
          "name": "stderr",
          "text": [
            "Some weights of the model checkpoint at yiyanghkust/finbert-pretrain were not used when initializing BertForMaskedLM: ['cls.seq_relationship.bias', 'cls.seq_relationship.weight']\n",
            "- This IS expected if you are initializing BertForMaskedLM from the checkpoint of a model trained on another task or with another architecture (e.g. initializing a BertForSequenceClassification model from a BertForPreTraining model).\n",
            "- This IS NOT expected if you are initializing BertForMaskedLM from the checkpoint of a model that you expect to be exactly identical (initializing a BertForSequenceClassification model from a BertForSequenceClassification model).\n",
            "Some weights of the model checkpoint at bert-base-uncased were not used when initializing BertModel: ['cls.predictions.bias', 'cls.seq_relationship.bias', 'cls.predictions.decoder.weight', 'cls.seq_relationship.weight', 'cls.predictions.transform.dense.bias', 'cls.predictions.transform.dense.weight', 'cls.predictions.transform.LayerNorm.weight', 'cls.predictions.transform.LayerNorm.bias']\n",
            "- This IS expected if you are initializing BertModel from the checkpoint of a model trained on another task or with another architecture (e.g. initializing a BertForSequenceClassification model from a BertForPreTraining model).\n",
            "- This IS NOT expected if you are initializing BertModel from the checkpoint of a model that you expect to be exactly identical (initializing a BertForSequenceClassification model from a BertForSequenceClassification model).\n"
          ]
        },
        {
          "output_type": "stream",
          "name": "stdout",
          "text": [
            "['']\n"
          ]
        },
        {
          "output_type": "stream",
          "name": "stderr",
          "text": [
            "Some weights of the model checkpoint at yiyanghkust/finbert-pretrain were not used when initializing BertForMaskedLM: ['cls.seq_relationship.bias', 'cls.seq_relationship.weight']\n",
            "- This IS expected if you are initializing BertForMaskedLM from the checkpoint of a model trained on another task or with another architecture (e.g. initializing a BertForSequenceClassification model from a BertForPreTraining model).\n",
            "- This IS NOT expected if you are initializing BertForMaskedLM from the checkpoint of a model that you expect to be exactly identical (initializing a BertForSequenceClassification model from a BertForSequenceClassification model).\n",
            "Some weights of the model checkpoint at bert-base-uncased were not used when initializing BertModel: ['cls.predictions.bias', 'cls.seq_relationship.bias', 'cls.predictions.decoder.weight', 'cls.seq_relationship.weight', 'cls.predictions.transform.dense.bias', 'cls.predictions.transform.dense.weight', 'cls.predictions.transform.LayerNorm.weight', 'cls.predictions.transform.LayerNorm.bias']\n",
            "- This IS expected if you are initializing BertModel from the checkpoint of a model trained on another task or with another architecture (e.g. initializing a BertForSequenceClassification model from a BertForPreTraining model).\n",
            "- This IS NOT expected if you are initializing BertModel from the checkpoint of a model that you expect to be exactly identical (initializing a BertForSequenceClassification model from a BertForSequenceClassification model).\n"
          ]
        },
        {
          "output_type": "stream",
          "name": "stdout",
          "text": [
            "['In this Black Friday Sale, you can grab the iPhone 13 at an insanely low price. Check out this Black Friday deal.', '', \"Black Friday Sale is just a day away! While offering massive price cuts, bank offers, and exchange deals on some popular gadgets, the Black Friday Sale is grabbing a lot of attention in the country. Vijay Sales too is hosting its Black Friday sale and has rolled out a bunch of deals on gadgets. One of these super-saving deals is on the iPhone 13, which can be purchased at just Rs. 59490. However, the deal doesn't end here, because you can avail of even more discount. Wondering how? Check here.\", '', 'iPhone 13 price cut', '', 'The iPhone 13, which is priced at Rs. 69900, is now available at Rs. 66990 after the discount on Vijay Sales. However, there are several bank offers that will further drop the price of the iPhone 13. So, with the maximum discount available on the HSBC credit card, you will be able to grab an additional Rs. 7500 off. This will help you get the smartphone for just Rs. 59490.', '', 'But it is the exchange offer that lets you grab this iPhone at an even cheaper price! However, there is no specifically fixed discount mentioned on the website that you can grab via an exchange deal. To help you get an idea, you can get an estimated discount of Rs. 35510 on a 64GB storage variant of the iPhone 12, if you want to trade that in for an iPhone 13. That means the iPhone 13 will cost you just 23980! Similarly, while exchanging an iPhone 11, you can get an additional discount of Rs. 26340.', '', 'Not sure which', '', 'mobile to buy?', '', 'However, you should note that the price of the discount will vary depending on brand, model, and condition of the phone that you exchange and getting the highest amount will be tough. So, before you trade-in, you will need to answer some specific questions to explain the condition of the smartphone. After going through all the checks, you will be able to know the exact amount of discount. But surely, you can own the iPhone 13 at an insanely low price!', '', 'Black Friday Sale unknown facts', '', 'Every year, people celebrate Black Friday after Thanksgiving day. And this year, it will be widely celebrated on November 25. However, it is marked as a shopping day for several reasons, such as it marks the unofficial start of the Christmas shopping season. However, the history of Black Friday dates back to the late 19th century, when the prices of gold plunged and created panic all over the security markets. It took a big toll of the economy of the United States.']\n"
          ]
        },
        {
          "output_type": "stream",
          "name": "stderr",
          "text": [
            "Some weights of the model checkpoint at yiyanghkust/finbert-pretrain were not used when initializing BertForMaskedLM: ['cls.seq_relationship.bias', 'cls.seq_relationship.weight']\n",
            "- This IS expected if you are initializing BertForMaskedLM from the checkpoint of a model trained on another task or with another architecture (e.g. initializing a BertForSequenceClassification model from a BertForPreTraining model).\n",
            "- This IS NOT expected if you are initializing BertForMaskedLM from the checkpoint of a model that you expect to be exactly identical (initializing a BertForSequenceClassification model from a BertForSequenceClassification model).\n",
            "Some weights of the model checkpoint at bert-base-uncased were not used when initializing BertModel: ['cls.predictions.bias', 'cls.seq_relationship.bias', 'cls.predictions.decoder.weight', 'cls.seq_relationship.weight', 'cls.predictions.transform.dense.bias', 'cls.predictions.transform.dense.weight', 'cls.predictions.transform.LayerNorm.weight', 'cls.predictions.transform.LayerNorm.bias']\n",
            "- This IS expected if you are initializing BertModel from the checkpoint of a model trained on another task or with another architecture (e.g. initializing a BertForSequenceClassification model from a BertForPreTraining model).\n",
            "- This IS NOT expected if you are initializing BertModel from the checkpoint of a model that you expect to be exactly identical (initializing a BertForSequenceClassification model from a BertForSequenceClassification model).\n"
          ]
        },
        {
          "output_type": "stream",
          "name": "stdout",
          "text": [
            "['live bse live', '', 'nse live Volume Todays L/H More ×', '', 'FSN E-Commerce Ventures, parent of the online beauty and personal products brand Nykaa, has experienced a tumultuous few weeks.', '', 'Discontent around the timing of its controversial bonus share issue aside, the stock has seen a barrage of selling by investors who put money in FSN prior to its November 2021 Initial Public Offering (IPO).', '', 'The end of the lock-in period for pre-IPO investors has seen them dump 71.3 million shares in the space of two weeks.', '', 'Also Read | Nykaa CFO Arvind Agarwal resigns', '', 'All the attention has been on the extent of selling in the stock, with the profile of the buyers going under the radar.', '', 'One buyer that has stood out is ICICI Prudential Mutual Fund, India’s second largest. ICICI Prudential MF has snapped up 11.1 million shares in FSN since November 10. That’s roughly 16 percent of the shares sold since the end of the lock-in period.', '', 'At the end of October, ICICI Prudential held roughly 2.1 million shares of Nykaa, which would became 12.8 million shares after adjusting for the 5-for-1 bonus share issue. By the end of this month, the mutual fund would have increased the number of shares it holds of the company by nearly 100 percent.', '', 'Buying the dip', '', 'ICICI Prudential MF has been consistently buying corrections in the stock since January. ICICI Prudential’s holding dipped to 280,232 shares in January from 571,416 shares the asset manager had purchased during Nykaa’s anchor allocation in October 2021 as it used the initial rally in the stock to book substantial profits.', '', 'In January-April, ICICI Prudential more than trebled its holding to 902,422 shares in the e-commerce firm and then more than doubled its holding to 2.1 million shares by October.', '', 'In January-October, Nykaa’s shares fell 45 percent amid concern over rich valuations of technology companies, the company’s large investments in fashion retail and some deterioration in earnings during the June quarter of 2022-23. The Nifty 500 index had risen over 2 percent in the same period.', '', \"With time, e-tailers should gain market share from offline retailers and Nykaa is the most dominant player in the BPC (beauty and personal care) space alongside Amazon, analysts said when asked on reasons for ICICI Prudential MF's attraction towards Nykaa.\", '', 'Some industry experts said per-capita spending on beauty and personal care products in India is among the lowest in the world. With rising disposable incomes, affluence and increasing participation of women in the workforce, discretionary spending on personal care products and fashion is likely to increase.', '', 'ICICI Prudential MF has had a glittering history of buying stocks against the cycle, which ended up paying rich dividends in the long-term. The mutual fund bet on the metal and power sector in 2019-20 when the consensus view was negative on those sectors, helping the asset manager reap handsome returns.', '', 'An official spokesperson for ICICI Prudential AMC declined to comment for this story.', '', 'Bullish in the long term', '', 'The sell-side on Dalal Street have been largely bullish on the prospects of the e-commerce beauty products company despite the near-term pressure on the stock, deterioration in earnings and stake sales by marque investors.', '', 'Of the 19 securities firms that cover Nykaa, 13 have a ‘buy’ rating on the stock in the belief that its long-term prospects remain intact despite the negative press it has received in recent weeks.', '', 'HSBC Securities and Capital Markets India, which has the highest price target of Rs 362 on Nykaa, in a recent note argued that investors were under-appreciating the structural growth opportunity in beauty and personal care products space.', '', 'HDFC Securities, one of only two firms with a ‘sell’ call on the company, has raised questions on whether Nykaa can even be considered a platform company, a tag that had enabled it to derive rich valuations.', '', '“In our view, Nykaa has the potential to be a hybrid, but as of now, it shares more characteristics with a busy, efficient, linear online pipeline than a platform,” Jay Gandhi of HDFC Securities wrote in a note earlier this month.', '', 'Overall, brokerages see an upside of as much as 50 percent in the stock over the next 12 months from the current market price, according to Bloomberg data.', '', 'At 0:45 am, shares of Nykaa were down 0.2 percent at Rs 171.40 on the National Stock Exchange.', '', 'The views and investment tips expressed by experts on Moneycontrol.com are their own and not those of the website or its management. Moneycontrol.com advises users to check with certified experts before taking any investment decisions.)']\n"
          ]
        },
        {
          "output_type": "stream",
          "name": "stderr",
          "text": [
            "Some weights of the model checkpoint at yiyanghkust/finbert-pretrain were not used when initializing BertForMaskedLM: ['cls.seq_relationship.bias', 'cls.seq_relationship.weight']\n",
            "- This IS expected if you are initializing BertForMaskedLM from the checkpoint of a model trained on another task or with another architecture (e.g. initializing a BertForSequenceClassification model from a BertForPreTraining model).\n",
            "- This IS NOT expected if you are initializing BertForMaskedLM from the checkpoint of a model that you expect to be exactly identical (initializing a BertForSequenceClassification model from a BertForSequenceClassification model).\n",
            "Some weights of the model checkpoint at bert-base-uncased were not used when initializing BertModel: ['cls.predictions.bias', 'cls.seq_relationship.bias', 'cls.predictions.decoder.weight', 'cls.seq_relationship.weight', 'cls.predictions.transform.dense.bias', 'cls.predictions.transform.dense.weight', 'cls.predictions.transform.LayerNorm.weight', 'cls.predictions.transform.LayerNorm.bias']\n",
            "- This IS expected if you are initializing BertModel from the checkpoint of a model trained on another task or with another architecture (e.g. initializing a BertForSequenceClassification model from a BertForPreTraining model).\n",
            "- This IS NOT expected if you are initializing BertModel from the checkpoint of a model that you expect to be exactly identical (initializing a BertForSequenceClassification model from a BertForSequenceClassification model).\n"
          ]
        },
        {
          "output_type": "stream",
          "name": "stdout",
          "text": [
            "[\"The funds will be used to expand the reach of ACS's rental and resale-enabling solution amid growing demand for circularity.\", '', 'Founded in 1997, ACS provides a complete rental, subscription and resale fulfilment service, managing the entire process for brands including Moss Bros Slaters Menswear, Monsoon, Marks & Spencer, Oasis, LK Bennett from its 19,000 sq ft facility, capable of storing more than three million clothing items and processing in excess of six million units per year.', '', \"ACS's partners include fashion rental platform Hirestreet, luxury resale platforms Reflant and Hardly Ever Worn It (HEWI) and ecommerce clothing subscription management tool CaaStle.\", '', 'ACS CEO Andrew Rough said: “I am delighted to partner with Circularity Capital, this strategic partnership recognises our objective of creating one of Europe’s largest circular fashion solutions providers specialising in clothing rental, subscription and resale.', '', '“Circularity has a proven track record in playing a proactive role in supporting the growth of circular businesses. Offering so much more than just finance, the organisation will prove pivotal in delivering our goal of helping more fashion businesses to embrace rental, subscription and resale models.”', '', 'Advertisement', '', 'Founded in 2015, Circularity Capital invests in European SMEs operating within the circular economy.', '', \"Circularity Capital founding partner Andrew Shannon said: “The average European throws away 11kg of textiles every year, and around the world a truckload of textiles is landfilled or incinerated every second [according to European Commission's Questions and Answers on EU Strategy for Sustainable and Circular Textiles, published 30 March 2020].\", '', '\"ACS provides the capabilities and processes to enable retailers to scale their rental, subscription and resale ambitions with ease, transforming the industry from a traditional take-make-dispose model to one of reuse and resale.\"', '', 'In February 2014, ACS received an £8.5m investment from the Business Growth Fund (BGF), backed by banks Barclays, HSBC, Lloyds, RBS and Standard Chartered.']\n"
          ]
        },
        {
          "output_type": "stream",
          "name": "stderr",
          "text": [
            "Some weights of the model checkpoint at yiyanghkust/finbert-pretrain were not used when initializing BertForMaskedLM: ['cls.seq_relationship.bias', 'cls.seq_relationship.weight']\n",
            "- This IS expected if you are initializing BertForMaskedLM from the checkpoint of a model trained on another task or with another architecture (e.g. initializing a BertForSequenceClassification model from a BertForPreTraining model).\n",
            "- This IS NOT expected if you are initializing BertForMaskedLM from the checkpoint of a model that you expect to be exactly identical (initializing a BertForSequenceClassification model from a BertForSequenceClassification model).\n",
            "Some weights of the model checkpoint at bert-base-uncased were not used when initializing BertModel: ['cls.predictions.bias', 'cls.seq_relationship.bias', 'cls.predictions.decoder.weight', 'cls.seq_relationship.weight', 'cls.predictions.transform.dense.bias', 'cls.predictions.transform.dense.weight', 'cls.predictions.transform.LayerNorm.weight', 'cls.predictions.transform.LayerNorm.bias']\n",
            "- This IS expected if you are initializing BertModel from the checkpoint of a model trained on another task or with another architecture (e.g. initializing a BertForSequenceClassification model from a BertForPreTraining model).\n",
            "- This IS NOT expected if you are initializing BertModel from the checkpoint of a model that you expect to be exactly identical (initializing a BertForSequenceClassification model from a BertForSequenceClassification model).\n"
          ]
        },
        {
          "output_type": "stream",
          "name": "stdout",
          "text": [
            "['New Delhi (India), November 24 (ANI/PNN): Avancer Consulting Services Private Limited, the Indian arm of Avancer Corp., a New Jersey, US- based leading provider of Identity and Access Management (IAM) solutions, is expanding its services in India, by providing consulting-based and value-added identity security and cybersecurity offerings.', '', \"Leveraging the technological expertise of Avancer Corp., Avancer Consulting is expanding into the Indian market to provide customised identity security solutions. With close to two decades of experience in the US market, Avancer's IAM experts are adept at addressing varied identity security challenges through the strategic deployment of the latest technological solutions and products.\", '', 'Avancer provides consulting-based solutions for key identity security challenges, aligning them with business goals and regulatory compliances. Some of the core offerings of the company include - User Provisioning, Role Management, Password Management, Access Recertification, Single-Sign-On (SSO), Multifactor Authentication (MFA), Customer Identity and Access Management (CIAM), Integration, Vulnerability Scanning, Penetration Testing, Assessment Services, Implementation Services, Migration & Upgrades, and Managed Services, among others. The company has extensive experience in servicing clients from the healthcare, financial services, manufacturing, retail, and telecommunication sectors, providing customer-centric technology to prevent data breaches, minimise cyber threats and enhance productivity and compliance.', '', 'As an integrator of identity and access management technology, the company has collaborated with various well- known technology providers including SailPoint, PingIdentity, Microsoft, CyberArk, Saviynt, and others. Some of the companies serviced by Avancer in the US include SBI, HSBC, WR Berkely, Mutual of America, Atlanticare Health System, Northwestern Memorial Hospital, and LA Philharmonic.', '', 'Organisations in the post-COVID era are shifting towards a hybrid workforce and faster digital transformation, which is resulting in managing users, access points, data, and applications as an overwhelming task for the in- house IT teams. This is providing gaps for hackers and people with malicious intent to target vulnerable systems and networks and poorly managed access controls, causing large-scale data breaches, ransomware, and malware attacks. Enterprises, especially those with minimal or inadequate identity security systems are becoming easy targets for cybercriminals. Further, along with cybercriminal activities, insider threat (including current employees, past employees, contractors, and vendors) has also emerged as a unique challenge in India, due to inadequate attention to access controls and govern identities using manual processes.', '', '', '', \"Identity security has, therefore, become a critical feature to help organisations minimise identity-related vulnerabilities and challenges for maintaining digital security posture in the post-COVID-19 world. In fact, the cloud-based IAM market is witnessing substantial growth in this region due to the advances in the integration of various applications and services in the cloud. Further, the market value of India's identity and access management products is estimated to cross INR 12 billion by 2025, as per Statista.\", '', '\"As the scope of identity security increases in the face of growing cybersecurity threats, adoption of remote working, reliance on cloud services and devices, it has also become imperative to have an agile and updated IAM platform. Such a platform enables users to access enterprise systems in a secure manner in any given environment, including multi-cloud and hybrid, multiple devices, remote work, and IT ecosystem. Further, in today\\'s post-COVID era, companies have found that identity security is able to provide multiple layers of protection that includes reducing risk, enhancing the experience of workers, and most importantly, automating IT processes,\" said Rajesh Mittal, Chief Technology Officer, Avancer Corp.', '', 'Stressing on the value-proposition of the company, Rajesh Mittal further said, \"While most IAM solution providers focus on solution-based (such as Zero Trust) or product-based (such as SailPoint or PingIdentity) services, at Avancer, we provide consulting-based solutions that address the key identity security challenges of an organisation, along with aligning them with the business goals and regulatory compliances that the organisation needs to adhere to, within the allocated budget and deadline.\"', '', \"With an aim to partner with Indian organisations to help them in their digital transformation journey in a secure manner, Avancer is extending its services in India with a focus on maximising a company's security program, along with optimising the company's ROI in IAM technology.\", '', 'For garnering higher footprints in India, Avancer is planning to invest around USD 5 million in the next five years. It has also hired Amros Consulting LLP, a New-Delhi based investment banking company, to collaborate in its expansion plans in India.', '', 'This story is provided by PNN. ANI will not be responsible in any way for the content of this article. (ANI/PNN)', '', '']\n"
          ]
        },
        {
          "output_type": "stream",
          "name": "stderr",
          "text": [
            "Some weights of the model checkpoint at yiyanghkust/finbert-pretrain were not used when initializing BertForMaskedLM: ['cls.seq_relationship.bias', 'cls.seq_relationship.weight']\n",
            "- This IS expected if you are initializing BertForMaskedLM from the checkpoint of a model trained on another task or with another architecture (e.g. initializing a BertForSequenceClassification model from a BertForPreTraining model).\n",
            "- This IS NOT expected if you are initializing BertForMaskedLM from the checkpoint of a model that you expect to be exactly identical (initializing a BertForSequenceClassification model from a BertForSequenceClassification model).\n",
            "Some weights of the model checkpoint at bert-base-uncased were not used when initializing BertModel: ['cls.predictions.bias', 'cls.seq_relationship.bias', 'cls.predictions.decoder.weight', 'cls.seq_relationship.weight', 'cls.predictions.transform.dense.bias', 'cls.predictions.transform.dense.weight', 'cls.predictions.transform.LayerNorm.weight', 'cls.predictions.transform.LayerNorm.bias']\n",
            "- This IS expected if you are initializing BertModel from the checkpoint of a model trained on another task or with another architecture (e.g. initializing a BertForSequenceClassification model from a BertForPreTraining model).\n",
            "- This IS NOT expected if you are initializing BertModel from the checkpoint of a model that you expect to be exactly identical (initializing a BertForSequenceClassification model from a BertForSequenceClassification model).\n"
          ]
        },
        {
          "output_type": "stream",
          "name": "stdout",
          "text": [
            "['The Bermuda National Trust [BNT] Christmas Walkabout is set to take place next Friday, December 2 in St George’s.', '', 'A spokesperson said, “St. George’s is the place to be on the evening of Friday 2 December to enjoy the magic of the Bermuda National Trust Christmas Walkabout in the World Heritage Site. For over 40 years, this highly anticipated event has signaled the start of the festive season in Bermuda.', '', '“BNT historic homes including Tucker House, The Old Rectory, Bridge House, Buckingham, Reeve Court and Stewart Hall will all be beautifully decorated and open free for the public to enjoy. Join us at the Globe Museum for some Christmas cheer, where you can also browse our Trustworthy Gift Shop.', '', 'Slideshow from the 2019 BNT Christmas Walkabout', '', '', '', '', '', '', '', '', '', '', '', '', '', '', '', '', '', '', '', '', '', '', '', '', '', '', '', '', '', '', '', '', '', '', '', '', '', '', '', '', '', '', '', '', '', '', '', '', '', '', '', '', '', '', '', '', '', '', '', '', '', '', '', '', '', '', '', '', '', '', '', '', '', '', '', '', '', '', '', '', '', '', '', '', '', '', '', '', '', '', '', '', '', '', '', '', '', '', '', '', '', '', '', '', '', '', '', '', '', '', '', '', '', '', '', '', '', '', '', '', '', '', '', '', '', '', '', '', '', '', '', '', '', '', '', '', '', '', '', '', '', '', '', '', '', '', '', '', '', '', '', '', '', '', '', '', '', '', '', '', '', '', '', '', '', '', '', '', '', '', '', '', '', '', '', '', '', '', '', '', '', '', '', '', '', '', '', '', '', '', '', '', '', '', '', '', '', '', '', '', '', '', '', '', '', '', '', '', '', '', '', '', '', '', '', '', '', '', '', '', '', '', '', '', '', '', '', '', '', '', '', '', '', '', '', '', '', '', '', '', '', '', '', '', '', '', '', '', '', '', '', '', '', '', '', '', '', '', '', '', '', '', '', '', '', '', '', '', '', '', '', '', '', '', '', '', '', '', '', '', '', '', '', '.', '', '“Many other buildings and cultural sites in the Old Town will also be open to the public and providing entertainment on the night, including St Peter’s Church, the St George’s Historical Society’s Mitchell House, Stella Maris Church, State House and more.', '', '“Musicians and dancers of all ages will entertain the crowds from the stage at King’s Square, with Town Crier E Michael Jones acting as MC for the evening.', '', '“Local shops will be open on the night, so you can get some Christmas shopping done too! When you need refreshment, there are several local eateries and bars to choose from or you can head over to Ordnance Island where there will be a food court featuring Four Star Pizza, Ashley’s Lemonade, De Graff’s food truck, Funnelicious and Casa Acores. Goslings will have a bar with festive cocktails on Ordnance Island and in the Globe Hotel garden, and an opportunity for wine tastings at various stations in the town.', '', '“The Bermuda National Trust could not hold this event without the generous support of our sponsors HSBC, Goslings, Butterfield & Vallis, the Department of Youth, Sport & Culture and Belco, as well as the support of the Corporation of St. George’s. We also appreciate the cooperation of our tenants. Last and not least, we are hugely grateful to the many community groups and individuals who so kindly volunteer their time to make the evening a success.', '', 'Parking and shuttle buses', '', '“There will be no parking in central St George’s. On-street parking restrictions will be strictly enforced by police.', '', '“The public are advised to park at Kindley Field where there will be three free shuttle buses running on a loop to and from St George’s from 5:00pm to 9:30pm.', '', '“Pre-Paid Parking will be available at Tiger Bay/Penno’s Wharf for $20 per car. Click here to purchase a ticket. Tickets will be scanned at the barrier to the Tiger Bay/Penno’s Wharf area. Only those with valid tickets [on paper or on phone] or a valid Disabled Persons Badge will be allowed vehicle access.', '', '“Parking is also available free at East End Primary, with a free shuttle into town, and at St George’s Prep for a donation to the PTA. Limited spaces are available and these lots will likely be filled by 5:30pm. After that time, parking at Kindley Field is advised.', '', 'For more information, please email palmetto@bnt.bm.', '', 'Read More About', '', 'Category: All, Entertainment, News']\n"
          ]
        },
        {
          "output_type": "stream",
          "name": "stderr",
          "text": [
            "Some weights of the model checkpoint at yiyanghkust/finbert-pretrain were not used when initializing BertForMaskedLM: ['cls.seq_relationship.bias', 'cls.seq_relationship.weight']\n",
            "- This IS expected if you are initializing BertForMaskedLM from the checkpoint of a model trained on another task or with another architecture (e.g. initializing a BertForSequenceClassification model from a BertForPreTraining model).\n",
            "- This IS NOT expected if you are initializing BertForMaskedLM from the checkpoint of a model that you expect to be exactly identical (initializing a BertForSequenceClassification model from a BertForSequenceClassification model).\n",
            "Some weights of the model checkpoint at bert-base-uncased were not used when initializing BertModel: ['cls.predictions.bias', 'cls.seq_relationship.bias', 'cls.predictions.decoder.weight', 'cls.seq_relationship.weight', 'cls.predictions.transform.dense.bias', 'cls.predictions.transform.dense.weight', 'cls.predictions.transform.LayerNorm.weight', 'cls.predictions.transform.LayerNorm.bias']\n",
            "- This IS expected if you are initializing BertModel from the checkpoint of a model trained on another task or with another architecture (e.g. initializing a BertForSequenceClassification model from a BertForPreTraining model).\n",
            "- This IS NOT expected if you are initializing BertModel from the checkpoint of a model that you expect to be exactly identical (initializing a BertForSequenceClassification model from a BertForSequenceClassification model).\n"
          ]
        },
        {
          "output_type": "stream",
          "name": "stdout",
          "text": [
            "['']\n"
          ]
        },
        {
          "output_type": "stream",
          "name": "stderr",
          "text": [
            "Some weights of the model checkpoint at yiyanghkust/finbert-pretrain were not used when initializing BertForMaskedLM: ['cls.seq_relationship.bias', 'cls.seq_relationship.weight']\n",
            "- This IS expected if you are initializing BertForMaskedLM from the checkpoint of a model trained on another task or with another architecture (e.g. initializing a BertForSequenceClassification model from a BertForPreTraining model).\n",
            "- This IS NOT expected if you are initializing BertForMaskedLM from the checkpoint of a model that you expect to be exactly identical (initializing a BertForSequenceClassification model from a BertForSequenceClassification model).\n",
            "Some weights of the model checkpoint at bert-base-uncased were not used when initializing BertModel: ['cls.predictions.bias', 'cls.seq_relationship.bias', 'cls.predictions.decoder.weight', 'cls.seq_relationship.weight', 'cls.predictions.transform.dense.bias', 'cls.predictions.transform.dense.weight', 'cls.predictions.transform.LayerNorm.weight', 'cls.predictions.transform.LayerNorm.bias']\n",
            "- This IS expected if you are initializing BertModel from the checkpoint of a model trained on another task or with another architecture (e.g. initializing a BertForSequenceClassification model from a BertForPreTraining model).\n",
            "- This IS NOT expected if you are initializing BertModel from the checkpoint of a model that you expect to be exactly identical (initializing a BertForSequenceClassification model from a BertForSequenceClassification model).\n"
          ]
        },
        {
          "output_type": "stream",
          "name": "stdout",
          "text": [
            "['Something went wrong, please try again later.', '', 'Invalid email Something went wrong, please try again later.', '', 'The council is set to build a public loo in Scunthorpe town centre, provided it receives planning approval.', '', 'Government cash has been secured for a Changing Places toilet. It is proposed to be set up just outside HSBC on Wells Street.', '', 'Changing Places facilities are designed to be accessible for disabled people and include specialist equipment such as an overhead hoist, a height-adjustable changing bench, and a rise and fall sink. There are already 12 such existing facilities dotted across North Lincolnshire. They have 12 sq metre internal floor space, are built fully off-site and can be installed within half a day.', '', \"Read more: North Lincolnshire Council set for overspend despite 'pro-active action' in summer improving outlook\", '', 'It will cost about £63,000, based on the quote the council has received for the work from Innova Care Concepts. The company installed the same facility in August at the Edinburgh Castle Esplanade. Externally, the toilet will be made up of timber effect composite with powder-coated steel feature strips in dark grey.', '', 'The proposals have been welcomed by a Scunthorpe headteacher. Jonathan Kenyon, acting head of St Hugh\\'s School, has commented on the application: \"Speaking on behalf of the St Hugh\\'s school community, it is imperative that this receives the approval it requires and that the local community and authority invest their time, efforts and resources into providing even more of these facilities.\"', '', 'The 2011 demolition of a multi-storey car park removed WC facilities in the vicinity of the proposed new loo. This was also followed in 2019 when Scunthorpe Market and its loos went too.', '', \"The only other comment made by a member of the public so far has welcomed the plans for the toilet, but questioned its location given the proximity to Starbucks' toilets. Public consultation on the proposed loo ends on November 30.\", '', \"Can't see the link to sign up to our three times a week Scunthorpe newsletter below? Click here.\", '', 'Set up in 2005, the Changing Places Consortium, made up of Pamis, Muscular Dystrophy UK and Centre for Accessible Environments (CAE), campaigns for all UK public venues to have such a facility. A register of Changing Places toilets throughout the UK is kept by the group online.', '', \"So far, there are more than 1,700 Changing Places sites listed. These include in Broughton, Brigg, Scunthorpe, Normanby, Winterton and the Waters' Edge Country Park.\", '', 'Read next:']\n"
          ]
        },
        {
          "output_type": "stream",
          "name": "stderr",
          "text": [
            "Some weights of the model checkpoint at yiyanghkust/finbert-pretrain were not used when initializing BertForMaskedLM: ['cls.seq_relationship.bias', 'cls.seq_relationship.weight']\n",
            "- This IS expected if you are initializing BertForMaskedLM from the checkpoint of a model trained on another task or with another architecture (e.g. initializing a BertForSequenceClassification model from a BertForPreTraining model).\n",
            "- This IS NOT expected if you are initializing BertForMaskedLM from the checkpoint of a model that you expect to be exactly identical (initializing a BertForSequenceClassification model from a BertForSequenceClassification model).\n",
            "Some weights of the model checkpoint at bert-base-uncased were not used when initializing BertModel: ['cls.predictions.bias', 'cls.seq_relationship.bias', 'cls.predictions.decoder.weight', 'cls.seq_relationship.weight', 'cls.predictions.transform.dense.bias', 'cls.predictions.transform.dense.weight', 'cls.predictions.transform.LayerNorm.weight', 'cls.predictions.transform.LayerNorm.bias']\n",
            "- This IS expected if you are initializing BertModel from the checkpoint of a model trained on another task or with another architecture (e.g. initializing a BertForSequenceClassification model from a BertForPreTraining model).\n",
            "- This IS NOT expected if you are initializing BertModel from the checkpoint of a model that you expect to be exactly identical (initializing a BertForSequenceClassification model from a BertForSequenceClassification model).\n"
          ]
        },
        {
          "output_type": "stream",
          "name": "stdout",
          "text": [
            "['']\n"
          ]
        },
        {
          "output_type": "stream",
          "name": "stderr",
          "text": [
            "Some weights of the model checkpoint at yiyanghkust/finbert-pretrain were not used when initializing BertForMaskedLM: ['cls.seq_relationship.bias', 'cls.seq_relationship.weight']\n",
            "- This IS expected if you are initializing BertForMaskedLM from the checkpoint of a model trained on another task or with another architecture (e.g. initializing a BertForSequenceClassification model from a BertForPreTraining model).\n",
            "- This IS NOT expected if you are initializing BertForMaskedLM from the checkpoint of a model that you expect to be exactly identical (initializing a BertForSequenceClassification model from a BertForSequenceClassification model).\n",
            "Some weights of the model checkpoint at bert-base-uncased were not used when initializing BertModel: ['cls.predictions.bias', 'cls.seq_relationship.bias', 'cls.predictions.decoder.weight', 'cls.seq_relationship.weight', 'cls.predictions.transform.dense.bias', 'cls.predictions.transform.dense.weight', 'cls.predictions.transform.LayerNorm.weight', 'cls.predictions.transform.LayerNorm.bias']\n",
            "- This IS expected if you are initializing BertModel from the checkpoint of a model trained on another task or with another architecture (e.g. initializing a BertForSequenceClassification model from a BertForPreTraining model).\n",
            "- This IS NOT expected if you are initializing BertModel from the checkpoint of a model that you expect to be exactly identical (initializing a BertForSequenceClassification model from a BertForSequenceClassification model).\n"
          ]
        },
        {
          "output_type": "stream",
          "name": "stdout",
          "text": [
            "['The Modi administration will present its final comprehensive budget before the 2024 general elections in a few months. As Nirmala Sitharaman , the finance minister releases the fiscal plan for what is expected to be a turbulent year for the world economy, all eyes will be on her. The main concern for everyone is whether or not the government would implement income tax reductions. Making a selection won’t be simple. Industry group CII has pushed for income tax reductions to increase disposable incomes at a time when the recession in advanced economies will sap some of the momenta for domestic growth, especially because exports are slowing.', '', 'HSBC economists recently stated in a note that they anticipate the balance of worries to tip in favor of growth as it slows over the upcoming quarters. They anticipate raising the repo rate by 50 basis points in December, followed by a protracted pause. India’s economic growth is expected to be 5.9% in the following calendar year, according to Goldman Sachs, as a result of lower consumer demand as a result of higher borrowing costs. With global growth picking up, the momentum will return in the second half.', '', 'The flip side that will be on the FM’s mind is the stubborn inflation that is finally showing signs of easing, even though cutting income tax will put more money in people’s hands to spend and support economic growth. Spending more money puts inflation at risk.', '', 'Since May, the RBI has increased interest rates by 190 basis points, and it is anticipated that it would do so again in its December policy. For October, retail inflation slowed to around 7%. One of the main causes of inflation, commodity prices will decrease during a recession in advanced economies. However, the Russia-Ukraine war is far from over, and supply chains are in flux, so there is still a high level of uncertainty regarding the future of the global economy. Any deviation from the course of inflation control will be a dangerous wager.', '', 'The relative superior performance of India in comparison to its counterparts in terms of inflation and GDP would also have an impact on the choice of any tax adjustments. Despite dire predictions for the global economy, India is seen as a shining example. Kristalina Georgieva, the head of the IMF, recently praised India as a shining example of the global economy and emphasized how structural reforms have fueled India’s growth momentum.', '', 'The second half of the current fiscal will be crucial in terms of the uncertain global environment and its impact on India, according to Ritika Chhabra, an economist and quant analyst at Prabhudas Lilladher. If the government opts for a tax cut, it will affect its ability to spend on capital expenditures.', '', '“Any reduction in personal income tax rates indicated in the next budget is quite doubtful. Despite this year’s direct and indirect tax receipts being strong thus far, the second half will be crucial due to the uncertain state of the global economy and its implications on the Indian economy “said Chhabra.', '', 'The prospects for India will be improved by the situation in the rural areas. A decrease in rural demand has been caused by increasing inflation. Consumer non-durables have consistently signaled rural distress by being in the red. However, since it is anticipated to increase incomes, a healthy Rabi crop sowing bodes well for rural demand. Once the harvest is available on the market the following year, cereal inflation is likely to decline.', '', 'On the strength of a good harvest and a reduction in inflation brought on by falling commodity prices globally, FMCG companies are also optimistic about a recovery in demand in rural areas. The upcoming Budget will also mention measures to increase spending while taking into account rural distress. Social programs may be expanded. “The federal government continues to place a high focus on encouraging the early investment cycle through continuing increases in public capital expenditure. Additionally, while several metrics point to urban India’s relative prosperity, the same cannot be said about rural India.', '', 'Consequently, it may be necessary to increase expenditure on the rural economy, including the expansion of social programs. This demand that revenue momentum is maintained, “Anand Rathi Shares and Stock Brokers’ Chief Economist and Executive Director, Sujan Hajra, said. He believes that personal income taxpayers won’t see much relief from the upcoming Budget. According to him, “the buoyancy in such tax collection also gives the impression that the relatively better-off portion of the population is doing well and direct tax sops may not be needed right away.”', '', 'The FM will bear in mind how crucial it is to keep the economy moving toward fiscal reduction. On the strength of strong tax receipts, India is predicted to meet the planned fiscal deficit target of 6.4% for FY23. According to a report by BofA Securities, higher-than-anticipated nominal GDP growth will keep the fiscal gap at 6.4% of GDP. Any reduction in income taxes will make the fiscal calculations more difficult at a time when India’s sound economic fundamentals are probably acting as a magnet for international capital flows.', '', '“The government’s fiscal consolidation initiatives would gain more credibility if it could resist the temptation to announce a populist measure like tax cuts,” Chhabra continued. Cutting taxes won’t be an easy choice in the wake of global uncertainties, even though the government will want to increase consumer spending to boost demand.', '', 'India will modify its capital gains tax in its upcoming budget.', '', 'India is to make adjustments to its capital gains tax system in the next budget to achieve parity between tax rates and holding periods for investments in equity, debt, and real estate. According to an official involved in the process who spoke on the condition of anonymity, asset classes are currently not taxed equally and have different holding periods for levying capital gains tax, which needs to be aligned.', '', 'The industry has submitted several proposals to the government that would streamline the capital gains tax system, and the official predicted changes would be included in the Budget for 2023–2024 without going into further detail due to the nature of the discussions. India levies an investment gain tax based on a holding period or lock-in. Long-term investments, defined as those held for more than a year, are subject to a 10% tax on gains exceeding 100,000 rupees. Equity investments held for less than a year are regarded as short-term and are subject to a 15% tax.', '', 'While an investment in debt-oriented funds qualifies for the long-term categorization, which levies a 20% tax rate on gains, if held for at least two years, immovable property, such as land, do not. Short-term investments in real estate are taxed at the individual income tax rate since they are held for less than two years.', '', 'Industry group CII made various recommendations to finance Minister Nirmala Sitharaman, including the creation of jobs, the rationalization of GST, and the use of personal income tax slabs to increase consumption. To provide economic development an investment-driven boost, privatization and increased capital spending were the main topics of discussion at the pre-budget meeting, which CII attended. The external situation is probably going to stay bad for a while. Therefore, to increase domestic demand, inclusion, and growth, we must broaden the base of our domestic economy by fostering the creation of new growth sectors and jobs.', '', 'The government could consider an urban employment guarantee scheme and launch a pilot in metro cities first in this Budget to increase job creation, according to the CII. “Corporate tax rates should be kept at their current levels moving forward to give businesses tax certainty. The CII president declared that “more simplicity, rationalization, the convenience of paying taxes, and minimizing tax litigation should be a significant priority.”', '', 'The government should examine an urban employment guarantee plan and launch a trial in metro cities first in this Budget to increase job creation, according to the CII. “Corporate tax rates should be kept at their current levels moving forward to give businesses tax certainty. The CII president declared that “further simplification, rationalization, ease of paying taxes, and reducing tax litigation should be key priorities.” Almost on Monday, the industry group PHDCCI gave the finance minister its budgetary recommendations.', '', 'It proposed a five-pronged strategy to revive private investments through actions to increase consumption, boost job creation, increase factory capacity utilization, improve the standard of social infrastructure, and quicken India’s economic growth. “The presentation of the Union Budget for 2023–2024 comes at a critical time of geopolitical unpredictability, rising inflation, and sluggish global economic development.', '', 'edited and proofread by nikita sharma']\n"
          ]
        },
        {
          "output_type": "stream",
          "name": "stderr",
          "text": [
            "Some weights of the model checkpoint at yiyanghkust/finbert-pretrain were not used when initializing BertForMaskedLM: ['cls.seq_relationship.bias', 'cls.seq_relationship.weight']\n",
            "- This IS expected if you are initializing BertForMaskedLM from the checkpoint of a model trained on another task or with another architecture (e.g. initializing a BertForSequenceClassification model from a BertForPreTraining model).\n",
            "- This IS NOT expected if you are initializing BertForMaskedLM from the checkpoint of a model that you expect to be exactly identical (initializing a BertForSequenceClassification model from a BertForSequenceClassification model).\n",
            "Some weights of the model checkpoint at bert-base-uncased were not used when initializing BertModel: ['cls.predictions.bias', 'cls.seq_relationship.bias', 'cls.predictions.decoder.weight', 'cls.seq_relationship.weight', 'cls.predictions.transform.dense.bias', 'cls.predictions.transform.dense.weight', 'cls.predictions.transform.LayerNorm.weight', 'cls.predictions.transform.LayerNorm.bias']\n",
            "- This IS expected if you are initializing BertModel from the checkpoint of a model trained on another task or with another architecture (e.g. initializing a BertForSequenceClassification model from a BertForPreTraining model).\n",
            "- This IS NOT expected if you are initializing BertModel from the checkpoint of a model that you expect to be exactly identical (initializing a BertForSequenceClassification model from a BertForSequenceClassification model).\n"
          ]
        },
        {
          "output_type": "stream",
          "name": "stdout",
          "text": [
            "['- Advertisement -', '', 'Amazon Offers: Here are amazing deals almost every day on Amazon, which means more discounts on products on regular days. and all the products are authentic. We will be getting the newly released Boat Airdopes Atom 81 at a very good discount. If you are looking for wireless earbuds and waiting for the perfect offer, this is for you. And we know that Boat has already dominated the earbud market by offering high-quality earbuds at a lower price, and its customer base is rapidly expanding as a result of its excellent customer service and products.', '', 'Specifications of Boat Airdopes Atom 41', '', 'Playback Up to 50HRS Drivers 13mm Bluetooth Version v5.3 IP Rating IPX5 water resistance Touch Controls and Voice Assistant Yes', '', 'Also Read: Virat Kohli: Run Machine is “BACK” as he trains hard while showing off his muscular body before IND vs BAN | Watch video', '', 'Discounts and offers on Boat Airdopes Atom 41', '', 'The real price of the airdops is 4490 rupees, but you are getting it for just 1200, which is flat 71% off. You are saving around 3000 rupees on this deal, and it is hard to get such a deal anywhere else. You might regret it if you lose it, so grab it as soon as you can. You might get the price a bit lower if you apply for some bank offers.', '', 'Also Read: New Zealand clinches top spot in ICC ODI rankings, India continues its same spot', '', 'Bank offers on Boat Airdopes Atom 41', '', 'As the price of this product is very low, there is only one bank offer applicable to it. An exchange offer isn’t available, but you can get a 5% instant discount up to 250 rupees if you use the HSBC Cashback Credit Card.', '', 'Disclaimer: (This information is provided solely for informational purposes. It is important to note that investing in the market or a business idea involves market risks. Before investing money as an investor/ owner/ partner, always consult an expert. DNP News Network Private Limited never advises to invest money on stocks or any specific business idea. We will not be liable for any financial losses.)', '', 'Keep watching our YouTube Channel ‘DNP INDIA’. Also, please subscribe and follow us on FACEBOOK, INSTAGRAM, and TWITTER']\n"
          ]
        },
        {
          "output_type": "stream",
          "name": "stderr",
          "text": [
            "Some weights of the model checkpoint at yiyanghkust/finbert-pretrain were not used when initializing BertForMaskedLM: ['cls.seq_relationship.bias', 'cls.seq_relationship.weight']\n",
            "- This IS expected if you are initializing BertForMaskedLM from the checkpoint of a model trained on another task or with another architecture (e.g. initializing a BertForSequenceClassification model from a BertForPreTraining model).\n",
            "- This IS NOT expected if you are initializing BertForMaskedLM from the checkpoint of a model that you expect to be exactly identical (initializing a BertForSequenceClassification model from a BertForSequenceClassification model).\n",
            "Some weights of the model checkpoint at bert-base-uncased were not used when initializing BertModel: ['cls.predictions.bias', 'cls.seq_relationship.bias', 'cls.predictions.decoder.weight', 'cls.seq_relationship.weight', 'cls.predictions.transform.dense.bias', 'cls.predictions.transform.dense.weight', 'cls.predictions.transform.LayerNorm.weight', 'cls.predictions.transform.LayerNorm.bias']\n",
            "- This IS expected if you are initializing BertModel from the checkpoint of a model trained on another task or with another architecture (e.g. initializing a BertForSequenceClassification model from a BertForPreTraining model).\n",
            "- This IS NOT expected if you are initializing BertModel from the checkpoint of a model that you expect to be exactly identical (initializing a BertForSequenceClassification model from a BertForSequenceClassification model).\n"
          ]
        },
        {
          "output_type": "stream",
          "name": "stdout",
          "text": [
            "['The Business Disability Forum is looking for organisations that are using or have created technologies to change the lives of disabled people for its Disability Smart Awards 2023, which is open for nominations on 1 December.', '', 'The awards are free to enter and open to UK and global organisations of any size in any sector.', '', 'From global leaders and D&I practitioners, innovative campaigners and change-making influencers to product develops, the Disability Smart Awards give organisations the opportunity share their work and to inspire others.', '', 'Advertisement | Continue story below', '', 'There are 10 Disability Smart award categories this year. These include Disability Smart Technology, Accessible Built Environment and Inclusive Workplace Experience. There is also a new award for this year – Disability Smart Inclusive Product Design.', '', 'Business Disability Forum is looking for an organisation which has used technology to improve the life opportunities and experiences of disabled people, in the workplace, as a consumer or in wider society.', '', 'This might be through an innovative use of existing technology or through the development of a new digital or assistive technology product that has been created within the last 18 months.', '', 'The Disability Smart Technology Award is one of 10 disability smart categories for 2023. The full list of awards is as follows:', '', 'Disability Smart Diversity and Inclusion Professional Disability Smart Leader Disability Smart Technology Disability Smart Inclusive Workplace Experience Disability Smart Inclusive Recruitment Disability Smart Inclusive Communication Disability Smart Inclusive Customer Service Disability Smart Accessible Built Environment Disability Smart Learning and Development Disability Smart Inclusive Product Design', '', 'There are three additional awards for organisations registered for the Government’s Disability Confident employer scheme. These are for Mental Health and Wellbeing at Work, Impact and Small Business.', '', 'Last year’s winners included, Unilever, Skipton Building Society, University of Warwick, HSBC, Microsoft, Oliver James, Signly, GSK, KPMG, and British Land.', '', 'The awards open for entries on 1 December and nominees are encouraged to visit here for further information and to find out how to enter. The closing date for all nominations is 5pm (GMT) on Thursday 19 January 2023. Winners will be announced at an awards ceremony on 27 April.', '', 'Business Disability Forum is the leading business membership organisation in disability inclusion. It works with business, Government and disabled people to improve the life experiences of disabled employees and consumers, by removing barriers to inclusion.', '', 'Earlier this month, the Business Disability Forum published a new range of free resources aimed at providing people with sight loss, employers, healthcare professionals and businesses with a practical guide to sight loss.', '', \"THIIS ROUND-UP Join the 2,500+ mobility professionals who stay informed with THIIS' twice-weekly industry updates. We respect your privacy\"]\n"
          ]
        },
        {
          "output_type": "stream",
          "name": "stderr",
          "text": [
            "Some weights of the model checkpoint at yiyanghkust/finbert-pretrain were not used when initializing BertForMaskedLM: ['cls.seq_relationship.bias', 'cls.seq_relationship.weight']\n",
            "- This IS expected if you are initializing BertForMaskedLM from the checkpoint of a model trained on another task or with another architecture (e.g. initializing a BertForSequenceClassification model from a BertForPreTraining model).\n",
            "- This IS NOT expected if you are initializing BertForMaskedLM from the checkpoint of a model that you expect to be exactly identical (initializing a BertForSequenceClassification model from a BertForSequenceClassification model).\n",
            "Some weights of the model checkpoint at bert-base-uncased were not used when initializing BertModel: ['cls.predictions.bias', 'cls.seq_relationship.bias', 'cls.predictions.decoder.weight', 'cls.seq_relationship.weight', 'cls.predictions.transform.dense.bias', 'cls.predictions.transform.dense.weight', 'cls.predictions.transform.LayerNorm.weight', 'cls.predictions.transform.LayerNorm.bias']\n",
            "- This IS expected if you are initializing BertModel from the checkpoint of a model trained on another task or with another architecture (e.g. initializing a BertForSequenceClassification model from a BertForPreTraining model).\n",
            "- This IS NOT expected if you are initializing BertModel from the checkpoint of a model that you expect to be exactly identical (initializing a BertForSequenceClassification model from a BertForSequenceClassification model).\n"
          ]
        },
        {
          "output_type": "stream",
          "name": "stdout",
          "text": [
            "['“It’s completely mad that I have to employ people like that as police officers.”', '', 'The Met Police chief has slammed a “perverse” and “completely mad” situation in which he is unable to sack around a hundred officers who the force doesn’t trust to talk to the public.', '', 'Sir Mark Rowley said: “I’ve got about 100 officers in the organisation who have very restrictive conditions on them because frankly we don’t trust them to talk to members of the public.', '', 'Advertisement', '', '“It’s completely mad that I have to employ people like that as police officers who you can’t trust to have contact with the public. It’s ridiculous.”', '', 'Advertisement', '', 'The commissioner made the shocking comments on BBC Radio 4’s Today programme this morning (Thursday, November 24).', '', 'He told presenter Nick Robinson: “....I’ve got tens of thousands of great officers who are doing amazing things day in and day out for London. But I have hundreds of people who are letting us down and who I’m trying to sort out.”', '', 'New Met Police chief Sir Mark Rowley. Photo: Met Police', '', 'Advertisement', '', 'Sir Mark was appointed in the wake of a series of scandals that saw Dame Cressida Dick exit the force after mayor Sadiq Khan lost confidence in her leadership.', '', 'These included the abduction, rape and murder of Sarah Everard by serving armed officer Wayne Couzens, the racist and misogynistic conduct of some officers at Charing Cross police station, and outrage over the photographing of dead sisters Bibaa Henry and Nicole Smallman.', '', 'Advertisement', '', 'Sir Mark, who Mr Khan has described as a “reforming commissioner”, said the force was getting “more assertive and creative” in its responses to rogue police and looking again at “powers to move more quickly against officers who we shouldn’t have”.', '', 'Asked whether he was able to fire any of those officers, he replied: “We’re looking at whether we’ve got any new legal levers, but on the conventional approaches we can’t.', '', '“It’s perverse, isn’t it.”', '', 'Protests after the death of Sarah Everard. Photo: Getty', '', 'Advertisement', '', 'He added that he was unable to fully deploy more than 10% of the Met’s workforce, due to a range of reasons from health issues, suspensions and restrictions due to misconduct cases.', '', 'Advertisement', '', '“There’s over 500 who are suspended or restricted because of misconduct investigations,” he told the BBC.', '', '“And then there’s too many who for a whole range of reasons have restrictions who we need to get tougher on because that’s more than 10% of my workforce I can’t fully deploy.', '', '“It’s not just an integrity issue - it actually goes to the ability to serve the public if you’re restricted in how you can deploy your resources when we’re very busy.”', '', 'Sir Mark Rowley has been announced as the Met Police’s new commissioner', '', 'The commissioner previously warned the force has 3,000 officers it cannot fully deploy due to injuries, mental health issues or inadequate performance.', '', 'Advertisement', '', 'Advertisement', '', 'Several investigations are ongoing into the force, including the Baroness Louise Casey standards review and the Dame Elish Angiolini inquiry into the Sarah Everard murder.', '', 'While a shock report by HM Inspectorate of Constabulary, Fire and Rescue Services (HMICFRS) into police vetting and misconduct raised concerns about the Met.', '', 'The inspectorate has already placed the force into special measures due to its failing performance and found officers who should have failed vetting were allowed to join.', '', 'Sir Mark Rowley, the new Metropolitan Police Commissioner, has vowed to improve the force’s response to burglaries. (Photo: Getty)', '', 'Sir Mark’s warning came amid more than 100 arrests in the UK’s biggest ever fraud operation as officers shut down an international cyber crime site.', '', 'Advertisement', '', 'The Met said over 200,000 potential victims in the UK alone had been targeted by iSpoof - which scammers used to impersonate banks and con victims out of tens of millions.', '', 'Advertisement', '', 'Barclays, Santander, HSBC, Lloyds, Halifax, First Direct, Natwest, Nationwide and TSB customers all fell victim to the fraud, with scammers stealing £3.2m in less than two years.', '', 'Met cyber crime officers led the investigation alongside Europol, Dutch police and the FBI.', '', 'The Met is asking anyone who believes they were contacted as part of a scam where a number was spoofed to report this online via Action Fraud.', '', 'Advertisement', '', 'A spokesperson said: “We are actively contacting those numbers this week asking owners to visit our website for more information and to report any fraud losses online.']\n"
          ]
        },
        {
          "output_type": "stream",
          "name": "stderr",
          "text": [
            "Some weights of the model checkpoint at yiyanghkust/finbert-pretrain were not used when initializing BertForMaskedLM: ['cls.seq_relationship.bias', 'cls.seq_relationship.weight']\n",
            "- This IS expected if you are initializing BertForMaskedLM from the checkpoint of a model trained on another task or with another architecture (e.g. initializing a BertForSequenceClassification model from a BertForPreTraining model).\n",
            "- This IS NOT expected if you are initializing BertForMaskedLM from the checkpoint of a model that you expect to be exactly identical (initializing a BertForSequenceClassification model from a BertForSequenceClassification model).\n",
            "Some weights of the model checkpoint at bert-base-uncased were not used when initializing BertModel: ['cls.predictions.bias', 'cls.seq_relationship.bias', 'cls.predictions.decoder.weight', 'cls.seq_relationship.weight', 'cls.predictions.transform.dense.bias', 'cls.predictions.transform.dense.weight', 'cls.predictions.transform.LayerNorm.weight', 'cls.predictions.transform.LayerNorm.bias']\n",
            "- This IS expected if you are initializing BertModel from the checkpoint of a model trained on another task or with another architecture (e.g. initializing a BertForSequenceClassification model from a BertForPreTraining model).\n",
            "- This IS NOT expected if you are initializing BertModel from the checkpoint of a model that you expect to be exactly identical (initializing a BertForSequenceClassification model from a BertForSequenceClassification model).\n"
          ]
        },
        {
          "output_type": "stream",
          "name": "stdout",
          "text": [
            "['In this article, we discuss 12 best Asian stocks to buy heading into 2023. If you want to see more stocks in this selection, check out 5 Best Asian Stocks To Buy Heading Into 2023.', '', \"On November 21, Citigroup became increasingly bullish on Chinese equities, upgrading Hong Kong to Overweight in Asia, noting that Beijing’s changes in Covid Zero policies should boost earnings. Similarly, the government's support to elevate the property sector will support Chinese stocks as well. President Xi Jinping’s rigid policies have shifted, which has turned the market in New York and London bullish on Asia. Robert Buckland, a strategist at Citi, wrote in a note on November 20:\", '', '“Reopening — along with support for the property sector — should help stabilize the current China EPS downturn and support investor sentiment. China could offer an attractive domestic-driven recovery story even as other major economies are slowing sharply.”', '', 'Similarly, Morgan Stanley, which has been cautious about the Asian region for most of this year, raised its estimates for China’s stocks last week, forecasting the MSCI China Index to rally 14% by the conclusion of next year. Bank of America has also become optimistic about China, where some primary equity gauges lost more than a third of their value this year through October, making them the world’s biggest losers.', '', 'JPMorgan Chase moved even quicker than the other Wall Street experts, naming the Chinese market downturn a buying opportunity in late October. This is a massive shift from JPMorgan’s “uninvestable” tag for Chinese internet firms at the beginning of 2022. Some of the best Chinese stocks to buy for 2023 include Alibaba Group Holding Limited (NYSE:BABA), JD.com, Inc. (NASDAQ:JD), and Pinduoduo Inc. (NASDAQ:PDD).', '', 'Our Methodology', '', 'We selected the following Chinese stocks based on positive analyst coverage, strong business fundamentals, and future growth prospects. We have assessed the hedge fund sentiment from Insider Monkey’s database of 920 elite hedge funds tracked as of the end of the third quarter of 2022.', '', 'Story continues', '', '12 Best Asian Stocks To Buy Heading into 2023', '', 'Photo by buian_photos on Unsplash', '', 'Best Asian Stocks To Buy Heading into 2023', '', '12. Tencent Music Entertainment Group (NYSE:TME)', '', 'Number of Hedge Fund Holders: 17', '', \"Tencent Music Entertainment Group (NYSE:TME) is headquartered in Shenzhen, China, and it operates online music entertainment platforms to provide music streaming, online karaoke, and live streaming services in the People's Republic of China. On November 15, Tencent Music Entertainment Group (NYSE:TME) reported a Q3 non-GAAP EPADS of $0.12 and a revenue of $1.04 billion, outperforming Wall Street estimates by $0.02 and $49.33 million, respectively. Gross margin for the third quarter of 2022 rose by 3.0% to 32.6% from 29.6% in the same period of 2021.\", '', 'On November 22, JPMorgan analyst Alex Yao upgraded Tencent Music Entertainment Group (NYSE:TME) to Overweight from Neutral with a price target of $7.70, up from $4.80. The analyst noted that online music \"has finally become a key financial driver\" for the company, given a \"multi-dimensional monetization model and efficiency improvement.\" The analyst now forecasts Tencent Music Entertainment Group (NYSE:TME) to report mid-to-high double-digit earnings growth in the next three quarters.', '', 'According to Insider Monkey’s data, 17 hedge funds were long Tencent Music Entertainment Group (NYSE:TME) at the end of Q3 2022, compared to 14 funds in the prior quarter. John Overdeck and David Siegel’s Two Sigma Advisors is the largest stakeholder of the company, with 6.5 million shares worth $26.5 million.', '', 'Like Alibaba Group Holding Limited (NYSE:BABA), JD.com, Inc. (NASDAQ:JD), and Pinduoduo Inc. (NASDAQ:PDD), Tencent Music Entertainment Group (NYSE:TME) is one of the best Asian stocks to buy heading into 2023.', '', 'Bireme Capital made the following comment about Tencent Music Entertainment Group (NYSE:TME) in its Q3 2022 investor letter:', '', '“We made a few material trades in the quarter. First, we sold our stake in Tencent Music Entertainment Group (NYSE:TME), which we wrote about in our “CIO Corner” newsletter. We sold our stake primarily because of the massive underperformance of TME’s “Social Entertainment” segment. That portion of the business, which operates primarily through a group karaoke app called WeSing, lost 27% of its users during the year that we owned the stock. This seems to have been caused primarily by competition from other streaming platforms, such as TikTok (Douyin in China), a risk which we underestimated. Since this segment produces essentially all of TME’s profits, the loss of users had a dramatic impact on our valuation of the business. Secondarily, we had expected growth of Average Revenue Per User (ARPU) in their music subscription business, in which TME has 70% share in China. Despite this near monopoly, competition from upstart NetEase Cloud Music has been fierce. Over the last year, NetEase gained material market share by offering discounts of 15-20% off the standard 8 RMB monthly price. TME has been forced to respond in kind, and TME’s ARPU fell 11% YoY in the second quarter. With users falling dramatically in Social Entertainment and ARPU growth in question in Online Music, there was simply nothing left to support our original bullish stance on the stock. Even the fall from $6 at the end of 2021 to $4 per share in July was not enough to compensate for this change in our assessed value, so we sold our position.”', '', '11. Kanzhun Limited (NASDAQ:BZ)', '', 'Number of Hedge Fund Holders: 19', '', \"Kanzhun Limited (NASDAQ:BZ) is a Beijing-based company that operates an online recruitment platform, BOSS Zhipin, in the People's Republic of China. Its recruitment platform facilitates the recruitment process between job candidates and employers. It is one of the best Chinese stocks to invest in. In the first week of November, Kanzhun Limited (NASDAQ:BZ) stock jumped from the decliners list to land the top spot among the week's winners.\", '', \"On November 14, Goldman Sachs analyst Timothy Zhao upgraded Kanzhun Limited (NASDAQ:BZ) to Buy from Neutral but trimmed the price target to $23 from $27.50. Kanzhun Limited (NASDAQ:BZ) owns China's biggest online recruitment platform, Boss Zhipin, and the analyst believes the company reached an inflection point in Q3. He forecasts accelerating revenue growth and a sequential cash billings increase over the next 12-18 months.\", '', 'According to Insider Monkey’s Q3 data, 19 hedge funds were long Kanzhun Limited (NASDAQ:BZ), compared to 25 funds in the earlier quarter. Chase Coleman’s Tiger Global Management is the largest stakeholder of the company, with 17.8 million shares worth close to $301 million.', '', '10. Li Auto Inc. (NASDAQ:LI)', '', 'Number of Hedge Fund Holders: 20', '', \"Li Auto Inc. (NASDAQ:LI) was founded in 2015 and is headquartered in Beijing, China. The company designs, develops, manufactures, and commercializes new energy vehicles in the People's Republic of China. On November 1, Li Auto Inc. (NASDAQ:LI) announced that it has delivered 10,052 vehicles in October 2022, up 31.4% year-over-year. The cumulative deliveries of Li Auto vehicles reached 221,067 as of the end of October.\", '', \"On October 28, Barclays analyst Jiong Shao maintained an Overweight rating on Li Auto Inc. (NASDAQ:LI) but lowered the price target on the shares to $25 from $40. The analyst updated estimates and 12-month price targets for all the Chinese tech and internet companies under the firm's observation heading into year-end 2022.\", '', 'According to Insider Monkey’s third quarter database, Li Auto Inc. (NASDAQ:LI) was part of 20 hedge fund portfolios, compared to 28 in the prior quarter. Jim Simons’ Renaissance Technologies is the largest stakeholder of the company, with 12.4 million shares worth $285.7 million.', '', 'Number of Hedge Fund Holders: 24', '', \"NetEase, Inc. (NASDAQ:NTES) is headquartered in Hangzhou, China, and the company provides online services consisting of diverse content, community, communication, and commerce in the Peoples' Republic of China and internationally. The company operates through Online Game Services, Youdao, Cloud Music, and Innovative Businesses and Others segments. NetEase, Inc. (NASDAQ:NTES) is one of the best Chinese stocks to consider. On November 17, NetEase, Inc. (NASDAQ:NTES) reported a Q3 non-GAAP EPADS of $1.61, which outperformed Wall Street estimates by $0.56. The gross profit was $1.9 billion, an increase of 16.4% compared to the third quarter of 2021.\", '', 'On November 18, Citi analyst Alicia Yap raised the price target on NetEase, Inc. (NASDAQ:NTES) to $100 from $98 and kept a Buy rating on the shares. The company reported \"solid\" Q3 results and has strong self-development capability and cash flow generation, the analyst told investors in a research note.', '', 'According to Insider Monkey’s data, 24 hedge funds were bullish on NetEase, Inc. (NASDAQ:NTES) at the end of September 2022, compared to 26 funds in the prior quarter. William B. Gray’s Orbis Investment Management is the largest stakeholder of the company, with 3.6 million shares worth $274.6 million.', '', '8. ZTO Express (Cayman) Inc. (NYSE:ZTO)', '', 'Number of Hedge Fund Holders: 24', '', \"ZTO Express (Cayman) Inc. (NYSE:ZTO) is a Shanghai-based provider of express delivery and other value-added logistics services in the People's Republic of China, serving e-commerce and traditional merchants. On November 17, ZTO Express (Cayman) Inc. (NYSE:ZTO) announced that it will pursue voluntary conversion to dual-primary listing on the Main Board of the Hong Kong Stock Exchange.\", '', 'On November 21, ZTO Express (Cayman) Inc. (NYSE:ZTO) announced that its board of directors authorized the increase in its share repurchase program to $1.5 billion from $1 billion. The company also stretched the time of the share buyback by one year until June 30, 2024.', '', 'HSBC analyst Parash Jain on November 23 maintained a Buy recommendation on ZTO Express (Cayman) Inc. (NYSE:ZTO) but trimmed the price target on the shares to $33 from $36. Despite COVID-19 constraints, ZTO Express (Cayman) Inc. (NYSE:ZTO) experienced quicker volume growth in Q3 and also reiterated higher EBIT per parcel versus peers, supported by its economies of scale and better service quality, though volume guidance for 2022 was lowered due to the disruptions, the analyst wrote in a research note.', '', 'According to the third quarter database of Insider Monkey, 24 hedge funds were long ZTO Express (Cayman) Inc. (NYSE:ZTO), compared to 17 funds in the prior quarter. Kerr Neilson’s Platinum Asset Management is the largest stakeholder of the company, with nearly 16 million shares worth $382.4 million.', '', '7. H World Group Limited (NASDAQ:HTHT)', '', 'Number of Hedge Fund Holders: 29', '', \"H World Group Limited (NASDAQ:HTHT) is one of the best Chinese stocks to monitor. It is a Shanghai-based company that develops leased, owned, and franchised hotels primarily in the People's Republic of China. On October 25, H World Group Limited (NASDAQ:HTHT) reported that third quarter's revenue per available room (RevPAR) rebounded to 90% of the 2019 level in Legacy-Huazhu business due to the pent-up leisure traveling demand in the summer holidays.\", '', 'On October 27, Daiwa analyst Carlton Lai upgraded H World Group Limited (NASDAQ:HTHT) to Buy from Outperform with a price target of $34, down from $43. The analyst sees a \"compelling valuation\" after the latest share price correction. He believes the present share price reflects limited improvement in China\\'s 2023 RevPAR, but his base case remains that China will see a gradual reopening beginning in mid-2023.', '', 'According to Insider Monkey’s data, 29 hedge funds were bullish on H World Group Limited (NASDAQ:HTHT) at the end of September 2022, compared to 30 funds in the prior quarter.', '', '6. KE Holdings Inc. (NYSE:BEKE)', '', 'Number of Hedge Fund Holders: 41', '', \"KE Holdings Inc. (NYSE:BEKE) is a Beijing-based company that focuses on operating an integrated online and offline platform for housing transactions and services in the People's Republic of China. The company operates through three segments – Existing Home Transaction Services, New Home Transaction Services, and Emerging and Other Services.\", '', \"On October 28, investment advisory Barclays raised the firm's price target on the shares to $27 from $26 and kept an Overweight rating on the shares. Analyst Jiong Shao issued the ratings update.\", '', 'According to Insider Monkey’s Q3 data, 41 hedge funds were long KE Holdings Inc. (NYSE:BEKE), compared to 37 funds in the prior quarter. The collective stakes in Q3 increased to $1.65 billion from $1.62 billion in Q2 2022.', '', 'In addition to Alibaba Group Holding Limited (NYSE:BABA), JD.com, Inc. (NASDAQ:JD), and Pinduoduo Inc. (NASDAQ:PDD), KE Holdings Inc. (NYSE:BEKE) is one of the most significant Chinese stocks to buy and hold for next year.', '', 'Here is what Tao Value has to say about KE Holdings Inc. (NYSE:BEKE) in its Q3 2021 investor letter:', '', '“As witnessed in the past quarter, the government intervention in the Chinese private sector is elevated to an unprecedented level. Given this background, I thoroughly reviewed all our Chinese holdings and made a few changes. We exited KE holdings (ticker: BEKE), for high potential regulatory risk and the passing of the visionary founder & CEO Zuo Hui (who was a core tenet of our original thesis).”', '', 'Click to continue reading and see 5 Best Asian Stocks To Buy Heading Into 2023. Suggested articles:', '', 'Disclosure: None. 12 Best Asian Stocks To Buy Heading Into 2023 is originally published on Insider Monkey.']\n"
          ]
        },
        {
          "output_type": "stream",
          "name": "stderr",
          "text": [
            "Some weights of the model checkpoint at yiyanghkust/finbert-pretrain were not used when initializing BertForMaskedLM: ['cls.seq_relationship.bias', 'cls.seq_relationship.weight']\n",
            "- This IS expected if you are initializing BertForMaskedLM from the checkpoint of a model trained on another task or with another architecture (e.g. initializing a BertForSequenceClassification model from a BertForPreTraining model).\n",
            "- This IS NOT expected if you are initializing BertForMaskedLM from the checkpoint of a model that you expect to be exactly identical (initializing a BertForSequenceClassification model from a BertForSequenceClassification model).\n",
            "Some weights of the model checkpoint at bert-base-uncased were not used when initializing BertModel: ['cls.predictions.bias', 'cls.seq_relationship.bias', 'cls.predictions.decoder.weight', 'cls.seq_relationship.weight', 'cls.predictions.transform.dense.bias', 'cls.predictions.transform.dense.weight', 'cls.predictions.transform.LayerNorm.weight', 'cls.predictions.transform.LayerNorm.bias']\n",
            "- This IS expected if you are initializing BertModel from the checkpoint of a model trained on another task or with another architecture (e.g. initializing a BertForSequenceClassification model from a BertForPreTraining model).\n",
            "- This IS NOT expected if you are initializing BertModel from the checkpoint of a model that you expect to be exactly identical (initializing a BertForSequenceClassification model from a BertForSequenceClassification model).\n"
          ]
        },
        {
          "output_type": "stream",
          "name": "stdout",
          "text": [
            "['Stock Market HIGHLIGHTS: Dream end of November series for domestic stock markets as S&P BSE Sensex and Bank Nifty ended at life time highs while NSE NIfty50 managing a lifetime high closing at 18,484.10, inches away from an all time high of 18,604 which this broader market index hit on 19 October 2021. Sensex closed at 62,272.68 gaining 762.10 points or 1.24 per cent after scaling 62,412.33 in the intraday trade. Banks & financial services and energy stocks did the trick for the benchmark indices.', '', 'Here are top highlights of the day:', '', '1) In Nifty50, 44 stocks advanced, 5 declined while 1 remained unchanged. The top gainers were Apollo Hospitals, HDFC Life, BPCL, Infosys and Tata Consumers while the top losers were Cipla, Coal India, Bajaj Finserv, Kotak Bank, Bajaj Finance and Hero MotoCorp.', '', '2) Bulls started strong riding on positive sentiments from major markets and only strengthened their grip on the street as the session progressed. The FOMC meeting minutes which suggeted that there was a consensus on reducing the extent of rate hikes in the US, acted as a trigger that the markets needed.', '', '3) All but 1 Nifty sectoral indices ended the day in the green. Nifty Financial Services 25/50 was the top gainer and was up 1.30 per cent. Nifty Bank (+0.81 per cent) and Nifty Oil & Gas (+1.09 per cent) were other top performing sectoral benchmarks. Nifty Consumer Durables was lone loser with minor declines.', '', '4) INDIA VIX, a measure of volatility in Nifty closed at 13.48, down 4.02 per cent.', '', '5) There was stock specific action in broader markets as well, with Nifty Mid Cap 100 and Nifty Small Cap 100 settling at 31,289.25 (+0.44 per cent) and 9,740.65 respectively. Policy Bazaar, GSPL and PFC were the top gainers in among mid caps while Vodafone Idea, SunTV and prestige among top losers.', '', '6) In the small cap segment Redington, MRPL and BCG gained the most while GNFC, NBCC and Deepak Fertilisers were top losers. In the 100-stock index 57 advanced, 42 declined while 1 stock remained unchanged.', '', \"Read More: Buy, Sell or Hold Delhivery: How stock is placed fundamentally and technically? Check expert's view, price target\", '', '7) On BSE, out of 3,635 stocks which traded today, advances were 1,935, declines were 1,570 while 150 stocks remained unchanged. 134 stocks hit their 52-week highs while 65, their 52 week lows.', '', '8) Singapore-base SGX Nifty, an early indicator of movement in NIfty50 was trading at 18,668, up 184 or 1 per cent while Dow 30 Futures were trading at 34,276, up 81.90 points or 0.24 per cent.', '', '9) Keystone Realtors stock which was listed today at a premium from the issue price of Rs 541 ended at Rs 556.80 on the NSE and was up by Rs 15.80 or 2.92 per cent from the issue price.', '', 'Read More: HDFC Bank vs ICICI Bank vs Axis Bank vs Indusind Bank: Which stock offers more value for your buck?', '', '10) The rupee appreciated 30 paise to close at 81.63 (provisional) against the US dollar on Thursday as a weak greenback in the overseas market and a rally in domestic equities boosted investor sentiments.', '', 'Forex traders said the dollar fell in international trade post the weak US data and dovish Fed minutes. At the interbank foreign exchange market, the local unit opened at 81.72 and touched an intra-day high of 81.60 and a low of 81.77 against the greenback. The local unit finally settled at 81.63, registering a rise of 30 paise over its previous close. On Wednesday, the rupee depreciated 26 paise to close at 81.93 against the US currency. PTI', '', '11) US markets will remain closed today on account of Thanksgiving while there will a truncated session tomorrow on account of Black Friday sales.', '', 'All this and much more - catch all the UPDATES here!']\n"
          ]
        },
        {
          "output_type": "stream",
          "name": "stderr",
          "text": [
            "Some weights of the model checkpoint at yiyanghkust/finbert-pretrain were not used when initializing BertForMaskedLM: ['cls.seq_relationship.bias', 'cls.seq_relationship.weight']\n",
            "- This IS expected if you are initializing BertForMaskedLM from the checkpoint of a model trained on another task or with another architecture (e.g. initializing a BertForSequenceClassification model from a BertForPreTraining model).\n",
            "- This IS NOT expected if you are initializing BertForMaskedLM from the checkpoint of a model that you expect to be exactly identical (initializing a BertForSequenceClassification model from a BertForSequenceClassification model).\n",
            "Some weights of the model checkpoint at bert-base-uncased were not used when initializing BertModel: ['cls.predictions.bias', 'cls.seq_relationship.bias', 'cls.predictions.decoder.weight', 'cls.seq_relationship.weight', 'cls.predictions.transform.dense.bias', 'cls.predictions.transform.dense.weight', 'cls.predictions.transform.LayerNorm.weight', 'cls.predictions.transform.LayerNorm.bias']\n",
            "- This IS expected if you are initializing BertModel from the checkpoint of a model trained on another task or with another architecture (e.g. initializing a BertForSequenceClassification model from a BertForPreTraining model).\n",
            "- This IS NOT expected if you are initializing BertModel from the checkpoint of a model that you expect to be exactly identical (initializing a BertForSequenceClassification model from a BertForSequenceClassification model).\n"
          ]
        },
        {
          "output_type": "stream",
          "name": "stdout",
          "text": [
            "['- Advertisement -', '', 'Amazon Offers: This winter, Amazon is offering an incredible discount on a variety of electric home appliances. Because of this, we have found the best option for you that will give you the greatest amount of saving. The INALSA OFR Room heater is currently available for a price that is significantly lower than normal.', '', 'Before discussing the discount and offer you know the brief information about INALSA OFR Room heater.', '', 'Only the noise of the turbo fan can be heard when the INALSA OFR room heater is running, which isn’t very loud. It’s easy to use and comes with safety features like overheat protection, which stops the heater from getting too hot and turns it off automatically.', '', 'It has castle wheels that make it easy to move from one place to another. It also has three knobs for choosing the right amount of heat.', '', 'Also read: Amazon Offers: Save Rs.54191 On Lenovo E41-55 AMD, Here Is Everything You Need To Know Before Buying This Laptop', '', 'Details of INALSA OFR Room heater', '', 'Item model number \\u200eWARME 11 Weight 9 kg Dimensions 57.4 x 15 x 60.6 Centimeters Generic Name WARME 11 Color Grey Heating Method Convection Heat sections 3', '', 'Also read: Realme 8s Vs Oppo A75 5G: Comparisons Can Confuse Unless Done Methodically, Read On To Pick Up The Best', '', 'Discounts and offers on INALSA OFR Room heater', '', 'The actual price of this INALSA OFR room heater is Rs. 16695, but you can get it for just Rs. 6575. That’s a great deal, so don’t miss it. At this price, the company is offering a very good room heater, which is hard to find these days. If you apply for bank offers, you can get an even better deal.', '', 'Get a 10% discount right away on a OneCard Credit Card, up to Rs. 1250.', '', 'Get an instant discount of 5% up to INR 250 when you use your HSBC Cashback Card credit card. Minimum purchase value INR 1000', '', 'This room heater can also be bought with no-cost EMI. There are two plans. The first plan is for 3 months and costs Rs 2,192 per month. The second plan is for 6 months, and it costs Rs 1,096 per month.', '', 'Disclaimer: (This information is provided solely for informational purposes. It is important to note that investing in the market or a business idea involves market risks. Before investing money as an investor/ owner/ partner, always consult an expert. DNP News Network Private Limited never advises to invest money on stocks or any specific business idea. We will not be liable for any financial losses.)', '', 'Keep watching our YouTube Channel ‘DNP INDIA’. Also, please subscribe and follow us on FACEBOOK, INSTAGRAM, and TWITTER']\n"
          ]
        },
        {
          "output_type": "stream",
          "name": "stderr",
          "text": [
            "Some weights of the model checkpoint at yiyanghkust/finbert-pretrain were not used when initializing BertForMaskedLM: ['cls.seq_relationship.bias', 'cls.seq_relationship.weight']\n",
            "- This IS expected if you are initializing BertForMaskedLM from the checkpoint of a model trained on another task or with another architecture (e.g. initializing a BertForSequenceClassification model from a BertForPreTraining model).\n",
            "- This IS NOT expected if you are initializing BertForMaskedLM from the checkpoint of a model that you expect to be exactly identical (initializing a BertForSequenceClassification model from a BertForSequenceClassification model).\n",
            "Some weights of the model checkpoint at bert-base-uncased were not used when initializing BertModel: ['cls.predictions.bias', 'cls.seq_relationship.bias', 'cls.predictions.decoder.weight', 'cls.seq_relationship.weight', 'cls.predictions.transform.dense.bias', 'cls.predictions.transform.dense.weight', 'cls.predictions.transform.LayerNorm.weight', 'cls.predictions.transform.LayerNorm.bias']\n",
            "- This IS expected if you are initializing BertModel from the checkpoint of a model trained on another task or with another architecture (e.g. initializing a BertForSequenceClassification model from a BertForPreTraining model).\n",
            "- This IS NOT expected if you are initializing BertModel from the checkpoint of a model that you expect to be exactly identical (initializing a BertForSequenceClassification model from a BertForSequenceClassification model).\n"
          ]
        },
        {
          "output_type": "stream",
          "name": "stdout",
          "text": [
            "['Black Friday Sale is on! Check out this interesting deal on Apple MacBook Air on Vijay Sales.', '', 'The massive Black Friday Sale 2022 is now at all physical stores and websites too and this includes Vijay Sales. It is offering interesting deals and offers on a wide range of Smartphones, Home Appliances, Laptops, Smartwatches, and much more. Apple fans can check out some of the premium laptops and iPhones with interesting discounts. If you are waiting to get a new laptop then know that now you can grab a MacBook at a much lower price than before. All you need to do is visit the Vijay Sales website and check this massive discount on the MacBook Air laptop.', '', 'Apple MacBook Air M1 chip price', '', 'Vijay Sales announced some interesting deals on Apple MacBooks. One of these interesting ones is the Apple MacBook Air with M1 chipset. This is a 2020 model. However, the massive price cut and offers make this an amazing deal. Vijay Sales is offering a flat Rs. 9910 off from its retail price of Rs. 99900. That means with a discount of 10 percent, it will cost you Rs. 89990. On top of it, you can get additional discounts with bank offers to get the best deal.', '', 'Apple MacBook Air with bank offers', '', 'There is an instant discount of 10% up to Rs. 1000 on Non-EMI transactions for Rupay Credit Cards holders. RBL Bank Credit Card holders get a 5% instant discount of up to Rs. 2000 on EMI & Non-EMI transactions above Rs. 15000. AU Small Finance Bank card holders can get a 10% Instant Discount up to Rs. 2000 on Credit and Debit Card.', '', 'Not sure which', '', 'laptop to buy?', '', 'There are some EMI options too along with massive card offers. There is an instant discount of 7.5% up to Rs. 7500 on EMI transactions with HSBC Credit Cards on minimum purchase of Rs. 20000 & above. YES Bank Credit Holders can avail of an instant discount of 5% up to Rs. 2000 on EMI transactions of Rs. 15000 and above. Bank of Baroda Credit Card Holders gets an instant discount of 5% up to Rs. 2500 on EMI transactions of Rs. 40000 and above. AU Small Finance Bank Card Holders can avail 10% Instant Discount up to Rs. 3000 on Credit Card EMI transactions', '', 'With the maximum discount of card offers and a price cut, the Apple MacBook Air with an M1 chip will cost you just Rs. 82400.', '', 'Apple MacBook Air 2020 specs', '', 'At this price, the MacBook Air 2020 features a 13.3-inch IPS LED display with 2560 x 1600 pixels and 400 nits of brightness. It packs an Apple M1 chip 8-core CPU with 4 perform\\xadance cores and 4 efficiency cores.']\n"
          ]
        },
        {
          "output_type": "stream",
          "name": "stderr",
          "text": [
            "Some weights of the model checkpoint at yiyanghkust/finbert-pretrain were not used when initializing BertForMaskedLM: ['cls.seq_relationship.bias', 'cls.seq_relationship.weight']\n",
            "- This IS expected if you are initializing BertForMaskedLM from the checkpoint of a model trained on another task or with another architecture (e.g. initializing a BertForSequenceClassification model from a BertForPreTraining model).\n",
            "- This IS NOT expected if you are initializing BertForMaskedLM from the checkpoint of a model that you expect to be exactly identical (initializing a BertForSequenceClassification model from a BertForSequenceClassification model).\n",
            "Some weights of the model checkpoint at bert-base-uncased were not used when initializing BertModel: ['cls.predictions.bias', 'cls.seq_relationship.bias', 'cls.predictions.decoder.weight', 'cls.seq_relationship.weight', 'cls.predictions.transform.dense.bias', 'cls.predictions.transform.dense.weight', 'cls.predictions.transform.LayerNorm.weight', 'cls.predictions.transform.LayerNorm.bias']\n",
            "- This IS expected if you are initializing BertModel from the checkpoint of a model trained on another task or with another architecture (e.g. initializing a BertForSequenceClassification model from a BertForPreTraining model).\n",
            "- This IS NOT expected if you are initializing BertModel from the checkpoint of a model that you expect to be exactly identical (initializing a BertForSequenceClassification model from a BertForSequenceClassification model).\n"
          ]
        },
        {
          "output_type": "stream",
          "name": "stdout",
          "text": [
            "['Now in their sixth year, these awards continue to have a vital role to play in helping accelerate the pace of change towards a more diverse and inclusive investment industry.', '', 'Our winners received their awards at a ceremony at The Brewery in London on 23 November, hosted by comedians Lucy Porter and Emmanuel Sonubi.', '', \"Investment Week was also pleased to support the charity Women's Aid on the night, which is a grassroots federation working together to provide life-saving services in England and build a future where domestic abuse is not tolerated.\", '', 'Winning entries', '', \"Investment Week had a phenomenal response to this year's awards with a record number of nominations, so to make the finalists' list was a real achievement.\", '', 'Our nominees had to fill in a questionnaire giving further details about their careers, achievements and impact to support their entry. Our judging panel, drawn from across the investment industry, then decided on the finalists and winners.', '', 'In particular, we welcomed entries for two new categories this year: Diversity & Inclusion Champion of the Year and Investment Industry Diversity & Inclusion Initiative of the Year.', '', 'Our first joint winners of the Diversity & Inclusion Champion of the Year Award were Laura Wheeler from Capital Group and Anne-Marie McConnon from BNY Mellon Investment Management.', '', 'The judges said Laura is an unsung hero who has made a big impact across many areas, including important work leading discussions on the bamboo ceiling.', '', \"They also wanted to recognise the impact of Anne-Marie's work leading a campaign to make investment more inclusive and promote investing to women around the world.\", '', \"Meanwhile, in a very tight category, the judges gave the winner's trophy to reboot as the first winner of the Investment Industry Diversity & Inclusion Initiative of the Year. They said this initiative has had an impressive impact over a short time. Its creators have been innovative in making a difference via role modelling and leveraging the media to spread the message. This initiative can really help facilitate dialogue between decision- and change-makers and those facing inequality.\", '', 'In other categories, Simona Paravani-Mellinghoff from BlackRock was a double winner on the night, taking home accolades for Role Model of the Year and Investment Woman of the Year (large firms).', '', 'The judges described Simona simply as \"a superwoman\" and they were in awe of how she can fit it all in, including writing books, teaching, mentorship, advocacy and delivering in her day job. In particular, they said she is a visible and important role model for young women.', '', 'Outstanding Contribution Award', '', \"The judges also wanted to recognise the inspirational work of Brenda Trenowden CBE, who was the winner of this year's Outstanding Contribution to the Industry Award. Brenda sadly passed away earlier this year and we welcomed her husband Mark to collect the award on her behalf.\", '', 'During her career in finance, Brenda worked tirelessly to campaign for opportunities for all, during a time when diversity and inclusion were definitely not as high on the corporate agenda as they are today.', '', 'She was actively involved with the 30% Club since its launch in 2010 and became chair of the UK chapter in 2015. In 2019, while working for PWC UK as a partner, she became global co-chair.', '', \"Brenda set a deadline for the campaign's initial aim of 30% women on the boards of the FTSE 100 by 2020 and her hard work and campaigning paid off when this target was achieved early in September 2019.\", '', \"Brenda's dedication to promoting gender diversity in business was recognised in the Queen's Birthday Honours List in 2018 when she was made CBE.\", '', 'Our judges said that as chair of the 30% Club, Brenda did a huge amount for women in the industry cross-sector, but also by chairing the Investor Group she was able to champion better and vital female representation within the investment industry too.', '', 'To read more about the Women in Investment Awards 2022, visit the event website.', '', 'Congratulations to all our winners!', '', 'Winners of the Women in Investment Awards 2022', '', 'Distribution Woman of the Year', '', 'Winner: Wendy Appleton, Pictet Asset Management', '', 'Diversity and Inclusion Champion of the Year', '', 'Joint winners: Laura Wheeler, Capital Group and Anne-Marie McConnon, BNY Mellon Investment Management', '', 'Fund Manager of the Year (large firms)', '', 'Winner: Christine Baalham, Ninety One', '', 'Fund Manager of the Year (small to medium firms)', '', 'Winner: Chantana Ward, Comgest', '', 'Highly commended: Maria Lozovik, Marsham Investment Management', '', 'Fund Saleswoman of the Year', '', 'Winner: Katherine Dockreay, Schroders', '', 'Highly commended: Jane Russell, Comgest', '', 'Fund Selector of the Year', '', 'Winner: Diane Earnshaw, Square Mile Investment Consulting and Research', '', 'Highly commended: Alena Kosava, AJ Bell', '', 'International Investment Woman of the Year', '', 'Winner: Robyn Grew, Man Group', '', 'Investment Analyst of the Year', '', 'Winner: Arita Sehgal, Ninety One', '', 'Investment Industry Contribution to Diversity & Inclusion', '', 'Winner: Border to Coast Pensions Partnership', '', 'Investment Industry Contribution to Gender Diversity & Inclusion', '', 'Winner: Fidelity International', '', 'Highly commended: Fisher Investments UK', '', 'Highly commended: Man Group', '', 'Investment Industry Diversity & Inclusion Initiative of the Year', '', 'Winner: Noreen Biddle Shah, Numis, Lydia Cambata, BlueBay, Brandon Bhatti, Hume Brophy, Lawrence Heming, Morgan Stanley, FTI Consulting, Citigate, Opinium, Coleman Parkes: reboot.', '', 'Highly commended: Jayne Styles, Diversity Project: Inclusive culture guide for CEOs', '', \"Highly commended: Diversity Project's #TalkaboutBlack workstream: The Skills Workshop\", '', 'Investment Industry Leader of the Year', '', 'Winner: Wei Li, BlackRock', '', 'Highly Commended: Carol Ward, Man Group', '', 'Investment Woman of the Year (large firms)', '', 'Winner: Simona Paravani-Mellinghoff, BlackRock', '', 'Highly Commended: Neo Mooki, abrdn', '', 'Investment Woman of the Year (small to medium firms)', '', 'Winner: Holly Mackay, Boring Money', '', 'Marketing Influencer of the Year', '', 'Winner: Erica Whyte, Charles Stanley', '', 'Mentor of the Year', '', 'Winner: Jennifer Davidson, LCP', '', 'Most Inspiring Returner', '', 'Winner: Charlotte Woodward, EdenTree Investment Management', '', 'Highly commended: Selina Tyler, Lombard Odier Investment Managers', '', 'Rising Star of the Year (large firms)', '', 'Winner: Jess Foulds, Aviva Investors', '', 'Rising Star of the Year (small to medium firms)', '', 'Winner: Eleanor Davidson, Aspect Capital', '', 'Role Model of the Year', '', 'Winner: Simona Paravani-Mellinghoff, BlackRock', '', 'Sustainable and ESG Investment Woman of the Year (large firms)', '', 'Winner: Christine Chow, HSBC Asset Management', '', 'Highly commended: Stephanie Maier, GAM Investments', '', 'Highly commended: Katherine Davidson', '', 'Sustainable & ESG Woman of the year (small to medium firms)', '', 'Winner: Amy Clarke, Tribe Impact Capital', '', 'Highly commended: Lucie Mills, NorthEdge', '', 'Team Leader of the Year', '', 'Winner: Shifra Ansonoff, Preqin', '', 'Unsung Hero', '', 'Winner: Ailsa Buchanan, Baillie Gifford', '', 'Highly Commended: Amy Edwards, Man Group', '', 'Wealth Manager of the Year', '', 'Winner: Sophia Lerche-Thomsen, Frizzell Wealth Management', '', \"Highly commended: Adele Cable, St James's Place\", '', 'Highly commended: Hannah Edwards, Eva Capital Management', '', 'Outstanding Contribution to the Industry', '', 'Winner: Brenda Trenowden, CBE']\n"
          ]
        },
        {
          "output_type": "stream",
          "name": "stderr",
          "text": [
            "Some weights of the model checkpoint at yiyanghkust/finbert-pretrain were not used when initializing BertForMaskedLM: ['cls.seq_relationship.bias', 'cls.seq_relationship.weight']\n",
            "- This IS expected if you are initializing BertForMaskedLM from the checkpoint of a model trained on another task or with another architecture (e.g. initializing a BertForSequenceClassification model from a BertForPreTraining model).\n",
            "- This IS NOT expected if you are initializing BertForMaskedLM from the checkpoint of a model that you expect to be exactly identical (initializing a BertForSequenceClassification model from a BertForSequenceClassification model).\n",
            "Some weights of the model checkpoint at bert-base-uncased were not used when initializing BertModel: ['cls.predictions.bias', 'cls.seq_relationship.bias', 'cls.predictions.decoder.weight', 'cls.seq_relationship.weight', 'cls.predictions.transform.dense.bias', 'cls.predictions.transform.dense.weight', 'cls.predictions.transform.LayerNorm.weight', 'cls.predictions.transform.LayerNorm.bias']\n",
            "- This IS expected if you are initializing BertModel from the checkpoint of a model trained on another task or with another architecture (e.g. initializing a BertForSequenceClassification model from a BertForPreTraining model).\n",
            "- This IS NOT expected if you are initializing BertModel from the checkpoint of a model that you expect to be exactly identical (initializing a BertForSequenceClassification model from a BertForSequenceClassification model).\n"
          ]
        },
        {
          "output_type": "stream",
          "name": "stdout",
          "text": [
            "['© Aaron Chown/PA Wire Workers across multiple sectors are taking up industrial action', '', 'A wave of industrial action is sweeping across the country, affecting various industries including postal services, the education sector, and the railways.', '', 'Some of the strikes will be taking place on the same day, leading to widespread disruptions. Today (November 24) picket lines will be mounted outside schools, universities and Royal Mail centres as tens of thousands of workers stage a walkout over pay, jobs, and conditions.', '', \"However, strike dates have also been planned for the run-up to Christmas, with workers across industries asking for a variety of improved benefits. If you're concerned about being affected by the strikes, concerned with sending parcels, sending a child to school, or travelling by rail, we've broken down all the planned strike dates so far and the upcoming ballots.\", '', 'Read more: Royal Mail strike dates in November and December', '', 'Royal Mail, BT, and Openreach', '', 'Members of the Communication Workers Union (CWU) have been involved in a long-running dispute with companies and have already been involved in strike action in recent weeks. The union highlighted that relations between worker and employer have deteriorated, with Royal Mail serving legal notice that it was withdrawing from existing agreements with the CWU.', '', 'The strike dates are as follows:', '', 'Friday, November 25', '', 'Wednesday, November 30', '', 'Thursday, December 1', '', 'Friday, December 9', '', 'Sunday, December 11', '', 'Wednesday, December 14', '', 'Thursday, December 15', '', 'Friday, December 23', '', 'Saturday, December 24', '', 'A Royal Mail spokesperson said: “Our preference is for an agreement with the CWU but the change we need is not optional. They should be focused on a resolution to this dispute for their members and the long-term health of the business, rather than damaging strike action.”', '', 'Teachers and lecturers', '', 'Around 70,000 members of the University and College Union (UCU) will go on strike over a dispute with pay, pensions and contracts. It is the biggest strike of its kind, affecting an estimated 2.5 million students. The strike dates are as follows:', '', 'Thursday, November 24', '', 'Friday, November 25', '', 'Wednesday, November 30', '', 'UCU general secretary Jo Grady said: “University staff are taking the biggest strike action in the history of higher education. They have had enough of falling pay, pension cuts and gig economy working conditions – all whilst vice-chancellors enjoy lottery-win salaries and live it up in their grace and favour mansions.', '', '“Staff are burnt out, but they are fighting back and they will bring the whole sector to a standstill.\"', '', 'Railway', '', 'Train operator union ASLEF will hold a day of national strike action over the weekend, followed by a series of 48-hour strikes by rail union RMT across December. The strike days will likely disrupt services for most rail operators with many planned trains either being heavily delayed, or outright cancelled.', '', 'The strike dates are as follows:', '', 'Saturday, November 26 - ASLEF', '', 'Tuesday, December 13 - RMT', '', 'Wednesday, December 14 - RMT', '', 'Friday, December 16 - RMT', '', 'Saturday, December 17 - RMT', '', 'Food and drink', '', 'Hundreds of workers who deliver food to KFC, Burger King, Pizza Hut, and Wagamama have voted to strike over a pay dispute. The GMB union said the majority of its members employed by Bestfood voted in favour of industrial action.', '', 'Strike dates are yet to be announced by GMB.', '', 'Workers at brewers Greene King will also go on strike in a row over pay. Unite said 188 of its members based in Bury St Edmunds, Eastwood, Nottinghamshire, and Abingdon, Oxfordshire, will walk out for five days from December 5.', '', 'The workers brew and distribute Greene King’s products including IPA, Old Speckled Hen and Abbot Ale.', '', 'Nurses and doctors', '', 'The Royal College of Nursing announced earlier this month that nursing staff at the majority of NHSA employers across the UK had voted to strike over pay and patient safety. Other health unions are also balloting workers for industrial actions, while ambulance staff in Scotland are due to walk out on Monday.', '', \"A ballot among hundreds of thousands of Unison members closes on Friday, while a ballot for Unite's NHS members will close next week. On January 9, junior doctors will vote on whether or not they will go on strike.\", '', 'Civil servants', '', 'Civil servants in the Home Office, Border Force, Department for Transport, and Defra will take industrial action, affecting ports. The Public and Commercial Services union (PCS) said action will start in mid-December and continue for a month.', '', 'PCS general secretary Mark Serwotka said the action will affect driving tests and the issuing of driving licences, as well as passport control at airports.', '', 'Firefighters', '', 'The Fire Brigades Union announced that members have voted to reject a 5 per cent pay offer, with a ballot on strike action opening on Monday, December 5 which will last until Monday, January 23, 2023.', '', 'Cash and coin delivery', '', 'Hundreds of G4S security staff who deliver cash and coins have voted to strike in December, prompting fears of shortages ahead of Christmas. The industrial action could impact the supply of cash and coins at banking clients such as Barclays, HSBC and Santander, and supermarkets including Tesco, Asda and Aldi.', '', 'The GMB union said it will be the first ever strike at G4S after union members voted to walk out, with a 97% vote in favour of action. It said the strike is scheduled to take place from 3am on December 5.', '', 'Read next:']\n"
          ]
        },
        {
          "output_type": "stream",
          "name": "stderr",
          "text": [
            "Some weights of the model checkpoint at yiyanghkust/finbert-pretrain were not used when initializing BertForMaskedLM: ['cls.seq_relationship.bias', 'cls.seq_relationship.weight']\n",
            "- This IS expected if you are initializing BertForMaskedLM from the checkpoint of a model trained on another task or with another architecture (e.g. initializing a BertForSequenceClassification model from a BertForPreTraining model).\n",
            "- This IS NOT expected if you are initializing BertForMaskedLM from the checkpoint of a model that you expect to be exactly identical (initializing a BertForSequenceClassification model from a BertForSequenceClassification model).\n",
            "Some weights of the model checkpoint at bert-base-uncased were not used when initializing BertModel: ['cls.predictions.bias', 'cls.seq_relationship.bias', 'cls.predictions.decoder.weight', 'cls.seq_relationship.weight', 'cls.predictions.transform.dense.bias', 'cls.predictions.transform.dense.weight', 'cls.predictions.transform.LayerNorm.weight', 'cls.predictions.transform.LayerNorm.bias']\n",
            "- This IS expected if you are initializing BertModel from the checkpoint of a model trained on another task or with another architecture (e.g. initializing a BertForSequenceClassification model from a BertForPreTraining model).\n",
            "- This IS NOT expected if you are initializing BertModel from the checkpoint of a model that you expect to be exactly identical (initializing a BertForSequenceClassification model from a BertForSequenceClassification model).\n"
          ]
        },
        {
          "output_type": "stream",
          "name": "stdout",
          "text": [
            "[\"The biggest shopping festival from the US has made its way to India, and Vijay Sales is here to make the most of it. Vijay Sales, India's leading consumer retail company, goes live with its massive Black Friday Sale at all its physical stores and website www.vijaysales.com. Consumers can avail interesting deals & offers on a wide range of Smartphones, Home Appliances, Laptops, Smartwatches, Sound Systems and much more from their favourite electronics brands. Apple lovers can get their hands on the MacBook Air with M1 Chip at just 79,900 & iPhones range starting at just Rs. 56,900, including instant cashback offers from HDFC Bank.\", '', 'The sale features irresistible deals on winter essentials. Get a wide range of Microwaves & OTGs starting at just Rs. 4,499. Geysers & Water Heaters start at just Rs. 2,999. Get your daily dose of caffeine with Coffee Makers starting at just Rs. 1,377 and stay in shape while beating the cravings with Air Fryers starting at Rs 7,499.', '', \"Customers can also avail a series of offers on products, including Smartphones, Laptops, TVs, Washing Machines, Refrigerators, Men's Grooming Gadgets, Bluetooth Neckbands, Cooking Essentials, Mixers, Juicers and much more. Customers can get hold of the most popular smartphone range starting at just Rs. 8,999, Top 5G.Mobile phones at Rs. 15,999, some of the latest launches by leading Smartphone brands start at Rs. 9,949.\", '', 'Stellar discounts can be availed on entry-level laptops with prices starting from Rs. 24,990, the premium & convertible ones starting from Rs. 36,990, gaming laptops starting from Rs. 53,690 and Tablets starting from Rs. 9,499. Customers can revamp their home entertainment space with bestselling televisions starting from Rs. 10,990. Get the party going by bringing home a new audio system as prices start at Rs. 3,299, and portable speakers start at Rs. 999. Keep track of your daily activities and lifestyle with some of the coolest smartwatches, with prices starting just at Rs. 1,599.', '', 'In Home Appliances, consumers can get the best Washing Machines with a price range starting at just Rs. 9,490. For those looking for Refrigerators and Air Conditioners, the price range starts from Rs. 8,490 and Rs. 29,990, respectively. Exciting offers are available even on Chimneys & Hobs, with the price range starting at just Rs. 2,999. Customers can buy from a wide range of Mixers, Juicers & hand Blenders at discounts of up to 35%. Shopping with Vijay Sales comes with yet another advantage, the MyVS loyalty program. It rewards the buyers with 0.75% loyalty points on shopping from both the stores and the eCommerce websites. Every point earned is worth a rupee at the time of redemption at stores.', '', 'Besides, on purchases between the 25th to 27thof November, customers can avail instant discounts from top banks at Vijay Sales stores and www.vijaysales.com. HDFC Bank Card holders get a 7.5% instant discount of up to Rs. 3000 on Credit & Debit Card EMI transactions above Rs. 15000 & 5% instant discount of up to Rs. 1500 on Credit Card Non-EMI transactions above Rs. 15000. ICICI Bank Card holders get 7.5% instant discount of up to Rs. 3000 on Credit & Debit Card EMI transactions above Rs. 20000 & 5% instant discount of up to Rs. 1500 on Credit Card Non-EMI transactions above Rs. 20000. Additionally, ICICI Bank Credit Card holders can also avail an instant discount of Flat Rs. 5000 on EMI & Non-EMI transactions above Rs. 1,00,000. Kotak Mahindra Bank Credit & Debit Card holders get a 7.5% instant discount up to Rs. 2500 on EMI transactions of Rs. 15,000 & above.', '', '', '', 'Federal Bank Card Holders can avail an instant discount of 10% up to Rs. 2,500 on Credit Card Non-EMI transactions & an instant discount of 10% up to Rs. 2,000 on Debit Card Non-EMI transactions of Rs. 15000 & above. Additionally, Federal Bank Credit Card Holders can also avail an instant discount of 10% up to Rs. 3,000 on Credit Card EMI transactions done at stores only.', '', 'Customers can avail ongoing bank offers']\n"
          ]
        },
        {
          "output_type": "stream",
          "name": "stderr",
          "text": [
            "Some weights of the model checkpoint at yiyanghkust/finbert-pretrain were not used when initializing BertForMaskedLM: ['cls.seq_relationship.bias', 'cls.seq_relationship.weight']\n",
            "- This IS expected if you are initializing BertForMaskedLM from the checkpoint of a model trained on another task or with another architecture (e.g. initializing a BertForSequenceClassification model from a BertForPreTraining model).\n",
            "- This IS NOT expected if you are initializing BertForMaskedLM from the checkpoint of a model that you expect to be exactly identical (initializing a BertForSequenceClassification model from a BertForSequenceClassification model).\n",
            "Some weights of the model checkpoint at bert-base-uncased were not used when initializing BertModel: ['cls.predictions.bias', 'cls.seq_relationship.bias', 'cls.predictions.decoder.weight', 'cls.seq_relationship.weight', 'cls.predictions.transform.dense.bias', 'cls.predictions.transform.dense.weight', 'cls.predictions.transform.LayerNorm.weight', 'cls.predictions.transform.LayerNorm.bias']\n",
            "- This IS expected if you are initializing BertModel from the checkpoint of a model trained on another task or with another architecture (e.g. initializing a BertForSequenceClassification model from a BertForPreTraining model).\n",
            "- This IS NOT expected if you are initializing BertModel from the checkpoint of a model that you expect to be exactly identical (initializing a BertForSequenceClassification model from a BertForSequenceClassification model).\n"
          ]
        },
        {
          "output_type": "stream",
          "name": "stdout",
          "text": [
            "['Essential Utilities (NYSE:WTRG - Get Rating) was upgraded by stock analysts at StockNews.com from a \"sell\" rating to a \"hold\" rating in a report released on Thursday.', '', 'A number of other equities analysts have also issued reports on the stock. Robert W. Baird raised their price target on shares of Essential Utilities from $50.00 to $54.00 and gave the stock an \"outperform\" rating in a research report on Friday, August 5th. Bank of America lowered shares of Essential Utilities from a \"buy\" rating to a \"neutral\" rating and set a $52.00 target price for the company. in a report on Friday, September 9th. Evercore ISI cut their target price on shares of Essential Utilities to $44.00 in a report on Thursday, October 20th. Finally, HSBC raised shares of Essential Utilities from a \"hold\" rating to a \"buy\" rating and lifted their target price for the company from $53.00 to $57.00 in a report on Thursday, August 18th. Two research analysts have rated the stock with a hold rating and six have assigned a buy rating to the stock. According to data from MarketBeat.com, the stock currently has a consensus rating of \"Moderate Buy\" and an average price target of $51.83.', '', 'Essential Utilities Stock Performance', '', 'WTRG opened at $48.30 on Thursday. Essential Utilities has a 12-month low of $38.50 and a 12-month high of $53.93. The company has a current ratio of 0.64, a quick ratio of 0.37 and a debt-to-equity ratio of 1.16. The firm has a market capitalization of $12.67 billion, a PE ratio of 27.29, a P/E/G ratio of 4.34 and a beta of 0.77. The firm has a 50 day moving average of $43.70 and a two-hundred day moving average of $46.18.', '', 'Institutional Investors Weigh In On Essential Utilities', '', \"Several institutional investors and hedge funds have recently added to or reduced their stakes in the stock. Herold Advisors Inc. acquired a new stake in Essential Utilities during the 1st quarter worth $41,000. Banque Pictet & Cie SA boosted its position in shares of Essential Utilities by 1,005.6% during the 2nd quarter. Banque Pictet & Cie SA now owns 68,879 shares of the company's stock valued at $3,158,000 after acquiring an additional 62,649 shares during the last quarter. Walleye Capital LLC acquired a new position in shares of Essential Utilities during the 1st quarter valued at about $2,140,000. Brown Advisory Inc. boosted its position in shares of Essential Utilities by 8.9% during the 1st quarter. Brown Advisory Inc. now owns 104,929 shares of the company's stock valued at $5,365,000 after acquiring an additional 8,541 shares during the last quarter. Finally, Panagora Asset Management Inc. boosted its position in shares of Essential Utilities by 14.3% during the 1st quarter. Panagora Asset Management Inc. now owns 57,960 shares of the company's stock valued at $2,963,000 after acquiring an additional 7,231 shares during the last quarter. Hedge funds and other institutional investors own 69.79% of the company's stock.\", '', 'About Essential Utilities', '', 'Essential Utilities, Inc, through its subsidiaries, operates regulated utilities that provide water, wastewater, or natural gas services in the United States. It offers water services through operating and maintenance contract with municipal authorities and other parties. The company also provides non-utility raw water supply services for firms in the natural gas drilling industry; and water and sewer line protection solutions, and repair services to households through a third-party.', '', 'Further Reading', '', \"This instant news alert was generated by narrative science technology and financial data from MarketBeat in order to provide readers with the fastest and most accurate reporting. This story was reviewed by MarketBeat's editorial team prior to publication. Please send any questions or comments about this story to contact@marketbeat.com.\", '', \"Before you consider Essential Utilities, you'll want to hear this.\", '', \"MarketBeat keeps track of Wall Street's top-rated and best performing research analysts and the stocks they recommend to their clients on a daily basis. MarketBeat has identified the five stocks that top analysts are quietly whispering to their clients to buy now before the broader market catches on... and Essential Utilities wasn't on the list.\", '', 'While Essential Utilities currently has a \"Moderate Buy\" rating among analysts, top-rated analysts believe these five stocks are better buys.', '', 'View The Five Stocks Here']\n"
          ]
        },
        {
          "output_type": "stream",
          "name": "stderr",
          "text": [
            "Some weights of the model checkpoint at yiyanghkust/finbert-pretrain were not used when initializing BertForMaskedLM: ['cls.seq_relationship.bias', 'cls.seq_relationship.weight']\n",
            "- This IS expected if you are initializing BertForMaskedLM from the checkpoint of a model trained on another task or with another architecture (e.g. initializing a BertForSequenceClassification model from a BertForPreTraining model).\n",
            "- This IS NOT expected if you are initializing BertForMaskedLM from the checkpoint of a model that you expect to be exactly identical (initializing a BertForSequenceClassification model from a BertForSequenceClassification model).\n",
            "Some weights of the model checkpoint at bert-base-uncased were not used when initializing BertModel: ['cls.predictions.bias', 'cls.seq_relationship.bias', 'cls.predictions.decoder.weight', 'cls.seq_relationship.weight', 'cls.predictions.transform.dense.bias', 'cls.predictions.transform.dense.weight', 'cls.predictions.transform.LayerNorm.weight', 'cls.predictions.transform.LayerNorm.bias']\n",
            "- This IS expected if you are initializing BertModel from the checkpoint of a model trained on another task or with another architecture (e.g. initializing a BertForSequenceClassification model from a BertForPreTraining model).\n",
            "- This IS NOT expected if you are initializing BertModel from the checkpoint of a model that you expect to be exactly identical (initializing a BertForSequenceClassification model from a BertForSequenceClassification model).\n"
          ]
        },
        {
          "output_type": "stream",
          "name": "stdout",
          "text": [
            "['It is the dream of many Indians to study, work and settle abroad. All of us would have that uncle or aunt who’d be living in the U.S., U.K. or Canada. This yearning to taste and live life in a Western country, is not from the bygone era. According to the recent information from the Ministry of Home Affairs (MHA), more than six lakh Indians renounced their citizenship in the past five years. In 2021, till September 30 around 1,11,287 Indians have given up their citizenships. In the past two decades, there has been a continuous outflow of Indians, except during the 2008 financial crisis and in 2020-21 due to Covid-19 related travel bans. While brain drain has been a phenomenon plaguing India and other emerging economies for ages there are a select few who find India closer to their heart more than anything else. They relocate to India from top notch universities and blue chip corporates and the most important factor in the return of such skilled technologists, is the huge opportunity that India has to offer for entrepreneurs. Apart from the market opportunity, there is also the strong lure of family and a well developed informal support system that can help new entrepreneurs build a company.', '', 'Mentioned below are top 5 highly skilled professionals building ventures, who have flourished exceptionally since there return to India:', '', 'Upasana Taku – MobiKwik', '', 'Upasana Rupkrishan Taku is the chairperson of the MobiKwik Board and the Executive Director, Co-Founder and COO of the Mobikwik Group. She was featured amongst the top 15 richest self-made women in India in the Kotak Wealth Hurun – Leading Wealthy Women List 2020 and 2021.', '', 'In 2018, she was felicitated by the President of India as the First woman to lead a Payments Startup. In 2019, she was featured in the top 25 accomplished women shaping Asia’s business landscape in Forbes Asia’s Power Businesswomen list.', '', 'She co-founded MobiKwik with a vision to transform the digital financial services and payments landscape in India. She believes that the India Fintech opportunity will be at least 1TN$ by 2025 and that MobiKwik will be a significant part of it.', '', 'She has always been passionate about creating an impact at the grassroot levels, which brought her back to India from the US in 2008. Her hard work and desire to serve the community have made her an inspirational figure who has been recognized many times as one of India’s leading Tech founders.', '', 'She holds a Bachelor’s degree in Industrial Engineering from Punjab Technical University and a Master’s degree in Management Science and Engineering from Stanford University. She has 18+ years of experience in product, payments and financial services. Prior to her entrepreneurial journey, she worked as a Product Manager at PayPal, San Jose, in the Financial Services, Global Payments and Risk divisions. She also had a stint with HSBC, San Diego, working in the Product team of their auto finance division.', '', 'Peeyush Misra – Protium', '', 'Peeyush Misra is a partner and director at Protium, a market leader in India’s fast-growing fintech space that empowers millions of credit-seekers through the power of cutting-edge technology and smarter risk assessment.', '', 'Prior to Protium, Peeyush was a Partner at Goldman Sachs, where he successfully managed businesses like US Interest Rates and Securitized/Mortgage products, and with his diligent expertise of over two decades at risk management experience across global markets. He is a precious asset to Protium. At Protium, he impeccably handles Credit, Risk, Strategy,introducing innovative lending features to assist business finance for MSMEs, educational institute finances, consumer finance etc.', '', 'He is on a mission to further existing customer mounting approximately to 5 million customers across more than 15,000 pin codes., which accentuates Protium’s sturdy presence in the financial market. He is a dedicated board member of the Samuel Waxman Cancer Research Foundation, New York, as well as the Misra Centre for Financial Markets and Economy at IIM Ahmedabad.', '', 'Vani Kola – Kalaari Capital', '', 'Vani Kola is an Indian venture capitalist. She is the founder and managing director of Kalaari Capital, an Indian early stage venture capital firm. She was listed as one of the most powerful women in Indian business by Fortune India in 2014.', '', 'She attended Osmania University in Hyderabad, where she studied electrical engineering. She earned her Bachelor of Engineering before leaving India in the late 1980s to pursue her Master of Engineering from Arizona State University in the United States.', '', 'Vani had a 22-year career in Silicon Valley. She returned to India in 2006, after her successful career as an entrepreneur in Silicon Valley, to start a venture capital firm in India, drawn to the growing Indian opportunity. She and Vinod Dham founded Indo-US Venture Partners (IUVP) in 2006. A partnership with New Enterprise Associates (NEA), it was her initial undertaking to venture capital in India. In 2012, it was rebranded as Kalaari Capital.', '', 'Vani is the managing director of Kalaari Capital. She is a technology-focused early-stage investor and works with entrepreneurs to build global companies, leveraging India’s domestic growth to create high growth enterprises. She has led investments in e-commerce, mobile services, education and healthcare. Some of her notable venture capital endeavours include: Dream11, Urban Ladder, Snapdeal, and Myntra.', '', 'Anupam Mittal – People Group, Shaadi.com', '', 'Anupam Mittal is an Indian entrepreneur, angel investor, former actor, and business executive. Mittal is best known as the founder of matrimonial website Shaadi.com, real-estate platform Makaan.com.', '', 'He decided to move to the United States in 1994 to complete his MBA in the Operating and Strategic Management from Boston College, United States. He started his career as a product manager at MicroStrategy in 1998. He remained with the company for four years.', '', 'Anupam is one of India’s early techpreneurs in India who has founded internet companies even before the internet bubble. Under his parent company People Group, he has also produced movies namely, Flavors and 99.', '', 'Anupam is noted as a popular entrepreneur of Shark Tank India and has openly expressed his ambition to help young Indian entrepreneurs.', '', 'Naveen Tewari – InMobi', '', 'Naveen Tewari is an Indian entrepreneur who is the founder and CEO of technology companies – InMobi and Glance. His philosophy of constant innovation and disruption is embedded deep into the DNA of InMobians and resonates across InMobi. His dream is to re-imagine advertising in a truly ‘user-first’ way and unlock the true potential of the mobile ecosystem. He completed his Bachelor’s degree in mechanical engineering from the Indian Institute of Technology, Kanpur (IIT) in 2000.', '', 'His professional journey began with McKinsey and Company as a business analyst from 2000 to 2003 followed by a stint in 2004, at Charles River Ventures as an Associate. From 2003-2005, he studied at Harvard Business School for a master’s degree in Business Administration, where he was awarded the Dean’s Award, for exceptional leadership and contribution.', '', 'While at HBS, he also founded a U.S. based nonprofit called India Schoolhouse Fund which funds and sets up schools in rural India. Recently in 2015, Naveen Tewari along with IDG Ventures invested $1.2M in NestAway, which is considered as India’s largest home rental network.']\n"
          ]
        },
        {
          "output_type": "stream",
          "name": "stderr",
          "text": [
            "Some weights of the model checkpoint at yiyanghkust/finbert-pretrain were not used when initializing BertForMaskedLM: ['cls.seq_relationship.bias', 'cls.seq_relationship.weight']\n",
            "- This IS expected if you are initializing BertForMaskedLM from the checkpoint of a model trained on another task or with another architecture (e.g. initializing a BertForSequenceClassification model from a BertForPreTraining model).\n",
            "- This IS NOT expected if you are initializing BertForMaskedLM from the checkpoint of a model that you expect to be exactly identical (initializing a BertForSequenceClassification model from a BertForSequenceClassification model).\n",
            "Some weights of the model checkpoint at bert-base-uncased were not used when initializing BertModel: ['cls.predictions.bias', 'cls.seq_relationship.bias', 'cls.predictions.decoder.weight', 'cls.seq_relationship.weight', 'cls.predictions.transform.dense.bias', 'cls.predictions.transform.dense.weight', 'cls.predictions.transform.LayerNorm.weight', 'cls.predictions.transform.LayerNorm.bias']\n",
            "- This IS expected if you are initializing BertModel from the checkpoint of a model trained on another task or with another architecture (e.g. initializing a BertForSequenceClassification model from a BertForPreTraining model).\n",
            "- This IS NOT expected if you are initializing BertModel from the checkpoint of a model that you expect to be exactly identical (initializing a BertForSequenceClassification model from a BertForSequenceClassification model).\n"
          ]
        },
        {
          "output_type": "stream",
          "name": "stdout",
          "text": [
            "['The Indian Super League’s defending champions Hyderabad FC (Football Club), an Indian professional football club representing the city in the ISL, announces the appointment of Neil Cabral, former executive director and board member of Himalaya Wellness (Worldwide), erstwhile The Himalaya Drug Company, as an advisor to its board of directors.', '', 'The Hero Indian Super League (ISL) is the men’s professional top-tier football league in Indian football league system. The league is co-promoted by Reliance and Star India, and supported by the All India Football Federation (AIFF).', '', 'The league currently comprises 11 clubs. Hyderabad FC are the current Champions of the ISL, in less than three years since inception.', '', '“I’m extremely pleased to welcome Neil Cabral as advisor to our Board,” said Varun Tripuraneni, Principal Owner of Hyderabad FC. “His deep knowledge and proven leadership of over thirty years in the industry coupled with his financial expertise will definitely enhance the diversity of thought, perspectives, and skillsets required to guide and oversee the next chapter of our growth. I look forward to working with him closely as we continue to execute our strategic objectives, drive profitability and enhance the brand value of Hyderabad FC. We are excited to have Cabral as part of our family and join as the Advisor to the Board of this dynamic and innovative Football Club at such an important time. To have someone with Neil’s standing join as an advisor to the board is a significant addition.”', '', 'Cabral brings with him an extensive rich-in-experience leading and driving profitable growth at global organizations, as well as strong expertise in brand-building, integrated marketing, business transformation, strategic planning, mergers & acquisitions, marketing supply chain management, and the building of global teams. A strong team player, Cabral is an influential figure in the financial services, healthcare, pharmaceutical, wellness, and single family-office industry and has vastly rich experience, having spent over thirty years in global senior leadership roles across Dubai, Singapore, London, Geneva, India and Hong Kong. He is also a fellow of the Institute of Directors. Cabral’s most recent senior executive role is as Managing Director and Head of Key Clients at Lighthouse Canton Capital (DIFC) Pte LTD, a Singapore headquartered asset management firm with growing presence in Dubai and India.', '', 'An incredibly accomplished executive with an extensive career spanning over 30 years, Cabral has held several senior leadership positions across multiple global financial hubs including managing director and global head at Abu Dhabi Islamic Bank (ADIB), executive director at Standard Chartered Bank, executive director at Credit Agricole (Suisse) SA Private Bank, senior vice president at Citibank, vice president at HSBC and director at ICICI Bank. Cabral’s wealth of experience, unwavering integrity and expert judgment will help Hyderabad FC tremendously to execute their strategy, drive profitability and enhance value for shareholders.', '', '“Hyderabad FC is Founded, nurtured, and run like a tight ship by Varun Tripuraneni, who comes from the Founder’s family of Spartek, which revolutionized the ceramic tile industry and is a major brand in building materials in India with multiple products including the recent innovative concrete and precast construction products. Under the leadership of Varun, Hyderabad FC have re-established the city as champions on the football map.” Said Cabral.', '', '“I am truly humbled to have been given the opportunity to be appointed as Advisor to the Board of Hyderabad FC, which has significant potential to continue its rapid growth. This is an exciting and pivotal time for Hyderabad FC, and we now have all the ingredients in place to drive our ambitious agenda forward. I have great respect for Varun and the manner in which he has infused adrenaline into the team. I am excited to share my industry experience and perspective with Hyderabad FC team as they continue to capitalize on this leading position in the league and mentor them to achieve their strategic objectives,” Cabral added.']\n"
          ]
        },
        {
          "output_type": "stream",
          "name": "stderr",
          "text": [
            "Some weights of the model checkpoint at yiyanghkust/finbert-pretrain were not used when initializing BertForMaskedLM: ['cls.seq_relationship.bias', 'cls.seq_relationship.weight']\n",
            "- This IS expected if you are initializing BertForMaskedLM from the checkpoint of a model trained on another task or with another architecture (e.g. initializing a BertForSequenceClassification model from a BertForPreTraining model).\n",
            "- This IS NOT expected if you are initializing BertForMaskedLM from the checkpoint of a model that you expect to be exactly identical (initializing a BertForSequenceClassification model from a BertForSequenceClassification model).\n",
            "Some weights of the model checkpoint at bert-base-uncased were not used when initializing BertModel: ['cls.predictions.bias', 'cls.seq_relationship.bias', 'cls.predictions.decoder.weight', 'cls.seq_relationship.weight', 'cls.predictions.transform.dense.bias', 'cls.predictions.transform.dense.weight', 'cls.predictions.transform.LayerNorm.weight', 'cls.predictions.transform.LayerNorm.bias']\n",
            "- This IS expected if you are initializing BertModel from the checkpoint of a model trained on another task or with another architecture (e.g. initializing a BertForSequenceClassification model from a BertForPreTraining model).\n",
            "- This IS NOT expected if you are initializing BertModel from the checkpoint of a model that you expect to be exactly identical (initializing a BertForSequenceClassification model from a BertForSequenceClassification model).\n"
          ]
        },
        {
          "output_type": "stream",
          "name": "stdout",
          "text": [
            "['The bond market is flashing code red on our economy.', '', 'It’s a vivid warning of what’s likely to come, and what will likely cut the borrowing costs for millions of Canadians by the end of next year.', '', 'What we’re talking about here is the yield curve, which has a compelling track record of predicting recession – and falling mortgage rates.', '', 'What’s a yield curve, you say?', '', 'Think of it as a graph – one that shows how interest rates, or yields, change based on how long you lend to the government. People looking at the curve often focus on the difference, or “spread,” between yields on 10-year bonds and two-year bonds.', '', 'Normally, long-term yields are higher than short-term yields (reflecting the higher risk in lending for a longer period). Not today.', '', 'As we speak, the 10-year yield is almost 100 basis points below the two-year. That’s extraordinary. (A basis point is one-hundredth of a percentage point.) In fact, it hasn’t happened in more than three decades – and the last time it did, in the early 1990s, we had the longest recession since the Great Depression.', '', 'The inversion of 10-year and two-year yields is not an infallible signal but deep inversions – the type we’re seeing today – are highly reliable. It’s basically the market screaming that Canada is on a crash course with recession, likely in 2023.', '', 'What it means to mortgagors', '', 'By this time next year, odds are good we’ll have seen two-plus quarters of negative GDP and a significant jump in unemployment. The Bank of Canada’s answer to recessions is virtually always the same: Cut rates. The only thing we can’t be confident of this time is when that will happen.', '', 'The market is betting it’ll happen next December, but inflation has been a runaway train. If core inflation doesn’t drop fast enough, rate cuts could be a 2024 story instead.', '', 'Either way, the bond market implies that this is no time to lock into a long-term fixed mortgage. Indeed, for well-qualified borrowers who can handle rate risk, a short-term fixed is the way to play this point in the rate cycle.', '', 'Unfortunately, like Canada’s yield curve, our mortgage rate curve is also inverted. The lowest uninsured one-year fixed is now a lofty 5.89 per cent. That’s 60 bps above the lowest five-year fixed.', '', 'Interestingly, however, if you plug all that into a rate simulator and assume the bond market is correctly forecasting another 50 basis points-plus of further rate hikes and then falling rates in late 2023, today’s inflated one-year fixed still make sense. That is, it would still lead to the lowest hypothetical borrowing costs over five years, versus all other terms.', '', 'That, once again, is due to the expectation you’ll be able to renew lower by the end of next year.', '', 'Going with a one-year fixed may look good on paper but here’s the risk. If the Bank of Canada’s rate hikes don’t zap inflation quickly enough (I think they will), this particular go-short-and-reset-lower strategy will flop.', '', 'That’s why a two-year fixed is the more conservative play. It doesn’t let you reset your rate as quickly, but it does costs 35 basis points less than today’s lowest one-year. (That’s based on HSBC’s uninsured 5.54 per cent offer, which leads all national lenders.)', '', 'Rates edged lower this week', '', 'Optimism over falling inflation is pulling down bond yields. That’s led to falling fixed mortgage rates in all terms except the one-year fixed.', '', 'Amid higher demand for one-year terms and expectations for a rising overnight rate, the lowest nationally advertised one-year fixed actually climbed this week, by 20 bps. How convenient, given it’s the most logical theoretical term for risk-tolerant borrowers at this point in the rate cycle.', '', 'For default insured fixed mortgages, the picture looks better: 4.99 per cent or less for one to five year terms. As always, check the rate sites online for better regional offers.', '', 'Lowest nationally available mortgage rates TERM UNINSURED PROVIDER INSURED PROVIDER 1-year fixed 5.89% Alterna Bank 4.99% Quest Mortgage 2-year fixed 5.54% HSBC 4.99% Quest Mortgage 3-year fixed 5.44% HSBC 4.92% Nesto 4-year fixed 5.54% First National 4.99% Quest Mortgage 5-year fixed 5.29% HSBC 4.84% CanWise Financial 10-year fixed 5.94% HSBC 5.59% Nesto Variable 5.45% Merix Financial 4.75% Nesto 5-year hybrid 5.42% HSBC 5.56% Scotia eHOME HELOC 5.95% HSBC N/A N/A', '', 'Rates in the accompanying table are as Thursday from providers that advertise rates online and lend in at least nine provinces. Insured rates apply to those buying with less than a 20 per cent down payment, or those switching a pre-existing insured mortgage to a new lender. Uninsured rates apply to refinances and purchases over $1-million and may include applicable lender rate premiums. For providers whose rates vary by province, their highest rate is shown.', '', 'Robert McLister is an interest rate analyst, mortgage strategist and editor of MortgageLogic.news. You can follow him on Twitter at @RobMcLister.']\n"
          ]
        },
        {
          "output_type": "stream",
          "name": "stderr",
          "text": [
            "Some weights of the model checkpoint at yiyanghkust/finbert-pretrain were not used when initializing BertForMaskedLM: ['cls.seq_relationship.bias', 'cls.seq_relationship.weight']\n",
            "- This IS expected if you are initializing BertForMaskedLM from the checkpoint of a model trained on another task or with another architecture (e.g. initializing a BertForSequenceClassification model from a BertForPreTraining model).\n",
            "- This IS NOT expected if you are initializing BertForMaskedLM from the checkpoint of a model that you expect to be exactly identical (initializing a BertForSequenceClassification model from a BertForSequenceClassification model).\n",
            "Some weights of the model checkpoint at bert-base-uncased were not used when initializing BertModel: ['cls.predictions.bias', 'cls.seq_relationship.bias', 'cls.predictions.decoder.weight', 'cls.seq_relationship.weight', 'cls.predictions.transform.dense.bias', 'cls.predictions.transform.dense.weight', 'cls.predictions.transform.LayerNorm.weight', 'cls.predictions.transform.LayerNorm.bias']\n",
            "- This IS expected if you are initializing BertModel from the checkpoint of a model trained on another task or with another architecture (e.g. initializing a BertForSequenceClassification model from a BertForPreTraining model).\n",
            "- This IS NOT expected if you are initializing BertModel from the checkpoint of a model that you expect to be exactly identical (initializing a BertForSequenceClassification model from a BertForSequenceClassification model).\n"
          ]
        },
        {
          "output_type": "stream",
          "name": "stdout",
          "text": [
            "['The event is being run to support residents', '', 'Castletown Commissioners is running a workshop to help residents find support with the ongoing cost of living crisis next week. .', '', 'It will be held at the town hall on Wednesday, 30 November from 1pm until 7pm.', '', 'Several organisations will be at the event including Social Services, The Salvation Army and HSBC.', '', 'Residents will be able to find out how to manage their finances and also arrange meetings for more specific problems they might have.']\n"
          ]
        },
        {
          "output_type": "stream",
          "name": "stderr",
          "text": [
            "Some weights of the model checkpoint at yiyanghkust/finbert-pretrain were not used when initializing BertForMaskedLM: ['cls.seq_relationship.bias', 'cls.seq_relationship.weight']\n",
            "- This IS expected if you are initializing BertForMaskedLM from the checkpoint of a model trained on another task or with another architecture (e.g. initializing a BertForSequenceClassification model from a BertForPreTraining model).\n",
            "- This IS NOT expected if you are initializing BertForMaskedLM from the checkpoint of a model that you expect to be exactly identical (initializing a BertForSequenceClassification model from a BertForSequenceClassification model).\n",
            "Some weights of the model checkpoint at bert-base-uncased were not used when initializing BertModel: ['cls.predictions.bias', 'cls.seq_relationship.bias', 'cls.predictions.decoder.weight', 'cls.seq_relationship.weight', 'cls.predictions.transform.dense.bias', 'cls.predictions.transform.dense.weight', 'cls.predictions.transform.LayerNorm.weight', 'cls.predictions.transform.LayerNorm.bias']\n",
            "- This IS expected if you are initializing BertModel from the checkpoint of a model trained on another task or with another architecture (e.g. initializing a BertForSequenceClassification model from a BertForPreTraining model).\n",
            "- This IS NOT expected if you are initializing BertModel from the checkpoint of a model that you expect to be exactly identical (initializing a BertForSequenceClassification model from a BertForSequenceClassification model).\n"
          ]
        },
        {
          "output_type": "stream",
          "name": "stdout",
          "text": [
            "['Privacy Policy', '', 'Our privacy commitments', '', 'This Privacy Policy outlines the information we may collect about you in relation to your use of our websites, events, related publications and services (“personal data”) and how we may use that personal data. It also outlines the methods by which we and our service providers may (subject to necessary consents) monitor your online behaviour to deliver customised advertisements, marketing materials and other tailored services. This Privacy Policy also tells you how you can verify the accuracy of your personal data and how you can request that we delete or update it.', '', 'This Privacy Policy applies to all websites operated by Exporta Publishing & Events Ltd (as indicated on the relevant website).', '', 'This privacy statement does not cover the activities of third parties, and you should consult those third-party sites’ privacy policies for information on how your data is used by them.', '', 'Any questions regarding this Policy and our privacy practices should be sent by e-mail to privacy@gtreview.com or by writing to Data Protection Officer at, Exporta Publishing & Events Ltd, 4 Hillgate Place, London, SW12 9ER, United Kingdom. Alternatively, you can telephone our London headquarters at +44 (0) 20 8673 9666.', '', 'Who are we?', '', 'Established in 2002 and with offices in London and Singapore, Exporta Publishing & Events Ltd is the world’s leading trade and trade finance media company, offering information, news, events and services for companies and individuals involved in global trade.', '', 'Our principal business activities are:', '', 'Business-to-Business financial publishing. We provide a range of products and services focused on international commodities, export, supply chain and trade finance markets including magazines, newsletters, electronic information and data', '', 'Organisers of seminars, conferences, training courses and exhibitions for the finance industry', '', 'Exporta Publishing & Events Ltd is a company registered in the United Kingdom with company number 4407327 | VAT Registration: 799 1585 59', '', 'Data Protection Policy', '', 'This Data Protection Policy explains when and why we collect personal information about people who visit our website, how we use it, the conditions under which we may disclose it to others and how we keep it secure.', '', 'Why do we collect information from you?', '', 'Our primary goal in collecting personal data from you is to give you an enjoyable customised experience whilst allowing us to provide services and features that will meet your needs.', '', 'We collect certain personal data from you, which you give to us when using our Site and/or registering or subscribing for our products and services. However, we also give you the option to access our Sites’ home pages without subscribing or registering or disclosing your personal data.', '', 'We also collect certain personal data from other group companies to whom you have given information through their websites (including, by way of example, Exporta Publishing & Events Ltd and subsidiaries, in accordance with the purposes listed below). Should we discover that any such personal data has been delivered to any of the Sites, we will remove that information as soon as possible.', '', 'Why this policy exists', '', 'This Data Protection Policy ensures Exporta Publishing & Events Ltd:', '', 'Complies with data protection law and follow good practice', '', 'Protects the rights of staff, customers and partners', '', 'Is open about how it stores and processes individuals’ data', '', 'pretexts itself from the risk of a data breach', '', 'We may change this Policy from time to time so please check this page occasionally to ensure that you’re happy with any changes. By using our website, you’re agreeing to be bound by this Policy.', '', 'Data protection law', '', 'The Data Protection Act 1998 described how organisations – including Exporta Publishing & Events Ltd – must collect, handle and store personal information. These rules apply regardless of whether data is stored electronically, on paper or on other materials. To comply with the law, personal information collected must be stored safely, not disclosed unlawfully and used fairly.', '', 'The Data Protection Act is underpinned by eight important principles. These say that personal data must:', '', 'Be processed fairly and lawfully', '', 'Be obtained only for specific, lawful purposes', '', 'Be adequate, relevant and not excessive', '', 'Be accurate and kept up to date', '', 'Not be held for any longer than necessary', '', 'Processed in accordance with the rights of data subjects', '', 'Be protected in appropriate ways', '', 'Not be transferred outside the European Economic Area (EEA), unless that country of territory also ensures an adequate level of protection', '', 'How do we collect information from you?', '', 'We obtain information about you when you use our website, for example, when you contact us about products and services, when you register for an event, register to receive eNewsletters, subscribe or register for a trial to our GTR magazine/website.', '', 'Types of Personal Data Held and its Use', '', '1. Customer Services and Administration', '', 'On some Sites, Exporta Publishing & Events Ltd collects personal data such as your name, job title, department, company, e-mail, phone, work and/or home address, in order to register you for access to certain content, subscriptions and events. In addition, we may also store information including IP address and page analytics, including information regarding what pages are accessed, by whom and when.', '', 'This information is used to administer and deliver to you the products and/or services you have requested, to operate our Sites efficiently and improve our service to you, and to retain records of our business transactions and communications. By using the Sites and submitting personal information through the registration process you are agreeing that we may collect, hold, process and use your information (including personal information) for the purpose of providing you with the Site services and developing our business, which shall include (without limitation) the purposes described in the below paragraphs.', '', '2. Monitoring use of our Sites', '', 'Where, as part of our Site services, we enable you to post information or materials on our Site, we may access and monitor any information which you upload or input, including in any password-protected sections. Subject to any necessary consents, we also monitor and/or record the different Sites you visit and actions taken on those Sites, e.g. content viewed or searched for. If you are a registered user (e.g. a subscriber or taking a trial), when you log on, this places a cookie on your machine. This enables your access to content and services that', '', 'are not publicly available. Once you are logged on, the actions you take – for example, viewing an article – will be recorded (subject to any necessary consents). We may use technology or a service provider to do this for us. This information may be used for one or more of the following purposes:', '', 'to fulfil our obligations to you;', '', 'to improve the efficiency, quality and design of our Sites and services;', '', 'to see which articles, features and services are most read and used', '', 'to track compliance with our terms and conditions of use, e.g. to ensure that you are acting within the scope of your user licence;', '', 'for marketing purposes (subject to your rights to opt-in and opt-out of receiving certain marketing communications) – see paragraph 3 below;', '', 'for advertising purposes, although the information used for these purposes does not identify you personally. Please see paragraph 5 below for more details;', '', 'to protect or comply with our legal rights and obligations; and', '', 'to enable our journalists to contact and interact with you online in connection with any content you may post to our Sites.', '', 'Please see paragraph 5 below for more information on cookies and similar technologies and a link to a page where you can turn them on or off.', '', '3. Marketing', '', 'Some of your personal data collected under paragraphs 1 and 2 above may be used by us to contact you by e-mail, telephone and/or post for sending information or promotional material on our products and/or services and/or those of our other group companies. We give you the opportunity to opt-out of receiving marketing communications. Further detail can be found on the applicable Site and in the footer of each marketing communication sent by us, our group companies or service providers. See also “Consents and opt-outs” section below. We will not share your information with third parties for marketing purposes.', '', '4. Profiling', '', 'We may analyse your personal information to create a profile of your interests and preferences so that we can contact you with information relevant to you.', '', '5. Cookies and similar technologies', '', 'All our Sites use cookies and similar technical tools to collect information about your access to the Site and the services we provide.', '', 'What is a cookie?', '', 'When you enter some sites, your computer will be issued with a cookie. Cookies are text files that identify your computer to servers. Cookies in themselves do not identify the individual user, just the computer used.', '', 'Many sites do this whenever a user visits their site in order to track traffic flows, recording those areas of the site that have been visited by the computer in question, and for how long.', '', 'Users have the opportunity to set their computers to accept all cookies, to notify them when a cookie is issued, or not to receive cookies at any time. Selecting not to receive means that certain personalised services Exporta Publishing & Events Ltd offers cannot then be provided to that user.', '', 'Why do we use cookies?', '', 'Log In – Where we provide log in mechanisms for site users a cookie is created at login and for the duration of the session. Each cookie contains a unique reference number only (no personal information) which is used to confirm you are authorised. Analytics – To allow us to keep track of traffic to our website we use cookies. The cookies simply tell us if you have previously visited our website so we can get more accurate figures for New vs Returning visitors.', '', 'Find and control your cookies', '', 'All of the major browser providers offer advice on setting up and using the privacy and security functions for their products. If you require technical advice or support for a specific browser/version please contact the provider or visit their website for further details: www.microsoft.com / www.mozilla.com / www.apple.com / www.opera.com / www.aol.com / www.netscape.com / www.flock.com / www.google.com.', '', 'We may use cookies to:', '', 'remember that you have used the Site before; this means we can identify the number of unique visitors we receive to different parts of the Site. This allows us to make sure we have enough capacity for the number of users that we get and make sure that the Site runs fast enough', '', 'remember your login session so you can move from one page to another within the Site;', '', 'store your preferences or your user name and password so that you do not need to input these details every time you visit the Site;', '', 'customise elements of the layout and/or content of the pages of Site for you;', '', 'record activity on our Sites so that we understand how you use our Sites enabling us to better tailor our content, services and marketing to your needs;', '', 'collect statistical information about how you use the Site so that we can improve the Site; and', '', 'gather information about the pages on the Site that you visit, and other information about other websites that you visit, so as to place you in a “market segment”. This information is only collected by reference to the IP address that you are using, but does include information about the county and city you are in, together with the name of your internet service provider.', '', 'Most web browsers automatically accept cookies but, if you prefer, you can change your browser to prevent that, or to notify you each time a cookie is set. You can also learn more about cookies in general by visiting www.allaboutcookies.org which includes additional useful information on cookies and how to block cookies using different types of browser. Please note however, that by blocking, deleting or turning off cookies used on the Site you may not be able to take full advantage of the Site.', '', '6. E-mail tracking', '', 'E-mail tracking is a method for monitoring the e-mail delivery to those subscribers who have opted-in to receive marketing e-mails from GTR, including GTR Africa, GTR Asia, GTR Americas, GTR Europe, GTR Mena, GTR eNews, Third party e-mails and GTR Ventures.', '', 'Why do we track e-mails?', '', 'So that we can better understand our users’ needs, we track responses, subscription behaviour and engagement to our e-mails – for example, to see which links are the most popular in newsletters. They enable us to understand the consumers journey through metrics including open rate, click-through rate, bounces and unsubscribes. Any other purposes for which Exporta Publishing & Events Ltd wishes to use your personal data will be notified to you and your personal data will not be used for any such purpose without obtaining your prior consent.', '', 'How do you track GTR eNewsletters?', '', 'To do this, we use pixel GIFs, also known as “pixel tags” – these are small image files that are placed within the body of our e-mail messages. When that image is downloaded from our web servers, the e-mail is recorded as being opened. By using some form of digitally time-stamped record to reveal the exact time and date that an e-mail was received or opened, as well the IP address of the recipient.', '', '7. Consents and opt-outs', '', 'You can give your consent to opt-out of all or any particular uses of your data as indicated above by:', '', 'Indicating at the point on the relevant Site where personal data is collected', '', 'Informing us by e-mail, post or phone', '', 'Updating your preferences on the applicable Site or eNewsletter (unsubscribe and preference options are available in the footer of each eNewsletter)', '', 'To turn cookies and similar technologies on and off, see the information in paragraph 5 above. Any questions regarding consents and opt-outs should be sent by e-mail to privacy@gtreview.com or by writing to Data Protection Officer at, Exporta Publishing & Events Ltd, 4 Hillgate Place, London, SW12 9ER, United Kingdom. Alternatively, you can telephone our London headquarters at +44 (0) 20 8673 9666.', '', '8. Disclosures', '', 'Information collected at one Site may be shared between Exporta Publishing & Events Ltd and other group companies for the purposes listed above.', '', 'We may transfer, sell or assign any of the information described in this policy to third parties as a result of a sale, merger, consolidation, change of control, transfer of assets or reorganisation of our business.', '', '9. Public forums, message boards and blogs', '', 'Some of our Sites may have a message board, blogs or other facilities for user generated content available and users can participate in these facilities. Any information that is disclosed in these areas becomes public information and you should always be careful when deciding to disclose your personal information.', '', '10. Data outside the EEA', '', 'Services on the Internet are accessible globally so collection and transmission of personal data is not always limited to one country. Exporta Publishing & Events Ltd may transfer your personal data, for the above-listed purposes to other third parties, which may be located outside the European Economic Area and/or with a different level of personal data protection. However, when conducting transfers, we take all necessary steps to ensure that your data is treated reasonably, securely and in accordance with this Privacy Statement.', '', 'Who has access to your information?', '', 'Confidentiality and Security of Your Personal Data', '', 'We are committed to keeping the data you provide us secure and will take reasonable precautions to protect your personal data from loss, misuse or alteration.', '', 'However, the transmission of information via the internet is not completely secure. Although we will do our best to protect your personal data, we cannot guarantee the security of your data transmitted to our Site; any transmission is at your own risk. Once we have received your information, we will use strict procedures and security features described above to try to prevent unauthorised access.', '', 'We have implemented information security policies, rules and technical measures to protect the personal data that we have under our control from:', '', 'unauthorised access', '', 'improper use or disclosure', '', 'unauthorised modification', '', 'unlawful destruction or accidental loss', '', 'All our employees, contractors and data processors (i.e. those who process your personal data on our behalf, for the purposes listed above), who have access to, and are associated with the processing of your personal data, are obliged to keep the information confidential and not use it for any other purpose than to carry out the services they are performing for us.', '', 'Responsibilities', '', 'Everyone who works for or with Exporta Publishing & Events Ltd has some responsibility for ensuring data is collected, stored and handled appropriately. Each team handling personal data must ensure that it is handled and processed in line with this policy and data protection principles. However, the following people have key areas of responsibility. The board of directors is ultimately responsible for ensuring that Exporta Publishing & Events Ltd meets its legal obligations.', '', 'Name of Data Controller', '', 'The Data Controller is Exporta Publishing & Events Ltd. Exporta Publishing & Events Ltd is subject to the UK Data Protection Act 1998 and is registered in the UK with the Information Commissioner`s Office.', '', 'How to access, update and erase your personal information', '', 'If you wish to know whether we are keeping personal data about you, or if you have an enquiry about our privacy policy or your personal data held by us, in relation to any of the Sites, you can contact the Data Protection Officer via:', '', 'By writing to this address: Data Protection Officer, Exporta Publishing & Events Ltd, 4 Hillgate Place, London, SW12 9ER, UK', '', 'Telephone: +44 (0) 20 8673 9666', '', 'E-mail: privacy@gtreview.com', '', 'Upon request, we will provide you with a readable copy of the personal data which we keep about you. We may require proof of your identity and may charge a small fee (not exceeding the statutory maximum fee that can be charged) to cover administration and postage.', '', 'Exporta Publishing & Events Ltd allows you to challenge the data that we hold about you and, where appropriate in accordance with applicable laws, you may have your personal information:', '', 'erased', '', 'rectified or amended', '', 'completed', '', 'Disclosing data for other reasons', '', 'In certain circumstances, the Data Protection Act allows personal data to be disclosed to law enforcement agencies without the consent of the data subject. Under these circumstances, Exporta Publishing & Events Ltd, will disclose requested data. However, the Data Controller will ensure the request is legitimate, seeking assistance from the board and from the company’s legal advisors where necessary.', '', 'Changes to this Privacy Statement', '', 'We will occasionally update this Privacy Statement to reflect new legislation or industry practice, group company changes and customer feedback. We encourage you to review this Privacy Statement periodically to be informed of how we are protecting your personal data.', '', 'Providing information', '', 'Exporta Publishing & Events Ltd aims to ensure that individuals are aware that their data is being processed, and that they understand.', '', 'How the data is being used', '', 'How to exercise their rights', '', 'To this end, the company has a privacy statement, setting out how data relating to individuals is used by the company. This is available on request and available on the company’s website.', '', 'Review of this policy', '', 'We keep this Policy under regular review. This Privacy Statement was last updated in April 2018.']\n"
          ]
        },
        {
          "output_type": "stream",
          "name": "stderr",
          "text": [
            "Some weights of the model checkpoint at yiyanghkust/finbert-pretrain were not used when initializing BertForMaskedLM: ['cls.seq_relationship.bias', 'cls.seq_relationship.weight']\n",
            "- This IS expected if you are initializing BertForMaskedLM from the checkpoint of a model trained on another task or with another architecture (e.g. initializing a BertForSequenceClassification model from a BertForPreTraining model).\n",
            "- This IS NOT expected if you are initializing BertForMaskedLM from the checkpoint of a model that you expect to be exactly identical (initializing a BertForSequenceClassification model from a BertForSequenceClassification model).\n",
            "Some weights of the model checkpoint at bert-base-uncased were not used when initializing BertModel: ['cls.predictions.bias', 'cls.seq_relationship.bias', 'cls.predictions.decoder.weight', 'cls.seq_relationship.weight', 'cls.predictions.transform.dense.bias', 'cls.predictions.transform.dense.weight', 'cls.predictions.transform.LayerNorm.weight', 'cls.predictions.transform.LayerNorm.bias']\n",
            "- This IS expected if you are initializing BertModel from the checkpoint of a model trained on another task or with another architecture (e.g. initializing a BertForSequenceClassification model from a BertForPreTraining model).\n",
            "- This IS NOT expected if you are initializing BertModel from the checkpoint of a model that you expect to be exactly identical (initializing a BertForSequenceClassification model from a BertForSequenceClassification model).\n"
          ]
        },
        {
          "output_type": "stream",
          "name": "stdout",
          "text": [
            "['According to the report published by Allied Market Research, the Canada financial guarantee market was estimated at $1.32 billion in 2020 and is expected to hit $2.19 billion by 2028, registering a CAGR of 7.3% from 2021 to 2028. The report provides an in-depth analysis of the top investment pockets, top winning strategies, drivers & opportunities, market size & estimations, competitive scenario, and wavering market trends.', '', 'Download Free Sample Report : https://rb.gy/7wt8xk', '', 'Reduction in financial risks, rise in financial guarantee in international business, and technological advancements in the field of financing drive the growth of the Canada financial guarantee market. On the other hand, lack of credit facilities for SMEs and trade wars between countries impede the growth to some extent. However, surge in import and export activities are expected to create lucrative opportunities in the industry.', '', 'Top Impacting Factors', '', 'Financial Guarantee Facilitates International Business among Importers and Exporters', '', 'Financial guarantee facilitates cross-border transactions between importers and exporters. Importers can import goods to and from Canada by availing financial guarantors from banks and pay back later. Exporter can be rest assured that there will be no default in payment, as banks provide guarantee for the payment. Therefore, importers and exporters can increase international business and deal with number of traders for different types of goods & services for cross-border transactions. Thus, increase in cross-border business between Canada and other countries significantly contributes toward the growth of the market.', '', 'Interested to Procure the Data? Inquire here @: https://rb.gy/slcvgl', '', 'Based on enterprise size, the large enterprises segment contributed to nearly three-fifths of the total market share in 2020, and is expected to dominate by 2028. The small-sized enterprises segment, on the other hand, would cite the fastest CAGR of 8.7% throughout the forecast period.', '', 'Based on end user, the importers segment held the major share in 2020, garnering more than half of the total market. The same segment would also cite the fastest CAGR of 7.6% from 2021 to 2028. The report also studies the exporters segment.', '', 'Key Benefits for Stakeholders', '', 'The study provides in-depth analysis of the Canada financial guarantee market share along with current & future trends to illustrate the imminent investment pockets.', '', 'Information about key drivers, restrains, & opportunities and their impact analysis on the Canada financial guarantee market size are provided in the report.', '', 'Porter’s five forces analysis illustrates the potency of buyers and suppliers operating in the market.', '', 'An extensive analysis of the key segments of the industry helps to understand the Canada financial guarantee market trends.', '', 'The quantitative analysis of the Canada financial guarantee market forecast from 2021 to 2028 is provided to determine the market potential.', '', 'Key Market Segments', '', 'By Product Type', '', 'Bank Guarantees', '', 'Documentary Letter of Credit', '', 'Standby Letter of Credit (SBLC)', '', 'Receivables Financing', '', 'Others', '', 'By Enterprise Size', '', 'Small Enterprises', '', 'Medium-sized Enterprises', '', 'Large Enterprises', '', 'By End User', '', 'Exporters', '', 'Importers', '', 'Key Market Players', '', 'Scotiabank', '', 'Toronto Dominion', '', 'Banque Nationale du Canada (National Bank of Canada)', '', 'Banque de Montreal (Bank of Montreal)', '', 'BNP Paribas', '', 'HSBC', '', 'Citigroup, Inc.', '', 'CIBC', '', 'Royal Bank of Canada', '', 'Export Development Canada', '', 'Request Customization : https://rb.gy/rfvzhu', '', 'Related Links:', '', 'Financial Consulting Software Market: https://www.alliedmarketresearch.com/financial-consulting-software-market-A17212', '', 'Robotic Process Automation (RPA) in Financial Services Market: https://www.alliedmarketresearch.com/robotic-process-automation-rpa-in-financial-services-market-A06933', '', 'Financial Guarantee Market: https://www.alliedmarketresearch.com/financial-guarantee-market-A14515', '', 'Canada Financial Guarantee Market: https://www.alliedmarketresearch.com/canada-financial-guarantee-market-A12500', '', 'Debt Financing Market: https://www.alliedmarketresearch.com/debt-financing-market-A06292', '', 'Financial Leasing Services Market: https://www.alliedmarketresearch.com/financial-leasing-services-market-A06707', '', 'Blockchain Finance Market: https://www.alliedmarketresearch.com/blockchain-finance-market-A11750', '', 'Household Finances Market: https://www.alliedmarketresearch.com/household-finances-market-A12005', '', 'Infrastructure Finance Market: https://www.alliedmarketresearch.com/infrastructure-finance-market-A11990', '', 'Financial Fraud Detection Software Market: https://www.alliedmarketresearch.com/financial-fraud-detection-software-market-A12743', '', 'About Us:', '', 'Allied Market Research (AMR) is a full-service market research and business-consulting wing of Allied Analytics LLP based in Portland, Oregon. Allied Market Research provides global enterprises as well as medium and small businesses with unmatched quality of “Market Research Reports” and “Business Intelligence Solutions.” AMR has a targeted view to provide business insights and consulting to assist its clients to make strategic business decisions and achieve sustainable growth in their respective market domain.', '', 'We are in professional corporate relations with various companies and this helps us in digging out market data that helps us generate accurate research data tables and confirms utmost accuracy in our market forecasting. Allied Market Research CEO Pawan Kumar is instrumental in inspiring and encouraging everyone associated with the company to maintain high quality of data and help clients in every way possible to achieve success. Each and every data presented in the reports published by us is extracted through primary interviews with top officials from leading companies of domain concerned. Our secondary data procurement methodology includes deep online and offline research and discussion with knowledgeable professionals and analysts in the industry.', '', 'Contact Us:', '', 'David Correa', '', '5933 NE Win Sivers Drive', '', '#205, Portland, OR 97220', '', 'United States', '', 'USA/Canada (Toll Free):', '', '+1-800-792-5285, +1-503-894-6022', '', 'UK: +44-845-528-1300', '', 'Hong Kong: +852-301-84916', '', 'India (Pune): +91-20-66346060', '', 'Fax: +1(855)550-5975', '', '[email protected]', '', 'Web: www.alliedmarketresearch.com', '', 'Allied Market Research Blog: https://blog.alliedmarketresearch.com', '', 'Follow Us on | Facebook | LinkedIn | YouTube |']\n"
          ]
        },
        {
          "output_type": "stream",
          "name": "stderr",
          "text": [
            "Some weights of the model checkpoint at yiyanghkust/finbert-pretrain were not used when initializing BertForMaskedLM: ['cls.seq_relationship.bias', 'cls.seq_relationship.weight']\n",
            "- This IS expected if you are initializing BertForMaskedLM from the checkpoint of a model trained on another task or with another architecture (e.g. initializing a BertForSequenceClassification model from a BertForPreTraining model).\n",
            "- This IS NOT expected if you are initializing BertForMaskedLM from the checkpoint of a model that you expect to be exactly identical (initializing a BertForSequenceClassification model from a BertForSequenceClassification model).\n",
            "Some weights of the model checkpoint at bert-base-uncased were not used when initializing BertModel: ['cls.predictions.bias', 'cls.seq_relationship.bias', 'cls.predictions.decoder.weight', 'cls.seq_relationship.weight', 'cls.predictions.transform.dense.bias', 'cls.predictions.transform.dense.weight', 'cls.predictions.transform.LayerNorm.weight', 'cls.predictions.transform.LayerNorm.bias']\n",
            "- This IS expected if you are initializing BertModel from the checkpoint of a model trained on another task or with another architecture (e.g. initializing a BertForSequenceClassification model from a BertForPreTraining model).\n",
            "- This IS NOT expected if you are initializing BertModel from the checkpoint of a model that you expect to be exactly identical (initializing a BertForSequenceClassification model from a BertForSequenceClassification model).\n"
          ]
        },
        {
          "output_type": "stream",
          "name": "stdout",
          "text": [
            "['10 remote jobs where you can work from anywhere and earn just as much', '', 'It looks like it could be a bleak winter for many but Christmas doesn’t have to be a complete wash out.', '', 'Emilie Nutley is one of a number of people who are having a clear out and selling things online to make savings and pay for presents this festive season.', '', 'She told Express.co.uk: “I’m currently selling our old clothes and clothes my little boy has grown out of on Vinted and using the balance to buy Christmas presents and new clothes we need.', '', '“I’ve also asked my family to get us things we need like a high chair and weaning stuff, rather than soft toys and clothes, because they’re the more pricey items that we need.”', '', 'READ MORE: 10 remote jobs where you can work from anywhere and earn just as much']\n"
          ]
        },
        {
          "output_type": "stream",
          "name": "stderr",
          "text": [
            "Some weights of the model checkpoint at yiyanghkust/finbert-pretrain were not used when initializing BertForMaskedLM: ['cls.seq_relationship.bias', 'cls.seq_relationship.weight']\n",
            "- This IS expected if you are initializing BertForMaskedLM from the checkpoint of a model trained on another task or with another architecture (e.g. initializing a BertForSequenceClassification model from a BertForPreTraining model).\n",
            "- This IS NOT expected if you are initializing BertForMaskedLM from the checkpoint of a model that you expect to be exactly identical (initializing a BertForSequenceClassification model from a BertForSequenceClassification model).\n",
            "Some weights of the model checkpoint at bert-base-uncased were not used when initializing BertModel: ['cls.predictions.bias', 'cls.seq_relationship.bias', 'cls.predictions.decoder.weight', 'cls.seq_relationship.weight', 'cls.predictions.transform.dense.bias', 'cls.predictions.transform.dense.weight', 'cls.predictions.transform.LayerNorm.weight', 'cls.predictions.transform.LayerNorm.bias']\n",
            "- This IS expected if you are initializing BertModel from the checkpoint of a model trained on another task or with another architecture (e.g. initializing a BertForSequenceClassification model from a BertForPreTraining model).\n",
            "- This IS NOT expected if you are initializing BertModel from the checkpoint of a model that you expect to be exactly identical (initializing a BertForSequenceClassification model from a BertForSequenceClassification model).\n"
          ]
        },
        {
          "output_type": "stream",
          "name": "stdout",
          "text": [
            "['Dublin, Nov. 24, 2022 (GLOBE NEWSWIRE) -- The \"UK Mortgage Holders Consumer Research Report 2022\" report has been added to ResearchAndMarkets.com\\'s offering.', '', 'The UK Mortgage Holders Consumer Research Report 2022 offers insights into consumer behaviour, perceptions, brand awareness, and intentions.', '', 'The report considers the current situation for mortgage holders in the UK and explores the short and medium term future for mortgage holders given recent increases in interest rates and mortgage repayments. It is based on a national consumer survey of 613 mortgage holders undertaken in November 2022.', '', 'As well as the report the price includes a data spreadsheet with detailed survey results in total and by age, sex, region, income.', '', 'This report comes at a time when many mortgage holders are having to deal with increased monthly payments as a result of the mini-budget in October 2022 and subsequent increases in interest rates.', '', 'A majority of survey respondents accept that increased payments will put some strain on household finances and, for over a quarter, there are real concerns that they will not be able to make their monthly repayments moving forward. Over one in five in the survey are worried that they may have to sell their home as they struggle with repayments.', '', 'A large majority are on fixed rate mortgage deals and over a quarter of these will end in 2023 but this increases to more than 4 out of 10 young adults having fixed rate deals ending in 2023. So the stress associated with the ending of these deals will impact especially on younger adults.', '', 'Most of those on fixed rate deals ending in 2023 have started to look at their options but a worry is that almost 40% have not looked at what they will do when the deal ends.', '', 'A majority on variable rate mortgages have a standard rate deal while just under a third have a tracker mortgage.', '', 'Across the total sample, over 40% are expecting to turn to their savings to help with mortgage repayments while a third are likely to have to ask parents or relatives for help with repayments. In younger age groups, the percentage likely to ask parents or relatives for support increases to between 44% (18 to 24 year olds) and 59% (25 to 34 year olds).', '', 'The top 5 lender brands account for over 60% of mortgages held by survey respondents.', '', 'Topics covered:', '', 'Situation of mortgage holders (to include first-time buyers)', '', 'Date mortgage taken out', '', 'Mortgage types', '', 'Types of variable mortgages', '', 'Situation and issues for those on fixed rate mortgages ending in 2023', '', 'Amounts left to pay', '', 'Value of current home', '', 'Monthly payments', '', 'Any changes to monthly payment after mini-budget in Oct 2022', '', 'Value of amount outstanding on mortgage loan', '', 'Moving home in next year and reasons for moving', '', 'Postponing a home move and reasons', '', 'Use of mortgage lender brands and market share', '', 'Key Topics Covered:', '', 'EXECUTIVE SUMMARY', '', 'Summary', '', 'Repayment mortgages and fixed rates dominate', '', 'Just over half considering options for when fixed rate deals end in 2023', '', 'Median mortgage loan outstanding is £122,000', '', 'A third already facing increases in monthly mortgage payments', '', 'Most can cope with higher monthly payments but concerns for over a quarter', '', 'Fewer than 10% considering moving home in 2023', '', 'Top 5 mortgage brands account for over 60% of mortgages', '', 'INTRODUCTION', '', 'Overview', '', 'Methodology', '', 'MORTGAGE HOLDERS - BACKGROUND', '', 'Under half of all mortgage holders are first-time buyers', '', 'Almost equal split between those buying in last 5 years and those buying before', '', 'MORTGAGE TYPES', '', 'Large majority on repayment mortgages and fixed rate deals', '', 'Almost 4 out 10 not yet considered next steps when fixed rate deal ends in 2023', '', 'Majority on standard variable rate but almost a third have a tracker mortgage', '', 'MORTGAGE REPAYMENTS', '', 'Median mortgage loan outstanding is £122,000', '', 'Median monthly repayment is £545 and a third are facing monthly increases', '', 'Over a quarter foresee major problems paying any increased monthly payments', '', 'PLANS TO MOVE HOME', '', 'Only 6% likely to move to a new home in the next year', '', 'MORTGAGE PROVIDER BRANDS', '', 'Top 5 lender brands account for over 60% of mortgages held', '', 'Companies Mentioned', '', 'Halifax', '', 'Nationwide', '', 'Santander', '', 'Nat West', '', 'HSBC', '', 'Lloyds Bank', '', 'Bank of Scotland', '', 'Co-operative Bank', '', 'Coventry BS', '', 'TSB', '', 'Bank of Ireland', '', 'Leeds BS', '', 'Clydesdale Bank', '', 'Virgin Money', '', 'Yorkshire BS', '', 'Aviva Equity Release Loans', '', 'Kensington Mortgages Co', '', 'Foundation Home Loans', '', 'Skipton BS', '', 'West Bromwich BS', '', 'For more information about this report visit https://www.researchandmarkets.com/r/wta4fm', '', 'CONTACT: ResearchAndMarkets.com Laura Wood,Senior Press Manager press@researchandmarkets.com For E.S.T Office Hours Call 1-917-300-0470 For U.S./ CAN Toll Free Call 1-800-526-8630 For GMT Office Hours Call +353-1-416-8900']\n"
          ]
        },
        {
          "output_type": "stream",
          "name": "stderr",
          "text": [
            "Some weights of the model checkpoint at yiyanghkust/finbert-pretrain were not used when initializing BertForMaskedLM: ['cls.seq_relationship.bias', 'cls.seq_relationship.weight']\n",
            "- This IS expected if you are initializing BertForMaskedLM from the checkpoint of a model trained on another task or with another architecture (e.g. initializing a BertForSequenceClassification model from a BertForPreTraining model).\n",
            "- This IS NOT expected if you are initializing BertForMaskedLM from the checkpoint of a model that you expect to be exactly identical (initializing a BertForSequenceClassification model from a BertForSequenceClassification model).\n",
            "Some weights of the model checkpoint at bert-base-uncased were not used when initializing BertModel: ['cls.predictions.bias', 'cls.seq_relationship.bias', 'cls.predictions.decoder.weight', 'cls.seq_relationship.weight', 'cls.predictions.transform.dense.bias', 'cls.predictions.transform.dense.weight', 'cls.predictions.transform.LayerNorm.weight', 'cls.predictions.transform.LayerNorm.bias']\n",
            "- This IS expected if you are initializing BertModel from the checkpoint of a model trained on another task or with another architecture (e.g. initializing a BertForSequenceClassification model from a BertForPreTraining model).\n",
            "- This IS NOT expected if you are initializing BertModel from the checkpoint of a model that you expect to be exactly identical (initializing a BertForSequenceClassification model from a BertForSequenceClassification model).\n"
          ]
        }
      ]
    },
    {
      "cell_type": "code",
      "source": [
        "print(len(article_title))\n",
        "print(len(article_date))\n",
        "print(len(article_summarized_text))\n",
        "print(len(tone))\n",
        "print(len(tone_score))\n",
        "d = {'Title': article_title,\n",
        "     'Date': article_date, \n",
        "     'Original Text': article_text,\n",
        "     'Summarized Text': article_summarized_text,\n",
        "     'FinBERT Tone': tone,\n",
        "     'Tone Score': tone_score}\n",
        "df_data_storage = pd.DataFrame(data=d)\n",
        "\n",
        "#pass to function and append new news to the excel\n",
        "to_storage(df_data_storage)"
      ],
      "metadata": {
        "colab": {
          "base_uri": "https://localhost:8080/"
        },
        "id": "Hp8I0PWdCxIQ",
        "outputId": "0a931655-7466-496f-933d-b08be27b74a9"
      },
      "execution_count": 19,
      "outputs": [
        {
          "output_type": "stream",
          "name": "stdout",
          "text": [
            "100\n",
            "100\n",
            "100\n",
            "100\n",
            "100\n",
            "successful saved...\n",
            " ==================================================\n"
          ]
        }
      ]
    },
    {
      "cell_type": "code",
      "source": [
        "df_data_storage.to_excel(\"output.xlsx\", index = None)\n",
        "df_test = pd.read_excel('output.xlsx')\n",
        "df_test"
      ],
      "metadata": {
        "colab": {
          "base_uri": "https://localhost:8080/",
          "height": 832
        },
        "id": "DWt48FizVUAH",
        "outputId": "677ca037-1964-40df-a950-be3fd6e51e54"
      },
      "execution_count": 20,
      "outputs": [
        {
          "output_type": "execute_result",
          "data": {
            "text/plain": [
              "                                                Title  \\\n",
              "0   HSBC Global Private Banking launches digital D...   \n",
              "1   HSBC Advance Account Review – Forbes Advisor U...   \n",
              "2   HSBC follows BlackRock with downgrade to 'ligh...   \n",
              "3   HSBC Life pays out 100% of prostate and testic...   \n",
              "4   Will financial firms’ sustainability targets b...   \n",
              "..                                                ...   \n",
              "95  Castletown cost of living workshop afternoon -...   \n",
              "96  The insurance market's quest for a digital val...   \n",
              "97  Canada Financial Guarantee Market : Rise in Im...   \n",
              "98  Mum shares ‘super simple’ way she is saving £2...   \n",
              "99  United Kingdom Mortgage Holders Consumer Resea...   \n",
              "\n",
              "                             Date  \\\n",
              "0   Thu, 24 Nov 2022 14:27:19 GMT   \n",
              "1   Thu, 24 Nov 2022 19:55:00 GMT   \n",
              "2   Thu, 24 Nov 2022 05:01:16 GMT   \n",
              "3   Thu, 24 Nov 2022 14:44:44 GMT   \n",
              "4   Thu, 24 Nov 2022 08:00:17 GMT   \n",
              "..                            ...   \n",
              "95  Thu, 24 Nov 2022 13:47:00 GMT   \n",
              "96  Thu, 24 Nov 2022 18:05:24 GMT   \n",
              "97  Thu, 24 Nov 2022 19:10:24 GMT   \n",
              "98  Thu, 24 Nov 2022 18:46:00 GMT   \n",
              "99  Thu, 24 Nov 2022 10:58:00 GMT   \n",
              "\n",
              "                                        Original Text  \\\n",
              "0   Siew Meng Tan HSBC Global Private Banking (GPB...   \n",
              "1                                                 NaN   \n",
              "2   Latest news on ETFs Visit our ETF Hub to find ...   \n",
              "3   HSBC Life has paid out on 100 per cent of pros...   \n",
              "4   The HSBC headquarters in Hong Kong’s Central. ...   \n",
              "..                                                ...   \n",
              "95  The event is being run to support residents Ca...   \n",
              "96  Privacy Policy Our privacy commitments This Pr...   \n",
              "97  According to the report published by Allied Ma...   \n",
              "98  10 remote jobs where you can work from anywher...   \n",
              "99  Dublin, Nov. 24, 2022 (GLOBE NEWSWIRE) -- The ...   \n",
              "\n",
              "                                      Summarized Text FinBERT Tone  Tone Score  \n",
              "0   Siew Meng Tan HSBC Global Private Banking (GPB...     Positive    0.999036  \n",
              "1                                                 NaN      Neutral    0.967353  \n",
              "2   Latest news on ETFs Visit our ETF Hub to find ...      Neutral    0.999808  \n",
              "3   HSBC Life has paid out on 100 per cent of pros...      Neutral    0.999970  \n",
              "4   The bank’s third ESG sentiment survey this yea...      Neutral    0.999990  \n",
              "..                                                ...          ...         ...  \n",
              "95  The event is being run to support residents Ca...      Neutral    0.999998  \n",
              "96  Privacy Policy Our privacy commitments This Pr...      Neutral    0.994587  \n",
              "97  According to the report published by Allied Ma...      Neutral    0.999571  \n",
              "98  10 remote jobs where you can work from anywher...      Neutral    0.980784  \n",
              "99  Dublin, Nov. 24, 2022 (GLOBE NEWSWIRE) -- The ...      Neutral    0.999381  \n",
              "\n",
              "[100 rows x 6 columns]"
            ],
            "text/html": [
              "\n",
              "  <div id=\"df-c877477d-12b9-4aad-b597-8c090f061085\">\n",
              "    <div class=\"colab-df-container\">\n",
              "      <div>\n",
              "<style scoped>\n",
              "    .dataframe tbody tr th:only-of-type {\n",
              "        vertical-align: middle;\n",
              "    }\n",
              "\n",
              "    .dataframe tbody tr th {\n",
              "        vertical-align: top;\n",
              "    }\n",
              "\n",
              "    .dataframe thead th {\n",
              "        text-align: right;\n",
              "    }\n",
              "</style>\n",
              "<table border=\"1\" class=\"dataframe\">\n",
              "  <thead>\n",
              "    <tr style=\"text-align: right;\">\n",
              "      <th></th>\n",
              "      <th>Title</th>\n",
              "      <th>Date</th>\n",
              "      <th>Original Text</th>\n",
              "      <th>Summarized Text</th>\n",
              "      <th>FinBERT Tone</th>\n",
              "      <th>Tone Score</th>\n",
              "    </tr>\n",
              "  </thead>\n",
              "  <tbody>\n",
              "    <tr>\n",
              "      <th>0</th>\n",
              "      <td>HSBC Global Private Banking launches digital D...</td>\n",
              "      <td>Thu, 24 Nov 2022 14:27:19 GMT</td>\n",
              "      <td>Siew Meng Tan HSBC Global Private Banking (GPB...</td>\n",
              "      <td>Siew Meng Tan HSBC Global Private Banking (GPB...</td>\n",
              "      <td>Positive</td>\n",
              "      <td>0.999036</td>\n",
              "    </tr>\n",
              "    <tr>\n",
              "      <th>1</th>\n",
              "      <td>HSBC Advance Account Review – Forbes Advisor U...</td>\n",
              "      <td>Thu, 24 Nov 2022 19:55:00 GMT</td>\n",
              "      <td>NaN</td>\n",
              "      <td>NaN</td>\n",
              "      <td>Neutral</td>\n",
              "      <td>0.967353</td>\n",
              "    </tr>\n",
              "    <tr>\n",
              "      <th>2</th>\n",
              "      <td>HSBC follows BlackRock with downgrade to 'ligh...</td>\n",
              "      <td>Thu, 24 Nov 2022 05:01:16 GMT</td>\n",
              "      <td>Latest news on ETFs Visit our ETF Hub to find ...</td>\n",
              "      <td>Latest news on ETFs Visit our ETF Hub to find ...</td>\n",
              "      <td>Neutral</td>\n",
              "      <td>0.999808</td>\n",
              "    </tr>\n",
              "    <tr>\n",
              "      <th>3</th>\n",
              "      <td>HSBC Life pays out 100% of prostate and testic...</td>\n",
              "      <td>Thu, 24 Nov 2022 14:44:44 GMT</td>\n",
              "      <td>HSBC Life has paid out on 100 per cent of pros...</td>\n",
              "      <td>HSBC Life has paid out on 100 per cent of pros...</td>\n",
              "      <td>Neutral</td>\n",
              "      <td>0.999970</td>\n",
              "    </tr>\n",
              "    <tr>\n",
              "      <th>4</th>\n",
              "      <td>Will financial firms’ sustainability targets b...</td>\n",
              "      <td>Thu, 24 Nov 2022 08:00:17 GMT</td>\n",
              "      <td>The HSBC headquarters in Hong Kong’s Central. ...</td>\n",
              "      <td>The bank’s third ESG sentiment survey this yea...</td>\n",
              "      <td>Neutral</td>\n",
              "      <td>0.999990</td>\n",
              "    </tr>\n",
              "    <tr>\n",
              "      <th>...</th>\n",
              "      <td>...</td>\n",
              "      <td>...</td>\n",
              "      <td>...</td>\n",
              "      <td>...</td>\n",
              "      <td>...</td>\n",
              "      <td>...</td>\n",
              "    </tr>\n",
              "    <tr>\n",
              "      <th>95</th>\n",
              "      <td>Castletown cost of living workshop afternoon -...</td>\n",
              "      <td>Thu, 24 Nov 2022 13:47:00 GMT</td>\n",
              "      <td>The event is being run to support residents Ca...</td>\n",
              "      <td>The event is being run to support residents Ca...</td>\n",
              "      <td>Neutral</td>\n",
              "      <td>0.999998</td>\n",
              "    </tr>\n",
              "    <tr>\n",
              "      <th>96</th>\n",
              "      <td>The insurance market's quest for a digital val...</td>\n",
              "      <td>Thu, 24 Nov 2022 18:05:24 GMT</td>\n",
              "      <td>Privacy Policy Our privacy commitments This Pr...</td>\n",
              "      <td>Privacy Policy Our privacy commitments This Pr...</td>\n",
              "      <td>Neutral</td>\n",
              "      <td>0.994587</td>\n",
              "    </tr>\n",
              "    <tr>\n",
              "      <th>97</th>\n",
              "      <td>Canada Financial Guarantee Market : Rise in Im...</td>\n",
              "      <td>Thu, 24 Nov 2022 19:10:24 GMT</td>\n",
              "      <td>According to the report published by Allied Ma...</td>\n",
              "      <td>According to the report published by Allied Ma...</td>\n",
              "      <td>Neutral</td>\n",
              "      <td>0.999571</td>\n",
              "    </tr>\n",
              "    <tr>\n",
              "      <th>98</th>\n",
              "      <td>Mum shares ‘super simple’ way she is saving £2...</td>\n",
              "      <td>Thu, 24 Nov 2022 18:46:00 GMT</td>\n",
              "      <td>10 remote jobs where you can work from anywher...</td>\n",
              "      <td>10 remote jobs where you can work from anywher...</td>\n",
              "      <td>Neutral</td>\n",
              "      <td>0.980784</td>\n",
              "    </tr>\n",
              "    <tr>\n",
              "      <th>99</th>\n",
              "      <td>United Kingdom Mortgage Holders Consumer Resea...</td>\n",
              "      <td>Thu, 24 Nov 2022 10:58:00 GMT</td>\n",
              "      <td>Dublin, Nov. 24, 2022 (GLOBE NEWSWIRE) -- The ...</td>\n",
              "      <td>Dublin, Nov. 24, 2022 (GLOBE NEWSWIRE) -- The ...</td>\n",
              "      <td>Neutral</td>\n",
              "      <td>0.999381</td>\n",
              "    </tr>\n",
              "  </tbody>\n",
              "</table>\n",
              "<p>100 rows × 6 columns</p>\n",
              "</div>\n",
              "      <button class=\"colab-df-convert\" onclick=\"convertToInteractive('df-c877477d-12b9-4aad-b597-8c090f061085')\"\n",
              "              title=\"Convert this dataframe to an interactive table.\"\n",
              "              style=\"display:none;\">\n",
              "        \n",
              "  <svg xmlns=\"http://www.w3.org/2000/svg\" height=\"24px\"viewBox=\"0 0 24 24\"\n",
              "       width=\"24px\">\n",
              "    <path d=\"M0 0h24v24H0V0z\" fill=\"none\"/>\n",
              "    <path d=\"M18.56 5.44l.94 2.06.94-2.06 2.06-.94-2.06-.94-.94-2.06-.94 2.06-2.06.94zm-11 1L8.5 8.5l.94-2.06 2.06-.94-2.06-.94L8.5 2.5l-.94 2.06-2.06.94zm10 10l.94 2.06.94-2.06 2.06-.94-2.06-.94-.94-2.06-.94 2.06-2.06.94z\"/><path d=\"M17.41 7.96l-1.37-1.37c-.4-.4-.92-.59-1.43-.59-.52 0-1.04.2-1.43.59L10.3 9.45l-7.72 7.72c-.78.78-.78 2.05 0 2.83L4 21.41c.39.39.9.59 1.41.59.51 0 1.02-.2 1.41-.59l7.78-7.78 2.81-2.81c.8-.78.8-2.07 0-2.86zM5.41 20L4 18.59l7.72-7.72 1.47 1.35L5.41 20z\"/>\n",
              "  </svg>\n",
              "      </button>\n",
              "      \n",
              "  <style>\n",
              "    .colab-df-container {\n",
              "      display:flex;\n",
              "      flex-wrap:wrap;\n",
              "      gap: 12px;\n",
              "    }\n",
              "\n",
              "    .colab-df-convert {\n",
              "      background-color: #E8F0FE;\n",
              "      border: none;\n",
              "      border-radius: 50%;\n",
              "      cursor: pointer;\n",
              "      display: none;\n",
              "      fill: #1967D2;\n",
              "      height: 32px;\n",
              "      padding: 0 0 0 0;\n",
              "      width: 32px;\n",
              "    }\n",
              "\n",
              "    .colab-df-convert:hover {\n",
              "      background-color: #E2EBFA;\n",
              "      box-shadow: 0px 1px 2px rgba(60, 64, 67, 0.3), 0px 1px 3px 1px rgba(60, 64, 67, 0.15);\n",
              "      fill: #174EA6;\n",
              "    }\n",
              "\n",
              "    [theme=dark] .colab-df-convert {\n",
              "      background-color: #3B4455;\n",
              "      fill: #D2E3FC;\n",
              "    }\n",
              "\n",
              "    [theme=dark] .colab-df-convert:hover {\n",
              "      background-color: #434B5C;\n",
              "      box-shadow: 0px 1px 3px 1px rgba(0, 0, 0, 0.15);\n",
              "      filter: drop-shadow(0px 1px 2px rgba(0, 0, 0, 0.3));\n",
              "      fill: #FFFFFF;\n",
              "    }\n",
              "  </style>\n",
              "\n",
              "      <script>\n",
              "        const buttonEl =\n",
              "          document.querySelector('#df-c877477d-12b9-4aad-b597-8c090f061085 button.colab-df-convert');\n",
              "        buttonEl.style.display =\n",
              "          google.colab.kernel.accessAllowed ? 'block' : 'none';\n",
              "\n",
              "        async function convertToInteractive(key) {\n",
              "          const element = document.querySelector('#df-c877477d-12b9-4aad-b597-8c090f061085');\n",
              "          const dataTable =\n",
              "            await google.colab.kernel.invokeFunction('convertToInteractive',\n",
              "                                                     [key], {});\n",
              "          if (!dataTable) return;\n",
              "\n",
              "          const docLinkHtml = 'Like what you see? Visit the ' +\n",
              "            '<a target=\"_blank\" href=https://colab.research.google.com/notebooks/data_table.ipynb>data table notebook</a>'\n",
              "            + ' to learn more about interactive tables.';\n",
              "          element.innerHTML = '';\n",
              "          dataTable['output_type'] = 'display_data';\n",
              "          await google.colab.output.renderOutput(dataTable, element);\n",
              "          const docLink = document.createElement('div');\n",
              "          docLink.innerHTML = docLinkHtml;\n",
              "          element.appendChild(docLink);\n",
              "        }\n",
              "      </script>\n",
              "    </div>\n",
              "  </div>\n",
              "  "
            ]
          },
          "metadata": {},
          "execution_count": 20
        }
      ]
    },
    {
      "cell_type": "code",
      "source": [
        "result_check = pd.read_excel('/content/drive/MyDrive/Colab Notebooks/Data/News Storage.xlsx')\n",
        "result_check"
      ],
      "metadata": {
        "colab": {
          "base_uri": "https://localhost:8080/",
          "height": 1000
        },
        "id": "fGNvZlY4qr7Z",
        "outputId": "e537c6ba-6c12-4c9f-867f-1455ff79a006"
      },
      "execution_count": 21,
      "outputs": [
        {
          "output_type": "execute_result",
          "data": {
            "text/plain": [
              "     Unnamed: 0                                              Title  \\\n",
              "0             0  HSBC Bank Plc: HSBC Bank Plc - Form 8.5 (EPT/R...   \n",
              "1             1  RBNZ Hike Signals Global Tightening Far From O...   \n",
              "2             2  HSBC Campaign Helps You Cut the Strings of Fin...   \n",
              "3             3  January 2023 Options Now Available For HSBC Ho...   \n",
              "4             4  HSBC partners with Star Alliance to offer a ne...   \n",
              "..          ...                                                ...   \n",
              "195         195  Castletown cost of living workshop afternoon -...   \n",
              "196         196  The insurance market's quest for a digital val...   \n",
              "197         197  Canada Financial Guarantee Market : Rise in Im...   \n",
              "198         198  Mum shares ‘super simple’ way she is saving £2...   \n",
              "199         199  United Kingdom Mortgage Holders Consumer Resea...   \n",
              "\n",
              "                              Date  \\\n",
              "0    Wed, 23 Nov 2022 10:15:33 GMT   \n",
              "1    Wed, 23 Nov 2022 05:52:00 GMT   \n",
              "2    Wed, 23 Nov 2022 11:00:22 GMT   \n",
              "3    Wed, 23 Nov 2022 16:27:00 GMT   \n",
              "4    Thu, 24 Nov 2022 01:44:36 GMT   \n",
              "..                             ...   \n",
              "195  Thu, 24 Nov 2022 13:47:00 GMT   \n",
              "196  Thu, 24 Nov 2022 18:05:24 GMT   \n",
              "197  Thu, 24 Nov 2022 19:10:24 GMT   \n",
              "198  Thu, 24 Nov 2022 18:46:00 GMT   \n",
              "199  Thu, 24 Nov 2022 10:58:00 GMT   \n",
              "\n",
              "                                         Original Text  \\\n",
              "0    Why did this happen? Please make sure your bro...   \n",
              "1    Why did this happen? Please make sure your bro...   \n",
              "2    Wunderman Thompson UK has launched the next ph...   \n",
              "3    Investors in HSBC Holdings plc (Symbol: HSBC) ...   \n",
              "4    The partnership between HSBC and Star Alliance...   \n",
              "..                                                 ...   \n",
              "195  The event is being run to support residents Ca...   \n",
              "196  Privacy Policy Our privacy commitments This Pr...   \n",
              "197  According to the report published by Allied Ma...   \n",
              "198  10 remote jobs where you can work from anywher...   \n",
              "199  Dublin, Nov. 24, 2022 (GLOBE NEWSWIRE) -- The ...   \n",
              "\n",
              "                                       Summarized Text FinBERT Tone  \\\n",
              "0    Please make sure your browser supports JavaScr...      Neutral   \n",
              "1    Please make sure your browser supports JavaScr...      Neutral   \n",
              "2    Wunderman Thompson UK has launched the next ph...      Neutral   \n",
              "3    Investors in HSBC Holdings plc (Symbol: HSBC) ...      Neutral   \n",
              "4    The partnership between HSBC and Star Alliance...      Neutral   \n",
              "..                                                 ...          ...   \n",
              "195  The event is being run to support residents Ca...      Neutral   \n",
              "196  Privacy Policy Our privacy commitments This Pr...      Neutral   \n",
              "197  According to the report published by Allied Ma...      Neutral   \n",
              "198  10 remote jobs where you can work from anywher...      Neutral   \n",
              "199  Dublin, Nov. 24, 2022 (GLOBE NEWSWIRE) -- The ...      Neutral   \n",
              "\n",
              "     Tone Score  \n",
              "0      0.999831  \n",
              "1      0.999831  \n",
              "2      0.998732  \n",
              "3      0.999974  \n",
              "4      0.995569  \n",
              "..          ...  \n",
              "195    0.999998  \n",
              "196    0.994587  \n",
              "197    0.999571  \n",
              "198    0.980784  \n",
              "199    0.999381  \n",
              "\n",
              "[200 rows x 7 columns]"
            ],
            "text/html": [
              "\n",
              "  <div id=\"df-334094d0-31e6-4ec6-8005-677a541b0fe2\">\n",
              "    <div class=\"colab-df-container\">\n",
              "      <div>\n",
              "<style scoped>\n",
              "    .dataframe tbody tr th:only-of-type {\n",
              "        vertical-align: middle;\n",
              "    }\n",
              "\n",
              "    .dataframe tbody tr th {\n",
              "        vertical-align: top;\n",
              "    }\n",
              "\n",
              "    .dataframe thead th {\n",
              "        text-align: right;\n",
              "    }\n",
              "</style>\n",
              "<table border=\"1\" class=\"dataframe\">\n",
              "  <thead>\n",
              "    <tr style=\"text-align: right;\">\n",
              "      <th></th>\n",
              "      <th>Unnamed: 0</th>\n",
              "      <th>Title</th>\n",
              "      <th>Date</th>\n",
              "      <th>Original Text</th>\n",
              "      <th>Summarized Text</th>\n",
              "      <th>FinBERT Tone</th>\n",
              "      <th>Tone Score</th>\n",
              "    </tr>\n",
              "  </thead>\n",
              "  <tbody>\n",
              "    <tr>\n",
              "      <th>0</th>\n",
              "      <td>0</td>\n",
              "      <td>HSBC Bank Plc: HSBC Bank Plc - Form 8.5 (EPT/R...</td>\n",
              "      <td>Wed, 23 Nov 2022 10:15:33 GMT</td>\n",
              "      <td>Why did this happen? Please make sure your bro...</td>\n",
              "      <td>Please make sure your browser supports JavaScr...</td>\n",
              "      <td>Neutral</td>\n",
              "      <td>0.999831</td>\n",
              "    </tr>\n",
              "    <tr>\n",
              "      <th>1</th>\n",
              "      <td>1</td>\n",
              "      <td>RBNZ Hike Signals Global Tightening Far From O...</td>\n",
              "      <td>Wed, 23 Nov 2022 05:52:00 GMT</td>\n",
              "      <td>Why did this happen? Please make sure your bro...</td>\n",
              "      <td>Please make sure your browser supports JavaScr...</td>\n",
              "      <td>Neutral</td>\n",
              "      <td>0.999831</td>\n",
              "    </tr>\n",
              "    <tr>\n",
              "      <th>2</th>\n",
              "      <td>2</td>\n",
              "      <td>HSBC Campaign Helps You Cut the Strings of Fin...</td>\n",
              "      <td>Wed, 23 Nov 2022 11:00:22 GMT</td>\n",
              "      <td>Wunderman Thompson UK has launched the next ph...</td>\n",
              "      <td>Wunderman Thompson UK has launched the next ph...</td>\n",
              "      <td>Neutral</td>\n",
              "      <td>0.998732</td>\n",
              "    </tr>\n",
              "    <tr>\n",
              "      <th>3</th>\n",
              "      <td>3</td>\n",
              "      <td>January 2023 Options Now Available For HSBC Ho...</td>\n",
              "      <td>Wed, 23 Nov 2022 16:27:00 GMT</td>\n",
              "      <td>Investors in HSBC Holdings plc (Symbol: HSBC) ...</td>\n",
              "      <td>Investors in HSBC Holdings plc (Symbol: HSBC) ...</td>\n",
              "      <td>Neutral</td>\n",
              "      <td>0.999974</td>\n",
              "    </tr>\n",
              "    <tr>\n",
              "      <th>4</th>\n",
              "      <td>4</td>\n",
              "      <td>HSBC partners with Star Alliance to offer a ne...</td>\n",
              "      <td>Thu, 24 Nov 2022 01:44:36 GMT</td>\n",
              "      <td>The partnership between HSBC and Star Alliance...</td>\n",
              "      <td>The partnership between HSBC and Star Alliance...</td>\n",
              "      <td>Neutral</td>\n",
              "      <td>0.995569</td>\n",
              "    </tr>\n",
              "    <tr>\n",
              "      <th>...</th>\n",
              "      <td>...</td>\n",
              "      <td>...</td>\n",
              "      <td>...</td>\n",
              "      <td>...</td>\n",
              "      <td>...</td>\n",
              "      <td>...</td>\n",
              "      <td>...</td>\n",
              "    </tr>\n",
              "    <tr>\n",
              "      <th>195</th>\n",
              "      <td>195</td>\n",
              "      <td>Castletown cost of living workshop afternoon -...</td>\n",
              "      <td>Thu, 24 Nov 2022 13:47:00 GMT</td>\n",
              "      <td>The event is being run to support residents Ca...</td>\n",
              "      <td>The event is being run to support residents Ca...</td>\n",
              "      <td>Neutral</td>\n",
              "      <td>0.999998</td>\n",
              "    </tr>\n",
              "    <tr>\n",
              "      <th>196</th>\n",
              "      <td>196</td>\n",
              "      <td>The insurance market's quest for a digital val...</td>\n",
              "      <td>Thu, 24 Nov 2022 18:05:24 GMT</td>\n",
              "      <td>Privacy Policy Our privacy commitments This Pr...</td>\n",
              "      <td>Privacy Policy Our privacy commitments This Pr...</td>\n",
              "      <td>Neutral</td>\n",
              "      <td>0.994587</td>\n",
              "    </tr>\n",
              "    <tr>\n",
              "      <th>197</th>\n",
              "      <td>197</td>\n",
              "      <td>Canada Financial Guarantee Market : Rise in Im...</td>\n",
              "      <td>Thu, 24 Nov 2022 19:10:24 GMT</td>\n",
              "      <td>According to the report published by Allied Ma...</td>\n",
              "      <td>According to the report published by Allied Ma...</td>\n",
              "      <td>Neutral</td>\n",
              "      <td>0.999571</td>\n",
              "    </tr>\n",
              "    <tr>\n",
              "      <th>198</th>\n",
              "      <td>198</td>\n",
              "      <td>Mum shares ‘super simple’ way she is saving £2...</td>\n",
              "      <td>Thu, 24 Nov 2022 18:46:00 GMT</td>\n",
              "      <td>10 remote jobs where you can work from anywher...</td>\n",
              "      <td>10 remote jobs where you can work from anywher...</td>\n",
              "      <td>Neutral</td>\n",
              "      <td>0.980784</td>\n",
              "    </tr>\n",
              "    <tr>\n",
              "      <th>199</th>\n",
              "      <td>199</td>\n",
              "      <td>United Kingdom Mortgage Holders Consumer Resea...</td>\n",
              "      <td>Thu, 24 Nov 2022 10:58:00 GMT</td>\n",
              "      <td>Dublin, Nov. 24, 2022 (GLOBE NEWSWIRE) -- The ...</td>\n",
              "      <td>Dublin, Nov. 24, 2022 (GLOBE NEWSWIRE) -- The ...</td>\n",
              "      <td>Neutral</td>\n",
              "      <td>0.999381</td>\n",
              "    </tr>\n",
              "  </tbody>\n",
              "</table>\n",
              "<p>200 rows × 7 columns</p>\n",
              "</div>\n",
              "      <button class=\"colab-df-convert\" onclick=\"convertToInteractive('df-334094d0-31e6-4ec6-8005-677a541b0fe2')\"\n",
              "              title=\"Convert this dataframe to an interactive table.\"\n",
              "              style=\"display:none;\">\n",
              "        \n",
              "  <svg xmlns=\"http://www.w3.org/2000/svg\" height=\"24px\"viewBox=\"0 0 24 24\"\n",
              "       width=\"24px\">\n",
              "    <path d=\"M0 0h24v24H0V0z\" fill=\"none\"/>\n",
              "    <path d=\"M18.56 5.44l.94 2.06.94-2.06 2.06-.94-2.06-.94-.94-2.06-.94 2.06-2.06.94zm-11 1L8.5 8.5l.94-2.06 2.06-.94-2.06-.94L8.5 2.5l-.94 2.06-2.06.94zm10 10l.94 2.06.94-2.06 2.06-.94-2.06-.94-.94-2.06-.94 2.06-2.06.94z\"/><path d=\"M17.41 7.96l-1.37-1.37c-.4-.4-.92-.59-1.43-.59-.52 0-1.04.2-1.43.59L10.3 9.45l-7.72 7.72c-.78.78-.78 2.05 0 2.83L4 21.41c.39.39.9.59 1.41.59.51 0 1.02-.2 1.41-.59l7.78-7.78 2.81-2.81c.8-.78.8-2.07 0-2.86zM5.41 20L4 18.59l7.72-7.72 1.47 1.35L5.41 20z\"/>\n",
              "  </svg>\n",
              "      </button>\n",
              "      \n",
              "  <style>\n",
              "    .colab-df-container {\n",
              "      display:flex;\n",
              "      flex-wrap:wrap;\n",
              "      gap: 12px;\n",
              "    }\n",
              "\n",
              "    .colab-df-convert {\n",
              "      background-color: #E8F0FE;\n",
              "      border: none;\n",
              "      border-radius: 50%;\n",
              "      cursor: pointer;\n",
              "      display: none;\n",
              "      fill: #1967D2;\n",
              "      height: 32px;\n",
              "      padding: 0 0 0 0;\n",
              "      width: 32px;\n",
              "    }\n",
              "\n",
              "    .colab-df-convert:hover {\n",
              "      background-color: #E2EBFA;\n",
              "      box-shadow: 0px 1px 2px rgba(60, 64, 67, 0.3), 0px 1px 3px 1px rgba(60, 64, 67, 0.15);\n",
              "      fill: #174EA6;\n",
              "    }\n",
              "\n",
              "    [theme=dark] .colab-df-convert {\n",
              "      background-color: #3B4455;\n",
              "      fill: #D2E3FC;\n",
              "    }\n",
              "\n",
              "    [theme=dark] .colab-df-convert:hover {\n",
              "      background-color: #434B5C;\n",
              "      box-shadow: 0px 1px 3px 1px rgba(0, 0, 0, 0.15);\n",
              "      filter: drop-shadow(0px 1px 2px rgba(0, 0, 0, 0.3));\n",
              "      fill: #FFFFFF;\n",
              "    }\n",
              "  </style>\n",
              "\n",
              "      <script>\n",
              "        const buttonEl =\n",
              "          document.querySelector('#df-334094d0-31e6-4ec6-8005-677a541b0fe2 button.colab-df-convert');\n",
              "        buttonEl.style.display =\n",
              "          google.colab.kernel.accessAllowed ? 'block' : 'none';\n",
              "\n",
              "        async function convertToInteractive(key) {\n",
              "          const element = document.querySelector('#df-334094d0-31e6-4ec6-8005-677a541b0fe2');\n",
              "          const dataTable =\n",
              "            await google.colab.kernel.invokeFunction('convertToInteractive',\n",
              "                                                     [key], {});\n",
              "          if (!dataTable) return;\n",
              "\n",
              "          const docLinkHtml = 'Like what you see? Visit the ' +\n",
              "            '<a target=\"_blank\" href=https://colab.research.google.com/notebooks/data_table.ipynb>data table notebook</a>'\n",
              "            + ' to learn more about interactive tables.';\n",
              "          element.innerHTML = '';\n",
              "          dataTable['output_type'] = 'display_data';\n",
              "          await google.colab.output.renderOutput(dataTable, element);\n",
              "          const docLink = document.createElement('div');\n",
              "          docLink.innerHTML = docLinkHtml;\n",
              "          element.appendChild(docLink);\n",
              "        }\n",
              "      </script>\n",
              "    </div>\n",
              "  </div>\n",
              "  "
            ]
          },
          "metadata": {},
          "execution_count": 21
        }
      ]
    },
    {
      "cell_type": "markdown",
      "source": [
        "#Enter the stocks ID and download all the data from yahoo finance"
      ],
      "metadata": {
        "id": "Uy0iJyvRv5gB"
      }
    },
    {
      "cell_type": "code",
      "source": [
        "#0023.HK - BEA\n",
        "#0005.HK - HSBC\n",
        "#^HSI - Heng Seng Index\n",
        "df_stock_hsbc = get_stocks('0005.HK')\n",
        "df_stock_bea = get_stocks('0023.HK')\n",
        "df_stock_hsi = get_stocks('^HSI')\n",
        "\n",
        "df_stock_hsbc.to_excel(\"Stock HSBC.xlsx\", index = None)\n",
        "df_stock_bea.to_excel(\"Stock BEA.xlsx\", index = None)\n",
        "df_stock_hsi.to_excel(\"Stock HSI.xlsx\", index = None)\n"
      ],
      "metadata": {
        "id": "6lDKwEN4jGiN",
        "colab": {
          "base_uri": "https://localhost:8080/"
        },
        "outputId": "4c37637f-e546-4071-dc82-587ec78e8edb"
      },
      "execution_count": 22,
      "outputs": [
        {
          "output_type": "stream",
          "name": "stdout",
          "text": [
            "[*********************100%***********************]  1 of 1 completed\n",
            "[*********************100%***********************]  1 of 1 completed\n",
            "[*********************100%***********************]  1 of 1 completed\n"
          ]
        }
      ]
    },
    {
      "cell_type": "markdown",
      "source": [
        "#Testing (Old Code)\n"
      ],
      "metadata": {
        "id": "azkm7TplwEUb"
      }
    },
    {
      "cell_type": "code",
      "source": [
        "'''\n",
        "#count the pov / neg / neutral\n",
        "sent_positive = df_sentences_sentiment.Tone.str.count(\"Positive\").sum()\n",
        "sent_negative = df_sentences_sentiment.Tone.str.count(\"Negative\").sum()\n",
        "sent_neutral = df_sentences_sentiment.Tone.str.count(\"Neutral\").sum()\n",
        "total = sent_positive + sent_negative + sent_neutral\n",
        "print(' Positive:',sent_positive,' Ratio:',(sent_positive/total)*100,'%','\\n',\n",
        "   'Negative:',sent_negative,' Ratio:',(sent_negative/total)*100,'%','\\n',\n",
        "   'Neutral:',sent_neutral,' Ratio:',(sent_neutral/total)*100,'%','\\n',\n",
        "   'Total',total)\n",
        "print('='*100)\n",
        "d = df_sentences_sentiment\n",
        "#d = df_sentences_sentiment.loc[df_sentences_sentiment['Tone'] == 'Positive']\n",
        "print(d)\n",
        "df_sentences_sentiment\n",
        "#find the length and mean \n",
        "#print(df_sentences_sentiment['Tone Score'].sum()/len(df_sentences_sentiment['Tone Score']))\n",
        "'''"
      ],
      "metadata": {
        "id": "1JE0qNPfsEVf",
        "colab": {
          "base_uri": "https://localhost:8080/",
          "height": 192
        },
        "outputId": "eef9f06b-8187-4017-9c4d-70ac3f16be02"
      },
      "execution_count": 23,
      "outputs": [
        {
          "output_type": "execute_result",
          "data": {
            "text/plain": [
              "'\\n#count the pov / neg / neutral\\nsent_positive = df_sentences_sentiment.Tone.str.count(\"Positive\").sum()\\nsent_negative = df_sentences_sentiment.Tone.str.count(\"Negative\").sum()\\nsent_neutral = df_sentences_sentiment.Tone.str.count(\"Neutral\").sum()\\ntotal = sent_positive + sent_negative + sent_neutral\\nprint(\\' Positive:\\',sent_positive,\\' Ratio:\\',(sent_positive/total)*100,\\'%\\',\\'\\n\\',\\n   \\'Negative:\\',sent_negative,\\' Ratio:\\',(sent_negative/total)*100,\\'%\\',\\'\\n\\',\\n   \\'Neutral:\\',sent_neutral,\\' Ratio:\\',(sent_neutral/total)*100,\\'%\\',\\'\\n\\',\\n   \\'Total\\',total)\\nprint(\\'=\\'*100)\\nd = df_sentences_sentiment\\n#d = df_sentences_sentiment.loc[df_sentences_sentiment[\\'Tone\\'] == \\'Positive\\']\\nprint(d)\\ndf_sentences_sentiment\\n#find the length and mean \\n#print(df_sentences_sentiment[\\'Tone Score\\'].sum()/len(df_sentences_sentiment[\\'Tone Score\\']))\\n'"
            ],
            "application/vnd.google.colaboratory.intrinsic+json": {
              "type": "string"
            }
          },
          "metadata": {},
          "execution_count": 23
        }
      ]
    }
  ]
}