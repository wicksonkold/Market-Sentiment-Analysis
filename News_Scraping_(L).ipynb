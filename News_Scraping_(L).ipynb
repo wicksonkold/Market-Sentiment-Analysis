{
  "nbformat": 4,
  "nbformat_minor": 0,
  "metadata": {
    "colab": {
      "provenance": [],
      "collapsed_sections": [
        "s0_f1jMKCJDM"
      ],
      "authorship_tag": "ABX9TyNhIurnE6szuOxjNM5m7PqA",
      "include_colab_link": true
    },
    "kernelspec": {
      "name": "python3",
      "display_name": "Python 3"
    },
    "language_info": {
      "name": "python"
    }
  },
  "cells": [
    {
      "cell_type": "markdown",
      "metadata": {
        "id": "view-in-github",
        "colab_type": "text"
      },
      "source": [
        "<a href=\"https://colab.research.google.com/github/wicksonkold/Market-Sentiment-Analysis/blob/main/News_Scraping_(L).ipynb\" target=\"_parent\"><img src=\"https://colab.research.google.com/assets/colab-badge.svg\" alt=\"Open In Colab\"/></a>"
      ]
    },
    {
      "cell_type": "code",
      "execution_count": 1,
      "metadata": {
        "id": "v_XapeR2GY5E",
        "colab": {
          "base_uri": "https://localhost:8080/"
        },
        "outputId": "530887a1-120c-402e-be63-16652b084dea"
      },
      "outputs": [
        {
          "output_type": "stream",
          "name": "stdout",
          "text": [
            "\u001b[33mWARNING: Running pip as the 'root' user can result in broken permissions and conflicting behaviour with the system package manager. It is recommended to use a virtual environment instead: https://pip.pypa.io/warnings/venv\u001b[0m\u001b[33m\n",
            "\u001b[0m\u001b[33mWARNING: Running pip as the 'root' user can result in broken permissions and conflicting behaviour with the system package manager. It is recommended to use a virtual environment instead: https://pip.pypa.io/warnings/venv\u001b[0m\u001b[33m\n",
            "\u001b[0m\u001b[33mWARNING: Running pip as the 'root' user can result in broken permissions and conflicting behaviour with the system package manager. It is recommended to use a virtual environment instead: https://pip.pypa.io/warnings/venv\u001b[0m\u001b[33m\n",
            "\u001b[0m\u001b[33mWARNING: Running pip as the 'root' user can result in broken permissions and conflicting behaviour with the system package manager. It is recommended to use a virtual environment instead: https://pip.pypa.io/warnings/venv\u001b[0m\u001b[33m\n",
            "\u001b[0m\u001b[33mWARNING: Running pip as the 'root' user can result in broken permissions and conflicting behaviour with the system package manager. It is recommended to use a virtual environment instead: https://pip.pypa.io/warnings/venv\u001b[0m\u001b[33m\n",
            "\u001b[0m\u001b[33mWARNING: Running pip as the 'root' user can result in broken permissions and conflicting behaviour with the system package manager. It is recommended to use a virtual environment instead: https://pip.pypa.io/warnings/venv\u001b[0m\u001b[33m\n",
            "\u001b[0m\u001b[33mWARNING: Running pip as the 'root' user can result in broken permissions and conflicting behaviour with the system package manager. It is recommended to use a virtual environment instead: https://pip.pypa.io/warnings/venv\u001b[0m\u001b[33m\n",
            "\u001b[0m\u001b[33mWARNING: Running pip as the 'root' user can result in broken permissions and conflicting behaviour with the system package manager. It is recommended to use a virtual environment instead: https://pip.pypa.io/warnings/venv\u001b[0m\u001b[33m\n",
            "\u001b[0m\u001b[33mWARNING: Running pip as the 'root' user can result in broken permissions and conflicting behaviour with the system package manager. It is recommended to use a virtual environment instead: https://pip.pypa.io/warnings/venv\u001b[0m\u001b[33m\n",
            "\u001b[0m\u001b[33mWARNING: Running pip as the 'root' user can result in broken permissions and conflicting behaviour with the system package manager. It is recommended to use a virtual environment instead: https://pip.pypa.io/warnings/venv\u001b[0m\u001b[33m\n",
            "\u001b[0mLooking in indexes: https://pypi.org/simple, https://us-python.pkg.dev/colab-wheels/public/simple/\n",
            "Requirement already satisfied: bert-extractive-summarizer in /usr/local/lib/python3.7/dist-packages (0.10.1)\n",
            "Requirement already satisfied: scikit-learn in /usr/local/lib/python3.7/dist-packages (from bert-extractive-summarizer) (1.0.2)\n",
            "Requirement already satisfied: transformers in /usr/local/lib/python3.7/dist-packages (from bert-extractive-summarizer) (4.24.0)\n",
            "Requirement already satisfied: spacy in /usr/local/lib/python3.7/dist-packages (from bert-extractive-summarizer) (3.4.3)\n",
            "Requirement already satisfied: threadpoolctl>=2.0.0 in /usr/local/lib/python3.7/dist-packages (from scikit-learn->bert-extractive-summarizer) (3.1.0)\n",
            "Requirement already satisfied: joblib>=0.11 in /usr/local/lib/python3.7/dist-packages (from scikit-learn->bert-extractive-summarizer) (1.2.0)\n",
            "Requirement already satisfied: scipy>=1.1.0 in /usr/local/lib/python3.7/dist-packages (from scikit-learn->bert-extractive-summarizer) (1.7.3)\n",
            "Requirement already satisfied: numpy>=1.14.6 in /usr/local/lib/python3.7/dist-packages (from scikit-learn->bert-extractive-summarizer) (1.21.6)\n",
            "Requirement already satisfied: requests<3.0.0,>=2.13.0 in /usr/local/lib/python3.7/dist-packages (from spacy->bert-extractive-summarizer) (2.28.1)\n",
            "Requirement already satisfied: preshed<3.1.0,>=3.0.2 in /usr/local/lib/python3.7/dist-packages (from spacy->bert-extractive-summarizer) (3.0.8)\n",
            "Requirement already satisfied: langcodes<4.0.0,>=3.2.0 in /usr/local/lib/python3.7/dist-packages (from spacy->bert-extractive-summarizer) (3.3.0)\n",
            "Requirement already satisfied: wasabi<1.1.0,>=0.9.1 in /usr/local/lib/python3.7/dist-packages (from spacy->bert-extractive-summarizer) (0.10.1)\n",
            "Requirement already satisfied: setuptools in /usr/local/lib/python3.7/dist-packages (from spacy->bert-extractive-summarizer) (65.6.2)\n",
            "Requirement already satisfied: murmurhash<1.1.0,>=0.28.0 in /usr/local/lib/python3.7/dist-packages (from spacy->bert-extractive-summarizer) (1.0.9)\n",
            "Requirement already satisfied: catalogue<2.1.0,>=2.0.6 in /usr/local/lib/python3.7/dist-packages (from spacy->bert-extractive-summarizer) (2.0.8)\n",
            "Requirement already satisfied: pydantic!=1.8,!=1.8.1,<1.11.0,>=1.7.4 in /usr/local/lib/python3.7/dist-packages (from spacy->bert-extractive-summarizer) (1.10.2)\n",
            "Requirement already satisfied: thinc<8.2.0,>=8.1.0 in /usr/local/lib/python3.7/dist-packages (from spacy->bert-extractive-summarizer) (8.1.5)\n",
            "Requirement already satisfied: tqdm<5.0.0,>=4.38.0 in /usr/local/lib/python3.7/dist-packages (from spacy->bert-extractive-summarizer) (4.64.1)\n",
            "Requirement already satisfied: srsly<3.0.0,>=2.4.3 in /usr/local/lib/python3.7/dist-packages (from spacy->bert-extractive-summarizer) (2.4.5)\n",
            "Requirement already satisfied: typing-extensions<4.2.0,>=3.7.4 in /usr/local/lib/python3.7/dist-packages (from spacy->bert-extractive-summarizer) (4.1.1)\n",
            "Requirement already satisfied: spacy-legacy<3.1.0,>=3.0.10 in /usr/local/lib/python3.7/dist-packages (from spacy->bert-extractive-summarizer) (3.0.10)\n",
            "Requirement already satisfied: cymem<2.1.0,>=2.0.2 in /usr/local/lib/python3.7/dist-packages (from spacy->bert-extractive-summarizer) (2.0.7)\n",
            "Requirement already satisfied: jinja2 in /usr/local/lib/python3.7/dist-packages (from spacy->bert-extractive-summarizer) (2.11.3)\n",
            "Requirement already satisfied: packaging>=20.0 in /usr/local/lib/python3.7/dist-packages (from spacy->bert-extractive-summarizer) (21.3)\n",
            "Requirement already satisfied: spacy-loggers<2.0.0,>=1.0.0 in /usr/local/lib/python3.7/dist-packages (from spacy->bert-extractive-summarizer) (1.0.3)\n",
            "Requirement already satisfied: typer<0.8.0,>=0.3.0 in /usr/local/lib/python3.7/dist-packages (from spacy->bert-extractive-summarizer) (0.7.0)\n",
            "Requirement already satisfied: pathy>=0.3.5 in /usr/local/lib/python3.7/dist-packages (from spacy->bert-extractive-summarizer) (0.8.1)\n",
            "Requirement already satisfied: huggingface-hub<1.0,>=0.10.0 in /usr/local/lib/python3.7/dist-packages (from transformers->bert-extractive-summarizer) (0.11.0)\n",
            "Requirement already satisfied: pyyaml>=5.1 in /usr/local/lib/python3.7/dist-packages (from transformers->bert-extractive-summarizer) (6.0)\n",
            "Requirement already satisfied: tokenizers!=0.11.3,<0.14,>=0.11.1 in /usr/local/lib/python3.7/dist-packages (from transformers->bert-extractive-summarizer) (0.13.2)\n",
            "Requirement already satisfied: filelock in /usr/local/lib/python3.7/dist-packages (from transformers->bert-extractive-summarizer) (3.8.0)\n",
            "Requirement already satisfied: importlib-metadata in /usr/local/lib/python3.7/dist-packages (from transformers->bert-extractive-summarizer) (4.13.0)\n",
            "Requirement already satisfied: regex!=2019.12.17 in /usr/local/lib/python3.7/dist-packages (from transformers->bert-extractive-summarizer) (2022.6.2)\n",
            "Requirement already satisfied: zipp>=0.5 in /usr/local/lib/python3.7/dist-packages (from catalogue<2.1.0,>=2.0.6->spacy->bert-extractive-summarizer) (3.10.0)\n",
            "Requirement already satisfied: pyparsing!=3.0.5,>=2.0.2 in /usr/local/lib/python3.7/dist-packages (from packaging>=20.0->spacy->bert-extractive-summarizer) (3.0.9)\n",
            "Requirement already satisfied: smart-open<6.0.0,>=5.2.1 in /usr/local/lib/python3.7/dist-packages (from pathy>=0.3.5->spacy->bert-extractive-summarizer) (5.2.1)\n",
            "Requirement already satisfied: urllib3<1.27,>=1.21.1 in /usr/local/lib/python3.7/dist-packages (from requests<3.0.0,>=2.13.0->spacy->bert-extractive-summarizer) (1.25.11)\n",
            "Requirement already satisfied: charset-normalizer<3,>=2 in /usr/local/lib/python3.7/dist-packages (from requests<3.0.0,>=2.13.0->spacy->bert-extractive-summarizer) (2.1.1)\n",
            "Requirement already satisfied: idna<4,>=2.5 in /usr/local/lib/python3.7/dist-packages (from requests<3.0.0,>=2.13.0->spacy->bert-extractive-summarizer) (2.10)\n",
            "Requirement already satisfied: certifi>=2017.4.17 in /usr/local/lib/python3.7/dist-packages (from requests<3.0.0,>=2.13.0->spacy->bert-extractive-summarizer) (2022.9.24)\n",
            "Requirement already satisfied: confection<1.0.0,>=0.0.1 in /usr/local/lib/python3.7/dist-packages (from thinc<8.2.0,>=8.1.0->spacy->bert-extractive-summarizer) (0.0.3)\n",
            "Requirement already satisfied: blis<0.8.0,>=0.7.8 in /usr/local/lib/python3.7/dist-packages (from thinc<8.2.0,>=8.1.0->spacy->bert-extractive-summarizer) (0.7.9)\n",
            "Requirement already satisfied: click<9.0.0,>=7.1.1 in /usr/local/lib/python3.7/dist-packages (from typer<0.8.0,>=0.3.0->spacy->bert-extractive-summarizer) (7.1.2)\n",
            "Requirement already satisfied: MarkupSafe>=0.23 in /usr/local/lib/python3.7/dist-packages (from jinja2->spacy->bert-extractive-summarizer) (2.0.1)\n",
            "\u001b[33mWARNING: Running pip as the 'root' user can result in broken permissions and conflicting behaviour with the system package manager. It is recommended to use a virtual environment instead: https://pip.pypa.io/warnings/venv\u001b[0m\u001b[33m\n",
            "\u001b[0m"
          ]
        }
      ],
      "source": [
        "!pip install pandas --upgrade --quiet\n",
        "!pip install numpy --upgrade --quiet\n",
        "!pip install requests-html --upgrade --quiet\n",
        "!pip install pygooglenews --upgrade --quiet\n",
        "!pip install transformers --upgrade --quiet\n",
        "!pip install newspaper3k --upgrade --quiet\n",
        "!pip install yfinance --upgrade --quiet\n",
        "!pip install -U pip setuptools wheel --upgrade --quiet\n",
        "!pip install -U spacy --upgrade --quiet\n",
        "!pip install requests_html --upgrade --quiet\n",
        "!pip install bert-extractive-summarizer\n"
      ]
    },
    {
      "cell_type": "markdown",
      "source": [
        "#Testing (Maybe For TR CTI)"
      ],
      "metadata": {
        "id": "s0_f1jMKCJDM"
      }
    },
    {
      "cell_type": "code",
      "source": [
        "'''\n",
        "#CTI??? LOL\n",
        "from pygooglenews import GoogleNews\n",
        "from newspaper import Article\n",
        "from newspaper import Config\n",
        "import nltk\n",
        "nltk.download('punkt')\n",
        "\n",
        "#USER_AGENT = 'Mozilla/5.0 (Macintosh; Intel Mac OS X 10.15; rv:78.0) Geck/20100101 Firefox/78.0'\n",
        "USER_AGENT = 'Mozilla/5.0 (Macintosh; Intel Mac OS X 10_15_7) AppleWebKit/537.36 (KHTML, like Gecko) Chrome/104.0.5112.79 Safari/537.36'\n",
        "config = Config()\n",
        "config.browser_user_agent = USER_AGENT\n",
        "config.request_timeout = 10 \n",
        "\n",
        "gn = GoogleNews(lang = 'en', country = 'US')\n",
        "\n",
        "def get_titlesss(search):\n",
        "    stories = []\n",
        "    search = gn.search(search, when = '1d') #when: duration; 2y = 2 years, 6m = 6 months, etc. \n",
        "    newsitem = search['entries']\n",
        "    for item in newsitem:\n",
        "        try:\n",
        "          story = item.link\n",
        "          url = item.link\n",
        "          article = Article(url, config=config)\n",
        "\n",
        "          article.download()\n",
        "          article.parse()\n",
        "          authors = \", \".join(author for author in article.authors) \n",
        "          title = article.title\n",
        "          date = article.publish_date\n",
        "          text = article.text\n",
        "          image = article.top_image\n",
        "          videos = article.movies\n",
        "          url = article.url\n",
        "\n",
        "          article.nlp()\n",
        "          keywords = article.keywords\n",
        "          keywords.sort()\n",
        "          print(\"\\n\")\n",
        "          print(item.link)\n",
        "          print(f\"📌 Keywords: {keywords}\")\n",
        "          print(f\"📰 Summary: {article.summary}\")\n",
        "          stories.append(story)\n",
        "        except:\n",
        "          pass\n",
        "    return stories\n",
        "'''"
      ],
      "metadata": {
        "colab": {
          "base_uri": "https://localhost:8080/",
          "height": 0
        },
        "id": "83E8UCg0CG6B",
        "outputId": "967d4bb9-b609-4599-9b62-f864a570326c"
      },
      "execution_count": 2,
      "outputs": [
        {
          "output_type": "execute_result",
          "data": {
            "text/plain": [
              "'\\n#CTI??? LOL\\nfrom pygooglenews import GoogleNews\\nfrom newspaper import Article\\nfrom newspaper import Config\\nimport nltk\\nnltk.download(\\'punkt\\')\\n\\n#USER_AGENT = \\'Mozilla/5.0 (Macintosh; Intel Mac OS X 10.15; rv:78.0) Geck/20100101 Firefox/78.0\\'\\nUSER_AGENT = \\'Mozilla/5.0 (Macintosh; Intel Mac OS X 10_15_7) AppleWebKit/537.36 (KHTML, like Gecko) Chrome/104.0.5112.79 Safari/537.36\\'\\nconfig = Config()\\nconfig.browser_user_agent = USER_AGENT\\nconfig.request_timeout = 10 \\n\\ngn = GoogleNews(lang = \\'en\\', country = \\'US\\')\\n\\ndef get_titlesss(search):\\n    stories = []\\n    search = gn.search(search, when = \\'1d\\') #when: duration; 2y = 2 years, 6m = 6 months, etc. \\n    newsitem = search[\\'entries\\']\\n    for item in newsitem:\\n        try:\\n          story = item.link\\n          url = item.link\\n          article = Article(url, config=config)\\n\\n          article.download()\\n          article.parse()\\n          authors = \", \".join(author for author in article.authors) \\n          title = article.title\\n          date = article.publish_date\\n          text = article.text\\n          image = article.top_image\\n          videos = article.movies\\n          url = article.url\\n\\n          article.nlp()\\n          keywords = article.keywords\\n          keywords.sort()\\n          print(\"\\n\")\\n          print(item.link)\\n          print(f\"📌 Keywords: {keywords}\")\\n          print(f\"📰 Summary: {article.summary}\")\\n          stories.append(story)\\n        except:\\n          pass\\n    return stories\\n'"
            ],
            "application/vnd.google.colaboratory.intrinsic+json": {
              "type": "string"
            }
          },
          "metadata": {},
          "execution_count": 2
        }
      ]
    },
    {
      "cell_type": "code",
      "source": [
        "#get_titlesss('cyber security')\n"
      ],
      "metadata": {
        "id": "bbJcffpDCtvl"
      },
      "execution_count": 3,
      "outputs": []
    },
    {
      "cell_type": "markdown",
      "source": [
        "#Import & Functions\n"
      ],
      "metadata": {
        "id": "T3_Ad9ErIB_t"
      }
    },
    {
      "cell_type": "code",
      "source": [
        "import os\n",
        "from transformers import BertTokenizer, BertForSequenceClassification\n",
        "from transformers import pipeline\n",
        "from summarizer import Summarizer,TransformerSummarizer\n",
        "from transformers import AutoModelForMaskedLM\n",
        "import numpy as np\n",
        "import pandas as pd\n",
        "import matplotlib as plt\n",
        "from newspaper import Article\n",
        "import yfinance as yf\n",
        "import nltk\n",
        "nltk.download('punkt')"
      ],
      "metadata": {
        "id": "yrRCgqyUHz8c",
        "colab": {
          "base_uri": "https://localhost:8080/"
        },
        "outputId": "976797a8-d295-44be-b077-2ee2568670df"
      },
      "execution_count": 4,
      "outputs": [
        {
          "output_type": "stream",
          "name": "stderr",
          "text": [
            "[nltk_data] Downloading package punkt to /root/nltk_data...\n",
            "[nltk_data]   Package punkt is already up-to-date!\n"
          ]
        },
        {
          "output_type": "execute_result",
          "data": {
            "text/plain": [
              "True"
            ]
          },
          "metadata": {},
          "execution_count": 4
        }
      ]
    },
    {
      "cell_type": "markdown",
      "source": [
        "#Scrape Google News"
      ],
      "metadata": {
        "id": "eMdRJPlgCL9k"
      }
    },
    {
      "cell_type": "code",
      "source": [
        "from pygooglenews import GoogleNews\n",
        "#from datetime import date\n",
        "\n",
        "def get_news(search_w):\n",
        "  stories = []\n",
        "  #start_date = datetime.date(2021, 1, 1)\n",
        "  #end_date = datetime.date(2022,11,13)\n",
        "  gn = GoogleNews(lang='en', country = 'HK')\n",
        "  #search = gn.search('Hang Seng', from_=start_date.strftime('%Y-%m-%d', to_=(end_date+delta).strftime('%Y-%m-%d')))\n",
        "  search = gn.search(search_w, when = '2d')\n",
        "  #search = gn.search(search_w, from_ = '2022/11/21', when = '1d')\n",
        "  #search = gn.geo_headlines('Hong Kong')\n",
        "  #search = gn.topic_headlines('BUSINESS', proxies=None, scraping_bee=None) \n",
        "  newsitem = search['entries']\n",
        "  for item in newsitem:\n",
        "    story = {\n",
        "        'title':item.title,\n",
        "        'published':item.published,\n",
        "        'published_parsed':item.published_parsed,\n",
        "        'link':item.link\n",
        "    }\n",
        "    stories.append(story)\n",
        "  return stories\n",
        "'''\n",
        "#Set the keyword search\n",
        "test_name = get_titles('HSBC')\n",
        "\n",
        "#append the result (Only links) into a empty list\n",
        "test_link = []\n",
        "for i in range(len(test_name)):\n",
        "  test_link.append(test_name[i].get('link'))\n",
        "print(test_link)\n",
        "arc_test = test_link[0]\n",
        "'''"
      ],
      "metadata": {
        "id": "cASx1DGUHzzS",
        "colab": {
          "base_uri": "https://localhost:8080/",
          "height": 70
        },
        "outputId": "63194b26-e4f7-478b-947c-0d3fb7677b3d"
      },
      "execution_count": 61,
      "outputs": [
        {
          "output_type": "execute_result",
          "data": {
            "text/plain": [
              "\"\\n#Set the keyword search\\ntest_name = get_titles('HSBC')\\n\\n#append the result (Only links) into a empty list\\ntest_link = []\\nfor i in range(len(test_name)):\\n  test_link.append(test_name[i].get('link'))\\nprint(test_link)\\narc_test = test_link[0]\\n\""
            ],
            "application/vnd.google.colaboratory.intrinsic+json": {
              "type": "string"
            }
          },
          "metadata": {},
          "execution_count": 61
        }
      ]
    },
    {
      "cell_type": "markdown",
      "source": [
        "#Finbert Related Function"
      ],
      "metadata": {
        "id": "Wub-G4CIA7VY"
      }
    },
    {
      "cell_type": "code",
      "source": [
        "#Finbert \n",
        "def sentiment_check(sentences):\n",
        "  tone = []\n",
        "  tone_Score = []\n",
        "  esg = []\n",
        "  esg_Score = []\n",
        "  flsc = []\n",
        "  flsc_Score = []\n",
        "  esg9cat = []\n",
        "  esg9cat_Score = []\n",
        "  \n",
        "  if type(sentences) == list:\n",
        "    for idx, sent in enumerate(sentences):\n",
        "      tempL, tempS = tone_A(sent)\n",
        "      tone.append(tempL)\n",
        "      tone_Score.append(tempS)\n",
        "      '''\n",
        "      tempL, tempS = esg_A(sent)\n",
        "      esg.append(tempL)\n",
        "      esg_Score.append(tempS)\n",
        "\n",
        "      tempL, tempS = flsc_A(sent)\n",
        "      flsc.append(tempL)\n",
        "      flsc_Score.append(tempS)    \n",
        "\n",
        "      tempL, tempS = esg9cat_A(sent)\n",
        "      esg9cat.append(tempL)\n",
        "      esg9cat_Score.append(tempS) \n",
        "      \n",
        "    d = {'Sentences': sentences,'Tone': tone, 'Tone Score': tone_Score,\n",
        "        'ESG': esg, 'ESG Score': esg_Score,\n",
        "        'FLSC': flsc, 'FLSC Score': flsc_Score,\n",
        "        'ESG9Cat': esg9cat, 'ESG9Cat Score': esg9cat_Score}\n",
        "      '''   \n",
        "  else:\n",
        "    tempL, tempS = tone_A(sentences)\n",
        "    tone.append(tempL)\n",
        "    tone_Score.append(tempS)  \n",
        "\n",
        "  d = {'Sentences': sentences,'Tone': tone, 'Tone Score': tone_Score}\n",
        "  df_FinBERT_Score = pd.DataFrame(data=d)\n",
        "  temp_df = df_FinBERT_Score\n",
        "  #Calculate the score for each line and given a overall score\n",
        "  sent_positive = temp_df.Tone.str.count(\"Positive\").sum()\n",
        "  sent_negative = temp_df.Tone.str.count(\"Negative\").sum()\n",
        "  sent_neutral = temp_df.Tone.str.count(\"Neutral\").sum()\n",
        "  total = sent_positive + sent_negative + sent_neutral\n",
        "  \n",
        "  #Weight\n",
        "  sent_pov_weight = sent_positive / total\n",
        "  sent_neg_weight = sent_negative / total\n",
        "  sent_neut_weight = sent_neutral / total\n",
        "  \n",
        "\n",
        "  #find the largest number\n",
        "  if sent_pov_weight >= sent_neg_weight and sent_pov_weight >= sent_neut_weight:\n",
        "    temp_num = temp_df.loc[temp_df['Tone'] == 'Positive']\n",
        "    arc_tone = ['Positive']\n",
        "    arc_score = [temp_num['Tone Score'].sum()/len(temp_num['Tone Score'])]\n",
        "  \n",
        "  elif sent_neg_weight >= sent_pov_weight and sent_neg_weight >= sent_neut_weight:\n",
        "    temp_num = temp_df.loc[temp_df['Tone'] == 'Negative']\n",
        "    arc_tone = ['Negative']\n",
        "    arc_score = [temp_num['Tone Score'].sum()/len(temp_num['Tone Score'])]\n",
        "  \n",
        "  elif sent_neut_weight >= sent_neg_weight and sent_neut_weight >= sent_pov_weight:\n",
        "    temp_num = temp_df.loc[temp_df['Tone'] == 'Neutral']\n",
        "    arc_tone = ['Neutral']\n",
        "    arc_score = [temp_num['Tone Score'].sum()/len(temp_num['Tone Score'])]\n",
        "  \n",
        "  \n",
        "  d1 = {'Article Tone':arc_tone, 'Article Score':arc_score}  \n",
        "  df_Article_Score = pd.DataFrame(data=d1)\n",
        "\n",
        "  return df_FinBERT_Score, df_Article_Score\n",
        "  \n",
        "def tone_A(sentences):\n",
        "  #Tone\n",
        "  finbert = BertForSequenceClassification.from_pretrained('yiyanghkust/finbert-tone',num_labels=3, cache_dir='~/from_pretrained')\n",
        "  tokenizer = BertTokenizer.from_pretrained('yiyanghkust/finbert-tone')\n",
        "  inputs = tokenizer(sentences, return_tensors=\"pt\", padding=True)\n",
        "  nlp = pipeline(\"sentiment-analysis\", model=finbert, tokenizer=tokenizer)\n",
        "  try:\n",
        "    results = nlp(sentences)\n",
        "  except:\n",
        "    firstpart = sentences[:511]\n",
        "    results = nlp(firstpart)\n",
        "    \n",
        "\n",
        "  #print('Tone:',results)\n",
        "  temp_label = results[0].get('label')\n",
        "  temp_score = results[0].get('score')\n",
        "  return temp_label, temp_score\n",
        "\n",
        "def esg_A(sentences):\n",
        "  #ESG stands for Environmental, Social, Governance or None.\n",
        "  finbert = BertForSequenceClassification.from_pretrained('yiyanghkust/finbert-esg',num_labels=4, cache_dir='~/from_pretrained')\n",
        "  tokenizer = BertTokenizer.from_pretrained('yiyanghkust/finbert-esg')\n",
        "  nlp = pipeline(\"text-classification\", model=finbert, tokenizer=tokenizer)\n",
        "  \n",
        "  results = nlp(sentences)\n",
        "  #print('ESG:',results)\n",
        "  temp_label = results[0].get('label')\n",
        "  temp_score = results[0].get('score')\n",
        "  return temp_label, temp_score\n",
        "\n",
        "def flsc_A(sentences):\n",
        "  #Forward-looking statements\n",
        "  finbert = BertForSequenceClassification.from_pretrained('yiyanghkust/finbert-fls',num_labels=3, cache_dir='~/from_pretrained')\n",
        "  tokenizer = BertTokenizer.from_pretrained('yiyanghkust/finbert-fls')\n",
        "  nlp = pipeline(\"text-classification\", model=finbert, tokenizer=tokenizer)\n",
        "  \n",
        "  results = nlp(sentences)\n",
        "  #print('FLS:',results)# [{'label': 'Specific FLS', 'score': 0.77278733253479}]\n",
        "  temp_label = results[0].get('label')\n",
        "  temp_score = results[0].get('score')\n",
        "  return temp_label, temp_score\n",
        "\n",
        "def esg9cat_A(sentences):\n",
        "  #Climate Change, Natural Capital, Pollution & Waste, Human Capital, Product Liability, Community Relations, Corporate Governance, Business Ethics & Values, or Non-ESG.\n",
        "  finbert = BertForSequenceClassification.from_pretrained('yiyanghkust/finbert-esg-9-categories',num_labels=9)\n",
        "  tokenizer = BertTokenizer.from_pretrained('yiyanghkust/finbert-esg-9-categories')\n",
        "  nlp = pipeline(\"text-classification\", model=finbert, tokenizer=tokenizer)\n",
        "\n",
        "  results = nlp(sentences)\n",
        "  #print('9Cat:',results) # [{'label': 'Climate Change', 'score': 0.9955655932426453}]\n",
        "  temp_label = results[0].get('label')\n",
        "  temp_score = results[0].get('score')\n",
        "  return temp_label, temp_score "
      ],
      "metadata": {
        "id": "eEebpQsfH0Dj"
      },
      "execution_count": 26,
      "outputs": []
    },
    {
      "cell_type": "markdown",
      "source": [
        "#FinBERT Summarization"
      ],
      "metadata": {
        "id": "cOx1xE8nZu69"
      }
    },
    {
      "cell_type": "code",
      "source": [
        "def finBERT_Sum(paragraph):\n",
        "  model = AutoModelForMaskedLM.from_pretrained(\"yiyanghkust/finbert-pretrain\")\n",
        "\n",
        "  bert_model = TransformerSummarizer()\n",
        "  full = ''.join(bert_model(paragraph, min_length=60))\n",
        "  return full"
      ],
      "metadata": {
        "id": "9FtZjJG0Zugx"
      },
      "execution_count": 7,
      "outputs": []
    },
    {
      "cell_type": "markdown",
      "source": [
        "#Newspaper3k Function - get article"
      ],
      "metadata": {
        "id": "hnVE1ASqA_NZ"
      }
    },
    {
      "cell_type": "code",
      "source": [
        "#Newspaper3K\n",
        "\n",
        "#this function is to clean all unwanted blank line and return a paragraph\n",
        "def process_arc(url):\n",
        "  sentences = (get_article(url))\n",
        "  s1 = sentences.split(\"\\n\")\n",
        "  temp = []\n",
        "  print(s1)\n",
        "  for i in range(len(s1)):\n",
        "    if s1[i] != '':\n",
        "      temp.append(s1[i])\n",
        "  \n",
        "  temp_join = ' '.join(temp)\n",
        "  return temp_join\n",
        "\n",
        "def get_article(url):\n",
        "  test = ''\n",
        "  try:\n",
        "    #For different language newspaper refer above table\n",
        "    toi_article = Article(url, language=\"en\") # en for English\n",
        "    #To download the article\n",
        "    toi_article.download()\n",
        "    #To parse the article\n",
        "    toi_article.parse()\n",
        "    #To perform natural language processing ie..nlp\n",
        "    toi_article.nlp()\n",
        "    '''\n",
        "    #print the link\n",
        "    print(\"Article's link:\", url)\n",
        "    print('==================================================')\n",
        "    #To extract title\n",
        "    print(\"Article's Title:\", toi_article.title)\n",
        "    print('==================================================')\n",
        "    #To extract keywords\n",
        "    print(\"Article's Keywords:\", toi_article.keywords)\n",
        "    print('==================================================')\n",
        "    #To extract text\n",
        "    print(\"Article's Text:\", toi_article.text)\n",
        "    print('==================================================')\n",
        "    #To extract summary\n",
        "    print(\"Article's Summary:\", toi_article.summary)\n",
        "    print('==================================================')\n",
        "    '''\n",
        "    test = toi_article.text\n",
        "  except:\n",
        "    pass\n",
        "\n",
        "  return test\n"
      ],
      "metadata": {
        "id": "Ngdhy1XgBAgj"
      },
      "execution_count": 8,
      "outputs": []
    },
    {
      "cell_type": "markdown",
      "source": [
        "#Request_HTML\n"
      ],
      "metadata": {
        "id": "BZZr9QdWvOvg"
      }
    },
    {
      "cell_type": "code",
      "source": [],
      "metadata": {
        "id": "-2fbzVZovOTZ"
      },
      "execution_count": 8,
      "outputs": []
    },
    {
      "cell_type": "markdown",
      "source": [
        "#Stocks"
      ],
      "metadata": {
        "id": "A8J9k754vH3J"
      }
    },
    {
      "cell_type": "code",
      "source": [
        "def get_stocks(name):\n",
        "  # Set the start and end date\n",
        "  start_date = '2020-01-01'\n",
        "  end_date = '2022-11-17'\n",
        "\n",
        "  # Set the ticker\n",
        "  #ticker = ['^HSI','0005.HK','0023.HK'] \n",
        "  ticker = name \n",
        "  # Get the data\n",
        "  data = yf.download(ticker, start_date, end_date)\n",
        "  # Print the last 5 rows\n",
        "  #print(data.head())\n",
        "  df = pd.DataFrame(data=data)\n",
        "  return df"
      ],
      "metadata": {
        "id": "VZ3QjKu3vHYY"
      },
      "execution_count": 69,
      "outputs": []
    },
    {
      "cell_type": "markdown",
      "source": [
        "#Main Body - Call Function"
      ],
      "metadata": {
        "id": "Esf_7FkxvywH"
      }
    },
    {
      "cell_type": "code",
      "source": [
        "#Enter the keyword search in google news\n",
        "news_list = get_news('HSBC')\n",
        "print(news_list[1])\n"
      ],
      "metadata": {
        "id": "2_BAFMqXH0BM",
        "colab": {
          "base_uri": "https://localhost:8080/"
        },
        "outputId": "25aa5108-c183-4a95-9758-c47bc57f5141"
      },
      "execution_count": 63,
      "outputs": [
        {
          "output_type": "stream",
          "name": "stdout",
          "text": [
            "{'title': 'HSBC Campaign Helps You Cut the Strings of Financial Control - Little Black Book - LBBonline', 'published': 'Wed, 23 Nov 2022 11:00:22 GMT', 'published_parsed': time.struct_time(tm_year=2022, tm_mon=11, tm_mday=23, tm_hour=11, tm_min=0, tm_sec=22, tm_wday=2, tm_yday=327, tm_isdst=0), 'link': 'https://news.google.com/__i/rss/rd/articles/CBMiW2h0dHBzOi8vd3d3LmxiYm9ubGluZS5jb20vbmV3cy9oc2JjLWNhbXBhaWduLWhlbHBzLXlvdS1jdXQtdGhlLXN0cmluZ3Mtb2YtZmluYW5jaWFsLWNvbnRyb2zSAQA?oc=5'}\n"
          ]
        }
      ]
    },
    {
      "cell_type": "code",
      "source": [
        "#append the result (Only links) into a empty list\n",
        "news_title = []\n",
        "news_link = []\n",
        "news_published = []\n",
        "for i in range(len(news_list)):\n",
        "  news_title.append(news_list[i].get('title'))\n",
        "  news_link.append(news_list[i].get('link'))\n",
        "  news_published.append(news_list[i].get('published'))\n",
        "print(news_link[:5])"
      ],
      "metadata": {
        "colab": {
          "base_uri": "https://localhost:8080/"
        },
        "id": "ije3DiBdp-lj",
        "outputId": "85e83fcd-9cd8-4c7a-edee-6af2bfc0b427"
      },
      "execution_count": 64,
      "outputs": [
        {
          "output_type": "stream",
          "name": "stdout",
          "text": [
            "['https://news.google.com/__i/rss/rd/articles/CBMif2h0dHBzOi8vd3d3LmJsb29tYmVyZy5jb20vcHJlc3MtcmVsZWFzZXMvMjAyMi0xMS0yMy9oc2JjLWJhbmstcGxjLWhzYmMtYmFuay1wbGMtZm9ybS04LTUtZXB0LXJpLWNhcGl0YWwtY291bnRpZXMtcHJvcGVydGllcy1wbGPSAQA?oc=5', 'https://news.google.com/__i/rss/rd/articles/CBMiW2h0dHBzOi8vd3d3LmxiYm9ubGluZS5jb20vbmV3cy9oc2JjLWNhbXBhaWduLWhlbHBzLXlvdS1jdXQtdGhlLXN0cmluZ3Mtb2YtZmluYW5jaWFsLWNvbnRyb2zSAQA?oc=5', 'https://news.google.com/__i/rss/rd/articles/CBMiVGh0dHBzOi8vd3d3Lmd0cmV2aWV3LmNvbS9uZXdzL29uLXRoZS1tb3ZlL2hzYmMtY3JlYXRlcy1uZXctdXMtc3RydWN0dXJlZC10cmFkZS1yb2xlL9IBAA?oc=5', 'https://news.google.com/__i/rss/rd/articles/CBMiP2h0dHBzOi8vd3d3LmZ0LmNvbS9jb250ZW50LzQ3ZmU4MTM5LTE2NzItNGQ2Yy1hMTliLWQzYTdjYWU0NzU3YtIBAA?oc=5', 'https://news.google.com/__i/rss/rd/articles/CBMibmh0dHBzOi8vd3d3LmJsb29tYmVyZy5jb20vbmV3cy9hcnRpY2xlcy8yMDIyLTExLTIzL3JibnotaGlrZS1zaWduYWxzLWdsb2JhbC10aWdodGVuaW5nLWZhci1mcm9tLW92ZXItaHNiYy1zYXlz0gEA?oc=5']\n"
          ]
        }
      ]
    },
    {
      "cell_type": "code",
      "source": [
        "article_title = []\n",
        "article_date = []\n",
        "article_text = []\n",
        "article_summarized_text = []\n",
        "tone = []\n",
        "tone_score = []\n",
        "\n",
        "#create a loop to process all the news\n",
        "for i in range(len(news_list)):\n",
        "  sorted_arc = process_arc(news_link[i])\n",
        "  article_text.append(sorted_arc)\n",
        "  sum_arc = finBERT_Sum(sorted_arc)\n",
        "  tempT, tempS = tone_A(sum_arc)\n",
        "  \n",
        "  #append to a list and transform into excel\n",
        "  article_title.append(news_title[i])\n",
        "  article_date.append(news_published[i])\n",
        "  article_summarized_text.append(sum_arc)\n",
        "  tone.append(tempT)\n",
        "  tone_score.append(tempS)"
      ],
      "metadata": {
        "colab": {
          "base_uri": "https://localhost:8080/"
        },
        "id": "IaBoE7uorZV9",
        "outputId": "e01dde7c-e59d-4fc5-e7fc-004ac7cdec98"
      },
      "execution_count": 65,
      "outputs": [
        {
          "output_type": "stream",
          "name": "stdout",
          "text": [
            "['Why did this happen?', '', 'Please make sure your browser supports JavaScript and cookies and that you are not blocking them from loading. For more information you can review our Terms of Service and Cookie Policy.']\n"
          ]
        },
        {
          "output_type": "stream",
          "name": "stderr",
          "text": [
            "Some weights of the model checkpoint at yiyanghkust/finbert-pretrain were not used when initializing BertForMaskedLM: ['cls.seq_relationship.bias', 'cls.seq_relationship.weight']\n",
            "- This IS expected if you are initializing BertForMaskedLM from the checkpoint of a model trained on another task or with another architecture (e.g. initializing a BertForSequenceClassification model from a BertForPreTraining model).\n",
            "- This IS NOT expected if you are initializing BertForMaskedLM from the checkpoint of a model that you expect to be exactly identical (initializing a BertForSequenceClassification model from a BertForSequenceClassification model).\n",
            "Some weights of the model checkpoint at bert-base-uncased were not used when initializing BertModel: ['cls.predictions.decoder.weight', 'cls.predictions.transform.dense.bias', 'cls.seq_relationship.weight', 'cls.predictions.transform.LayerNorm.weight', 'cls.seq_relationship.bias', 'cls.predictions.bias', 'cls.predictions.transform.dense.weight', 'cls.predictions.transform.LayerNorm.bias']\n",
            "- This IS expected if you are initializing BertModel from the checkpoint of a model trained on another task or with another architecture (e.g. initializing a BertForSequenceClassification model from a BertForPreTraining model).\n",
            "- This IS NOT expected if you are initializing BertModel from the checkpoint of a model that you expect to be exactly identical (initializing a BertForSequenceClassification model from a BertForSequenceClassification model).\n"
          ]
        },
        {
          "output_type": "stream",
          "name": "stdout",
          "text": [
            "['Wunderman Thompson UK has launched the next phase of their integrated Financial Abuse campaign entitled ‘Control’, featuring a hard-hitting TV ad and through-the-line activity, which highlights the struggles that those trapped in economically abusive relationships face and how the bank can help.', '', 'Wunderman Thompson UK’s latest integrated campaign follows on from the out-of-home and social campaign which ran earlier this year, raising awareness that every HSBC UK branch is a ‘Safe Space’ where those experiencing domestic abuse can take their first step to financial independence by seeking specialist advice and support.', '', \"Working with domestic abuse charity Hestia and its 'UK SAYS NO MORE' campaign, HSBC UK is one of the largest high street banks to participate in the Safe Spaces scheme, with specialist training to help support victims delivered to over 4,000 employees. The Safe Spaces are open to everyone, whether they are an existing HSBC UK customer or not.\", '', 'The campaign is headed by a 30 second film, which dramatises how financial abuse is used to control and trap victims and brings to life how HSBC UK can help them regain their financial independence.', '', 'In it, we see a woman in a darkened room, with her arms and legs attached to strings which limit her movement. A credit card is dangled from the ceiling on one side of the room, but as the woman walks towards it, she’s pulled back by the strings and the card is pulled away. A phone appears on the other side of the room, but again the woman is constrained by the strings and the phone is pulled out of her reach. As she becomes more desperate, she heads towards the door, but is stopped from walking through it by the strings as she fights against them. The screen fades to the message ‘When an abuser controls your finances, they control you’, and a voiceover says ‘if you need help regaining your financial independence, speak to us’, as we see the woman freed of her strings and leaving the room behind her.', '', 'The film will air across online and on-demand video, with a bespoke All4 on-demand ad directing viewers to their nearest HSBC branch through a dynamic store locator function, and HSBC UK will be one of the first brands to feature on Netflix’s new ‘Basic with Ads’ subscription plan. It will be supported by radio and out-of-home - which will feature across a range of discreet formats with high dwell time, where users are more likely to be on their own, and include a QR code so people can find out how to get help – along with impactful higher footfall outdoor locations.', '', 'To drive awareness for underrepresented audiences who statistically are less likely to report being victims of financial abuse and may be more isolated, the campaign will also utilise ads within community press publications to enable it to be seen as widely as possible.', '', \"Becky Moffat, CMO at HSBC UK, said, ‘Escaping an abusive relationship isn’t as simple as walking out of the door – something our hard-hitting ‘Financial Abuse'’ film brings to life. Victims need financial independence to help them build a new life and we’re proud to be able to offer that first step at every one of our HSBC UK branches. We hope to build awareness of the link between domestic violence and economic abuse and control, offering our services to those who need it through targeted placements to spread this message as far as possible.”\", '', 'Mike Watson, creative director at Wunderman Thompson UK, said, “Financial abuse is one of the most sinister forms of control. Without access to money, there’s nowhere to go. It’s one of the main reasons people return to an abusive partner. We wanted to highlight the importance of being financially independent while promoting the services HSBC offers that can help people regains theirs. We hope our campaign helps give as many people as possible a way out of these coercive relationships.”', '', 'Patrick Ryan, CEO at Hestia Housing and Support, comments, “This powerful campaign launches at a critical time. At Hestia we see and support survivors every day. Many are telling us that their abusers are exploiting the current cost-of-living crisis to intensify control. Although community services are more stretched than ever, we must raise awareness of the support that is available. By providing Safe Spaces for people to access across all its branches, I have no doubt that Hestia and HSBC UK will save lives. We’re delighted to partner with HSBC UK to spread this vital message and support victims.”']\n"
          ]
        },
        {
          "output_type": "stream",
          "name": "stderr",
          "text": [
            "Some weights of the model checkpoint at yiyanghkust/finbert-pretrain were not used when initializing BertForMaskedLM: ['cls.seq_relationship.bias', 'cls.seq_relationship.weight']\n",
            "- This IS expected if you are initializing BertForMaskedLM from the checkpoint of a model trained on another task or with another architecture (e.g. initializing a BertForSequenceClassification model from a BertForPreTraining model).\n",
            "- This IS NOT expected if you are initializing BertForMaskedLM from the checkpoint of a model that you expect to be exactly identical (initializing a BertForSequenceClassification model from a BertForSequenceClassification model).\n",
            "Some weights of the model checkpoint at bert-base-uncased were not used when initializing BertModel: ['cls.predictions.decoder.weight', 'cls.predictions.transform.dense.bias', 'cls.seq_relationship.weight', 'cls.predictions.transform.LayerNorm.weight', 'cls.seq_relationship.bias', 'cls.predictions.bias', 'cls.predictions.transform.dense.weight', 'cls.predictions.transform.LayerNorm.bias']\n",
            "- This IS expected if you are initializing BertModel from the checkpoint of a model trained on another task or with another architecture (e.g. initializing a BertForSequenceClassification model from a BertForPreTraining model).\n",
            "- This IS NOT expected if you are initializing BertModel from the checkpoint of a model that you expect to be exactly identical (initializing a BertForSequenceClassification model from a BertForSequenceClassification model).\n"
          ]
        },
        {
          "output_type": "stream",
          "name": "stdout",
          "text": [
            "['Privacy Policy', '', 'Our privacy commitments', '', 'This Privacy Policy outlines the information we may collect about you in relation to your use of our websites, events, related publications and services (“personal data”) and how we may use that personal data. It also outlines the methods by which we and our service providers may (subject to necessary consents) monitor your online behaviour to deliver customised advertisements, marketing materials and other tailored services. This Privacy Policy also tells you how you can verify the accuracy of your personal data and how you can request that we delete or update it.', '', 'This Privacy Policy applies to all websites operated by Exporta Publishing & Events Ltd (as indicated on the relevant website).', '', 'This privacy statement does not cover the activities of third parties, and you should consult those third-party sites’ privacy policies for information on how your data is used by them.', '', 'Any questions regarding this Policy and our privacy practices should be sent by e-mail to privacy@gtreview.com or by writing to Data Protection Officer at, Exporta Publishing & Events Ltd, 4 Hillgate Place, London, SW12 9ER, United Kingdom. Alternatively, you can telephone our London headquarters at +44 (0) 20 8673 9666.', '', 'Who are we?', '', 'Established in 2002 and with offices in London and Singapore, Exporta Publishing & Events Ltd is the world’s leading trade and trade finance media company, offering information, news, events and services for companies and individuals involved in global trade.', '', 'Our principal business activities are:', '', 'Business-to-Business financial publishing. We provide a range of products and services focused on international commodities, export, supply chain and trade finance markets including magazines, newsletters, electronic information and data', '', 'Organisers of seminars, conferences, training courses and exhibitions for the finance industry', '', 'Exporta Publishing & Events Ltd is a company registered in the United Kingdom with company number 4407327 | VAT Registration: 799 1585 59', '', 'Data Protection Policy', '', 'This Data Protection Policy explains when and why we collect personal information about people who visit our website, how we use it, the conditions under which we may disclose it to others and how we keep it secure.', '', 'Why do we collect information from you?', '', 'Our primary goal in collecting personal data from you is to give you an enjoyable customised experience whilst allowing us to provide services and features that will meet your needs.', '', 'We collect certain personal data from you, which you give to us when using our Site and/or registering or subscribing for our products and services. However, we also give you the option to access our Sites’ home pages without subscribing or registering or disclosing your personal data.', '', 'We also collect certain personal data from other group companies to whom you have given information through their websites (including, by way of example, Exporta Publishing & Events Ltd and subsidiaries, in accordance with the purposes listed below). Should we discover that any such personal data has been delivered to any of the Sites, we will remove that information as soon as possible.', '', 'Why this policy exists', '', 'This Data Protection Policy ensures Exporta Publishing & Events Ltd:', '', 'Complies with data protection law and follow good practice', '', 'Protects the rights of staff, customers and partners', '', 'Is open about how it stores and processes individuals’ data', '', 'pretexts itself from the risk of a data breach', '', 'We may change this Policy from time to time so please check this page occasionally to ensure that you’re happy with any changes. By using our website, you’re agreeing to be bound by this Policy.', '', 'Data protection law', '', 'The Data Protection Act 1998 described how organisations – including Exporta Publishing & Events Ltd – must collect, handle and store personal information. These rules apply regardless of whether data is stored electronically, on paper or on other materials. To comply with the law, personal information collected must be stored safely, not disclosed unlawfully and used fairly.', '', 'The Data Protection Act is underpinned by eight important principles. These say that personal data must:', '', 'Be processed fairly and lawfully', '', 'Be obtained only for specific, lawful purposes', '', 'Be adequate, relevant and not excessive', '', 'Be accurate and kept up to date', '', 'Not be held for any longer than necessary', '', 'Processed in accordance with the rights of data subjects', '', 'Be protected in appropriate ways', '', 'Not be transferred outside the European Economic Area (EEA), unless that country of territory also ensures an adequate level of protection', '', 'How do we collect information from you?', '', 'We obtain information about you when you use our website, for example, when you contact us about products and services, when you register for an event, register to receive eNewsletters, subscribe or register for a trial to our GTR magazine/website.', '', 'Types of Personal Data Held and its Use', '', '1. Customer Services and Administration', '', 'On some Sites, Exporta Publishing & Events Ltd collects personal data such as your name, job title, department, company, e-mail, phone, work and/or home address, in order to register you for access to certain content, subscriptions and events. In addition, we may also store information including IP address and page analytics, including information regarding what pages are accessed, by whom and when.', '', 'This information is used to administer and deliver to you the products and/or services you have requested, to operate our Sites efficiently and improve our service to you, and to retain records of our business transactions and communications. By using the Sites and submitting personal information through the registration process you are agreeing that we may collect, hold, process and use your information (including personal information) for the purpose of providing you with the Site services and developing our business, which shall include (without limitation) the purposes described in the below paragraphs.', '', '2. Monitoring use of our Sites', '', 'Where, as part of our Site services, we enable you to post information or materials on our Site, we may access and monitor any information which you upload or input, including in any password-protected sections. Subject to any necessary consents, we also monitor and/or record the different Sites you visit and actions taken on those Sites, e.g. content viewed or searched for. If you are a registered user (e.g. a subscriber or taking a trial), when you log on, this places a cookie on your machine. This enables your access to content and services that', '', 'are not publicly available. Once you are logged on, the actions you take – for example, viewing an article – will be recorded (subject to any necessary consents). We may use technology or a service provider to do this for us. This information may be used for one or more of the following purposes:', '', 'to fulfil our obligations to you;', '', 'to improve the efficiency, quality and design of our Sites and services;', '', 'to see which articles, features and services are most read and used', '', 'to track compliance with our terms and conditions of use, e.g. to ensure that you are acting within the scope of your user licence;', '', 'for marketing purposes (subject to your rights to opt-in and opt-out of receiving certain marketing communications) – see paragraph 3 below;', '', 'for advertising purposes, although the information used for these purposes does not identify you personally. Please see paragraph 5 below for more details;', '', 'to protect or comply with our legal rights and obligations; and', '', 'to enable our journalists to contact and interact with you online in connection with any content you may post to our Sites.', '', 'Please see paragraph 5 below for more information on cookies and similar technologies and a link to a page where you can turn them on or off.', '', '3. Marketing', '', 'Some of your personal data collected under paragraphs 1 and 2 above may be used by us to contact you by e-mail, telephone and/or post for sending information or promotional material on our products and/or services and/or those of our other group companies. We give you the opportunity to opt-out of receiving marketing communications. Further detail can be found on the applicable Site and in the footer of each marketing communication sent by us, our group companies or service providers. See also “Consents and opt-outs” section below. We will not share your information with third parties for marketing purposes.', '', '4. Profiling', '', 'We may analyse your personal information to create a profile of your interests and preferences so that we can contact you with information relevant to you.', '', '5. Cookies and similar technologies', '', 'All our Sites use cookies and similar technical tools to collect information about your access to the Site and the services we provide.', '', 'What is a cookie?', '', 'When you enter some sites, your computer will be issued with a cookie. Cookies are text files that identify your computer to servers. Cookies in themselves do not identify the individual user, just the computer used.', '', 'Many sites do this whenever a user visits their site in order to track traffic flows, recording those areas of the site that have been visited by the computer in question, and for how long.', '', 'Users have the opportunity to set their computers to accept all cookies, to notify them when a cookie is issued, or not to receive cookies at any time. Selecting not to receive means that certain personalised services Exporta Publishing & Events Ltd offers cannot then be provided to that user.', '', 'Why do we use cookies?', '', 'Log In – Where we provide log in mechanisms for site users a cookie is created at login and for the duration of the session. Each cookie contains a unique reference number only (no personal information) which is used to confirm you are authorised. Analytics – To allow us to keep track of traffic to our website we use cookies. The cookies simply tell us if you have previously visited our website so we can get more accurate figures for New vs Returning visitors.', '', 'Find and control your cookies', '', 'All of the major browser providers offer advice on setting up and using the privacy and security functions for their products. If you require technical advice or support for a specific browser/version please contact the provider or visit their website for further details: www.microsoft.com / www.mozilla.com / www.apple.com / www.opera.com / www.aol.com / www.netscape.com / www.flock.com / www.google.com.', '', 'We may use cookies to:', '', 'remember that you have used the Site before; this means we can identify the number of unique visitors we receive to different parts of the Site. This allows us to make sure we have enough capacity for the number of users that we get and make sure that the Site runs fast enough', '', 'remember your login session so you can move from one page to another within the Site;', '', 'store your preferences or your user name and password so that you do not need to input these details every time you visit the Site;', '', 'customise elements of the layout and/or content of the pages of Site for you;', '', 'record activity on our Sites so that we understand how you use our Sites enabling us to better tailor our content, services and marketing to your needs;', '', 'collect statistical information about how you use the Site so that we can improve the Site; and', '', 'gather information about the pages on the Site that you visit, and other information about other websites that you visit, so as to place you in a “market segment”. This information is only collected by reference to the IP address that you are using, but does include information about the county and city you are in, together with the name of your internet service provider.', '', 'Most web browsers automatically accept cookies but, if you prefer, you can change your browser to prevent that, or to notify you each time a cookie is set. You can also learn more about cookies in general by visiting www.allaboutcookies.org which includes additional useful information on cookies and how to block cookies using different types of browser. Please note however, that by blocking, deleting or turning off cookies used on the Site you may not be able to take full advantage of the Site.', '', '6. E-mail tracking', '', 'E-mail tracking is a method for monitoring the e-mail delivery to those subscribers who have opted-in to receive marketing e-mails from GTR, including GTR Africa, GTR Asia, GTR Americas, GTR Europe, GTR Mena, GTR eNews, Third party e-mails and GTR Ventures.', '', 'Why do we track e-mails?', '', 'So that we can better understand our users’ needs, we track responses, subscription behaviour and engagement to our e-mails – for example, to see which links are the most popular in newsletters. They enable us to understand the consumers journey through metrics including open rate, click-through rate, bounces and unsubscribes. Any other purposes for which Exporta Publishing & Events Ltd wishes to use your personal data will be notified to you and your personal data will not be used for any such purpose without obtaining your prior consent.', '', 'How do you track GTR eNewsletters?', '', 'To do this, we use pixel GIFs, also known as “pixel tags” – these are small image files that are placed within the body of our e-mail messages. When that image is downloaded from our web servers, the e-mail is recorded as being opened. By using some form of digitally time-stamped record to reveal the exact time and date that an e-mail was received or opened, as well the IP address of the recipient.', '', '7. Consents and opt-outs', '', 'You can give your consent to opt-out of all or any particular uses of your data as indicated above by:', '', 'Indicating at the point on the relevant Site where personal data is collected', '', 'Informing us by e-mail, post or phone', '', 'Updating your preferences on the applicable Site or eNewsletter (unsubscribe and preference options are available in the footer of each eNewsletter)', '', 'To turn cookies and similar technologies on and off, see the information in paragraph 5 above. Any questions regarding consents and opt-outs should be sent by e-mail to privacy@gtreview.com or by writing to Data Protection Officer at, Exporta Publishing & Events Ltd, 4 Hillgate Place, London, SW12 9ER, United Kingdom. Alternatively, you can telephone our London headquarters at +44 (0) 20 8673 9666.', '', '8. Disclosures', '', 'Information collected at one Site may be shared between Exporta Publishing & Events Ltd and other group companies for the purposes listed above.', '', 'We may transfer, sell or assign any of the information described in this policy to third parties as a result of a sale, merger, consolidation, change of control, transfer of assets or reorganisation of our business.', '', '9. Public forums, message boards and blogs', '', 'Some of our Sites may have a message board, blogs or other facilities for user generated content available and users can participate in these facilities. Any information that is disclosed in these areas becomes public information and you should always be careful when deciding to disclose your personal information.', '', '10. Data outside the EEA', '', 'Services on the Internet are accessible globally so collection and transmission of personal data is not always limited to one country. Exporta Publishing & Events Ltd may transfer your personal data, for the above-listed purposes to other third parties, which may be located outside the European Economic Area and/or with a different level of personal data protection. However, when conducting transfers, we take all necessary steps to ensure that your data is treated reasonably, securely and in accordance with this Privacy Statement.', '', 'Who has access to your information?', '', 'Confidentiality and Security of Your Personal Data', '', 'We are committed to keeping the data you provide us secure and will take reasonable precautions to protect your personal data from loss, misuse or alteration.', '', 'However, the transmission of information via the internet is not completely secure. Although we will do our best to protect your personal data, we cannot guarantee the security of your data transmitted to our Site; any transmission is at your own risk. Once we have received your information, we will use strict procedures and security features described above to try to prevent unauthorised access.', '', 'We have implemented information security policies, rules and technical measures to protect the personal data that we have under our control from:', '', 'unauthorised access', '', 'improper use or disclosure', '', 'unauthorised modification', '', 'unlawful destruction or accidental loss', '', 'All our employees, contractors and data processors (i.e. those who process your personal data on our behalf, for the purposes listed above), who have access to, and are associated with the processing of your personal data, are obliged to keep the information confidential and not use it for any other purpose than to carry out the services they are performing for us.', '', 'Responsibilities', '', 'Everyone who works for or with Exporta Publishing & Events Ltd has some responsibility for ensuring data is collected, stored and handled appropriately. Each team handling personal data must ensure that it is handled and processed in line with this policy and data protection principles. However, the following people have key areas of responsibility. The board of directors is ultimately responsible for ensuring that Exporta Publishing & Events Ltd meets its legal obligations.', '', 'Name of Data Controller', '', 'The Data Controller is Exporta Publishing & Events Ltd. Exporta Publishing & Events Ltd is subject to the UK Data Protection Act 1998 and is registered in the UK with the Information Commissioner`s Office.', '', 'How to access, update and erase your personal information', '', 'If you wish to know whether we are keeping personal data about you, or if you have an enquiry about our privacy policy or your personal data held by us, in relation to any of the Sites, you can contact the Data Protection Officer via:', '', 'By writing to this address: Data Protection Officer, Exporta Publishing & Events Ltd, 4 Hillgate Place, London, SW12 9ER, UK', '', 'Telephone: +44 (0) 20 8673 9666', '', 'E-mail: privacy@gtreview.com', '', 'Upon request, we will provide you with a readable copy of the personal data which we keep about you. We may require proof of your identity and may charge a small fee (not exceeding the statutory maximum fee that can be charged) to cover administration and postage.', '', 'Exporta Publishing & Events Ltd allows you to challenge the data that we hold about you and, where appropriate in accordance with applicable laws, you may have your personal information:', '', 'erased', '', 'rectified or amended', '', 'completed', '', 'Disclosing data for other reasons', '', 'In certain circumstances, the Data Protection Act allows personal data to be disclosed to law enforcement agencies without the consent of the data subject. Under these circumstances, Exporta Publishing & Events Ltd, will disclose requested data. However, the Data Controller will ensure the request is legitimate, seeking assistance from the board and from the company’s legal advisors where necessary.', '', 'Changes to this Privacy Statement', '', 'We will occasionally update this Privacy Statement to reflect new legislation or industry practice, group company changes and customer feedback. We encourage you to review this Privacy Statement periodically to be informed of how we are protecting your personal data.', '', 'Providing information', '', 'Exporta Publishing & Events Ltd aims to ensure that individuals are aware that their data is being processed, and that they understand.', '', 'How the data is being used', '', 'How to exercise their rights', '', 'To this end, the company has a privacy statement, setting out how data relating to individuals is used by the company. This is available on request and available on the company’s website.', '', 'Review of this policy', '', 'We keep this Policy under regular review. This Privacy Statement was last updated in April 2018.']\n"
          ]
        },
        {
          "output_type": "stream",
          "name": "stderr",
          "text": [
            "Some weights of the model checkpoint at yiyanghkust/finbert-pretrain were not used when initializing BertForMaskedLM: ['cls.seq_relationship.bias', 'cls.seq_relationship.weight']\n",
            "- This IS expected if you are initializing BertForMaskedLM from the checkpoint of a model trained on another task or with another architecture (e.g. initializing a BertForSequenceClassification model from a BertForPreTraining model).\n",
            "- This IS NOT expected if you are initializing BertForMaskedLM from the checkpoint of a model that you expect to be exactly identical (initializing a BertForSequenceClassification model from a BertForSequenceClassification model).\n",
            "Some weights of the model checkpoint at bert-base-uncased were not used when initializing BertModel: ['cls.predictions.decoder.weight', 'cls.predictions.transform.dense.bias', 'cls.seq_relationship.weight', 'cls.predictions.transform.LayerNorm.weight', 'cls.seq_relationship.bias', 'cls.predictions.bias', 'cls.predictions.transform.dense.weight', 'cls.predictions.transform.LayerNorm.bias']\n",
            "- This IS expected if you are initializing BertModel from the checkpoint of a model trained on another task or with another architecture (e.g. initializing a BertForSequenceClassification model from a BertForPreTraining model).\n",
            "- This IS NOT expected if you are initializing BertModel from the checkpoint of a model that you expect to be exactly identical (initializing a BertForSequenceClassification model from a BertForSequenceClassification model).\n"
          ]
        },
        {
          "output_type": "stream",
          "name": "stdout",
          "text": [
            "['Latest news on ETFs Visit our ETF Hub to find out more and to explore our in-depth data and comparison tools', '', 'HSBC Asset Management has become the latest asset manager to downgrade the classifications of Paris-aligned exchange traded funds under the EU’s Sustainable Finance Disclosure Regulation.', '', 'The fund arm of London-based banking group HSBC has written to investors in seven Ucits ETFs, informing them that the vehicles’ SFDR categories will be changed from Article 9 to Article 8.', '', 'The changes, which take effect from December 1, apply to the HSBC MSCI Europe, Japan, USA, World, Asia Pacific ex-Japan and Emerging Markets Climate Paris-Aligned Ucits ETFs.', '', 'Under SFDR, Article 9 funds must follow a sustainable investment strategy, while Article 8 funds should consider environmental or social factors but do not need to target a sustainable outcome.', '', 'This article was previously published by Ignites Europe, a title owned by the FT Group.', '', 'According to recent guidance from the European markets watchdog, vehicles classified as Article 9 should exclusively be invested in sustainable assets.', '', 'HSBC AM said its move came “pending further regulatory clarification on the categorisation of funds that track benchmarks that qualify as EU Paris-aligned benchmarks”.', '', 'The company said its directors had “determined that it is in the best interests of investors to recategorise the funds as Article 8 funds under SFDR”.', '', '“This is a recategorisation for SFDR purposes only. There is no change to the investment objective or investment policy of each fund or the way in which each fund is managed,” HSBC AM added.', '', 'BlackRock and Invesco made similar moves earlier this month, in a change that collectively affected more than 20 ETFs.', '', 'Morningstar analysis has indicated there has been an acceleration in fund firms downgrading products’ SFDR classifications as they prepare to implement new regulatory technical standards that will come into effect in January 2023.', '', '*Ignites Europe is a news service published by FT Specialist for professionals working in the asset management industry. It covers everything from new product launches to regulations and industry trends. Trials and subscriptions are available at igniteseurope.com.', '', 'Click here to visit the ETF Hub', '', '', '', '']\n"
          ]
        },
        {
          "output_type": "stream",
          "name": "stderr",
          "text": [
            "Some weights of the model checkpoint at yiyanghkust/finbert-pretrain were not used when initializing BertForMaskedLM: ['cls.seq_relationship.bias', 'cls.seq_relationship.weight']\n",
            "- This IS expected if you are initializing BertForMaskedLM from the checkpoint of a model trained on another task or with another architecture (e.g. initializing a BertForSequenceClassification model from a BertForPreTraining model).\n",
            "- This IS NOT expected if you are initializing BertForMaskedLM from the checkpoint of a model that you expect to be exactly identical (initializing a BertForSequenceClassification model from a BertForSequenceClassification model).\n",
            "Some weights of the model checkpoint at bert-base-uncased were not used when initializing BertModel: ['cls.predictions.decoder.weight', 'cls.predictions.transform.dense.bias', 'cls.seq_relationship.weight', 'cls.predictions.transform.LayerNorm.weight', 'cls.seq_relationship.bias', 'cls.predictions.bias', 'cls.predictions.transform.dense.weight', 'cls.predictions.transform.LayerNorm.bias']\n",
            "- This IS expected if you are initializing BertModel from the checkpoint of a model trained on another task or with another architecture (e.g. initializing a BertForSequenceClassification model from a BertForPreTraining model).\n",
            "- This IS NOT expected if you are initializing BertModel from the checkpoint of a model that you expect to be exactly identical (initializing a BertForSequenceClassification model from a BertForSequenceClassification model).\n"
          ]
        },
        {
          "output_type": "stream",
          "name": "stdout",
          "text": [
            "['Why did this happen?', '', 'Please make sure your browser supports JavaScript and cookies and that you are not blocking them from loading. For more information you can review our Terms of Service and Cookie Policy.']\n"
          ]
        },
        {
          "output_type": "stream",
          "name": "stderr",
          "text": [
            "Some weights of the model checkpoint at yiyanghkust/finbert-pretrain were not used when initializing BertForMaskedLM: ['cls.seq_relationship.bias', 'cls.seq_relationship.weight']\n",
            "- This IS expected if you are initializing BertForMaskedLM from the checkpoint of a model trained on another task or with another architecture (e.g. initializing a BertForSequenceClassification model from a BertForPreTraining model).\n",
            "- This IS NOT expected if you are initializing BertForMaskedLM from the checkpoint of a model that you expect to be exactly identical (initializing a BertForSequenceClassification model from a BertForSequenceClassification model).\n",
            "Some weights of the model checkpoint at bert-base-uncased were not used when initializing BertModel: ['cls.predictions.decoder.weight', 'cls.predictions.transform.dense.bias', 'cls.seq_relationship.weight', 'cls.predictions.transform.LayerNorm.weight', 'cls.seq_relationship.bias', 'cls.predictions.bias', 'cls.predictions.transform.dense.weight', 'cls.predictions.transform.LayerNorm.bias']\n",
            "- This IS expected if you are initializing BertModel from the checkpoint of a model trained on another task or with another architecture (e.g. initializing a BertForSequenceClassification model from a BertForPreTraining model).\n",
            "- This IS NOT expected if you are initializing BertModel from the checkpoint of a model that you expect to be exactly identical (initializing a BertForSequenceClassification model from a BertForSequenceClassification model).\n"
          ]
        },
        {
          "output_type": "stream",
          "name": "stdout",
          "text": [
            "['HSBC in Mexico City. Photo: iStock HSBC in Mexico City. Photo: iStock', '', 'While there is doubt over the future ownership of Citi’s Mexican retail operation, HSBC continues to invest in its ambitious expansion plans for the country.', '', 'Pablo Elek, head of wealth and personal banking for HSBC Mexico, tells Euromoney that the country is betting on the country’s growing economy and banking sector for organic growth.', '', 'Mexico is becoming increasingly important for the universal bank, and is now its fourth largest market in revenue terms, up from 16th in 2015 – a jump that is partly attributable to HSBC’s divestiture from many smaller regional markets.', '', '“Mexico is a scale market, which is always really important,” Elek says. \"The economy is thriving as it comes out of the pandemic, the FX is performing strongly and we see a strong outlook for GDP growth driven by – among other things – marked increase in investment by our commercial partners due to the near-shoring phenomenon.', '', 'We want to understand how best to join forces with fintech companies that have rapid growth based on large data and analytics Pablo Elek, HSBC Mexico', '', '“As a bank, we also continue to invest in Mexico.']\n"
          ]
        },
        {
          "output_type": "stream",
          "name": "stderr",
          "text": [
            "Some weights of the model checkpoint at yiyanghkust/finbert-pretrain were not used when initializing BertForMaskedLM: ['cls.seq_relationship.bias', 'cls.seq_relationship.weight']\n",
            "- This IS expected if you are initializing BertForMaskedLM from the checkpoint of a model trained on another task or with another architecture (e.g. initializing a BertForSequenceClassification model from a BertForPreTraining model).\n",
            "- This IS NOT expected if you are initializing BertForMaskedLM from the checkpoint of a model that you expect to be exactly identical (initializing a BertForSequenceClassification model from a BertForSequenceClassification model).\n",
            "Some weights of the model checkpoint at bert-base-uncased were not used when initializing BertModel: ['cls.predictions.decoder.weight', 'cls.predictions.transform.dense.bias', 'cls.seq_relationship.weight', 'cls.predictions.transform.LayerNorm.weight', 'cls.seq_relationship.bias', 'cls.predictions.bias', 'cls.predictions.transform.dense.weight', 'cls.predictions.transform.LayerNorm.bias']\n",
            "- This IS expected if you are initializing BertModel from the checkpoint of a model trained on another task or with another architecture (e.g. initializing a BertForSequenceClassification model from a BertForPreTraining model).\n",
            "- This IS NOT expected if you are initializing BertModel from the checkpoint of a model that you expect to be exactly identical (initializing a BertForSequenceClassification model from a BertForSequenceClassification model).\n"
          ]
        },
        {
          "output_type": "stream",
          "name": "stdout",
          "text": [
            "['The HSBC headquarters in Hong Kong’s Central. The bank’s third ESG sentiment survey this year polled 352 financial professionals across the globe in roles related to ESG decision-making. Photo: Yik Yeung -man']\n"
          ]
        },
        {
          "output_type": "stream",
          "name": "stderr",
          "text": [
            "Some weights of the model checkpoint at yiyanghkust/finbert-pretrain were not used when initializing BertForMaskedLM: ['cls.seq_relationship.bias', 'cls.seq_relationship.weight']\n",
            "- This IS expected if you are initializing BertForMaskedLM from the checkpoint of a model trained on another task or with another architecture (e.g. initializing a BertForSequenceClassification model from a BertForPreTraining model).\n",
            "- This IS NOT expected if you are initializing BertForMaskedLM from the checkpoint of a model that you expect to be exactly identical (initializing a BertForSequenceClassification model from a BertForSequenceClassification model).\n",
            "Some weights of the model checkpoint at bert-base-uncased were not used when initializing BertModel: ['cls.predictions.decoder.weight', 'cls.predictions.transform.dense.bias', 'cls.seq_relationship.weight', 'cls.predictions.transform.LayerNorm.weight', 'cls.seq_relationship.bias', 'cls.predictions.bias', 'cls.predictions.transform.dense.weight', 'cls.predictions.transform.LayerNorm.bias']\n",
            "- This IS expected if you are initializing BertModel from the checkpoint of a model trained on another task or with another architecture (e.g. initializing a BertForSequenceClassification model from a BertForPreTraining model).\n",
            "- This IS NOT expected if you are initializing BertModel from the checkpoint of a model that you expect to be exactly identical (initializing a BertForSequenceClassification model from a BertForSequenceClassification model).\n"
          ]
        },
        {
          "output_type": "stream",
          "name": "stdout",
          "text": [
            "['Investors in HSBC Holdings plc (Symbol: HSBC) saw new options become available today, for the January 2023 expiration. At Stock Options Channel, our YieldBoost formula has looked up and down the HSBC options chain for the new January 2023 contracts and identified one put and one call contract of particular interest.', '', 'The put contract at the $29.00 strike price has a current bid of 55 cents. If an investor was to sell-to-open that put contract, they are committing to purchase the stock at $29.00, but will also collect the premium, putting the cost basis of the shares at $28.45 (before broker commissions). To an investor already interested in purchasing shares of HSBC, that could represent an attractive alternative to paying $29.54/share today.', '', 'Because the $29.00 strike represents an approximate 2% discount to the current trading price of the stock (in other words it is out-of-the-money by that percentage), there is also the possibility that the put contract would expire worthless. The current analytical data (including greeks and implied greeks) suggest the current odds of that happening are 99%. Stock Options Channel will track those odds over time to see how they change, publishing a chart of those numbers on our website under the contract detail page for this contract. Should the contract expire worthless, the premium would represent a 1.90% return on the cash commitment, or 15.73% annualized — at Stock Options Channel we call this the YieldBoost.', '', 'Below is a chart showing the trailing twelve month trading history for HSBC Holdings plc, and highlighting in green where the $29.00 strike is located relative to that history:', '', 'Turning to the calls side of the option chain, the call contract at the $30.00 strike price has a current bid of 65 cents. If an investor was to purchase shares of HSBC stock at the current price level of $29.54/share, and then sell-to-open that call contract as a \"covered call,\" they are committing to sell the stock at $30.00. Considering the call seller will also collect the premium, that would drive a total return (excluding dividends, if any) of 3.76% if the stock gets called away at the January 2023 expiration (before broker commissions). Of course, a lot of upside could potentially be left on the table if HSBC shares really soar, which is why looking at the trailing twelve month trading history for HSBC Holdings plc, as well as studying the business fundamentals becomes important. Below is a chart showing HSBC\\'s trailing twelve month trading history, with the $30.00 strike highlighted in red:', '', 'Considering the fact that the $30.00 strike represents an approximate 2% premium to the current trading price of the stock (in other words it is out-of-the-money by that percentage), there is also the possibility that the covered call contract would expire worthless, in which case the investor would keep both their shares of stock and the premium collected. The current analytical data (including greeks and implied greeks) suggest the current odds of that happening are 99%. On our website under the contract detail page for this contract, Stock Options Channel will track those odds over time to see how they change and publish a chart of those numbers (the trading history of the option contract will also be charted). Should the covered call contract expire worthless, the premium would represent a 2.20% boost of extra return to the investor, or 18.25% annualized, which we refer to as the YieldBoost.', '', \"Meanwhile, we calculate the actual trailing twelve month volatility (considering the last 252 trading day closing values as well as today's price of $29.54) to be 34%. For more put and call options contract ideas worth looking at, visit StockOptionsChannel.com.\", '', 'Top YieldBoost Calls of the S&P 500 »', '', 'Also see:', '', 'The views and opinions expressed herein are the views and opinions of the author and do not necessarily reflect those of Nasdaq, Inc.']\n"
          ]
        },
        {
          "output_type": "stream",
          "name": "stderr",
          "text": [
            "Some weights of the model checkpoint at yiyanghkust/finbert-pretrain were not used when initializing BertForMaskedLM: ['cls.seq_relationship.bias', 'cls.seq_relationship.weight']\n",
            "- This IS expected if you are initializing BertForMaskedLM from the checkpoint of a model trained on another task or with another architecture (e.g. initializing a BertForSequenceClassification model from a BertForPreTraining model).\n",
            "- This IS NOT expected if you are initializing BertForMaskedLM from the checkpoint of a model that you expect to be exactly identical (initializing a BertForSequenceClassification model from a BertForSequenceClassification model).\n",
            "Some weights of the model checkpoint at bert-base-uncased were not used when initializing BertModel: ['cls.predictions.decoder.weight', 'cls.predictions.transform.dense.bias', 'cls.seq_relationship.weight', 'cls.predictions.transform.LayerNorm.weight', 'cls.seq_relationship.bias', 'cls.predictions.bias', 'cls.predictions.transform.dense.weight', 'cls.predictions.transform.LayerNorm.bias']\n",
            "- This IS expected if you are initializing BertModel from the checkpoint of a model trained on another task or with another architecture (e.g. initializing a BertForSequenceClassification model from a BertForPreTraining model).\n",
            "- This IS NOT expected if you are initializing BertModel from the checkpoint of a model that you expect to be exactly identical (initializing a BertForSequenceClassification model from a BertForSequenceClassification model).\n"
          ]
        },
        {
          "output_type": "stream",
          "name": "stdout",
          "text": [
            "['The partnership between HSBC and Star Alliance, dubbed a world-first, brings together seven major airlines from across the globe.', '', 'Star Alliance currently operates as one of the three major global airline alliances, alongside Skyteam and Oneworld - the latter of which Qantas is part.', '', 'Aussie consumers can earn Star Alliance Points on eligible Star Alliance Credit Card purchases, to be converted to frequent flyer points across the seven participating Star Alliance frequent flyer programs.', '', 'At the time of launch, participants joining the partnership between HSBC and Star Alliance include:', '', 'Air Canada – Aeroplan Air New Zealand – Airpoints Eva Air – Infinity MilageLands Singapore Airlines – KrisFlyer South African Airways – SAA Voyager Thai – Royal Orchid Plus United - MileagePlus', '', 'HSBC’s Star Alliance credit card operates on the Visa platform, bringing together several airline platforms under one card.', '', 'Star Alliance CEO Jeffrey Goh said the group is delighted to launch this industry-first loyalty product together with HSBC and Visa.', '', '“This unique product is an outcome of strategic discussions with our member airlines for the Australian market,” Mr Goh said.', '', '“It will offer a new world of loyalty experience with not only the ability to earn points, but also a fast track to Star Alliance Gold Status through everyday spending.”', '', 'HSBC’s Star Alliance Credit Card offers Aussie consumers the ability to fast track to Star Alliance Gold Status in the first year of their account, when they spend $4,000 on eligible purchases within 90 days from card approval.', '', 'The data for September revealed the total value of monthly credit card purchases eclipsed pre-COVID levels to reach more than $32 billion in September 2022.', '', 'Further as pre-Christmas sales begin to boom, Aussies are forecast to spend $63.9 billion from 14 November to 24 December, with $6.2 billion of that coming over the four-day Black Friday period commencing November 25.', '', 'Star Alliance Credit Card Features', '', 'Uncapped Star Alliance Points', '', 'Customers can earn one Star Alliance point for every $1 spent on eligible purchases, up to $3,000 per statement period. Once the $3,000 limit has been met, customers can earn 0.5 Star Alliance points per $1 spent.', '', \"The earning of Star Alliance points is uncapped with points earned transferred to a customer's Star Alliance rewards account monthly.\", '', 'Book interest-free flights', '', 'The partnership offers 0% interest for six months on direct purchases made through Star Alliance airline websites using a HSBC Star Alliance credit card.', '', 'Fast track to Star Alliance Gold', '', 'Star Alliance Gold Status is earned in the first year of their account when customers spend $4,000 on eligible purchases in the first 90 days from card approval.', '', 'Retain Star Alliance status privileges', '', 'Earn or retain Star Alliance Gold Status each year when customers spend at least $60,000 on eligible purchases in the previous year. Star Alliance Silver status is earned when customers spend at least $30,000 on eligible purchases in the previous year.', '', 'Complimentary travel insurance', '', 'The Star Alliance Credit Card offers domestic and international travel insurances with rental vehicle excess insurance in Australia, transit accident insurance, extended warranty insurance, and purchase protection insurance.', '', 'HSBC notes cover for claims relating to COVID-19 may be available under selected international travel insurance benefits.', '', 'Interest free purchases', '', \"Purchases made utilising the Star Alliance Credit Card are eligible for up to 55 days' interest free.\", '', 'Mobile payments', '', 'Apple Pay and Google Pay can be used wherever customers can make contactless purchases, online, and at participating retailers in store.', '', 'Additional cardholders', '', 'Star Alliance credit cards can be shared across additional cardholders aged 16 years or over without any additional fee.', '', 'Star Alliance Credit Card Fees', '', 'HSBC notes for a limited time in the first year, the credit card comes with no annual fees before reverting to $450 in subsequent years.', '', 'Fees customers may incur when using the Star Alliance Credit Card include:', '', 'Cash Advance Fees The higher of 3% or $4 Interest Rate for Cash Advances 21.99% p.a. Interest Rate for Purchases 19.99% p.a. Late Payment Fees $30 Minimum Credit Limit Offered $6,000 Overseas Exchange Fees 3%', '', 'Star Alliance Credit Card Eligibility', '', 'To be eligible to receive a Star Alliance Credit Card, applicants must:', '', 'Must be over the age of 18 and be an Australian resident.', '', 'Earn at least $75,000 p.a.', '', 'Possess a good credit rating.', '', 'Documents required for Star Alliance Credit Card applications include:', '', 'Identification including a combination of driver’s license, passport and Medicare card.', '', 'Residential address details.', '', 'Bank statements detailing income and employment.', '', 'Image by Pascal Renet via Pexels']\n"
          ]
        },
        {
          "output_type": "stream",
          "name": "stderr",
          "text": [
            "Some weights of the model checkpoint at yiyanghkust/finbert-pretrain were not used when initializing BertForMaskedLM: ['cls.seq_relationship.bias', 'cls.seq_relationship.weight']\n",
            "- This IS expected if you are initializing BertForMaskedLM from the checkpoint of a model trained on another task or with another architecture (e.g. initializing a BertForSequenceClassification model from a BertForPreTraining model).\n",
            "- This IS NOT expected if you are initializing BertForMaskedLM from the checkpoint of a model that you expect to be exactly identical (initializing a BertForSequenceClassification model from a BertForSequenceClassification model).\n",
            "Some weights of the model checkpoint at bert-base-uncased were not used when initializing BertModel: ['cls.predictions.decoder.weight', 'cls.predictions.transform.dense.bias', 'cls.seq_relationship.weight', 'cls.predictions.transform.LayerNorm.weight', 'cls.seq_relationship.bias', 'cls.predictions.bias', 'cls.predictions.transform.dense.weight', 'cls.predictions.transform.LayerNorm.bias']\n",
            "- This IS expected if you are initializing BertModel from the checkpoint of a model trained on another task or with another architecture (e.g. initializing a BertForSequenceClassification model from a BertForPreTraining model).\n",
            "- This IS NOT expected if you are initializing BertModel from the checkpoint of a model that you expect to be exactly identical (initializing a BertForSequenceClassification model from a BertForSequenceClassification model).\n"
          ]
        },
        {
          "output_type": "stream",
          "name": "stdout",
          "text": [
            "['Why did this happen?', '', 'Please make sure your browser supports JavaScript and cookies and that you are not blocking them from loading. For more information you can review our Terms of Service and Cookie Policy.']\n"
          ]
        },
        {
          "output_type": "stream",
          "name": "stderr",
          "text": [
            "Some weights of the model checkpoint at yiyanghkust/finbert-pretrain were not used when initializing BertForMaskedLM: ['cls.seq_relationship.bias', 'cls.seq_relationship.weight']\n",
            "- This IS expected if you are initializing BertForMaskedLM from the checkpoint of a model trained on another task or with another architecture (e.g. initializing a BertForSequenceClassification model from a BertForPreTraining model).\n",
            "- This IS NOT expected if you are initializing BertForMaskedLM from the checkpoint of a model that you expect to be exactly identical (initializing a BertForSequenceClassification model from a BertForSequenceClassification model).\n",
            "Some weights of the model checkpoint at bert-base-uncased were not used when initializing BertModel: ['cls.predictions.decoder.weight', 'cls.predictions.transform.dense.bias', 'cls.seq_relationship.weight', 'cls.predictions.transform.LayerNorm.weight', 'cls.seq_relationship.bias', 'cls.predictions.bias', 'cls.predictions.transform.dense.weight', 'cls.predictions.transform.LayerNorm.bias']\n",
            "- This IS expected if you are initializing BertModel from the checkpoint of a model trained on another task or with another architecture (e.g. initializing a BertForSequenceClassification model from a BertForPreTraining model).\n",
            "- This IS NOT expected if you are initializing BertModel from the checkpoint of a model that you expect to be exactly identical (initializing a BertForSequenceClassification model from a BertForSequenceClassification model).\n"
          ]
        },
        {
          "output_type": "stream",
          "name": "stdout",
          "text": [
            "['China’s reform of its pension scheme is vital given its rapidly ageing population and declining birth rate, which are putting pressure on the existing system. Photo: AFP']\n"
          ]
        },
        {
          "output_type": "stream",
          "name": "stderr",
          "text": [
            "Some weights of the model checkpoint at yiyanghkust/finbert-pretrain were not used when initializing BertForMaskedLM: ['cls.seq_relationship.bias', 'cls.seq_relationship.weight']\n",
            "- This IS expected if you are initializing BertForMaskedLM from the checkpoint of a model trained on another task or with another architecture (e.g. initializing a BertForSequenceClassification model from a BertForPreTraining model).\n",
            "- This IS NOT expected if you are initializing BertForMaskedLM from the checkpoint of a model that you expect to be exactly identical (initializing a BertForSequenceClassification model from a BertForSequenceClassification model).\n",
            "Some weights of the model checkpoint at bert-base-uncased were not used when initializing BertModel: ['cls.predictions.decoder.weight', 'cls.predictions.transform.dense.bias', 'cls.seq_relationship.weight', 'cls.predictions.transform.LayerNorm.weight', 'cls.seq_relationship.bias', 'cls.predictions.bias', 'cls.predictions.transform.dense.weight', 'cls.predictions.transform.LayerNorm.bias']\n",
            "- This IS expected if you are initializing BertModel from the checkpoint of a model trained on another task or with another architecture (e.g. initializing a BertForSequenceClassification model from a BertForPreTraining model).\n",
            "- This IS NOT expected if you are initializing BertModel from the checkpoint of a model that you expect to be exactly identical (initializing a BertForSequenceClassification model from a BertForSequenceClassification model).\n"
          ]
        },
        {
          "output_type": "stream",
          "name": "stdout",
          "text": [
            "[\"Hongkong and Shanghai Banking Corporation Limited (HSBC) has been voted 'Market Leader' in Bangladesh for the 13th time and the 'Best Service' in Bangladesh for five years in a row, in the Euromoney Cash Management Survey 2022.\", '', 'This survey is conducted by the leading global business and finance-focused magazine Euromoney, reads a press release.', '', 'With an average response base in excess of 20,000, this is the most authoritative and comprehensive ranking available.', '', \"The awards indicate HSBC's leadership in cash management in the country.\", '', \"Commenting on the country's wins, Md Mahbub ur Rahman, CEO of HSBC Bangladesh said: “This recognition makes us humbled and also more responsible towards our customers who had placed their confidence and trust in HSBC. We are certainly encouraged by this award and would continue to augment our propositions and bring in international service standards in this evolving technology-driven marketplace. I take this opportunity to thank our customers, regulators and all other stakeholders for helping us to go for this mile.”\", '', 'Riaz A Choudhury, interim country head of Wholesale Banking, HSBC Bangladesh added: “I would like to extend my gratitude to the clients who voted for us. These awards attest to our leadership position and inspire us to fulfil our commitments to the clients for continuous improvement of products and solutions. We will continue to digitise at scale and help clients to build a smarter business with a simpler and better-informed customer-experience.”', '', 'HSBC Bangladesh has a wide range of liquidity management products across payables, receivables, clearing and foreign currency, liquidity, liability and investments.', '', 'This year the bank launched a Cash Flow Forecasting tool to help clients build a more accurate picture of their future finances and manage liquidity.', '', 'In addition, to support the digital banking requirements of the clients, HSBC Bangladesh has already launched smart digital propositions like Online Statutory Payment System, Paperless-trade, Enhanced Virtual Account, Direct Debit, eVAT, eDuty etc.', '', 'The bank is invested in continuing the momentum by providing clients with more digital solutions in the coming time span.', '', 'HSBC has always prioritised its client and tried to give them the best service possible through the adaption of new, convenient technologies.']\n"
          ]
        },
        {
          "output_type": "stream",
          "name": "stderr",
          "text": [
            "Some weights of the model checkpoint at yiyanghkust/finbert-pretrain were not used when initializing BertForMaskedLM: ['cls.seq_relationship.bias', 'cls.seq_relationship.weight']\n",
            "- This IS expected if you are initializing BertForMaskedLM from the checkpoint of a model trained on another task or with another architecture (e.g. initializing a BertForSequenceClassification model from a BertForPreTraining model).\n",
            "- This IS NOT expected if you are initializing BertForMaskedLM from the checkpoint of a model that you expect to be exactly identical (initializing a BertForSequenceClassification model from a BertForSequenceClassification model).\n",
            "Some weights of the model checkpoint at bert-base-uncased were not used when initializing BertModel: ['cls.predictions.decoder.weight', 'cls.predictions.transform.dense.bias', 'cls.seq_relationship.weight', 'cls.predictions.transform.LayerNorm.weight', 'cls.seq_relationship.bias', 'cls.predictions.bias', 'cls.predictions.transform.dense.weight', 'cls.predictions.transform.LayerNorm.bias']\n",
            "- This IS expected if you are initializing BertModel from the checkpoint of a model trained on another task or with another architecture (e.g. initializing a BertForSequenceClassification model from a BertForPreTraining model).\n",
            "- This IS NOT expected if you are initializing BertModel from the checkpoint of a model that you expect to be exactly identical (initializing a BertForSequenceClassification model from a BertForSequenceClassification model).\n"
          ]
        },
        {
          "output_type": "stream",
          "name": "stdout",
          "text": [
            "['Cars / Yachts', '', 'Even during a “rollercoaster” couple of years post Covid, the superyacht market in Asia has remained lively and HSBC Global Private Banking continues to help clients realise their dreams.', '', 'Nov 24, 2022 | By John Higginson', '', 'Jyrki Rauhio, Regional Head of Credit Advisory, Asia Pacific, HSBC Global Private Banking', '', 'Asia may not be the world’s most developed superyacht region, but it does have a dynamic new generation of owners, many of whom have been inspired to purchase in the Covid era. In fact, a superyacht as a first boat is more common in this region than in the rest of the world, where owners typically upgrade through a series of increasingly large yachts before taking the plunge and buying above 80ft or 100ft.', '', 'HSBC Global Private Banking, which has a long history of helping finance and structure superyacht purchases around Asia, revealed that earlier this year it helped a client buy a 100ft-plus yacht valued in the region of US$10 million — impressive for a first boat.', '', '“In Asia, someone’s first yacht may be a 100-footer and our client’s first was above that length. It’s a very nice vessel,” says Jyrki Rauhio, HSBC Global Private Banking’s Regional Head of Credit Advisory, Asia Pacific. “Usually, most buyers would have had several boats before buying a superyacht, but the fact he’s spending US$10 million on his first shows the difference in the market here.”', '', 'Stressing how Covid has inspired a strong feeling of carpe diem, he cites a Hong Kong-based tycoon who has been involved in a lengthier purchase of what could be termed a megayacht. Built in Italy, it should be delivered in 2023 and has a value close to US$100 million.', '', '“He wanted to realise a dream,” Rauhio says. “His yacht is of a serious size, but it’s a great example of a project that has been built during Covid for somebody who wanted to realise their dream. Once he gets it, he can enjoy using it far more widely than just cruising around Hong Kong.”', '', 'READ MORE: Sunseeker Reveals Ocean 460 Superyacht', '', 'Rollercoaster Market', '', 'Rauhio, whose job scope covers Asia Pacific, says the mindset of people in the region has been influenced by a reaction to the Covid era’s restrictions, much as it has elsewhere in the world.', '', '“Everybody’s worldview has changed in the last couple of years. People have altered the way they approach life, family, work, holidays and so on. There has been a feeling of ‘you live only once’,” he says. “As such, many yacht dealers have done very good business and it has also been evident in the supercar market”.', '', 'For all the upsides in the “trophy assets” sector, Rauhio admits that the overall superyacht financing market spanning the various countries and regions across Asia “has been a very interesting rollercoaster, with ups and downs”.', '', '“We’ve closed deals and we’re working on more, but it has been an interesting two or three years and the gyrations have been huge, as have the regional discrepancies.”', '', 'In Hong Kong, the yachting market picked up quickly in 2020 after the initial fear of Covid waned, leading to record yacht sales for many dealers and brokers. However, Rauhio says the post-Covid boom in the yachting market has slowed a little, coinciding with more restrictions at the start of the year and a more unsettled business climate.', '', '“Soon after Covid began, people started getting interested in boats and many were sold in the secondary market. This was when [interest] rates were still low. Our clients came to us for funding and there was a lot of activity; we issued plenty of term sheets and closed quite a few deals,” he says.', '', '“People getting on their boats and cruising around Sai Kung or elsewhere was the closest they had to a mini-holiday for the first couple of years of Covid.', '', '“However, that euphoria has cooled a little. Coming into 2022, we moved into higher rates and more uncertainty, with people wondering whether buying a yacht was a good idea. Quite a lot of the people looking at these large yachts had their businesses face headwinds and had better use for their cash, although we’re still working on multiple transactions in Hong Kong.”', '', 'Rauhio says his recent travels around Southeast Asia have given him cause for optimism and gives examples of how overall wealth in Asia and around the world continues to grow.', '', '“I’ve recently been in Jakarta, Singapore and Manila, and business prospects look pretty good, people are enjoying themselves, so I think the superyacht sector will continue doing reasonably well, although it’s subject to the market,” he says.', '', '“The number of people holding US$250,000 in Vietnam, the Philippines and India will more than double by 2030, according to HSBC research. It’s an example of how wealth in this region will continue to grow, despite how the markets perform and geopolitical happenings. It’s an unstoppable trend and with it comes a desire for assets like yachts and other items.”', '', 'CGI c/o Fraser.', '', 'Question Time', '', 'In Hong Kong late last year, HSBC Global Private Banking invited clients to visit and tour three motor yachts up to about 120ft in Deep Water Bay in an event organised with a local dealer. Rauhio was happy to see the reaction of clients, but believes potential owners should think long and hard before committing to such a purchase.', '', '“The clients loved it, having champagne and canapes, and spending a day on a very nice yacht. It can potentially stir an impulse purchase, but clients should ask whether it makes sense for them on more than just an emotional level.”', '', 'He also cautions potential owners who may have first enjoyed yachting in the Mediterranean or Caribbean, especially if they assume a similar infrastructure for superyachts exists in Asia.', '', '“If their first experience was on a holiday or charter in the Med or the Caribbean, they may have thought owning a yacht is a great idea,” he says. “It is a great idea in the Med, where you can easily go from port to port, but in Asia, you need to think realistically about how you can and want to use your yacht and where you want to go.”', '', 'A yacht is also very different from most other trophy assets, especially passive ones such as art or luxury watches. A superyacht is in a different cost bracket to supercars and is only partly comparable to a private jet. The rule of thumb for annual running costs of a superyacht is up to 10 per cent of the purchase price, once you include crew, insurance, berthing, fuel, maintenance and more.', '', '“A yacht is a very complex asset to own, even more complex than a plane. You must keep a plane airworthy, but it’s highly regimented and regulated, and can be overseen by a management company. In the boat industry, certainly in Asia, it’s not plug and play, and it can be a complex process to find the right people, suppliers and support,” he says.', '', '“The running costs are quite a large cash outflow, which is fine if you have enormous cashflow coming in, as many of our clients do. For most of our clients, it’s not a question of whether you’re rich enough but whether you really want to spend this kind of money on this asset. Do you want to get involved in all the costs and hassles of ownership?”', '', 'Personal Choice', '', 'However, once a buyer has committed to purchase, HSBC Global Private Banking works with clients on how best to structure any purchase and how to set up ownership, and even — if needed — to help discuss the type of yacht they wish to buy.', '', 'Choosing a yacht can involve discussions about pre-owned, new or custom build, special features and size, which can be a personal choice or based on the owner’s plans, such as whether it will be used for long journeys and ocean crossings. The choices are far more varied and complicated than when choosing a private jet, when it’s far clearer how the client is likely use it.', '', '“For a plane, a client may typically fly within Asia or to Europe or New York, and estimate that they fly 20 or so times a year, for example. Based on usage, you determine the size and narrow it down to a few options,” he says.', '', '“Planes are more limited than yachts, where we have more of an advisory relationship. A yacht purchase is more emotional and the options for design and customisation are endless.”', '', 'He also cites a client in Australia as an example of someone who knew what he was looking for and how he was going to use it. Rauhio visited the client’s house in Sydney and was amazed at the personal involvement in the design of his upcoming yacht.', '', '“He had a beautiful house and one of the rooms was full of blueprints of the yacht, which measures a couple of hundred feet. He had all these blueprints taped around the walls, so that was like his design room. He got very deeply involved in the actual customisation of his yacht.', '', '“When you get to that level of involvement, you know all the questions have been answered. He then used this yacht to travel between continents, cross oceans, going up the coast from the Panama Canal to Alaska.”', '', 'CGI c/o Fraser', '', 'Structuring an Acquisition', '', 'Once a yacht has been identified, discussions revolve around how to structure a purchase. For starters, HSBC’s yacht financing is not about enabling purchase. Clients typically can afford the outlay and the yacht sits within a large portfolio of hard and soft assets.', '', '“The important question for the client is, ‘Do you really want to tie up your capital for the full value of the yacht? Then you get into what we do, and this is where the financing angle comes in,” says Rauhio, who admits such discussions are a little more complex now than even just a year ago, when rates were lower.', '', '“If you’re a successful businessperson, tying up US$50 million in an asset that yields a negative cashflow is not necessarily a smart thing. You’d rather release some liquidity from that and invest it in something that brings you a positive cashflow to help offset the cost of ownership.', '', '“As we stress, our yacht financing is not about enabling purchase but about making your money and equity sweat harder. If you earn a 10 per cent yield on your capital in your primary activity, then even with these rates, financing makes a lot of sense while using your hard-earned cash possibly doesn’t.”', '', 'The structures of yacht financing and ownership can vary widely. Rauhio says the tycoon who ordered a yacht valued at close to US$100 million was looking how to best finance it and structure the acquisition. HSBC Global Private Banking arranged pre-delivery financing, approving a facility against the project, and has separately arranged delivery financing.', '', '“He’s a very good client of ours and has substantial assets. We enabled him to finance the entire construction period so when the project is realised, he will take delivery, but he has been mostly using our money to build it. He then effectively puts in the equity at the end,” Rauhio says.', '', '“We take a fair amount of risk, but because of our deep and long-term relationship with this HSBC Group connected client, we were happy to take that risk.”', '', 'Otherwise, financing structures can be more straightforward, with options including placing the boat in a trust, depending on the client and family estate. Rauhio says the financing for the first-time buyer of a US$10 million yacht was about 50 per cent LTV (loan to value).', '', '“Basically, we need a borrower and a guarantor. Typically, you establish an SPV (special purpose vehicle) to hold and own the boat. The SPV becomes the borrower and there’s a personal guarantee by the client,” he says.', '', '“It can make sense for a family estate to hold it in an SPV, especially if you charter the yacht. All the running costs and assets are in one place, and it can be run as a mini company, which can be used to hire the crew and make and receive all other payments.”', '', 'HSBC has also, with prior approval, put clients in touch with other clients who have been through the process, for advice and learnings.', '', '“We can connect you with others going through the same thing,” Rauhio says. “Maybe you want to have a discussion with a like-minded millionaire locally in Asia to discuss how they did this, as opposed to having a Zoom call with somebody offshore, for example. That’s an advantage.”', '', 'Ultimately, HSBC Global Private Banking has the on-ground expertise and experience across Asia to help clients make their money work for them, offsetting some of the large costs of what’s often seen as the ultimate trophy asset but also one that can be used as a working ‘home away from home’ when required.', '', '“As a wealth partner, we’re here to help enable our clients to do it. We even had one client who had both a yacht and a plane, and if you want to go down the trophy asset lane, we can even finance the art you want to put in your yacht,” Rauhio smiles.', '', '“It’s all part of your wealth and we want to accompany you on your wealth journey, whether it’s hard or soft assets, commercial or leisure. If you’re thinking about a yacht, I’d encourage you to engage with us. It’s worth a discussion.”', '', 'For more yacht reads, click here.', '', 'Disclaimer: Investments in emerging markets may be extremely volatile and subject to sudden fluctuations of varying magnitude due to a wide range of direct and indirect influences. Such characteristics can lead to considerable losses being incurred by those exposed to such markets. This article is not a personalised communication from HSBC to you and does not constitute and should not be construed as legal, tax or investment advice or a solicitation of the sale or recommendation of any product or service. You should not make any investment decisions based mainly or solely on this article. All investments involve risks and may experience upward or downward movements and may even become valueless.', '', 'Issued by The Hongkong and Shanghai Banking Corporation Limited']\n"
          ]
        },
        {
          "output_type": "stream",
          "name": "stderr",
          "text": [
            "Some weights of the model checkpoint at yiyanghkust/finbert-pretrain were not used when initializing BertForMaskedLM: ['cls.seq_relationship.bias', 'cls.seq_relationship.weight']\n",
            "- This IS expected if you are initializing BertForMaskedLM from the checkpoint of a model trained on another task or with another architecture (e.g. initializing a BertForSequenceClassification model from a BertForPreTraining model).\n",
            "- This IS NOT expected if you are initializing BertForMaskedLM from the checkpoint of a model that you expect to be exactly identical (initializing a BertForSequenceClassification model from a BertForSequenceClassification model).\n",
            "Some weights of the model checkpoint at bert-base-uncased were not used when initializing BertModel: ['cls.predictions.decoder.weight', 'cls.predictions.transform.dense.bias', 'cls.seq_relationship.weight', 'cls.predictions.transform.LayerNorm.weight', 'cls.seq_relationship.bias', 'cls.predictions.bias', 'cls.predictions.transform.dense.weight', 'cls.predictions.transform.LayerNorm.bias']\n",
            "- This IS expected if you are initializing BertModel from the checkpoint of a model trained on another task or with another architecture (e.g. initializing a BertForSequenceClassification model from a BertForPreTraining model).\n",
            "- This IS NOT expected if you are initializing BertModel from the checkpoint of a model that you expect to be exactly identical (initializing a BertForSequenceClassification model from a BertForSequenceClassification model).\n"
          ]
        },
        {
          "output_type": "stream",
          "name": "stdout",
          "text": [
            "['HSBC has an Overall Score of 60. Find out what this means to you and get the rest of the rankings on HSBC!']\n"
          ]
        },
        {
          "output_type": "stream",
          "name": "stderr",
          "text": [
            "Some weights of the model checkpoint at yiyanghkust/finbert-pretrain were not used when initializing BertForMaskedLM: ['cls.seq_relationship.bias', 'cls.seq_relationship.weight']\n",
            "- This IS expected if you are initializing BertForMaskedLM from the checkpoint of a model trained on another task or with another architecture (e.g. initializing a BertForSequenceClassification model from a BertForPreTraining model).\n",
            "- This IS NOT expected if you are initializing BertForMaskedLM from the checkpoint of a model that you expect to be exactly identical (initializing a BertForSequenceClassification model from a BertForSequenceClassification model).\n",
            "Some weights of the model checkpoint at bert-base-uncased were not used when initializing BertModel: ['cls.predictions.decoder.weight', 'cls.predictions.transform.dense.bias', 'cls.seq_relationship.weight', 'cls.predictions.transform.LayerNorm.weight', 'cls.seq_relationship.bias', 'cls.predictions.bias', 'cls.predictions.transform.dense.weight', 'cls.predictions.transform.LayerNorm.bias']\n",
            "- This IS expected if you are initializing BertModel from the checkpoint of a model trained on another task or with another architecture (e.g. initializing a BertForSequenceClassification model from a BertForPreTraining model).\n",
            "- This IS NOT expected if you are initializing BertModel from the checkpoint of a model that you expect to be exactly identical (initializing a BertForSequenceClassification model from a BertForSequenceClassification model).\n"
          ]
        },
        {
          "output_type": "stream",
          "name": "stdout",
          "text": [
            "['Or log in with']\n"
          ]
        },
        {
          "output_type": "stream",
          "name": "stderr",
          "text": [
            "Some weights of the model checkpoint at yiyanghkust/finbert-pretrain were not used when initializing BertForMaskedLM: ['cls.seq_relationship.bias', 'cls.seq_relationship.weight']\n",
            "- This IS expected if you are initializing BertForMaskedLM from the checkpoint of a model trained on another task or with another architecture (e.g. initializing a BertForSequenceClassification model from a BertForPreTraining model).\n",
            "- This IS NOT expected if you are initializing BertForMaskedLM from the checkpoint of a model that you expect to be exactly identical (initializing a BertForSequenceClassification model from a BertForSequenceClassification model).\n",
            "Some weights of the model checkpoint at bert-base-uncased were not used when initializing BertModel: ['cls.predictions.decoder.weight', 'cls.predictions.transform.dense.bias', 'cls.seq_relationship.weight', 'cls.predictions.transform.LayerNorm.weight', 'cls.seq_relationship.bias', 'cls.predictions.bias', 'cls.predictions.transform.dense.weight', 'cls.predictions.transform.LayerNorm.bias']\n",
            "- This IS expected if you are initializing BertModel from the checkpoint of a model trained on another task or with another architecture (e.g. initializing a BertForSequenceClassification model from a BertForPreTraining model).\n",
            "- This IS NOT expected if you are initializing BertModel from the checkpoint of a model that you expect to be exactly identical (initializing a BertForSequenceClassification model from a BertForSequenceClassification model).\n"
          ]
        },
        {
          "output_type": "stream",
          "name": "stdout",
          "text": [
            "['This website uses cookies to improve your experience and for advertising services. By clicking OK or continuing to use the website you are agreeing to the use of these cookies.Read the privacy policy']\n"
          ]
        },
        {
          "output_type": "stream",
          "name": "stderr",
          "text": [
            "Some weights of the model checkpoint at yiyanghkust/finbert-pretrain were not used when initializing BertForMaskedLM: ['cls.seq_relationship.bias', 'cls.seq_relationship.weight']\n",
            "- This IS expected if you are initializing BertForMaskedLM from the checkpoint of a model trained on another task or with another architecture (e.g. initializing a BertForSequenceClassification model from a BertForPreTraining model).\n",
            "- This IS NOT expected if you are initializing BertForMaskedLM from the checkpoint of a model that you expect to be exactly identical (initializing a BertForSequenceClassification model from a BertForSequenceClassification model).\n",
            "Some weights of the model checkpoint at bert-base-uncased were not used when initializing BertModel: ['cls.predictions.decoder.weight', 'cls.predictions.transform.dense.bias', 'cls.seq_relationship.weight', 'cls.predictions.transform.LayerNorm.weight', 'cls.seq_relationship.bias', 'cls.predictions.bias', 'cls.predictions.transform.dense.weight', 'cls.predictions.transform.LayerNorm.bias']\n",
            "- This IS expected if you are initializing BertModel from the checkpoint of a model trained on another task or with another architecture (e.g. initializing a BertForSequenceClassification model from a BertForPreTraining model).\n",
            "- This IS NOT expected if you are initializing BertModel from the checkpoint of a model that you expect to be exactly identical (initializing a BertForSequenceClassification model from a BertForSequenceClassification model).\n"
          ]
        },
        {
          "output_type": "stream",
          "name": "stdout",
          "text": [
            "['HSBC has partnered with The Hong Kong Council of Social Service for an annual community festival at the Chater Road Pedestrian Precinct in Central. The festival aims to build post-pandemic resilience and inspire district-based community initiatives to foster a more inclusive society. Cross-sector collaboration is also welcomed to address the social needs of local districts and help NGOs in Hong Kong build capacity.', '', 'Running on 27 November, the community festival is a flagship event held annually by HSBC Hong Kong Community Partnership Programme (CPP). The venue will be divided into six activity zones under the theme of “sport” and “up-cycling”. The sport zone will focus on raising people’s awareness of physical and mental health through a variety of games with sports solutions for disabilities and elderly as well. Meanwhile, the up-cycling zone will promote the use of up-cycled plastics, recycled paper and wooden materials in different workshops.', '', 'In total, 68 community projects were selected for this year’s programme in August. According to HSBC, more than 340,000 people including youth, elderly and other vulnerable communities across the city will benefit from the programme. These NGO partners will also share their project ideas with the community by organising fun games and activities at the festival as well as the 18 districts in Hong Kong.', '', 'Furthermore, youth development is one of the major pillars of the programme. The festival will showcase ideas of the winning teams from Smart Community Hackathon held earlier in October by CPP with the most remarkable and innovative solutions tackling some of the pain points in people’s daily life.', '', 'MARKETING-INTERACTIVE has reached out to HSBC for further information.', '', '“As part of the HSBC Hong Kong Community Partnership Programme, the HSBC Hong Kong Community Festival is a highly anticipated event of The Hongkong Bank Foundation every year. Alongside the fun and educational booths set up by our different NGO partners, projects of the winning teams from the Smart Community Hackathon will also be showcased at the Festival. I look forward to bringing our community a day filled with positive and energetic vibes,” said William Chiu, secretary, advisory committee, The Hongkong Bank Foundation.', '', '“The spirit of the festival is in line with the core concept of this year\\'s theme, ‘Power Up the Community’. This year\\'s events are being held amid the post pandemic, I hope that different members of the community can connect and support each other, and together we can improve social resilience to build a revitalised, stronger, inclusive Hong Kong.\" said Chua Hoi Wai, chief executive of The Hong Kong Council of Social Service.', '', 'Since CPP’s launch in 2012, the programme has been supported by the Home Affairs Department, the Social Welfare Department and The Hong Kong Council of Social Service.', '', 'Related articles:', '', 'HSBC Hong Kong breaks boundaries by repositioning brand image', '', \"HSBC unveils 'DuoVerse' music show featuring local singers\", '', 'HSBC Life campaign features real life critical illness fighters', '', 'HSBC HK bands together stars from MIRROR, ERROR and COLLAR']\n"
          ]
        },
        {
          "output_type": "stream",
          "name": "stderr",
          "text": [
            "Some weights of the model checkpoint at yiyanghkust/finbert-pretrain were not used when initializing BertForMaskedLM: ['cls.seq_relationship.bias', 'cls.seq_relationship.weight']\n",
            "- This IS expected if you are initializing BertForMaskedLM from the checkpoint of a model trained on another task or with another architecture (e.g. initializing a BertForSequenceClassification model from a BertForPreTraining model).\n",
            "- This IS NOT expected if you are initializing BertForMaskedLM from the checkpoint of a model that you expect to be exactly identical (initializing a BertForSequenceClassification model from a BertForSequenceClassification model).\n",
            "Some weights of the model checkpoint at bert-base-uncased were not used when initializing BertModel: ['cls.predictions.decoder.weight', 'cls.predictions.transform.dense.bias', 'cls.seq_relationship.weight', 'cls.predictions.transform.LayerNorm.weight', 'cls.seq_relationship.bias', 'cls.predictions.bias', 'cls.predictions.transform.dense.weight', 'cls.predictions.transform.LayerNorm.bias']\n",
            "- This IS expected if you are initializing BertModel from the checkpoint of a model trained on another task or with another architecture (e.g. initializing a BertForSequenceClassification model from a BertForPreTraining model).\n",
            "- This IS NOT expected if you are initializing BertModel from the checkpoint of a model that you expect to be exactly identical (initializing a BertForSequenceClassification model from a BertForSequenceClassification model).\n"
          ]
        },
        {
          "output_type": "stream",
          "name": "stdout",
          "text": [
            "['All material is subject to strictly enforced copyright terms & conditions and cannot be repurposed or reproduced. © 1988–2022 Latin American Financial Publications Inc.']\n"
          ]
        },
        {
          "output_type": "stream",
          "name": "stderr",
          "text": [
            "Some weights of the model checkpoint at yiyanghkust/finbert-pretrain were not used when initializing BertForMaskedLM: ['cls.seq_relationship.bias', 'cls.seq_relationship.weight']\n",
            "- This IS expected if you are initializing BertForMaskedLM from the checkpoint of a model trained on another task or with another architecture (e.g. initializing a BertForSequenceClassification model from a BertForPreTraining model).\n",
            "- This IS NOT expected if you are initializing BertForMaskedLM from the checkpoint of a model that you expect to be exactly identical (initializing a BertForSequenceClassification model from a BertForSequenceClassification model).\n",
            "Some weights of the model checkpoint at bert-base-uncased were not used when initializing BertModel: ['cls.predictions.decoder.weight', 'cls.predictions.transform.dense.bias', 'cls.seq_relationship.weight', 'cls.predictions.transform.LayerNorm.weight', 'cls.seq_relationship.bias', 'cls.predictions.bias', 'cls.predictions.transform.dense.weight', 'cls.predictions.transform.LayerNorm.bias']\n",
            "- This IS expected if you are initializing BertModel from the checkpoint of a model trained on another task or with another architecture (e.g. initializing a BertForSequenceClassification model from a BertForPreTraining model).\n",
            "- This IS NOT expected if you are initializing BertModel from the checkpoint of a model that you expect to be exactly identical (initializing a BertForSequenceClassification model from a BertForSequenceClassification model).\n"
          ]
        },
        {
          "output_type": "stream",
          "name": "stdout",
          "text": [
            "['HSBC sees USD uptrend ending', '', 'Upgrade GBP/USD forecasts', '', \"Initiate a tactical 'long' GBP/USD trade\", '', 'Image © Pound Sterling Live', '', \"HSBC says it is now time to bet on a Pound Sterling recovery against the U.S. Dollar, as analysts prepare for a rebound in global sentiment and say the UK's ills are now well understood and incorporated into the market.\", '', 'The Pound to Dollar exchange rate (GBP/USD) has lost 12% in value over 2022 on building fears of a deep UK recession and as global equities fell into a bear market, confirming the strong positive correlation between the exchange rate and global sentiment.', '', 'However, the forces that pushed the Dollar higher over recent months are fast fading and 2023 will be a year in which the tide turns against the Greenback.', '', '\"The USD has performed very well over the last 18 months, but a number of the forces that propelled it towards its highest valuation in decades are seen losing ground,\" says Paul Mackel, Global Head of FX Research at HSBC.', '', 'A key driver of the Dollar\\'s appreciation was the downward impetus to global growth, but this momentum \"is starting to show signs of petering out suggesting the low point of the cycle could be approaching, especially relative to very bearish consensus expectations.\".', '', \"The rapid rise of U.S. interest rates that result from the Federal Reserve's fight against inflation has been another key source of support to the Dollar, but this too should wane.\", '', '\"USD rates remain elevated compared to other currencies, but the speed of further gains is likely to slow from here,\" says Mackel.', '', '\"A bottoming in global growth dynamics alongside and a stabilisation in yields may provide a better backdrop for risk appetite, which could further weigh on the USD,\" he adds.', '', \"The Pound meanwhile displays the inverse relationship to risk: when risk is 'on' the Pound rises, but when it is 'off' it falls.\", '', '\"GBP has had a very strong tie to risk appetite in recent years, and so a rebound in global sentiment will also help to boost GBP from somewhat undervalued levels,\" says Mackel.', '', 'But there are domestic factors to consider too.', '', '\"After a volatile few months following a year of underperformance, the tide may be turning for the better for GBP. Structural weaknesses will not completely turn around overnight, but the risks are much better priced at these levels of FX and rates,\" says Mackel.', '', 'Above: \"The pace of global activity weakness has been slowing in recent months\" - HSBC.', '', \"The Pound-Dollar exchange rate slumped to an all-time low in September when domestic issues came to the fore: Liz Truss' ill-fated budget provided governments with a template of what not to do in a climate of rising interest rates.\", '', 'Cutting taxes without explaining how they would be paid for was rejected by the markets which dumped Sterling and sent UK yields higher.', '', \"But, the new government's austere fiscal policy and recent public finance data have steadied the outlook.\", '', '\"The government\\'s significant reversal on fiscal spending will limit concerns about fiscal vulnerability,\" says Mackel.', '', \"Another key issue many foreign exchange analysts consider when dealing with the Pound is the UK's current account deficit: a legacy of the country's import requirements far exceeding its export abilities.\", '', 'This issue became critically acute in 2022 as the gas and oil import bill ballooned, placing downside pressure on the Pound.', '', \"But HSBC's economists say there are early signs that the external accounts are starting to rebalance, albeit slowly.\", '', \"Above: A turn in the S&P 500's fortunes would correlate with GBP/USD upside. To better time your payment requirements, consider setting a free FX rate alert here.\", '', 'There is also a nod towards the Bank of England, which has through the course of 2022 been accused of being reluctant in raising interest rates to the detriment of Pound exchange rates.', '', '\"Cyclically, the UK’s economic challenges are also well priced in and there is even a potentially positive risk that the BoE’s relative caution in hiking rates may turn out to be currency supportive,\" says Mackel.', '', 'HSBC now forecast the Pound to Dollar exchange rate to trade at 1.14 by year-end, an upgrade from their previous prediction of 1.10.', '', 'The end-Q1 figure is now 1.15, up from 1.08, end-Q2 is up to 1.18 from 1.08 and year-end 2023 is 1.25, a significant rise from the previously forecast 1.08.', '', 'HSBC meanwhile introduces a thematic trade idea to buy Sterling against the Dollar.', '', \"(If you are looking to protect or boost your international payment budget you could consider securing today's rate for use in the future, or set an order for your ideal rate when it is achieved, more information can be found here.)\"]\n"
          ]
        },
        {
          "output_type": "stream",
          "name": "stderr",
          "text": [
            "Some weights of the model checkpoint at yiyanghkust/finbert-pretrain were not used when initializing BertForMaskedLM: ['cls.seq_relationship.bias', 'cls.seq_relationship.weight']\n",
            "- This IS expected if you are initializing BertForMaskedLM from the checkpoint of a model trained on another task or with another architecture (e.g. initializing a BertForSequenceClassification model from a BertForPreTraining model).\n",
            "- This IS NOT expected if you are initializing BertForMaskedLM from the checkpoint of a model that you expect to be exactly identical (initializing a BertForSequenceClassification model from a BertForSequenceClassification model).\n",
            "Some weights of the model checkpoint at bert-base-uncased were not used when initializing BertModel: ['cls.predictions.decoder.weight', 'cls.predictions.transform.dense.bias', 'cls.seq_relationship.weight', 'cls.predictions.transform.LayerNorm.weight', 'cls.seq_relationship.bias', 'cls.predictions.bias', 'cls.predictions.transform.dense.weight', 'cls.predictions.transform.LayerNorm.bias']\n",
            "- This IS expected if you are initializing BertModel from the checkpoint of a model trained on another task or with another architecture (e.g. initializing a BertForSequenceClassification model from a BertForPreTraining model).\n",
            "- This IS NOT expected if you are initializing BertModel from the checkpoint of a model that you expect to be exactly identical (initializing a BertForSequenceClassification model from a BertForSequenceClassification model).\n"
          ]
        },
        {
          "output_type": "stream",
          "name": "stdout",
          "text": [
            "['HSBC Asset Management (HSBC AM) has further expanded its ETF and indexing product suite with five new Islamic ESG ETFs.', '', 'The HSBC MSCI USA Islamic ESG UCITS ETF launched on the London Stock Exchange. The funds will be classified as Article 8 under the EU’s Sustainable Finance Disclosure Regulation (SFDR).', '', 'The firm writes that four other Islamic ESG ETFs are set to launch in the upcoming months, these include:', '', 'HSBC MSCI World Islamic ESG UCITS ETF', '', 'HSBC MSCI Europe Islamic ESG UCITS ETF', '', 'HSBC MSCI Emerging Markets Islamic ESG UCITS ETF', '', 'HSBC MSCI AC Asia Pacific ex Japan Islamic ESG UCITS ETF', '', 'HSBC writes that the index screening methodology first applies a set of Shariah exclusions (e.g. alcohol, gambling & pork related products). This Islamic screen has two levels, financial screening and business activity screening, to ensure compliance with Shariah investment principles. This is followed by a set of norms-based exclusions via a Socially Responsible Investment (SRI) screen (e.g. nuclear weapons & producers of firearms). There will be some overlap between the Islamic and norms-based screening (e.g. tobacco & controversial weapons). The methodology then tilts towards companies with stronger ESG credentials as defined by their MSCI ESG scores.', '', 'The ETFs aim to track their respective MSCI Islamic Universal Screened indices as closely as possible. They will be rebalanced annually and the restrictions are applied on a quarterly basis. MSCI applies a dividend purification factor to all reinvested dividends, reviewed on annual basis', '', 'Olga de Tapia, Global Head of ETF & Indexing Sales, HSBC AM says: “There is growing appetite for a range of Islamic passive products as investors look to build Shariah compliant multi-asset portfolios. We are proud of our long-term commitment of serving Islamic investors worldwide and excited to bring innovative solutions to these clients.', '', '“We see a natural overlap between faith based screening and standard SRI filters and this set of toolkit funds will provide investors with a pathway to gain holistic risk profiled market exposure in compliance with Shariah law.”']\n"
          ]
        },
        {
          "output_type": "stream",
          "name": "stderr",
          "text": [
            "Some weights of the model checkpoint at yiyanghkust/finbert-pretrain were not used when initializing BertForMaskedLM: ['cls.seq_relationship.bias', 'cls.seq_relationship.weight']\n",
            "- This IS expected if you are initializing BertForMaskedLM from the checkpoint of a model trained on another task or with another architecture (e.g. initializing a BertForSequenceClassification model from a BertForPreTraining model).\n",
            "- This IS NOT expected if you are initializing BertForMaskedLM from the checkpoint of a model that you expect to be exactly identical (initializing a BertForSequenceClassification model from a BertForSequenceClassification model).\n",
            "Some weights of the model checkpoint at bert-base-uncased were not used when initializing BertModel: ['cls.predictions.decoder.weight', 'cls.predictions.transform.dense.bias', 'cls.seq_relationship.weight', 'cls.predictions.transform.LayerNorm.weight', 'cls.seq_relationship.bias', 'cls.predictions.bias', 'cls.predictions.transform.dense.weight', 'cls.predictions.transform.LayerNorm.bias']\n",
            "- This IS expected if you are initializing BertModel from the checkpoint of a model trained on another task or with another architecture (e.g. initializing a BertForSequenceClassification model from a BertForPreTraining model).\n",
            "- This IS NOT expected if you are initializing BertModel from the checkpoint of a model that you expect to be exactly identical (initializing a BertForSequenceClassification model from a BertForSequenceClassification model).\n"
          ]
        },
        {
          "output_type": "stream",
          "name": "stdout",
          "text": [
            "['']\n"
          ]
        },
        {
          "output_type": "stream",
          "name": "stderr",
          "text": [
            "Some weights of the model checkpoint at yiyanghkust/finbert-pretrain were not used when initializing BertForMaskedLM: ['cls.seq_relationship.bias', 'cls.seq_relationship.weight']\n",
            "- This IS expected if you are initializing BertForMaskedLM from the checkpoint of a model trained on another task or with another architecture (e.g. initializing a BertForSequenceClassification model from a BertForPreTraining model).\n",
            "- This IS NOT expected if you are initializing BertForMaskedLM from the checkpoint of a model that you expect to be exactly identical (initializing a BertForSequenceClassification model from a BertForSequenceClassification model).\n",
            "Some weights of the model checkpoint at bert-base-uncased were not used when initializing BertModel: ['cls.predictions.decoder.weight', 'cls.predictions.transform.dense.bias', 'cls.seq_relationship.weight', 'cls.predictions.transform.LayerNorm.weight', 'cls.seq_relationship.bias', 'cls.predictions.bias', 'cls.predictions.transform.dense.weight', 'cls.predictions.transform.LayerNorm.bias']\n",
            "- This IS expected if you are initializing BertModel from the checkpoint of a model trained on another task or with another architecture (e.g. initializing a BertForSequenceClassification model from a BertForPreTraining model).\n",
            "- This IS NOT expected if you are initializing BertModel from the checkpoint of a model that you expect to be exactly identical (initializing a BertForSequenceClassification model from a BertForSequenceClassification model).\n"
          ]
        },
        {
          "output_type": "stream",
          "name": "stdout",
          "text": [
            "['', '', '', '', '', '', '', '', '', '', '', '', '', '', 'DUBAI, Nov 24 (Reuters) - Saudi eyecare group Magrabi, which runs one of the largest chains of optical retail stores and eye clinics in the Middle East, is considering a flotation of its hospitals business next year and has hired banks for the deal, two sources familiar with the matter said.', '', 'Magrabi has mandated Rothschild & Co (ROTH.PA) as financial advisor and HSBC as lead manager to run the initial public offering (IPO), said the sources, who declined to be named as the matter is not public.', '', 'Magrabi and HSBC did not immediately respond to a request for comment when contacted by Reuters on Wednesday. Rothschild declined to comment.', '', \"Saudi Arabia is encouraging more family-owned companies to list in a bid to deepen its capital markets under reforms aimed at reducing the kingdom's reliance on oil revenues.\", '', 'The kingdom has had a surge in IPOs since it listed oil giant Saudi Aramco (2222.SE) in a record $29.4 billion listing in 2019.', '', \"Saudi Arabia's Middle East Healthcare Company, the company behind Saudi German Hospitals, raised $3.2 billion in 2019 when it sold 30% of the company in an IPO. Nahdi Medical, one of the largest pharmacy chains in the kingdom, raised $1.36 billion in March from its public share sale.\", '', 'Founded in 1955 as an eye hospital in Jeddah, Magrabi runs more than 32 hospitals across the Middle East, according to information on its website. Magrabi says it was the first in the Middle East to perform a corneal transplant surgery in 1968.', '', 'Flush with cash from high oil prices, the Gulf region has become a bright spot for global equity capital markets this year, with government-led privatisation programmes leading to a surge of public share sales.', '', 'Gulf issuers have raised around $16 billion this year, accounting for about half of total IPO proceeds from Europe, the Middle East, and Africa, according to data from Refinitiv.', '', 'Reporting by Hadeel Al Sayegh; Editing by Janane Venkatraman', '', '', '', '', '', '', '', '', '', '', '', 'Our Standards: The Thomson Reuters Trust Principles.']\n"
          ]
        },
        {
          "output_type": "stream",
          "name": "stderr",
          "text": [
            "Some weights of the model checkpoint at yiyanghkust/finbert-pretrain were not used when initializing BertForMaskedLM: ['cls.seq_relationship.bias', 'cls.seq_relationship.weight']\n",
            "- This IS expected if you are initializing BertForMaskedLM from the checkpoint of a model trained on another task or with another architecture (e.g. initializing a BertForSequenceClassification model from a BertForPreTraining model).\n",
            "- This IS NOT expected if you are initializing BertForMaskedLM from the checkpoint of a model that you expect to be exactly identical (initializing a BertForSequenceClassification model from a BertForSequenceClassification model).\n",
            "Some weights of the model checkpoint at bert-base-uncased were not used when initializing BertModel: ['cls.predictions.decoder.weight', 'cls.predictions.transform.dense.bias', 'cls.seq_relationship.weight', 'cls.predictions.transform.LayerNorm.weight', 'cls.seq_relationship.bias', 'cls.predictions.bias', 'cls.predictions.transform.dense.weight', 'cls.predictions.transform.LayerNorm.bias']\n",
            "- This IS expected if you are initializing BertModel from the checkpoint of a model trained on another task or with another architecture (e.g. initializing a BertForSequenceClassification model from a BertForPreTraining model).\n",
            "- This IS NOT expected if you are initializing BertModel from the checkpoint of a model that you expect to be exactly identical (initializing a BertForSequenceClassification model from a BertForSequenceClassification model).\n"
          ]
        },
        {
          "output_type": "stream",
          "name": "stdout",
          "text": [
            "['Why did this happen?', '', 'Please make sure your browser supports JavaScript and cookies and that you are not blocking them from loading. For more information you can review our Terms of Service and Cookie Policy.']\n"
          ]
        },
        {
          "output_type": "stream",
          "name": "stderr",
          "text": [
            "Some weights of the model checkpoint at yiyanghkust/finbert-pretrain were not used when initializing BertForMaskedLM: ['cls.seq_relationship.bias', 'cls.seq_relationship.weight']\n",
            "- This IS expected if you are initializing BertForMaskedLM from the checkpoint of a model trained on another task or with another architecture (e.g. initializing a BertForSequenceClassification model from a BertForPreTraining model).\n",
            "- This IS NOT expected if you are initializing BertForMaskedLM from the checkpoint of a model that you expect to be exactly identical (initializing a BertForSequenceClassification model from a BertForSequenceClassification model).\n",
            "Some weights of the model checkpoint at bert-base-uncased were not used when initializing BertModel: ['cls.predictions.decoder.weight', 'cls.predictions.transform.dense.bias', 'cls.seq_relationship.weight', 'cls.predictions.transform.LayerNorm.weight', 'cls.seq_relationship.bias', 'cls.predictions.bias', 'cls.predictions.transform.dense.weight', 'cls.predictions.transform.LayerNorm.bias']\n",
            "- This IS expected if you are initializing BertModel from the checkpoint of a model trained on another task or with another architecture (e.g. initializing a BertForSequenceClassification model from a BertForPreTraining model).\n",
            "- This IS NOT expected if you are initializing BertModel from the checkpoint of a model that you expect to be exactly identical (initializing a BertForSequenceClassification model from a BertForSequenceClassification model).\n"
          ]
        },
        {
          "output_type": "stream",
          "name": "stdout",
          "text": [
            "['By OUR CORRESPONDENT', '', 'Muscat – Moody’s Investor Service has affirmed Sohar International Bank’s and HSBC Bank Oman’s deposit ratings, following the recent signing of a binding merger agreement between the two banks.', '', 'Moody’s affirmed Sohar International’s long-term foreign and local currency deposit ratings at Ba3. At the same time, the rating agency has maintained the outlook on the bank’s long-term deposit ratings at positive, which continues to reflect Moody’s positive outlook on the Omani government’s issuer ratings.', '', '‘The affirmation of Sohar International’s long-term deposit ratings at Ba3 reflects the affirmation of its baseline credit assessment (BCA) and adjusted BCA at ba3, which are at the same level as the sovereign rating. As a result, there is no government support uplift for the bank’s deposit ratings despite Moody’s assessment of a very high likelihood of government support in case of need,’ the ratings agency said.', '', 'The affirmation of the BCA at ba3 for Sohar International, captures the rating agency’s view that the forthcoming merger between Sohar International and HSBC Oman is broadly credit neutral, Moody’s noted.', '', 'On the other hand, Moody’s affirmed HSBC Oman’s long-term local and foreign currency deposit ratings at Ba2, its adjusted BCA at ba2 and its BCA at ba3. The rating agency changed the outlook on HSBC Oman’s long-term deposit ratings to developing from positive.', '', '‘The developing outlook on HSBC Oman captures the differing directions in which the merger and the positive outlook on the Oman sovereign rating could affect its ratings. The finalisation of the merger would result in the bank’s deposit ratings being downgraded to the same level as Sohar International, as the two banks are merged and HSBC Oman ceases to exist,’ Moody’s said.', '', 'The merger between Sohar International and HSBC Oman – which remains subject to the regulatory bodies and shareholders’ approval – is expected to be completed in the second half of 2023. Upon completion, Sohar International will be the surviving entity and acquire all HSBC Oman’s liabilities and assets.', '', 'The transaction is structured as an offering of Sohar International’s shares, valuing HSBC Oman at book value, with the option to receive the consideration in cash up to 70 per cent of the value.', '', 'As per Moody’s, capital buffers of the merged entity are expected to remain sound following the merger, supported by Sohar International’s capital issuances (US$414mn rights issue completed in September 2022) and sound profitability.', '', 'However, Moody’s expects Sohar International’s capital buffers to decline in the scenario of HSBC Oman’s shareholders opting for mostly cash payment at the time of the transaction settlement.', '', '‘Profitability will remain supported by Sohar International’s strong corporate franchise following the merger (with 18 per cent estimated market share by assets) as well as by retail diversification from HSBC Oman,’ Moody’s said.', '', 'It said the deposit base of the merged entity will remain concentrated, although liquidity buffers are expected to increase at Sohar International after consolidation, and to remain adequate for the entity’s market funding reliance.', '', 'Moody’s also noted that although Sohar International will face integration challenges following the merger, and that synergies may therefore take some time to emerge, this is not expected to put downward pressure on the bank’s ratings.']\n"
          ]
        },
        {
          "output_type": "stream",
          "name": "stderr",
          "text": [
            "Some weights of the model checkpoint at yiyanghkust/finbert-pretrain were not used when initializing BertForMaskedLM: ['cls.seq_relationship.bias', 'cls.seq_relationship.weight']\n",
            "- This IS expected if you are initializing BertForMaskedLM from the checkpoint of a model trained on another task or with another architecture (e.g. initializing a BertForSequenceClassification model from a BertForPreTraining model).\n",
            "- This IS NOT expected if you are initializing BertForMaskedLM from the checkpoint of a model that you expect to be exactly identical (initializing a BertForSequenceClassification model from a BertForSequenceClassification model).\n",
            "Some weights of the model checkpoint at bert-base-uncased were not used when initializing BertModel: ['cls.predictions.decoder.weight', 'cls.predictions.transform.dense.bias', 'cls.seq_relationship.weight', 'cls.predictions.transform.LayerNorm.weight', 'cls.seq_relationship.bias', 'cls.predictions.bias', 'cls.predictions.transform.dense.weight', 'cls.predictions.transform.LayerNorm.bias']\n",
            "- This IS expected if you are initializing BertModel from the checkpoint of a model trained on another task or with another architecture (e.g. initializing a BertForSequenceClassification model from a BertForPreTraining model).\n",
            "- This IS NOT expected if you are initializing BertModel from the checkpoint of a model that you expect to be exactly identical (initializing a BertForSequenceClassification model from a BertForSequenceClassification model).\n"
          ]
        },
        {
          "output_type": "stream",
          "name": "stdout",
          "text": [
            "['Jubilant', '', 'Global brokerage HSBC maintained a buy rating on, Credit Suisse retained an outperform tag on, HSBC maintained a buy on Delhivery and JPMorgan maintained its neutral stance onWe have collated a list of recommendations from top brokerage firms from ETNow and other sources:HSBC maintained a buy rating on Jubilant FoodWorks with a target of Rs 750.Jubilant is aggressively scaling up its Domino\\'s network, HSBC said, adding that its long-term investment case is quite appealing.Market do fear that margins may slip in the near term, it said.Credit Suisse retained the outperform rating on Apollo Hospitals with a target price of Rs 5100. Apollo 24/7 is scaling up to a leadership position in digital health, said Credit Suisse.E-pharmacy app downloads maintain strong momentum while Apollo 24/7 and RIL-Netmeds are gaining share which is a positive sign, it added.\"Apollo\\'s physical network lends a distinct advantage. Going forward, easing of discounting level would benefit MedPlus in the near term. Apollo has the balance sheet strength,\" said the note.HSBC maintained its buy rating on Delhivery with a target price of Rs 455. The company reported consecutive weak quarters that have shattered the Street\\'s confidence.“We believe that the e-commerce industry growth has slowed down in India,” said the note. Delivery business is predominantly an operating leverage story, it added.JPMorgan maintained a neutral rating on Tata Motors with a target price of Rs 410. JLR retails is beginning to grow on a low base price, it said.\"JLR outperforms peers in China imports. Europe sees underperformance, while US sales were in line with estimates. Product mix remains strong, and China\\'s contribution is steady,\" said the note.']\n"
          ]
        },
        {
          "output_type": "stream",
          "name": "stderr",
          "text": [
            "Some weights of the model checkpoint at yiyanghkust/finbert-pretrain were not used when initializing BertForMaskedLM: ['cls.seq_relationship.bias', 'cls.seq_relationship.weight']\n",
            "- This IS expected if you are initializing BertForMaskedLM from the checkpoint of a model trained on another task or with another architecture (e.g. initializing a BertForSequenceClassification model from a BertForPreTraining model).\n",
            "- This IS NOT expected if you are initializing BertForMaskedLM from the checkpoint of a model that you expect to be exactly identical (initializing a BertForSequenceClassification model from a BertForSequenceClassification model).\n",
            "Some weights of the model checkpoint at bert-base-uncased were not used when initializing BertModel: ['cls.predictions.decoder.weight', 'cls.predictions.transform.dense.bias', 'cls.seq_relationship.weight', 'cls.predictions.transform.LayerNorm.weight', 'cls.seq_relationship.bias', 'cls.predictions.bias', 'cls.predictions.transform.dense.weight', 'cls.predictions.transform.LayerNorm.bias']\n",
            "- This IS expected if you are initializing BertModel from the checkpoint of a model trained on another task or with another architecture (e.g. initializing a BertForSequenceClassification model from a BertForPreTraining model).\n",
            "- This IS NOT expected if you are initializing BertModel from the checkpoint of a model that you expect to be exactly identical (initializing a BertForSequenceClassification model from a BertForSequenceClassification model).\n"
          ]
        },
        {
          "output_type": "stream",
          "name": "stdout",
          "text": [
            "[\"ZTO Express (Cayman) (NYSE:ZTO - Get Rating) had its price target decreased by research analysts at HSBC from $36.00 to $33.00 in a research note issued to investors on Wednesday, The Fly reports. HSBC's price target suggests a potential upside of 48.05% from the company's current price.\", '', 'Other equities research analysts have also recently issued research reports about the company. JPMorgan Chase & Co. raised ZTO Express (Cayman) from a \"neutral\" rating to an \"overweight\" rating and raised their target price for the stock from $27.00 to $35.00 in a research note on Friday, August 19th. StockNews.com began coverage on ZTO Express (Cayman) in a research note on Wednesday, October 12th. They set a \"hold\" rating for the company. Citigroup decreased their target price on ZTO Express (Cayman) from $40.30 to $32.80 in a research note on Wednesday. Finally, TheStreet cut ZTO Express (Cayman) from a \"b-\" rating to a \"c+\" rating in a research note on Tuesday, October 25th.', '', 'ZTO Express (Cayman) Trading Up 3.6 %', '', 'Shares of ZTO stock opened at $22.29 on Wednesday. The stock has a market cap of $13.45 billion, a price-to-earnings ratio of 18.89, a PEG ratio of 1.06 and a beta of -0.14. The stock has a 50-day moving average of $22.17 and a 200-day moving average of $24.59. ZTO Express has a 1-year low of $16.27 and a 1-year high of $32.67.', '', 'Institutional Investors Weigh In On ZTO Express (Cayman)', '', \"A number of hedge funds have recently added to or reduced their stakes in ZTO. Harbor Investment Advisory LLC acquired a new stake in ZTO Express (Cayman) in the third quarter valued at approximately $30,000. Wipfli Financial Advisors LLC bought a new position in shares of ZTO Express (Cayman) in the third quarter valued at approximately $34,000. Pinebridge Investments L.P. lifted its holdings in shares of ZTO Express (Cayman) by 325.0% in the second quarter. Pinebridge Investments L.P. now owns 1,275 shares of the transportation company's stock valued at $35,000 after purchasing an additional 975 shares in the last quarter. Captrust Financial Advisors bought a new position in shares of ZTO Express (Cayman) in the second quarter valued at approximately $36,000. Finally, Janiczek Wealth Management LLC lifted its holdings in shares of ZTO Express (Cayman) by 77.9% in the second quarter. Janiczek Wealth Management LLC now owns 2,807 shares of the transportation company's stock valued at $72,000 after purchasing an additional 1,229 shares in the last quarter. Institutional investors and hedge funds own 39.22% of the company's stock.\", '', 'ZTO Express (Cayman) Company Profile', '', \"ZTO Express (Cayman) Inc provides express delivery and other value-added logistics services in the People's Republic of China. The company offers delivery services for e-commerce and traditional merchants, and other express service users. As of December 31, 2021, it operated a fleet of approximately 10,900 trucks.\", '', 'See Also', '', \"This instant news alert was generated by narrative science technology and financial data from MarketBeat in order to provide readers with the fastest and most accurate reporting. This story was reviewed by MarketBeat's editorial team prior to publication. Please send any questions or comments about this story to contact@marketbeat.com.\", '', \"Before you consider ZTO Express (Cayman), you'll want to hear this.\", '', \"MarketBeat keeps track of Wall Street's top-rated and best performing research analysts and the stocks they recommend to their clients on a daily basis. MarketBeat has identified the five stocks that top analysts are quietly whispering to their clients to buy now before the broader market catches on... and ZTO Express (Cayman) wasn't on the list.\", '', 'While ZTO Express (Cayman) currently has a \"Buy\" rating among analysts, top-rated analysts believe these five stocks are better buys.', '', 'View The Five Stocks Here']\n"
          ]
        },
        {
          "output_type": "stream",
          "name": "stderr",
          "text": [
            "Some weights of the model checkpoint at yiyanghkust/finbert-pretrain were not used when initializing BertForMaskedLM: ['cls.seq_relationship.bias', 'cls.seq_relationship.weight']\n",
            "- This IS expected if you are initializing BertForMaskedLM from the checkpoint of a model trained on another task or with another architecture (e.g. initializing a BertForSequenceClassification model from a BertForPreTraining model).\n",
            "- This IS NOT expected if you are initializing BertForMaskedLM from the checkpoint of a model that you expect to be exactly identical (initializing a BertForSequenceClassification model from a BertForSequenceClassification model).\n",
            "Some weights of the model checkpoint at bert-base-uncased were not used when initializing BertModel: ['cls.predictions.decoder.weight', 'cls.predictions.transform.dense.bias', 'cls.seq_relationship.weight', 'cls.predictions.transform.LayerNorm.weight', 'cls.seq_relationship.bias', 'cls.predictions.bias', 'cls.predictions.transform.dense.weight', 'cls.predictions.transform.LayerNorm.bias']\n",
            "- This IS expected if you are initializing BertModel from the checkpoint of a model trained on another task or with another architecture (e.g. initializing a BertForSequenceClassification model from a BertForPreTraining model).\n",
            "- This IS NOT expected if you are initializing BertModel from the checkpoint of a model that you expect to be exactly identical (initializing a BertForSequenceClassification model from a BertForSequenceClassification model).\n"
          ]
        },
        {
          "output_type": "stream",
          "name": "stdout",
          "text": [
            "['Why did this happen?', '', 'Please make sure your browser supports JavaScript and cookies and that you are not blocking them from loading. For more information you can review our Terms of Service and Cookie Policy.']\n"
          ]
        },
        {
          "output_type": "stream",
          "name": "stderr",
          "text": [
            "Some weights of the model checkpoint at yiyanghkust/finbert-pretrain were not used when initializing BertForMaskedLM: ['cls.seq_relationship.bias', 'cls.seq_relationship.weight']\n",
            "- This IS expected if you are initializing BertForMaskedLM from the checkpoint of a model trained on another task or with another architecture (e.g. initializing a BertForSequenceClassification model from a BertForPreTraining model).\n",
            "- This IS NOT expected if you are initializing BertForMaskedLM from the checkpoint of a model that you expect to be exactly identical (initializing a BertForSequenceClassification model from a BertForSequenceClassification model).\n",
            "Some weights of the model checkpoint at bert-base-uncased were not used when initializing BertModel: ['cls.predictions.decoder.weight', 'cls.predictions.transform.dense.bias', 'cls.seq_relationship.weight', 'cls.predictions.transform.LayerNorm.weight', 'cls.seq_relationship.bias', 'cls.predictions.bias', 'cls.predictions.transform.dense.weight', 'cls.predictions.transform.LayerNorm.bias']\n",
            "- This IS expected if you are initializing BertModel from the checkpoint of a model trained on another task or with another architecture (e.g. initializing a BertForSequenceClassification model from a BertForPreTraining model).\n",
            "- This IS NOT expected if you are initializing BertModel from the checkpoint of a model that you expect to be exactly identical (initializing a BertForSequenceClassification model from a BertForSequenceClassification model).\n"
          ]
        },
        {
          "output_type": "stream",
          "name": "stdout",
          "text": [
            "['A van centre is to open in Cwmbran with an on–site café.', '', 'The Van Centre Cwmbran purchased a 2-acre site on Springvale Industrial Estate in Cwmbran, with the support of a seven-figure funding package from HSBC UK.', '', 'HSBC operated from the site since 2021.', '', 'Glenn Saunders, Owner of The Van Centre Cwmbran, said: “As a long-term HSBC UK customer, our expectations have been consistently met by the bank.', '', 'The new site will feature a cafe for customers. Picture: HSBC (Image: HSBC)', '', 'The new site will feature a cafe for customers. Picture: HSBC', '', '“All processes throughout this purchase have been well supported and we thank HSBC UK for making the experience as smooth as possible.', '', '“We look forward to operating from the newly acquired site well into the future.”', '', 'Renovations on the site include an on – site café and expansion of MOT and rental services across the business.', '', 'HSBC UK funding has also been utilised to refinance The Van Centre Cwmbran’s additional premises on Court Road, Cwmbran, that it has operated from since May 2017.', '', 'Zena Perry-Hartle, Area Director for Business Banking in Wales & Western Midlands at HSBC UK, added:', '', '“It’s been a pleasure to support the growth of The Van Centre Cwmbran with the purchase and refinancing of its trading sites.', '', '“The expansion of the business in recent years has been impressive and it is now a trusted company in the local community for van purchase, modification, and hire.', '', '“We look forward to seeing the business continue to thrive.”']\n"
          ]
        },
        {
          "output_type": "stream",
          "name": "stderr",
          "text": [
            "Some weights of the model checkpoint at yiyanghkust/finbert-pretrain were not used when initializing BertForMaskedLM: ['cls.seq_relationship.bias', 'cls.seq_relationship.weight']\n",
            "- This IS expected if you are initializing BertForMaskedLM from the checkpoint of a model trained on another task or with another architecture (e.g. initializing a BertForSequenceClassification model from a BertForPreTraining model).\n",
            "- This IS NOT expected if you are initializing BertForMaskedLM from the checkpoint of a model that you expect to be exactly identical (initializing a BertForSequenceClassification model from a BertForSequenceClassification model).\n",
            "Some weights of the model checkpoint at bert-base-uncased were not used when initializing BertModel: ['cls.predictions.decoder.weight', 'cls.predictions.transform.dense.bias', 'cls.seq_relationship.weight', 'cls.predictions.transform.LayerNorm.weight', 'cls.seq_relationship.bias', 'cls.predictions.bias', 'cls.predictions.transform.dense.weight', 'cls.predictions.transform.LayerNorm.bias']\n",
            "- This IS expected if you are initializing BertModel from the checkpoint of a model trained on another task or with another architecture (e.g. initializing a BertForSequenceClassification model from a BertForPreTraining model).\n",
            "- This IS NOT expected if you are initializing BertModel from the checkpoint of a model that you expect to be exactly identical (initializing a BertForSequenceClassification model from a BertForSequenceClassification model).\n"
          ]
        },
        {
          "output_type": "stream",
          "name": "stdout",
          "text": [
            "['Vincent Muscat’s lawyers are “forcefully” objecting to the Attorney General’s request to have Daren Debono, known as it-Topo, added as witness at the upcoming trial over the failed HSBC heist.', '', 'The issue first cropped up in January on the eve of the trial where Muscat, known as il-Kohhu, and Debono were due to face accusations over their alleged involvement in the 2010 attempted armed robbery at HSBC in Qormi.', '', 'But on the eve of the trial, Debono struck a plea bargain whereby the AG dropped attempted homicide charges against him in exchange for evidence against his former co-accused.', '', 'Debono was subsequently jailed for 10 years and six months and fined €18,000.', '', 'However, that unexpected twist of events triggered heated arguments by Muscat’s lawyers who strongly opposed the prosecution’s request to add Debono to their list of witnesses.', '', 'It-Topo’s position had shifted overnight from that of co-accused to prosecution’s main witness, a move described by Muscat’s lawyers as “a bolt out of the blue.”', '', 'Debono affected had never testified at the compilation of evidence stage and therefore his testimony at the trial was inadmissible, the defence argued.', '', 'The Criminal Court, presided over by Mr Justice Giovanni Grixti, thus put off the start of the trial and sent the records back to the magistrates’ court to hear Debono’s testimony.', '', 'But on the appointed date, no sooner had Debono stepped onto the witness stand before Magistrate Monica Vella than he declared that he would only testify against Muscat, refusing to mention any third parties involved in the HSBC case.', '', '“I won’t risk the life of my wife and children,” Debono had stated adamantly.', '', 'The magistrate ordered his immediate arrest and investigation for refusing to cooperate in terms of the plea deal and fresh charges ultimately resulted in a six-month jail term and a €4,600 fine.', '', 'In October that conviction was confirmed on appeal.', '', 'The six-month jail term was halved on the basis of a legal technicality since Debono could only be found guilty of a lesser form of recidivism.', '', 'When delivering final judgment, Mr Justice Aaron Bugeja made that clear.', '', 'Following his plea deal, Debono was bound by law to tell “the truth, the whole truth and nothing but the truth,” and could not invoke the need to testify only about part of the story, leaving out relevant details, the Judge observed.', '', 'If Debono feared for his own safety and that of his family, he was to ask for and obtain all necessary protection against any possible vendetta by ill-intentioned third parties, but he could not refuse to testify when asked to do so by the competent court.', '', 'Failing to do so was a very serious fact that hindered the administration of justice.', '', 'Although punishment was being reduced upon a legal issue, the three-month jail term was nonetheless the maximum allowed by law, Mr Justice Bugeja concluded.', '', \"'Our client is asking for a fair trial'\", '', 'Following that final judgment, proceedings related to the HSBC trial resumed on Tuesday before Mr Justice Giovanni Grixti.', '', 'AG lawyer Giannella Busuttil renewed the prosecution’s request to have Debono admitted as a witness.', '', 'And once again Muscat’s lawyers objected, requesting time to make further submissions about this “bone of contention.”', '', '“Since then [January], matters have evolved. Today, we have all the more reason to object than we did in January,” started off lawyer Franco Debono.', '', '“All our client is asking for is a fair trial….How can you have a fair trial with such a witness who refused to testify the moment he took the witness stand?”', '', 'Recalling the “surprise plea deal” which had “shocked the whole country” on the eve of the trial, the lawyer said that the AG had “presented a new witness and not some peripheral witness but the alleged accomplice.”', '', '“Now what do we have today?… Any step forward? No! Only a step backwards.”', '', 'Since January, Debono was not only a “career criminal who had been interdicted” but now also had a conviction for refusing to testify.', '', 'That was why the defence was “objecting forcefully” to Debono being included as witness at the trial.', '', '“You knew about that request back in January,” pointed out the AG lawyer.', '', '“We did not know that he would appear before [Magistrate] Monica Vella, lie and land a three-month jail term,” retorted the defence.', '', 'In light of those arguments, Mr Justice Grixti upheld the defence’s request, granting them three weeks to file written submissions.', '', 'The court also ordered that a copy of the appeal judgment delivered by Mr Justice Bugeja was to be inserted in the records of the case.', '', 'At the end of the hearing, Muscat, who all throughout the sitting followed silently at the dock under tight security, was escorted out of the hall back to Corradino where he is serving a 15-year jail term after admitting to his role as hitman in the assassination of Daphne Caruana Galizia.', '', 'The case continues in January.', '', 'AG lawyers Giannella Busuttil and Francesco Refalo prosecuted.', '', 'Lawyers Franco Debono and Roberto Montalto are defence counsel.']\n"
          ]
        },
        {
          "output_type": "stream",
          "name": "stderr",
          "text": [
            "Some weights of the model checkpoint at yiyanghkust/finbert-pretrain were not used when initializing BertForMaskedLM: ['cls.seq_relationship.bias', 'cls.seq_relationship.weight']\n",
            "- This IS expected if you are initializing BertForMaskedLM from the checkpoint of a model trained on another task or with another architecture (e.g. initializing a BertForSequenceClassification model from a BertForPreTraining model).\n",
            "- This IS NOT expected if you are initializing BertForMaskedLM from the checkpoint of a model that you expect to be exactly identical (initializing a BertForSequenceClassification model from a BertForSequenceClassification model).\n",
            "Some weights of the model checkpoint at bert-base-uncased were not used when initializing BertModel: ['cls.predictions.decoder.weight', 'cls.predictions.transform.dense.bias', 'cls.seq_relationship.weight', 'cls.predictions.transform.LayerNorm.weight', 'cls.seq_relationship.bias', 'cls.predictions.bias', 'cls.predictions.transform.dense.weight', 'cls.predictions.transform.LayerNorm.bias']\n",
            "- This IS expected if you are initializing BertModel from the checkpoint of a model trained on another task or with another architecture (e.g. initializing a BertForSequenceClassification model from a BertForPreTraining model).\n",
            "- This IS NOT expected if you are initializing BertModel from the checkpoint of a model that you expect to be exactly identical (initializing a BertForSequenceClassification model from a BertForSequenceClassification model).\n"
          ]
        },
        {
          "output_type": "stream",
          "name": "stdout",
          "text": [
            "['Standard Chartered Bank has appointed Mazen Fahad Al Bunyan as Chief Executive Officer, Standard Chartered Bank Saudi Arabia, effective November 2022.', '', 'Prior to joining Standard Chartered Bank, Al Bunyan was the CEO of Alawwal Invest Company, the investment subsidiary of The Saudi British Bank (SABB/HSBC) based in Riyadh, where he led the integration of Alawwal Invest with SABB/HSBC Saudi Arabia. Prior to that, he held various leadership positions including Co-Head of Global Banking within SABB/HSBC Riyadh as well as Vice President of Corporate Banking Coverage for KSA and Kuwait at Deutsche Bank.', '', 'Standard Chartered Bank Saudi Arabia launched its operations in Riyadh in June 2021, providing banking services to sovereign and government related entities, large corporates, financial institutions and multinational companies operating in the Kingdom.', '', 'Commenting on the announcement, Dr Boutros Klink, CEO Standard Chartered Middle East (ex UAE) said: “I am delighted to announce the appointment of Mazen Bunyan as Country CEO for Standard Chartered Bank Saudi Arabia. Mazen brings deep regional experience, and strong track record. In his new role as CEO, Mazen will oversee the operations of Standard Chartered Bank Saudi Arabia, and will lead the Bank’s expansion in the market, strengthen our client base, expand our products and services offering, and solidify our network in support of the Kingdoms growth ambitions.”', '', 'Copyright 2022 Al Hilal Publishing and Marketing Group Provided by SyndiGate Media Inc. (Syndigate.info).']\n"
          ]
        },
        {
          "output_type": "stream",
          "name": "stderr",
          "text": [
            "Some weights of the model checkpoint at yiyanghkust/finbert-pretrain were not used when initializing BertForMaskedLM: ['cls.seq_relationship.bias', 'cls.seq_relationship.weight']\n",
            "- This IS expected if you are initializing BertForMaskedLM from the checkpoint of a model trained on another task or with another architecture (e.g. initializing a BertForSequenceClassification model from a BertForPreTraining model).\n",
            "- This IS NOT expected if you are initializing BertForMaskedLM from the checkpoint of a model that you expect to be exactly identical (initializing a BertForSequenceClassification model from a BertForSequenceClassification model).\n",
            "Some weights of the model checkpoint at bert-base-uncased were not used when initializing BertModel: ['cls.predictions.decoder.weight', 'cls.predictions.transform.dense.bias', 'cls.seq_relationship.weight', 'cls.predictions.transform.LayerNorm.weight', 'cls.seq_relationship.bias', 'cls.predictions.bias', 'cls.predictions.transform.dense.weight', 'cls.predictions.transform.LayerNorm.bias']\n",
            "- This IS expected if you are initializing BertModel from the checkpoint of a model trained on another task or with another architecture (e.g. initializing a BertForSequenceClassification model from a BertForPreTraining model).\n",
            "- This IS NOT expected if you are initializing BertModel from the checkpoint of a model that you expect to be exactly identical (initializing a BertForSequenceClassification model from a BertForSequenceClassification model).\n"
          ]
        },
        {
          "output_type": "stream",
          "name": "stdout",
          "text": [
            "['The Conservative peer Michelle Mone and her children secretly received £29m originating from the profits of a PPE business that was awarded large government contracts after she recommended it to ministers, documents seen by the Guardian indicate.', '', 'Lady Mone’s support helped the company, PPE Medpro, secure a place in a “VIP lane” the government used during the coronavirus pandemic to prioritise companies that had political connections. It then secured contracts worth more than £200m.', '', 'Documents seen by the Guardian indicate tens of millions of pounds of PPE Medpro’s profits were later transferred to a secret offshore trust of which Mone and her adult children were the beneficiaries.', '', 'Asked by the Guardian last year why Mone did not include PPE Medpro in her House of Lords register of financial interests, her lawyer replied: “Baroness Mone did not declare any interest as she did not benefit financially and was not connected to PPE Medpro in any capacity.”', '', 'The leaked documents, which were produced by the bank HSBC, appear to contradict that statement. They state that Mone’s husband, the Isle of Man-based financier Douglas Barrowman, was paid at least £65m in profits from PPE Medpro, and then distributed the funds through a series of offshore accounts, trusts and companies.', '', 'The ultimate recipients of the funds, the documents indicate, include the Isle of Man trust that was set up to benefit Mone, who was Barrowman’s fiancee at the time, and her children. In October 2020, the documents add, Barrowman transferred to the trust £28.8m originating from PPE Medpro profits.', '', 'Michelle Mone being sworn into the House of Lords as Baroness Mone of Mayfair in 2015. Photograph: PA', '', 'That was just five months after Mone helped PPE Medpro secure contracts to supply masks and sterile gowns for use in the NHS.', '', 'Contacted about the new disclosures, HSBC said it was unable to comment, even to confirm if the couple had been clients. A lawyer for Mone said: “There are a number of reasons why our client cannot comment on these issues and she is under no duty to do so.”', '', 'A lawyer who represents both Barrowman and PPE Medpro said that a continuing investigation limited what his clients were able to say on these matters. He added: “For the time being we are also instructed to say that there is much inaccuracy in the portrayal of the alleged ‘facts’ and a number of them are completely wrong.”', '', 'Mone, 51, and Barrowman, 57, have over the last two years repeatedly insistedthey had no “involvement” in PPE Medpro, and “no role” in the process through which the company was awarded its government contracts. PPE Medpro has repeatedly refused to identify its mystery backers, but denied it was awarded contracts because of “company or personal connections” to the UK government or Conservative party.', '', 'The Guardian has previously reported how those claims seem to be at odds with documents appearing to show the couple were secretly involved in PPE Medpro’s business, and emails suggesting Mone repeatedly lobbied the government on its behalf during the nine-month period after she helped secure its place in the VIP lane.', '', 'However, the Guardian’s latest revelation – that the peer and her husband secretly amassed an offshore fortune on the back of PPE Medpro profits – could prove the most consequential for Mone, who has already been placed under investigation by the House of Lords commissioner for standards.', '', 'Separately, PPE Medpro has become the subject of a potential fraud investigation by the National Crime Agency. In April this year, NCA officers searched several addresses, including the mansion Mone and Barrowman occupy in the Isle of Man. At the time, lawyers for PPE Medpro declined to comment on the NCA investigation.', '', 'The controversy over Mone and PPE Medpro threatens to embroil the prime minister, Rishi Sunak, who has pledged to make “integrity and accountability” pillars of his leadership. David Cameron, who was himself embroiled in a lobbying scandal last year, was the Conservative leader who appointed Mone the baroness of Mayfair in 2015. The former owner of a lingerie business, she has proven to be one of the party’s most high-profile and controversial peers.', '', 'Michelle Mone founded the lingerie brand Ultimo. Photograph: SWNS.com', '', 'HSBC investigation', '', 'The leaked documents setting out HSBC’s understanding of the offshore distribution of PPE Medpro’s profits were produced by the bank, which held several accounts linked to the Tory peer, her husband and children.', '', 'The Guardian understands that HSBC launched its own investigation following media reports about Mone’s apparent links to PPE Medpro, which raised potential concerns for the bank. A report produced by HSBC on the couple and their links to PPE Medpro stated that it did “not manage to corroborate” those concerns.', '', 'Michelle Mone and Douglas Barrowman attending an event at Guildhall in London in 2017. Photograph: Jeff Moore/Alamy', '', 'In the process of investigating the couple, however, HSBC pieced together a money trail showing that Barrowman had transferred tens of millions in PPE Medpro profits through a network of offshore entities. About £29m ended up in the trust benefiting Mone and her children, the report indicates.', '', 'The bank’s investigation noted that “large value inter-account transfers” originating from PPE Medpro were being routed through Barrowman’s offshore accounts, often crediting and debiting within minutes of each other.', '', 'The internal bank report described the money flows as “unusual activity”, noting a concern that Barrowman “may be attempting to conceal the true origins of the funds through multiple layers of transactions creating a distance between the receipt of PPE funds and the final beneficiaries”.', '', 'Referring to Mone, it concluded that the transfers “suggest a UK peer in the House of Lords has benefited from a contract with the UK government”. Barrowman is understood to have told HSBC that his wife had “no involvement” in the business activities of PPE Medpro, and the onward transfer of its profits via his personal bank account had been made “in his personal capacity”.', '', 'HSBC was unable to corroborate any concerns of wrongdoing by the couple, but it did identify a number of “risks” related to retaining Barrowman and Mone as clients – including what it saw as potential reputational damage to the bank. Multiple sources have told the Guardian that HSBC then decided to drop the couple as clients.', '', 'Message and money trails', '', 'Mone and Barrowman have long denied any involvement in PPE Medpro, or any role in the process through which it was awarded government contracts. However, over the last two years the Guardian has ascertained multiple instances in which the couple appear to have been involved in the business.', '', 'The Tory peer first approached ministers in May 2020, before PPE Medpro had even been incorporated as a company. She contacted Michael Gove, who was then a Cabinet Office minister, and Theodore Agnew, then a minister for procurement, using their personal email addresses.', '', 'Mone told her fellow Conservative politicians that large quantities of PPE could be procured via “my team in Hong Kong”.', '', 'Cabinet Office officials then added PPE Medpro to the VIP lane, which was used by the government early in the pandemic to prioritise referrals from politically connected companies.', '', 'The government has consistently defended the VIP process; spokespeople have maintained that contracts were awarded “in line with procurement regulations and transparency guidelines, and there are robust rules and processes in place to prevent conflicts of interest”. However the VIP procurement process has been ruled unlawful by the high court.', '', 'Within weeks of Mone’s referral, which led to PPE Medpro being added to the high-priority channel, the company had received two government contracts worth a total of £203m to supply millions of face masks and sterile surgical gowns.', '', 'Around that time, Mone and her then fiance appear to have been secretly involved in PPE Medpro’s business, according to previously leaked documents. Barrowman appears to have been personally involved in setting up PPE Medpro’s deals with a supply chain partner, Loudwater Trade and Finance, in which PPE Medpro committed to using its “extensive network” to seek contracts with the UK government. Barrowman also participated in a meeting between the Cabinet Office, PPE Medpro and Loudwater.', '', 'Meanwhile, Mone appears to have sent a WhatsApp message from a private jet in which she discussed specific details relating to PPE Medpro’s contract for sterile gowns. The message was sent to a person in PPE Medpro’s supply chain who referred to her as “Lady Michelle”. The couple were also included in correspondence between PPE Medpro’s suppliers about the cost price of gowns.', '', 'Masks in the PPE Medpro product catalogue. Photograph: PPE Medpro', '', 'When the Guardian reported on their apparent secret involvement in the company, Mone’s lawyers said its reporting was “grounded entirely on supposition and speculation and not based on accuracy”, while lawyers for Barrowman said the Guardian’s reporting amounted to “clutching at straws” and was “largely incorrect”.', '', 'In September 2020, Barrowman was paid at least £65m in “profits” from the PPE deal, the HSBC report states. It states that money was transferred in two instalments to the Warren Trust, one of Barrowman’s Isle of Man trusts, using the reference “Distribution”.', '', 'From there, transfers totalling £45.8m were made to Barrowman’s personal HSBC Isle of Man bank account. That account, in turn, transferred £28.8m in October 2020 to the Keristal Trust, the beneficiaries of which, bank records indicated, were Mone and her children, the report states.', '', 'The Keristal Trust’s “settlors” – a reference to the individuals who created or funded it – were Barrowman and another individual linked to PPE Medpro, the document indicates. The document adds that the Keristal Trust’s bank account was opened in May 2020. That was the same month Mone recommended PPE Medpro to Gove and Agnew.', '', 'The HSBC report states that smaller sums – ranging from £5,000 to £200,000 – originating from PPE Medpro profits were passed to some employees of the Knox Group, Barrowman’s financial services firm, who were involved in the PPE business. According to the report, one of those employees told the bank the transfers were “gifts”.', '', 'Honeymoon period', '', 'Like his wife, Barrowman has repeatedly distanced himself from PPE Medpro, although neither of them have explicitly denied that he benefited financially from it. Previously, his lawyers have also insisted that Barrowman was never an “investor” in PPE Medpro.', '', 'However the leaked HSBC report suggests that another Barrowman trust in the Isle of Man made an investment of £3m in PPE Medpro in June 2020, using the reference “PPE Transfer”. The £3m capital injection was later repaid into Barrowman’s trust by PPE Medpro, along with interest, the report states.', '', 'Contacted this week, PPE Medpro declined to comment about whether Barrowman had invested in the company, citing a continuing investigation. Barrowman also declined to offer further comment citing live investigations, but his lawyer said he disputes the Guardian’s “claims and accusations”.', '', 'Barrowman will now be under pressure to explain why he received at least £65m in PPE Medpro profits, and apparently passed on around half of that to his wife and her children, all via offshore payments.', '', 'Barrowman and Mone’s huge windfall from PPE Medpro’s profits appears to have landed at an auspicious time for the couple: a few weeks before their wedding in the Isle of Man and honeymoon in the Maldives.', '', 'An image of Mone posted on her Instagram account.', '', 'Their extraordinary enrichment from the profits of PPE Medpro may explain why Mone continued to lobby the government for further business for the company, months after it had been awarded £203m in PPE contracts.', '', 'Around the time Mone’s trust received tens of millions in profits originating from PPE Medpro, she appears to have lobbied another then Tory minister, James Bethell, this time promoting the company’s sale of Covid-19 tests, leaked emails suggest.', '', 'PPE Medpro ultimately failed to persuade the government to buy its antigen tests, despite Mone’s continued efforts to pull strings with her political contacts.', '', 'In February 2021, back from her honeymoon, Mone appears to have been lobbying again, according to an email sent by Jacqui Rock, the chief commercial officer for NHS test and trace.', '', 'The senior civil servant told colleagues that Mone was angry at the treatment of PPE Medpro, whose products were being subjected to tests. The Tory peer believed PPE Medpro had been “fobbed off”, Rock told colleagues. “Baroness Mone is going to Michael Gove and Matt Hancock today as she is incandescent with rage.”']\n"
          ]
        },
        {
          "output_type": "stream",
          "name": "stderr",
          "text": [
            "Some weights of the model checkpoint at yiyanghkust/finbert-pretrain were not used when initializing BertForMaskedLM: ['cls.seq_relationship.bias', 'cls.seq_relationship.weight']\n",
            "- This IS expected if you are initializing BertForMaskedLM from the checkpoint of a model trained on another task or with another architecture (e.g. initializing a BertForSequenceClassification model from a BertForPreTraining model).\n",
            "- This IS NOT expected if you are initializing BertForMaskedLM from the checkpoint of a model that you expect to be exactly identical (initializing a BertForSequenceClassification model from a BertForSequenceClassification model).\n",
            "Some weights of the model checkpoint at bert-base-uncased were not used when initializing BertModel: ['cls.predictions.decoder.weight', 'cls.predictions.transform.dense.bias', 'cls.seq_relationship.weight', 'cls.predictions.transform.LayerNorm.weight', 'cls.seq_relationship.bias', 'cls.predictions.bias', 'cls.predictions.transform.dense.weight', 'cls.predictions.transform.LayerNorm.bias']\n",
            "- This IS expected if you are initializing BertModel from the checkpoint of a model trained on another task or with another architecture (e.g. initializing a BertForSequenceClassification model from a BertForPreTraining model).\n",
            "- This IS NOT expected if you are initializing BertModel from the checkpoint of a model that you expect to be exactly identical (initializing a BertForSequenceClassification model from a BertForSequenceClassification model).\n"
          ]
        },
        {
          "output_type": "stream",
          "name": "stdout",
          "text": [
            "['Turkish Airlines has launched a 25% conversion bonus from select banking partners until November 30, 2022.', '', 'Miles&Smiles will bonus conversions by 25% for up to 50,000 bonus miles.', '', 'You can access this offer on the Turkish Airlines website here.', '', 'ADVERTISEMENT', '', 'Eligible Conversion Partners:', '', 'Hyundai Card/South Korea', '', 'HSBC/Taiwan', '', 'HSBC/Hong Kong', '', 'HSBC/Mexican', '', 'Fliggy/China', '', 'Standard Chartered/United Arab Emirates', '', 'Standard Chartered/Bahrain', '', 'Inbursa/Mexican', '', 'First Abu Dhabi Bank/ United Arab Emirates', '', 'Banque Saudi Fransi/Saudi Arabia', '', 'CIMB/Malaysia.', '', 'Conclusion', '', 'It makes sense to convert from banking programs and credit cards to airline miles or other partners when there is a conversion bonus offered.', '', 'It doesn’t make sense, however, only to convert because of the bonus, but you must also have a plan for how to use them.', '', 'Miles&Smiles miles can come in handy for Turkish Airlines flights if promotional award space exists. However, the program is not very convenient for partner awards and is not the easiest to deal with in case of changes, cancellations, or rebookings.', '', 'Terms and conditions of this offer:']\n"
          ]
        },
        {
          "output_type": "stream",
          "name": "stderr",
          "text": [
            "Some weights of the model checkpoint at yiyanghkust/finbert-pretrain were not used when initializing BertForMaskedLM: ['cls.seq_relationship.bias', 'cls.seq_relationship.weight']\n",
            "- This IS expected if you are initializing BertForMaskedLM from the checkpoint of a model trained on another task or with another architecture (e.g. initializing a BertForSequenceClassification model from a BertForPreTraining model).\n",
            "- This IS NOT expected if you are initializing BertForMaskedLM from the checkpoint of a model that you expect to be exactly identical (initializing a BertForSequenceClassification model from a BertForSequenceClassification model).\n",
            "Some weights of the model checkpoint at bert-base-uncased were not used when initializing BertModel: ['cls.predictions.decoder.weight', 'cls.predictions.transform.dense.bias', 'cls.seq_relationship.weight', 'cls.predictions.transform.LayerNorm.weight', 'cls.seq_relationship.bias', 'cls.predictions.bias', 'cls.predictions.transform.dense.weight', 'cls.predictions.transform.LayerNorm.bias']\n",
            "- This IS expected if you are initializing BertModel from the checkpoint of a model trained on another task or with another architecture (e.g. initializing a BertForSequenceClassification model from a BertForPreTraining model).\n",
            "- This IS NOT expected if you are initializing BertModel from the checkpoint of a model that you expect to be exactly identical (initializing a BertForSequenceClassification model from a BertForSequenceClassification model).\n"
          ]
        },
        {
          "output_type": "stream",
          "name": "stdout",
          "text": [
            "['Many of the world’s largest asset managers and state pension funds are passively investing in companies that have allegedly engaged in the repression of Uyghur Muslims in China, according to a new report.', '', 'The report, by UK-based group Hong Kong Watch and the Helena Kennedy Centre for International Justice at Sheffield Hallam University, found that three major stock indexes provided by MSCI include at least 13 companies that have allegedly used forced labour or been involved in the construction of the surveillance state in China’s Xinjiang region.', '', 'In recent years, China has come under increased scrutiny over what the UN has called “serious human rights violations” against Uyghur Muslims in the region, including systemic discrimination, mass arbitrary detention, torture, and sexual and gender-based violence. The Chinese government has denied repeated claims that Uyghur Muslims have been held in detention or re-education camps and rejected the UN report as an anti-China smear.', '', '“If the average Briton or American realised that hundreds of millions of pounds or billions of pounds were being invested in Chinese technology firms with close ties to the state, they would be outraged,” said Johnny Patterson, an author of the report and co-founder of Hong Kong Watch.', '', '“So few of us know where our money is invested,” he added.', '', 'The report includes a list of major asset managers, including BlackRock, HSBC and Deutsche Bank among others, exposed to index funds that include companies accused of engaging in labour transfers and the construction of repressive infrastructure in the region.', '', 'It found public pension funds across the UK, Canada and the US and funds in New Zealand and Japan exposed by the investments.', '', 'Of the companies listed in the report engaged in the alleged use of forced labour or construction of camps and surveillance infrastructure, four are on the MSCI All-Country World Index ex-US, 12 are on the MSCI China Index and 13 are on the MSCI Emerging Markets Index. The companies were identified in academic research or media reports.', '', 'MSCI told the Guardian the only filters for inclusion in their indexes are accessibility and investability. “If an international investor is able to access the stock market and invest in the companies in the market, then the market and those companies are eligible for inclusion in our market indexes,” the company said.', '', '“So many people’s pensions, retirement funds and savings are invested passively because, as average consumers, we don’t have time to investigate each and every investment,” said Laura Murphy, one of the report’s authors and professor of human rights and contemporary slavery at Sheffield Hallam University.', '', '“Investing in companies operating in the Uyghur region is a serious ethical risk, but it’s also a financial risk, since these companies have been targeted by government sanctions and international advocacy campaigns,” said Murphy.', '', 'The report’s recommendations to governments include creating a list of banned entities, banning investments in companies complicit in engaging state-imposed forced labour and passing legislation banning the import of goods with ties to forced labour.', '', 'Rahima Mahmut, Uyghur activist and director of the World Uyghur Congress, said the UK is not doing enough to protect her people.', '', 'Sign up to First Edition Free daily newsletter Archie Bland and Nimo Omer take you through the top stories and what they mean, free every weekday morning Privacy Notice: Newsletters may contain info about charities, online ads, and content funded by outside parties. For more information see our Newsletters may contain info about charities, online ads, and content funded by outside parties. For more information see our Privacy Policy . We use Google reCaptcha to protect our website and the Google Privacy Policy and Terms of Service apply.', '', '“Recent years have revealed the true extent of the UK’s complicity in Uyghur forced labour through public procurement, imports and, as this report details, investments,” said Mahmut, who is living in exile in the UK.', '', '“The UK government has the responsibility to ensure that the British consumer and taxpayer is never inevitably funding genocide,” added Mahmut.', '', '“It is simply unacceptable for UK companies to be complicit in crimes against humanity,” Labour MP Afzal Khan said of the report. “If it means we need to name and shame companies, then so be it.”', '', 'In October, a high court heard arguments that UK government agencies have broken the law by not investigating the import of cotton products manufactured by forced Uyghur labourers in China.', '', 'The agencies said the decision to investigate was a discretionary decision of law enforcement agencies and that there was currently insufficient material to warrant a criminal investigation, although that position could change in the light of new information.', '', 'BlackRock, HSBC and Deutsche Bank have been approached for comment.']\n"
          ]
        },
        {
          "output_type": "stream",
          "name": "stderr",
          "text": [
            "Some weights of the model checkpoint at yiyanghkust/finbert-pretrain were not used when initializing BertForMaskedLM: ['cls.seq_relationship.bias', 'cls.seq_relationship.weight']\n",
            "- This IS expected if you are initializing BertForMaskedLM from the checkpoint of a model trained on another task or with another architecture (e.g. initializing a BertForSequenceClassification model from a BertForPreTraining model).\n",
            "- This IS NOT expected if you are initializing BertForMaskedLM from the checkpoint of a model that you expect to be exactly identical (initializing a BertForSequenceClassification model from a BertForSequenceClassification model).\n",
            "Some weights of the model checkpoint at bert-base-uncased were not used when initializing BertModel: ['cls.predictions.decoder.weight', 'cls.predictions.transform.dense.bias', 'cls.seq_relationship.weight', 'cls.predictions.transform.LayerNorm.weight', 'cls.seq_relationship.bias', 'cls.predictions.bias', 'cls.predictions.transform.dense.weight', 'cls.predictions.transform.LayerNorm.bias']\n",
            "- This IS expected if you are initializing BertModel from the checkpoint of a model trained on another task or with another architecture (e.g. initializing a BertForSequenceClassification model from a BertForPreTraining model).\n",
            "- This IS NOT expected if you are initializing BertModel from the checkpoint of a model that you expect to be exactly identical (initializing a BertForSequenceClassification model from a BertForSequenceClassification model).\n"
          ]
        },
        {
          "output_type": "stream",
          "name": "stdout",
          "text": [
            "['A Burton golf and country club has not looked back since reopening after being forced to close during the covid pandemic. Branston Golf and Country Club says health and fitness membership has risen by more than 20 per cent and golf membership is also up.', '', 'It has used a £2.4m funding package from HSBC bank to improve its facilities. It has opened a health club, 17-metre swimming pool, conference facilities, creche, and a 2000sq ft gym thanks to money from HSBC UK.', '', 'The Branston club in Burton Road has seen a 23 per cent rise in health and fitness memberships and a 14 per cent increase in golf memberships since reopening post-pandemic in 2021. As a result of the expansion, management is estimating an increase of 25 per cent in its turnover which will hit £5m in revenue at the end of the plan.', '', 'As part of the investment, 10 new jobs have been created across the business. The jobs were created to manage and support the promotion and operation of the club’s new and improved facilities.', '', 'TOP STORY: New owner of trouble-hit Locomotive in Burton sees plans hit major hitch', '', 'Managing director at Branston Golf and Country Club Ben Laing said: \" The support from HSBC UK has enabled us to extend our investment over a longer period. Consolidating the investment in one package will enable us to drive the rate and volume of all revenue streams, resulting in steady and consistent growth across all business sections. As we operate in the premium segment of the market, this investment has ensured that we can deliver the highest quality of service and facilites to all our members and customers.\"', '', 'Area director at HSBC UK Paul Armstrong added: \"We’re pleased to be able to support businesses from sectors that are still recovering from the impact of the pandemic, such as Branston Golf and Country Club. The Club is in a position to move forward with its exciting plans for future growth.\"', '', 'NEWSLETTER: Sign up for email alerts to StaffordshireLive straight to your inbox here', '', '', '', 'READ NEXT', '', \"'Slow death' claims over £150m waste incinerator plan near Swadlincote\", '', 'Tributes to former Cannock Chase councillor who has died', '', 'Stafford woman suffered stroke during surgery and needs round the clock care', '', 'Large stretch of road flooded in Branston']\n"
          ]
        },
        {
          "output_type": "stream",
          "name": "stderr",
          "text": [
            "Some weights of the model checkpoint at yiyanghkust/finbert-pretrain were not used when initializing BertForMaskedLM: ['cls.seq_relationship.bias', 'cls.seq_relationship.weight']\n",
            "- This IS expected if you are initializing BertForMaskedLM from the checkpoint of a model trained on another task or with another architecture (e.g. initializing a BertForSequenceClassification model from a BertForPreTraining model).\n",
            "- This IS NOT expected if you are initializing BertForMaskedLM from the checkpoint of a model that you expect to be exactly identical (initializing a BertForSequenceClassification model from a BertForSequenceClassification model).\n",
            "Some weights of the model checkpoint at bert-base-uncased were not used when initializing BertModel: ['cls.predictions.decoder.weight', 'cls.predictions.transform.dense.bias', 'cls.seq_relationship.weight', 'cls.predictions.transform.LayerNorm.weight', 'cls.seq_relationship.bias', 'cls.predictions.bias', 'cls.predictions.transform.dense.weight', 'cls.predictions.transform.LayerNorm.bias']\n",
            "- This IS expected if you are initializing BertModel from the checkpoint of a model trained on another task or with another architecture (e.g. initializing a BertForSequenceClassification model from a BertForPreTraining model).\n",
            "- This IS NOT expected if you are initializing BertModel from the checkpoint of a model that you expect to be exactly identical (initializing a BertForSequenceClassification model from a BertForSequenceClassification model).\n"
          ]
        },
        {
          "output_type": "stream",
          "name": "stdout",
          "text": [
            "['On the go: Workplace pension scheme members are losing around £1.7bn a year during their transition into and in retirement, according to new research from master trust HSBC Tomorrow.', '', 'The research said this was due to savers choosing costly pathways to access their money.', '', 'While some of this loss comes from scheme members withdrawing more than the 25 per cent tax-free lump sum, exposing them to hefty tax penalties, many are potentially buying products that are not the optimal solution for their circumstances.', '', 'The report looked at the current dilemma of most single employer, contract and master trust schemes in the UK not offering in-scheme retirement solutions, which forces members to go it alone and seek out third-party providers to convert their pension pot into an income.', '', 'This means pension scheme members who transfer out in order to take retirement benefits generally move from an accumulation journey regulated by the Pensions Regulator to a retail environment under Financial Conduct Authority rules.', '', 'HSBC Tomorrow chief executive officer Alison Hatcher said: “Pension savers need good value solutions that can fit into their lives and work for them.', '', '“The friction, cost and risk that members face as they enter retirement for the first time is a significant issue that is often forgotten or ignored.', '', '“There is a major real-term impact that members are exposed to during this crucial moment in their lives and we need to find ways to fix and enhance value in this area.”', '', 'Members are open to risks such as pension scams and the erosion of value that has taken decades to grow, the report said.', '', 'Report author, professor Andrew Clare, said: “As members transition into retirement, current pathways can erode the real value of pension savings that took a lifetime to accumulate.', '', '“And when schemes abandon them at this critical time in their lives, they are exposed to risks that they are often not equipped to face alone.”', '', 'Based on FCA data, HSBC Tomorrow and Hymans Robertson estimated that £1.7bn in pot value is lost each year due to a number of factors associated with individuals accessing their pensions for the first time. These include:', '', 'Withdrawing pension funds as a single lump-sum when multiple withdrawals might reduce the overall tax payment.', '', 'Paying for annual advice when fund size might suggest this was not always needed.', '', 'Moving pension pots to another provider to access a drawdown product, which can include transfer fees and different annual management charges.', '', 'The company said most recent FCA data for 2020-21 shows 705,666 people accessed their pension pots for the first time — a rise of 18 per cent on the previous year.', '', 'Of this, more than half (56 per cent) was taken as a single lump sum. Out of these, more than 10,000 were made without financial advice taken beforehand.', '', 'Hatcher added: “Our vision is focused on innovation with an absolute commitment to serve the evolving needs of employers, pension savers and retired members.', '', '“Part of that includes a joined-up financial wellbeing and pensions journey for members, including a holistic retirement savings and benefits platform, which is digital but backed up by personalised support.”', '', 'The research also found that drawdown purchases saw an increase of 24 per cent. More than half (54 per cent) of those worth less than £50,000 took place with financial advice provided to the savers.', '', 'While sales of annuities rose by just 13 per cent in 2021-22, Hymans Robertson research showed that around half of defined contribution pension schemes point members towards annuity broking services. However, virtually none offer in-scheme drawdown solutions.', '', 'Hymans Robertson partner Kathryn Fleming said: “The reality is, many individuals with small pots wanting to convert their plans into a regular income do not have sufficiently complex needs to warrant full adviser charging.', '', '“Guidance or low-cost advice propositions in conjunction with the ability for individuals to leave their DC pots invested in cheap, well governed employer-sponsored products are likely to lead to much better retirement outcomes for many individuals.”', '', 'This article originally appeared on FTAdviser.com']\n"
          ]
        },
        {
          "output_type": "stream",
          "name": "stderr",
          "text": [
            "Some weights of the model checkpoint at yiyanghkust/finbert-pretrain were not used when initializing BertForMaskedLM: ['cls.seq_relationship.bias', 'cls.seq_relationship.weight']\n",
            "- This IS expected if you are initializing BertForMaskedLM from the checkpoint of a model trained on another task or with another architecture (e.g. initializing a BertForSequenceClassification model from a BertForPreTraining model).\n",
            "- This IS NOT expected if you are initializing BertForMaskedLM from the checkpoint of a model that you expect to be exactly identical (initializing a BertForSequenceClassification model from a BertForSequenceClassification model).\n",
            "Some weights of the model checkpoint at bert-base-uncased were not used when initializing BertModel: ['cls.predictions.decoder.weight', 'cls.predictions.transform.dense.bias', 'cls.seq_relationship.weight', 'cls.predictions.transform.LayerNorm.weight', 'cls.seq_relationship.bias', 'cls.predictions.bias', 'cls.predictions.transform.dense.weight', 'cls.predictions.transform.LayerNorm.bias']\n",
            "- This IS expected if you are initializing BertModel from the checkpoint of a model trained on another task or with another architecture (e.g. initializing a BertForSequenceClassification model from a BertForPreTraining model).\n",
            "- This IS NOT expected if you are initializing BertModel from the checkpoint of a model that you expect to be exactly identical (initializing a BertForSequenceClassification model from a BertForSequenceClassification model).\n"
          ]
        },
        {
          "output_type": "stream",
          "name": "stdout",
          "text": [
            "[\"As we reported last week, something curious seems to be afoot at Keefe, Bruyette & Woods (KBW), the investment bank that was acquired by Stifel Financial Corp in 2012. - We reported that the financial institutions group (FIG) team hired in 2018 disappeared before bonuses are paid. In fact, the FIG team's exit is just the tip of the iceberg.\", '', 'Sources at the bank say parent company Stifel Financial has been hit by numerous departures in the past few weeks, many of them of staff on guaranteed bonuses.', '', \"The disappearances include Duncan Sherriffs, who joined as a managing director in debt capital markets in September 2020 and was allegedly still on a guarantee. They also include Stuart Mills, head of financial sponsors, who was hired from HSBC in 2018 and who is understood to have left with his team. There's also COO John Owen, European head of legal, Kieran Rayani, plus various members of the UK fixed income team and a healthcare banker in Frankfurt.\", '', 'The exits seem curious given that Stifel is due to pay end of year bonuses soon and reputedly pays a lot of cash. A spokesman for the bank said they don\\'t comment on \"specific personnel matters,\" and, \"continue to recruit aggressively, and attract top talent as we execute on our strategic growth initiatives.\" Stifel now has more than 200 people in Europe and will end this year with more employees than it began.', '', \"The impetus behind the exits isn't clear and they may simply be the result of a late-season urge to try something different somewhere else. The company has several five star reviews on Glassdoor, but it also has reviews complaining of poor pay, long hours and a trying culture.\", '', \"The exits may have been partly inspired by Stifel's acquisition of ACXIT Capital Partners, a European corporate finance boutique in June. It's understood that there are fears in Europe that the bonus pool will be diverted to help pay for the purchase.\", '', 'Senior staff are understood to have been deployed to stabilize the situation, but potential gripes remain. \"No one wants to pay for all the loss-making teams,\" says one insider.', '', 'Click here to create a profile on eFinancialCareers. Comment ANONYMOUSLY on articles and make yourself visible to recruiters hiring for top jobs in technology and finance.', '', 'Have a confidential story, tip, or comment you’d like to share? Contact: sbutcher@efinancialcareers.com in the first instance. Whatsapp/Signal/Telegram also available (Telegram: @SarahButcher)', '', 'Bear with us if you leave a comment at the bottom of this article: all our comments are moderated by human beings. Sometimes these humans might be asleep, or away from their desks, so it may take a while for your comment to appear. Eventually it will – unless it’s offensive or libelous (in which case it won’t.)', '', 'Photo: eFinancialCareers/Hugging Face']\n"
          ]
        },
        {
          "output_type": "stream",
          "name": "stderr",
          "text": [
            "Some weights of the model checkpoint at yiyanghkust/finbert-pretrain were not used when initializing BertForMaskedLM: ['cls.seq_relationship.bias', 'cls.seq_relationship.weight']\n",
            "- This IS expected if you are initializing BertForMaskedLM from the checkpoint of a model trained on another task or with another architecture (e.g. initializing a BertForSequenceClassification model from a BertForPreTraining model).\n",
            "- This IS NOT expected if you are initializing BertForMaskedLM from the checkpoint of a model that you expect to be exactly identical (initializing a BertForSequenceClassification model from a BertForSequenceClassification model).\n",
            "Some weights of the model checkpoint at bert-base-uncased were not used when initializing BertModel: ['cls.predictions.decoder.weight', 'cls.predictions.transform.dense.bias', 'cls.seq_relationship.weight', 'cls.predictions.transform.LayerNorm.weight', 'cls.seq_relationship.bias', 'cls.predictions.bias', 'cls.predictions.transform.dense.weight', 'cls.predictions.transform.LayerNorm.bias']\n",
            "- This IS expected if you are initializing BertModel from the checkpoint of a model trained on another task or with another architecture (e.g. initializing a BertForSequenceClassification model from a BertForPreTraining model).\n",
            "- This IS NOT expected if you are initializing BertModel from the checkpoint of a model that you expect to be exactly identical (initializing a BertForSequenceClassification model from a BertForSequenceClassification model).\n"
          ]
        },
        {
          "output_type": "stream",
          "name": "stdout",
          "text": [
            "['What is included in my trial?', '', 'During your trial you will have complete digital access to FT.com with everything in both of our Standard Digital and Premium Digital packages.', '', 'Standard Digital includes access to a wealth of global news, analysis and expert opinion. Premium Digital includes access to our premier business column, Lex, as well as 15 curated newsletters covering key business themes with original, in-depth reporting. For a full comparison of Standard and Premium Digital, click here.', '', 'Change the plan you will roll onto at any time during your trial by visiting the “Settings & Account” section.', '', 'What happens at the end of my trial?', '', 'If you do nothing, you will be auto-enrolled in our premium digital monthly subscription plan and retain complete access for $69 per month.', '', 'For cost savings, you can change your plan at any time online in the “Settings & Account” section. If you’d like to retain your premium access and save 20%, you can opt to pay annually at the end of the trial.', '', 'You may also opt to downgrade to Standard Digital, a robust journalistic offering that fulfils many user’s needs. Compare Standard and Premium Digital here.', '', 'Any changes made can be done at any time and will become effective at the end of the trial period, allowing you to retain full access for 4 weeks, even if you downgrade or cancel.']\n"
          ]
        },
        {
          "output_type": "stream",
          "name": "stderr",
          "text": [
            "Some weights of the model checkpoint at yiyanghkust/finbert-pretrain were not used when initializing BertForMaskedLM: ['cls.seq_relationship.bias', 'cls.seq_relationship.weight']\n",
            "- This IS expected if you are initializing BertForMaskedLM from the checkpoint of a model trained on another task or with another architecture (e.g. initializing a BertForSequenceClassification model from a BertForPreTraining model).\n",
            "- This IS NOT expected if you are initializing BertForMaskedLM from the checkpoint of a model that you expect to be exactly identical (initializing a BertForSequenceClassification model from a BertForSequenceClassification model).\n",
            "Some weights of the model checkpoint at bert-base-uncased were not used when initializing BertModel: ['cls.predictions.decoder.weight', 'cls.predictions.transform.dense.bias', 'cls.seq_relationship.weight', 'cls.predictions.transform.LayerNorm.weight', 'cls.seq_relationship.bias', 'cls.predictions.bias', 'cls.predictions.transform.dense.weight', 'cls.predictions.transform.LayerNorm.bias']\n",
            "- This IS expected if you are initializing BertModel from the checkpoint of a model trained on another task or with another architecture (e.g. initializing a BertForSequenceClassification model from a BertForPreTraining model).\n",
            "- This IS NOT expected if you are initializing BertModel from the checkpoint of a model that you expect to be exactly identical (initializing a BertForSequenceClassification model from a BertForSequenceClassification model).\n"
          ]
        },
        {
          "output_type": "stream",
          "name": "stdout",
          "text": [
            "['According to this latest study, In 2022 the growth of Factoring Market is projected to reach Multimillion USD by 2028, In comparison to 2021, Over the next Seven years the Factoring Market will register a spectacular spike in CAGR in terms of revenue, In this study, 2021 has been considered as the base year and 2022 to 2028 as the forecast period to estimate the market size for Factoring.', '', '“Factoring Market” Insights 2022 By Types, Applications, Regions and Forecast to 2028. The global Factoring market size is projected to Reach Multimillion USD by 2028, in comparison to 2022, with unexpected CAGR during the forecast period, the Factoring Market Report Contains Full TOC, Tables and Figures, and Chart with In-depth Analysis Pre and Post COVID-19 Market Outbreak Impact Analysis and Situation by Region.', '', 'Factoring Market – Covid-19 Impact and Recovery Analysis:', '', 'We have been tracking the direct impact of COVID-19 on this market, as well as the indirect impact from other industries. This report analyzes the impact of the pandemic on the Factoring market from a Global and Regional perspective. The report outlines the market size, market characteristics, and market growth for Factoring industry, categorized by type, application, and consumer sector. In addition, it provides a comprehensive analysis of aspects involved in market development before and after the Covid-19 pandemic. Report also conducted a PESTEL analysis in the industry to study key influencers and barriers to entry.', '', 'Final Report will add the analysis of the impact of COVID-19 on this industry.', '', 'TO UNDERSTAND HOW COVID-19 IMPACT IS COVERED IN THIS REPORT – REQUEST SAMPLE', '', 'It also provides accurate information and cutting-edge analysis that is necessary to formulate an ideal business plan, and to define the right path for rapid growth for all involved industry players. With this information, stakeholders will be more capable of developing new strategies, which focus on market opportunities that will benefit them, making their business endeavours profitable in the process.', '', 'Get a Sample PDF of report –https://www.360researchreports.com/enquiry/request-sample/18759177', '', 'Factoring Market – Competitive and Segmentation Analysis:', '', 'This Factoring Market report offers detailed analysis supported by reliable statistics on sale and revenue by players for the period 2017-2022. The report also includes company description, major business, Factoring product introduction, recent developments and Factoring sales by region, type, application and by sales channel.', '', 'The major players covered in the Factoring market report are:', '', 'BNP Paribas', '', 'Deutsche Factoring Bank', '', 'Eurobank', '', 'HSBC Group', '', 'Mizuho Financial Group', '', 'TCI Business Capital', '', 'altLINE', '', 'Paragon Financial Group', '', 'Charter Capital', '', 'New Century Financial', '', 'Riviera Finance', '', 'Universal Funding Corp', '', 'Short Summery About Factoring Market :', '', 'The Global Factoring market is anticipated to rise at a considerable rate during the forecast period, between 2022 and 2028. In 2021, the market is growing at a steady rate and with the rising adoption of strategies by key players, the market is expected to rise over the projected horizon.', '', 'Highlights', '', 'The global Factoring market is projected to reach USD million by 2028 from an estimated USD million in 2022, at a magnificent CAGR during 2023 and 2028.', '', 'North American market for Factoring is estimated to increase from USD million in 2022 to reach USD million by 2028, at a Impressive CAGR during the forecast period of 2023 through 2028.', '', 'Asia-Pacific market for Factoring is estimated to increase from USD million in 2022 to reach USD million by 2028, at a magnificent CAGR during the forecast period of 2022 through 2028.', '', 'The global market for Factoring in Wired Telephone Network System is estimated to increase from USD million in 2022 to USD million by 2028, at a Impressive CAGR during the forecast period of 2022 through 2028.', '', 'Considering the economic change due to COVID-19 and Russia-Ukraine War Influence, Factoring, which accounted for % of the global market of Factoring in 2021, is expected to reach million USD by 2028, growing at a revised CAGR of % from 2022 to 2028.', '', 'Report Scope', '', 'This report aims to provide a comprehensive presentation of the global market for Factoring, with both quantitative and qualitative analysis, to help readers develop business/growth strategies, assess the market competitive situation, analyze their position in the current marketplace, and make informed business decisions regarding Factoring.', '', 'The Factoring market size, estimations, and forecasts are provided in terms of output/shipments (K Units) and revenue (USD millions), considering 2021 as the base year, with history and forecast data for the period from 2017 to 2028. This report segments the global Factoring market comprehensively. Regional market sizes, concerning products by types, by application, and by players, are also provided. The influence of COVID-19 and the Russia-Ukraine War were considered while estimating market sizes.', '', 'For a more in-depth understanding of the market, the report provides profiles of the competitive landscape, key competitors, and their respective market ranks. The report also discusses technological trends and new product developments.', '', 'The report will help the Factoring manufacturers, new entrants, and industry chain related companies in this market with information on the revenues, production, and average price for the overall market and the sub-segments across the different segments, by company, product type, application, and regions.', '', 'Key Companies and Market Share Insights', '', 'In this section, the readers will gain an understanding of the key players competing. This report has studied the key growth strategies, such as innovative trends and developments, intensification of product portfolio, mergers and acquisitions, collaborations, new product innovation, and geographical expansion, undertaken by these participants to maintain their presence. Apart from business strategies, the study includes current developments and key financials. The readers will also get access to the data related to global revenue, price, and sales by manufacturers for the period 2017-2022. This all-inclusive report will certainly serve the clients to stay updated and make effective decisions in their businesses.', '', 'Get a Sample Copy of the Factoring Market Report 2022', '', 'Report further studies the market development status and future Factoring Market trend across the world. Also, it splits Factoring market Segmentation by Type and by Applications to fully and deeply research and reveal market profile and prospects.', '', 'On the basis of product type this report displays the production, revenue, price, market share and growth rate of each type, primarily split into:', '', 'Domestic Factoring', '', 'International Factoring', '', 'On the basis of the end users/applications this report focuses on the status and outlook for major applications/end users, consumption (sales), market share and growth rate for each application, including:', '', 'SME', '', 'Enterprise', '', 'Factoring Market – Regional Analysis:', '', 'Geographically, this report is segmented into several key regions, with sales, revenue, market share and growth Rate of Factoring in these regions, from 2015 to 2027, covering', '', 'North America (United States, Canada and Mexico)', '', 'Europe (Germany, UK, France, Italy, Russia and Turkey etc.)', '', 'Asia-Pacific (China, Japan, Korea, India, Australia, Indonesia, Thailand, Philippines, Malaysia and Vietnam)', '', 'South America (Brazil, Argentina, Columbia etc.)', '', 'Middle East and Africa (Saudi Arabia, UAE, Egypt, Nigeria and South Africa)', '', 'Some of the key questions answered in this report:', '', 'What is the global ( North America, Europe, Asia-Pacific, South America, Middle East and Africa ) sales value, production value, consumption value, import and export of Factoring?', '', ') sales value, production value, consumption value, import and export of Factoring? Who are the global key manufacturers of the Factoring Industry? How is their operating situation (capacity, production, sales, price, cost, gross, and revenue)?', '', 'What are the Factoring market opportunities and threats faced by the vendors in the global Factoring Industry?', '', 'Which application/end-user or product type may seek incremental growth prospects? What is the market share of each type and application?', '', 'What focused approach and constraints are holding the Factoring market?', '', 'What are the different sales, marketing, and distribution channels in the global industry?', '', 'What are the upstream raw materials and manufacturing equipment of Factoring along with the manufacturing process of Factoring?', '', 'What are the key market trends impacting the growth of the Factoring market?', '', 'Economic impact on the Factoring industry and development trend of the Factoring industry.', '', 'What are the market opportunities, market risk, and market overview of the Factoring market?', '', 'What are the key drivers, restraints, opportunities, and challenges of the Factoring market, and how they are expected to impact the market?', '', 'What is the Factoring market size at the regional and country-level?', '', 'Our research analysts will help you to get customized details for your report, which can be modified in terms of a specific region, application or any statistical details. In addition, we are always willing to comply with the study, which triangulated with your own data to make the market research more comprehensive in your perspective.', '', 'Inquire more and share questions if any before the purchase on this report at –https://www.360researchreports.com/enquiry/pre-order-enquiry/18759177', '', 'Detailed TOC of Global Factoring Market Research Report 2022', '', '1 Factoring Market Overview', '', '1.1 Product Overview and Scope of Factoring', '', '1.2 Factoring Segment by Type', '', '1.2.1 Global Factoring Market Size Growth Rate Analysis by Type 2022 VS 2028', '', '1.3 Factoring Segment by Application', '', '1.3.1 Global Factoring Consumption Comparison by Application: 2022 VS 2028', '', '1.4 Global Market Growth Prospects', '', '1.4.1 Global Factoring Revenue Estimates and Forecasts (2017-2028)', '', '1.4.2 Global Factoring Production Capacity Estimates and Forecasts (2017-2028)', '', '1.4.3 Global Factoring Production Estimates and Forecasts (2017-2028)', '', '1.5 Global Market Size by Region', '', '1.5.1 Global Factoring Market Size Estimates and Forecasts by Region: 2017 VS 2021 VS 2028', '', '1.5.2 North America Factoring Estimates and Forecasts (2017-2028)', '', '1.5.3 Europe Factoring Estimates and Forecasts (2017-2028)', '', '1.5.4 China Factoring Estimates and Forecasts (2017-2028)', '', '1.5.5 Japan Factoring Estimates and Forecasts (2017-2028)', '', '2 Market Competition by Manufacturers', '', '2.1 Global Factoring Production Capacity Market Share by Manufacturers (2017-2022)', '', '2.2 Global Factoring Revenue Market Share by Manufacturers (2017-2022)', '', '2.3 Factoring Market Share by Company Type (Tier 1, Tier 2 and Tier 3)', '', '2.4 Global Factoring Average Price by Manufacturers (2017-2022)', '', '2.5 Manufacturers Factoring Production Sites, Area Served, Product Types', '', '2.6 Factoring Market Competitive Situation and Trends', '', '2.6.1 Factoring Market Concentration Rate', '', '2.6.2 Global 5 and 10 Largest Factoring Players Market Share by Revenue', '', '2.6.3 Mergers and Acquisitions, Expansion', '', '3 Production Capacity by Region', '', '3.1 Global Production Capacity of Factoring Market Share by Region (2017-2022)', '', '3.2 Global Factoring Revenue Market Share by Region (2017-2022)', '', '3.3 Global Factoring Production Capacity, Revenue, Price and Gross Margin (2017-2022)', '', '3.4 North America Factoring Production', '', '3.4.1 North America Factoring Production Growth Rate (2017-2022)', '', '3.4.2 North America Factoring Production Capacity, Revenue, Price and Gross Margin (2017-2022)', '', '3.5 Europe Factoring Production', '', '3.5.1 Europe Factoring Production Growth Rate (2017-2022)', '', '3.5.2 Europe Factoring Production Capacity, Revenue, Price and Gross Margin (2017-2022)', '', '3.6 China Factoring Production', '', '3.6.1 China Factoring Production Growth Rate (2017-2022)', '', '3.6.2 China Factoring Production Capacity, Revenue, Price and Gross Margin (2017-2022)', '', '3.7 Japan Factoring Production', '', '3.7.1 Japan Factoring Production Growth Rate (2017-2022)', '', '3.7.2 Japan Factoring Production Capacity, Revenue, Price and Gross Margin (2017-2022)', '', '4 Global Factoring Consumption by Region', '', '4.1 Global Factoring Consumption by Region', '', '4.1.1 Global Factoring Consumption by Region', '', '4.1.2 Global Factoring Consumption Market Share by Region', '', '4.2 North America', '', '4.2.1 North America Factoring Consumption by Country', '', '4.2.2 United States', '', '4.2.3 Canada', '', '4.3 Europe', '', '4.3.1 Europe Factoring Consumption by Country', '', '4.3.2 Germany', '', '4.3.3 France', '', '4.3.4 U.K.', '', '4.3.5 Italy', '', '4.3.6 Russia', '', '4.4 Asia Pacific', '', '4.4.1 Asia Pacific Factoring Consumption by Region', '', '4.4.2 China', '', '4.4.3 Japan', '', '4.4.4 South Korea', '', '4.4.5 China Taiwan', '', '4.4.6 Southeast Asia', '', '4.4.7 India', '', '4.4.8 Australia', '', '4.5 Latin America', '', '4.5.1 Latin America Factoring Consumption by Country', '', '4.5.2 Mexico', '', '4.5.3 Brazil', '', 'Get a Sample Copy of the Factoring Market Report 2022', '', '5 Segment by Type', '', '5.1 Global Factoring Production Market Share by Type (2017-2022)', '', '5.2 Global Factoring Revenue Market Share by Type (2017-2022)', '', '5.3 Global Factoring Price by Type (2017-2022)', '', '6 Segment by Application', '', '6.1 Global Factoring Production Market Share by Application (2017-2022)', '', '6.2 Global Factoring Revenue Market Share by Application (2017-2022)', '', '6.3 Global Factoring Price by Application (2017-2022)', '', '7 Key Companies Profiled', '', '7.1 Company', '', '7.1.1 Factoring Corporation Information', '', '7.1.2 Factoring Product Portfolio', '', '7.1. CFactoring Production Capacity, Revenue, Price and Gross Margin (2017-2022)', '', '7.1.4 Company’s Main Business and Markets Served', '', '7.1.5 Company’s Recent Developments/Updates', '', '8 Factoring Manufacturing Cost Analysis', '', '8.1 Factoring Key Raw Materials Analysis', '', '8.1.1 Key Raw Materials', '', '8.1.2 Key Suppliers of Raw Materials', '', '8.2 Proportion of Manufacturing Cost Structure', '', '8.3 Manufacturing Process Analysis of Factoring', '', '8.4 Factoring Industrial Chain Analysis', '', '9 Marketing Channel, Distributors and Customers', '', '9.1 Marketing Channel', '', '9.2 Factoring Distributors List', '', '9.3 Factoring Customers', '', '10 Market Dynamics', '', '10.1 Factoring Industry Trends', '', '10.2 Factoring Market Drivers', '', '10.3 Factoring Market Challenges', '', '10.4 Factoring Market Restraints', '', '11 Production and Supply Forecast', '', '11.1 Global Forecasted Production of Factoring by Region (2023-2028)', '', '11.2 North America Factoring Production, Revenue Forecast (2023-2028)', '', '11.3 Europe Factoring Production, Revenue Forecast (2023-2028)', '', '11.4 China Factoring Production, Revenue Forecast (2023-2028)', '', '11.5 Japan Factoring Production, Revenue Forecast (2023-2028)', '', '12 Consumption and Demand Forecast', '', '12.1 Global Forecasted Demand Analysis of Factoring', '', '12.2 North America Forecasted Consumption of Factoring by Country', '', '12.3 Europe Market Forecasted Consumption of Factoring by Country', '', '12.4 Asia Pacific Market Forecasted Consumption of Factoring by Region', '', '12.5 Latin America Forecasted Consumption of Factoring by Country', '', '13 Forecast by Type and by Application (2023-2028)', '', '13.1 Global Production, Revenue and Price Forecast by Type (2023-2028)', '', '13.1.1 Global Forecasted Production of Factoring by Type (2023-2028)', '', '13.1.2 Global Forecasted Revenue of Factoring by Type (2023-2028)', '', '13.1.3 Global Forecasted Price of Factoring by Type (2023-2028)', '', '13.2 Global Forecasted Consumption of Factoring by Application (2023-2028)', '', '13.2.1 Global Forecasted Production of Factoring by Application (2023-2028)', '', '13.2.2 Global Forecasted Revenue of Factoring by Application (2023-2028)', '', '13.2.3 Global Forecasted Price of Factoring by Application (2023-2028)', '', '14 Research Finding and Conclusion', '', '15 Methodology and Data Source', '', '15.1 Methodology/Research Approach', '', '15.1.1 Research Programs/Design', '', '15.1.2 Market Size Estimation', '', '15.1.3 Market Breakdown and Data Triangulation', '', '15.2 Data Source', '', '15.2.1 Secondary Sources', '', '15.2.2 Primary Sources', '', '15.3 Author List', '', '15.4 Disclaimer', '', 'Continued….', '', 'Purchase this report (Price 3900 USD for a single-user license) –https://www.360researchreports.com/purchase/18759177', '', 'About Us:', '', '360 Research Reports is the credible source for gaining the market reports that will provide you with the lead your business needs. At 360 Research Reports, our objective is providing a platform for many top-notch market research firms worldwide to publish their research reports, as well as helping the decision makers in finding most suitable market research solutions under one roof. Our aim is to provide the best solution that matches the exact customer requirements. This drives us to provide you with custom or syndicated research reports.', '', 'Contact Us:', '', 'Web https://360researchreports.com', '', 'Email: [email protected]', '', 'Organization: 360 Research Reports', '', 'Phone: +44 20 3239 8187/ +14242530807', '', 'Our Other Reports :', '', 'Low-Dosage Hydrate Inhibitors (LDHIs) Market', '', 'Corrugated Box Packaging Market', '', 'Ship Loading and Unloading Systems Market', '', 'Volleyball Balls Market', '', 'Digital Instrument Clusters Market', '', 'Hydrofoil Surboards Market', '', 'Conveyor Sortation System Market', '', 'Thermal Breaks Market', '', 'Paprika Market', '', 'Fire Hydrants Market', '', 'Press Release Distributed by The Express Wire', '', 'To view the original version on The Express Wire visit Factoring Market Study Providing Information on Top Key Players | BNP Paribas, Deutsche Factoring Bank, Eurobank, HSBC Group And More']\n"
          ]
        },
        {
          "output_type": "stream",
          "name": "stderr",
          "text": [
            "Some weights of the model checkpoint at yiyanghkust/finbert-pretrain were not used when initializing BertForMaskedLM: ['cls.seq_relationship.bias', 'cls.seq_relationship.weight']\n",
            "- This IS expected if you are initializing BertForMaskedLM from the checkpoint of a model trained on another task or with another architecture (e.g. initializing a BertForSequenceClassification model from a BertForPreTraining model).\n",
            "- This IS NOT expected if you are initializing BertForMaskedLM from the checkpoint of a model that you expect to be exactly identical (initializing a BertForSequenceClassification model from a BertForSequenceClassification model).\n",
            "Some weights of the model checkpoint at bert-base-uncased were not used when initializing BertModel: ['cls.predictions.decoder.weight', 'cls.predictions.transform.dense.bias', 'cls.seq_relationship.weight', 'cls.predictions.transform.LayerNorm.weight', 'cls.seq_relationship.bias', 'cls.predictions.bias', 'cls.predictions.transform.dense.weight', 'cls.predictions.transform.LayerNorm.bias']\n",
            "- This IS expected if you are initializing BertModel from the checkpoint of a model trained on another task or with another architecture (e.g. initializing a BertForSequenceClassification model from a BertForPreTraining model).\n",
            "- This IS NOT expected if you are initializing BertModel from the checkpoint of a model that you expect to be exactly identical (initializing a BertForSequenceClassification model from a BertForSequenceClassification model).\n"
          ]
        },
        {
          "output_type": "stream",
          "name": "stdout",
          "text": [
            "['Not quite', '', 'The first two sentences of the Times of Malta leader of November 19, namely: “Governments are sometimes forced to bail out struggling banks that are too big to fail” and “This is done because the cost of letting a bank go under is often greater than that of bailing it out with taxpayers’ money”, are no longer totally correct after the Greek crisis.', '', 'When the EU passed directive No. 2014/58/EU (now, of course, part of Maltese law) governmental “bailouts” effectively dropped into a different pecking order, where “bailins” assumed as much, if not more, importance and priority.', '', '“Bailins” brought EU credit institutions and systemically important institutions (SIIs) into a situation where, in a bank crisis, and indeed much before getting to that stage, they have to constantly act and assume certain responsibilities before public funds (government or taxpayers’ monies) can be fallen upon.', '', 'In terms of the mentioned BRRD (bank recovery and resolution directive), various new regulatory structures have come to exist in all EU member states and these constantly monitor and control the operations and ongoing financial situations of banks much more strongly than prior to the Greek crisis.', '', 'These structures include an SRB (single resolution board) as part of the ECB and local BRR committees, with, in fact, the Malta one existing and operating regularly within the MFSA. Such committees meet regularly, have full-time staff operating and, inter alia, work on close regular monitoring of banks’ MRELs (minimum regulatory eligible liabilities), RRPs (recovery and resolution plans) and other control metrics, all of which designed to ensure that banks, including those licensed and operating in/from Malta, remain in an operational financial state that provide some peace of mind.', '', 'One would be correct in saying that, with the BRRD, the concept of “prevention is better than control” is brought much more to the fore in the protection of all stakeholders. And, also, that in crises it should not only be taxpayers’ who carry the can.', '', 'John Consiglio, Department of Banking & Finance, University of Malta – Msida', '', 'Service at HSBC', '', 'Photo: Matthew Mirabelli', '', 'I refer to the article ‘The elderly are facing added obstacles to banking’ (November 3).', '', 'I agree with this article and I am one of the thousands of elderly who use HSBC as their main bank.', '', 'The government was warned to be careful of HSBC because this bank is neither good to its employees nor to its depositors. How correct this warning was.', '', 'Today, the bank itself (HSBC) is proving the validity of this warning. That is not all. HSBC is not cashing cheques under €20. So when I receive a bill for less than €20, what am I supposed to do?', '', 'HSBC also advises us to use an ATM to withdraw cash. Quite often, when I try to do this, there is a notice that says “cash is not available”.', '', 'HSBC were supposed to open new branches, instead they are closing very central ones. I mention only two – Balzan and Msida. On the part of HSBC there is more than one “breach of contract”.', '', 'I ask the minister for the elderly to note and take action and not let us elderly continue suffering because of HSBC’s policies.', '', 'Carmel Gatt – Sliema']\n"
          ]
        },
        {
          "output_type": "stream",
          "name": "stderr",
          "text": [
            "Some weights of the model checkpoint at yiyanghkust/finbert-pretrain were not used when initializing BertForMaskedLM: ['cls.seq_relationship.bias', 'cls.seq_relationship.weight']\n",
            "- This IS expected if you are initializing BertForMaskedLM from the checkpoint of a model trained on another task or with another architecture (e.g. initializing a BertForSequenceClassification model from a BertForPreTraining model).\n",
            "- This IS NOT expected if you are initializing BertForMaskedLM from the checkpoint of a model that you expect to be exactly identical (initializing a BertForSequenceClassification model from a BertForSequenceClassification model).\n",
            "Some weights of the model checkpoint at bert-base-uncased were not used when initializing BertModel: ['cls.predictions.decoder.weight', 'cls.predictions.transform.dense.bias', 'cls.seq_relationship.weight', 'cls.predictions.transform.LayerNorm.weight', 'cls.seq_relationship.bias', 'cls.predictions.bias', 'cls.predictions.transform.dense.weight', 'cls.predictions.transform.LayerNorm.bias']\n",
            "- This IS expected if you are initializing BertModel from the checkpoint of a model trained on another task or with another architecture (e.g. initializing a BertForSequenceClassification model from a BertForPreTraining model).\n",
            "- This IS NOT expected if you are initializing BertModel from the checkpoint of a model that you expect to be exactly identical (initializing a BertForSequenceClassification model from a BertForSequenceClassification model).\n"
          ]
        },
        {
          "output_type": "stream",
          "name": "stdout",
          "text": [
            "['The G4S workers, who deliver cash and coins to banks, vote to strike for 48 hours in a dispute over pay.', '', 'Hundreds of workers at British security company G4S have voted to strike for 48 hours in early December in a dispute over pay, according to trade union GMB, warning the walkout could cause cash shortages over the Christmas period.', '', 'The G4S workers deliver cash and coins to banks, including Barclays, HSBC and Santander as well as supermarkets Tesco, Asda and Aldi, the union said in a statement on Tuesday.', '', 'A spokesperson for G4S, which was bought by American group Allied Universal last year, said the company was continuing to engage with its employees and the union.', '', '“[We] hope to reach an amicable agreement without the need for industrial action,” the spokesperson said.', '', 'The union said 97 percent of its G4S members who took part in a ballot had backed industrial action, which is set to begin at 03:00 GMT on December 4 and last for 48 hours initially.', '', 'Their discontent forms part of a wider industrial unrest in the country this year, as pay rises fail to keep pace with soaring inflation.', '', '“G4S Cash staff provide an absolutely vital service,” GMB National Officer Eamon O’Hearn said.', '', '“All they are asking for is a wage they can live on, that they can feed their families on, that they can treat their children this Christmas on.”']\n"
          ]
        },
        {
          "output_type": "stream",
          "name": "stderr",
          "text": [
            "Some weights of the model checkpoint at yiyanghkust/finbert-pretrain were not used when initializing BertForMaskedLM: ['cls.seq_relationship.bias', 'cls.seq_relationship.weight']\n",
            "- This IS expected if you are initializing BertForMaskedLM from the checkpoint of a model trained on another task or with another architecture (e.g. initializing a BertForSequenceClassification model from a BertForPreTraining model).\n",
            "- This IS NOT expected if you are initializing BertForMaskedLM from the checkpoint of a model that you expect to be exactly identical (initializing a BertForSequenceClassification model from a BertForSequenceClassification model).\n",
            "Some weights of the model checkpoint at bert-base-uncased were not used when initializing BertModel: ['cls.predictions.decoder.weight', 'cls.predictions.transform.dense.bias', 'cls.seq_relationship.weight', 'cls.predictions.transform.LayerNorm.weight', 'cls.seq_relationship.bias', 'cls.predictions.bias', 'cls.predictions.transform.dense.weight', 'cls.predictions.transform.LayerNorm.bias']\n",
            "- This IS expected if you are initializing BertModel from the checkpoint of a model trained on another task or with another architecture (e.g. initializing a BertForSequenceClassification model from a BertForPreTraining model).\n",
            "- This IS NOT expected if you are initializing BertModel from the checkpoint of a model that you expect to be exactly identical (initializing a BertForSequenceClassification model from a BertForSequenceClassification model).\n"
          ]
        },
        {
          "output_type": "stream",
          "name": "stdout",
          "text": [
            "['The content you are trying to view is exclusive to our subscribers.', '', 'To unlock this article:']\n"
          ]
        },
        {
          "output_type": "stream",
          "name": "stderr",
          "text": [
            "Some weights of the model checkpoint at yiyanghkust/finbert-pretrain were not used when initializing BertForMaskedLM: ['cls.seq_relationship.bias', 'cls.seq_relationship.weight']\n",
            "- This IS expected if you are initializing BertForMaskedLM from the checkpoint of a model trained on another task or with another architecture (e.g. initializing a BertForSequenceClassification model from a BertForPreTraining model).\n",
            "- This IS NOT expected if you are initializing BertForMaskedLM from the checkpoint of a model that you expect to be exactly identical (initializing a BertForSequenceClassification model from a BertForSequenceClassification model).\n",
            "Some weights of the model checkpoint at bert-base-uncased were not used when initializing BertModel: ['cls.predictions.decoder.weight', 'cls.predictions.transform.dense.bias', 'cls.seq_relationship.weight', 'cls.predictions.transform.LayerNorm.weight', 'cls.seq_relationship.bias', 'cls.predictions.bias', 'cls.predictions.transform.dense.weight', 'cls.predictions.transform.LayerNorm.bias']\n",
            "- This IS expected if you are initializing BertModel from the checkpoint of a model trained on another task or with another architecture (e.g. initializing a BertForSequenceClassification model from a BertForPreTraining model).\n",
            "- This IS NOT expected if you are initializing BertModel from the checkpoint of a model that you expect to be exactly identical (initializing a BertForSequenceClassification model from a BertForSequenceClassification model).\n"
          ]
        },
        {
          "output_type": "stream",
          "name": "stdout",
          "text": [
            "[\"The November Eurozone purchasing managers' index report supported European equities on Wednesday as it indicated a smaller-than-expected contraction in the continent.\", '', 'American depositary receipts of European stocks were up 0.6% at 1,078.68 on the S&P Europe Select ADR Index.', '', 'In continental Europe, the gainers were led by pharmaceutical company Novo Nordisk (NVO) and semiconductor company ASML (ASML), which rose 1.8% and 1.7% respectively. They were followed by networking and telecom equipment maker Ericsson (ERIC) and petroleum refining company Equinor (EQNR), which were up 1.6% and 1.4%.', '', 'The decliners in continental Europe were led by bank Credit Suisse (CS) and steel company ArcelorMittal (MT), which fell 6% and 1.3% respectively. They were followed by oil company Total (TTE), which dropped 1%.', '', 'In the UK and Ireland, the gainers were led by banks HSBC (HSBC), Barclays (BCS) and Lloyds (LYG), which rose 1.6%, 1.5% and 1.4%, respectively.', '', 'The decliners in the UK and Ireland were led by pharmaceutical companies Adaptimmune Therapeutics (ADAP) and Amarin (AMRN), which dropped 4.5% and 3.3% respectively.']\n"
          ]
        },
        {
          "output_type": "stream",
          "name": "stderr",
          "text": [
            "Some weights of the model checkpoint at yiyanghkust/finbert-pretrain were not used when initializing BertForMaskedLM: ['cls.seq_relationship.bias', 'cls.seq_relationship.weight']\n",
            "- This IS expected if you are initializing BertForMaskedLM from the checkpoint of a model trained on another task or with another architecture (e.g. initializing a BertForSequenceClassification model from a BertForPreTraining model).\n",
            "- This IS NOT expected if you are initializing BertForMaskedLM from the checkpoint of a model that you expect to be exactly identical (initializing a BertForSequenceClassification model from a BertForSequenceClassification model).\n",
            "Some weights of the model checkpoint at bert-base-uncased were not used when initializing BertModel: ['cls.predictions.decoder.weight', 'cls.predictions.transform.dense.bias', 'cls.seq_relationship.weight', 'cls.predictions.transform.LayerNorm.weight', 'cls.seq_relationship.bias', 'cls.predictions.bias', 'cls.predictions.transform.dense.weight', 'cls.predictions.transform.LayerNorm.bias']\n",
            "- This IS expected if you are initializing BertModel from the checkpoint of a model trained on another task or with another architecture (e.g. initializing a BertForSequenceClassification model from a BertForPreTraining model).\n",
            "- This IS NOT expected if you are initializing BertModel from the checkpoint of a model that you expect to be exactly identical (initializing a BertForSequenceClassification model from a BertForSequenceClassification model).\n"
          ]
        },
        {
          "output_type": "stream",
          "name": "stdout",
          "text": [
            "['J. Safra Sarasin has hired a handful of private bankers from rival pure-plays, including Julius Baer, finews.asia has learned.', '', 'A handful of former Julius Baer private bankers have joined J. Safra Sarasin, sources told finews.asia, specifically in its client advisory unit in Singapore.', '', 'J. Safra Sarasin appoints Michael Leutwyler as managing director, client advisory. Leutwyler was most recently working at Julius Baer, where he spent eight years, last as a managing director senior advisor. Previously, he also worked at Barclays, Deutsche Bank, Merrill Lynch and UBS.', '', 'The bank has also hired Rupesh Singh as a managing director in the unit after he, too, spent eight years at Julius Baer as a former managing director senior advisor. Prior to that, he worked at ANZ, HSBC, Citi and ABN AMRO.', '', 'Former Julius Baer Bankers', '', 'Outside of the managing director level, the Swiss-Brazilian private bank hired Julius Baer alumni Ashvin Kumar as executive director and Nitin Sachdeva as director in Singapore.', '', 'Kumar was most recently the head of operations at Indorama Investment Advisors, Singapore after a five-year stint with Julius Baer. Previously, he also worked at UBS, HSBC, Barclays, Citi and ABN AMRO.', '', 'Sachdeva was most recently with Julius and previously worked at Standard Chartered, Citi and HSBC.', '', 'Singapore Operations', '', 'In addition to Julius Baer, J. Safra Sarasin also hired from another rival pure-play in EFG, namely its ex-head of operations in Singapore, Bernard Tan, for the same role. Tan previously worked at the former BSI, BNP Paribas and Morgan Stanley.', '', 'A spokesperson for the bank confirmed the new hires.']\n"
          ]
        },
        {
          "output_type": "stream",
          "name": "stderr",
          "text": [
            "Some weights of the model checkpoint at yiyanghkust/finbert-pretrain were not used when initializing BertForMaskedLM: ['cls.seq_relationship.bias', 'cls.seq_relationship.weight']\n",
            "- This IS expected if you are initializing BertForMaskedLM from the checkpoint of a model trained on another task or with another architecture (e.g. initializing a BertForSequenceClassification model from a BertForPreTraining model).\n",
            "- This IS NOT expected if you are initializing BertForMaskedLM from the checkpoint of a model that you expect to be exactly identical (initializing a BertForSequenceClassification model from a BertForSequenceClassification model).\n",
            "Some weights of the model checkpoint at bert-base-uncased were not used when initializing BertModel: ['cls.predictions.decoder.weight', 'cls.predictions.transform.dense.bias', 'cls.seq_relationship.weight', 'cls.predictions.transform.LayerNorm.weight', 'cls.seq_relationship.bias', 'cls.predictions.bias', 'cls.predictions.transform.dense.weight', 'cls.predictions.transform.LayerNorm.bias']\n",
            "- This IS expected if you are initializing BertModel from the checkpoint of a model trained on another task or with another architecture (e.g. initializing a BertForSequenceClassification model from a BertForPreTraining model).\n",
            "- This IS NOT expected if you are initializing BertModel from the checkpoint of a model that you expect to be exactly identical (initializing a BertForSequenceClassification model from a BertForSequenceClassification model).\n"
          ]
        },
        {
          "output_type": "stream",
          "name": "stdout",
          "text": [
            "['Image source: Getty Images', '', 'Young Black man sat in front of laptop while wearing headphones', '', 'UK banks stocks have all fallen over the past 12 months, as inflation has been soaring and we’ve been heading unavoidably into a recession. Barclays shares, for example, are down 19% over the past 12 months.', '', 'The Barclays share price had recovered from its Covid losses. But the ravages of 2022 mean shareholders are now looking at a five-year loss of 17%.', '', 'I’ve picked Barclays because I see it as probably the most diverse UK bank stock. It embraces both retail banking and corporate banking, and it’s transatlantic in its outlook. The overall picture, though, is pretty much the same with all of them. And since recession was confirmed, UK bank stocks have started picking up again.', '', 'Recession', '', 'When recession was just a scary possibility, it was an unknown. And the stock market doesn’t like unknowns. But now we’re in it, it seems investors can handle it better.', '', 'What should private investors do? Everyone should do their own research and base their strategy on their own circumstances. For me, I see the banking sector as one of the best to go for during the recession.', '', 'That’s for a couple of key reasons. One is top fund manager Sir John Templeton’s adage that “The time of maximum pessimism is the best time to buy, and the time of maximum optimism is the best time to sell“.', '', 'Nice profits', '', 'That would have worked well during the Covid pandemic. When everyone was in a panic and dumping bank shares, those who bought would be sitting on some nice gains today.', '', 'Anyone who managed to buy Barclays at the bottom in 2020 would have doubled their money. And that’s even after the renewed hardships of 2022.', '', 'I don’t advocate trying to time the market and get in at the best point. No, those who attempt it rarely succeed. To go with ace investor Warren Buffett’s advice, it’s time in the market that counts, not timing the market.', '', 'Valuation', '', 'So as long as I see a price that I think represents good long-term value, I’ll buy. And that brings me to my next key reason for liking bank stocks right now.', '', 'Story continues', '', 'Looking at the FTSE 100 high street banks, I see forecast price-to-earnings (P/E) ratios ranging from around 5.1 for Banco Santander and 5.4 for Barclays, to 8.5 at HSBC Holdings.', '', 'Even the most expensive on that measure is only valued at slightly above half the Footsie’s long-term average. I don’t think banks deserve a strong valuation at the moment, but I see that as too low.', '', 'Dividends', '', 'Forecast dividend yields are in the 4% to 4.7% range. From a sector that traditionally brings in good cash flow over the long term, I think those are attractive.', '', 'High interest rates might be helping with their lending margins. But total lending volumes must surely come under pressure over the next couple of years. And I expect we’ll see bad-debt provisions growing. So some pressure on dividends could well come.', '', 'Overall, yes, I see short-term risks. But I intend to buy bank stocks over the next couple of years and hold for the long term.', '', 'The post Bank stocks look cheap now. Should I buy for the recession? appeared first on The Motley Fool UK.', '', 'More reading', '', 'Alan Oscroft has no position in any of the shares mentioned. The Motley Fool UK has recommended Barclays and HSBC Holdings. Views expressed on the companies mentioned in this article are those of the writer and therefore may differ from the official recommendations we make in our subscription services such as Share Advisor, Hidden Winners and Pro. Here at The Motley Fool we believe that considering a diverse range of insights makes us better investors.', '', 'Motley Fool UK 2022']\n"
          ]
        },
        {
          "output_type": "stream",
          "name": "stderr",
          "text": [
            "Some weights of the model checkpoint at yiyanghkust/finbert-pretrain were not used when initializing BertForMaskedLM: ['cls.seq_relationship.bias', 'cls.seq_relationship.weight']\n",
            "- This IS expected if you are initializing BertForMaskedLM from the checkpoint of a model trained on another task or with another architecture (e.g. initializing a BertForSequenceClassification model from a BertForPreTraining model).\n",
            "- This IS NOT expected if you are initializing BertForMaskedLM from the checkpoint of a model that you expect to be exactly identical (initializing a BertForSequenceClassification model from a BertForSequenceClassification model).\n",
            "Some weights of the model checkpoint at bert-base-uncased were not used when initializing BertModel: ['cls.predictions.decoder.weight', 'cls.predictions.transform.dense.bias', 'cls.seq_relationship.weight', 'cls.predictions.transform.LayerNorm.weight', 'cls.seq_relationship.bias', 'cls.predictions.bias', 'cls.predictions.transform.dense.weight', 'cls.predictions.transform.LayerNorm.bias']\n",
            "- This IS expected if you are initializing BertModel from the checkpoint of a model trained on another task or with another architecture (e.g. initializing a BertForSequenceClassification model from a BertForPreTraining model).\n",
            "- This IS NOT expected if you are initializing BertModel from the checkpoint of a model that you expect to be exactly identical (initializing a BertForSequenceClassification model from a BertForSequenceClassification model).\n"
          ]
        },
        {
          "output_type": "stream",
          "name": "stdout",
          "text": [
            "['Share Share Article via Facebook Share Article via Twitter Share Article via LinkedIn Share Article via Email', '', 'We are unambiguously contractionary in our monetary position, says RBNZ', '', 'Adrian Orr of Reserve Bank of New Zealand discusses its biggest-ever rate hike of 75 basis points.']\n"
          ]
        },
        {
          "output_type": "stream",
          "name": "stderr",
          "text": [
            "Some weights of the model checkpoint at yiyanghkust/finbert-pretrain were not used when initializing BertForMaskedLM: ['cls.seq_relationship.bias', 'cls.seq_relationship.weight']\n",
            "- This IS expected if you are initializing BertForMaskedLM from the checkpoint of a model trained on another task or with another architecture (e.g. initializing a BertForSequenceClassification model from a BertForPreTraining model).\n",
            "- This IS NOT expected if you are initializing BertForMaskedLM from the checkpoint of a model that you expect to be exactly identical (initializing a BertForSequenceClassification model from a BertForSequenceClassification model).\n",
            "Some weights of the model checkpoint at bert-base-uncased were not used when initializing BertModel: ['cls.predictions.decoder.weight', 'cls.predictions.transform.dense.bias', 'cls.seq_relationship.weight', 'cls.predictions.transform.LayerNorm.weight', 'cls.seq_relationship.bias', 'cls.predictions.bias', 'cls.predictions.transform.dense.weight', 'cls.predictions.transform.LayerNorm.bias']\n",
            "- This IS expected if you are initializing BertModel from the checkpoint of a model trained on another task or with another architecture (e.g. initializing a BertForSequenceClassification model from a BertForPreTraining model).\n",
            "- This IS NOT expected if you are initializing BertModel from the checkpoint of a model that you expect to be exactly identical (initializing a BertForSequenceClassification model from a BertForSequenceClassification model).\n"
          ]
        },
        {
          "output_type": "stream",
          "name": "stdout",
          "text": [
            "[\"British filmmaker and climate activist Richard Curtis has announced the launch of a new campaign, which calls on the UK's top high five street banks to stop financing oil, gas, and coal expansion. The...\"]\n"
          ]
        },
        {
          "output_type": "stream",
          "name": "stderr",
          "text": [
            "Some weights of the model checkpoint at yiyanghkust/finbert-pretrain were not used when initializing BertForMaskedLM: ['cls.seq_relationship.bias', 'cls.seq_relationship.weight']\n",
            "- This IS expected if you are initializing BertForMaskedLM from the checkpoint of a model trained on another task or with another architecture (e.g. initializing a BertForSequenceClassification model from a BertForPreTraining model).\n",
            "- This IS NOT expected if you are initializing BertForMaskedLM from the checkpoint of a model that you expect to be exactly identical (initializing a BertForSequenceClassification model from a BertForSequenceClassification model).\n",
            "Some weights of the model checkpoint at bert-base-uncased were not used when initializing BertModel: ['cls.predictions.decoder.weight', 'cls.predictions.transform.dense.bias', 'cls.seq_relationship.weight', 'cls.predictions.transform.LayerNorm.weight', 'cls.seq_relationship.bias', 'cls.predictions.bias', 'cls.predictions.transform.dense.weight', 'cls.predictions.transform.LayerNorm.bias']\n",
            "- This IS expected if you are initializing BertModel from the checkpoint of a model trained on another task or with another architecture (e.g. initializing a BertForSequenceClassification model from a BertForPreTraining model).\n",
            "- This IS NOT expected if you are initializing BertModel from the checkpoint of a model that you expect to be exactly identical (initializing a BertForSequenceClassification model from a BertForSequenceClassification model).\n"
          ]
        },
        {
          "output_type": "stream",
          "name": "stdout",
          "text": [
            "['A charity wants to collect 2,000 toys as it celebrates 20 years of collecting Christmas presents for children in need.', '', 'The Coalition for the Protection of Children is partnering with HSBC Bermuda for the fifth year to spread Christmas joy through their annual Toys for Tots campaign.', '', 'The charity said it hoped this year’s event – the 20th annual toy drive – would garner at least 2,000 donations to help meet increased demand.', '', 'Kelly Hunt, the coalition’s executive director, said: “The past two years have been particularly stressful for those who are struggling to make ends meet.', '', '“Unfortunately, we are still noticing significant numbers of low-income households in Bermuda that are accessing our services for basic needs and have seen an increase of 159 per cent in families since before the pandemic.', '', '“Thankfully, Bermuda has always demonstrated its philanthropic spirit each year and helps to alleviate some of that stress over the holiday period. Now more than ever, we hope that people will support the families who need assistance.”', '', 'In addition to toys, the charity hopes to receive donations of diapers, baby formula, bulk toiletry items, utility and grocery vouchers, gift certificates, school uniforms and school supplies.', '', 'Judy Doidge of HSBC Bermuda said: “HSBC is proud to support the coalition in one of the longest-running and impactful initiatives serving our community over the holidays.', '', '“We are excited to be a part of this 20-year milestone that offers many families a bit of relief and cheer over the holidays.', '', '“Additionally, and for its sixth year, HSBC has committed to donate an estimated 150 grocery hampers and vouchers to families for the holidays, with HSBC volunteers also supporting the charity throughout the appeal.”', '', 'The Toys for Tots campaign launched island-wide on November 21 and will continue until December 9.', '', 'Ms Hunt added: “We look forward to working with HSBC to deliver some holiday cheer to our families again on this our 20th anniversary year of this initiative.', '', '“The CPC continues to be grateful for the generous support from the community for the Toys for Tots programme. We would like to thank everyone who has participated in this initiative over the years.”', '', 'Donated items can be dropped off at Annex Toys, Price Rite, Gorham’s, Arnold’s Discount Warehouse, People’s Pharmacy and at the Harborview Centre, Somerset and St George’s HSBC bank branches.']\n"
          ]
        },
        {
          "output_type": "stream",
          "name": "stderr",
          "text": [
            "Some weights of the model checkpoint at yiyanghkust/finbert-pretrain were not used when initializing BertForMaskedLM: ['cls.seq_relationship.bias', 'cls.seq_relationship.weight']\n",
            "- This IS expected if you are initializing BertForMaskedLM from the checkpoint of a model trained on another task or with another architecture (e.g. initializing a BertForSequenceClassification model from a BertForPreTraining model).\n",
            "- This IS NOT expected if you are initializing BertForMaskedLM from the checkpoint of a model that you expect to be exactly identical (initializing a BertForSequenceClassification model from a BertForSequenceClassification model).\n",
            "Some weights of the model checkpoint at bert-base-uncased were not used when initializing BertModel: ['cls.predictions.decoder.weight', 'cls.predictions.transform.dense.bias', 'cls.seq_relationship.weight', 'cls.predictions.transform.LayerNorm.weight', 'cls.seq_relationship.bias', 'cls.predictions.bias', 'cls.predictions.transform.dense.weight', 'cls.predictions.transform.LayerNorm.bias']\n",
            "- This IS expected if you are initializing BertModel from the checkpoint of a model trained on another task or with another architecture (e.g. initializing a BertForSequenceClassification model from a BertForPreTraining model).\n",
            "- This IS NOT expected if you are initializing BertModel from the checkpoint of a model that you expect to be exactly identical (initializing a BertForSequenceClassification model from a BertForSequenceClassification model).\n"
          ]
        },
        {
          "output_type": "stream",
          "name": "stdout",
          "text": [
            "['Ashurst advised HAWE Hydraulik SE (HAWE) on the conclusion of a new syndicated loan agreement. Bayerische Landesbank, Commerzbank AG, Deutsche Bank AG and HSBC Trinkaus & Burkhardt AG participated in equal parts as Mandated Lead Arrangers and Bookrunners in the syndicated loan. Commerzbank took on the role of documentation agent, while Deutsche Bank was mandated as an administrative agent. The new syndicated loan agreement has a term of 5 years and a volume of €130m.', '', 'HAWE, with headquarters in Aschheim near Munich, focuses on hydraulic components and systems. The company generated an annual turnover of €461m last year with over 2,600 employees. With the new loan agreement, HAWE replaces the existing syndicated loan. Overall, the conditions have been significantly improved compared to the old agreement. Deutsche Bank and HSBC have joined the banking group as new lenders. HAWE is increasing its financial capacity and internationalising its financing partners with the new syndicated loan, which becomes a strategic tool in support of the global growth strategy.', '', 'The Ashurst team was led by partner Anne Grewlich and counsel Sabrina Bremer. They were assisted by senior transaction lawyer Petra Schott (all Global Loans, Frankfurt).', '', 'Ashurst’s German banking and finance practice advises both banks and alternative lenders, private equity investors and companies on domestic and cross-border acquisition, real estate, asset and infrastructure / project finance as well as on financial restructuring and corporate lending.', '', '/Public Release. This material from the originating organization/author(s) may be of a point-in-time nature, edited for clarity, style and length. The views and opinions expressed are those of the author(s).']\n"
          ]
        },
        {
          "output_type": "stream",
          "name": "stderr",
          "text": [
            "Some weights of the model checkpoint at yiyanghkust/finbert-pretrain were not used when initializing BertForMaskedLM: ['cls.seq_relationship.bias', 'cls.seq_relationship.weight']\n",
            "- This IS expected if you are initializing BertForMaskedLM from the checkpoint of a model trained on another task or with another architecture (e.g. initializing a BertForSequenceClassification model from a BertForPreTraining model).\n",
            "- This IS NOT expected if you are initializing BertForMaskedLM from the checkpoint of a model that you expect to be exactly identical (initializing a BertForSequenceClassification model from a BertForSequenceClassification model).\n",
            "Some weights of the model checkpoint at bert-base-uncased were not used when initializing BertModel: ['cls.predictions.decoder.weight', 'cls.predictions.transform.dense.bias', 'cls.seq_relationship.weight', 'cls.predictions.transform.LayerNorm.weight', 'cls.seq_relationship.bias', 'cls.predictions.bias', 'cls.predictions.transform.dense.weight', 'cls.predictions.transform.LayerNorm.bias']\n",
            "- This IS expected if you are initializing BertModel from the checkpoint of a model trained on another task or with another architecture (e.g. initializing a BertForSequenceClassification model from a BertForPreTraining model).\n",
            "- This IS NOT expected if you are initializing BertModel from the checkpoint of a model that you expect to be exactly identical (initializing a BertForSequenceClassification model from a BertForSequenceClassification model).\n"
          ]
        },
        {
          "output_type": "stream",
          "name": "stdout",
          "text": [
            "['Rory McIlroy ended the season top of the DP World Tour rankings for a fourth time', '', 'The schedule for the 2023 DP World Tour season has been announced, with a minimum of 39 tournaments in 26 countries as part of a bumper calendar.', '', 'DP World Tour members will compete for an overall prize fund of $144.2m across events outside the majors and WGC-Dell Technologies Match Play, with new tournaments added to an already global schedule.', '', 'A new tournament in Japan and a return to Korea for the first time since 2013 are among the changes to the calendar, while the Italian Open moves to May and the Irish Open will take place in September.', '', 'Please use Chrome browser for a more accessible video player Robert MacIntyre defeated Matt Fitzpatrick in a play-off to win the Italian Open Robert MacIntyre defeated Matt Fitzpatrick in a play-off to win the Italian Open', '', 'A three-week summer break has been included in the schedule after The Open in July, following player feedback, while the names and venues of several tournaments are set to be announced in the coming months.', '', 'The campaign begins on November 24 with events in Australia and South Africa, less than 96 hours after the conclusion of the 2022 season, with the 12-month calendar running through until the DP World Tour Championship in November 2023.', '', 'McIlroy will be hoping for further success on the DP World Tour', '', 'Full 2023 DP World Tour schedule (as announced on November 3):', '', '*Denotes Rolex Series events', '', 'November', '', '24-27 - Joburg Open - Houghton GC, Johannesburg, South Africa', '', '24-27 - Fortinet Australian PGA Championship - Royal Queensland GC, Brisbane, Australia', '', 'Live DP World Tour Golf Live on', '', 'December', '', '1-4 - Investec South African Open Championship - Blair Atholl Golf & Equestrian Estate, Lanseria, Johannesburg, South Africa', '', '1-4 - ISPS Handa Australian Open - Victoria GC, Melbourne and Kingston Heath GC, Melbourne', '', '8-11 - Alfred Dunhill Championship - Leopard Creek CC, Malelane, South Africa', '', '15-18 - AfrAsia Bank Mauritius Open - Mont Choisy Le Golf, Grand Baie, Mauritius', '', 'January 2023', '', '13-15 - Hero Cup - Abu Dhabi GC, Abu Dhabi, UAE', '', 'Please use Chrome browser for a more accessible video player European captain Luke Donald says the new Hero Cup will help prepare European golfers for the Ryder Cup later that year European captain Luke Donald says the new Hero Cup will help prepare European golfers for the Ryder Cup later that year', '', '19-22 - Abu Dhabi HSBC Championship - Yas Links Abu Dhabi, Abu Dhabi, UAE*', '', '26-29 - Dubai Desert Classic - Emirates GC, Dubai, UAE*', '', 'February', '', '2-5 - Ras Al Khaimah Classic - Al Hamra GC, Ras Al Khaimah, UAE', '', '9-12 - Singapore Open - Laguna National Golf Resort Club, Singapore, Singapore', '', '16-19 - Thailand Classic - Amata Spring CC, Chon Buri, Bangkok, Thailand', '', '23-26 - Hero Indian Open - Venue TBC', '', 'March', '', '9-12 - Magical Kenya Open - Muthaiga GC, Nairobi, Kenya', '', '16-19 - South African event confirmed - venue TBC', '', '22-26 - WGC-Dell Technologies Match Play - Austin CC, Austin, Texas, USA', '', '23-26 - Jonsson Workwear Open - The Club at Steyn City, Johannesburg, South Africa', '', 'April', '', '6-9 - The Masters - Augusta National GC, Augusta, Georgia, USA', '', 'Please use Chrome browser for a more accessible video player Highlights from day four of the 2022 Masters at Augusta Highlights from day four of the 2022 Masters at Augusta', '', '20-23 - ISPS Handa Championship - PGM Ishioka GC, Omitama, Japan', '', '27-30 - Korean event confirmed - venue TBC', '', 'May', '', '4-7 - Italian Open - Marco Simone GC, Rome, Italy', '', '11-14 - Soudal Open - Rinkven International GC, Antwerp, Belgium', '', '18-21 - PGA Championship - Oak Hill CC, Rochester, New York, USA', '', 'Please use Chrome browser for a more accessible video player The best of the action from the final round of the PGA Championship at Southern Hills The best of the action from the final round of the PGA Championship at Southern Hills', '', '25-28 - Dutch Open - Bernardus Golf, Cromvoirt, Netherlands', '', 'June', '', '1-4 - Porsche European Open - Green Eagle Golf Courses, Hamburg, Germany', '', '8-11 - Volvo Car Scandinavian Mixed - Ullna G&CC, Stockholm, Sweden', '', '15-18 - US Open - The Los Angeles CC, Los Angeles, USA', '', '22-25 - BMW International Open - Golfclub München Eichenried, Munich, Germany', '', '29-July 2 - Betfred British Masters - The Belfry, Sutton Coldfield, England', '', 'July', '', '6-9 - Made in HimmerLand - HimmerLand, Farsø, Denmark', '', '13-16 - Genesis Scottish Open - The Renaissance Club, North Berwick, Scotland*', '', '13-16 - Barbasol Championship - Keene Trace GC, Nicholasville, KY, USA', '', '20-23 - The 151st Open - Royal Liverpool GC, Hoylake, England', '', 'Please use Chrome browser for a more accessible video player The best of the action from a thrilling final round of The 150th Open Championship from St Andrews The best of the action from a thrilling final round of The 150th Open Championship from St Andrews', '', '20-23 - Barracuda Championship - Tahoe Mt. Club, Truckee, California, USA', '', 'August', '', '17-20 - ISPS Handa World Invitational presented by AVIV Clinics - Galgorm Castle, Co Antrim, Northern Ireland', '', '24-27 - D+D Real Czech Masters - Albatross Golf Resort, Prague, Czech Republic', '', '31-September 3 - Omega European Masters - Crans-sur-Sierre GC, Crans Montana, Switzerland', '', 'September', '', '7-10 - Horizon Irish Open - The K Club, Straffan, Co. Kildare, Ireland', '', '14-17 - BMW PGA Championship - Wentworth Club, Virginia Water, Surrey, England*', '', 'Please use Chrome browser for a more accessible video player The best of the action from the final round of the BMW PGA Championship at Wentworth The best of the action from the final round of the BMW PGA Championship at Wentworth', '', '21-24 - Cazoo Open de France - Le Golf National, Saint-Quentin-en-Yvelines, France', '', '29-October 1 - Ryder Cup - Marco Simone GC, Rome, Italy', '', 'October', '', '5-8 - Alfred Dunhill Links Championship - Old Course St. Andrews, Carnoustie Golf Links and Kingsbarns Golf Links, Scotland', '', '12-15 - Acciona Open de España presented by Madrid - Club de Campo Villa de Madrid, Madrid, Spain', '', 'November', '', '9-12 - Nedbank Golf Challenge - Gary Player CC, Sun City, South Africa', '', '16-19 - DP World Tour Championship - Jumeirah Golf Estates, Earth Course, Dubai, UAE*', '', 'Watch the 2023 DP World Tour season - including the Ryder Cup - live on Sky Sports!']\n"
          ]
        },
        {
          "output_type": "stream",
          "name": "stderr",
          "text": [
            "Some weights of the model checkpoint at yiyanghkust/finbert-pretrain were not used when initializing BertForMaskedLM: ['cls.seq_relationship.bias', 'cls.seq_relationship.weight']\n",
            "- This IS expected if you are initializing BertForMaskedLM from the checkpoint of a model trained on another task or with another architecture (e.g. initializing a BertForSequenceClassification model from a BertForPreTraining model).\n",
            "- This IS NOT expected if you are initializing BertForMaskedLM from the checkpoint of a model that you expect to be exactly identical (initializing a BertForSequenceClassification model from a BertForSequenceClassification model).\n",
            "Some weights of the model checkpoint at bert-base-uncased were not used when initializing BertModel: ['cls.predictions.decoder.weight', 'cls.predictions.transform.dense.bias', 'cls.seq_relationship.weight', 'cls.predictions.transform.LayerNorm.weight', 'cls.seq_relationship.bias', 'cls.predictions.bias', 'cls.predictions.transform.dense.weight', 'cls.predictions.transform.LayerNorm.bias']\n",
            "- This IS expected if you are initializing BertModel from the checkpoint of a model trained on another task or with another architecture (e.g. initializing a BertForSequenceClassification model from a BertForPreTraining model).\n",
            "- This IS NOT expected if you are initializing BertModel from the checkpoint of a model that you expect to be exactly identical (initializing a BertForSequenceClassification model from a BertForSequenceClassification model).\n"
          ]
        },
        {
          "output_type": "stream",
          "name": "stdout",
          "text": [
            "['The content you are trying to view is exclusive to our subscribers.', '', 'To unlock this article:']\n"
          ]
        },
        {
          "output_type": "stream",
          "name": "stderr",
          "text": [
            "Some weights of the model checkpoint at yiyanghkust/finbert-pretrain were not used when initializing BertForMaskedLM: ['cls.seq_relationship.bias', 'cls.seq_relationship.weight']\n",
            "- This IS expected if you are initializing BertForMaskedLM from the checkpoint of a model trained on another task or with another architecture (e.g. initializing a BertForSequenceClassification model from a BertForPreTraining model).\n",
            "- This IS NOT expected if you are initializing BertForMaskedLM from the checkpoint of a model that you expect to be exactly identical (initializing a BertForSequenceClassification model from a BertForSequenceClassification model).\n",
            "Some weights of the model checkpoint at bert-base-uncased were not used when initializing BertModel: ['cls.predictions.decoder.weight', 'cls.predictions.transform.dense.bias', 'cls.seq_relationship.weight', 'cls.predictions.transform.LayerNorm.weight', 'cls.seq_relationship.bias', 'cls.predictions.bias', 'cls.predictions.transform.dense.weight', 'cls.predictions.transform.LayerNorm.bias']\n",
            "- This IS expected if you are initializing BertModel from the checkpoint of a model trained on another task or with another architecture (e.g. initializing a BertForSequenceClassification model from a BertForPreTraining model).\n",
            "- This IS NOT expected if you are initializing BertModel from the checkpoint of a model that you expect to be exactly identical (initializing a BertForSequenceClassification model from a BertForSequenceClassification model).\n"
          ]
        },
        {
          "output_type": "stream",
          "name": "stdout",
          "text": [
            "['(Updates with size, launch, demand, final spread)', '', 'DUBAI, Nov 22 (Reuters) - Dubai Islamic Bank sold $750 million of its debut sustainable Islamic bond on Tuesday, a bank document showed.', '', 'The sukuk, which mature in five years, were sold at 155 basis points (bps) over U.S. Treasuries, tightened from initial guidance of around 175 bps over after demand topped $1.6 billion, the document showed.', '', 'Bank ABC, Dubai Islamic Bank, Emirates NBD Capital , First Abu Dhabi Bank, KFH Capital, HSBC, Sharjah Islamic Bank and Standard Chartered are arranging the debt sale.', '', 'The deal comes as issuers in the Gulf - where international bond sales have plummeted this year amid enduring volatility and rising rates - pounce on windows of opportunity to issue debt in choppy markets.', '', \"Dubai's Mashreq raised $500 million in Tier 2 bonds last Thursday, on the heels of a $700 million bond sale by Banque Saudi Fransi a day before. (Reporting by Yousef Saba; Editing by Christopher Cushing, Kirsten Donovan)\"]\n"
          ]
        },
        {
          "output_type": "stream",
          "name": "stderr",
          "text": [
            "Some weights of the model checkpoint at yiyanghkust/finbert-pretrain were not used when initializing BertForMaskedLM: ['cls.seq_relationship.bias', 'cls.seq_relationship.weight']\n",
            "- This IS expected if you are initializing BertForMaskedLM from the checkpoint of a model trained on another task or with another architecture (e.g. initializing a BertForSequenceClassification model from a BertForPreTraining model).\n",
            "- This IS NOT expected if you are initializing BertForMaskedLM from the checkpoint of a model that you expect to be exactly identical (initializing a BertForSequenceClassification model from a BertForSequenceClassification model).\n",
            "Some weights of the model checkpoint at bert-base-uncased were not used when initializing BertModel: ['cls.predictions.decoder.weight', 'cls.predictions.transform.dense.bias', 'cls.seq_relationship.weight', 'cls.predictions.transform.LayerNorm.weight', 'cls.seq_relationship.bias', 'cls.predictions.bias', 'cls.predictions.transform.dense.weight', 'cls.predictions.transform.LayerNorm.bias']\n",
            "- This IS expected if you are initializing BertModel from the checkpoint of a model trained on another task or with another architecture (e.g. initializing a BertForSequenceClassification model from a BertForPreTraining model).\n",
            "- This IS NOT expected if you are initializing BertModel from the checkpoint of a model that you expect to be exactly identical (initializing a BertForSequenceClassification model from a BertForSequenceClassification model).\n"
          ]
        },
        {
          "output_type": "stream",
          "name": "stdout",
          "text": [
            "['Consumers are concerned about the environment and climate change. There is an increased demand for \\'green\\' products and services that are less harmful to the environment. The supply of products of this nature has led to an increase in making false or misleading environmental claims in advertisements also known as \"greenwashing\". A recent ruling by the Advertising Standards Authority (ASA) in the UK illustrates the problems that can occur.', '', 'The Facts', '', 'Two posters for HSBC UK Bank plc (HSBC), were displayed at bus stops in Bristol and London in October 2021.The first poster featured an aerial image of waves crashing on a shore with text that stated \"Climate change doesn\\'t do borders. Neither do rising sea levels. That\\'s why HSBC is aiming to provide up to $1 trillion in financing and investment globally to help our clients transition to net zero\". The second poster featured an image of tree growth rings with text that stated \"Climate changes doesn\\'t do borders. So in the UK , we\\'re helping to plant 2 million trees which will lock in 1.25 million tonnes of carbon over their lifetime\".', '', \"The ASA received numerous complaints. The advertisements were challenged on the basis that they were misleading because they omitted significant information about HSBC's contribution to carbon dioxide and greenhouse gas emissions.\", '', \"HSBC said it had been making the claim in the first poster since 2020 directed at providing financing and investment globally to help some of its clients' transition to net zero by 2030. HSBC said that the financing of greenhouse gas-emitting industries was required during the transition to net zero, and so their continued financing of those industries was not in conflict with the aims of a transition to net zero.\", '', 'The claim in the second poster related to a four-year partnership HSBC had entered into with the National Trust , worth Ł4 million, to create 2,000 hectares of carbon-rich woodland. Under that partnership HSBC endeavoured to plant two million trees by 2025, which according to the Woodland Carbon Code, and based on the average 100-year lifespan of a tree, would lock in 1.25 million tonnes of carbon.', '', 'HSBC said it believed the claims made highlighted two tangible and specific short-to-medium term initiatives, capable of quantifiable measurement, and would not be seen as commenting, in a broader sense, on their green credentials or environmental contribution.', '', 'The Code that ASA applies requires that the basis of environmental claims must be clear and that unqualified claims can mislead if they omit significant information.', '', 'The ASA determined that consumers would understand the claims \" HSBC is aiming to provide up to $1 trillion in financing and investment globally to help our clients transition to net zero\" and \"we\\'re helping to plant 2 million trees which will lock in 1.25 million tonnes of carbon in their lifetime\" to mean that HSBC was making, and intended to make, a positive overall environmental contribution as a company. As part of that contribution, consumers would understand that HSBC was committed to ensuring its business and lending model would help support businesses\\' transition to models that supported net zero targets. Additionally, they would understand that HSBC was undertaking an environmentally beneficial activity by planting trees which would contribute towards the sequestration of greenhouse gases in the atmosphere. Using imagery from the natural world, and in particular the image of waves crashing on a beach, contributed to that impression.', '', \"Despite the initiatives highlighted in the posters HSBC was continuing to significantly finance investments in businesses and industries that emitted notable levels of carbon dioxide and other greenhouse gasses. The ASA did not consider consumers would know that was the case, and it was material information that was likely to affect consumers' understanding of the ads' overall message, and so should have been clarified in the ads. The ASA concluded that the posters omitted material information and were misleading.\", '', 'The claims in the posters were ordered not to appear again in the form complained of. HSBC was told to ensure that future marketing communications featuring environmental claims were adequately qualified and did not omit material information about its contribution to carbon dioxide and greenhouse gas emissions.', '', 'The Canadian Position', '', 'The Competition Bureau of Canada has said that it takes environmental claims seriously. The deceptive marketing provisions of the Competition Act prohibit businesses from making false or misleading claims to promote a service, product or business interest. Such claims include any messages, pictures, or verbal communications, including online and in-store advertisements, social media messages and promotional emails. To determine whether a claim is false or misleading, the courts consider the \"general impression\" conveyed, as well as the literal meaning. The Competition Act also prohibits performance claims that are not based on adequate and proper testing. This includes any form of statement, warranty or guarantee of a product\\'s performance, efficacy or length of life.', '', 'In the past the Bureau has attacked representations which are literally or technically true but fail to disclose essential information, so steps would likely be taken concerning representations similar to those made in the UK by HSBC .', '', 'The Commissioner of Competition has the option under the Act to enforce the misleading advertising provisions as civil matters reviewable by the Competition Tribunal or the civil courts, or as offences prosecuted in the criminal justice system. The choice to proceed with either regime is within the discretion of the Commissioner. Responding to an investigation under the Act is a significant matter.', '', 'Comment', '', 'Care should be taken to ensure that any environmental representations are reviewed by a knowledgeable individual for compliance with the Competition Act before such claims are made in public.', '', 'Toronto , October 2022', '', 'The content of this article is intended to provide a general guide to the subject matter. Specialist advice should be sought about your specific circumstances.']\n"
          ]
        },
        {
          "output_type": "stream",
          "name": "stderr",
          "text": [
            "Some weights of the model checkpoint at yiyanghkust/finbert-pretrain were not used when initializing BertForMaskedLM: ['cls.seq_relationship.bias', 'cls.seq_relationship.weight']\n",
            "- This IS expected if you are initializing BertForMaskedLM from the checkpoint of a model trained on another task or with another architecture (e.g. initializing a BertForSequenceClassification model from a BertForPreTraining model).\n",
            "- This IS NOT expected if you are initializing BertForMaskedLM from the checkpoint of a model that you expect to be exactly identical (initializing a BertForSequenceClassification model from a BertForSequenceClassification model).\n",
            "Some weights of the model checkpoint at bert-base-uncased were not used when initializing BertModel: ['cls.predictions.decoder.weight', 'cls.predictions.transform.dense.bias', 'cls.seq_relationship.weight', 'cls.predictions.transform.LayerNorm.weight', 'cls.seq_relationship.bias', 'cls.predictions.bias', 'cls.predictions.transform.dense.weight', 'cls.predictions.transform.LayerNorm.bias']\n",
            "- This IS expected if you are initializing BertModel from the checkpoint of a model trained on another task or with another architecture (e.g. initializing a BertForSequenceClassification model from a BertForPreTraining model).\n",
            "- This IS NOT expected if you are initializing BertModel from the checkpoint of a model that you expect to be exactly identical (initializing a BertForSequenceClassification model from a BertForSequenceClassification model).\n"
          ]
        },
        {
          "output_type": "stream",
          "name": "stdout",
          "text": [
            "['Shares of logistics services provider Delhivery rose after six days of consecutive fall today after brokerage Jefferies assigned a target price of Rs 700 apiece, 115% higher to the previous closing price. Delhivery stock gained 2.26 per cent intraday to Rs 333 against the previous close of Rs 325.65 on BSE. Delhivery stock is trading lower than the 5-day, 20-day, 50-day, 100-day and 200-day moving averages. Market cap of Delhivery rose to Rs 24,027 crore.', '', 'Total 32.27 lakh shares of the firm changed hands amounting to a turnover of Rs 104.88 crore on BSE. The stock had fallen 13.02 per cent in the last six sessions. It hit a record low of Rs 317 in the previous session. In a month, the stock has fallen 17.63%.', '', 'Jefferies is bullish on the stock with a target price of Rs 700.', '', 'The B2C business is seeing temporary vs structural slowdown, Jefferies said adding that B2B ramp-up will be done with profitability focus. The brokerage believes current stock price has taken into account 6-8% express parcel growth in the next 3-5 years against 25% plus levels in the past.', '', 'However, HSBC has cut its target price to Rs 455 against Rs 710 for Delhivery with a buy call.', '', 'HSBC said that consecutive weak quarters have shattered street’s confidence on near/medium-term growth for Delhivery. E-commerce industry growth has slowed in India & has impacted Delhivery too. But that has been taken into account in the price.', '', 'Also Read: Delhivery stock hits all-time low on Rs 607-crore bulk deal', '', 'Market share loss for Delhivery is not a structural worry, HSBC added', '', 'Amol Athawale, Deputy Vice-President - Technical Research, Kotak Securities, said, \"In this quarter so far, the stock has corrected nearly 45 per cent. The stock consistently faced selling pressure at higher levels. Lower top formation on intraday charts and correction continuation formation on daily charts indicated further weakness from the current levels. We are of the view that the short-term texture of the stock is weak but oversold. For now, as long as the stock is trading below Rs 365 or 20-day SMA (Simple Moving Average), the weak wave is likely to continue and below the same, it could slip to Rs 300-280 levels. On the flip side, a quick pullback rally is possible if it succeeds to trade above Rs 340, and above that, it could move up to Rs 350-360.\"', '', \"Also Read: Delhivery shares fall for sixth straight session, hit record low? Here's what experts say\", '', 'A R Ramachandran from Tips2trades said, \"Anchor investors exiting the stock despite decent Q2 FY23 results. Forecasts of lower economic growth in the coming year have led to a consistently sharp fall in Delhivery stock price. Even though the Delhivery stock price is technically very oversold, investors should wait for a daily close above 339 to buy for targets between Rs 380 and Rs 405 in the near term. Next lower support would be at Rs 297.\"', '', 'Also Read: Share Market News Live: Sensex rises over 150 points on positive global cues, Nifty tops 18,300; Keystone Realtors to debut today']\n"
          ]
        },
        {
          "output_type": "stream",
          "name": "stderr",
          "text": [
            "Some weights of the model checkpoint at yiyanghkust/finbert-pretrain were not used when initializing BertForMaskedLM: ['cls.seq_relationship.bias', 'cls.seq_relationship.weight']\n",
            "- This IS expected if you are initializing BertForMaskedLM from the checkpoint of a model trained on another task or with another architecture (e.g. initializing a BertForSequenceClassification model from a BertForPreTraining model).\n",
            "- This IS NOT expected if you are initializing BertForMaskedLM from the checkpoint of a model that you expect to be exactly identical (initializing a BertForSequenceClassification model from a BertForSequenceClassification model).\n",
            "Some weights of the model checkpoint at bert-base-uncased were not used when initializing BertModel: ['cls.predictions.decoder.weight', 'cls.predictions.transform.dense.bias', 'cls.seq_relationship.weight', 'cls.predictions.transform.LayerNorm.weight', 'cls.seq_relationship.bias', 'cls.predictions.bias', 'cls.predictions.transform.dense.weight', 'cls.predictions.transform.LayerNorm.bias']\n",
            "- This IS expected if you are initializing BertModel from the checkpoint of a model trained on another task or with another architecture (e.g. initializing a BertForSequenceClassification model from a BertForPreTraining model).\n",
            "- This IS NOT expected if you are initializing BertModel from the checkpoint of a model that you expect to be exactly identical (initializing a BertForSequenceClassification model from a BertForSequenceClassification model).\n"
          ]
        },
        {
          "output_type": "stream",
          "name": "stdout",
          "text": [
            "['']\n"
          ]
        },
        {
          "output_type": "stream",
          "name": "stderr",
          "text": [
            "Some weights of the model checkpoint at yiyanghkust/finbert-pretrain were not used when initializing BertForMaskedLM: ['cls.seq_relationship.bias', 'cls.seq_relationship.weight']\n",
            "- This IS expected if you are initializing BertForMaskedLM from the checkpoint of a model trained on another task or with another architecture (e.g. initializing a BertForSequenceClassification model from a BertForPreTraining model).\n",
            "- This IS NOT expected if you are initializing BertForMaskedLM from the checkpoint of a model that you expect to be exactly identical (initializing a BertForSequenceClassification model from a BertForSequenceClassification model).\n",
            "Some weights of the model checkpoint at bert-base-uncased were not used when initializing BertModel: ['cls.predictions.decoder.weight', 'cls.predictions.transform.dense.bias', 'cls.seq_relationship.weight', 'cls.predictions.transform.LayerNorm.weight', 'cls.seq_relationship.bias', 'cls.predictions.bias', 'cls.predictions.transform.dense.weight', 'cls.predictions.transform.LayerNorm.bias']\n",
            "- This IS expected if you are initializing BertModel from the checkpoint of a model trained on another task or with another architecture (e.g. initializing a BertForSequenceClassification model from a BertForPreTraining model).\n",
            "- This IS NOT expected if you are initializing BertModel from the checkpoint of a model that you expect to be exactly identical (initializing a BertForSequenceClassification model from a BertForSequenceClassification model).\n"
          ]
        },
        {
          "output_type": "stream",
          "name": "stdout",
          "text": [
            "['Ken Research', '', 'The report covers Qatar Auto Industry, Qatar Banking sector, Qatar Automobile Industry, Automobile finance sector Qatar, Automobile loan market, Qatar Auto Market, Qatar Auto Investment Market, Qatar Auto accounts Market, Commercial bank of Qatar Auto Finance, International Bank of Qatar vehicle loan, HSBC vehicle loan, Auto finance Interest, Qatar passenger car market, auto finance commercial vehicle type.', '', 'Gurugram, India, Nov. 22, 2022 (GLOBE NEWSWIRE) --', '', 'Qatar will host the FIFA World Cup 2022 which is expected to increase the tourist flow (more than 1 mn tourists are expected to arrive in Qatar by the end of 2022) which will directly benefit the local business and automobile sector of the country.', '', 'Electric vehicles are eco-friendly and help Qatar in sustainable development and maintaining green environment. To maintain the environment, the banks are proving attractive offers of up to 100% loan to Qatari population on electric vehicle purchasing. It motivates the people to opt for electric vehicle.', '', 'The Qatar Financial Center provides an opportunity for local and international companies to establish a wide range of banking, asset management, and insurance businesses under a legal and regulatory system based on global best practices.', '', 'Embracing Digitalization: Automotive Financing Companies are increasingly moving towards higher technological advancements to improve operational profits as well as customer experience. Car buyers are becoming increasingly willing to buy their next car online and to value “one-stop-shop” solutions offering guidance and personalization.', '', 'Change in Population Demographics: Permanent Population Committee (PPC) launched population policy in 2017 in order to promote growth of Qatari population. This aims to reduce recruitment of foreign nationals and therefore will reduce expat population by increasing labor regulations. Various measures will be implemented to eliminate surplus laborers in the country, including conducting studies on illegal and domestic workers. As expats demand the majority of auto loans, these policies are affecting the market negatively.', '', 'Story continues', '', 'Government Policies: National Vision 2030 by the Qatar government has massive plans for the economy targeting to improve employment figures that might be fruitful for the auto finance market as well. Qatar National FinTech Taskforce was set up in 2017 to create a strong and sustainable FinTech ecosystem. As part of the FinTech Strategy, QCB has launched “sandbox” technology for computer security. As part of Covid-19 measures, QCB also infused capital into MSMEs of systemically important sectors to neutralize impact of Covid-19.', '', 'Analysts at Ken Research in their latest publication “ Qatar Auto Finance Market Outlook to 2026F- Driven by Increasing Vehicle Prices and Low-Interest Rate in The Country ” By Ken Research observed that Qatar auto finance market has witnessed a decline in growth rate over the historical period. The shortage of semi-conductor chips, reduction of expatriate population and impact of COVID 19 has caused reduction in demand for auto loans in the country. However, the rising Auto Finance consciousness among the population, along with increasing loan facilities, customer taste, and preference, and implementation of favorable government rules & regulations is expected to contribute to the market growth over the forecasted period. The Qatar Auto Finance Market is expected to grow @2.8% CAGR over the forecasted period 2021-2026F.', '', 'Key Segments Covered:-', '', 'Qatar Auto Finance:', '', 'By Type of Vehicle financed', '', 'New', '', 'Used', '', 'By Tenure (for New and Old Vehicles)', '', '1 year', '', '2 years', '', '3 years and more', '', 'By Type of Lender', '', 'Banks', '', 'OEMs/Captives', '', 'NBFC', '', 'By Type of Lending Bank', '', 'Government', '', 'Private', '', 'By Type of Commercial and Passenger Motor Vehicle', '', 'Commercial', '', 'Passenger', '', 'By type of commercial motor Vehicle', '', 'LMV', '', 'MCV', '', 'HCV', '', 'By Type of passenger motor vehicle', '', '4W', '', '2W and others', '', 'Request For Free Sample Report @ https://www.kenresearch.com/sample-report.php?Frmdetails=NTk2MDY2', '', 'Key Target Audience', '', 'Qatar Auto Industries', '', 'Government Bodies & Regulating Authorities', '', 'Finance Industry', '', 'Car company', '', 'Automobile dealers and users', '', 'Time Period Captured in the Report:-', '', 'Historical Year: 2016-2021', '', 'Base Year: 2021', '', 'Forecast Period: 2021– 2026F', '', 'Companies Covered:-', '', 'Qatar National Bank', '', 'Doha Bank', '', 'Commercial Bank', '', 'Al khaliji commercial bank', '', 'Ahli bank', '', 'Qatar Islamic International Bank', '', 'Qatar Islamic Bank', '', 'Dukhan bank', '', 'Masraf Al Rayan', '', 'HSBC', '', 'Standard Chartered Check', '', 'International Bank of Qatar', '', 'First Finance Company', '', 'Al Jazeera Finance', '', 'Key Topics Covered in the Report:-', '', 'Qatar Automotive Market Overview', '', 'Ecosystem of Qatar Auto Finance Market', '', 'Qatar Auto Finance Value Chain Analysis', '', 'Business Cycle and Timeline of Major Banks in Qatar Auto Finance Market', '', 'Market Sizing Analysis of Qatar Auto Finance Market, 2016-2021', '', 'Qatar Auto Finance Market Segmentation', '', 'SWOT Analysis of Qatar Auto Finance Industry', '', 'Trends and Developments in Qatar Auto Finance Industry', '', 'Decision Making Parameter for Selecting Car Loan Vendor', '', 'Issues and Challenges in Qatar Auto Finance Industry', '', 'Growth Drivers of the Qatar Auto Finance Market', '', 'Government Policies and Initiatives for Qatar Auto Finance Industry', '', 'COVID-19 Impact on Qatar Auto Finance Market', '', 'Competition Framework for Qatar Auto Finance', '', 'Future Outlook and Projections of the Qatar Auto Finance Market', '', 'Market Opportunities and Analyst Recommendations', '', 'For more insights on the market intelligence, refer to the link below:-', '', 'Qatar Auto Finance Market Outlook to 2026F', '', 'Related Reports By Ken Research:-', '', 'Philippines Auto Finance Market Outlook to 2026- Driven by change in consumer spending, ease in provision of loans, improving technology and government support', '', 'Philippines is 2nd fastest growing vehicle market in ASEAN with Commercial vehicles with higher market share and the market has observed the maximum growth in the automotive industry in ASEAN Countries, with automotive loan outstanding growth in the last five years mainly due to population increase and economic growth. The Auto Finance Market is in the Growing Phase with Banking Institutions and NBFCs leading the Market and Online Aggregators Platforms entering the Market with the Introduction of Online Personal Loan aggregator Platforms in the market to provide ease in vendor selection process like BSP pay, Pesopay are among the top aggregator, Better Technological Infrastructure in the form of growing Auto Finance platforms and rising usage of AI and ML for better Auto lending experience will lead the future growth of the industry. Innovative Business Models such as Subscription Lending & shared ownership may grow in future to increase car financing. The market is still expected to a good growth in Auto Finance Market of Philippines.', '', 'Indonesia Auto Finance Industry Outlook to 2026- Driven by growing digital penetration, evolving vehicle ownership characteristics and rebates by the Government amidst systematically regulated vehicle ownership and financing policies by the regulatory authorities', '', 'Increasing Population, growing income levels and recovery of the economy post Covid is leading to a rise in sales of vehicles which is expected to drive the rise in Auto Outstanding Loans in Indonesia. Hence, The Auto Finance Market is in the Growing Phase with Banking Institutions and NBFCs leading the Market and Online Aggregators Platforms entering the Market. And the Introduction of Online Personal Loan Aggregator Platforms in the market to provide ease in vendor selection process like BSP pay, Pesopay are among the top aggregator, Better Technological Infrastructure in the form of growing Auto Finance platforms, digital installment payment system, zero or very less face-to-face dealing, and simpler procedure, e.g. - Kredit Pintarand rising usage of AI and ML, for better Auto lending experience will lead the future growth of the industry. Innovative Business Models such as Subscription Lending & shared ownership may grow in future to increase car financing. The market is still expected to a good growth in Auto Finance Market of Indonesia.', '', 'Vietnam Auto Finance Market Outlook to 2026F– Driven by Digital Penetration and Dominance of Banks along with a Shift in Consumer Preference form 2W to 4W', '', 'Vietnam’s Cold Chain market was evaluated to grow at a double-digit CAGR during 2016-2021. The market is currently in the growth stage owing to lower interest rates along with increasing government initiatives and investments in the sector. The Pandemic has resulted in the slow growth of Auto Finance where Vietnamese preferred to own a private vehicle to avoid public transportation. The growing penetration of the internet and smartphones and the rising purchasing power of the middle class resulted in changing preferences of consumers which are some of the key factors fueling the Auto Finance Market in Vietnam.', '', 'Egypt Auto Finance Market Outlook to 2027– Driven by women drivers entering the market, digital advancements and initiatives by the Government', '', 'Urbanization is expected to rise to more than 60% by 2030, which means increased demand for jobs, housing, infrastructure, and social services such as public transportation. Moreover, the recent increase in the cost of public transportation has led to increase in demand for personal vehicles. Egypt Auto Finance Market is currently at the growth stage and the market is currently increasing at a double digit CAGR owing because of lower interest rate, growing disposable income and easy financing options.', '', 'KSA Auto Finance Market Outlook to 2026F– Driven by Women Entering the Market, Growing Private Entities and Initiatives by the Government', '', 'KSA Auto Finance Market is in growing stage, being driven by banks and NBFCs and introduction of Fin-Tech companies and online personal loan aggregator platforms. The credit disbursed market fell and experienced a downfall due to factors like Covid outbreak and semiconductor chip shortage. Automotive sales were also affected by higher shipping costs in 2021 as prices of shipping containers container freight rates have risen steeply. Higher prices were shifted to the consumers leading to increase in credit disbursed. However, the market is recovering and registering a positive growth since 2021. Entry of women drivers in the market has led to an increase in the total cars sold and hence the credit disbursed in automotive sector.', '', 'Follow Us –', '', 'LinkedIn | Instagram | Facebook | Twitter | YouTube', '', '', '', '']\n"
          ]
        },
        {
          "output_type": "stream",
          "name": "stderr",
          "text": [
            "Some weights of the model checkpoint at yiyanghkust/finbert-pretrain were not used when initializing BertForMaskedLM: ['cls.seq_relationship.bias', 'cls.seq_relationship.weight']\n",
            "- This IS expected if you are initializing BertForMaskedLM from the checkpoint of a model trained on another task or with another architecture (e.g. initializing a BertForSequenceClassification model from a BertForPreTraining model).\n",
            "- This IS NOT expected if you are initializing BertForMaskedLM from the checkpoint of a model that you expect to be exactly identical (initializing a BertForSequenceClassification model from a BertForSequenceClassification model).\n",
            "Some weights of the model checkpoint at bert-base-uncased were not used when initializing BertModel: ['cls.predictions.decoder.weight', 'cls.predictions.transform.dense.bias', 'cls.seq_relationship.weight', 'cls.predictions.transform.LayerNorm.weight', 'cls.seq_relationship.bias', 'cls.predictions.bias', 'cls.predictions.transform.dense.weight', 'cls.predictions.transform.LayerNorm.bias']\n",
            "- This IS expected if you are initializing BertModel from the checkpoint of a model trained on another task or with another architecture (e.g. initializing a BertForSequenceClassification model from a BertForPreTraining model).\n",
            "- This IS NOT expected if you are initializing BertModel from the checkpoint of a model that you expect to be exactly identical (initializing a BertForSequenceClassification model from a BertForSequenceClassification model).\n"
          ]
        },
        {
          "output_type": "stream",
          "name": "stdout",
          "text": [
            "['A judge has ordered that any reference to Daren Debono’s previous convictions be removed from the bill of indictment, in view of the prosecution’s failure to exhibit copies of the judgments in question.', '', 'In a decision handed down yesterday, the Criminal Court presided by Madam Justice Consuelo Scerri Herrera upheld Debono’s objection to the head of indictment regarding recidivism (repeat offending).', '', 'The offence of recidivism had been included in the bill of indictment in view of Debono’s long criminal history. Besides his indictment in connection with the 2010 armed robbery of a van transporting cash to HSBC’s Qormi head office in June 2010, Debono had also been sentenced to five years’ imprisonment in 2013 for carrying out a hold up at an Attard jewellers in 2011.', '', 'Before that, also in 2011, he had been sentenced to imprisonment for two years and nine months, after he was found to be in possession of 83 grams of cocaine in 2003.', '', 'In 2015, together with Alfred Degiorgio ‘il-Fulu’, and Vincent Muscat ‘il-Kohhu’, Debono had been cleared of a 2004 armed robbery in Marsa.', '', 'But amongst Debono’s nine preliminary pleas, filed in 2018, his lawyers noted that the best evidence to support the head of indictment relating to recidivism - one of the 63 heads of indictment - in this case, a copy of previous judgments finding Debono guilty of other armed robberies, had not been exhibited in the acts of the case by the prosecution.', '', 'In the 82-page judgement, the judge pointed out that recidivism was a standalone offence, which needed to be proven just like any other.', '', '“This court has seen all of the acts of these proceedings and scrutinised them one by one, and nowhere does it show that some judgement has been exhibited as evidence of recidivism,” she said. As no evidence of the offence emerged from the acts, the court ordered that every reference to recidivism be removed from the bill of indictment.', '', 'Lawyer Edward Gatt represented Debono.']\n"
          ]
        },
        {
          "output_type": "stream",
          "name": "stderr",
          "text": [
            "Some weights of the model checkpoint at yiyanghkust/finbert-pretrain were not used when initializing BertForMaskedLM: ['cls.seq_relationship.bias', 'cls.seq_relationship.weight']\n",
            "- This IS expected if you are initializing BertForMaskedLM from the checkpoint of a model trained on another task or with another architecture (e.g. initializing a BertForSequenceClassification model from a BertForPreTraining model).\n",
            "- This IS NOT expected if you are initializing BertForMaskedLM from the checkpoint of a model that you expect to be exactly identical (initializing a BertForSequenceClassification model from a BertForSequenceClassification model).\n",
            "Some weights of the model checkpoint at bert-base-uncased were not used when initializing BertModel: ['cls.predictions.decoder.weight', 'cls.predictions.transform.dense.bias', 'cls.seq_relationship.weight', 'cls.predictions.transform.LayerNorm.weight', 'cls.seq_relationship.bias', 'cls.predictions.bias', 'cls.predictions.transform.dense.weight', 'cls.predictions.transform.LayerNorm.bias']\n",
            "- This IS expected if you are initializing BertModel from the checkpoint of a model trained on another task or with another architecture (e.g. initializing a BertForSequenceClassification model from a BertForPreTraining model).\n",
            "- This IS NOT expected if you are initializing BertModel from the checkpoint of a model that you expect to be exactly identical (initializing a BertForSequenceClassification model from a BertForSequenceClassification model).\n"
          ]
        },
        {
          "output_type": "stream",
          "name": "stdout",
          "text": [
            "['Why did this happen?', '', 'Please make sure your browser supports JavaScript and cookies and that you are not blocking them from loading. For more information you can review our Terms of Service and Cookie Policy.']\n"
          ]
        },
        {
          "output_type": "stream",
          "name": "stderr",
          "text": [
            "Some weights of the model checkpoint at yiyanghkust/finbert-pretrain were not used when initializing BertForMaskedLM: ['cls.seq_relationship.bias', 'cls.seq_relationship.weight']\n",
            "- This IS expected if you are initializing BertForMaskedLM from the checkpoint of a model trained on another task or with another architecture (e.g. initializing a BertForSequenceClassification model from a BertForPreTraining model).\n",
            "- This IS NOT expected if you are initializing BertForMaskedLM from the checkpoint of a model that you expect to be exactly identical (initializing a BertForSequenceClassification model from a BertForSequenceClassification model).\n",
            "Some weights of the model checkpoint at bert-base-uncased were not used when initializing BertModel: ['cls.predictions.decoder.weight', 'cls.predictions.transform.dense.bias', 'cls.seq_relationship.weight', 'cls.predictions.transform.LayerNorm.weight', 'cls.seq_relationship.bias', 'cls.predictions.bias', 'cls.predictions.transform.dense.weight', 'cls.predictions.transform.LayerNorm.bias']\n",
            "- This IS expected if you are initializing BertModel from the checkpoint of a model trained on another task or with another architecture (e.g. initializing a BertForSequenceClassification model from a BertForPreTraining model).\n",
            "- This IS NOT expected if you are initializing BertModel from the checkpoint of a model that you expect to be exactly identical (initializing a BertForSequenceClassification model from a BertForSequenceClassification model).\n"
          ]
        },
        {
          "output_type": "stream",
          "name": "stdout",
          "text": [
            "['They said the message from the police would only have links to the Action Fraud site, and would only be sent on 24 and 25 November. Any other texts should be regarded as fraudulent themselves.']\n"
          ]
        },
        {
          "output_type": "stream",
          "name": "stderr",
          "text": [
            "Some weights of the model checkpoint at yiyanghkust/finbert-pretrain were not used when initializing BertForMaskedLM: ['cls.seq_relationship.bias', 'cls.seq_relationship.weight']\n",
            "- This IS expected if you are initializing BertForMaskedLM from the checkpoint of a model trained on another task or with another architecture (e.g. initializing a BertForSequenceClassification model from a BertForPreTraining model).\n",
            "- This IS NOT expected if you are initializing BertForMaskedLM from the checkpoint of a model that you expect to be exactly identical (initializing a BertForSequenceClassification model from a BertForSequenceClassification model).\n",
            "Some weights of the model checkpoint at bert-base-uncased were not used when initializing BertModel: ['cls.predictions.decoder.weight', 'cls.predictions.transform.dense.bias', 'cls.seq_relationship.weight', 'cls.predictions.transform.LayerNorm.weight', 'cls.seq_relationship.bias', 'cls.predictions.bias', 'cls.predictions.transform.dense.weight', 'cls.predictions.transform.LayerNorm.bias']\n",
            "- This IS expected if you are initializing BertModel from the checkpoint of a model trained on another task or with another architecture (e.g. initializing a BertForSequenceClassification model from a BertForPreTraining model).\n",
            "- This IS NOT expected if you are initializing BertModel from the checkpoint of a model that you expect to be exactly identical (initializing a BertForSequenceClassification model from a BertForSequenceClassification model).\n"
          ]
        },
        {
          "output_type": "stream",
          "name": "stdout",
          "text": [
            "['The recent consumer price index report has made investors more risk-on when it comes to high yield fixed income ETFs. After months of outflows, 47 different so-called junk bonds brought in $12 billion of investor capital in October.', '', '“Investors are assuming that the worst is over when it comes to Fed hikes,” said Eric Balchunas, senior ETF analyst at Bloomberg. “People feel like it’s safe to come out again.”', '', 'The latest CPI report showed that consumer prices rose 0.4% for the month and 7.7% for the 12 months ending October 31, lower than Wall Street estimates. The Fed raised the target range for the federal funds rate by 75 basis points this month, marking the sixth consecutive rate hike and the fourth increase of 0.75%.', '', 'The FOMC will meet on December 13–14. Analysts expect the U.S. central bank will approve another rate hike, but this time it is expected to be an increase of 50 basis points rather than another 0.75% raise.', '', 'Balchunas added that another reason investors are returning to high yield ETFs is because they’re currently yielding an average of 8%. “These used to yield half that,” he said.', '', 'Launched in October of 2021 to provide precision ETF exposure for fixed income investors, BondBloxx Investment Management co-founded by ETF industry leaders Leland Clemons, Joanna Gallegos, Tony Kelly, Mark Miller, Brian O’Donnell, and Elya Schwartzman. The team has collectively built and launched over 350 ETFs at firms including BlackRock, JPMorgan, State Street, Northern Trust, and HSBC.', '', '“Our conversations with investors have reinforced what we already knew – there is significant demand for more targeted fixed income products,” said Kelly. “Our initial product suites aim to create a full toolkit for high-yield investors looking to implement their specific views on the market, and we anticipate extending this approach to other fixed income asset classes.”', '', 'Since February, BondBloxx has launched 19 fixed income ETFs, including seven industry sector-specific high-yield bond ETFs, three ratings-specific high-yield bond ETFs, eight target-duration U.S. Treasury ETFs, and one short-duration emerging market bond ETF.', '', '“BondBloxx has continued to launch innovative products since its founding and has expanded the ETF universe with targeted products where there is white space,” said Todd Rosenbluth, head of research at VettaFi. “Their broad range of fixed income funds makes them a firm to watch as the asset category grows.”', '', 'For more news, information, and analysis, visit the Institutional Income Strategies Channel.']\n"
          ]
        },
        {
          "output_type": "stream",
          "name": "stderr",
          "text": [
            "Some weights of the model checkpoint at yiyanghkust/finbert-pretrain were not used when initializing BertForMaskedLM: ['cls.seq_relationship.bias', 'cls.seq_relationship.weight']\n",
            "- This IS expected if you are initializing BertForMaskedLM from the checkpoint of a model trained on another task or with another architecture (e.g. initializing a BertForSequenceClassification model from a BertForPreTraining model).\n",
            "- This IS NOT expected if you are initializing BertForMaskedLM from the checkpoint of a model that you expect to be exactly identical (initializing a BertForSequenceClassification model from a BertForSequenceClassification model).\n",
            "Some weights of the model checkpoint at bert-base-uncased were not used when initializing BertModel: ['cls.predictions.decoder.weight', 'cls.predictions.transform.dense.bias', 'cls.seq_relationship.weight', 'cls.predictions.transform.LayerNorm.weight', 'cls.seq_relationship.bias', 'cls.predictions.bias', 'cls.predictions.transform.dense.weight', 'cls.predictions.transform.LayerNorm.bias']\n",
            "- This IS expected if you are initializing BertModel from the checkpoint of a model trained on another task or with another architecture (e.g. initializing a BertForSequenceClassification model from a BertForPreTraining model).\n",
            "- This IS NOT expected if you are initializing BertModel from the checkpoint of a model that you expect to be exactly identical (initializing a BertForSequenceClassification model from a BertForSequenceClassification model).\n"
          ]
        },
        {
          "output_type": "stream",
          "name": "stdout",
          "text": [
            "['According to this latest study, In 2022 the growth of Working Capital Management Market is projected to reach Multimillion USD by 2028, In comparison to 2021, Over the next Seven years the Working Capital Management Market will register a spectacular spike in CAGR in terms of revenue, In this study, 2021 has been considered as the base year and 2022 to 2028 as the forecast period to estimate the market size for Working Capital Management.', '', '“Working Capital Management Market” Insights 2022 By Types, Applications, Regions and Forecast to 2028. The global Working Capital Management market size is projected to Reach Multimillion USD by 2028, in comparison to 2022, with unexpected CAGR during the forecast period, the Working Capital Management Market Report Contains Full TOC, Tables and Figures, and Chart with In-depth Analysis Pre and Post COVID-19 Market Outbreak Impact Analysis and Situation by Region.', '', 'Working Capital Management Market – Covid-19 Impact and Recovery Analysis:', '', 'We have been tracking the direct impact of COVID-19 on this market, as well as the indirect impact from other industries. This report analyzes the impact of the pandemic on the Working Capital Management market from a Global and Regional perspective. The report outlines the market size, market characteristics, and market growth for Working Capital Management industry, categorized by type, application, and consumer sector. In addition, it provides a comprehensive analysis of aspects involved in market development before and after the Covid-19 pandemic. Report also conducted a PESTEL analysis in the industry to study key influencers and barriers to entry.', '', 'Final Report will add the analysis of the impact of COVID-19 on this industry.', '', 'TO UNDERSTAND HOW COVID-19 IMPACT IS COVERED IN THIS REPORT – REQUEST SAMPLE', '', 'It also provides accurate information and cutting-edge analysis that is necessary to formulate an ideal business plan, and to define the right path for rapid growth for all involved industry players. With this information, stakeholders will be more capable of developing new strategies, which focus on market opportunities that will benefit them, making their business endeavours profitable in the process.', '', 'Get a Sample PDF of report –https://www.360researchreports.com/enquiry/request-sample/19632453', '', 'Working Capital Management Market – Competitive and Segmentation Analysis:', '', 'This Working Capital Management Market report offers detailed analysis supported by reliable statistics on sale and revenue by players for the period 2017-2022. The report also includes company description, major business, Working Capital Management product introduction, recent developments and Working Capital Management sales by region, type, application and by sales channel.', '', 'The major players covered in the Working Capital Management market report are:', '', 'JP Morgan Asset Management', '', 'HSBC Global Asset Management', '', 'Citibank', '', 'Deutsche Bank', '', 'Standard Chartered', '', 'UniCredit', '', 'SEB', '', 'BNY Mellon', '', 'Raiffeisen Bank', '', 'Bank of America Merrill Lynch', '', 'Short Summery About Working Capital Management Market :', '', 'The Global Working Capital Management market is anticipated to rise at a considerable rate during the forecast period, between 2022 and 2028. In 2021, the market is growing at a steady rate and with the rising adoption of strategies by key players, the market is expected to rise over the projected horizon.', '', 'Highlights', '', 'The global Working Capital Management market is projected to reach USD million by 2028 from an estimated USD million in 2022, at a magnificent CAGR during 2023 and 2028.', '', 'North American market for Working Capital Management is estimated to increase from USD million in 2022 to reach USD million by 2028, at a Impressive CAGR during the forecast period of 2023 through 2028.', '', 'Asia-Pacific market for Working Capital Management is estimated to increase from USD million in 2022 to reach USD million by 2028, at a magnificent CAGR during the forecast period of 2022 through 2028.', '', 'The global market for Working Capital Management in Wired Telephone Network System is estimated to increase from USD million in 2022 to USD million by 2028, at a Impressive CAGR during the forecast period of 2022 through 2028.', '', 'Considering the economic change due to COVID-19 and Russia-Ukraine War Influence, Working Capital Management, which accounted for % of the global market of Working Capital Management in 2021, is expected to reach million USD by 2028, growing at a revised CAGR of % from 2022 to 2028.', '', 'Report Scope', '', 'This report aims to provide a comprehensive presentation of the global market for Working Capital Management, with both quantitative and qualitative analysis, to help readers develop business/growth strategies, assess the market competitive situation, analyze their position in the current marketplace, and make informed business decisions regarding Working Capital Management.', '', 'The Working Capital Management market size, estimations, and forecasts are provided in terms of output/shipments (K Units) and revenue (USD millions), considering 2021 as the base year, with history and forecast data for the period from 2017 to 2028. This report segments the global Working Capital Management market comprehensively. Regional market sizes, concerning products by types, by application, and by players, are also provided. The influence of COVID-19 and the Russia-Ukraine War were considered while estimating market sizes.', '', 'For a more in-depth understanding of the market, the report provides profiles of the competitive landscape, key competitors, and their respective market ranks. The report also discusses technological trends and new product developments.', '', 'The report will help the Working Capital Management manufacturers, new entrants, and industry chain related companies in this market with information on the revenues, production, and average price for the overall market and the sub-segments across the different segments, by company, product type, application, and regions.', '', 'Key Companies and Market Share Insights', '', 'In this section, the readers will gain an understanding of the key players competing. This report has studied the key growth strategies, such as innovative trends and developments, intensification of product portfolio, mergers and acquisitions, collaborations, new product innovation, and geographical expansion, undertaken by these participants to maintain their presence. Apart from business strategies, the study includes current developments and key financials. The readers will also get access to the data related to global revenue, price, and sales by manufacturers for the period 2017-2022. This all-inclusive report will certainly serve the clients to stay updated and make effective decisions in their businesses.', '', 'Get a Sample Copy of the Working Capital Management Market Report 2022', '', 'Report further studies the market development status and future Working Capital Management Market trend across the world. Also, it splits Working Capital Management market Segmentation by Type and by Applications to fully and deeply research and reveal market profile and prospects.', '', 'On the basis of product type this report displays the production, revenue, price, market share and growth rate of each type, primarily split into:', '', 'Gross Working Capital (GWC)', '', 'Net Working Capital (NWC)', '', 'On the basis of the end users/applications this report focuses on the status and outlook for major applications/end users, consumption (sales), market share and growth rate for each application, including:', '', 'Retail and Consumer Industry', '', 'Energy, Utilities, and Mining Industry', '', 'Industrial Manufacturing Industry', '', 'Engineering and Construction Industry', '', 'Technology Industry', '', 'Automotive Industry', '', 'Working Capital Management Market – Regional Analysis:', '', 'Geographically, this report is segmented into several key regions, with sales, revenue, market share and growth Rate of Working Capital Management in these regions, from 2015 to 2027, covering', '', 'North America (United States, Canada and Mexico)', '', 'Europe (Germany, UK, France, Italy, Russia and Turkey etc.)', '', 'Asia-Pacific (China, Japan, Korea, India, Australia, Indonesia, Thailand, Philippines, Malaysia and Vietnam)', '', 'South America (Brazil, Argentina, Columbia etc.)', '', 'Middle East and Africa (Saudi Arabia, UAE, Egypt, Nigeria and South Africa)', '', 'Some of the key questions answered in this report:', '', 'What is the global ( North America, Europe, Asia-Pacific, South America, Middle East and Africa ) sales value, production value, consumption value, import and export of Working Capital Management?', '', ') sales value, production value, consumption value, import and export of Working Capital Management? Who are the global key manufacturers of the Working Capital Management Industry? How is their operating situation (capacity, production, sales, price, cost, gross, and revenue)?', '', 'What are the Working Capital Management market opportunities and threats faced by the vendors in the global Working Capital Management Industry?', '', 'Which application/end-user or product type may seek incremental growth prospects? What is the market share of each type and application?', '', 'What focused approach and constraints are holding the Working Capital Management market?', '', 'What are the different sales, marketing, and distribution channels in the global industry?', '', 'What are the upstream raw materials and manufacturing equipment of Working Capital Management along with the manufacturing process of Working Capital Management?', '', 'What are the key market trends impacting the growth of the Working Capital Management market?', '', 'Economic impact on the Working Capital Management industry and development trend of the Working Capital Management industry.', '', 'What are the market opportunities, market risk, and market overview of the Working Capital Management market?', '', 'What are the key drivers, restraints, opportunities, and challenges of the Working Capital Management market, and how they are expected to impact the market?', '', 'What is the Working Capital Management market size at the regional and country-level?', '', 'Our research analysts will help you to get customized details for your report, which can be modified in terms of a specific region, application or any statistical details. In addition, we are always willing to comply with the study, which triangulated with your own data to make the market research more comprehensive in your perspective.', '', 'Inquire more and share questions if any before the purchase on this report at –https://www.360researchreports.com/enquiry/pre-order-enquiry/19632453', '', 'Detailed TOC of Global Working Capital Management Market Research Report 2022', '', '1 Working Capital Management Market Overview', '', '1.1 Product Overview and Scope of Working Capital Management', '', '1.2 Working Capital Management Segment by Type', '', '1.2.1 Global Working Capital Management Market Size Growth Rate Analysis by Type 2022 VS 2028', '', '1.3 Working Capital Management Segment by Application', '', '1.3.1 Global Working Capital Management Consumption Comparison by Application: 2022 VS 2028', '', '1.4 Global Market Growth Prospects', '', '1.4.1 Global Working Capital Management Revenue Estimates and Forecasts (2017-2028)', '', '1.4.2 Global Working Capital Management Production Capacity Estimates and Forecasts (2017-2028)', '', '1.4.3 Global Working Capital Management Production Estimates and Forecasts (2017-2028)', '', '1.5 Global Market Size by Region', '', '1.5.1 Global Working Capital Management Market Size Estimates and Forecasts by Region: 2017 VS 2021 VS 2028', '', '1.5.2 North America Working Capital Management Estimates and Forecasts (2017-2028)', '', '1.5.3 Europe Working Capital Management Estimates and Forecasts (2017-2028)', '', '1.5.4 China Working Capital Management Estimates and Forecasts (2017-2028)', '', '1.5.5 Japan Working Capital Management Estimates and Forecasts (2017-2028)', '', '2 Market Competition by Manufacturers', '', '2.1 Global Working Capital Management Production Capacity Market Share by Manufacturers (2017-2022)', '', '2.2 Global Working Capital Management Revenue Market Share by Manufacturers (2017-2022)', '', '2.3 Working Capital Management Market Share by Company Type (Tier 1, Tier 2 and Tier 3)', '', '2.4 Global Working Capital Management Average Price by Manufacturers (2017-2022)', '', '2.5 Manufacturers Working Capital Management Production Sites, Area Served, Product Types', '', '2.6 Working Capital Management Market Competitive Situation and Trends', '', '2.6.1 Working Capital Management Market Concentration Rate', '', '2.6.2 Global 5 and 10 Largest Working Capital Management Players Market Share by Revenue', '', '2.6.3 Mergers and Acquisitions, Expansion', '', '3 Production Capacity by Region', '', '3.1 Global Production Capacity of Working Capital Management Market Share by Region (2017-2022)', '', '3.2 Global Working Capital Management Revenue Market Share by Region (2017-2022)', '', '3.3 Global Working Capital Management Production Capacity, Revenue, Price and Gross Margin (2017-2022)', '', '3.4 North America Working Capital Management Production', '', '3.4.1 North America Working Capital Management Production Growth Rate (2017-2022)', '', '3.4.2 North America Working Capital Management Production Capacity, Revenue, Price and Gross Margin (2017-2022)', '', '3.5 Europe Working Capital Management Production', '', '3.5.1 Europe Working Capital Management Production Growth Rate (2017-2022)', '', '3.5.2 Europe Working Capital Management Production Capacity, Revenue, Price and Gross Margin (2017-2022)', '', '3.6 China Working Capital Management Production', '', '3.6.1 China Working Capital Management Production Growth Rate (2017-2022)', '', '3.6.2 China Working Capital Management Production Capacity, Revenue, Price and Gross Margin (2017-2022)', '', '3.7 Japan Working Capital Management Production', '', '3.7.1 Japan Working Capital Management Production Growth Rate (2017-2022)', '', '3.7.2 Japan Working Capital Management Production Capacity, Revenue, Price and Gross Margin (2017-2022)', '', '4 Global Working Capital Management Consumption by Region', '', '4.1 Global Working Capital Management Consumption by Region', '', '4.1.1 Global Working Capital Management Consumption by Region', '', '4.1.2 Global Working Capital Management Consumption Market Share by Region', '', '4.2 North America', '', '4.2.1 North America Working Capital Management Consumption by Country', '', '4.2.2 United States', '', '4.2.3 Canada', '', '4.3 Europe', '', '4.3.1 Europe Working Capital Management Consumption by Country', '', '4.3.2 Germany', '', '4.3.3 France', '', '4.3.4 U.K.', '', '4.3.5 Italy', '', '4.3.6 Russia', '', '4.4 Asia Pacific', '', '4.4.1 Asia Pacific Working Capital Management Consumption by Region', '', '4.4.2 China', '', '4.4.3 Japan', '', '4.4.4 South Korea', '', '4.4.5 China Taiwan', '', '4.4.6 Southeast Asia', '', '4.4.7 India', '', '4.4.8 Australia', '', '4.5 Latin America', '', '4.5.1 Latin America Working Capital Management Consumption by Country', '', '4.5.2 Mexico', '', '4.5.3 Brazil', '', 'Get a Sample Copy of the Working Capital Management Market Report 2022', '', '5 Segment by Type', '', '5.1 Global Working Capital Management Production Market Share by Type (2017-2022)', '', '5.2 Global Working Capital Management Revenue Market Share by Type (2017-2022)', '', '5.3 Global Working Capital Management Price by Type (2017-2022)', '', '6 Segment by Application', '', '6.1 Global Working Capital Management Production Market Share by Application (2017-2022)', '', '6.2 Global Working Capital Management Revenue Market Share by Application (2017-2022)', '', '6.3 Global Working Capital Management Price by Application (2017-2022)', '', '7 Key Companies Profiled', '', '7.1 Company', '', '7.1.1 Working Capital Management Corporation Information', '', '7.1.2 Working Capital Management Product Portfolio', '', '7.1. CWorking Capital Management Production Capacity, Revenue, Price and Gross Margin (2017-2022)', '', '7.1.4 Company’s Main Business and Markets Served', '', '7.1.5 Company’s Recent Developments/Updates', '', '8 Working Capital Management Manufacturing Cost Analysis', '', '8.1 Working Capital Management Key Raw Materials Analysis', '', '8.1.1 Key Raw Materials', '', '8.1.2 Key Suppliers of Raw Materials', '', '8.2 Proportion of Manufacturing Cost Structure', '', '8.3 Manufacturing Process Analysis of Working Capital Management', '', '8.4 Working Capital Management Industrial Chain Analysis', '', '9 Marketing Channel, Distributors and Customers', '', '9.1 Marketing Channel', '', '9.2 Working Capital Management Distributors List', '', '9.3 Working Capital Management Customers', '', '10 Market Dynamics', '', '10.1 Working Capital Management Industry Trends', '', '10.2 Working Capital Management Market Drivers', '', '10.3 Working Capital Management Market Challenges', '', '10.4 Working Capital Management Market Restraints', '', '11 Production and Supply Forecast', '', '11.1 Global Forecasted Production of Working Capital Management by Region (2023-2028)', '', '11.2 North America Working Capital Management Production, Revenue Forecast (2023-2028)', '', '11.3 Europe Working Capital Management Production, Revenue Forecast (2023-2028)', '', '11.4 China Working Capital Management Production, Revenue Forecast (2023-2028)', '', '11.5 Japan Working Capital Management Production, Revenue Forecast (2023-2028)', '', '12 Consumption and Demand Forecast', '', '12.1 Global Forecasted Demand Analysis of Working Capital Management', '', '12.2 North America Forecasted Consumption of Working Capital Management by Country', '', '12.3 Europe Market Forecasted Consumption of Working Capital Management by Country', '', '12.4 Asia Pacific Market Forecasted Consumption of Working Capital Management by Region', '', '12.5 Latin America Forecasted Consumption of Working Capital Management by Country', '', '13 Forecast by Type and by Application (2023-2028)', '', '13.1 Global Production, Revenue and Price Forecast by Type (2023-2028)', '', '13.1.1 Global Forecasted Production of Working Capital Management by Type (2023-2028)', '', '13.1.2 Global Forecasted Revenue of Working Capital Management by Type (2023-2028)', '', '13.1.3 Global Forecasted Price of Working Capital Management by Type (2023-2028)', '', '13.2 Global Forecasted Consumption of Working Capital Management by Application (2023-2028)', '', '13.2.1 Global Forecasted Production of Working Capital Management by Application (2023-2028)', '', '13.2.2 Global Forecasted Revenue of Working Capital Management by Application (2023-2028)', '', '13.2.3 Global Forecasted Price of Working Capital Management by Application (2023-2028)', '', '14 Research Finding and Conclusion', '', '15 Methodology and Data Source', '', '15.1 Methodology/Research Approach', '', '15.1.1 Research Programs/Design', '', '15.1.2 Market Size Estimation', '', '15.1.3 Market Breakdown and Data Triangulation', '', '15.2 Data Source', '', '15.2.1 Secondary Sources', '', '15.2.2 Primary Sources', '', '15.3 Author List', '', '15.4 Disclaimer', '', 'Continued….', '', 'Purchase this report (Price 3000 USD for a single-user license) –https://www.360researchreports.com/purchase/19632453', '', 'About Us:', '', '360 Research Reports is the credible source for gaining the market reports that will provide you with the lead your business needs. At 360 Research Reports, our objective is providing a platform for many top-notch market research firms worldwide to publish their research reports, as well as helping the decision makers in finding most suitable market research solutions under one roof. Our aim is to provide the best solution that matches the exact customer requirements. This drives us to provide you with custom or syndicated research reports.', '', 'Contact Us:', '', 'Web https://360researchreports.com', '', 'Email: [email protected]', '', 'Organization: 360 Research Reports', '', 'Phone: +44 20 3239 8187/ +14242530807', '', 'Our Other Reports :', '', 'Fire Valve Market', '', 'Dental Night Guard Market', '', 'Cat Furniture Products Market', '', 'Multifunctional Furniture Market', '', 'Zinc-Bromine Battery Market', '', 'Toys Market', '', 'Retinal Surgery Devices Market', '', 'IPL Hair Removal Market', '', 'Double Silver Low-emissivity Glass Market', '', 'Pole Saws Market', '', 'Press Release Distributed by The Express Wire', '', 'To view the original version on The Express Wire visit Working Capital Management Market Study Providing Information on Top Key Players | JP Morgan Asset Management, HSBC Global Asset Management, Citibank, Deutsche Bank And More']\n"
          ]
        },
        {
          "output_type": "stream",
          "name": "stderr",
          "text": [
            "Some weights of the model checkpoint at yiyanghkust/finbert-pretrain were not used when initializing BertForMaskedLM: ['cls.seq_relationship.bias', 'cls.seq_relationship.weight']\n",
            "- This IS expected if you are initializing BertForMaskedLM from the checkpoint of a model trained on another task or with another architecture (e.g. initializing a BertForSequenceClassification model from a BertForPreTraining model).\n",
            "- This IS NOT expected if you are initializing BertForMaskedLM from the checkpoint of a model that you expect to be exactly identical (initializing a BertForSequenceClassification model from a BertForSequenceClassification model).\n",
            "Some weights of the model checkpoint at bert-base-uncased were not used when initializing BertModel: ['cls.predictions.decoder.weight', 'cls.predictions.transform.dense.bias', 'cls.seq_relationship.weight', 'cls.predictions.transform.LayerNorm.weight', 'cls.seq_relationship.bias', 'cls.predictions.bias', 'cls.predictions.transform.dense.weight', 'cls.predictions.transform.LayerNorm.bias']\n",
            "- This IS expected if you are initializing BertModel from the checkpoint of a model trained on another task or with another architecture (e.g. initializing a BertForSequenceClassification model from a BertForPreTraining model).\n",
            "- This IS NOT expected if you are initializing BertModel from the checkpoint of a model that you expect to be exactly identical (initializing a BertForSequenceClassification model from a BertForSequenceClassification model).\n"
          ]
        },
        {
          "output_type": "stream",
          "name": "stdout",
          "text": [
            "['Brand Communication (film) Gold: Dance Like Everyone is Watching by Media Zoo for 55 / Redefined Silver: 1 in 8 by Inspired Films for NHS Breast Screening London Bronze: Volunteer With Us by Nowadays for Girlguiding Bronze: Seize The Moment by The Edge Picture Company for CBI', '', 'Brand Communication (live) Silver: Powered by Diversity by CTL Communications for Boehringer Ingelheim Bronze: Simrad NSX product Launch by Studio Giggle for Navico, Simrad', '', 'Internal Comms Gold: The Boxer by DRPG Silver: My Day App by Plastic Pictures for HSBC Silver: Unique People. Powerful Together. by Content Engine @ Shell Bronze: ASOS: ALL IN by Media Zoo', '', 'Best Comms Campaign Silver: Powered by Diversity by CTL Communications for Boehringer Ingelheim', '', 'Best Film/s in a Digital Campaign Silver: The Bank of London Launch Campaign by RD Content for The Bank of London Bronze: 1 in 8 by Inspired Films for NHS Breast Screening London Highly Commended: A Better Way to Live by DRPG for Redrow', '', 'Best Film/s in a Social Media Campaign Gold: Canon Crew Create by Itch Media Silver: WRAP Recycle Week 2021 by Radley Yeldar', '', 'Best Conference Gold: Trailblazers by CTL Communications Silver: BT Consumer Live 2022 by DRPG for BT Consumer Bronze: Deloitte Reconnect by Brands at Work for Deloitte', '', 'Reward and Recognition Silver: Vorwerk Annual Conference 2022 by TTA & Vorwerk for Vorwerk', '', 'Best Broadcast Event Silver: Achieving Breakthrough by CTL Communications Bronze: Credit Trends 2022 by Broadsword for Moody’s Investor Services', '', 'Best Documentary Gold: Building an Etopia by Media Zoo for Barclays Silver: Unique People. Powerful Together. By Content Engine @ Shell for Shell Bronze: Women in Engineering by Plastic Pictures for BT', '', 'Diversity and Inclusion Gold: ASOS: ALL IN by Media Zoo for ASOS Silver: Follow your voice by Clearhead for Milton Keynes College Bronze: Taylor Made Media AND International Men’s Day 2021 by The Edge Picture Company for Standard Chartered Bronze: Virgin Media O2+ Carers UK Partnership by Taylor Made Media Highly Commended: HSBC Roaring with Pride – Leigh’s Story by Media Zoo for HSBC', '', 'Health and Safety Gold: Acting Fast, Will Save Lives by Pukka Films Silver: Teenagers by The Edge Picture Company for Network Rail Bronze: Life Saving Rules by Content Engine @ Shell for Shell', '', 'Learning and Development Gold: Gambling with Lives – Education Resource by Pukka Films Silver: Acting Fast, Will Save Lives by Pukka Films Silver: Burberry Leather 101 by Media Zoo Bronze: Could the US dollar crash? by Capital.com Highly Commended: Protecting yourself from fraud by DRPG for Lloyds Banking Group', '', 'Sales of Products and Services Gold: A Better Way to Live by DRPG for Redrow Silver: Mitie Forte by Casual Films Bronze: PLINAZOLINÂ® Technology by The Edge Picture Company for Syngenta', '', 'Best Creative Concept Gold: Trailblazers by CTL Communications Silver: Senior Leaders’ Offsite by Live Union for National Grid Bronze: Deloitte Reconnect by Brands at Work for Deloitte', '', 'Best Use of Technology Gold: House of Surprises by Smyle for Samsung', '', 'Best Use of Video Content Gold: House of Surprises by Smyle for Samsung Bronze: Credit Trends 2022 by Broadsword for Moody’s Investor Services', '', 'Best Production Values Gold: Trailblazers by CTL Communications Silver: CVC Annual Investor Meeting by Studio Giggle for CVC Capital Partners', '', 'Best Execution Gold: Trailblazers by CTL Communications', '', 'Best Engagement Gold: Senior Leaders’ Offsite by Live Union for National Grid', '', 'Cinematography Gold: Burberry Leather 101 by Media Zoo Silver: FW44 Livery Reveal – Williams Racing by RD Content Bronze: Going Against the Grain – Arbikie by RD Content', '', 'Direction Gold: Lamborghini Style Guide by Taylor Made Media Silver: Be A Mate (series) by The Edge Picture Company for Network Rail in association with CALM Bronze: Seize the Moment by The Edge Picture Company for CBI Highly Commended: One More Good Day by Inspired Films for Alzheimer’s Society & Santander', '', 'Animation Gold: NHS Ethnic Minority Leader by Studio Giggle Silver: GSK Tech Film by Radley Yeldar for GSK Bronze: Dear Younger Me by Tigershark Ltd for Strathallan School', '', 'Editing Gold: The Boxer by DRPG Silver: My Day App by Plastic Pictures for HSBC Bronze: Imagination Technologies “Reach the Top” by Cheerful Twentyfirst', '', 'Script Gold: Opening Up by The Edge Picture Company for Network Rail Silver: Dance Like Everyone is Watching by Media Zoo for 55 / Redefined Bronze: 1 in 8 by Inspired Films for NHS Breast Screening London Highly Commended: Gambling with Lives – Education Resource by Pukka Films', '', 'Sound Silver: FW44 Livery Reveal – Williams Racing by RD Content Gold: The Boxer by DRPG', '', 'Best Use of a Smaller Budget Gold: Ramblers Responsible Wild Access Campaign by Heehaw for Ramblers Scotland Silver: Virgin Media O2 + Carers UK Partnership by Taylor Made Media Bronze: Are We Okay With This? by Pukka Films for CAGA', '', 'Innovation Silver: Reimagining Energy by Plastic Pictures for bp Bronze: Building an Etopia by Media Zoo for Barclays', '', 'The Realise Award Courtney Lilley', '', 'Grand Prix (film) The Boxer by DRPG']\n"
          ]
        },
        {
          "output_type": "stream",
          "name": "stderr",
          "text": [
            "Some weights of the model checkpoint at yiyanghkust/finbert-pretrain were not used when initializing BertForMaskedLM: ['cls.seq_relationship.bias', 'cls.seq_relationship.weight']\n",
            "- This IS expected if you are initializing BertForMaskedLM from the checkpoint of a model trained on another task or with another architecture (e.g. initializing a BertForSequenceClassification model from a BertForPreTraining model).\n",
            "- This IS NOT expected if you are initializing BertForMaskedLM from the checkpoint of a model that you expect to be exactly identical (initializing a BertForSequenceClassification model from a BertForSequenceClassification model).\n",
            "Some weights of the model checkpoint at bert-base-uncased were not used when initializing BertModel: ['cls.predictions.decoder.weight', 'cls.predictions.transform.dense.bias', 'cls.seq_relationship.weight', 'cls.predictions.transform.LayerNorm.weight', 'cls.seq_relationship.bias', 'cls.predictions.bias', 'cls.predictions.transform.dense.weight', 'cls.predictions.transform.LayerNorm.bias']\n",
            "- This IS expected if you are initializing BertModel from the checkpoint of a model trained on another task or with another architecture (e.g. initializing a BertForSequenceClassification model from a BertForPreTraining model).\n",
            "- This IS NOT expected if you are initializing BertModel from the checkpoint of a model that you expect to be exactly identical (initializing a BertForSequenceClassification model from a BertForSequenceClassification model).\n"
          ]
        },
        {
          "output_type": "stream",
          "name": "stdout",
          "text": [
            "['What is included in my trial?', '', 'During your trial you will have complete digital access to FT.com with everything in both of our Standard Digital and Premium Digital packages.', '', 'Standard Digital includes access to a wealth of global news, analysis and expert opinion. Premium Digital includes access to our premier business column, Lex, as well as 15 curated newsletters covering key business themes with original, in-depth reporting. For a full comparison of Standard and Premium Digital, click here.', '', 'Change the plan you will roll onto at any time during your trial by visiting the “Settings & Account” section.', '', 'What happens at the end of my trial?', '', 'If you do nothing, you will be auto-enrolled in our premium digital monthly subscription plan and retain complete access for $69 per month.', '', 'For cost savings, you can change your plan at any time online in the “Settings & Account” section. If you’d like to retain your premium access and save 20%, you can opt to pay annually at the end of the trial.', '', 'You may also opt to downgrade to Standard Digital, a robust journalistic offering that fulfils many user’s needs. Compare Standard and Premium Digital here.', '', 'Any changes made can be done at any time and will become effective at the end of the trial period, allowing you to retain full access for 4 weeks, even if you downgrade or cancel.']\n"
          ]
        },
        {
          "output_type": "stream",
          "name": "stderr",
          "text": [
            "Some weights of the model checkpoint at yiyanghkust/finbert-pretrain were not used when initializing BertForMaskedLM: ['cls.seq_relationship.bias', 'cls.seq_relationship.weight']\n",
            "- This IS expected if you are initializing BertForMaskedLM from the checkpoint of a model trained on another task or with another architecture (e.g. initializing a BertForSequenceClassification model from a BertForPreTraining model).\n",
            "- This IS NOT expected if you are initializing BertForMaskedLM from the checkpoint of a model that you expect to be exactly identical (initializing a BertForSequenceClassification model from a BertForSequenceClassification model).\n",
            "Some weights of the model checkpoint at bert-base-uncased were not used when initializing BertModel: ['cls.predictions.decoder.weight', 'cls.predictions.transform.dense.bias', 'cls.seq_relationship.weight', 'cls.predictions.transform.LayerNorm.weight', 'cls.seq_relationship.bias', 'cls.predictions.bias', 'cls.predictions.transform.dense.weight', 'cls.predictions.transform.LayerNorm.bias']\n",
            "- This IS expected if you are initializing BertModel from the checkpoint of a model trained on another task or with another architecture (e.g. initializing a BertForSequenceClassification model from a BertForPreTraining model).\n",
            "- This IS NOT expected if you are initializing BertModel from the checkpoint of a model that you expect to be exactly identical (initializing a BertForSequenceClassification model from a BertForSequenceClassification model).\n"
          ]
        },
        {
          "output_type": "stream",
          "name": "stdout",
          "text": [
            "['This year at ADIPEC, the world’s largest energy conference, Wood hosted a leadership roundtable to bring industry leaders together to discuss how the energy industry can achieve a sustainable balance between the demands for secure energy supply and the need for a just transition to net-zero.', '', 'Hosted in conjunction with Gulf Intelligence, the strategic session brought together senior leaders from across the industry, including ADNOC, OGCI, Aramco, HSBC and the Hydrogen Council, to consider growing energy security concerns amidst the current geopolitical, social and economic context.', '', 'As an established world leader in the energy sector, the Middle East is at the heart of this discussion and is already gaining significant momentum in its path to achieving 2030 ambitions. How can the industry scale up this transition at pace, decarbonise production, invest in clean energy and still supply energy to meet growing demand?', '', '“There was a clear urgency in the room, and indeed across the ADIPEC exhibition halls, that finding balance between energy security and energy transition was the top priority facing every part of the industry value chain, from national resource owners and their operating partners to midstream and downstream supply chains, with decarbonisation at the top of everyone’s list.” said Sean Evers, Managing Partner at Gulf Intelligence, and the moderator of the session.', '', 'Ensuring energy security means not only providing consistent access to energy, but also securing supplies at an affordable price. Producers across the globe are investing in technologies and prioritising energy efficiency to manage the increase in demand. However, this rapid increase in demand could lead to a rise in carbon and other emissions. Policy changes and government decarbonisation targets are placing pressure on producers to diversify their energy mix and accelerate the energy transition as well as drive investments in cleaner, modern energy.', '', 'Damon Hill, Wood’s President of Growth and Development for projects, and host of the session said, “It was evident from the discussion that fossil fuels will continue to play a major role in safeguarding a steady and reliable energy supply. However, to ensure we don’t undermine the efforts already in place to tackle climate change, the industry needs to continue addressing this challenge at pace and set their own strategies to reduce their carbon emissions throughout the value chain.”', '', 'Leaders around the table expanded on the topic regarding stronger climate targets and investment incentives, which the global environmental agenda has accelerated, and how this has created more momentum around hydrogen and CCUS in particular.', '', 'Damon added: “Hydrogen is an attractive energy source due to its cleaner burn and versatility and while the pipeline for these projects continues to grow, the deployment is trailing and production at scale is a new challenge facing the industry.', '', '“The Middle East is positioning to become one of the world’s major hydrogen hubs, specifically for the manufacturing of green hydrogen. Not only does the region have access to plenty of low-cost renewable sources of energy, but it has the capital required to integrate renewables into new and existing infrastructure.”', '', 'The roundtable concluded with an agreement that energy security and energy transition are not separate challenges. Delivering energy diversity through transition, digital integration as well as reducing emissions from existing energy sources are all key to ensuring the security and stability of energy supplies, now and in the future. It is crucial that the industry collaborates, invests and continues to commit to addressing these challenges to ensure a sustainable world for generations to come.', '', 'The output of the roundtable discussion is being collated into a whitepaper which will be released early next year.', '', 'Want to hear more insights from Wood on this topic? Listen to our latest podcast with Wood’s Technology Development Director, Richard Spires and Gulf Intelligence Managing Partner, Sean Evers, recorded live during ADIPEC 2022: Securing while transitioning energy: can we strike the balance? | Wood (woodplc.com)']\n"
          ]
        },
        {
          "output_type": "stream",
          "name": "stderr",
          "text": [
            "Some weights of the model checkpoint at yiyanghkust/finbert-pretrain were not used when initializing BertForMaskedLM: ['cls.seq_relationship.bias', 'cls.seq_relationship.weight']\n",
            "- This IS expected if you are initializing BertForMaskedLM from the checkpoint of a model trained on another task or with another architecture (e.g. initializing a BertForSequenceClassification model from a BertForPreTraining model).\n",
            "- This IS NOT expected if you are initializing BertForMaskedLM from the checkpoint of a model that you expect to be exactly identical (initializing a BertForSequenceClassification model from a BertForSequenceClassification model).\n",
            "Some weights of the model checkpoint at bert-base-uncased were not used when initializing BertModel: ['cls.predictions.decoder.weight', 'cls.predictions.transform.dense.bias', 'cls.seq_relationship.weight', 'cls.predictions.transform.LayerNorm.weight', 'cls.seq_relationship.bias', 'cls.predictions.bias', 'cls.predictions.transform.dense.weight', 'cls.predictions.transform.LayerNorm.bias']\n",
            "- This IS expected if you are initializing BertModel from the checkpoint of a model trained on another task or with another architecture (e.g. initializing a BertForSequenceClassification model from a BertForPreTraining model).\n",
            "- This IS NOT expected if you are initializing BertModel from the checkpoint of a model that you expect to be exactly identical (initializing a BertForSequenceClassification model from a BertForSequenceClassification model).\n"
          ]
        },
        {
          "output_type": "stream",
          "name": "stdout",
          "text": [
            "['Levent financial district, Istanbul Nicole Tung/Bloomberg', '', 'Saudi Arabia set to deposit $5 billion at Turkish central bank', '', 'Saudi Arabia is set to deposit $5 billion at Turkey\\'s central bank, a major boost for President Recep Tayyip Erdogan\\'s bid to keep the lira stable ahead of presidential elections next year. The kingdom is in the \"final\" stage of discussions to offer Turkey assistance, a Saudi Ministry of Finance spokesperson said, confirming an earlier report by Reuters. Turkey\\'s Ministry of Treasury and Finance also confirmed that the two countries are about to finalize the deposit deal. Almost certain to be inked soon, the agreement crowns a recent rapprochement that ended years of hostility between the Turkish and Saudi governments. It will also be the a major win for Erdogan since he turned to Gulf Arab states for financial help earlier this year. His finance chief Nureddin Nebati has led the efforts to secure assistance from the kingdom as well as Qatar and the United Arab Emirates. Erdogan told journalists earlier that Turkey\\'s official reserves would likely rise to $130 billion soon, up from the 2022 peak of $117.5 billion seen during the week of Nov. 11. —Matthew Martin, Beril Akman and Firat Kozok, Bloomberg News']\n"
          ]
        },
        {
          "output_type": "stream",
          "name": "stderr",
          "text": [
            "Some weights of the model checkpoint at yiyanghkust/finbert-pretrain were not used when initializing BertForMaskedLM: ['cls.seq_relationship.bias', 'cls.seq_relationship.weight']\n",
            "- This IS expected if you are initializing BertForMaskedLM from the checkpoint of a model trained on another task or with another architecture (e.g. initializing a BertForSequenceClassification model from a BertForPreTraining model).\n",
            "- This IS NOT expected if you are initializing BertForMaskedLM from the checkpoint of a model that you expect to be exactly identical (initializing a BertForSequenceClassification model from a BertForSequenceClassification model).\n",
            "Some weights of the model checkpoint at bert-base-uncased were not used when initializing BertModel: ['cls.predictions.decoder.weight', 'cls.predictions.transform.dense.bias', 'cls.seq_relationship.weight', 'cls.predictions.transform.LayerNorm.weight', 'cls.seq_relationship.bias', 'cls.predictions.bias', 'cls.predictions.transform.dense.weight', 'cls.predictions.transform.LayerNorm.bias']\n",
            "- This IS expected if you are initializing BertModel from the checkpoint of a model trained on another task or with another architecture (e.g. initializing a BertForSequenceClassification model from a BertForPreTraining model).\n",
            "- This IS NOT expected if you are initializing BertModel from the checkpoint of a model that you expect to be exactly identical (initializing a BertForSequenceClassification model from a BertForSequenceClassification model).\n"
          ]
        },
        {
          "output_type": "stream",
          "name": "stdout",
          "text": [
            "['MONTREAL, Nov. 22, 2022 /CNW Telbec/ - SNC-Lavalin Group Inc. (TSX: SNC) a fully integrated professional services and project management company with offices around the world, announced today that it has priced an offering of $300 million aggregate principal amount of 7.0% Series 7 unsecured debentures due June 12, 2026. The Series 7 Debentures are being offered through a syndicate of agents led by BMO Capital Markets, CIBC Capital Markets, National Bank Financial Markets, and Scotia Capital Inc. as joint bookrunners, and which also includes RBC Dominion Securities Inc., TD Securities Inc., BNP Paribas (Canada) Securities Inc., HSBC Securities (Canada) Inc., BofA Securities, SMBC Nikko, Citigroup Global Markets Canada Inc., and Desjardins Securities Inc. The Series 7 Debentures will be issued at par and closing is expected to occur on or about December 12, 2022, subject to customary closing conditions. SNC-Lavalin intends to use the net proceeds of the offering to repay existing indebtedness and for general corporate purposes.', '', 'The Series 7 Debentures will bear interest at a fixed annual rate of 7.0%, payable in equal semi-annual instalments, in arrears, on June 12 and December 12 of each year until maturity, commencing on June 12, 2023.', '', \"The Series 7 Debentures will be direct unsecured obligations of SNC-Lavalin, will rank pari passu with all other unsecured and unsubordinated indebtedness of SNC-Lavalin (including all of its other existing debentures as well as indebtedness under its existing main credit agreement) and will be guaranteed by the same subsidiaries that guarantee SNC-Lavalin's obligations under its existing main credit agreement and its other outstanding debentures.\", '', \"The Series 7 Debentures have been assigned a provisional rating of BB (high), with a stable trend by DBRS Limited (DBRS) and BB+ by Standard & Poor's (S&P), and they are being offered in each of the Provinces of Canada on a private placement basis in reliance upon exemptions from the prospectus requirements under applicable securities legislation. The Series 7 Debentures will be subject to a restricted period of four months and one day from the day of issuance in accordance with applicable securities laws.\", '', 'The Series 7 Debentures have not been and will not be qualified for sale to the public under applicable securities laws in Canada and, accordingly, any offer and sale of the Series 7 Debentures in Canada will be made on a basis which is exempt from the prospectus requirements of such securities laws. No securities regulatory authority has either approved or disapproved of the contents of this news release. The Series 7 Debentures have not been and will not be registered under the United States Securities Act of 1933, as amended (the U.S. Securities Act), or the securities laws of any other jurisdiction, and may not be offered or sold in the United States absent registration under, or an applicable exemption from the registration requirements of, the U.S. Securities Act. This news release shall not constitute an offer to sell or the solicitation of an offer to buy, nor shall there be any offer to sell or a solicitation of an offer to buy the Series 7 Debentures in any jurisdiction where it is unlawful to do so.', '', 'About SNC-Lavalin', '', 'Founded in 1911, SNC-Lavalin is a fully integrated professional services and project management company with offices around the world dedicated to engineering a better future for our planet and its people. We create sustainable solutions that connect people, technology and data to design, deliver and operate the most complex projects. We deploy global capabilities locally to our clients and deliver unique end-to-end services across the whole life cycle of an asset including consulting, advisory & environmental services, intelligent networks & cybersecurity, design & engineering, procurement, project & construction management, operations & maintenance, decommissioning and capital – and delivered to clients in key strategic sectors such as Engineering Services, Nuclear, Operations & Maintenance and Capital. News and information are available at snclavalin.com or follow us on LinkedIn and Twitter.', '', 'Forward-looking Statements', '', 'Reference in this press release, and hereafter, to the \"Company\" or to \"SNC-Lavalin\" means, as the context may require, SNC-Lavalin Group Inc. and all or some of its subsidiaries or joint arrangements, or SNC-Lavalin Group Inc. or one or more of its subsidiaries or joint arrangements. Statements made in this press release that describe the Company\\'s or management\\'s budgets, estimates, expectations, forecasts, objectives, predictions, projections of the future or strategies may be \"forward-looking statements\", which can be identified by the use of the conditional or forward-looking terminology such as \"aims\", \"anticipates\", \"assumes\", \"believes\", \"cost savings\", \"estimates\", \"expects\", \"goal\", \"intends\", \"may\", \"plans\", \"projects\", \"should\", \"synergies\", \"target\", \"vision\", \"will\", or the negative thereof or other variations thereon. Forward-looking statements also include any other statements that do not refer to historical facts. Specific forward-looking statements in this news release, include, but are not limited to, statements with respect to the offering of Series 7 Debentures and the intended timing and use of proceeds thereof, and with respect to the credit ratings assigned to the Series 7 Debentures. All such forward-looking statements are made pursuant to the \"safe-harbour\" provisions of applicable Canadian securities laws. The Company cautions that, by their nature, forward-looking statements involve risks and uncertainties, and that its actual actions and/or results could differ materially from those expressed or implied in such forward- looking statements, or could affect the extent to which a particular projection materializes. Forward-looking statements are presented for the purpose of assisting investors and others in understanding certain key elements of the Company\\'s current objectives, strategic priorities, expectations and plans, and in obtaining a better understanding of the Company\\'s business and anticipated operating environment. Readers are cautioned that such information may not be appropriate for other purposes. Forward-looking statements made in this press release are based on a number of assumptions believed by the Company to be reasonable as at the date hereof. The assumptions are set out throughout the Company\\'s 2021 Annual MD&A (particularly in the sections entitled \"Critical Accounting Judgments and Key Sources of Estimation Uncertainty\" and \"How We Analyze and Report our Results\") and as updated in the first, second and third quarter 2022 MD&A each filed with the securities regulatory authorities in Canada, available on SEDAR at and on the Company\\'s website at under the \"Investors\" section. If these assumptions are inaccurate, the Company\\'s actual results could differ materially from those expressed or implied in such forward looking statements. In addition, important risk factors could cause the Company\\'s assumptions and estimates to be inaccurate and actual results or events to differ materially from those expressed in or implied by these forward-looking statements. Those risks are identified in the Company\\'s 2021 Annual MD&A (particularly in the sections entitled \"Risk and Un certainties\") and as updated in the first, second and third quarter 2022 MD&A and are not exhaustive. The forward-looking statements contained in this news release are expressly qualified in their entirety by the foregoing cautionary statements. The forward-looking statements herein reflect the Company\\'s expectations as at the date of this press release and are subject to change after this date. The Company does not undertake to update publicly or to revise any such forward-looking statements whether as a result of new information, future events or otherwise, unless required by applicable legislation or regulation.', '', 'SOURCE SNC-Lavalin', '', 'Cision', '', 'View original content: http://www.newswire.ca/en/releases/archive/November2022/22/c8514.html']\n"
          ]
        },
        {
          "output_type": "stream",
          "name": "stderr",
          "text": [
            "Some weights of the model checkpoint at yiyanghkust/finbert-pretrain were not used when initializing BertForMaskedLM: ['cls.seq_relationship.bias', 'cls.seq_relationship.weight']\n",
            "- This IS expected if you are initializing BertForMaskedLM from the checkpoint of a model trained on another task or with another architecture (e.g. initializing a BertForSequenceClassification model from a BertForPreTraining model).\n",
            "- This IS NOT expected if you are initializing BertForMaskedLM from the checkpoint of a model that you expect to be exactly identical (initializing a BertForSequenceClassification model from a BertForSequenceClassification model).\n",
            "Some weights of the model checkpoint at bert-base-uncased were not used when initializing BertModel: ['cls.predictions.decoder.weight', 'cls.predictions.transform.dense.bias', 'cls.seq_relationship.weight', 'cls.predictions.transform.LayerNorm.weight', 'cls.seq_relationship.bias', 'cls.predictions.bias', 'cls.predictions.transform.dense.weight', 'cls.predictions.transform.LayerNorm.bias']\n",
            "- This IS expected if you are initializing BertModel from the checkpoint of a model trained on another task or with another architecture (e.g. initializing a BertForSequenceClassification model from a BertForPreTraining model).\n",
            "- This IS NOT expected if you are initializing BertModel from the checkpoint of a model that you expect to be exactly identical (initializing a BertForSequenceClassification model from a BertForSequenceClassification model).\n"
          ]
        },
        {
          "output_type": "stream",
          "name": "stdout",
          "text": [
            "['Home »', '', 'Editorial »', '', 'Daily News »', '', 'UK – Hays appoints global head of advisory services', '', 'Daily News View All News', '', 'UK – Hays appoints global head of advisory services', '', '23 November 2022', '', 'Global staffing firm Hays plc appointed Rohan de Rozario as global head of advisory services.', '', 'De Rozario has more than 22 years of experience in HR strategy and operations. He joins Hays from Public Investment Fund in Saudi Arabia where he was senior VP, head of organisational development and change. In addition, de Rozario has held senior people advisory roles at Korn Ferry, EY, HSBC and Deloitte.', '', 'The new global head of advisory services role was created to lead and grow Hays’ global HR and organisational advisory services offering.', '', '“We’re pleased to welcome someone of Rohan’s calibre to our team,” said Matthew Dickason, CEO of the enterprise solutions division at Hays. “The depth and breadth of his experience is impressive, and it marks an important chapter in our journey as a company. We’re looking forward to working together to add even more value to our customer relationships and explore how we can better support them in this new era of work.”', '', 'Rohan de Rozario']\n"
          ]
        },
        {
          "output_type": "stream",
          "name": "stderr",
          "text": [
            "Some weights of the model checkpoint at yiyanghkust/finbert-pretrain were not used when initializing BertForMaskedLM: ['cls.seq_relationship.bias', 'cls.seq_relationship.weight']\n",
            "- This IS expected if you are initializing BertForMaskedLM from the checkpoint of a model trained on another task or with another architecture (e.g. initializing a BertForSequenceClassification model from a BertForPreTraining model).\n",
            "- This IS NOT expected if you are initializing BertForMaskedLM from the checkpoint of a model that you expect to be exactly identical (initializing a BertForSequenceClassification model from a BertForSequenceClassification model).\n",
            "Some weights of the model checkpoint at bert-base-uncased were not used when initializing BertModel: ['cls.predictions.decoder.weight', 'cls.predictions.transform.dense.bias', 'cls.seq_relationship.weight', 'cls.predictions.transform.LayerNorm.weight', 'cls.seq_relationship.bias', 'cls.predictions.bias', 'cls.predictions.transform.dense.weight', 'cls.predictions.transform.LayerNorm.bias']\n",
            "- This IS expected if you are initializing BertModel from the checkpoint of a model trained on another task or with another architecture (e.g. initializing a BertForSequenceClassification model from a BertForPreTraining model).\n",
            "- This IS NOT expected if you are initializing BertModel from the checkpoint of a model that you expect to be exactly identical (initializing a BertForSequenceClassification model from a BertForSequenceClassification model).\n"
          ]
        },
        {
          "output_type": "stream",
          "name": "stdout",
          "text": [
            "['The shares of Saudi Arabian utility Marafiq, which raised $897 million in an initial public offering that drew $53 billion in orders, gave up almost all their gains after surging at its trading debut.', '', 'After climbing 14 percent at open to 52.4 riyals, the shares briefly dropped below the IPO price of 46 riyals. They recovered to trade at 47.75 riyals at 10:39am in Riyadh. The benchmark Tadawul index fell 1.5 percent.', '', 'Advertisement', '', 'For the latest headlines, follow our Google News channel online or via the app.', '', 'Power and Water Utility Co. for Jubail and Yanbu, as the company is formally known, priced the IPO at the top end of its marketed range of 46 riyals. The sellers -- Saudi Arabia’s wealth fund Public Investment Fund (PIF), Royal Commission for Jubail and Yanbu, Aramco and Sabic -- had offered 73.1 million shares at 41 riyals to 46 riyals apiece.', '', 'IPOs in the Gulf have been on a tear this year, fetching $18.5 billion -- almost half of the proceeds seen in Europe, the Middle East and Africa. The region is headed for its second-best year on record in terms of money raised from share sales, eclipsed only by 2019 when Aramco pulled of its record $29.4 billion listing.', '', 'Goldman Sachs Group Inc. and Citigroup Inc. said the IPO frenzy would extend into the next year. That is in sharp contrast to major European markets, which have seen a slowdown in IPOs this year because of rising inflation and falling stocks.', '', 'HSBC Holdings Plc and Riyad Capital managed Marafiq’s IPO.', '', 'Read more: Middle East bucks IPO slump as investors flock to Saudi Arabia, UAE markets']\n"
          ]
        },
        {
          "output_type": "stream",
          "name": "stderr",
          "text": [
            "Some weights of the model checkpoint at yiyanghkust/finbert-pretrain were not used when initializing BertForMaskedLM: ['cls.seq_relationship.bias', 'cls.seq_relationship.weight']\n",
            "- This IS expected if you are initializing BertForMaskedLM from the checkpoint of a model trained on another task or with another architecture (e.g. initializing a BertForSequenceClassification model from a BertForPreTraining model).\n",
            "- This IS NOT expected if you are initializing BertForMaskedLM from the checkpoint of a model that you expect to be exactly identical (initializing a BertForSequenceClassification model from a BertForSequenceClassification model).\n",
            "Some weights of the model checkpoint at bert-base-uncased were not used when initializing BertModel: ['cls.predictions.decoder.weight', 'cls.predictions.transform.dense.bias', 'cls.seq_relationship.weight', 'cls.predictions.transform.LayerNorm.weight', 'cls.seq_relationship.bias', 'cls.predictions.bias', 'cls.predictions.transform.dense.weight', 'cls.predictions.transform.LayerNorm.bias']\n",
            "- This IS expected if you are initializing BertModel from the checkpoint of a model trained on another task or with another architecture (e.g. initializing a BertForSequenceClassification model from a BertForPreTraining model).\n",
            "- This IS NOT expected if you are initializing BertModel from the checkpoint of a model that you expect to be exactly identical (initializing a BertForSequenceClassification model from a BertForSequenceClassification model).\n"
          ]
        },
        {
          "output_type": "stream",
          "name": "stdout",
          "text": [
            "['The regulation from the Department of Labor is expected to be more durable than the old one banning ESG considerations by retirement plans.', '', 'Plan fiduciaries investing according to environmental, social, and governance principles may be breathing a sigh of relief after the Department of Labor finalized the rule allowing retirement plans to take these factors into consideration.', '', 'This week DOL announced a rule that reversed two regulations issued under the Trump administration, which banned plan fiduciaries from investing in “non-pecuniary” instruments. The new DOL rule, called Prudence and Loyalty in Selecting Plan Investments and Exercising Shareholder Rights, allows plan fiduciaries to weigh ESG factors during the investment process and could prompt more retirement plans to consider ESG-oriented strategies.', '', '“I think the DOL’s intent is to make plan sponsors unafraid of offering ESG strategies,” Lance Dial, partner at law firm Morgan Lewis, told Institutional Investor in an interview. One possible outcome is that more retirement plans will add ESG products, he said.', '', 'Dial expects the DOL rule to have more staying power than those proposed in earlier years. “This rule is very carefully drafted to be in the middle…It gives some consideration to both sides of this debate,” he said. “I think [the DOL did] a pretty good job of trying to find that middle road and maybe something that’s a little more durable than what we’ve had in the prior years.”', '', 'Lia Mitchell, senior policy analyst at Morningstar, agreed. “I do think that this rule is going back to the basics and highlighting the elements of future standards that plan sponsors can rely on...That might be one reason to think it will persist a little bit longer [than previous rules],” she said.', '', '', '', 'The DOL rule comes at a time when the debate over ESG investments continues to heat up. Recently, the rise of the so-called anti-woke movement has prompted Republican legislators in Florida, West Virginia, Utah, Minnesota, Louisiana, and Arizona to propose bills that could prevent state institutions from working with managers that include ESG-related factors in their investment processes.', '', 'ESG has also been caught in the crosshairs of regulators. According to a recent KPMG survey, increasing regulatory uncertainty became one of the top reasons that some managers decided to pull back on ESG. In October, a series of HSBC ads marketing ESG products were banned in the U.K. for making unqualified claims about their environmental benefits. According to the Advertising Standards Authority in the U.K., the ads \"omitted material information and were therefore misleading.”', '', 'On Tuesday, Goldman Sachs Asset Management was also fined $4 million by the Securities and Exchange Commission for “several policies and procedures failures involving the ESG research its investment teams used to select and monitor securities” in three funds. “These historical matters did not materially impact the investments’ satisfaction of the ESG criteria contained in those policies and procedures,” GSAM responded in a statement.', '', \"Mitchell thinks the ESG industry is still in an “adjustment period,” where regulators in the U.S. and around the world are still trying to aid investors in navigating various ESG strategies. “Anytime there's innovation in the financial sector, there's a period of adjustment where everyone has to learn [about] the innovation, how it is becoming more mainstream, and how it is going to interact with other elements of the industry,” she said.\", '', '', '', 'Yet despite the ongoing political debate and the SEC scrutiny, the DOL rule is good news for most retirement plan participants.', '', '“There’s [a perception that] younger people have a more enhanced social conscience,” Dial said. “There is demand [for ESG] out there at the investor level…And so I think [the rule] gives people a tool to respond to that investor demand.”']\n"
          ]
        },
        {
          "output_type": "stream",
          "name": "stderr",
          "text": [
            "Some weights of the model checkpoint at yiyanghkust/finbert-pretrain were not used when initializing BertForMaskedLM: ['cls.seq_relationship.bias', 'cls.seq_relationship.weight']\n",
            "- This IS expected if you are initializing BertForMaskedLM from the checkpoint of a model trained on another task or with another architecture (e.g. initializing a BertForSequenceClassification model from a BertForPreTraining model).\n",
            "- This IS NOT expected if you are initializing BertForMaskedLM from the checkpoint of a model that you expect to be exactly identical (initializing a BertForSequenceClassification model from a BertForSequenceClassification model).\n",
            "Some weights of the model checkpoint at bert-base-uncased were not used when initializing BertModel: ['cls.predictions.decoder.weight', 'cls.predictions.transform.dense.bias', 'cls.seq_relationship.weight', 'cls.predictions.transform.LayerNorm.weight', 'cls.seq_relationship.bias', 'cls.predictions.bias', 'cls.predictions.transform.dense.weight', 'cls.predictions.transform.LayerNorm.bias']\n",
            "- This IS expected if you are initializing BertModel from the checkpoint of a model trained on another task or with another architecture (e.g. initializing a BertForSequenceClassification model from a BertForPreTraining model).\n",
            "- This IS NOT expected if you are initializing BertModel from the checkpoint of a model that you expect to be exactly identical (initializing a BertForSequenceClassification model from a BertForSequenceClassification model).\n"
          ]
        },
        {
          "output_type": "stream",
          "name": "stdout",
          "text": [
            "['By Stefano Rebaudo', '', 'Nov 24 (Reuters) - A turning point for peripheral euro zone government bonds appears to be underway as more enticing yields and a European Central Bank backstop could rein in the risk premium for Southern European debt.', '', \"The coming year will provide a real test, as investors shift their focus to bond supply and what the ECB does in terms of quantitative tightening, starting as soon as the central bank's next policy meeting on December 15, when it will likely raise interest rates again.\", '', 'The ECB is debating when to start selling off its holdings of government debt, but is still keeping its Transmission Protection Instrument (TPI) in place.', '', \"The TPI is there to stop any euro zone member's bond yields from spiking suddenly, which could threaten the ECB's ability to make monetary policy effective across the region.\", '', '“There is a lot of money on the sidelines, and investors are revisiting their assumptions. If inflation and bond volatility gets under control, they will begin to add high-yield sovereign bonds to their fixed income portfolio,” said Niall O’Sullivan, CIO of multi-asset strategies at Neuberger Berman.', '', '“In the short-term, we are a bit cautious on Italy as its bonds rallied a lot, but we are still favourably disposed towards Spain and Portugal,” he added.', '', 'Rising rates would normally hit peripheral bonds harder than core. But the spread between yields on benchmark German Bunds and those of more indebted countries has narrowed recently, defying that rule of thumb.', '', \"The 2-year German Schatz yield is trading around 2.1%, not far off a 14-year high of 2.25% hit a couple of weeks ago. It's risen by 273 basis points so far this year, 32 of those in this quarter alone.\", '', 'Italian 2-year bonds meanwhile, have risen 279 bps this year, but have actually dropped 14 bps so far in the fourth quarter.', '', 'Sovereign and corporate bonds have also been moving in opposite directions, as government bond spreads have tightened, while those on company bonds have widened.', '', 'Story continues', '', 'Reprinted with permission of Citi Research. Not to be reproduced.', '', '\"Furthermore, the negative correlation between peripheral yield gaps and equities has reasserted itself this year, showing that rising risk appetite has also boosted demand for peripheral bonds. It has been the case with Italian BTPs, but also with Spanish Bonos and Portugal’s government bonds.', '', 'But this outperformance hinges on a number of factors.', '', 'Chris Attfield, a rate strategist at HSBC, mentioned as primary triggers for a potential spread widening “a more hawkish ECB, continued challenging supply conditions, and a potential worsening of debt sustainability metrics due to high yields and a possible recession.”', '', 'Attfield expects the Italian-German 10-year yield gap to widen to 235 bps by year-end, from closer to 192 right now.', '', '“Intra-EMU spreads are already pricing a sharply lower ECB delivery on terminal rate versus current pricing,” JP Morgan analysts said in a research note mentioning forecasts for a terminal rate of 2.25-2.50%.', '', 'Forwards on ECB euro short-term rates now show investors believe euro zone rates will peak in August 2023 at around 2.9%.', '', \"A recession might lead to a rise in public debt as tax revenues drop and there's greater risk that governments will raise spending to support the economy.\", '', 'Bank of America expects net government bond supply to rise close to 400 billion euros next year, the highest on record, arguing that quantitative tightening measures by the ECB will be challenging to implement.', '', 'Italian political risks have been subdued as current prime minister Giorgia Meloni’s comments during the election campaign that she would respect EU budget rules reassured investors.', '', 'However, some analysts fear that concern about a potential clash with the European Union could grow if right-wing parties push for lower taxes and higher pension spending.', '', '(Reporting by Stefano Rebaudo, editing by Amanda Cooper and Chizu Nomiyama) ;))']\n"
          ]
        },
        {
          "output_type": "stream",
          "name": "stderr",
          "text": [
            "Some weights of the model checkpoint at yiyanghkust/finbert-pretrain were not used when initializing BertForMaskedLM: ['cls.seq_relationship.bias', 'cls.seq_relationship.weight']\n",
            "- This IS expected if you are initializing BertForMaskedLM from the checkpoint of a model trained on another task or with another architecture (e.g. initializing a BertForSequenceClassification model from a BertForPreTraining model).\n",
            "- This IS NOT expected if you are initializing BertForMaskedLM from the checkpoint of a model that you expect to be exactly identical (initializing a BertForSequenceClassification model from a BertForSequenceClassification model).\n",
            "Some weights of the model checkpoint at bert-base-uncased were not used when initializing BertModel: ['cls.predictions.decoder.weight', 'cls.predictions.transform.dense.bias', 'cls.seq_relationship.weight', 'cls.predictions.transform.LayerNorm.weight', 'cls.seq_relationship.bias', 'cls.predictions.bias', 'cls.predictions.transform.dense.weight', 'cls.predictions.transform.LayerNorm.bias']\n",
            "- This IS expected if you are initializing BertModel from the checkpoint of a model trained on another task or with another architecture (e.g. initializing a BertForSequenceClassification model from a BertForPreTraining model).\n",
            "- This IS NOT expected if you are initializing BertModel from the checkpoint of a model that you expect to be exactly identical (initializing a BertForSequenceClassification model from a BertForSequenceClassification model).\n"
          ]
        },
        {
          "output_type": "stream",
          "name": "stdout",
          "text": [
            "['Why did this happen?', '', 'Please make sure your browser supports JavaScript and cookies and that you are not blocking them from loading. For more information you can review our Terms of Service and Cookie Policy.']\n"
          ]
        },
        {
          "output_type": "stream",
          "name": "stderr",
          "text": [
            "Some weights of the model checkpoint at yiyanghkust/finbert-pretrain were not used when initializing BertForMaskedLM: ['cls.seq_relationship.bias', 'cls.seq_relationship.weight']\n",
            "- This IS expected if you are initializing BertForMaskedLM from the checkpoint of a model trained on another task or with another architecture (e.g. initializing a BertForSequenceClassification model from a BertForPreTraining model).\n",
            "- This IS NOT expected if you are initializing BertForMaskedLM from the checkpoint of a model that you expect to be exactly identical (initializing a BertForSequenceClassification model from a BertForSequenceClassification model).\n",
            "Some weights of the model checkpoint at bert-base-uncased were not used when initializing BertModel: ['cls.predictions.decoder.weight', 'cls.predictions.transform.dense.bias', 'cls.seq_relationship.weight', 'cls.predictions.transform.LayerNorm.weight', 'cls.seq_relationship.bias', 'cls.predictions.bias', 'cls.predictions.transform.dense.weight', 'cls.predictions.transform.LayerNorm.bias']\n",
            "- This IS expected if you are initializing BertModel from the checkpoint of a model trained on another task or with another architecture (e.g. initializing a BertForSequenceClassification model from a BertForPreTraining model).\n",
            "- This IS NOT expected if you are initializing BertModel from the checkpoint of a model that you expect to be exactly identical (initializing a BertForSequenceClassification model from a BertForSequenceClassification model).\n"
          ]
        },
        {
          "output_type": "stream",
          "name": "stdout",
          "text": [
            "['']\n"
          ]
        },
        {
          "output_type": "stream",
          "name": "stderr",
          "text": [
            "Some weights of the model checkpoint at yiyanghkust/finbert-pretrain were not used when initializing BertForMaskedLM: ['cls.seq_relationship.bias', 'cls.seq_relationship.weight']\n",
            "- This IS expected if you are initializing BertForMaskedLM from the checkpoint of a model trained on another task or with another architecture (e.g. initializing a BertForSequenceClassification model from a BertForPreTraining model).\n",
            "- This IS NOT expected if you are initializing BertForMaskedLM from the checkpoint of a model that you expect to be exactly identical (initializing a BertForSequenceClassification model from a BertForSequenceClassification model).\n",
            "Some weights of the model checkpoint at bert-base-uncased were not used when initializing BertModel: ['cls.predictions.decoder.weight', 'cls.predictions.transform.dense.bias', 'cls.seq_relationship.weight', 'cls.predictions.transform.LayerNorm.weight', 'cls.seq_relationship.bias', 'cls.predictions.bias', 'cls.predictions.transform.dense.weight', 'cls.predictions.transform.LayerNorm.bias']\n",
            "- This IS expected if you are initializing BertModel from the checkpoint of a model trained on another task or with another architecture (e.g. initializing a BertForSequenceClassification model from a BertForPreTraining model).\n",
            "- This IS NOT expected if you are initializing BertModel from the checkpoint of a model that you expect to be exactly identical (initializing a BertForSequenceClassification model from a BertForSequenceClassification model).\n"
          ]
        },
        {
          "output_type": "stream",
          "name": "stdout",
          "text": [
            "['Despite Japan’s uncertainty on whether to issue a central bank digital currency (CBDC), the Bank of Japan (BoJ) continues experimenting with a potential digital yen.', '', 'The Japanese central bank has started a collaboration with three megabanks and regional banks to conduct a CBDC issuance pilot, the local news agency Nikkei reported on Nov. 23.', '', 'The pilot aims to provide demo experiments for the issuance of Japan’s national digital currency, the digital yen, starting in spring 2023.', '', 'As part of the trial, the BoJ is expected to cooperate with major private banks and other organizations to detect and solve any issues related to customer deposits and withdrawals on bank accounts. According to the report, the pilot will involve testing the offline functionality of Japan’s possible CBDC, targeting payments without the internet.', '', 'Japan’s central bank plans to proceed with its CBDC experiment for about two years and make a decision on whether to issue a digital currency by 2026, the report notes.', '', 'The news comes amid countries around the globe increasingly launching CBDC research and development initiatives, with countries like China leading the global CBDC race.', '', 'As Cointelegraph reported on Nov. 22, the Reserve Bank of India is preparing to start a retail pilot of the digital rupee in collaboration with major local banks including the State Bank of India in December. In mid-November, the Federal Reserve Bank of New York’s Innovation Center announced the launch of a 12-week proof-of-concept CBDC pilot in partnership with banking giants like BNY Mellon, Citi, HSBC and others.', '', 'Related: Japan’s International Payments System will test plastic cards for CBDC', '', 'While the majority of the world has been rushing to launch a CBDC, some countries like Denmark have dropped out of the digital currency race. Among reasons for dropping their CBDC or CBDC-related projects, the central banks listed potential difficulties for the private sector, questionable value and benefits and other issues. Still, no central bank has ruled out the possibility of launching a CBDC completely.']\n"
          ]
        },
        {
          "output_type": "stream",
          "name": "stderr",
          "text": [
            "Some weights of the model checkpoint at yiyanghkust/finbert-pretrain were not used when initializing BertForMaskedLM: ['cls.seq_relationship.bias', 'cls.seq_relationship.weight']\n",
            "- This IS expected if you are initializing BertForMaskedLM from the checkpoint of a model trained on another task or with another architecture (e.g. initializing a BertForSequenceClassification model from a BertForPreTraining model).\n",
            "- This IS NOT expected if you are initializing BertForMaskedLM from the checkpoint of a model that you expect to be exactly identical (initializing a BertForSequenceClassification model from a BertForSequenceClassification model).\n",
            "Some weights of the model checkpoint at bert-base-uncased were not used when initializing BertModel: ['cls.predictions.decoder.weight', 'cls.predictions.transform.dense.bias', 'cls.seq_relationship.weight', 'cls.predictions.transform.LayerNorm.weight', 'cls.seq_relationship.bias', 'cls.predictions.bias', 'cls.predictions.transform.dense.weight', 'cls.predictions.transform.LayerNorm.bias']\n",
            "- This IS expected if you are initializing BertModel from the checkpoint of a model trained on another task or with another architecture (e.g. initializing a BertForSequenceClassification model from a BertForPreTraining model).\n",
            "- This IS NOT expected if you are initializing BertModel from the checkpoint of a model that you expect to be exactly identical (initializing a BertForSequenceClassification model from a BertForSequenceClassification model).\n"
          ]
        },
        {
          "output_type": "stream",
          "name": "stdout",
          "text": [
            "['Nearly there!', '', 'A verification email is on its way to you. Please check your spam or junk folder just in case.', '', 'If you do not receive this within five minutes, please try to sign in again. If the problem persists, please email: subscriptions@peimedia.com']\n"
          ]
        },
        {
          "output_type": "stream",
          "name": "stderr",
          "text": [
            "Some weights of the model checkpoint at yiyanghkust/finbert-pretrain were not used when initializing BertForMaskedLM: ['cls.seq_relationship.bias', 'cls.seq_relationship.weight']\n",
            "- This IS expected if you are initializing BertForMaskedLM from the checkpoint of a model trained on another task or with another architecture (e.g. initializing a BertForSequenceClassification model from a BertForPreTraining model).\n",
            "- This IS NOT expected if you are initializing BertForMaskedLM from the checkpoint of a model that you expect to be exactly identical (initializing a BertForSequenceClassification model from a BertForSequenceClassification model).\n",
            "Some weights of the model checkpoint at bert-base-uncased were not used when initializing BertModel: ['cls.predictions.decoder.weight', 'cls.predictions.transform.dense.bias', 'cls.seq_relationship.weight', 'cls.predictions.transform.LayerNorm.weight', 'cls.seq_relationship.bias', 'cls.predictions.bias', 'cls.predictions.transform.dense.weight', 'cls.predictions.transform.LayerNorm.bias']\n",
            "- This IS expected if you are initializing BertModel from the checkpoint of a model trained on another task or with another architecture (e.g. initializing a BertForSequenceClassification model from a BertForPreTraining model).\n",
            "- This IS NOT expected if you are initializing BertModel from the checkpoint of a model that you expect to be exactly identical (initializing a BertForSequenceClassification model from a BertForSequenceClassification model).\n"
          ]
        },
        {
          "output_type": "stream",
          "name": "stdout",
          "text": [
            "['Why did this happen?', '', 'Please make sure your browser supports JavaScript and cookies and that you are not blocking them from loading. For more information you can review our Terms of Service and Cookie Policy.']\n"
          ]
        },
        {
          "output_type": "stream",
          "name": "stderr",
          "text": [
            "Some weights of the model checkpoint at yiyanghkust/finbert-pretrain were not used when initializing BertForMaskedLM: ['cls.seq_relationship.bias', 'cls.seq_relationship.weight']\n",
            "- This IS expected if you are initializing BertForMaskedLM from the checkpoint of a model trained on another task or with another architecture (e.g. initializing a BertForSequenceClassification model from a BertForPreTraining model).\n",
            "- This IS NOT expected if you are initializing BertForMaskedLM from the checkpoint of a model that you expect to be exactly identical (initializing a BertForSequenceClassification model from a BertForSequenceClassification model).\n",
            "Some weights of the model checkpoint at bert-base-uncased were not used when initializing BertModel: ['cls.predictions.decoder.weight', 'cls.predictions.transform.dense.bias', 'cls.seq_relationship.weight', 'cls.predictions.transform.LayerNorm.weight', 'cls.seq_relationship.bias', 'cls.predictions.bias', 'cls.predictions.transform.dense.weight', 'cls.predictions.transform.LayerNorm.bias']\n",
            "- This IS expected if you are initializing BertModel from the checkpoint of a model trained on another task or with another architecture (e.g. initializing a BertForSequenceClassification model from a BertForPreTraining model).\n",
            "- This IS NOT expected if you are initializing BertModel from the checkpoint of a model that you expect to be exactly identical (initializing a BertForSequenceClassification model from a BertForSequenceClassification model).\n"
          ]
        },
        {
          "output_type": "stream",
          "name": "stdout",
          "text": [
            "['The authors of the new analysis of the G20 nations’ central banks, Positive Money, are warning that longer-term price stability will be undermined in a warmer world, as physical climate risks crystallise. As such, they are urging central banks to ensure that efforts to curb inflation in the shorter-term accelerate the net-zero transition rather than undermining it.', '', 'The analysis rates each of the G20 central banks on a range of green economy metrics including research and advocacy, monetary policy and financial regulation. Banks are then given an overall score out of a potential 130 points, plus a grade from A+ to F.', '', 'At the bottom of the table, with zero points and an F grade, is Saudi Arabia. Argentina also takes an F grade, as it has no climate-related monetary policy or financial policy measures in place.', '', 'Barely faring better, with D- grades overall, are South Africa, Turkey, the US, Australia, Russia and South Korea.', '', 'The US’s Federal Reserve scores ten out of ten for its research and advocacy efforts but zero out of 50 for monetary policy interventions. It also scores low on financial policy interventions, but Positive Money notes that this score may increase next year if, as planned, climate risk scenario analyses are piloted. This activity would require the bank to assess risk in a range of warming scenarios. The US federal government is also eyeing mandatory climate risk disclosures for some businesses, following in the UK’s footsteps.', '', 'All in all, Positive Money believes that the US is “trailing behind” other economies with high levels of historic emissions and high annual emissions at present. The world’s biggest annual emitter at present, China, takes joint sixth place with Brazil and has been awarded a C grade overall.', '', 'The UK is sitting in fifth place. The Bank of England scores top marks for research and advocacy, but just ten out of 50 possible points for monetary policy. Most of the interventions it has made here so far are classed as ‘low-impact’, with the Bank undertaking no ‘high-impact’ actions.', '', '27 out of 50 possible points are awarded for the BoE’s financial policy intervention despite, again, no ‘high-impact’ actions being taken. The report states: “Whilst the Bank of England has not gone so far as to align its asset purchase facilities with the Paris Agreement, it has created a framework for greening the Corporate Bond Purchase Scheme, which excludes issuers engaged in any coal mining activities (Bank of England, 2021), and has begun making sales from the Corporate Bond Purchase Scheme with climate change considerations as a secondary aim.”', '', 'Positive Money does note that the UK is leading the way on climate-related financial disclosures and in facilitating collaboration with other central banks, other finance sector players, policymakers and the general public on the low-carbon transition. However, the conclusion is that the ambition of the UK becoming the world’s first net-zero financial centre, stated by then-Chancellor Rishi Sunak at COP26 in November 2021, is not yet within reach.', '', 'Top of the table is France, the only nation to receive a B-. Rounding out the top five are Italy, Germany and the EU (with the European Investment Bank).', '', 'France’s central bank scores so highly as it has aligned all non-monetary portfolios with a 1.5C temperature pathway and implemented the strongest fossil fuel exclusions of any G20 central bank. This includes a complete exit from coal by 2024. It also oversees mandatory sustainability-related disclosures and climate and environmental risk disclosures across the financial sector.', '', 'Positive Money has emphasised that France is currently the exception, not the rule – and that even France could be going further and faster to finance the low-carbon transition and also redirect financial flows which harm nature.', '', 'Lead report author Nikki Eames said: “Volatile fossil fuel prices and extreme weather events this year should be enough to convince central banks and regulators that supporting the net zero transition is a central pillar of their core mandates for price and financial stability. We need policymakers to act decisively to help shift financial flows to a credible pathway to net zero, and stop allowing financial institutions to lock in long-term environmental risks which jeopardise economic stability.”', '', '‘Don’t bank on it’', '', 'In related news, the Make My Money Matter campaign has launched a new workstream whereby banking customers at some of the UK’s biggest banks can call on these businesses to implement stronger fossil fuel exclusion and divestment policies.', '', 'The new ‘don’t bank on it’ campaign builds on work already underway to pressure pension schemes to improve the environmental impact of their financial activities.', '', 'Under the new campaign, HSBC, Barclays, Santander, NatWest Group and Lloyds Bank are being called upon to end the financing of any oil, gas and coal expansion, in line with the International Energy Agency’s (IEA) 2050 net-zero scenario. This scenario, published in 2021 in the lead-up to COP26, recommended an end to all additional fossil fuel expansion beyond what had already been confirmed by the end of 2021.', '', 'Make My Money Matter is citing previous research from ShareAction, which claims that the five banks targeted collectively funnelled $367.6bn into fossil fuel activities since the end of 2015, of which $141bn went to companies with significant oil and gas expansion plans. HSBC was the worst offender in both respects. A poll of 2,000 UK-based adults using these five banks found that 77% were not aware that their bank supported fossil fuel expansion.', '', 'ShareAction project manager Kelly Shields said: “ShareAction research found that UK banks are providing billions to fifty of the top oil and gas expanders in the world. Worryingly, half of new projects are unconventional, meaning companies are expanding into the riskiest types of fossil fuels to extract, such as those found in the Arctic. We urge banks in the UK to listen to the justified concerns of customers and publish plans by the end of 2023 to restrict financing for new oil and gas to prevent the worst impacts of the climate crisis.”', '', 'The news comes just weeks after the UK’s Advertising Standards Authority banned two adverts placed by HSBC on greenwashing grounds. The regulator ruled that the ads could mislead customers into thinking that its financing activities have a net-positive impact on the environment and that HSBC was knowingly concealing important details about its energy financing.']\n"
          ]
        },
        {
          "output_type": "stream",
          "name": "stderr",
          "text": [
            "Some weights of the model checkpoint at yiyanghkust/finbert-pretrain were not used when initializing BertForMaskedLM: ['cls.seq_relationship.bias', 'cls.seq_relationship.weight']\n",
            "- This IS expected if you are initializing BertForMaskedLM from the checkpoint of a model trained on another task or with another architecture (e.g. initializing a BertForSequenceClassification model from a BertForPreTraining model).\n",
            "- This IS NOT expected if you are initializing BertForMaskedLM from the checkpoint of a model that you expect to be exactly identical (initializing a BertForSequenceClassification model from a BertForSequenceClassification model).\n",
            "Some weights of the model checkpoint at bert-base-uncased were not used when initializing BertModel: ['cls.predictions.decoder.weight', 'cls.predictions.transform.dense.bias', 'cls.seq_relationship.weight', 'cls.predictions.transform.LayerNorm.weight', 'cls.seq_relationship.bias', 'cls.predictions.bias', 'cls.predictions.transform.dense.weight', 'cls.predictions.transform.LayerNorm.bias']\n",
            "- This IS expected if you are initializing BertModel from the checkpoint of a model trained on another task or with another architecture (e.g. initializing a BertForSequenceClassification model from a BertForPreTraining model).\n",
            "- This IS NOT expected if you are initializing BertModel from the checkpoint of a model that you expect to be exactly identical (initializing a BertForSequenceClassification model from a BertForSequenceClassification model).\n"
          ]
        },
        {
          "output_type": "stream",
          "name": "stdout",
          "text": [
            "[\"In a social media post, Nikhil Kamath, said that Indian Banks are 'outstanding' as compared to international banks. He questioned how could a bank transfer take 'days and cost so much.'\", '', '\"Indian banks are outstanding, can\\'t believe how terribly run international banks are. How in todays day and age can it take days to do a simple bank transfer, and cost so much? Full credit to @PMOIndia @RBI @NandanNilekani ,indian banks and everyone who helped create this ecosystem,\" he tweeted.', '', \"Indian banks are outstanding, can't believe how terribly run international banks are\", '', 'How in todays day and age can it take days to do a simple bank transfer, and cost so much?', '', 'Full credit to @PMOIndia @RBI @NandanNilekani,indian banks and everyone who helped create this ecosystem — Nikhil Kamath (@nikhilkamathcio) November 22, 2022', '', 'The tweet has garnered over 1,000 likes and nearly 100 messages.', '', '\"@nikhilkamathcio no doubt Indian bank highly regulated, special thanks to RBI also,\" said one user.', '', '\"Also, with all the pilots going around eRupee, both wholesale and retail, we are talking about instant settlements. Don\\'t need intermediaries at all. No delays, no fees. Just wondering what can be built on top of this,\" said another user.', '', 'The central bank started a pilot program of its digital currency allowing select banks to use it for settling secondary-market transactions in government bonds. The e-rupee will be tested for retail use within a month in some locations, the Reserve Bank of India said.', '', \"Taking note of critics' points of view, Zerodha co-founder Nikhil Kamath has listed a few factors why the e-rupee is a breakthrough decision for the Indian economy.\", '', 'Citing a report by The Oddball, Kamath wrote, \"While many have been critical of #CBDC, we might be missing the big picture, remittances, unbanked economy, and reducing subsidy leakage, to name a few\".', '', 'The Zerodha co-founder added, \"When anything new comes into the market, the old need to adapt, and the new need to regulate the change\".', '', 'Banks involved in the pilot are the State Bank of India, Bank of Baroda, Union Bank of India, HDFC Bank, ICICI Bank Ltd., Kotak Mahindra Bank, Yes Bank, IDFC First Bank, and the Indian unit of HSBC Holdings Plc.']\n"
          ]
        },
        {
          "output_type": "stream",
          "name": "stderr",
          "text": [
            "Some weights of the model checkpoint at yiyanghkust/finbert-pretrain were not used when initializing BertForMaskedLM: ['cls.seq_relationship.bias', 'cls.seq_relationship.weight']\n",
            "- This IS expected if you are initializing BertForMaskedLM from the checkpoint of a model trained on another task or with another architecture (e.g. initializing a BertForSequenceClassification model from a BertForPreTraining model).\n",
            "- This IS NOT expected if you are initializing BertForMaskedLM from the checkpoint of a model that you expect to be exactly identical (initializing a BertForSequenceClassification model from a BertForSequenceClassification model).\n",
            "Some weights of the model checkpoint at bert-base-uncased were not used when initializing BertModel: ['cls.predictions.decoder.weight', 'cls.predictions.transform.dense.bias', 'cls.seq_relationship.weight', 'cls.predictions.transform.LayerNorm.weight', 'cls.seq_relationship.bias', 'cls.predictions.bias', 'cls.predictions.transform.dense.weight', 'cls.predictions.transform.LayerNorm.bias']\n",
            "- This IS expected if you are initializing BertModel from the checkpoint of a model trained on another task or with another architecture (e.g. initializing a BertForSequenceClassification model from a BertForPreTraining model).\n",
            "- This IS NOT expected if you are initializing BertModel from the checkpoint of a model that you expect to be exactly identical (initializing a BertForSequenceClassification model from a BertForSequenceClassification model).\n"
          ]
        },
        {
          "output_type": "stream",
          "name": "stdout",
          "text": [
            "['India, 23rd November 2022: FORE School of Management is all set to host the international finance conference based on the theme, “Changing Landscape in banking and Finance: Disruptions, Innovations and Regulations”. The conference will be held in hybrid mode (both in offline and online mode) on the 25th and 26th of November 2022. This conference aims to provide academics, professionals, entrepreneurs and researchers with a forum to discuss the emerging trends in the banking and financial sector.', '', '', '', \"Among the keynote speakers will be, Prof. Shyam V. Sunder who holds the Lou Myers Chair and is the Professor of Accounting at the University of Arizona's Eller College of Management and Prof. Raghavendra Rau, the Sir Evelyn de Rothschild Professor of Finance at Cambridge Judge Business School. Eminent speakers at the inaugural are Mr. Vijay Singh Chauhan, an Indian Revenue Service officer currently assigned to the ICD, Tughlakabad as Commissioner of Customs; Ms. Sanchita Mukherji, a transformative business leader having 20 years of experience in Private Banking with banks such as HSBC Bank, Standard Chartered Bank and HDFC Bank; and Mr. Neeraj Kusheshtra, heads the Regulatory function of the Exchange and has more than 34 years of experience in the financial sector.\", '', '', '', '“At FORE School of Management, we expect the students to have an enriching and life-turning experience which will enable them to reach new heights in their professional life in the near future. We foster sharpening of skills and enhancement of knowledge base in our students through various extra-curricular, co-curricular activities through our faculty members who not only keep themselves at par with the current developments but also contribute to the expansion of knowledge in their fields of expertise”- Dr. Jitendra K. Das, Director of FORE School of Management.', '', '', '', 'The integration of the financial markets and the effect of globalization on systematic risk, the use of technology in the fields of banking and finance, the effectiveness of domestic and international regulatory structures, the performance of innovative and entrepreneurial firms, the use of big data by fin-tech firms, use of artificial intelligence in trading are some of the areas which are transforming the banking & financial sector worldwide. This conference provides opportunities for both the presenters and participants to exchange new ideas and experiences, establish research relations, and find global partners for future collaboration will be the aim of the conference.', '', '', '', 'The 4 central themes will further be divided into sub-themes:', '', '', '', 'Theme 1: Emerging trends in Finance and banking with sub-themes,', '', '', '', 'Asset Pricing, Behavioural Finance, Corporate Finance, Portfolio Management, Fixed Income Securities, Market Microstructure, Financial Reporting in India, Market Volatility, Derivatives Market, Microfinance and Banking Operations and management.', '', '', '', 'Theme 2: Financial Technologies with sub-themes,', '', '', '', 'Al and Machine Learning for Risk Management, E-banking & Digitization, Digital India and FinTech - Payments and settlement systems, Cryptocurrencies, Big Data analytics for Financial Services and Blockchain.', '', '', '', 'Theme 3: Entrepreneurial Finance with sub-themes:', '', '', '', 'Entrepreneurship and Start-ups in the Digital Era, Innovations in new venture financing, Risk and Risk-Taking in Start-ups and Growing Venture, Corporate governance and compensation in entrepreneurial firms, Innovations in Capital Markets for Small and Medium Enterprises (SMEs).', '', '', '', 'Theme 4: Financial Regulations and Market Responses with sub-themes:', '', '', '', 'Insolvency and Bankruptcy Code 2016, FDI Regulations, Competition Act and Mergers & Acquisitions, The Companies Act 2013, FMC Merger with SEBI.', '', '', '', 'Additionally, faculty members, researchers and industry practitioners are invited to present high-quality, original theoretical papers at this conference. In addition to publication in reputed and indexed journals, the selected papers from the conference will be considered for publication by the journal editorial board after undergoing a positive peer review. Only full papers will be considered for publication.', '', '', '', \"Located in the heart of South Delhi, the Foundation for Organisational Research and Education (FORE) is a non-profit organization dedicated to the advancement of Management Education, Research, Training, and Consultancy. As a nonprofit organization founded in 1981, FORE has been collaborating with the industry and academia to develop new spheres of managerial thought, teaching, and education. It has contributed to the development of leaders in today's global business environment. FORE takes pride in its professional faculty members, modern infrastructure, technology and resources in the fields of General Management, Human Resources, Finance, Marketing, Information Technology, Economics and International Business.\", '', '', '', '(Disclaimer: The above press release comes to you under an arrangement with PNN and PTI takes no editorial responsibility for the same.). PTI PWR', '', 'PWR']\n"
          ]
        },
        {
          "output_type": "stream",
          "name": "stderr",
          "text": [
            "Some weights of the model checkpoint at yiyanghkust/finbert-pretrain were not used when initializing BertForMaskedLM: ['cls.seq_relationship.bias', 'cls.seq_relationship.weight']\n",
            "- This IS expected if you are initializing BertForMaskedLM from the checkpoint of a model trained on another task or with another architecture (e.g. initializing a BertForSequenceClassification model from a BertForPreTraining model).\n",
            "- This IS NOT expected if you are initializing BertForMaskedLM from the checkpoint of a model that you expect to be exactly identical (initializing a BertForSequenceClassification model from a BertForSequenceClassification model).\n",
            "Some weights of the model checkpoint at bert-base-uncased were not used when initializing BertModel: ['cls.predictions.decoder.weight', 'cls.predictions.transform.dense.bias', 'cls.seq_relationship.weight', 'cls.predictions.transform.LayerNorm.weight', 'cls.seq_relationship.bias', 'cls.predictions.bias', 'cls.predictions.transform.dense.weight', 'cls.predictions.transform.LayerNorm.bias']\n",
            "- This IS expected if you are initializing BertModel from the checkpoint of a model trained on another task or with another architecture (e.g. initializing a BertForSequenceClassification model from a BertForPreTraining model).\n",
            "- This IS NOT expected if you are initializing BertModel from the checkpoint of a model that you expect to be exactly identical (initializing a BertForSequenceClassification model from a BertForSequenceClassification model).\n"
          ]
        },
        {
          "output_type": "stream",
          "name": "stdout",
          "text": [
            "['Why did this happen?', '', 'Please make sure your browser supports JavaScript and cookies and that you are not blocking them from loading. For more information you can review our Terms of Service and Cookie Policy.']\n"
          ]
        },
        {
          "output_type": "stream",
          "name": "stderr",
          "text": [
            "Some weights of the model checkpoint at yiyanghkust/finbert-pretrain were not used when initializing BertForMaskedLM: ['cls.seq_relationship.bias', 'cls.seq_relationship.weight']\n",
            "- This IS expected if you are initializing BertForMaskedLM from the checkpoint of a model trained on another task or with another architecture (e.g. initializing a BertForSequenceClassification model from a BertForPreTraining model).\n",
            "- This IS NOT expected if you are initializing BertForMaskedLM from the checkpoint of a model that you expect to be exactly identical (initializing a BertForSequenceClassification model from a BertForSequenceClassification model).\n",
            "Some weights of the model checkpoint at bert-base-uncased were not used when initializing BertModel: ['cls.predictions.decoder.weight', 'cls.predictions.transform.dense.bias', 'cls.seq_relationship.weight', 'cls.predictions.transform.LayerNorm.weight', 'cls.seq_relationship.bias', 'cls.predictions.bias', 'cls.predictions.transform.dense.weight', 'cls.predictions.transform.LayerNorm.bias']\n",
            "- This IS expected if you are initializing BertModel from the checkpoint of a model trained on another task or with another architecture (e.g. initializing a BertForSequenceClassification model from a BertForPreTraining model).\n",
            "- This IS NOT expected if you are initializing BertModel from the checkpoint of a model that you expect to be exactly identical (initializing a BertForSequenceClassification model from a BertForSequenceClassification model).\n"
          ]
        },
        {
          "output_type": "stream",
          "name": "stdout",
          "text": [
            "[\"The fund groups are among 16 investors with £3.2trn in assets under management that have responded to a call to action from CCLA Investment Management, a responsible investment fund house and the UK's largest charity investment manager.\", '', \"CCLA, jointly with the Church Investors Group, has sent a letter to 100 of the UK's largest listed employers urging them to consider uplifting pay for the lowest paid workers, and providing one-off cost-of-living support.\", '', 'The campaign wants companies to meet the new real Living Wage rates of £10.90 per hour across the UK and £11.95 in London.', '', 'FCA finds 60% of adults are struggling with cost-of-living increases', '', 'Only 25 of the 100 companies written to confirmed they are accredited real Living Wage employers. Six stated they benchmark wages against the real Living Wage but are not accredited.', '', 'CCLA will be updating its voting guidelines next year and for those companies that fall short in protecting their lowest-paid workers from the crisis, it will not vote in support of increases in executive pay.', '', 'Peter Smith, CCLA chief executive, said the overall percentage of those companies that have indicated they are providing extra measures of support for their own low-paid employees is \"astonishingly low\".', '', 'He said: \"Millions of working people are facing a very hard winter and UK businesses should be vigilant in ensuring that their lowest paid are protected through the winter months.', '', '\"The idea that there are employed people who do not earn enough to support themselves, to eat healthily and have a safe and warm environment in which to live, is morally wrong and financially unsustainable.\"', '', 'Making a direct link between a good investment and doing the right thing, Smith said: \"Healthy financial markets depend on healthy communities that can afford to purchase the everyday products and services businesses produce.\"', '', \"In at least one case, despite a significant increase, one company's level of pay for its low-paid workers still remained below the real Living Wage, the campaign found in responses to its letter.\", '', 'In another case, NatWest Group decided to make a permanent 4% (average £1,000) increase to pay for those earning under £32,000.', '', 'Autumn Statement 22: Cost of living help set out for energy, pensions and wages', '', 'Banks were found to be providing the broadest response to the cost of living crisis for employees. HSBC gave one-off bonuses to 17,000 staff and Lloyds Banking Group gave bonuses to 63,000 staff.', '', \"Other campaign requests include working with unions to reach agreements on pay claims to avoid prolonging any potential disruption, and likewise with third-party contractors to ensure support for staff that work on the company's premises.\", '', 'The campaign also wants the companies to limit price increases of key goods and services.', '', 'It has called on the 100 publicly listed companies who have been sent the letter to \"publicly state how they intend to support workers and consumers over the foreseeable future\".', '', 'It also wants them to agree to provide a regular update at least once in six months, \"given the unpredictable and long-term nature of the crisis\".', '', 'CCLA will write again to the list of 100 companies in March 2023 to ask for an update and to monitor progress made.']\n"
          ]
        },
        {
          "output_type": "stream",
          "name": "stderr",
          "text": [
            "Some weights of the model checkpoint at yiyanghkust/finbert-pretrain were not used when initializing BertForMaskedLM: ['cls.seq_relationship.bias', 'cls.seq_relationship.weight']\n",
            "- This IS expected if you are initializing BertForMaskedLM from the checkpoint of a model trained on another task or with another architecture (e.g. initializing a BertForSequenceClassification model from a BertForPreTraining model).\n",
            "- This IS NOT expected if you are initializing BertForMaskedLM from the checkpoint of a model that you expect to be exactly identical (initializing a BertForSequenceClassification model from a BertForSequenceClassification model).\n",
            "Some weights of the model checkpoint at bert-base-uncased were not used when initializing BertModel: ['cls.predictions.decoder.weight', 'cls.predictions.transform.dense.bias', 'cls.seq_relationship.weight', 'cls.predictions.transform.LayerNorm.weight', 'cls.seq_relationship.bias', 'cls.predictions.bias', 'cls.predictions.transform.dense.weight', 'cls.predictions.transform.LayerNorm.bias']\n",
            "- This IS expected if you are initializing BertModel from the checkpoint of a model trained on another task or with another architecture (e.g. initializing a BertForSequenceClassification model from a BertForPreTraining model).\n",
            "- This IS NOT expected if you are initializing BertModel from the checkpoint of a model that you expect to be exactly identical (initializing a BertForSequenceClassification model from a BertForSequenceClassification model).\n"
          ]
        },
        {
          "output_type": "stream",
          "name": "stdout",
          "text": [
            "[\"NEW YORK, Nov 23 (Reuters) - U.S. savers are being left behind by the Federal Reserve's aggressive campaign of interest rate rises, and that's unlikely to change soon.\", '', \"New research from the New York Fed says bank deposit rates have long failed to catch up with changes in short-term rates. And in the current cycle of swift short-term rate hikes, this gap between the U.S. central bank's short-term rate target and what banks are willing to pay on deposits is likely to get worse for at least a while.\", '', 'Banks aren\\'t matching Fed rate rises because in effect they don\\'t have to. \"Deposits have increased significantly as a source of funding for the banking sector,\" New York Fed analysts Alena Kang-Landsberg and Matthew Plosser wrote in a research paper released by the regional bank this week. \"One reason banks may be reluctant to raise deposit rates is that they have more deposits than they really need, so they are willing to allow depositors to seek better rates elsewhere.\"', '', 'The failure of deposit rates on the $18 trillion that banks hold to keep up with a rising federal funds rate is sand in the gears of monetary policy.', '', 'When the Fed changes rates, it relies on the financial system to propagate those changes to the broader financial system. The U.S. central bank has raised its short-term target rate from the near-zero level in March to its current setting of between 3.75% and 4.00%. It is almost certain to raise rates again next month and then again in 2023, as it heads to a target policy rate that could hit 5% or higher.', '', 'Higher rates are aimed at restraining economic momentum, which is what the Fed wants as it seeks to lower the highest levels of inflation seen in 40 years. Key parts of the financial system have responded: mortgage rates have soared, cratering housing activity, and car loans are more expensive. Asset markets have in general had a rough go of it, with considerable wealth destruction.', '', \"But on the flip side, those higher rates aren't making it to the retail level. According to Bankrate, the national average interest rate for a savings deposit account is 0.18% as of a Nov. 16 survey.\", '', 'Meanwhile, major banks and money managers are reaping big windfalls from the increases in the federal funds rate. The Fed pays deposit-taking banks 3.9% to park money at the central bank, and a 3.8% rate to money market funds and other eligible firms to do likewise. The Fed is currently paying those banks so much that it is now technically losing money after turning massive profits in recent years. (Reporting by Michael S. Derby; Editing by Paul Simao)']\n"
          ]
        },
        {
          "output_type": "stream",
          "name": "stderr",
          "text": [
            "Some weights of the model checkpoint at yiyanghkust/finbert-pretrain were not used when initializing BertForMaskedLM: ['cls.seq_relationship.bias', 'cls.seq_relationship.weight']\n",
            "- This IS expected if you are initializing BertForMaskedLM from the checkpoint of a model trained on another task or with another architecture (e.g. initializing a BertForSequenceClassification model from a BertForPreTraining model).\n",
            "- This IS NOT expected if you are initializing BertForMaskedLM from the checkpoint of a model that you expect to be exactly identical (initializing a BertForSequenceClassification model from a BertForSequenceClassification model).\n",
            "Some weights of the model checkpoint at bert-base-uncased were not used when initializing BertModel: ['cls.predictions.decoder.weight', 'cls.predictions.transform.dense.bias', 'cls.seq_relationship.weight', 'cls.predictions.transform.LayerNorm.weight', 'cls.seq_relationship.bias', 'cls.predictions.bias', 'cls.predictions.transform.dense.weight', 'cls.predictions.transform.LayerNorm.bias']\n",
            "- This IS expected if you are initializing BertModel from the checkpoint of a model trained on another task or with another architecture (e.g. initializing a BertForSequenceClassification model from a BertForPreTraining model).\n",
            "- This IS NOT expected if you are initializing BertModel from the checkpoint of a model that you expect to be exactly identical (initializing a BertForSequenceClassification model from a BertForSequenceClassification model).\n"
          ]
        },
        {
          "output_type": "stream",
          "name": "stdout",
          "text": [
            "[\"In the latest episode of the 'Ganado Meets Finance' podcast, Catherine Formosa Senior Associate at Ganado Advocates, speaks with Joyce Grech, Head of Commercial Banking and member of the Executive Committee of HSBC Malta on a range of topics including risks and challenges faced by banks, the current environment for Maltese corporates, sustainability and ESG as well as female participation in senior positions.\", '', 'self', '', 'During the initial part of the podcast, Joyce Grech takes the listeners through the various experiences which made up her career at HSBC Malta over the years, culminating in two important roles, that of Chief Risk Officer and her current role as Head of Commercial Banking. Despite working within the same organization, Joyce Grech believes she had the opportunity to grow and experience banking from different perspectives.', '', 'The discussion delved into the role of risk managers within banks and other financial institutions which has changed dramatically in line with the broadening of the risk taxonomy and risk becoming an enterprise-wide concept. Joyce Grech described how risks within banks evolved from typically being labelled only as \"credit risk\" or \"market risk\". Today\\'s risk managers need to adapt to and appreciate the breadth of the risks of the institution, look beyond the present and be also subject matter specialists. The focus of the risk unit within the organization can literally change from one day to the next.', '', \"Joyce Grech emphasized how identifying and understanding one's risks provides opportunities to manage and improve one's chances of success. The everchanging regulatory environment, people risk resources, cyber security risk and climate change risk are amongst the most notable risks faced by banks. Although it may not be immediately evident, climate change risk impacts banks in other areas such as credit risk, reputation risk and business continuity. Nonetheless, in every risk there are also opportunities. Joyce Grech also spoke about being employed in a customer-oriented role versus being involved within the risk function which at face value may appear to be two roles on different ends of the spectrum. Within the risk sector, the challenge is keeping the customer in mind when setting the risk appetite and in taking decisions as to how to mitigate against the relative risks.\", '', 'Joyce Grech described what she considers the primary challenges faced by Maltese businesses within the current complex environment, particularly those caused by the lingering effects of the pandemic and the war in Ukraine. She noted how disruptions in supply chains, increases in prices and reduction in capacities induced businesses to revisit their business models to address, amongst others, impact on cash flows, working capital requirements and trade cycles. Having an element of contingency inbuilt into processes and being agile are key. Additionally, against a background of regulatory demands which banks may have to pass on to their customers, the role of a bank is to, as far as possible facilitate processes for their customers particularly, through technology. One area which adds further pressure on both banks and customers is in fact regulatory reporting relating to ESG. Banks have duties to report exposures and they need to obtain certain information from their customers.', '', \"Joyce Grech discussed the issue of sustainability and recognizes that the attitudes and the level of preparedness towards this challenge differ from one business to another, something which is also evident worldwide. It is critical for businesses to look beyond short to medium term gains – sustainability will catch up with everyone and will result in pressures from consumers, suppliers, regulators and governments. Banks have a role to play not only by assisting customers in transitioning to green sources of energy or in customers' sustainability initiatives through products, solutions, knowledge and expertise sharing but also in raising awareness to the risks if action in this field continues being postponed. Ultimately, the future growth of banks themselves will also be in part impacted by their ability to support and encourage sustainability related business strategies.\", '', 'The final part of the podcast touched upon female participation, in the boardroom or at senior management levels, an area about which Joyce Grech feels strongly. Joyce Grech gave her views about the level of local participation by women in senior roles and considers that banks should be at the forefront of this area, not only because regulators are focusing on diversity in its various facets but also because of the real benefits which diversity can bring to an organisation.', '', 'The content of this article is intended to provide a general guide to the subject matter. Specialist advice should be sought about your specific circumstances.']\n"
          ]
        },
        {
          "output_type": "stream",
          "name": "stderr",
          "text": [
            "Some weights of the model checkpoint at yiyanghkust/finbert-pretrain were not used when initializing BertForMaskedLM: ['cls.seq_relationship.bias', 'cls.seq_relationship.weight']\n",
            "- This IS expected if you are initializing BertForMaskedLM from the checkpoint of a model trained on another task or with another architecture (e.g. initializing a BertForSequenceClassification model from a BertForPreTraining model).\n",
            "- This IS NOT expected if you are initializing BertForMaskedLM from the checkpoint of a model that you expect to be exactly identical (initializing a BertForSequenceClassification model from a BertForSequenceClassification model).\n",
            "Some weights of the model checkpoint at bert-base-uncased were not used when initializing BertModel: ['cls.predictions.decoder.weight', 'cls.predictions.transform.dense.bias', 'cls.seq_relationship.weight', 'cls.predictions.transform.LayerNorm.weight', 'cls.seq_relationship.bias', 'cls.predictions.bias', 'cls.predictions.transform.dense.weight', 'cls.predictions.transform.LayerNorm.bias']\n",
            "- This IS expected if you are initializing BertModel from the checkpoint of a model trained on another task or with another architecture (e.g. initializing a BertForSequenceClassification model from a BertForPreTraining model).\n",
            "- This IS NOT expected if you are initializing BertModel from the checkpoint of a model that you expect to be exactly identical (initializing a BertForSequenceClassification model from a BertForSequenceClassification model).\n"
          ]
        },
        {
          "output_type": "stream",
          "name": "stdout",
          "text": [
            "['By Nia Williams', '', \"Nov 23 (Reuters) - France's first commercial-scale offshore wind farm started operating on Wednesday, adding 480 megawatts of capacity to the grid at a time when Europe is scrambling to secure energy supplies following Russia's invasion of Ukraine.\", '', \"The Saint-Nazaire wind farm, situated off the coast of Brittany in northwestern France, consists of 80 turbines and will provide clean energy to power the equivalent of 400,000 homes annually, or 20% of the Loire-Atlantique region's electricity consumption.\", '', \"The project is co-owned by EDF Renewables and EIH Sarl, a subsidiary of Canada's Enbridge Inc, and CPP Investments.\", '', 'Enbridge, best known for its North American oil pipeline network, is a partner in three other French wind projects currently under construction.', '', '\"(We) look forward to continuing our work together in growing France\\'s offshore wind sector,\" Matthew Akman, Enbridge\\'s senior vice president of power, strategy and new energy technology, said in a news release.', '', 'The Saint-Nazaire project took 10 years to complete. In September, French President Emmanuel Macron visited the site and vowed to cut red tape to halve the time it takes in France to get renewable projects off the ground.', '', 'Earlier this year, Macron said he wants France to have about 50 offshore wind farms by 2050. (Reporting by Nia Williams in British Columbia; Editing by Cynthia Osterman)']\n"
          ]
        },
        {
          "output_type": "stream",
          "name": "stderr",
          "text": [
            "Some weights of the model checkpoint at yiyanghkust/finbert-pretrain were not used when initializing BertForMaskedLM: ['cls.seq_relationship.bias', 'cls.seq_relationship.weight']\n",
            "- This IS expected if you are initializing BertForMaskedLM from the checkpoint of a model trained on another task or with another architecture (e.g. initializing a BertForSequenceClassification model from a BertForPreTraining model).\n",
            "- This IS NOT expected if you are initializing BertForMaskedLM from the checkpoint of a model that you expect to be exactly identical (initializing a BertForSequenceClassification model from a BertForSequenceClassification model).\n",
            "Some weights of the model checkpoint at bert-base-uncased were not used when initializing BertModel: ['cls.predictions.decoder.weight', 'cls.predictions.transform.dense.bias', 'cls.seq_relationship.weight', 'cls.predictions.transform.LayerNorm.weight', 'cls.seq_relationship.bias', 'cls.predictions.bias', 'cls.predictions.transform.dense.weight', 'cls.predictions.transform.LayerNorm.bias']\n",
            "- This IS expected if you are initializing BertModel from the checkpoint of a model trained on another task or with another architecture (e.g. initializing a BertForSequenceClassification model from a BertForPreTraining model).\n",
            "- This IS NOT expected if you are initializing BertModel from the checkpoint of a model that you expect to be exactly identical (initializing a BertForSequenceClassification model from a BertForSequenceClassification model).\n"
          ]
        },
        {
          "output_type": "stream",
          "name": "stdout",
          "text": [
            "['New Visa Card Features Personal Carbon Emissions Tracker', '', 'One of several new programs to monitor your spending habits', '', 'The monitoring of personal behavior by banks will take another step forward as Canadian credit union Vancity launches a new credit card technology to report users’ carbon emissions.', '', 'On Oct. 19, Vancity announced that it will be “the first financial institution in Canada to offer its individual and business members a way to estimate the CO2 emissions that come from their purchases.” Vancity said its carbon counter, which is attached to Visa credit cards, was developed with ecolytiq, one of Europe’s leading climate engagement technology companies.', '', 'This will be the first carbon counter program for Visa holders. Mastercard already provides a CO2 emissions-tracking card, developed with technology from Swedish company Doconomy. The Visa credit card technology developed by ecolytiq also provides “education and behavioral nudging” so that card users are not only informed about the CO2 emissions of their buying activity but also told how to reduce them.', '', 'According to ecolytiq, “the financial industry will play a major role in fighting climate change. Our Sustainability-as-a-Service solution enables financial institutions to offer their customers environmental footprinting as well as personalized impact offsetting and ESG investments.”', '', 'Other tech companies are joining in this quest. Michael Evans, president of Alibaba Group, a Chinese tech company, announced at the World Economic Forum in 2021 that his company was developing an “individual carbon footprint tracker” that will monitor people’s behavior in terms of “where they are traveling, how they are traveling, what they are eating, what they are consuming.”', '', 'While this technology was ostensibly developed to fight climate change, many worry that is a first step toward personal social credit scores and could be used to track other types of behavior besides carbon emissions. For example, credit card companies Visa, Mastercard, and American Express announced in September that they would begin tracking purchases made at gun stores.', '', 'At the same time, the Biden administration is moving forward with an initiative to create a Central Bank Digital Currency (CBDC), which could ultimately replace the U.S. dollar. In place of bank deposits, a CBDC would be a digital currency issued directly by the federal government that people or banks would hold in digital wallets, similar to bitcoins. But by contrast to bitcoins, a CBDC would be controlled by either the Federal Reserve or the U.S. Treasury Department.', '', 'Biden took a first step in March toward creating a U.S. CBDC, directing his administration to report to him by October on how it would create a digital currency.', '', 'Biden stated, “My administration places the highest urgency on research and development efforts into the potential design and deployment options of a United States CBDC.” Other countries are also in the race to develop their own digital currencies. Among the priorities that Biden set for the CBDC were fighting climate change and “financial inclusion and equity.”', '', 'Biden also instructed his attorney general, Merrick Garland, to determine whether or not he will need Congressional approval to launch a CBDC, or whether the Biden administration could do it on its own. That report has since been delayed.', '', 'In February, however, the Boston Fed completed the first phase of Project Hamilton, a CBDC simulation it developed with MIT’s Digital Currency Initiative. And on Nov. 21, the Fed launched a pilot program to test a digital dollar through its New York Innovation Center.', '', 'The Fed stated that “the New York Innovation Center (NYIC) is participating in a proof-of-concept project along with members of the private sector to explore the feasibility of an interoperable network of digital central bank liabilities and commercial bank digital money.” This program is being done in collaboration with BNY Mellon, Citibank, HSBC, Mastercard, PNC Bank, TD Bank, Truist, U.S. Bank, and Wells Fargo.', '', 'Among the world’s major economies, the China’s ruling communist regime was among the first to issue a CBDC. In 2020, it introduced the e-CNY or digital yuan. By the end of 2021, the digital yuan had 260 million users, representing about one-fifth of China’s population, according to the People’s Bank of China. China’s CBDC gives its central bank access to, and control over, every digital yuan transaction.']\n"
          ]
        },
        {
          "output_type": "stream",
          "name": "stderr",
          "text": [
            "Some weights of the model checkpoint at yiyanghkust/finbert-pretrain were not used when initializing BertForMaskedLM: ['cls.seq_relationship.bias', 'cls.seq_relationship.weight']\n",
            "- This IS expected if you are initializing BertForMaskedLM from the checkpoint of a model trained on another task or with another architecture (e.g. initializing a BertForSequenceClassification model from a BertForPreTraining model).\n",
            "- This IS NOT expected if you are initializing BertForMaskedLM from the checkpoint of a model that you expect to be exactly identical (initializing a BertForSequenceClassification model from a BertForSequenceClassification model).\n",
            "Some weights of the model checkpoint at bert-base-uncased were not used when initializing BertModel: ['cls.predictions.decoder.weight', 'cls.predictions.transform.dense.bias', 'cls.seq_relationship.weight', 'cls.predictions.transform.LayerNorm.weight', 'cls.seq_relationship.bias', 'cls.predictions.bias', 'cls.predictions.transform.dense.weight', 'cls.predictions.transform.LayerNorm.bias']\n",
            "- This IS expected if you are initializing BertModel from the checkpoint of a model trained on another task or with another architecture (e.g. initializing a BertForSequenceClassification model from a BertForPreTraining model).\n",
            "- This IS NOT expected if you are initializing BertModel from the checkpoint of a model that you expect to be exactly identical (initializing a BertForSequenceClassification model from a BertForSequenceClassification model).\n"
          ]
        },
        {
          "output_type": "stream",
          "name": "stdout",
          "text": [
            "['Bank ABC has recently appointed Mike Davis as the Group Head of Corporates at its Head Office in Bahrain.', '', 'He will be reporting to Bank ABC’s Group Head of Wholesale Banking, Amr ElNokaly, who commented: “We are delighted to welcome Mike to the Wholesale Banking team. His global corporate banking expertise will certainly support growth and further unlock the potential of our clients’ corporate business across our network. We look forward to bolstering the growth of our corporate banking franchise with him.”', '', 'Commenting on his new role, Davis said: \"I am excited to be working with the Wholesale Banking team at Bank ABC. The bank has an ambitious strategy and is keen to accelerate its execution. It is an honour and a privilege to be able to contribute to the growth and transformation agenda of one of the most respected financial institutions in the region.”', '', 'Davis will be responsible for overseeing group corporate coverage and driving the growth of this strategic client segment across the bank’s global network that spans across MENA, Europe, Asia, and the Americas.', '', 'Davis brings 15 years of management experience across eight countries and four continents to his new role at the bank. The senior banker joins Bank ABC from ADIB, UAE. Prior to that he worked with HSBC, where he held several leading roles in London, Taiwan, Hong Kong, Canada and the UAE.', '', 'Davis holds an International MBA from Schulich School of Business, York University, Toronto, Canada. – TradeArabia News Service']\n"
          ]
        },
        {
          "output_type": "stream",
          "name": "stderr",
          "text": [
            "Some weights of the model checkpoint at yiyanghkust/finbert-pretrain were not used when initializing BertForMaskedLM: ['cls.seq_relationship.bias', 'cls.seq_relationship.weight']\n",
            "- This IS expected if you are initializing BertForMaskedLM from the checkpoint of a model trained on another task or with another architecture (e.g. initializing a BertForSequenceClassification model from a BertForPreTraining model).\n",
            "- This IS NOT expected if you are initializing BertForMaskedLM from the checkpoint of a model that you expect to be exactly identical (initializing a BertForSequenceClassification model from a BertForSequenceClassification model).\n",
            "Some weights of the model checkpoint at bert-base-uncased were not used when initializing BertModel: ['cls.predictions.decoder.weight', 'cls.predictions.transform.dense.bias', 'cls.seq_relationship.weight', 'cls.predictions.transform.LayerNorm.weight', 'cls.seq_relationship.bias', 'cls.predictions.bias', 'cls.predictions.transform.dense.weight', 'cls.predictions.transform.LayerNorm.bias']\n",
            "- This IS expected if you are initializing BertModel from the checkpoint of a model trained on another task or with another architecture (e.g. initializing a BertForSequenceClassification model from a BertForPreTraining model).\n",
            "- This IS NOT expected if you are initializing BertModel from the checkpoint of a model that you expect to be exactly identical (initializing a BertForSequenceClassification model from a BertForSequenceClassification model).\n"
          ]
        },
        {
          "output_type": "stream",
          "name": "stdout",
          "text": [
            "['From L-R: Ting Sia, Nikki Singh, Jaz Baker, Michael Cunningham (on screen), Melissa Radman, Chris Hyland', '', '', '', '', '', '', '', 'Wunderman Thompson have bolstered their national Design team with Melissa Radman’s promotion to national design director.', '', 'Well known in both the Perth and national markets, Radman has been recognised throughout her career for her design leadership and talent, from being awarded PADCs Designer of the Year to her work recognised at national award shows, as well as being juror for AWARD and AADC.', '', 'Mel has a reputation for her tireless efforts in promoting design and creativity especially for up-and-coming talent in the industry, as a guest lecturer and industry advisor, portfolio judge and mentor. Since returning from maternity leave, she has donated her time to the Perth Advertising and Design Club committee, bringing events to the industry for mental health and indigenous creativity.', '', 'Mel and her team have delivered consistently with their wholistic approach to strategic brand design including recently for West Australian Ballet, Steel Blue Boots, HSBC and state government utilities and initiatives.', '', 'WT and Radman are both driven by purposeful ambition and take pride in all the agency’s brand design projects being an integrated extension of a client’s brand strategy and creative output.', '', 'In addition, the Design team will be bolstered by the addition of Nikki Singh, one of four recipients of the Helen Lansdowne Resor (HLR) Scholarship. The scholarship is an international opportunity that aims to amplify historically marginalised voices in the creative industry. It provides females and non-binary university students the opportunities and support they need to successfully join the advertising industry’s creative ranks.', '', 'Helen Lansdowne Resor was the industry and Wunderman Thompson’s first female copywriter, and an unparalleled creative force during her time. Since 2014, the global scholarship awards four recipients up to $10,000 towards their creative journey, plus a paid internship at a Wunderman Thompson office in their region, a mentor from WT and a “first look” placement consideration upon graduation.', '', 'Radman says “I’m honoured to be appointed as National Design Director, and excited to welcome Nikki to the team for her internship, and hopefully beyond. The opportunity to work across the national Wunderman Thompson client base and stretch the boundaries of our strategic design thinking is amazing for the team, and for me personally”.', '', 'Wunderman Thompson CEO, Matt Parry said “Mel and her team bring a huge level of experience and creativity to our design offer nationally. It was a natural decision to place her in this important national role. We’re also excited about adding Nikki to the team and looking forward to giving her career a great kick-start at WT”.', '', '', '', '']\n"
          ]
        },
        {
          "output_type": "stream",
          "name": "stderr",
          "text": [
            "Some weights of the model checkpoint at yiyanghkust/finbert-pretrain were not used when initializing BertForMaskedLM: ['cls.seq_relationship.bias', 'cls.seq_relationship.weight']\n",
            "- This IS expected if you are initializing BertForMaskedLM from the checkpoint of a model trained on another task or with another architecture (e.g. initializing a BertForSequenceClassification model from a BertForPreTraining model).\n",
            "- This IS NOT expected if you are initializing BertForMaskedLM from the checkpoint of a model that you expect to be exactly identical (initializing a BertForSequenceClassification model from a BertForSequenceClassification model).\n",
            "Some weights of the model checkpoint at bert-base-uncased were not used when initializing BertModel: ['cls.predictions.decoder.weight', 'cls.predictions.transform.dense.bias', 'cls.seq_relationship.weight', 'cls.predictions.transform.LayerNorm.weight', 'cls.seq_relationship.bias', 'cls.predictions.bias', 'cls.predictions.transform.dense.weight', 'cls.predictions.transform.LayerNorm.bias']\n",
            "- This IS expected if you are initializing BertModel from the checkpoint of a model trained on another task or with another architecture (e.g. initializing a BertForSequenceClassification model from a BertForPreTraining model).\n",
            "- This IS NOT expected if you are initializing BertModel from the checkpoint of a model that you expect to be exactly identical (initializing a BertForSequenceClassification model from a BertForSequenceClassification model).\n"
          ]
        },
        {
          "output_type": "stream",
          "name": "stdout",
          "text": [
            "['Link raised $3.3 billion via the issuance of five-year convertible bonds with a coupon rate of 4.5% p.a.', '', 'Replenish funding sources in light of the maturing facilities and increase the portion of fixed-rate debt in spite of interest rate hike', '', 'Link Asset Management Limited (Link), the manager of Link Real Estate Investment Trust (Link REIT; Hong Kong stock code: 823), announced today (Wednesday) that Link successfully priced its convertible bonds (the \"Bonds\") due 2027, raising $3.3 billion at 4.5% p.a.', '', \"The Bonds are convertible in the circumstances set out in their terms and conditions into Link's new units at an initial conversion price of $61.92 per unit (subject to adjustments), which represents a conversion premium of 16.5% above the closing price of the unit as quoted on the Stock Exchange of Hong Kong on 22 November 2022. Application will be made for the listing of the Bonds and the units to be issued upon conversion of the Bonds on the Stock Exchange of Hong Kong.\", '', \"George Hongchoy, Link's Chief Executive Officer, said:\", '', '\"We are pleased to receive strong responses from global investors toward our issuance, demonstrating their confidence in Link\\'s long-term growth prospects. The issuance of convertible bonds enables us to replenish our funding at a lower cost and give us additional financial resources and liquidity for operational needs and business development.\"', '', \"Assuming there is no other change in Link's existing unitholding and full conversion of the Bonds at the initial conversion price of $61.92 per unit, a maximum of 53,294,573 new units will be issued, representing approximately 2.5% of the number of units in issue as enlarged by the issue of the new units.\", '', 'The proceeds will be used to refinance existing obligations as well as general corporate purposes. Link last issued convertible bonds in 2019, which raised $4 billion - majority of them have been repaid, and only $787 million remains outstanding.', '', 'HSBC is the sole global coordinator and sole bookrunner for the convertible bond issuance.', '', 'More details about the issue are available in the regulatory announcement.', '', '- End -', '', 'About Link', '', \"Link Real Estate Investment Trust (Hong Kong stock code: 823), is the largest REIT in Asia. It is managed by Link Asset Management Limited, a leading real estate investor and asset manager in the world. Since its listing in 2005 as the first REIT in Hong Kong, Link REIT has been 100% held by public and institutional investors. It is a constituent of the Hong Kong securities market benchmark Hang Seng Index, as well as a component of the Dow Jones Sustainability Asia Pacific Index, the FTSE4Good Index Series and the Hang Seng Corporate Sustainability Index. From its home in Hong Kong, Link Asset Management Limited owns and manages a diversified portfolio including retail facilities, car parks, offices and logistics assets spanning from China's Beijing, Greater Bay Area (Hong Kong, Guangzhou and Shenzhen), and Yangtze River Delta centred around Shanghai, to the UK's London and Australia's Sydney and Melbourne. Link Asset Management Limited seeks to extend its portfolio growth trajectory and grasp expansion opportunities in different markets in pursuit of sustainable growth.\", '', 'For details, please visit https://www.linkreit.com.', '', 'Back']\n"
          ]
        },
        {
          "output_type": "stream",
          "name": "stderr",
          "text": [
            "Some weights of the model checkpoint at yiyanghkust/finbert-pretrain were not used when initializing BertForMaskedLM: ['cls.seq_relationship.bias', 'cls.seq_relationship.weight']\n",
            "- This IS expected if you are initializing BertForMaskedLM from the checkpoint of a model trained on another task or with another architecture (e.g. initializing a BertForSequenceClassification model from a BertForPreTraining model).\n",
            "- This IS NOT expected if you are initializing BertForMaskedLM from the checkpoint of a model that you expect to be exactly identical (initializing a BertForSequenceClassification model from a BertForSequenceClassification model).\n",
            "Some weights of the model checkpoint at bert-base-uncased were not used when initializing BertModel: ['cls.predictions.decoder.weight', 'cls.predictions.transform.dense.bias', 'cls.seq_relationship.weight', 'cls.predictions.transform.LayerNorm.weight', 'cls.seq_relationship.bias', 'cls.predictions.bias', 'cls.predictions.transform.dense.weight', 'cls.predictions.transform.LayerNorm.bias']\n",
            "- This IS expected if you are initializing BertModel from the checkpoint of a model trained on another task or with another architecture (e.g. initializing a BertForSequenceClassification model from a BertForPreTraining model).\n",
            "- This IS NOT expected if you are initializing BertModel from the checkpoint of a model that you expect to be exactly identical (initializing a BertForSequenceClassification model from a BertForSequenceClassification model).\n"
          ]
        },
        {
          "output_type": "stream",
          "name": "stdout",
          "text": [
            "['George Osborne’s family business upped pay for directors, who include the former chancellor, by 30% last year as profits were boosted by £700,000 in British and US government grants.', '', 'Wallpaper maker Osborne & Little almost tripled profits to £1.5m as sales rose almost 20% to £29m in the year to the end of March 2022, according to accounts filed this week at Companies House.', '', 'The increase in profits came despite the company complaining of a reduction in profit margins as a result of the additional costs of selling to the EU post-Brexit.', '', 'Osborne & Little set up a new distributor in Germany in March last year to help improve the flow of goods to the EU and reduce costs.', '', 'Profits were helped by £22,000 in UK coronavirus job retention scheme payments and a £29,000 grant to cover interest on its government-backed coronavirus business interruption loan (CBIL), as well as a £618,000 “paycheck loan” from the the US government under its CARES Act scheme, which the company does not have to pay back under a deal announced in May.', '', 'Those payments came on top of £510,000 in UK furlough support a year before and £128,000 to help cover interest on the CBIL.', '', 'Osborne & Little took out a £3.6m government-backed CBIL with its lending bank HSBC during the pandemic, paying back £1.85m last year and £83,000 in June this year. However, the company breached its deal with HSBC in June this year, in relation to the amount of cash in the business, and was forced to renegotiate under terms that require monthly liquidity tests.', '', 'Meanwhile, the company’s highest paid director, thought to be Osborne’s father, Sir Peter Osborne, who controls the company, increased their pay by just over a quarter to £521,000 from £411,000. That was the major part of a rise in total directors’ pay for the group to £816,000 from £623,000 a year before.', '', 'Sales to the EU rose just 0.4% in the year compared with 26% growth in the US, 22.5% in the UK and 18% elsewhere, although the company noted that since setting up its new arrangement in Germany “goods are flowing more easily into Europe than in the first six months following Brexit.”.', '', 'The company has flagged issues caused by higher costs linked to Brexit on several occasions despite calculating in 2016, at the time of the UK’s vote on Brexit, that there would be “limited impact” in the short-term from leaving the EU, and if sterling remained weak, it would bring a “material benefit” to the business.', '', 'Osborne & Little declined to comment.']\n"
          ]
        },
        {
          "output_type": "stream",
          "name": "stderr",
          "text": [
            "Some weights of the model checkpoint at yiyanghkust/finbert-pretrain were not used when initializing BertForMaskedLM: ['cls.seq_relationship.bias', 'cls.seq_relationship.weight']\n",
            "- This IS expected if you are initializing BertForMaskedLM from the checkpoint of a model trained on another task or with another architecture (e.g. initializing a BertForSequenceClassification model from a BertForPreTraining model).\n",
            "- This IS NOT expected if you are initializing BertForMaskedLM from the checkpoint of a model that you expect to be exactly identical (initializing a BertForSequenceClassification model from a BertForSequenceClassification model).\n",
            "Some weights of the model checkpoint at bert-base-uncased were not used when initializing BertModel: ['cls.predictions.decoder.weight', 'cls.predictions.transform.dense.bias', 'cls.seq_relationship.weight', 'cls.predictions.transform.LayerNorm.weight', 'cls.seq_relationship.bias', 'cls.predictions.bias', 'cls.predictions.transform.dense.weight', 'cls.predictions.transform.LayerNorm.bias']\n",
            "- This IS expected if you are initializing BertModel from the checkpoint of a model trained on another task or with another architecture (e.g. initializing a BertForSequenceClassification model from a BertForPreTraining model).\n",
            "- This IS NOT expected if you are initializing BertModel from the checkpoint of a model that you expect to be exactly identical (initializing a BertForSequenceClassification model from a BertForSequenceClassification model).\n"
          ]
        },
        {
          "output_type": "stream",
          "name": "stdout",
          "text": [
            "['Android device owners beware — more malicious apps have been discovered on the Google Play store. Bitdefender’s cybersecurity team says several fake Android file manager apps are infecting Android devices with the SharkBot banking malware. These fake apps are no longer available on the store, but they might still be on your phone. Screenshots of the store pages show that thousands of Android users downloaded these malicious apps.', '', 'As Bleeping Computer explains, SharkBot malware tries to steal bank accounts by displaying fake login forms on top of legitimate login prompts found in banking apps. If you input your username and password into the fake form, it will be sent to a hacker, who can then use it to infiltrate your account and steal your money.', '', 'In September, we warned about SharkBot malware disguised as phone cleaning apps. Now, the threat actors appear to have moved on to file manager apps. One such app (which isn’t on Google Play anymore) was X-File Manager, with over 10,000 downloads.', '', 'Upon downloading the app, users shouldn’t be suspicious. The app does ask for a bunch of invasive permissions, including reading and writing external storage, installing and deleting packages, and accessing account details. But this is a file management app. It makes sense that it would need more permissions than an average productivity app.', '', 'Eventually, the app downloads the malicious payload and prompts the user to install an update. In reality, the user is installing the SharkBot malware.', '', 'According to Bitdefender, this campaign is specifically targeting users in Great Britain and Ireland. If the app detects a SIM card from those regions, it will download the malware. The banking apps targeted by the campaign include Barclays, Bank of Ireland Mobile Banking, Santander Mobile Banking, and HSBC UK Mobile Banking.', '', 'Other apps Bitdefender claims were infecting Android devices include “FileVoyager,” “Phone AID, Cleaner, Booster,” and “LiteCleaner M.” If you have any of these apps on your Android device, delete them as soon as you possibly can.', '', 'READ MORE: 4 dangerous Android malware apps discovered on Google Play']\n"
          ]
        },
        {
          "output_type": "stream",
          "name": "stderr",
          "text": [
            "Some weights of the model checkpoint at yiyanghkust/finbert-pretrain were not used when initializing BertForMaskedLM: ['cls.seq_relationship.bias', 'cls.seq_relationship.weight']\n",
            "- This IS expected if you are initializing BertForMaskedLM from the checkpoint of a model trained on another task or with another architecture (e.g. initializing a BertForSequenceClassification model from a BertForPreTraining model).\n",
            "- This IS NOT expected if you are initializing BertForMaskedLM from the checkpoint of a model that you expect to be exactly identical (initializing a BertForSequenceClassification model from a BertForSequenceClassification model).\n",
            "Some weights of the model checkpoint at bert-base-uncased were not used when initializing BertModel: ['cls.predictions.decoder.weight', 'cls.predictions.transform.dense.bias', 'cls.seq_relationship.weight', 'cls.predictions.transform.LayerNorm.weight', 'cls.seq_relationship.bias', 'cls.predictions.bias', 'cls.predictions.transform.dense.weight', 'cls.predictions.transform.LayerNorm.bias']\n",
            "- This IS expected if you are initializing BertModel from the checkpoint of a model trained on another task or with another architecture (e.g. initializing a BertForSequenceClassification model from a BertForPreTraining model).\n",
            "- This IS NOT expected if you are initializing BertModel from the checkpoint of a model that you expect to be exactly identical (initializing a BertForSequenceClassification model from a BertForSequenceClassification model).\n"
          ]
        },
        {
          "output_type": "stream",
          "name": "stdout",
          "text": [
            "['Citigroup (NYSE:C) is bulking up its investment banking operations in the United Arab Emirates and Saudi Arabia, as it seeks to profit from surging growth in the Gulf market for initial public offerings, Reuters reported Tuesday, citing an interview with a company executive. The bank has increased its IB team in the region by 50% in the past two years, and plans to add more, the company confirmed in an email to Seeking Alpha. (Updated at 12:51 PM ET).', '', \"While much of the world has seen IPOs decline from last year as the stock market dropped for most of 2022, the Gulf region's activity has surged due to high oil prices and government-led privatization programs. The regions issuers have raised ~$16B in IPOs, this year, comprising about half of total IPO proceeds for Europe, the Middle East, and Africa, according to Refinitiv data.\", '', \"Citi (C) relocated Omar El Duraie, its director for power, renewables and utlities, to Dubai from London earlier this year, and plans to add more people in the UAE and Saudi Arabia by the end of 2022, said Miguel Azevado, Citi's head of investment banking for the Middle East and Africa, excluding South Africa.\", '', '\"This year the region has been extremely active while the rest of the world has been on pause,\" he said. \"I expect next year to be very similar to this year.\"', '', 'According to Dealogic, Citi (C) stands in fifth place for IPO bookrunning in the Middle East/Africa region, following HSBC (HSBC), EFG-Hermes (OTC:EFGZF) , Goldman Sachs (GS), and Riyad Bank, the the year through Nov. 15.', '', 'In terms of investing banking revenue on a global basis, Citi (C) also ranked in fifth place for the year through Sept. 14.']\n"
          ]
        },
        {
          "output_type": "stream",
          "name": "stderr",
          "text": [
            "Some weights of the model checkpoint at yiyanghkust/finbert-pretrain were not used when initializing BertForMaskedLM: ['cls.seq_relationship.bias', 'cls.seq_relationship.weight']\n",
            "- This IS expected if you are initializing BertForMaskedLM from the checkpoint of a model trained on another task or with another architecture (e.g. initializing a BertForSequenceClassification model from a BertForPreTraining model).\n",
            "- This IS NOT expected if you are initializing BertForMaskedLM from the checkpoint of a model that you expect to be exactly identical (initializing a BertForSequenceClassification model from a BertForSequenceClassification model).\n",
            "Some weights of the model checkpoint at bert-base-uncased were not used when initializing BertModel: ['cls.predictions.decoder.weight', 'cls.predictions.transform.dense.bias', 'cls.seq_relationship.weight', 'cls.predictions.transform.LayerNorm.weight', 'cls.seq_relationship.bias', 'cls.predictions.bias', 'cls.predictions.transform.dense.weight', 'cls.predictions.transform.LayerNorm.bias']\n",
            "- This IS expected if you are initializing BertModel from the checkpoint of a model trained on another task or with another architecture (e.g. initializing a BertForSequenceClassification model from a BertForPreTraining model).\n",
            "- This IS NOT expected if you are initializing BertModel from the checkpoint of a model that you expect to be exactly identical (initializing a BertForSequenceClassification model from a BertForSequenceClassification model).\n"
          ]
        },
        {
          "output_type": "stream",
          "name": "stdout",
          "text": [
            "[\"Henry Paul has stepped down as head coach of Canada's men's rugby sevens team after three years leading the squad.\", '', 'Rugby Canada said in a release Tuesday that it has agreed to release Paul from his contract \"with immediate effect.\"', '', \"Paul's time at the helm included an eighth-place finish at the Tokyo Olympics and a quarter-final appearance at the 2022 Commonwealth Games in Birmingham, England. The team finished a program-best fourth overall on the World Rugby Sevens Series circuit in 2021.\", '', \"Paul, a 48-year-old from Tokoroa, New Zealand, joined Rugby Canada's coaching ranks in 2018 as defensive coach for the men's national team that earned qualification for the 2019 Rugby World Cup.\", '', \"He took over the men's sevens program in May 2019 on an interim basis following the departure of Damian McGrath before being named full-time head coach at the start of that year's world sevens series.\", '', \"Assistant coach Sean White will lead the men's sevens team as they depart for back-to-back HSBC Series stops in Dubai and Cape Town.\"]\n"
          ]
        },
        {
          "output_type": "stream",
          "name": "stderr",
          "text": [
            "Some weights of the model checkpoint at yiyanghkust/finbert-pretrain were not used when initializing BertForMaskedLM: ['cls.seq_relationship.bias', 'cls.seq_relationship.weight']\n",
            "- This IS expected if you are initializing BertForMaskedLM from the checkpoint of a model trained on another task or with another architecture (e.g. initializing a BertForSequenceClassification model from a BertForPreTraining model).\n",
            "- This IS NOT expected if you are initializing BertForMaskedLM from the checkpoint of a model that you expect to be exactly identical (initializing a BertForSequenceClassification model from a BertForSequenceClassification model).\n",
            "Some weights of the model checkpoint at bert-base-uncased were not used when initializing BertModel: ['cls.predictions.decoder.weight', 'cls.predictions.transform.dense.bias', 'cls.seq_relationship.weight', 'cls.predictions.transform.LayerNorm.weight', 'cls.seq_relationship.bias', 'cls.predictions.bias', 'cls.predictions.transform.dense.weight', 'cls.predictions.transform.LayerNorm.bias']\n",
            "- This IS expected if you are initializing BertModel from the checkpoint of a model trained on another task or with another architecture (e.g. initializing a BertForSequenceClassification model from a BertForPreTraining model).\n",
            "- This IS NOT expected if you are initializing BertModel from the checkpoint of a model that you expect to be exactly identical (initializing a BertForSequenceClassification model from a BertForSequenceClassification model).\n"
          ]
        },
        {
          "output_type": "stream",
          "name": "stdout",
          "text": [
            "['By Uditha Jayasinghe', '', 'COLOMBO (Reuters) – Sri Lanka’s central bank is expected to keep rates steady as inflation shows signs of easing and as authorities focus on discussions to secure a $2.9 billion International Monetary Fund (IMF) bailout to stabilise its crisis-hit economy.', '', 'Thirteen out of 15 economists and analysts polled by Reuters forecast rates to remain unchanged at Thursday’s policy announcement, as the Central Bank of Sri Lanka (CBSL) waits for the effects of its earlier hikes to filter through to prices and the broader economy.', '', 'The CBSL held both the standing deposit facility rate and standing lending facility rate stand at 14.50% and 15.50%, respectively, in its last policy announcement on Oct. 6.', '', '“Things have stabilised to some extent on the monetary side, but not the economy as a whole. If global economic stress starts to ease and if Sri Lanka secures an IMF deal before next March we can expect rate cuts in mid-2023,” said Visaahan Arumainayagam, analyst for Colombo-based brokering firm Asha Securities.', '', 'The CBSL has raised rates by a record 950 basis points this year to battle runaway inflation which has piled pressure on an economy grappling with its worst crisis since independence from Britain in 1948.', '', 'After hitting an annual peak of 68.9% in September with food inflation climbing to 93.7%, consumer inflation moderated slightly to 66% in October.', '', 'Sri Lanka’s economy shrank 8.4% in the quarter through June from a year ago in one of the steepest declines seen in a three-month period, amid fertilizer and fuel shortages. The central bank is forecasting gross domestic product to contract 8.7% in 2022, one of the worst full year slumps on record.', '', 'An acute dollar shortage has left Sri Lanka struggling to pay for essential imports of food, fuel and medicine, with all eyes on the IMF bailout to try and stabilise the nation’s perilous debt situation and finances..', '', '“The key challenges will be getting the debt restructuring plan through, getting an IMF programme underway, securing bilateral funding support and addressing the structural issues that led to a fiscal and current account deficit,” said Rehana Thowfeek, economist for think tank Advocata Research.', '', '“Sri Lanka is in need of some deep economic reforms which are politically challenging, overcoming this will be difficult.”', '', 'Organisati SDFR On SLFR On', '', 'on Nov. 24 Nov. 24', '', 'CT CLSA 14.50% 15.50%', '', 'Acuity 14.50% 15.50%', '', 'Advocata 14.50% 15.50%', '', 'Institute', '', 'CAL Group 14.50% 15.50%', '', 'Lanka 14.50% 15.50%', '', 'Securities', '', 'First 14.50% 15.50%', '', 'Capital', '', 'Asha 14.50% 15.50%', '', 'Securities', '', 'Capital 14.50% 15.50%', '', 'Economics', '', 'NDB 14.50% 15.50%', '', 'Investment', '', 'Bank', '', 'University 14.50% 15.50%', '', 'of Colombo', '', 'JB 14.50% 15.50%', '', 'Securities', '', 'Frontier 14.50% 15.50%', '', 'Research', '', 'CSE 13.50% 14.50%', '', 'Standard 16.50%', '', 'Chartered', '', 'HSBC 14.50% 15.50%', '', '(Reporting by Uditha Jayasinghe; Editing by Shri Navaratnam)']\n"
          ]
        },
        {
          "output_type": "stream",
          "name": "stderr",
          "text": [
            "Some weights of the model checkpoint at yiyanghkust/finbert-pretrain were not used when initializing BertForMaskedLM: ['cls.seq_relationship.bias', 'cls.seq_relationship.weight']\n",
            "- This IS expected if you are initializing BertForMaskedLM from the checkpoint of a model trained on another task or with another architecture (e.g. initializing a BertForSequenceClassification model from a BertForPreTraining model).\n",
            "- This IS NOT expected if you are initializing BertForMaskedLM from the checkpoint of a model that you expect to be exactly identical (initializing a BertForSequenceClassification model from a BertForSequenceClassification model).\n",
            "Some weights of the model checkpoint at bert-base-uncased were not used when initializing BertModel: ['cls.predictions.decoder.weight', 'cls.predictions.transform.dense.bias', 'cls.seq_relationship.weight', 'cls.predictions.transform.LayerNorm.weight', 'cls.seq_relationship.bias', 'cls.predictions.bias', 'cls.predictions.transform.dense.weight', 'cls.predictions.transform.LayerNorm.bias']\n",
            "- This IS expected if you are initializing BertModel from the checkpoint of a model trained on another task or with another architecture (e.g. initializing a BertForSequenceClassification model from a BertForPreTraining model).\n",
            "- This IS NOT expected if you are initializing BertModel from the checkpoint of a model that you expect to be exactly identical (initializing a BertForSequenceClassification model from a BertForSequenceClassification model).\n"
          ]
        },
        {
          "output_type": "stream",
          "name": "stdout",
          "text": [
            "['The COVER Women in Protection and Health Awards is our chance to celebrate the leading women within the life, protection and health insurance industry.', '', 'Industry bodies, firms and individual leaders are working tirelessly to address gender and diversity inequality, but the industry is still largely male-dominated while women are often severely under-protected financially in wider society.', '', 'These awards are our opportunity to recognise and celebrate those who are demonstrably changing the game; those driving industry diversity from within and doing their utmost to improve access to insurance for women and their families across the marketplace.', '', 'There are two new award categories in the programme for 2023: Outstanding Culture of Inclusivity will recognise the life, health and protection organisation that has created a new level of company culture with diversity and inclusivity as a key pillar, while Educator of the Year is open for women across the industry who are raising standards of education and knowledge across the sector.', '', 'There were almost 1,500 total nominations for outstanding individuals and companies submitted for the 2023 iteration of the awards, demonstrating the depth of quality the protection, health, employee benefits and insurtech sectors can boast.', '', 'The final nominee longlist features 448 individuals from 130 companies across the protection and health insurance space, with several male industry members among the contingent, eligible for the Diversity & Inclusion Champion of the Year and Mentor of the Year categories.', '', 'All nominated individuals and firms will be contacted by COVER this week with information on how to submit their entry forms across the 17 categories. Nominees that do not submit the entry form will not be move to the short-listing phase of the awards.', '', 'The prestigious awards event will take place at Marriott Hotel Grosvenor Square, London, on Wednesday 26 April 2023. To book a table or find out about sponsorship opportunities please contact [email protected].', '', 'Visit the event website for more information about the COVER Women in Protection & Health Awards.', '', 'Individual Nominees:', '', 'Abbie-Louise Small, ActiveQuote', '', 'Abby Carr, L&C', '', 'Agnieszka Purchla, OWL Financial', '', 'Aisling Burgess, Bupa', '', 'Aisling Young, Bupa', '', 'Alaana Woods, Bupa', '', 'Alexandra Schofield, HSBC Life', '', 'Alexandra Sweeney, Aston Lark Employee Benefits', '', 'Ali Crossley, Legal & General', '', 'Alice Richardson, Peachy', '', 'Alisa Wallington, iPipeline', '', 'Alison Esson, AIG Life', '', 'Alison Warburton, Aegon', '', 'Allyson Gayle, Isio', '', 'Alyson Perry, Sesame Bankhall Group', '', 'Amanda Blanc, Aviva', '', 'Amanda Cran, Buck', '', 'Amanda Curwood, Reassured', '', 'Amanda Moore, LifeSearch', '', 'Amanda Robinson, Bupa', '', 'Amanda Siskos, Vitality', '', 'Amanda Wilson, The Right Mortgage', '', 'Ambika Fraser, Unum UK', '', 'Amit Patel, Peachy', '', 'Amy Egginton, Bupa', '', 'Amy Pearce, Holloway Friendly', '', 'Amy Potter, L&C', '', 'Amy Povey, Aviva', '', 'Amy Sorrell, Reassured', '', \"Amy Whittingham, St James's Place Protection Planning\", '', 'Amy Wilson, The Right Retirement', '', 'Andrea Hornby, Buck', '', 'Angela Davidson, Mortgage Intelligence', '', 'Anita Danso-Tawiah, Eminent Financial', '', 'Anna Dadas, Supreme Financial Solutions', '', 'Anna Graham, AIG Life', '', 'Anne Drugnick, Punter Southall', '', 'Anne Durkin, AIG Life', '', 'Anne-Marie Barleycorn, Drewberry', '', 'Anne-Marie Love, National Friendly', '', 'Annette Keevil, Cirencester Friendly', '', 'Anushka Patchava, Vitality', '', 'Anya Roy, Syrona Health', '', 'Arti Ranade, HealthHero', '', 'Aziza Bhana, LifeSearch', '', 'Babs Byrne, Guardian Financial Services', '', 'Becky Bailey, USAY Compare', '', 'Becky Myatt, Holloway Friendly', '', 'Berenice Briet, YuLife', '', 'Beth Husted, Unum UK', '', 'Bethan Winstanley, MetLife UK', '', 'Brenda Enticott, MetLife UK', '', 'Brian Seaman, The Openwork Partnership', '', 'Brianna Saraceno, AIG Life', '', 'Camilla Hoskisson, AIG Life', '', 'Carla Cheek, Reassured', '', 'Carly Gibb, Sesame Bankhall Group', '', 'Caroline Froude, Guardian Financial Services', '', 'Caroline Hume, Cirencester Friendly', '', 'Caroline Payne, AIG Life', '', 'Caroline Pilot, HealthHero', '', 'Caroline Smith, AIG Life', '', 'Carron Wilson, The Openwork Partnership', '', 'Cassandra Pilling, Towergate Health & Protection', '', 'Catherine Betley, GriefChat', '', 'Catherine Sinton, MetLife UK', '', 'Catherine Trimble, Scottish Widows', '', 'Cathy Yang, HSBC Life', '', 'Catrin Williams, Legal & General', '', 'Chantel McGill, iPipeline', '', 'Chantelle Buckhorn, Punter Southall', '', 'Charlie Gray, LifeSearch', '', 'Charlotte Barnes, Better Health Insurance Advice', '', 'Charlotte Lade, MetLife UK', '', 'Charlotte McGregor, 4most', '', 'Charlotte Nixon, Quilter financial Planning', '', 'Charlotte Rogers, Radcliffe & Co', '', 'Charul Kumar, 4most', '', 'Chelsea Ely, L&C', '', 'Chelsea White, LifeSearch', '', 'Cherian Skariah, OWL Financial', '', 'Cherylene Walters, Essential Finance Group', '', 'Chloe Carter, Legal & General', '', 'Chloe Davies, Guardian Financial Services', '', 'Christiana Fatola, OWL Financial', '', 'Christine Bird, CIExpert', '', 'Christine Husbands, RedArc', '', 'Christine Newell, Paradigm Protect', '', 'Cindy Warden, Zurich', '', 'Claire Anam, AIG Life', '', 'Claire Bostock, HSBC Life', '', 'Claire Cheesman, Foresters Financial', '', 'Claire Curley, AIG Life', '', 'Claire Nolan, Swiss Re', '', \"Claire O'Toole, Towergate Health & Protection\", '', 'Claire Shine, iPipeline', '', 'Claire Thorne, AIG Life', '', 'Claudie Francis, iPipeline', '', 'Clodagh Morris, Legal & General', '', 'Collette Ward, Aegon', '', 'Craig Dickinson, Aegon', '', 'Debbie Bonser, British Friendly Society', '', 'Debbie Chatfield-Smith, Legal & General', '', 'Debbie Cullen, HealthHero', '', 'Debbie Irving, Capita', '', 'Debbie Kennedy, LifeSearch', '', 'Debra Clark, Towergate Health & Protection', '', 'Debra Sales, Aviva', '', 'Dianne Wheeler, The Insurance Surgery', '', 'Dina Bhudia, P2M Asset Management', '', 'Dina cohen, YuLife', '', 'Dipa Mistry Kandola, Cloud8', '', 'Dr Paula Franklin, Bupa', '', 'Dr Samantha Wild, Bupa', '', 'Dr Sheun Oke, Wealthmax Financial Advisers', '', 'Eka Vankova, William Russell', '', 'Elaine Cruickshank, Aegon', '', 'Eleanor Colvin, HealthHero', '', 'Eleanor Wood, Peace of Mind Financial Solutions', '', 'Eleni Sofroniou, ActiveQuote', '', 'Elle Darling, Canada Life', '', 'Ellen Thompson, Canada Life', '', 'Ellie Sultana, advo', '', 'Eloise Hammond, Skerritts', '', 'Emilie Ward, The Insurance Surgery', '', 'Emily Kate-Day, LifeSearch', '', 'Emma Astley, Cover My Bubble', '', 'Emma Blackmore, MetLife UK', '', 'Emma Davies, Legal & General', '', 'Emma Farrell, Holloway Friendly', '', 'Emma Smith, The Openwork Partnership', '', 'Emma Snowden, Punter Southall', '', 'Emma Thomson, Sesame Bankhall Group', '', 'Emma Vaughan, SimplyBiz', '', 'Emma Walker, Lifesearch', '', 'Emma Walker, Greenshoots Financial', '', 'Emma Ward, Red Dot Cymru', '', 'Emma Wood, Aegon', '', 'Fiona Kiwanuka, Royal London', '', 'Fiona Wainwright, Aviva', '', 'Fiona Wynn, Legal & General', '', 'Fran Bruce, Aviva', '', 'Fran Hoyle, Vitality', '', 'Francesca Ferraris, 4most', '', 'Gemma Cuff, Gemstone Mortgages', '', 'Gemma Howley, Aviva', '', 'Gemma Ingram, Aegon', '', 'Gemma Perry, Aviva', '', \"Georgia d'Esterre, National Friendly\", '', 'Georgia Perkins, Aegon', '', 'Godwin Bassey, OWL Financial', '', 'Hannah Baker, LV=', '', 'Hannah Murray, Future Proof', '', 'Hannah-Jane Reiss, Bupa', '', 'Hayley Clucas, Caspian Insurance Services', '', 'Hazel Johnston, Legal & General', '', 'Heidi Stewart, BHSF', '', 'Helen Bullen, Buck', '', 'Helen Croft, AIG Life', '', 'Helen Harper, Legal & General', '', 'Helen Jacobs, Holloway Friendly', '', 'Helen Morris, Aegon', '', 'Helen Wakeley, Holloway Friendly', '', 'Hilary Banks, Guardian Financial Services', '', 'Hollie Osborne, Gemstone Mortgages', '', 'Holly Broad, AIG Life', '', 'Holly Hill, John Lamb Hill Oldridge', '', 'Holly Stevens, Bupa', '', 'Ian Teague, iPipeline', '', 'Inez Cooper, William Russell', '', 'Isabella Streames, Velvet Mortgage & Insure Services', '', 'Isobel Dobney, LifeSearch', '', 'Isobel Langton, The Exeter', '', 'Issy Minturn, The Openwork Partnership', '', 'Izabela Beda, Smart Choice Financial Services', '', 'Jackie Elliot, Unum UK', '', 'Jacqueline Durbin, Iress', '', 'Jacqueline Howard, Holloway Friendly', '', 'Jacqueline Kerwood, Aviva', '', 'Jacqui Cruse, Better Health Insurance Advice', '', 'Jade Barcock, Vantage Mortgages', '', 'Jane Irwin, Iress', '', 'Jane Redgrave, Bupa', '', 'Jane Sime, Towergate Health & Protection', '', 'Janet McAfee, Janet Elizabeth McAfee Financial Advice', '', 'Jaqueline Durbin, Iress', '', 'Jemma Crothers, Cirencester Friendly', '', 'Jemma Read, Pride Protect', '', 'Jemma Read, Redditch Mortgage Advice', '', 'Jennie Carhart, HSBC Life', '', 'Jennifer Gilchrist, Royal London', '', 'Jenny Binns, Guardian Financial Services', '', 'Jenny Earl, Cavendish Ware', '', 'Jenny Millsom, Aviva', '', 'Jess Williams, ActiveQuote', '', 'Jessica Vitale, Cirencester Friendly -', '', 'Jo Bennett, Punter Southall', '', 'Jo Eaton, HSBC Life', '', 'Jo Johnstone, Risk Assured', '', 'Jo Miller, Income Protection Task Force', '', 'Jo Throp, Krysalis', '', 'Jo Wilkie, iPipeline', '', 'Joanna Streames, Velvet Mortgage & Insure Services', '', 'Jon Fuller, Aegon', '', 'Judy Ashworth, Guardian Financial Services', '', 'Judy Parfitt, Vitality', '', 'Julie Arthurs, The Insurance Surgery', '', 'Julie Callun, Cooper Associates Mortgages', '', 'Julie Gilbert, 1st Mortgage Services', '', 'Julie Godley, Legal & General', '', 'Juliette Meads, Vitality', '', 'Kaila Gregory, Guardian Financial Services', '', 'Karen Anderson, Royal London', '', 'Karen Cooper, Caspian Insurance Services', '', 'Karen Fuge, Legal & General', '', 'Karen Howard, AIG Life', '', 'Karen Kaur, AIG Life', '', 'Karen Leys, Aegon', '', 'Karen Searle, SJP Protection Planning', '', 'Karen Smith, Towergate Health & Protection', '', 'Karen Tierney, SilverCloud Health', '', 'Karen Woodley, The Exeter', '', 'Karla Edwards, The Protection Parent', '', 'Karly Briggs, Coutts', '', 'Kat Ford, MetLife UK', '', 'Kate Buckley, iPipeline', '', 'Katherine Palacios, AIG Life', '', 'Katherine Weller, iPipeline', '', \"Kathleen Moralee, St James's Place Protection Planning\", '', 'Kathryn Knowles, Cura Financial Services', '', 'Katie Crook-Davies, Tabei', '', 'Katie Dennehy, UnderwriteMe', '', 'Katie Tryon, Vitality', '', 'Katie Welsh, L&C', '', 'Katy Davies, Hanbury Wealth Management', '', 'Katy Jeanes, Better Health Insurance Advice', '', 'Katya MacLean, Guardian Financial Services', '', 'Keana Lejnieks, Lucra Mortgages', '', 'Kellie Whetton, Cura Financial Services', '', 'Kelly Bird, Protex Financial', '', 'Kelly Priestley, LifeSearch', '', 'Kerrie Cross, Aegon', '', 'Kim Powell, ActiveQuote', '', 'Kira Johnston, L&C', '', 'Kirsty Dyson, Cura Financial Services', '', 'Kirsty Jenkins, Holloway Friendly', '', 'Kirsty Telling, The Openwork Partnership', '', 'Klare Iveson, Vitality', '', 'Kristina Bordas, UnderwriteMe', '', 'Krystle Skelton, Cura Financial Services', '', 'Lara Fascoine, Vitality', '', 'Laura Benton, Reassured', '', 'Laura Bridger-Chilvers, Vitality', '', 'Laura Brown, Buck', '', 'Laura Havenhand, Caspian Insurance Services', '', 'Laura McCaskill, Aegon', '', 'Laura McDonald, Vitality', '', 'Laura Mitchell, Guardian Financial Services', '', 'Laura Vaughan, Scottish Widows', '', 'Lauren Brewer, Aegon', '', 'Lauren Doyle, L&C', '', \"Lauren O'Brien, MetLife UK\", '', 'Lauren Peebles, Scottish Widows', '', 'Leah Bray, MetLife UK', '', 'Leanne Stancliffe, Cura Financial Services', '', \"Lewis Breach, St James's Place Protection Planning\", '', 'Liam Kennedy, Vitality', '', 'Libby Edwards, L&C', '', 'Linda Cartmell, Aegon', '', 'Lindsay Blancke, Royal London', '', 'Lindsay Thatcher, Guardian Financial Services', '', 'Lisa Conway-Hughes, Westminster Wealth', '', 'Lisa Kelly, LifeSearch', '', 'Lisa Matthews, Guardian Financial Services', '', 'Lisa Wilson, Towergate Health & Protection', '', 'Lisa York, Sesame Bankhall Group', '', 'Liz Walker, Unum UK', '', 'Lizzie Bell, LMP Protect', '', 'Lois Bray, Canada Life', '', 'Lois Ives, Towergate Health & Protection', '', 'Lorri-Ann Gillies, Bupa', '', 'Louise Baker, Holloway Friendly', '', 'Louise Cauchie, Unum UK', '', 'Louise Colley, Zurich', '', 'Louise Monk, Rose Capital Partners', '', 'Louise Pratt, Aceso Health & Group Risk', '', 'Louise Sarsby, Iress', '', 'Louiza Deevey, Vitality', '', 'Lucie McGrath, WTW', '', 'Lucy Brown, Reassured', '', 'Lucy Irvine, advo', '', 'Lucy Pearce, advo', '', 'Lynne Flynn, Royal London', '', 'Lynne Heath, Freedom Health Insurance', '', 'Lynsey Gregory, Unum UK', '', 'Machaela Roberts, Bupa', '', 'Maria Bishop, The Openwork Partnership', '', 'Marie-Paule Birkett, Vitality', '', 'Mark Smythe, Capita', '', 'Marlena Kaszuba, The Openwork Partnership', '', 'Matthew Chapman, The Protection Coach', '', 'Maxine Jannetta, British Friendly Society', '', 'May Jupp, Holloway Friendly', '', 'Maya Levy, YuLife', '', 'Megan Farrer, Assured Futures', '', 'Megan Hammonds, The Insurance Surgery', '', 'Megan Lewis, William Russell', '', 'Megan Perry, London and Country Mortgages', '', 'Megan Pym, Unum UK', '', 'Melissa Conciatori, Munich Re', '', 'Michelle Hollywell, Towergate Health & Protection', '', 'Michelle MacKensie, Aegon', '', 'Michelle Scorer, L&C', '', 'Michelle West-Wiggins, Cirencester Friendly', '', 'Millie Cosker, The Protection Parent', '', 'Molly Dunn, Rose Capital Partners', '', 'Monika Pepel, OWL Financial', '', 'Nancy Reeve, WTW', '', 'Naomi Attwood, Bupa', '', 'Naomi Greatorex, Heath Protection', '', 'Naomi Venables, 4most', '', 'Natalie Baker, Bupa', '', 'Natalie Gilham, Guardian Financial Services', '', 'Natalie Lodge, Aviva', '', 'Natalie Mayne, CIExpert', '', 'Natalie Summerson, British Friendly Society', '', 'Natalie Woods, Reassured', '', 'Natasha Carayol, Wealthmax Financial Advisers', '', 'Natasha Hamilton, Mortgage Advice Bureau', '', 'Neha Agarwal, iPipeline', '', 'Nelson Osaghae Aifuwa, Eminent Financial', '', 'Nicki Plews, AIG Life', '', 'Nicky Bray, Zurich', '', 'Nicky Shorey, Legal & General', '', 'Nicola Bammeke, OWL Financial', '', 'Nicola Burke, Aegon', '', 'Nicola Cannings, Zurich', '', 'Nicola Denbeigh, LifeSearch', '', 'Nicola Goodman, Aegon', '', 'Nicola Hamilton, Aviva', '', 'Nicola Kingsley-Rowe, L&C', '', 'Nicola McKenzie, Dunham McCarthy Financial Services', '', 'Nicola Shield, Bupa', '', 'Nicoletta Curtis, Unum UK', '', 'Nikki White, Bupa', '', 'Nina Brown, Pam Brown Mortgages', '', 'Olivia Cashmore, Caspian Insurance Services', '', 'Orlagh Hallett, Mortgage Advice Bureau', '', 'Paige Webster, Halo Consulting', '', 'Patrycja Miazga, Smart Choice Financial Services', '', 'Paula Bertram-Lax, LifeSearch', '', 'Paula Brown, Holloway Friendly', '', 'Paula Coffey, Unum UK', '', 'Pippa Andrews, Vitality', '', 'Pouja Barot, British Friendly Society', '', 'Premila Hirani, P2M Asset Management', '', 'Qian Huang, William Russell', '', 'Rachael Bradbourn, AIG Life', '', 'Rachael Welsh, Guardian Financial Services', '', 'Rachel Allison, Mortgage Bureau', '', 'Rachel Atkinson, Legal & General', '', 'Rachel Eason-Whale, L&C', '', 'Rebecca Boulter, Unum UK', '', 'Rebecca Freer, AXA - Global Healthcare', '', 'Rebecca John, Holloway Friendly', '', 'Rebecca Kett-Young, Bupa', '', 'Rebecca Perez, MetLife UK', '', 'Rebecca White, Holloway Friendly', '', 'Rebekah Haymes, WTW', '', 'Revathy Manohar, HealthHero', '', 'Rhia Webb, Towergate Health & Protection', '', 'Riona Mulherin, Paradigm Protect', '', 'Robyn Allen, Robyn Allen Solutions', '', 'Rodger Baillie, SimplyBiz', '', 'Roopal Bharania, UnderwriteMe', '', 'Rose St Louis, Lloyds Banking Group', '', 'Rose Waller, Scottish Widows', '', 'Rosie Heslop, Legal & General', '', 'Rupinder Bahra, MetLife UK', '', 'Ruth Downs, The Platt Partnership', '', 'Ruth Heather, Royal London', '', 'Sabrina Lane, Aviva', '', 'Sade Botes, Spiritus Wealth', '', 'Salisa Hartney, Guardian Financial Services', '', 'Sally Burrowes, Vitality', '', 'Sally-Ann Dlaimi, HSBC Life', '', 'Samantha Haffend-Angear, Drewberry', '', 'Samantha Roullier, CIExpert', '', 'Sandra Scott, Bupa', '', 'Sara Wheeldon, The Insurance Surgery', '', 'Sarah Brannan, Buck', '', 'Sarah Dennis, Towergate Health & Protection', '', 'Sarah Fardon, Dragon Network', '', 'Sarah Fox, Merrigan Reis', '', 'Sarah Griffiths, ST&R', '', 'Sarah Hogan, KBA Financial', '', 'Sarah Houselander, HSBC Life', '', 'Sarah Patterson, Royal London', '', 'Sarah Pryor, Cloud8', '', 'Sarah Summersgill, Towergate Health & Protection', '', 'Saumya Barber, Unum UK', '', 'Shana Clarkson, Clover Financial Solutions', '', 'Sharon Mason, SMUK', '', 'Sharon Shier, WPA', '', 'Shaun Riley-Potente, Canada Life', '', 'Shelley Maidens, Stonebridge Netword', '', 'Shelli Bentley, Royal London', '', 'Shirley Fell, Cirencester Friendly', '', 'Shirley Gooden, Bright Advice', '', 'Simone Martin, Bupa', '', 'Siobhan Brookes, Folan Brookes Financial Consultants', '', 'Sophie Barran-Jones, Cirencester Friendly', '', 'Sophie Evans, Simply Zest', '', 'Sophie Money, Aviva', '', 'Sophie Padbury, Guardian Financial Services', '', 'Sophie Yeo, AIG Life', '', 'Stacy Penn, Association of Mortgage Intermediaries', '', 'Stephanie Hydon, iPipeline', '', 'Stephanie Jones, Red Dot Cymru', '', 'Sue Rose, Guardian Financial Services', '', 'Sue Seymour, Cirencester Friendly', '', 'Sue Smith, advo', '', 'Sui Cheng, L&C', '', 'Susan Chan, HealthHero', '', 'Susannah Heims, MetLife UK', '', 'Susie Beard-Moore, Cirencester Friendly', '', 'Suzy Esson, Holloway Friendly', '', 'Tanya Rawlings, Royal London', '', 'Tanya Thoreau, Guardian Financial Services', '', 'Tarnia Elsworth, TP Financial Solutions', '', 'Teresa Wighton, Bupa', '', 'Terri Hodge, Cooper Associates Mortgages', '', 'Theresa Deane, DXC Technology', '', 'Tracy Jeffery, Scottish Widows', '', 'Trang Tran, MetLife UK', '', 'Ula Sidorska, Vitality', '', 'Valentina Smirnova, AXA Partners', '', 'Vanessa Sallows, Legal & General', '', 'Vicki Goddard, Scottish Widows', '', 'Vicky Churcher, AIG Life', '', 'Victoria Clark, Cirencester Friendly', '', 'Victoria Roe Dos Santos, Buck', '', 'Victoria Still, AIG Life', '', 'Vikki Carey, Guardian Financial Services', '', 'Wendy Newman, Reich Healthcare', '', 'Will Shackleton, 1st Mortgage Services', '', 'Yvonne Biggs, Buck', '', 'Zanele Sibanda, Towergate Health & Protection', '', 'Zoe Ashley, Buck', '', 'Zoe Chennell, LifeSearch', '', 'Zoe Mears, iPipeline', '', 'Zoe Young, Unum UK', '', 'Zuzanna Ritter, Smart Choice Financial Services', '', 'Company Nominees:', '', '4most', '', 'ActiveQuote', '', 'AIG Life', '', 'Aviva', '', 'BHSF', '', 'Bupa', '', 'Cirencester Friendly', '', 'Clover Financial Solutions', '', 'Gemstone Mortgages', '', 'Holloway Friendly', '', 'HSBC Life', '', 'Income Protection Task Force', '', 'iPipeline', '', 'L&C', '', 'Legal & General', '', 'LifeSearch', '', 'Owl Financial', '', 'P2M Asset Management', '', 'Peachy', '', 'Red Dot Cymru', '', 'Redditch Mortgage Advice', '', 'Robyn Allen Solutions', '', 'Scottish Widows', '', 'Sesame Bankhall Group', '', \"St James's Place Protection Planning\", '', 'Tabei', '', 'The Openwork Partnership', '', 'Unum UK', '', 'Velvet Mortgage & Insure Services', '', 'Wealthmax Financial Advisers', '', 'William Russell']\n"
          ]
        },
        {
          "output_type": "stream",
          "name": "stderr",
          "text": [
            "Some weights of the model checkpoint at yiyanghkust/finbert-pretrain were not used when initializing BertForMaskedLM: ['cls.seq_relationship.bias', 'cls.seq_relationship.weight']\n",
            "- This IS expected if you are initializing BertForMaskedLM from the checkpoint of a model trained on another task or with another architecture (e.g. initializing a BertForSequenceClassification model from a BertForPreTraining model).\n",
            "- This IS NOT expected if you are initializing BertForMaskedLM from the checkpoint of a model that you expect to be exactly identical (initializing a BertForSequenceClassification model from a BertForSequenceClassification model).\n",
            "Some weights of the model checkpoint at bert-base-uncased were not used when initializing BertModel: ['cls.predictions.decoder.weight', 'cls.predictions.transform.dense.bias', 'cls.seq_relationship.weight', 'cls.predictions.transform.LayerNorm.weight', 'cls.seq_relationship.bias', 'cls.predictions.bias', 'cls.predictions.transform.dense.weight', 'cls.predictions.transform.LayerNorm.bias']\n",
            "- This IS expected if you are initializing BertModel from the checkpoint of a model trained on another task or with another architecture (e.g. initializing a BertForSequenceClassification model from a BertForPreTraining model).\n",
            "- This IS NOT expected if you are initializing BertModel from the checkpoint of a model that you expect to be exactly identical (initializing a BertForSequenceClassification model from a BertForSequenceClassification model).\n"
          ]
        },
        {
          "output_type": "stream",
          "name": "stdout",
          "text": [
            "['Matrix Renewables, the TPG Rise-backed global renewable energy platform, announced that it has closed on its first US construction loan, tax equity bridge loan and back-levered term loan facility for its Gaskell West 2 and Gaskell West 3 projects. The financing of US$217 million was provided by MUFG, HSBC, National Bank of Canada and Commonwealth Bank.', '', 'Latham & Watkins LLP represent the lenders in the transaction with a finance team led by New York partner Jonathan Rod and San Diego partner Omar Nazif, with New York associate Kimberley de Looze and San Diego associate Preston Chaffee. Advice was also provided on environmental matters by Los Angeles/Houston counsel Joshua Marnitz; on regulatory matters by Washington, D.C. partners Natasha Gianvecchio and Tyler Brown; on insurance matters by Los Angeles partner Drew Levin; on real estate matters by San Diego partner James Mann; and on tax matters by New York partner Eli Katz.']\n"
          ]
        },
        {
          "output_type": "stream",
          "name": "stderr",
          "text": [
            "Some weights of the model checkpoint at yiyanghkust/finbert-pretrain were not used when initializing BertForMaskedLM: ['cls.seq_relationship.bias', 'cls.seq_relationship.weight']\n",
            "- This IS expected if you are initializing BertForMaskedLM from the checkpoint of a model trained on another task or with another architecture (e.g. initializing a BertForSequenceClassification model from a BertForPreTraining model).\n",
            "- This IS NOT expected if you are initializing BertForMaskedLM from the checkpoint of a model that you expect to be exactly identical (initializing a BertForSequenceClassification model from a BertForSequenceClassification model).\n",
            "Some weights of the model checkpoint at bert-base-uncased were not used when initializing BertModel: ['cls.predictions.decoder.weight', 'cls.predictions.transform.dense.bias', 'cls.seq_relationship.weight', 'cls.predictions.transform.LayerNorm.weight', 'cls.seq_relationship.bias', 'cls.predictions.bias', 'cls.predictions.transform.dense.weight', 'cls.predictions.transform.LayerNorm.bias']\n",
            "- This IS expected if you are initializing BertModel from the checkpoint of a model trained on another task or with another architecture (e.g. initializing a BertForSequenceClassification model from a BertForPreTraining model).\n",
            "- This IS NOT expected if you are initializing BertModel from the checkpoint of a model that you expect to be exactly identical (initializing a BertForSequenceClassification model from a BertForSequenceClassification model).\n"
          ]
        },
        {
          "output_type": "stream",
          "name": "stdout",
          "text": [
            "[\"What's going on?\", '', 'Credit Suisse warned investors on Wednesday that it’s bracing for another dizzying loss this quarter.', '', 'What does this mean?', '', 'Credit Suisse was probably hoping to hold onto customers while its “strategic overhaul” gets underway, but bold blueprints alone don’t earn anyone much goodwill. So it’s a kick in the Swiss lender’s teeth that massive withdrawals by its wealthiest customers are set to see it chalk up a $1.6 billion loss this quarter. And given that blow follows a $4 billion hole the quarter before, it’s no wonder Credit Suisse is on a campaign to change things: the bank’s now hoping to drum up cash from new and existing shareholders, and is lining up a whole 9,000 jobs on the chopping block.', '', 'Why should I care?', '', 'For markets: Running from the bank.', '', 'Most of us don’t pine after our Bank of America or HSBC bank clerks, so switching to another lender is normally a pretty painless affair. But that’s not the case when it comes to private banking at the likes of Credit Suisse. It might take a lot of schmoozing to win prize punters, sure, but once you’ve hooked them, they rarely jump ship. That’s why it’s so alarming that 10% of the bank’s “stickiest” clients’ cash has flown out the door this year, rivaling the hasty withdrawals made during 2008’s financial crisis. Credit Suisse has a textbook crisis of confidence on its hands, then, and needs to restore trust pronto.', '', '', '', 'The bigger picture: Not life or death… yet.', '', 'Regulators make banks keep a certain amount of cash in their coffers so they can cope with losses when times get tough, a rule that’s only tightened since the days of the financial crisis. That means that while Credit Suisse desperately needs to win customers’ confidence, cut costs, and raise funds, the firm should be padded with enough cash to keep it moving for now.']\n"
          ]
        },
        {
          "output_type": "stream",
          "name": "stderr",
          "text": [
            "Some weights of the model checkpoint at yiyanghkust/finbert-pretrain were not used when initializing BertForMaskedLM: ['cls.seq_relationship.bias', 'cls.seq_relationship.weight']\n",
            "- This IS expected if you are initializing BertForMaskedLM from the checkpoint of a model trained on another task or with another architecture (e.g. initializing a BertForSequenceClassification model from a BertForPreTraining model).\n",
            "- This IS NOT expected if you are initializing BertForMaskedLM from the checkpoint of a model that you expect to be exactly identical (initializing a BertForSequenceClassification model from a BertForSequenceClassification model).\n",
            "Some weights of the model checkpoint at bert-base-uncased were not used when initializing BertModel: ['cls.predictions.decoder.weight', 'cls.predictions.transform.dense.bias', 'cls.seq_relationship.weight', 'cls.predictions.transform.LayerNorm.weight', 'cls.seq_relationship.bias', 'cls.predictions.bias', 'cls.predictions.transform.dense.weight', 'cls.predictions.transform.LayerNorm.bias']\n",
            "- This IS expected if you are initializing BertModel from the checkpoint of a model trained on another task or with another architecture (e.g. initializing a BertForSequenceClassification model from a BertForPreTraining model).\n",
            "- This IS NOT expected if you are initializing BertModel from the checkpoint of a model that you expect to be exactly identical (initializing a BertForSequenceClassification model from a BertForSequenceClassification model).\n"
          ]
        },
        {
          "output_type": "stream",
          "name": "stdout",
          "text": [
            "['Castletown Commissioners have organised an event to support residents with the cost of living crisis.', '', \"It's taking place at the town hall next Wednesday from 1pm until 7pm.\", '', 'Several local organisations will be there including Social Services, The Salvation Army, the Office of Fair Trading, The Debt Counselling Service, Lloyds Bank and HSBC.', '', 'Residents will be able to speak to the groups about how to manage their finances and also arrange meetings for more specific problems they might have.', '', 'Isle of Man Bank’s mobile branch, Penny is also scheduled to be in Castletown at 1.30pm and Barclay’s will be open from 10am to 2pm.']\n"
          ]
        },
        {
          "output_type": "stream",
          "name": "stderr",
          "text": [
            "Some weights of the model checkpoint at yiyanghkust/finbert-pretrain were not used when initializing BertForMaskedLM: ['cls.seq_relationship.bias', 'cls.seq_relationship.weight']\n",
            "- This IS expected if you are initializing BertForMaskedLM from the checkpoint of a model trained on another task or with another architecture (e.g. initializing a BertForSequenceClassification model from a BertForPreTraining model).\n",
            "- This IS NOT expected if you are initializing BertForMaskedLM from the checkpoint of a model that you expect to be exactly identical (initializing a BertForSequenceClassification model from a BertForSequenceClassification model).\n",
            "Some weights of the model checkpoint at bert-base-uncased were not used when initializing BertModel: ['cls.predictions.decoder.weight', 'cls.predictions.transform.dense.bias', 'cls.seq_relationship.weight', 'cls.predictions.transform.LayerNorm.weight', 'cls.seq_relationship.bias', 'cls.predictions.bias', 'cls.predictions.transform.dense.weight', 'cls.predictions.transform.LayerNorm.bias']\n",
            "- This IS expected if you are initializing BertModel from the checkpoint of a model trained on another task or with another architecture (e.g. initializing a BertForSequenceClassification model from a BertForPreTraining model).\n",
            "- This IS NOT expected if you are initializing BertModel from the checkpoint of a model that you expect to be exactly identical (initializing a BertForSequenceClassification model from a BertForSequenceClassification model).\n"
          ]
        },
        {
          "output_type": "stream",
          "name": "stdout",
          "text": [
            "['ArcelorMittal : Underwriting Agreement - Form 6-K 11/22/2022 | 01:22pm EST Send by mail :', '', 'Name : First name : From * : To * : (You can enter multiple email addresses separated by commas) Message : * Required fields Underwriting Agreement November 21, 2022 J.P. Morgan Securities LLC 383 Madison Avenue New York, NY 10179 BofA Securities, Inc. 1540 Broadway NY8-540-26-01 New York, NY 10036 Citigroup Global Markets Inc. 388 Greenwich Street, New York NY 10013 Mizuho Securities USA LLC 1271 Avenue of the Americas New York, NY 10020 Commerz Markets LLC 225 Liberty Street New York, NY 10281-1050 Credit Agricole Securities (USA) Inc. 1301 Avenue of the Americas, 17th Floor New York, NY 10019 HSBC Securities (USA) Inc. 452 Fifth Avenue, New York, NY 10018 RBC Capital Markets, LLC Brookfield Place 200 Vesey Street, 8th Floor New York, NY 10281 SMBC Nikko Securities America, Inc 277 Park Avenue, 5th Floor New York, NY 10172 UniCredit Capital Markets LLC Attn. Andy Lupo 150 E 42nd st, fl 29 New York, NY 10017, USA Ladies and Gentlemen: ArcelorMittal, a Luxembourg société anonyme (the \"Company\"), proposes to issue and sell to the several Underwriters listed in Schedule 1 hereto (the \"Underwriters\"), for whom J.P. Morgan Securities LLC is acting as representative (the \"Representative\"), $1,200,000,000 principal amount of its 6.550% Notes due 2027 (the \"2027 Notes\") and $1,000,000,000 principal amount of its 6.800% Notes due 2032 (the \"2032 Notes\") having the terms set forth in Schedule 2 hereto (the \"Securities\"). The Securities will be issued pursuant to the Indenture dated as of June 1, 2015, among the Company, Wilmington Trust, National Association as trustee (the \"Trustee\") and Citibank, N.A. as securities administrator (the \"Securities Administrator\"), as supplemented by a supplemental indenture to be dated as of November 29, 2022 (the \"Indenture\"). The non-U.S. affiliates of the Underwriters are set forth in Schedule 5 hereto. The Company agrees to issue and sell the Securities to the several Underwriters as provided in this Agreement, and each Underwriter, on the basis of the representations, warranties and agreements set forth herein and subject to the conditions set forth herein, agrees, severally and not jointly, to purchase from the Company the respective principal amount of Securities set forth opposite such Underwriter\\'s name in Schedule 1 hereto at a price equal to 99.558% for the 2027 Notes and a price equal to 98.921% for the 2032 Notes, both of the principal amount thereof, plus accrued interest, if any, from November 29, 2022 to the Closing Date (as defined below). The Company will not be obligated to deliver any of the Securities except upon payment for all the Securities to be purchased as provided herein. The Company understands that the Underwriters intend to make a public offering of the Securities as soon after the effectiveness of this Agreement as in the judgment of the Representative is advisable, and initially to offer the Securities on the terms set forth in the Time of Sale Information and the Prospectus. Schedule 3 hereto sets forth information that together with the Preliminary Prospectus used most recently prior to the execution of this Underwriting Agreement, constitute the Time of Sale Information made available at the Time of Sale. The \"Time of Sale\" with respect to the Securities is defined as 6:00 P.M., New York City time, on November 21, 2022. The Company acknowledges and agrees that the Underwriters may offer and sell Securities to or through any affiliate of an Underwriter and that any such affiliate may offer and sell Securities purchased by it to or through any Underwriter. Payment for and delivery of the Securities shall be made at the offices of Shearman & Sterling (London) LLP at 10:00 A.M., New York City time, on November 29, 2022, or at such other time or place on the same or such other date, not later than the third business day thereafter, as the Representative and the Company may agree upon in writing. The time and date of such payment and delivery is referred to herein as the \"Closing Date.\" Payment for the Securities shall be made by wire transfer in immediately available funds to the account(s) specified by the Company to the Representative against delivery to the nominee of The Depository Trust Company, for the account of the Underwriters, of one or more global notes representing the Securities (collectively, the \"Global Note\"), with any transfer taxes payable in connection with the sale of the Securities duly paid by the Company. The Global Note will be made available for inspection by the Representative not later than 1:00 P.M., New York City time, on the business day prior to the Closing Date. The Company and the Underwriters acknowledge and agree that the only information (the \"Underwriter Information\") relating to any Underwriter which has been furnished to the Company by any Underwriter expressly for use in the Registration Statement, including the Base Prospectus included therein, the Preliminary Prospectus or any Prospectus (or any amendment or supplement thereto), any Issuer Free Writing Prospectus or any Time of Sale Information consists of the following: the legal and marketing names of the Underwriters on the front and back cover pages in the prospectus supplement included in the Preliminary Prospectus and in the prospectus supplement included in the Prospectus, the information contained in the table and in the third paragraph, the fourth paragraph, the second sentence of the seventh paragraph, the eighth paragraph, and the ninth paragraph and in \"Other Relationships\" under the heading \"Underwriting\" in the prospectus supplement included in the Preliminary Prospectus and the prospectus supplement included in the Final Prospectus, and the following information in the final Pricing Term Sheet dated November 21, 2022: (i) the names of the Underwriters; (ii) the Spread to Benchmark Treasury, (iii) Benchmark Treasury and (iv) the Benchmark Treasury Price and Yield. Notices to the Underwriters shall be given at: J.P. Morgan Securities LLC, 383 Madison Avenue, New York, NY 10179; BofA Securities, Inc., 1540 Broadway, NY8-540-26-01, New York, NY 10036, Facsimile: (646) 855-5958, Attention: High Grade Transaction Management/Legal dg.hg_ua_notices@bofa.com; Citigroup Global Markets Inc., 388 Greenwich Street, New York NY 10013; Mizuho Securities USA LLC, 1271 Avenue of the Americas, New York, NY 10020; Commerz Markets LLC, 225 Liberty Street, New York, NY 10281-1050; Credit Agricole Securities (USA) Inc., 1301 Avenue of the Americas, 17th Floor, New York, NY 10019, Attention: Fixed Income Syndicate. U.S. Toll Free: +1 866 807 6030; HSBC Securities (USA) Inc., 452 Fifth Avenue, New York, NY 10018, Attention: Transaction Management Group, Phone: +1212-525-2346, Fax: +1646-366-3229, Email: tmg.americas@us.hsbc.com; RBC Capital Markets, LLC, Brookfield Place, 200 Vesey Street, 8th Floor, New York, NY 10281, Attn: Transaction Management, Facsimile: (212) 428-6308; SMBC Nikko Securities America, Inc, 277 Park Avenue, 5th Floor, New York, NY 10172; UniCredit Capital Markets LLC, Attn. Andy Lupo, 150 E 42nd st, fl 29, New York, NY 10017, USA;. 2 All provisions contained in the document entitled ArcelorMittal Underwriting Agreement Standard Provisions (the \"Standard Provisions\"), which was filed as Exhibit 1.1 to the Registration Statement on Form F-3 dated May 12, 2021 (File No. 333-256031), are incorporated by reference herein in their entirety and shall be deemed to be applicable and a part of this Underwriting Agreement to the same extent as if such provisions had been set forth in full herein, except that : (i) if any term defined in such Standard Provisions is otherwise defined herein, the definition set forth herein shall control; (ii) Section 1 of the Standard Provisions is completed by the following file number of the Registration Statement: File No 333-256031; (iii) Section 3(t) of the Standard Provisions is supplemented to include a second paragraph with the following language \"Ernst & Young, S.A. who has reviewed certain financial information of the Company and its subsidiaries, included or incorporated by reference in each of the Registration Statement, Time of Sale Information and the Prospectus, is an independent registered public accounting firm with respect to the Company and its subsidiaries within the applicable rules and regulations adopted by the Commission and the Public Company Accounting Oversight Board (United States) and as required by the Securities Act.\"; (iv) the phrase \",including, without limitation, the so-called Donetsk People\\'s Republic and so-called Luhansk People\\'s Republic and Crimea region of Ukraine, Cuba, Iran, Syria and North Korea\" shall be inserted after the word \"territory\" in Section 3(dd)(a)(ii) of the Standard Provisions; (v) Section 5(d)(B) is replaced in its entirety with \"(B) a customer within the meaning of Directive (EU) 2016/97 (as amended, the \"Insurance Distribution Directive\"), where that customer would not qualify as a professional client as defined in point (10) of Article 4(1) of MiFID II; (v) Section 6(f) of the Standard Provisions is supplemented to include a second paragraph as follows \"(f) and as of the date hereof and on the Closing Date, Ernst & Young, S.A. shall have furnished to the Representative, at the request of the Company, a letter, dated the date of delivery thereof and addressed to the Underwriters, in the form and substance reasonably satisfactory to the Representative, to the effect set forth in an annex to the Underwriting Agreement; provided that the letter delivered on the Closing Date shall use a \"cut-off\" date no more than five business days prior to such date\"; (vi) the phrase \"(x) on and as of the date hereof and the Closing Date,from an authorized representative of the Company who has knowledge of the Company\\'s financial matters and is reasonably satisfactory to the Representative, a certificate substantially in the form of Annex E hereto, and (y)\" shall be inserted after the word \"received\" in Section 6(e) of the Standard Provisions; (vii) the phrase \"U.S. federal or New York State authorities\" in clause (iii) of Section 8 of the Standard Provisions shall be deleted and replaced with the phrase \"the authorities of any of the U.S. (federal or New York State) or Luxembourg\"; (viii) in section 14(b), \"ArcelorMittal Sales and Administration LLC, 833 W. Lincoln Highway, Suite 200E, Schererville, IN 46375, United States of America\" shall be replaced by \"ArcelorMittal Sales and Administration LLC, 833 W. Lincoln Highway, Suite 200E, Schererville, IN 46375, United States of America\"and (ix) the following provisions do not apply: Sections 5(e), (f), (j) and (k), Section 18, and Section 20(g). For certainty, Sections 5(d) and (i) and Section 16 do apply. In addition, the Company represents and warrants to each Underwriter that the Company\\'s condensed consolidated statements of financial position, condensed consolidated statement of operations, condensed consolidated statements of cash flows, condensed consolidated statements of other comprehensive income and the condensed consolidated statements of changes in equity, and the notes thereto, as of and for the six months ended June 30, 2022 furnished on the Company\\'s Report of Foreign Private Issuer on Form 6-K dated July 29, 2022, and as of and for the nine months ended September 30, 2022 furnished on the Company\\'s Report of Foreign Private Issuer on Form 6-K dated November 16, 2022, incorporated by reference in the Time of Sale Information, Preliminary Prospectus and the Prospectus present fairly the financial position of the Company and its subsidiaries as of the dates indicated and the results of their operations and the changes in their cash flows for the periods specified; such financial statements have been prepared in accordance with IFRS as issued by the International Accounting Standards Board applied on a consistent basis throughout the periods covered thereby. This Agreement may be executed in counterparts, each of which when so executed shall be deemed to be an original and all of which when taken together shall constitute one and the same instrument. Any signature to this agreement may be delivered by facsimile, electronic mail (including Adobe pdf) or any electronic signature complying with the U.S. federal ESIGN Act of 2000 or the New York Electronic Signature and Records Act or other transmission method and any counterpart so delivered shall be deemed to have been duly and validly delivered and be valid and effective for all purposes to the fullest extent permitted by applicable law. For the avoidance of doubt, the foregoing also applies to any amendment, extension or renewal of this Agreement. Each of the Underwriters represents and warrants that it has the corporate capacity and authority to execute this Agreement through electronic means and there are no restrictions for doing so in that Underwriter\\'s constitutive documents. 3 If the foregoing is in accordance with your understanding, please indicate your acceptance of this Agreement by signing in the space provided below. Very truly yours, ARCELORMITTAL By: /s/ Maureen Baker Name: Maureen Baker Title: Head Funding By: /s/ Philippe Noury Name: Philippe Noury Title: Group Treasurer Accepted: November 21, 2022 J.P. MORGAN SECURITIES LLC By /s/ Som Bhattacharyya Authorized Signatory BOFA SECURITIES, INC. By /s/ Sandeep Chawla Authorized Signatory CITIGROUP GLOBAL MARKETS INC. By /s/ Brian D. Bednarski Authorized Signatory MIZUHO SECURITIES USA LLC By /s/ Joseph Santaniello Authorized Signatory COMMERZ MARKETS LLC By /s/ John Geremia Authorized Signatory By /s/ Maribel Cabrera Authorized Signatory CREDIT AGRICOLE SECURITIES (USA) INC. By /s/ David C. Travis Authorized Signatory By /s/ Nicholas Leopardi Authorized Signatory HSBC SECURITIES (USA) INC. By /s/ Patrice Altongy Authorized Signatory RBC CAPITAL MARKETS, LLC By /s/ Scott G. Primrose Authorized Signatory SMBC NIKKO SECURITIES AMERICA, INC By /s/ John Bolger Authorized Signatory UNICREDIT CAPITAL MARKETS LLC By /s/ Andy Lupo Authorized Signatory By /s/ Lars Veltmann Authorized Signatory Schedule 1 Underwriter Principal', '', 'Amount of the', '', '2027 Notes Principal', '', 'Amount of the', '', '2032 Notes J.P. Morgan Securities LLC $171,429,000 $133,333,000 BofA Securities, Inc $171,429,000 $133,333,000 Citigroup Global Markets Inc. $171,429,000 $133,333,000 Mizuho Securities USA LLC $171,429,000 $133,333,000 Commerz Markets LLC $85,714,000 $77,778,000 Credit Agricole Securities (USA) Inc. $85,714,000 $77,778,000 HSBC Securities (USA) Inc. $85,714,000 $77,778,000 RBC Capital Markets, LLC $85,714,000 $77,778,000 SMBC Nikko Securities America Inc $85,714,000 $77,778,000 UniCredit Capital Markets LLC $85,714,000 $77,778,000 Total $1,200,000,000 $1,000,000,000 Schedule 2 Debt Securities Underwriters and Address for Notices: Notices to the Underwriters shall be given at: J.P. Morgan Securities LLC, 383 Madison Avenue, New York, NY 10179. BofA Securities, Inc., 1540 Broadway, NY8-540-26-01, New York, NY 10036, Facsimile: (646) 855-5958, Attention: High Grade Transaction Management/Legal dg.hg_ua_notices@bofa.com . Citigroup Global Markets Inc., 388 Greenwich Street, New York NY 10013; Mizuho Securities USA LLC, 1271 Avenue of the Americas, New York, NY 10020. Commerz Markets LLC, 225 Liberty Street, New York, NY 10281-1050. Credit Agricole Securities (USA) Inc., 1301 Avenue of the Americas, 17th Floor, New York, NY 10019, Attention: Fixed Income Syndicate. U.S. Toll Free: +1 866 807 6030. HSBC Securities (USA) Inc., 452 Fifth Avenue, New York, NY 10018, Attention: Transaction Management Group, Phone: +1212-525-2346, Fax: +1646-366-3229, Email: tmg.americas@us.hsbc.com . RBC Capital Markets, LLC, Brookfield Place, 200 Vesey Street, 8th Floor, New York, NY 10281, Attn: Transaction Management, Facsimile: (212) 428-6308. SMBC Nikko Securities America, Inc, 277 Park Avenue, 5th Floor, New York, NY 10172. UniCredit Capital Markets LLC, Attn. Andy Lupo, 150 E 42nd st, fl 29, New York, NY 10017, USA. Certain Terms of the Securities: 2027 Notes: Title of Securities: 6.550% Notes due 2027 Aggregate Principal Amount of Securities: $1,200,000,000 Maturity Date: November 29, 2027, unless earlier redeemed Interest Rate:6.550% per annum Interest Payment Dates: May 29 and November 29, commencing May 29, 2023 Record Dates: May 15 and November 15 Redemption Provisions: Make whole call at Treasury plus 40 basis points; Par Call Date of October 29, 2027; Tax redemption at 100% Change of Control: 101% 2032 Notes: Title of Securities: 6.800% Notes due 2032 Aggregate Principal Amount of Securities: $1,000,000,000 Maturity Date: November 29, 2032, unless earlier redeemed Interest Rate: 6.800% per annum Interest Payment Dates: May 29 and November 29, commencing May 29, 2023 Record Dates: May 15 and November 15 Redemption Provisions: Make whole call at Treasury plus 50 basis points; Par Call Date of August 29, 2032; Tax redemption at 100% Change of Control: 101% Schedule 3 Time of Sale Information 1. Pricing term sheet containing the terms of the Securities, substantially in the form of Schedule 4. Schedule 4 Final Term Sheet ArcelorMittal $1,200,000,000 6.550% Notes due 2027 This final term sheet dated November 21, 2022, relates only to the securities described below and should be read together with the preliminary prospectus supplement dated November 21, 2022, and the accompanying prospectus (including the documents incorporated by reference in the Preliminary Prospectus and the accompanying prospectus) (together, the \"Preliminary Prospectus\") before making a decision in connection with an investment in the securities. Terms used but not defined herein have the meaning ascribed to them in the Preliminary Prospectus. Issuer: ArcelorMittal Security Description: 6.550% Notes due 2027 Size: $1,200,000,000 Price: 99.908% of face amount Maturity Date: November 29, 2027, unless earlier redeemed Coupon: 6.550% per annum Yield to Maturity: 6.572% Benchmark Treasury: UST 4.125% due October 31, 2027 Benchmark Treasury Price and Yield: 100-14+; 4.022% Spread to Benchmark Treasury: T+255 bps Interest Payment Dates: May 29 and November 29, commencing May 29, 2023 Total Net Proceeds Before Expenses: The net proceeds of the Notes offering, after deduction of the underwriting discount of approximately $4,200,000, amount to approximately $1,194,696,000. Use of Proceeds: ArcelorMittal intends to use the net proceeds of this offering for general corporate purposes. In addition, following the closing of this offering, commitments which remain available under the Bridge Facility Agreement related to the financing of the intended acquisition of Companhia Siderúrgica do Pecém will, in accordance with the terms thereof, be cancelled in an amount equal to the amount by which this offering exceeds approximately $400 million, less certain expenses and tax costs that may, pursuant to the terms of the Bridge Facility Agreement, be deducted from the amount to be cancelled. Change of Control: 101% Make-whole Spread: T+40 bps Par Call Date: October 29, 2027 Trade Date: November 21, 2022 Settlement Date: T+5; November 29, 2022 CUSIP: 03938LBE3 ISIN: US03938LBE39 Denominations/Multiple: $2,000 x $1,000 Expected Security Ratings: [intentionally omitted] Underwriters: Joint Book-Running Managers BofA Securities, Inc. Citigroup Global Markets Inc. J.P. Morgan Securities LLC Mizuho Securities USA LLC Commerz Markets LLC Credit Agricole Securities (USA) Inc. HSBC Securities (USA) Inc. RBC Capital Markets, LLC SMBC Nikko Securities America, Inc UniCredit Capital Markets LLC The issuer has filed a registration statement (including a prospectus) with the SEC for the offering to which this communication relates. Before you invest, you should read the prospectus in that registration statement and other documents the issuer has filed with the SEC for more complete information about the issuer and this offering. You may get these documents for free by visiting EDGAR on the SEC Web site at www.sec.gov . Alternatively, the issuer, any underwriter or any dealer participating in the offering will arrange to send you the prospectus if you request it by contacting J.P. Morgan Securities LLC by calling collect at 1-212-834-4533; BofA Securities, Inc. by calling 1-800-294-1322; Citigroup Global Markets Inc. by calling toll-free: 1-800-831-9146; or Mizuho Securities USA LLC by calling 1-866-271-7403. MiFID II professionals/ECPs-only/No PRIIPs KID-Manufacturer Target Market (MiFID II Product Governance) is eligible counterparties and professional clients only (all distribution channels). No PRIIPs Key Information Document (KID) has been prepared as not available to retail in EEA. The underwriters expect to deliver the Notes on or about November 29, 2022, which will be five business days (as such term is used for purposes of Rule 15c6-1 of the U.S. Exchange Act) following the date of pricing of the notes (this settlement cycle is being referred to as \"T+5\"). Under Rule 15c6-1 of the U.S. Exchange Act, trades in the secondary market generally are required to settle in two business days unless the parties to any such trade expressly agree otherwise. Accordingly, purchasers who wish to trade the notes on any date prior to the second business day before delivery will be required to specify an alternative settlement cycle at the time of any such trade to prevent a failed settlement. Purchasers of the Notes who wish to make such trades should consult their own advisors. ANY DISCLAIMERS OR OTHER NOTICES THAT MAY APPEAR BELOW ARE NOT APPLICABLE TO THIS COMMUNICATION AND SHOULD BE DISREGARDED. SUCH DISCLAIMERS OR OTHER NOTICES WERE AUTOMATICALLY GENERATED AS A RESULT OF THIS COMMUNICATION BEING SENT VIA BLOOMBERG OR ANOTHER EMAIL SYSTEM. Final Term Sheet ArcelorMittal $1,000,000,000 6.800% Notes due 2032 This final term sheet dated November 21, 2022, relates only to the securities described below and should be read together with the preliminary prospectus supplement dated November 21, 2022, and the accompanying prospectus (including the documents incorporated by reference in the Preliminary Prospectus and the accompanying prospectus) (together, the \"Preliminary Prospectus\") before making a decision in connection with an investment in the securities. Terms used but not defined herein have the meaning ascribed to them in the Preliminary Prospectus. Issuer: ArcelorMittal Security Description: 6.800% Notes due 2032 Size: $1,000,000,000 Price: 99.371% of face amount Maturity Date: November 29, 2032, unless earlier redeemed Coupon: 6.800% per annum Yield to Maturity: 6.888% Benchmark Treasury: UST 4.125% due November 15, 2032 Benchmark Treasury Price and Yield: 102-11+; 3.838% Spread to Benchmark Treasury: T+305 bps Interest Payment Dates: May 29 and November 29, commencing May 29, 2023 Total Net Proceeds Before Expenses: The net proceeds of the Notes offering, after deduction of the underwriting discount of approximately $4,500,000, amount to approximately $989,210,000. Use of Proceeds: ArcelorMittal intends to use the net proceeds of this offering for general corporate purposes. In addition, following the closing of this offering, commitments which remain available under the Bridge Facility Agreement related to the financing of the intended acquisition of Companhia Siderúrgica do Pecém will, in accordance with the terms thereof, be cancelled in an amount equal to the amount by which this offering exceeds approximately $400 million, less certain expenses and tax costs that may, pursuant to the terms of the Bridge Facility Agreement, be deducted from the amount to be cancelled. Change of Control: 101% Make-whole Spread: T+50 bps Par Call Date: August 29, 2032 Trade Date: November 21, 2022 Settlement Date: T+5; November 29, 2022 CUSIP: 03938LBF0 ISIN: US03938LBF04 Denominations/Multiple: $2,000 x $1,000 Expected Security Ratings: [intentionally omitted] Underwriters: Joint Book-Running Managers BofA Securities, Inc. Citigroup Global Markets Inc. J.P. Morgan Securities LLC Mizuho Securities USA LLC Commerz Markets LLC Credit Agricole Securities (USA) Inc. HSBC Securities (USA) Inc. RBC Capital Markets, LLC SMBC Nikko Securities America, Inc UniCredit Capital Markets LLC The issuer has filed a registration statement (including a prospectus) with the SEC for the offering to which this communication relates. Before you invest, you should read the prospectus in that registration statement and other documents the issuer has filed with the SEC for more complete information about the issuer and this offering. You may get these documents for free by visiting EDGAR on the SEC Web site at www.sec.gov . Alternatively, the issuer, any underwriter or any dealer participating in the offering will arrange to send you the prospectus if you request it by contacting J.P. Morgan Securities LLC by calling collect at (212) 834-4533; BofA Securities, Inc. by calling 1-800-294-1322; Citigroup Global Markets Inc. by calling toll-free: 1-800-831-9146; or Mizuho Securities USA LLC by calling 1-866-271-7403. MiFID II professionals/ECPs-only/No PRIIPs KID-Manufacturer Target Market (MiFID II Product Governance) is eligible counterparties and professional clients only (all distribution channels). No PRIIPs Key Information Document (KID) has been prepared as not available to retail in EEA. The underwriters expect to deliver the Notes on or about November 29, 2022, which will be five business days (as such term is used for purposes of Rule 15c6-1 of the U.S. Exchange Act) following the date of pricing of the notes (this settlement cycle is being referred to as \"T+5\"). Under Rule 15c6-1 of the U.S. Exchange Act, trades in the secondary market generally are required to settle in two business days unless the parties to any such trade expressly agree otherwise. Accordingly, purchasers who wish to trade the notes on any date prior to the second business day before delivery will be required to specify an alternative settlement cycle at the time of any such trade to prevent a failed settlement. Purchasers of the Notes who wish to make such trades should consult their own advisors. ANY DISCLAIMERS OR OTHER NOTICES THAT MAY APPEAR BELOW ARE NOT APPLICABLE TO THIS COMMUNICATION AND SHOULD BE DISREGARDED. SUCH DISCLAIMERS OR OTHER NOTICES WERE AUTOMATICALLY GENERATED AS A RESULT OF THIS COMMUNICATION BEING SENT VIA BLOOMBERG OR ANOTHER EMAIL SYSTEM. Schedule 5 Non-U.S. Affiliates of Underwriters and Addresses J.P. Morgan Markets Limited 25 Bank Street Canary Wharf London E14 5JP United Kingdom J.P. Morgan Dublin plc 200 Capital Dock 79 Sir John Rogerson\\'s Quay Dublin 2 Ireland BofA Securities Europe SA 51 rue La Boétie Paris 75008 France Citigroup Global Markets Limited Citigroup Centre Canada Square, Canary Wharf London E14 5LB United Kingdom Mizuho International plc 30 Old Bailey London EC4M 7AU United Kingdom Commerzbank Aktiengesellschaft Kaiserstraße 16 (Kaiserplatz) Frankfurt am Main 60261 Germany Crédit Agricole Corporate and Investment Bank 12 place des Etats-Unis CS 70052 Montrouge Cedex 92547 France HSBC Bank plc 8 Canada Square London E14 5HQ United Kingdom RBC Europe Limited 100 Bishopsgate London EC2N 4AA United Kingdom SMBC Bank EU AG Neue Mainzer Straße 52-58 Frankfurt 60311 Germany UniCredit Bank AG Arabellastr. 12 Munich 81925 Germany Annex E Form of CFO Certificate Attachments Original Link', '', 'Original Document', '', 'Permalink Disclaimer ArcelorMittal SA published this content on 22 November 2022 and is solely responsible for the information contained therein. Distributed by Public, unedited and unaltered, on 22 November 2022 18:21:05 UTC.', '', \"© Publicnow 2022 All news about ARCELORMITTAL 11/23 Eurozone PMI Data Supports European Equities MT 11/23 ARCELORMITTAL : Deutsche Bank maintains a Buy rating MD 11/22 Arcelormittal : Underwriting Agreement - Form 6-K PU 11/22 ArcelorMittal Prices $2.2 Billion Notes Offering MT 11/22 Steel Producer ArcelorMittal Prices $2.2 billion of Notes Due 2027, 2032 MT 11/22 ArcelorMittal Announces Pricing of Bond Issue GL 11/22 ArcelorMittal Announces Pricing of Bond Issue AQ 11/22 ArcelorMittal S.A. Prices Aggregate Principal Amount of 6.550% Notes Due 2027 and Aggre.. CI 11/21 India's Essar Group is debt-free after repaying $25 billion RE 11/21 ArcelorMittal launches new season of ‘Futurising' podcasts GL Analyst Recommendations on ARCELORMITTAL 11/23 ARCELORMITTAL : Deutsche Bank maintains a Buy rating MD 11/14 ARCELORMITTAL : Goldman Sachs reaffirms its Neutral rating MD 11/11 ARCELORMITTAL : Barclays reiterates its Buy rating MD\"]\n"
          ]
        },
        {
          "output_type": "stream",
          "name": "stderr",
          "text": [
            "Some weights of the model checkpoint at yiyanghkust/finbert-pretrain were not used when initializing BertForMaskedLM: ['cls.seq_relationship.bias', 'cls.seq_relationship.weight']\n",
            "- This IS expected if you are initializing BertForMaskedLM from the checkpoint of a model trained on another task or with another architecture (e.g. initializing a BertForSequenceClassification model from a BertForPreTraining model).\n",
            "- This IS NOT expected if you are initializing BertForMaskedLM from the checkpoint of a model that you expect to be exactly identical (initializing a BertForSequenceClassification model from a BertForSequenceClassification model).\n",
            "Some weights of the model checkpoint at bert-base-uncased were not used when initializing BertModel: ['cls.predictions.decoder.weight', 'cls.predictions.transform.dense.bias', 'cls.seq_relationship.weight', 'cls.predictions.transform.LayerNorm.weight', 'cls.seq_relationship.bias', 'cls.predictions.bias', 'cls.predictions.transform.dense.weight', 'cls.predictions.transform.LayerNorm.bias']\n",
            "- This IS expected if you are initializing BertModel from the checkpoint of a model trained on another task or with another architecture (e.g. initializing a BertForSequenceClassification model from a BertForPreTraining model).\n",
            "- This IS NOT expected if you are initializing BertModel from the checkpoint of a model that you expect to be exactly identical (initializing a BertForSequenceClassification model from a BertForSequenceClassification model).\n"
          ]
        },
        {
          "output_type": "stream",
          "name": "stdout",
          "text": [
            "['']\n"
          ]
        },
        {
          "output_type": "stream",
          "name": "stderr",
          "text": [
            "Some weights of the model checkpoint at yiyanghkust/finbert-pretrain were not used when initializing BertForMaskedLM: ['cls.seq_relationship.bias', 'cls.seq_relationship.weight']\n",
            "- This IS expected if you are initializing BertForMaskedLM from the checkpoint of a model trained on another task or with another architecture (e.g. initializing a BertForSequenceClassification model from a BertForPreTraining model).\n",
            "- This IS NOT expected if you are initializing BertForMaskedLM from the checkpoint of a model that you expect to be exactly identical (initializing a BertForSequenceClassification model from a BertForSequenceClassification model).\n",
            "Some weights of the model checkpoint at bert-base-uncased were not used when initializing BertModel: ['cls.predictions.decoder.weight', 'cls.predictions.transform.dense.bias', 'cls.seq_relationship.weight', 'cls.predictions.transform.LayerNorm.weight', 'cls.seq_relationship.bias', 'cls.predictions.bias', 'cls.predictions.transform.dense.weight', 'cls.predictions.transform.LayerNorm.bias']\n",
            "- This IS expected if you are initializing BertModel from the checkpoint of a model trained on another task or with another architecture (e.g. initializing a BertForSequenceClassification model from a BertForPreTraining model).\n",
            "- This IS NOT expected if you are initializing BertModel from the checkpoint of a model that you expect to be exactly identical (initializing a BertForSequenceClassification model from a BertForSequenceClassification model).\n"
          ]
        },
        {
          "output_type": "stream",
          "name": "stdout",
          "text": [
            "['Agent banking outlets are emerging as a major channel for the distribution of remittance among families of migrant workers thanks to their expanding network at the rural level.', '', 'Remittance disbursement through agent banking branches grew 178 per cent to Tk 106,628 crore in the July-September quarter of the current fiscal, up from Tk 38,335 crore during the same period two years ago, showed Bangladesh Bank (BB) data.', '', '\"Agent banking outlets perfectly fit the requirements of wage earners who send money from abroad to their families in rural areas. So, the distribution of remittance will grow in days to come,\" said Mohammad Ziaul Hasan Molla, deputy managing director of Bank Asia.', '', 'The private bank is the third largest distributor of inward remittance through its 5,400 agent banking outlets.', '', 'Bangladesh Bank said inward remittances distributed by the agent outlets increased 42.5 per cent year-on-year in the July-September quarter.', '', \"The distribution of remittances, one of the key pillars of Bangladesh's economy, increased nearly 10 per cent in last quarter from the previous April-June quarter.\", '', '\"This remarkable increase of remittances channelled through agent banking seems to be a positive outcome of quick delivery of remittances to the doorsteps of beneficiaries,\" the central bank said in its latest quarterly report on agent banking.', '', 'Bangladesh Bank had introduced agent banking in the country in 2013 to provide a safe alternate delivery channel for banking services to the under-served population, who generally live in geographically remote locations that are beyond the reach of formal banking networks.', '', 'Since the beginning, the number of agent banking outlets has risen to 20,177 as of September 2022. The amount of deposits and lending through agent banking outlets also rose at the same time.', '', 'Molla, also chairman of the Association of Anti Money Laundering Compliance Officers of Banks in Bangladesh (AACOBB), said remittance transfers through formal channels will increase following the latest directive issued by the Bangladesh Financial Intelligence Unit.', '', 'The government provides 2.5 per cent incentive for remitters sending money through formal channels to discourage hundi, an illegal cross-border money transfer mechanism.', '', 'Bankers said the benefit encourages many migrant workers to send money through the banking system.', '', '\"Agents are contributing promisingly in remittance disbursement as customers are likely to get doorstep banking services within the shortest possible time. So, agent banking is becoming a popular channel for inward remittance distribution,\" Bangladesh Bank said in its report.', '', 'Nazrul Islam, senior vice president and head of the brand and communication division of Islami Bank Bangladesh Ltd (IBBL), said the bank is distributing remittances through its 2,700 agent banking outlets.', '', '\"We can reach the families of remittance senders directly because of our vast network,\" he said.', '', 'Of the remittances distributed through agent baking outlets in the July-September quarter, IBBL distributed more than half of the total amount.']\n"
          ]
        },
        {
          "output_type": "stream",
          "name": "stderr",
          "text": [
            "Some weights of the model checkpoint at yiyanghkust/finbert-pretrain were not used when initializing BertForMaskedLM: ['cls.seq_relationship.bias', 'cls.seq_relationship.weight']\n",
            "- This IS expected if you are initializing BertForMaskedLM from the checkpoint of a model trained on another task or with another architecture (e.g. initializing a BertForSequenceClassification model from a BertForPreTraining model).\n",
            "- This IS NOT expected if you are initializing BertForMaskedLM from the checkpoint of a model that you expect to be exactly identical (initializing a BertForSequenceClassification model from a BertForSequenceClassification model).\n",
            "Some weights of the model checkpoint at bert-base-uncased were not used when initializing BertModel: ['cls.predictions.decoder.weight', 'cls.predictions.transform.dense.bias', 'cls.seq_relationship.weight', 'cls.predictions.transform.LayerNorm.weight', 'cls.seq_relationship.bias', 'cls.predictions.bias', 'cls.predictions.transform.dense.weight', 'cls.predictions.transform.LayerNorm.bias']\n",
            "- This IS expected if you are initializing BertModel from the checkpoint of a model trained on another task or with another architecture (e.g. initializing a BertForSequenceClassification model from a BertForPreTraining model).\n",
            "- This IS NOT expected if you are initializing BertModel from the checkpoint of a model that you expect to be exactly identical (initializing a BertForSequenceClassification model from a BertForSequenceClassification model).\n"
          ]
        },
        {
          "output_type": "stream",
          "name": "stdout",
          "text": [
            "['The content you are trying to view is exclusive to our subscribers.', '', 'To unlock this article:']\n"
          ]
        },
        {
          "output_type": "stream",
          "name": "stderr",
          "text": [
            "Some weights of the model checkpoint at yiyanghkust/finbert-pretrain were not used when initializing BertForMaskedLM: ['cls.seq_relationship.bias', 'cls.seq_relationship.weight']\n",
            "- This IS expected if you are initializing BertForMaskedLM from the checkpoint of a model trained on another task or with another architecture (e.g. initializing a BertForSequenceClassification model from a BertForPreTraining model).\n",
            "- This IS NOT expected if you are initializing BertForMaskedLM from the checkpoint of a model that you expect to be exactly identical (initializing a BertForSequenceClassification model from a BertForSequenceClassification model).\n",
            "Some weights of the model checkpoint at bert-base-uncased were not used when initializing BertModel: ['cls.predictions.decoder.weight', 'cls.predictions.transform.dense.bias', 'cls.seq_relationship.weight', 'cls.predictions.transform.LayerNorm.weight', 'cls.seq_relationship.bias', 'cls.predictions.bias', 'cls.predictions.transform.dense.weight', 'cls.predictions.transform.LayerNorm.bias']\n",
            "- This IS expected if you are initializing BertModel from the checkpoint of a model trained on another task or with another architecture (e.g. initializing a BertForSequenceClassification model from a BertForPreTraining model).\n",
            "- This IS NOT expected if you are initializing BertModel from the checkpoint of a model that you expect to be exactly identical (initializing a BertForSequenceClassification model from a BertForSequenceClassification model).\n"
          ]
        }
      ]
    },
    {
      "cell_type": "code",
      "source": [
        "print(len(article_title))\n",
        "print(len(article_date))\n",
        "print(len(article_summarized_text))\n",
        "print(len(tone))\n",
        "print(len(tone_score))\n",
        "d = {'Title': article_title,\n",
        "     'Date': article_date, \n",
        "     'Original Text': article_text,\n",
        "     'Summarized Text': article_summarized_text,\n",
        "     'FinBERT Tone': tone,\n",
        "     'Tone Score': tone_score}\n",
        "df_data_storage = pd.DataFrame(data=d)"
      ],
      "metadata": {
        "colab": {
          "base_uri": "https://localhost:8080/"
        },
        "id": "Hp8I0PWdCxIQ",
        "outputId": "0d924cc1-c4ad-4e32-efae-e84a6b75721f"
      },
      "execution_count": 40,
      "outputs": [
        {
          "output_type": "stream",
          "name": "stdout",
          "text": [
            "100\n",
            "100\n",
            "100\n",
            "100\n",
            "100\n"
          ]
        }
      ]
    },
    {
      "cell_type": "code",
      "source": [
        "df_data_storage.to_excel(\"output.xlsx\", index = None)\n",
        "\n",
        "df_test = pd.read_excel('output.xlsx')\n",
        "\n",
        "df_test"
      ],
      "metadata": {
        "colab": {
          "base_uri": "https://localhost:8080/",
          "height": 832
        },
        "id": "DWt48FizVUAH",
        "outputId": "447adbd3-0e15-420b-9570-5e96d0fd8f11"
      },
      "execution_count": 62,
      "outputs": [
        {
          "output_type": "execute_result",
          "data": {
            "text/plain": [
              "                                                Title  \\\n",
              "0   HSBC Bank Plc: HSBC Bank Plc - Form 8.5 (EPT/R...   \n",
              "1   RBNZ Hike Signals Global Tightening Far From O...   \n",
              "2   HSBC Campaign Helps You Cut the Strings of Fin...   \n",
              "3   January 2023 Options Now Available For HSBC Ho...   \n",
              "4   HSBC partners with Star Alliance to offer a ne...   \n",
              "..                                                ...   \n",
              "95  Options Announces Ultra Low Latency 100Gb WAN ...   \n",
              "96  UK PMI Data Point to Further Weakness Ahead - ...   \n",
              "97  Menopausal women working in NHS to be offered ...   \n",
              "98        FAQ: What is Correspondent Banking? - OCCRP   \n",
              "99  Tattooed teacher has his gums, tongue and eyeb...   \n",
              "\n",
              "                             Date  \\\n",
              "0   Wed, 23 Nov 2022 10:15:33 GMT   \n",
              "1   Wed, 23 Nov 2022 05:52:00 GMT   \n",
              "2   Wed, 23 Nov 2022 11:00:22 GMT   \n",
              "3   Wed, 23 Nov 2022 16:27:00 GMT   \n",
              "4   Thu, 24 Nov 2022 01:44:36 GMT   \n",
              "..                            ...   \n",
              "95  Wed, 23 Nov 2022 10:32:00 GMT   \n",
              "96  Wed, 23 Nov 2022 12:38:02 GMT   \n",
              "97  Wed, 23 Nov 2022 12:29:20 GMT   \n",
              "98  Wed, 23 Nov 2022 17:57:12 GMT   \n",
              "99  Wed, 23 Nov 2022 15:14:00 GMT   \n",
              "\n",
              "                                        Original Text  \\\n",
              "0   Why did this happen? Please make sure your bro...   \n",
              "1   Why did this happen? Please make sure your bro...   \n",
              "2   Wunderman Thompson UK has launched the next ph...   \n",
              "3   Investors in HSBC Holdings plc (Symbol: HSBC) ...   \n",
              "4   The partnership between HSBC and Star Alliance...   \n",
              "..                                                ...   \n",
              "95  Options Technology, the leading Capital Market...   \n",
              "96  UK PMI Data Point to Further Weakness Ahead 11...   \n",
              "97  The national NHSguidance on menopause has been...   \n",
              "98  Think of money laundering and you might imagin...   \n",
              "99  He has his gums and eyeballs tattooed (Picture...   \n",
              "\n",
              "                                      Summarized Text FinBERT Tone  Tone Score  \n",
              "0   Please make sure your browser supports JavaScr...      Neutral    0.999831  \n",
              "1   Please make sure your browser supports JavaScr...      Neutral    0.999831  \n",
              "2   Wunderman Thompson UK has launched the next ph...      Neutral    0.998732  \n",
              "3   Investors in HSBC Holdings plc (Symbol: HSBC) ...      Neutral    0.999974  \n",
              "4   The partnership between HSBC and Star Alliance...      Neutral    0.995569  \n",
              "..                                                ...          ...         ...  \n",
              "95  Options Technology, the leading Capital Market...     Positive    0.999994  \n",
              "96  UK PMI Data Point to Further Weakness Ahead 11...     Positive    0.999176  \n",
              "97  The national NHSguidance on menopause has been...      Neutral    0.999988  \n",
              "98  Think of money laundering and you might imagin...      Neutral    0.999919  \n",
              "99  He has his gums and eyeballs tattooed (Picture...      Neutral    0.999931  \n",
              "\n",
              "[100 rows x 6 columns]"
            ],
            "text/html": [
              "\n",
              "  <div id=\"df-14637a0b-cfe3-4e03-9345-bdb9003bf6e5\">\n",
              "    <div class=\"colab-df-container\">\n",
              "      <div>\n",
              "<style scoped>\n",
              "    .dataframe tbody tr th:only-of-type {\n",
              "        vertical-align: middle;\n",
              "    }\n",
              "\n",
              "    .dataframe tbody tr th {\n",
              "        vertical-align: top;\n",
              "    }\n",
              "\n",
              "    .dataframe thead th {\n",
              "        text-align: right;\n",
              "    }\n",
              "</style>\n",
              "<table border=\"1\" class=\"dataframe\">\n",
              "  <thead>\n",
              "    <tr style=\"text-align: right;\">\n",
              "      <th></th>\n",
              "      <th>Title</th>\n",
              "      <th>Date</th>\n",
              "      <th>Original Text</th>\n",
              "      <th>Summarized Text</th>\n",
              "      <th>FinBERT Tone</th>\n",
              "      <th>Tone Score</th>\n",
              "    </tr>\n",
              "  </thead>\n",
              "  <tbody>\n",
              "    <tr>\n",
              "      <th>0</th>\n",
              "      <td>HSBC Bank Plc: HSBC Bank Plc - Form 8.5 (EPT/R...</td>\n",
              "      <td>Wed, 23 Nov 2022 10:15:33 GMT</td>\n",
              "      <td>Why did this happen? Please make sure your bro...</td>\n",
              "      <td>Please make sure your browser supports JavaScr...</td>\n",
              "      <td>Neutral</td>\n",
              "      <td>0.999831</td>\n",
              "    </tr>\n",
              "    <tr>\n",
              "      <th>1</th>\n",
              "      <td>RBNZ Hike Signals Global Tightening Far From O...</td>\n",
              "      <td>Wed, 23 Nov 2022 05:52:00 GMT</td>\n",
              "      <td>Why did this happen? Please make sure your bro...</td>\n",
              "      <td>Please make sure your browser supports JavaScr...</td>\n",
              "      <td>Neutral</td>\n",
              "      <td>0.999831</td>\n",
              "    </tr>\n",
              "    <tr>\n",
              "      <th>2</th>\n",
              "      <td>HSBC Campaign Helps You Cut the Strings of Fin...</td>\n",
              "      <td>Wed, 23 Nov 2022 11:00:22 GMT</td>\n",
              "      <td>Wunderman Thompson UK has launched the next ph...</td>\n",
              "      <td>Wunderman Thompson UK has launched the next ph...</td>\n",
              "      <td>Neutral</td>\n",
              "      <td>0.998732</td>\n",
              "    </tr>\n",
              "    <tr>\n",
              "      <th>3</th>\n",
              "      <td>January 2023 Options Now Available For HSBC Ho...</td>\n",
              "      <td>Wed, 23 Nov 2022 16:27:00 GMT</td>\n",
              "      <td>Investors in HSBC Holdings plc (Symbol: HSBC) ...</td>\n",
              "      <td>Investors in HSBC Holdings plc (Symbol: HSBC) ...</td>\n",
              "      <td>Neutral</td>\n",
              "      <td>0.999974</td>\n",
              "    </tr>\n",
              "    <tr>\n",
              "      <th>4</th>\n",
              "      <td>HSBC partners with Star Alliance to offer a ne...</td>\n",
              "      <td>Thu, 24 Nov 2022 01:44:36 GMT</td>\n",
              "      <td>The partnership between HSBC and Star Alliance...</td>\n",
              "      <td>The partnership between HSBC and Star Alliance...</td>\n",
              "      <td>Neutral</td>\n",
              "      <td>0.995569</td>\n",
              "    </tr>\n",
              "    <tr>\n",
              "      <th>...</th>\n",
              "      <td>...</td>\n",
              "      <td>...</td>\n",
              "      <td>...</td>\n",
              "      <td>...</td>\n",
              "      <td>...</td>\n",
              "      <td>...</td>\n",
              "    </tr>\n",
              "    <tr>\n",
              "      <th>95</th>\n",
              "      <td>Options Announces Ultra Low Latency 100Gb WAN ...</td>\n",
              "      <td>Wed, 23 Nov 2022 10:32:00 GMT</td>\n",
              "      <td>Options Technology, the leading Capital Market...</td>\n",
              "      <td>Options Technology, the leading Capital Market...</td>\n",
              "      <td>Positive</td>\n",
              "      <td>0.999994</td>\n",
              "    </tr>\n",
              "    <tr>\n",
              "      <th>96</th>\n",
              "      <td>UK PMI Data Point to Further Weakness Ahead - ...</td>\n",
              "      <td>Wed, 23 Nov 2022 12:38:02 GMT</td>\n",
              "      <td>UK PMI Data Point to Further Weakness Ahead 11...</td>\n",
              "      <td>UK PMI Data Point to Further Weakness Ahead 11...</td>\n",
              "      <td>Positive</td>\n",
              "      <td>0.999176</td>\n",
              "    </tr>\n",
              "    <tr>\n",
              "      <th>97</th>\n",
              "      <td>Menopausal women working in NHS to be offered ...</td>\n",
              "      <td>Wed, 23 Nov 2022 12:29:20 GMT</td>\n",
              "      <td>The national NHSguidance on menopause has been...</td>\n",
              "      <td>The national NHSguidance on menopause has been...</td>\n",
              "      <td>Neutral</td>\n",
              "      <td>0.999988</td>\n",
              "    </tr>\n",
              "    <tr>\n",
              "      <th>98</th>\n",
              "      <td>FAQ: What is Correspondent Banking? - OCCRP</td>\n",
              "      <td>Wed, 23 Nov 2022 17:57:12 GMT</td>\n",
              "      <td>Think of money laundering and you might imagin...</td>\n",
              "      <td>Think of money laundering and you might imagin...</td>\n",
              "      <td>Neutral</td>\n",
              "      <td>0.999919</td>\n",
              "    </tr>\n",
              "    <tr>\n",
              "      <th>99</th>\n",
              "      <td>Tattooed teacher has his gums, tongue and eyeb...</td>\n",
              "      <td>Wed, 23 Nov 2022 15:14:00 GMT</td>\n",
              "      <td>He has his gums and eyeballs tattooed (Picture...</td>\n",
              "      <td>He has his gums and eyeballs tattooed (Picture...</td>\n",
              "      <td>Neutral</td>\n",
              "      <td>0.999931</td>\n",
              "    </tr>\n",
              "  </tbody>\n",
              "</table>\n",
              "<p>100 rows × 6 columns</p>\n",
              "</div>\n",
              "      <button class=\"colab-df-convert\" onclick=\"convertToInteractive('df-14637a0b-cfe3-4e03-9345-bdb9003bf6e5')\"\n",
              "              title=\"Convert this dataframe to an interactive table.\"\n",
              "              style=\"display:none;\">\n",
              "        \n",
              "  <svg xmlns=\"http://www.w3.org/2000/svg\" height=\"24px\"viewBox=\"0 0 24 24\"\n",
              "       width=\"24px\">\n",
              "    <path d=\"M0 0h24v24H0V0z\" fill=\"none\"/>\n",
              "    <path d=\"M18.56 5.44l.94 2.06.94-2.06 2.06-.94-2.06-.94-.94-2.06-.94 2.06-2.06.94zm-11 1L8.5 8.5l.94-2.06 2.06-.94-2.06-.94L8.5 2.5l-.94 2.06-2.06.94zm10 10l.94 2.06.94-2.06 2.06-.94-2.06-.94-.94-2.06-.94 2.06-2.06.94z\"/><path d=\"M17.41 7.96l-1.37-1.37c-.4-.4-.92-.59-1.43-.59-.52 0-1.04.2-1.43.59L10.3 9.45l-7.72 7.72c-.78.78-.78 2.05 0 2.83L4 21.41c.39.39.9.59 1.41.59.51 0 1.02-.2 1.41-.59l7.78-7.78 2.81-2.81c.8-.78.8-2.07 0-2.86zM5.41 20L4 18.59l7.72-7.72 1.47 1.35L5.41 20z\"/>\n",
              "  </svg>\n",
              "      </button>\n",
              "      \n",
              "  <style>\n",
              "    .colab-df-container {\n",
              "      display:flex;\n",
              "      flex-wrap:wrap;\n",
              "      gap: 12px;\n",
              "    }\n",
              "\n",
              "    .colab-df-convert {\n",
              "      background-color: #E8F0FE;\n",
              "      border: none;\n",
              "      border-radius: 50%;\n",
              "      cursor: pointer;\n",
              "      display: none;\n",
              "      fill: #1967D2;\n",
              "      height: 32px;\n",
              "      padding: 0 0 0 0;\n",
              "      width: 32px;\n",
              "    }\n",
              "\n",
              "    .colab-df-convert:hover {\n",
              "      background-color: #E2EBFA;\n",
              "      box-shadow: 0px 1px 2px rgba(60, 64, 67, 0.3), 0px 1px 3px 1px rgba(60, 64, 67, 0.15);\n",
              "      fill: #174EA6;\n",
              "    }\n",
              "\n",
              "    [theme=dark] .colab-df-convert {\n",
              "      background-color: #3B4455;\n",
              "      fill: #D2E3FC;\n",
              "    }\n",
              "\n",
              "    [theme=dark] .colab-df-convert:hover {\n",
              "      background-color: #434B5C;\n",
              "      box-shadow: 0px 1px 3px 1px rgba(0, 0, 0, 0.15);\n",
              "      filter: drop-shadow(0px 1px 2px rgba(0, 0, 0, 0.3));\n",
              "      fill: #FFFFFF;\n",
              "    }\n",
              "  </style>\n",
              "\n",
              "      <script>\n",
              "        const buttonEl =\n",
              "          document.querySelector('#df-14637a0b-cfe3-4e03-9345-bdb9003bf6e5 button.colab-df-convert');\n",
              "        buttonEl.style.display =\n",
              "          google.colab.kernel.accessAllowed ? 'block' : 'none';\n",
              "\n",
              "        async function convertToInteractive(key) {\n",
              "          const element = document.querySelector('#df-14637a0b-cfe3-4e03-9345-bdb9003bf6e5');\n",
              "          const dataTable =\n",
              "            await google.colab.kernel.invokeFunction('convertToInteractive',\n",
              "                                                     [key], {});\n",
              "          if (!dataTable) return;\n",
              "\n",
              "          const docLinkHtml = 'Like what you see? Visit the ' +\n",
              "            '<a target=\"_blank\" href=https://colab.research.google.com/notebooks/data_table.ipynb>data table notebook</a>'\n",
              "            + ' to learn more about interactive tables.';\n",
              "          element.innerHTML = '';\n",
              "          dataTable['output_type'] = 'display_data';\n",
              "          await google.colab.output.renderOutput(dataTable, element);\n",
              "          const docLink = document.createElement('div');\n",
              "          docLink.innerHTML = docLinkHtml;\n",
              "          element.appendChild(docLink);\n",
              "        }\n",
              "      </script>\n",
              "    </div>\n",
              "  </div>\n",
              "  "
            ]
          },
          "metadata": {},
          "execution_count": 62
        }
      ]
    },
    {
      "cell_type": "markdown",
      "source": [
        "#Enter the stocks ID and download all the data from yahoo finance"
      ],
      "metadata": {
        "id": "Uy0iJyvRv5gB"
      }
    },
    {
      "cell_type": "code",
      "source": [
        "#0023.HK - BEA\n",
        "#0005.HK - HSBC\n",
        "#^HSI - Heng Seng Index\n",
        "df_stock_hsbc = get_stocks('0005.HK')\n",
        "df_stock_bea = get_stocks('0023.HK')\n",
        "df_stock_hsi = get_stocks('^HSI')\n",
        "\n",
        "df_stock_hsbc.to_excel(\"Stock HSBC.xlsx\", index = None)\n",
        "df_stock_bea.to_excel(\"Stock BEA.xlsx\", index = None)\n",
        "df_stock_hsi.to_excel(\"Stock HSI.xlsx\", index = None)\n"
      ],
      "metadata": {
        "id": "6lDKwEN4jGiN",
        "colab": {
          "base_uri": "https://localhost:8080/"
        },
        "outputId": "2b5f2112-3785-46e6-ffae-ed2154f0ae0f"
      },
      "execution_count": 73,
      "outputs": [
        {
          "output_type": "stream",
          "name": "stdout",
          "text": [
            "[*********************100%***********************]  1 of 1 completed\n",
            "[*********************100%***********************]  1 of 1 completed\n",
            "[*********************100%***********************]  1 of 1 completed\n"
          ]
        }
      ]
    },
    {
      "cell_type": "markdown",
      "source": [
        "#Testing (Old Code)\n"
      ],
      "metadata": {
        "id": "azkm7TplwEUb"
      }
    },
    {
      "cell_type": "code",
      "source": [
        "'''\n",
        "#count the pov / neg / neutral\n",
        "sent_positive = df_sentences_sentiment.Tone.str.count(\"Positive\").sum()\n",
        "sent_negative = df_sentences_sentiment.Tone.str.count(\"Negative\").sum()\n",
        "sent_neutral = df_sentences_sentiment.Tone.str.count(\"Neutral\").sum()\n",
        "total = sent_positive + sent_negative + sent_neutral\n",
        "print(' Positive:',sent_positive,' Ratio:',(sent_positive/total)*100,'%','\\n',\n",
        "   'Negative:',sent_negative,' Ratio:',(sent_negative/total)*100,'%','\\n',\n",
        "   'Neutral:',sent_neutral,' Ratio:',(sent_neutral/total)*100,'%','\\n',\n",
        "   'Total',total)\n",
        "print('='*100)\n",
        "d = df_sentences_sentiment\n",
        "#d = df_sentences_sentiment.loc[df_sentences_sentiment['Tone'] == 'Positive']\n",
        "print(d)\n",
        "df_sentences_sentiment\n",
        "#find the length and mean \n",
        "#print(df_sentences_sentiment['Tone Score'].sum()/len(df_sentences_sentiment['Tone Score']))\n",
        "'''"
      ],
      "metadata": {
        "id": "1JE0qNPfsEVf",
        "colab": {
          "base_uri": "https://localhost:8080/",
          "height": 192
        },
        "outputId": "42d6539a-fd93-4cab-99cb-6d19eb3154cd"
      },
      "execution_count": 17,
      "outputs": [
        {
          "output_type": "execute_result",
          "data": {
            "text/plain": [
              "'\\n#count the pov / neg / neutral\\nsent_positive = df_sentences_sentiment.Tone.str.count(\"Positive\").sum()\\nsent_negative = df_sentences_sentiment.Tone.str.count(\"Negative\").sum()\\nsent_neutral = df_sentences_sentiment.Tone.str.count(\"Neutral\").sum()\\ntotal = sent_positive + sent_negative + sent_neutral\\nprint(\\' Positive:\\',sent_positive,\\' Ratio:\\',(sent_positive/total)*100,\\'%\\',\\'\\n\\',\\n   \\'Negative:\\',sent_negative,\\' Ratio:\\',(sent_negative/total)*100,\\'%\\',\\'\\n\\',\\n   \\'Neutral:\\',sent_neutral,\\' Ratio:\\',(sent_neutral/total)*100,\\'%\\',\\'\\n\\',\\n   \\'Total\\',total)\\nprint(\\'=\\'*100)\\nd = df_sentences_sentiment\\n#d = df_sentences_sentiment.loc[df_sentences_sentiment[\\'Tone\\'] == \\'Positive\\']\\nprint(d)\\ndf_sentences_sentiment\\n#find the length and mean \\n#print(df_sentences_sentiment[\\'Tone Score\\'].sum()/len(df_sentences_sentiment[\\'Tone Score\\']))\\n'"
            ],
            "application/vnd.google.colaboratory.intrinsic+json": {
              "type": "string"
            }
          },
          "metadata": {},
          "execution_count": 17
        }
      ]
    }
  ]
}