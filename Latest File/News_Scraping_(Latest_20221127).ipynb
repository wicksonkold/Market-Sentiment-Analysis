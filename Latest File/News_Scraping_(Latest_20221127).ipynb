{
  "nbformat": 4,
  "nbformat_minor": 0,
  "metadata": {
    "colab": {
      "provenance": [],
      "collapsed_sections": [
        "s0_f1jMKCJDM"
      ]
    },
    "kernelspec": {
      "name": "python3",
      "display_name": "Python 3"
    },
    "language_info": {
      "name": "python"
    }
  },
  "cells": [
    {
      "cell_type": "code",
      "execution_count": 13,
      "metadata": {
        "id": "v_XapeR2GY5E",
        "colab": {
          "base_uri": "https://localhost:8080/"
        },
        "outputId": "c850420a-4814-42c8-a3ad-393b2b45086d"
      },
      "outputs": [
        {
          "output_type": "stream",
          "name": "stdout",
          "text": [
            "\u001b[33mWARNING: Running pip as the 'root' user can result in broken permissions and conflicting behaviour with the system package manager. It is recommended to use a virtual environment instead: https://pip.pypa.io/warnings/venv\u001b[0m\u001b[33m\n",
            "\u001b[0m\u001b[33mWARNING: Running pip as the 'root' user can result in broken permissions and conflicting behaviour with the system package manager. It is recommended to use a virtual environment instead: https://pip.pypa.io/warnings/venv\u001b[0m\u001b[33m\n",
            "\u001b[0m\u001b[33mWARNING: Running pip as the 'root' user can result in broken permissions and conflicting behaviour with the system package manager. It is recommended to use a virtual environment instead: https://pip.pypa.io/warnings/venv\u001b[0m\u001b[33m\n",
            "\u001b[0m\u001b[33mWARNING: Running pip as the 'root' user can result in broken permissions and conflicting behaviour with the system package manager. It is recommended to use a virtual environment instead: https://pip.pypa.io/warnings/venv\u001b[0m\u001b[33m\n",
            "\u001b[0m\u001b[33mWARNING: Running pip as the 'root' user can result in broken permissions and conflicting behaviour with the system package manager. It is recommended to use a virtual environment instead: https://pip.pypa.io/warnings/venv\u001b[0m\u001b[33m\n",
            "\u001b[0m\u001b[33mWARNING: Running pip as the 'root' user can result in broken permissions and conflicting behaviour with the system package manager. It is recommended to use a virtual environment instead: https://pip.pypa.io/warnings/venv\u001b[0m\u001b[33m\n",
            "\u001b[0m\u001b[33mWARNING: Running pip as the 'root' user can result in broken permissions and conflicting behaviour with the system package manager. It is recommended to use a virtual environment instead: https://pip.pypa.io/warnings/venv\u001b[0m\u001b[33m\n",
            "\u001b[0m\u001b[33mWARNING: Running pip as the 'root' user can result in broken permissions and conflicting behaviour with the system package manager. It is recommended to use a virtual environment instead: https://pip.pypa.io/warnings/venv\u001b[0m\u001b[33m\n",
            "\u001b[0m\u001b[33mWARNING: Running pip as the 'root' user can result in broken permissions and conflicting behaviour with the system package manager. It is recommended to use a virtual environment instead: https://pip.pypa.io/warnings/venv\u001b[0m\u001b[33m\n",
            "\u001b[0m\u001b[33mWARNING: Running pip as the 'root' user can result in broken permissions and conflicting behaviour with the system package manager. It is recommended to use a virtual environment instead: https://pip.pypa.io/warnings/venv\u001b[0m\u001b[33m\n",
            "\u001b[0mLooking in indexes: https://pypi.org/simple, https://us-python.pkg.dev/colab-wheels/public/simple/\n",
            "Requirement already satisfied: bert-extractive-summarizer in /usr/local/lib/python3.7/dist-packages (0.10.1)\n",
            "Requirement already satisfied: scikit-learn in /usr/local/lib/python3.7/dist-packages (from bert-extractive-summarizer) (1.0.2)\n",
            "Requirement already satisfied: spacy in /usr/local/lib/python3.7/dist-packages (from bert-extractive-summarizer) (3.4.3)\n",
            "Requirement already satisfied: transformers in /usr/local/lib/python3.7/dist-packages (from bert-extractive-summarizer) (4.24.0)\n",
            "Requirement already satisfied: threadpoolctl>=2.0.0 in /usr/local/lib/python3.7/dist-packages (from scikit-learn->bert-extractive-summarizer) (3.1.0)\n",
            "Requirement already satisfied: numpy>=1.14.6 in /usr/local/lib/python3.7/dist-packages (from scikit-learn->bert-extractive-summarizer) (1.21.6)\n",
            "Requirement already satisfied: scipy>=1.1.0 in /usr/local/lib/python3.7/dist-packages (from scikit-learn->bert-extractive-summarizer) (1.7.3)\n",
            "Requirement already satisfied: joblib>=0.11 in /usr/local/lib/python3.7/dist-packages (from scikit-learn->bert-extractive-summarizer) (1.2.0)\n",
            "Requirement already satisfied: setuptools in /usr/local/lib/python3.7/dist-packages (from spacy->bert-extractive-summarizer) (65.6.3)\n",
            "Requirement already satisfied: typing-extensions<4.2.0,>=3.7.4 in /usr/local/lib/python3.7/dist-packages (from spacy->bert-extractive-summarizer) (4.1.1)\n",
            "Requirement already satisfied: thinc<8.2.0,>=8.1.0 in /usr/local/lib/python3.7/dist-packages (from spacy->bert-extractive-summarizer) (8.1.5)\n",
            "Requirement already satisfied: langcodes<4.0.0,>=3.2.0 in /usr/local/lib/python3.7/dist-packages (from spacy->bert-extractive-summarizer) (3.3.0)\n",
            "Requirement already satisfied: srsly<3.0.0,>=2.4.3 in /usr/local/lib/python3.7/dist-packages (from spacy->bert-extractive-summarizer) (2.4.5)\n",
            "Requirement already satisfied: murmurhash<1.1.0,>=0.28.0 in /usr/local/lib/python3.7/dist-packages (from spacy->bert-extractive-summarizer) (1.0.9)\n",
            "Requirement already satisfied: tqdm<5.0.0,>=4.38.0 in /usr/local/lib/python3.7/dist-packages (from spacy->bert-extractive-summarizer) (4.64.1)\n",
            "Requirement already satisfied: cymem<2.1.0,>=2.0.2 in /usr/local/lib/python3.7/dist-packages (from spacy->bert-extractive-summarizer) (2.0.7)\n",
            "Requirement already satisfied: spacy-legacy<3.1.0,>=3.0.10 in /usr/local/lib/python3.7/dist-packages (from spacy->bert-extractive-summarizer) (3.0.10)\n",
            "Requirement already satisfied: packaging>=20.0 in /usr/local/lib/python3.7/dist-packages (from spacy->bert-extractive-summarizer) (21.3)\n",
            "Requirement already satisfied: pathy>=0.3.5 in /usr/local/lib/python3.7/dist-packages (from spacy->bert-extractive-summarizer) (0.8.1)\n",
            "Requirement already satisfied: spacy-loggers<2.0.0,>=1.0.0 in /usr/local/lib/python3.7/dist-packages (from spacy->bert-extractive-summarizer) (1.0.3)\n",
            "Requirement already satisfied: pydantic!=1.8,!=1.8.1,<1.11.0,>=1.7.4 in /usr/local/lib/python3.7/dist-packages (from spacy->bert-extractive-summarizer) (1.10.2)\n",
            "Requirement already satisfied: catalogue<2.1.0,>=2.0.6 in /usr/local/lib/python3.7/dist-packages (from spacy->bert-extractive-summarizer) (2.0.8)\n",
            "Requirement already satisfied: requests<3.0.0,>=2.13.0 in /usr/local/lib/python3.7/dist-packages (from spacy->bert-extractive-summarizer) (2.28.1)\n",
            "Requirement already satisfied: typer<0.8.0,>=0.3.0 in /usr/local/lib/python3.7/dist-packages (from spacy->bert-extractive-summarizer) (0.7.0)\n",
            "Requirement already satisfied: preshed<3.1.0,>=3.0.2 in /usr/local/lib/python3.7/dist-packages (from spacy->bert-extractive-summarizer) (3.0.8)\n",
            "Requirement already satisfied: wasabi<1.1.0,>=0.9.1 in /usr/local/lib/python3.7/dist-packages (from spacy->bert-extractive-summarizer) (0.10.1)\n",
            "Requirement already satisfied: jinja2 in /usr/local/lib/python3.7/dist-packages (from spacy->bert-extractive-summarizer) (2.11.3)\n",
            "Requirement already satisfied: huggingface-hub<1.0,>=0.10.0 in /usr/local/lib/python3.7/dist-packages (from transformers->bert-extractive-summarizer) (0.11.0)\n",
            "Requirement already satisfied: filelock in /usr/local/lib/python3.7/dist-packages (from transformers->bert-extractive-summarizer) (3.8.0)\n",
            "Requirement already satisfied: importlib-metadata in /usr/local/lib/python3.7/dist-packages (from transformers->bert-extractive-summarizer) (4.13.0)\n",
            "Requirement already satisfied: tokenizers!=0.11.3,<0.14,>=0.11.1 in /usr/local/lib/python3.7/dist-packages (from transformers->bert-extractive-summarizer) (0.13.2)\n",
            "Requirement already satisfied: regex!=2019.12.17 in /usr/local/lib/python3.7/dist-packages (from transformers->bert-extractive-summarizer) (2022.6.2)\n",
            "Requirement already satisfied: pyyaml>=5.1 in /usr/local/lib/python3.7/dist-packages (from transformers->bert-extractive-summarizer) (6.0)\n",
            "Requirement already satisfied: zipp>=0.5 in /usr/local/lib/python3.7/dist-packages (from catalogue<2.1.0,>=2.0.6->spacy->bert-extractive-summarizer) (3.10.0)\n",
            "Requirement already satisfied: pyparsing!=3.0.5,>=2.0.2 in /usr/local/lib/python3.7/dist-packages (from packaging>=20.0->spacy->bert-extractive-summarizer) (3.0.9)\n",
            "Requirement already satisfied: smart-open<6.0.0,>=5.2.1 in /usr/local/lib/python3.7/dist-packages (from pathy>=0.3.5->spacy->bert-extractive-summarizer) (5.2.1)\n",
            "Requirement already satisfied: idna<4,>=2.5 in /usr/local/lib/python3.7/dist-packages (from requests<3.0.0,>=2.13.0->spacy->bert-extractive-summarizer) (2.10)\n",
            "Requirement already satisfied: certifi>=2017.4.17 in /usr/local/lib/python3.7/dist-packages (from requests<3.0.0,>=2.13.0->spacy->bert-extractive-summarizer) (2022.9.24)\n",
            "Requirement already satisfied: charset-normalizer<3,>=2 in /usr/local/lib/python3.7/dist-packages (from requests<3.0.0,>=2.13.0->spacy->bert-extractive-summarizer) (2.1.1)\n",
            "Requirement already satisfied: urllib3<1.27,>=1.21.1 in /usr/local/lib/python3.7/dist-packages (from requests<3.0.0,>=2.13.0->spacy->bert-extractive-summarizer) (1.25.11)\n",
            "Requirement already satisfied: blis<0.8.0,>=0.7.8 in /usr/local/lib/python3.7/dist-packages (from thinc<8.2.0,>=8.1.0->spacy->bert-extractive-summarizer) (0.7.9)\n",
            "Requirement already satisfied: confection<1.0.0,>=0.0.1 in /usr/local/lib/python3.7/dist-packages (from thinc<8.2.0,>=8.1.0->spacy->bert-extractive-summarizer) (0.0.3)\n",
            "Requirement already satisfied: click<9.0.0,>=7.1.1 in /usr/local/lib/python3.7/dist-packages (from typer<0.8.0,>=0.3.0->spacy->bert-extractive-summarizer) (7.1.2)\n",
            "Requirement already satisfied: MarkupSafe>=0.23 in /usr/local/lib/python3.7/dist-packages (from jinja2->spacy->bert-extractive-summarizer) (2.0.1)\n",
            "\u001b[33mWARNING: Running pip as the 'root' user can result in broken permissions and conflicting behaviour with the system package manager. It is recommended to use a virtual environment instead: https://pip.pypa.io/warnings/venv\u001b[0m\u001b[33m\n",
            "\u001b[0m"
          ]
        }
      ],
      "source": [
        "!pip install pandas --upgrade --quiet\n",
        "!pip install numpy --upgrade --quiet\n",
        "!pip install requests-html --upgrade --quiet\n",
        "!pip install pygooglenews --upgrade --quiet\n",
        "!pip install transformers --upgrade --quiet\n",
        "!pip install newspaper3k --upgrade --quiet\n",
        "!pip install yfinance --upgrade --quiet\n",
        "!pip install -U pip setuptools wheel --upgrade --quiet\n",
        "!pip install -U spacy --upgrade --quiet\n",
        "!pip install requests_html --upgrade --quiet\n",
        "!pip install bert-extractive-summarizer\n"
      ]
    },
    {
      "cell_type": "markdown",
      "source": [
        "#Testing (Maybe For TR CTI)"
      ],
      "metadata": {
        "id": "s0_f1jMKCJDM"
      }
    },
    {
      "cell_type": "code",
      "source": [
        "'''\n",
        "#CTI??? LOL\n",
        "from pygooglenews import GoogleNews\n",
        "from newspaper import Article\n",
        "from newspaper import Config\n",
        "import nltk\n",
        "nltk.download('punkt')\n",
        "\n",
        "#USER_AGENT = 'Mozilla/5.0 (Macintosh; Intel Mac OS X 10.15; rv:78.0) Geck/20100101 Firefox/78.0'\n",
        "USER_AGENT = 'Mozilla/5.0 (Macintosh; Intel Mac OS X 10_15_7) AppleWebKit/537.36 (KHTML, like Gecko) Chrome/104.0.5112.79 Safari/537.36'\n",
        "config = Config()\n",
        "config.browser_user_agent = USER_AGENT\n",
        "config.request_timeout = 10 \n",
        "\n",
        "gn = GoogleNews(lang = 'en', country = 'US')\n",
        "\n",
        "def get_titlesss(search):\n",
        "    stories = []\n",
        "    search = gn.search(search, when = '1d') #when: duration; 2y = 2 years, 6m = 6 months, etc. \n",
        "    newsitem = search['entries']\n",
        "    for item in newsitem:\n",
        "        try:\n",
        "          story = item.link\n",
        "          url = item.link\n",
        "          article = Article(url, config=config)\n",
        "\n",
        "          article.download()\n",
        "          article.parse()\n",
        "          authors = \", \".join(author for author in article.authors) \n",
        "          title = article.title\n",
        "          date = article.publish_date\n",
        "          text = article.text\n",
        "          image = article.top_image\n",
        "          videos = article.movies\n",
        "          url = article.url\n",
        "\n",
        "          article.nlp()\n",
        "          keywords = article.keywords\n",
        "          keywords.sort()\n",
        "          print(\"\\n\")\n",
        "          print(item.link)\n",
        "          print(f\"📌 Keywords: {keywords}\")\n",
        "          print(f\"📰 Summary: {article.summary}\")\n",
        "          stories.append(story)\n",
        "        except:\n",
        "          pass\n",
        "    return stories\n",
        "'''"
      ],
      "metadata": {
        "id": "83E8UCg0CG6B",
        "colab": {
          "base_uri": "https://localhost:8080/",
          "height": 0
        },
        "outputId": "e2b60502-5694-409f-d06b-81ca2c7f6fd5"
      },
      "execution_count": 14,
      "outputs": [
        {
          "output_type": "execute_result",
          "data": {
            "text/plain": [
              "'\\n#CTI??? LOL\\nfrom pygooglenews import GoogleNews\\nfrom newspaper import Article\\nfrom newspaper import Config\\nimport nltk\\nnltk.download(\\'punkt\\')\\n\\n#USER_AGENT = \\'Mozilla/5.0 (Macintosh; Intel Mac OS X 10.15; rv:78.0) Geck/20100101 Firefox/78.0\\'\\nUSER_AGENT = \\'Mozilla/5.0 (Macintosh; Intel Mac OS X 10_15_7) AppleWebKit/537.36 (KHTML, like Gecko) Chrome/104.0.5112.79 Safari/537.36\\'\\nconfig = Config()\\nconfig.browser_user_agent = USER_AGENT\\nconfig.request_timeout = 10 \\n\\ngn = GoogleNews(lang = \\'en\\', country = \\'US\\')\\n\\ndef get_titlesss(search):\\n    stories = []\\n    search = gn.search(search, when = \\'1d\\') #when: duration; 2y = 2 years, 6m = 6 months, etc. \\n    newsitem = search[\\'entries\\']\\n    for item in newsitem:\\n        try:\\n          story = item.link\\n          url = item.link\\n          article = Article(url, config=config)\\n\\n          article.download()\\n          article.parse()\\n          authors = \", \".join(author for author in article.authors) \\n          title = article.title\\n          date = article.publish_date\\n          text = article.text\\n          image = article.top_image\\n          videos = article.movies\\n          url = article.url\\n\\n          article.nlp()\\n          keywords = article.keywords\\n          keywords.sort()\\n          print(\"\\n\")\\n          print(item.link)\\n          print(f\"📌 Keywords: {keywords}\")\\n          print(f\"📰 Summary: {article.summary}\")\\n          stories.append(story)\\n        except:\\n          pass\\n    return stories\\n'"
            ],
            "application/vnd.google.colaboratory.intrinsic+json": {
              "type": "string"
            }
          },
          "metadata": {},
          "execution_count": 14
        }
      ]
    },
    {
      "cell_type": "code",
      "source": [
        "#get_titlesss('cyber security')\n"
      ],
      "metadata": {
        "id": "bbJcffpDCtvl"
      },
      "execution_count": 15,
      "outputs": []
    },
    {
      "cell_type": "markdown",
      "source": [
        "#Import & Functions\n"
      ],
      "metadata": {
        "id": "T3_Ad9ErIB_t"
      }
    },
    {
      "cell_type": "code",
      "source": [
        "import os\n",
        "from transformers import BertTokenizer, BertForSequenceClassification\n",
        "from transformers import pipeline\n",
        "from summarizer import Summarizer,TransformerSummarizer\n",
        "from transformers import AutoModelForMaskedLM\n",
        "import numpy as np\n",
        "import pandas as pd\n",
        "import matplotlib as plt\n",
        "from newspaper import Article\n",
        "import yfinance as yf\n",
        "import datetime\n",
        "import nltk\n",
        "nltk.download('punkt')"
      ],
      "metadata": {
        "id": "yrRCgqyUHz8c",
        "colab": {
          "base_uri": "https://localhost:8080/"
        },
        "outputId": "23d5cbe3-302d-42cf-fab8-eb330ed3252b"
      },
      "execution_count": 16,
      "outputs": [
        {
          "output_type": "stream",
          "name": "stderr",
          "text": [
            "[nltk_data] Downloading package punkt to /root/nltk_data...\n",
            "[nltk_data]   Package punkt is already up-to-date!\n"
          ]
        },
        {
          "output_type": "execute_result",
          "data": {
            "text/plain": [
              "True"
            ]
          },
          "metadata": {},
          "execution_count": 16
        }
      ]
    },
    {
      "cell_type": "markdown",
      "source": [
        "#Scrape Google News"
      ],
      "metadata": {
        "id": "eMdRJPlgCL9k"
      }
    },
    {
      "cell_type": "code",
      "source": [
        "from pygooglenews import GoogleNews\n",
        "#from datetime import date\n",
        "\n",
        "def get_news(search_w):\n",
        "  stories = []\n",
        "  #start_date = datetime.date(2021, 1, 1)\n",
        "  #end_date = datetime.date(2022,11,13)\n",
        "  gn = GoogleNews(lang='en', country = 'HK')\n",
        "  #search = gn.search('Hang Seng', from_=start_date.strftime('%Y-%m-%d', to_=(end_date+delta).strftime('%Y-%m-%d')))\n",
        "  search = gn.search(search_w, when = '1d')\n",
        "  #search = gn.geo_headlines('Hong Kong')\n",
        "  #search = gn.topic_headlines('BUSINESS', proxies=None, scraping_bee=None) \n",
        "  newsitem = search['entries']\n",
        "  for item in newsitem:\n",
        "    story = {\n",
        "        'title':item.title,\n",
        "        'published':item.published,\n",
        "        'published_parsed':item.published_parsed,\n",
        "        'link':item.link\n",
        "    }\n",
        "    stories.append(story)\n",
        "  return stories\n",
        "'''\n",
        "#Set the keyword search\n",
        "test_name = get_titles('HSBC')\n",
        "\n",
        "#append the result (Only links) into a empty list\n",
        "test_link = []\n",
        "for i in range(len(test_name)):\n",
        "  test_link.append(test_name[i].get('link'))\n",
        "print(test_link)\n",
        "arc_test = test_link[0]\n",
        "'''"
      ],
      "metadata": {
        "id": "cASx1DGUHzzS",
        "colab": {
          "base_uri": "https://localhost:8080/",
          "height": 53
        },
        "outputId": "46e5a3fb-45d6-4e59-8b5a-a675c7ee3f25"
      },
      "execution_count": 17,
      "outputs": [
        {
          "output_type": "execute_result",
          "data": {
            "text/plain": [
              "\"\\n#Set the keyword search\\ntest_name = get_titles('HSBC')\\n\\n#append the result (Only links) into a empty list\\ntest_link = []\\nfor i in range(len(test_name)):\\n  test_link.append(test_name[i].get('link'))\\nprint(test_link)\\narc_test = test_link[0]\\n\""
            ],
            "application/vnd.google.colaboratory.intrinsic+json": {
              "type": "string"
            }
          },
          "metadata": {},
          "execution_count": 17
        }
      ]
    },
    {
      "cell_type": "markdown",
      "source": [
        "#Finbert Related Function"
      ],
      "metadata": {
        "id": "Wub-G4CIA7VY"
      }
    },
    {
      "cell_type": "code",
      "source": [
        "#Finbert \n",
        "def sentiment_check(sentences):\n",
        "  tone = []\n",
        "  tone_Score = []\n",
        "  esg = []\n",
        "  esg_Score = []\n",
        "  flsc = []\n",
        "  flsc_Score = []\n",
        "  esg9cat = []\n",
        "  esg9cat_Score = []\n",
        "  \n",
        "  if type(sentences) == list:\n",
        "    for idx, sent in enumerate(sentences):\n",
        "      tempL, tempS = tone_A(sent)\n",
        "      tone.append(tempL)\n",
        "      tone_Score.append(tempS)\n",
        "      '''\n",
        "      tempL, tempS = esg_A(sent)\n",
        "      esg.append(tempL)\n",
        "      esg_Score.append(tempS)\n",
        "\n",
        "      tempL, tempS = flsc_A(sent)\n",
        "      flsc.append(tempL)\n",
        "      flsc_Score.append(tempS)    \n",
        "\n",
        "      tempL, tempS = esg9cat_A(sent)\n",
        "      esg9cat.append(tempL)\n",
        "      esg9cat_Score.append(tempS) \n",
        "      \n",
        "    d = {'Sentences': sentences,'Tone': tone, 'Tone Score': tone_Score,\n",
        "        'ESG': esg, 'ESG Score': esg_Score,\n",
        "        'FLSC': flsc, 'FLSC Score': flsc_Score,\n",
        "        'ESG9Cat': esg9cat, 'ESG9Cat Score': esg9cat_Score}\n",
        "      '''   \n",
        "  else:\n",
        "    tempL, tempS = tone_A(sentences)\n",
        "    tone.append(tempL)\n",
        "    tone_Score.append(tempS)  \n",
        "\n",
        "  d = {'Sentences': sentences,'Tone': tone, 'Tone Score': tone_Score}\n",
        "  df_FinBERT_Score = pd.DataFrame(data=d)\n",
        "  temp_df = df_FinBERT_Score\n",
        "  #Calculate the score for each line and given a overall score\n",
        "  sent_positive = temp_df.Tone.str.count(\"Positive\").sum()\n",
        "  sent_negative = temp_df.Tone.str.count(\"Negative\").sum()\n",
        "  sent_neutral = temp_df.Tone.str.count(\"Neutral\").sum()\n",
        "  total = sent_positive + sent_negative + sent_neutral\n",
        "  \n",
        "  #Weight\n",
        "  sent_pov_weight = sent_positive / total\n",
        "  sent_neg_weight = sent_negative / total\n",
        "  sent_neut_weight = sent_neutral / total\n",
        "  \n",
        "\n",
        "  #find the largest number\n",
        "  if sent_pov_weight >= sent_neg_weight and sent_pov_weight >= sent_neut_weight:\n",
        "    temp_num = temp_df.loc[temp_df['Tone'] == 'Positive']\n",
        "    arc_tone = ['Positive']\n",
        "    arc_score = [temp_num['Tone Score'].sum()/len(temp_num['Tone Score'])]\n",
        "  \n",
        "  elif sent_neg_weight >= sent_pov_weight and sent_neg_weight >= sent_neut_weight:\n",
        "    temp_num = temp_df.loc[temp_df['Tone'] == 'Negative']\n",
        "    arc_tone = ['Negative']\n",
        "    arc_score = [temp_num['Tone Score'].sum()/len(temp_num['Tone Score'])]\n",
        "  \n",
        "  elif sent_neut_weight >= sent_neg_weight and sent_neut_weight >= sent_pov_weight:\n",
        "    temp_num = temp_df.loc[temp_df['Tone'] == 'Neutral']\n",
        "    arc_tone = ['Neutral']\n",
        "    arc_score = [temp_num['Tone Score'].sum()/len(temp_num['Tone Score'])]\n",
        "  \n",
        "  \n",
        "  d1 = {'Article Tone':arc_tone, 'Article Score':arc_score}  \n",
        "  df_Article_Score = pd.DataFrame(data=d1)\n",
        "\n",
        "  return df_FinBERT_Score, df_Article_Score\n",
        "  \n",
        "def tone_A(sentences):\n",
        "  #Tone\n",
        "  finbert = BertForSequenceClassification.from_pretrained('yiyanghkust/finbert-tone',num_labels=3, cache_dir='~/from_pretrained')\n",
        "  tokenizer = BertTokenizer.from_pretrained('yiyanghkust/finbert-tone')\n",
        "  inputs = tokenizer(sentences, return_tensors=\"pt\", padding=True)\n",
        "  nlp = pipeline(\"sentiment-analysis\", model=finbert, tokenizer=tokenizer)\n",
        "  try:\n",
        "    results = nlp(sentences)\n",
        "  except:\n",
        "    firstpart = sentences[:511]\n",
        "    results = nlp(firstpart)\n",
        "    \n",
        "\n",
        "  #print('Tone:',results)\n",
        "  temp_label = results[0].get('label')\n",
        "  temp_score = results[0].get('score')\n",
        "  return temp_label, temp_score\n",
        "\n",
        "def esg_A(sentences):\n",
        "  #ESG stands for Environmental, Social, Governance or None.\n",
        "  finbert = BertForSequenceClassification.from_pretrained('yiyanghkust/finbert-esg',num_labels=4, cache_dir='~/from_pretrained')\n",
        "  tokenizer = BertTokenizer.from_pretrained('yiyanghkust/finbert-esg')\n",
        "  nlp = pipeline(\"text-classification\", model=finbert, tokenizer=tokenizer)\n",
        "  \n",
        "  results = nlp(sentences)\n",
        "  #print('ESG:',results)\n",
        "  temp_label = results[0].get('label')\n",
        "  temp_score = results[0].get('score')\n",
        "  return temp_label, temp_score\n",
        "\n",
        "def flsc_A(sentences):\n",
        "  #Forward-looking statements\n",
        "  finbert = BertForSequenceClassification.from_pretrained('yiyanghkust/finbert-fls',num_labels=3, cache_dir='~/from_pretrained')\n",
        "  tokenizer = BertTokenizer.from_pretrained('yiyanghkust/finbert-fls')\n",
        "  nlp = pipeline(\"text-classification\", model=finbert, tokenizer=tokenizer)\n",
        "  \n",
        "  results = nlp(sentences)\n",
        "  #print('FLS:',results)# [{'label': 'Specific FLS', 'score': 0.77278733253479}]\n",
        "  temp_label = results[0].get('label')\n",
        "  temp_score = results[0].get('score')\n",
        "  return temp_label, temp_score\n",
        "\n",
        "def esg9cat_A(sentences):\n",
        "  #Climate Change, Natural Capital, Pollution & Waste, Human Capital, Product Liability, Community Relations, Corporate Governance, Business Ethics & Values, or Non-ESG.\n",
        "  finbert = BertForSequenceClassification.from_pretrained('yiyanghkust/finbert-esg-9-categories',num_labels=9)\n",
        "  tokenizer = BertTokenizer.from_pretrained('yiyanghkust/finbert-esg-9-categories')\n",
        "  nlp = pipeline(\"text-classification\", model=finbert, tokenizer=tokenizer)\n",
        "\n",
        "  results = nlp(sentences)\n",
        "  #print('9Cat:',results) # [{'label': 'Climate Change', 'score': 0.9955655932426453}]\n",
        "  temp_label = results[0].get('label')\n",
        "  temp_score = results[0].get('score')\n",
        "  return temp_label, temp_score "
      ],
      "metadata": {
        "id": "eEebpQsfH0Dj"
      },
      "execution_count": 18,
      "outputs": []
    },
    {
      "cell_type": "markdown",
      "source": [
        "#FinBERT Summarization"
      ],
      "metadata": {
        "id": "cOx1xE8nZu69"
      }
    },
    {
      "cell_type": "code",
      "source": [
        "def finBERT_Sum(paragraph):\n",
        "  model = AutoModelForMaskedLM.from_pretrained(\"yiyanghkust/finbert-pretrain\")\n",
        "\n",
        "  bert_model = TransformerSummarizer()\n",
        "  full = ''.join(bert_model(paragraph, min_length=60))\n",
        "  return full"
      ],
      "metadata": {
        "id": "9FtZjJG0Zugx"
      },
      "execution_count": 19,
      "outputs": []
    },
    {
      "cell_type": "markdown",
      "source": [
        "#Newspaper3k Function - get article"
      ],
      "metadata": {
        "id": "hnVE1ASqA_NZ"
      }
    },
    {
      "cell_type": "code",
      "source": [
        "#Newspaper3K\n",
        "\n",
        "#this function is to clean all unwanted blank line and return a paragraph\n",
        "def process_arc(url):\n",
        "  sentences = (get_article(url))\n",
        "  s1 = sentences.split(\"\\n\")\n",
        "  temp = []\n",
        "  print(s1)\n",
        "  for i in range(len(s1)):\n",
        "    if s1[i] != '':\n",
        "      temp.append(s1[i])\n",
        "  \n",
        "  temp_join = ' '.join(temp)\n",
        "  return temp_join\n",
        "\n",
        "def get_article(url):\n",
        "  test = ''\n",
        "  try:\n",
        "    #For different language newspaper refer above table\n",
        "    toi_article = Article(url, language=\"en\") # en for English\n",
        "    #To download the article\n",
        "    toi_article.download()\n",
        "    #To parse the article\n",
        "    toi_article.parse()\n",
        "    #To perform natural language processing ie..nlp\n",
        "    toi_article.nlp()\n",
        "    '''\n",
        "    #print the link\n",
        "    print(\"Article's link:\", url)\n",
        "    print('==================================================')\n",
        "    #To extract title\n",
        "    print(\"Article's Title:\", toi_article.title)\n",
        "    print('==================================================')\n",
        "    #To extract keywords\n",
        "    print(\"Article's Keywords:\", toi_article.keywords)\n",
        "    print('==================================================')\n",
        "    #To extract text\n",
        "    print(\"Article's Text:\", toi_article.text)\n",
        "    print('==================================================')\n",
        "    #To extract summary\n",
        "    print(\"Article's Summary:\", toi_article.summary)\n",
        "    print('==================================================')\n",
        "    '''\n",
        "    test = toi_article.text\n",
        "  except:\n",
        "    pass\n",
        "\n",
        "  return test\n"
      ],
      "metadata": {
        "id": "Ngdhy1XgBAgj"
      },
      "execution_count": 20,
      "outputs": []
    },
    {
      "cell_type": "markdown",
      "source": [
        "#Save to excel storage\n"
      ],
      "metadata": {
        "id": "BZZr9QdWvOvg"
      }
    },
    {
      "cell_type": "code",
      "source": [
        "\n",
        "def to_storage(df2,search_name):\n",
        "  try:\n",
        "    df_news_storage = pd.read_excel('/content/drive/MyDrive/Colab Notebooks/Data/News Storage '+ search_name + '.xlsx')\n",
        "    new_df_news_storage = pd.concat([df_news_storage,df2], ignore_index=True)\n",
        "    new_df_news_storage.drop_duplicates(subset=\"Title\", keep='first', inplace=True)\n",
        "    new_df_news_storage.dropna(subset=['Original Text'])\n",
        "    new_df_news_storage.to_excel('/content/drive/MyDrive/Colab Notebooks/Data/News Storage '+ search_name + '.xlsx',index = None)\n",
        "    print('FOUND... Appending...')\n",
        "  except:\n",
        "    df2.to_excel('/content/drive/MyDrive/Colab Notebooks/Data/News Storage '+ search_name + '.xlsx', index = None)\n",
        "    print('FAIL... Create new file...')\n",
        "  print('successful saved...\\n','='*50)\n",
        "  return"
      ],
      "metadata": {
        "id": "-2fbzVZovOTZ"
      },
      "execution_count": 21,
      "outputs": []
    },
    {
      "cell_type": "markdown",
      "source": [
        "#Stocks"
      ],
      "metadata": {
        "id": "A8J9k754vH3J"
      }
    },
    {
      "cell_type": "code",
      "source": [
        "def get_stocks(name):\n",
        "  current_time = datetime.datetime.now()\n",
        "\n",
        "  # Set the start and end date\n",
        "  start_date = '2020-01-01'\n",
        "  end_date = current_time\n",
        "\n",
        "  # Set the ticker\n",
        "  #ticker = ['^HSI','0005.HK','0023.HK'] \n",
        "  ticker = name \n",
        "  # Get the data\n",
        "  data = yf.download(ticker, start_date, end_date)\n",
        "  # Print the last 5 rows\n",
        "  #print(data.head())\n",
        "  df = pd.DataFrame(data=data)\n",
        "  return df"
      ],
      "metadata": {
        "id": "VZ3QjKu3vHYY"
      },
      "execution_count": 22,
      "outputs": []
    },
    {
      "cell_type": "markdown",
      "source": [
        "#Main Body - Call Function"
      ],
      "metadata": {
        "id": "Esf_7FkxvywH"
      }
    },
    {
      "cell_type": "code",
      "source": [
        "def mainbody(search_name):\n",
        "  #Enter the keyword search in google news\n",
        "  news_list = get_news(search_name)\n",
        "  print(news_list[1])\n",
        "\n",
        "  #append the result (Only links) into a empty list\n",
        "  news_title = []\n",
        "  news_link = []\n",
        "  news_published = []\n",
        "  for i in range(len(news_list)):\n",
        "    news_title.append(news_list[i].get('title'))\n",
        "    news_link.append(news_list[i].get('link'))\n",
        "    news_published.append(news_list[i].get('published'))\n",
        "\n",
        "  article_title = []\n",
        "  article_date = []\n",
        "  article_text = []\n",
        "  article_summarized_text = []\n",
        "  tone = []\n",
        "  tone_score = []\n",
        "\n",
        "  #create a loop to process all the news\n",
        "  for i in range(len(news_list)):\n",
        "    sorted_arc = process_arc(news_link[i])\n",
        "    article_text.append(sorted_arc)\n",
        "    sum_arc = finBERT_Sum(sorted_arc)\n",
        "    tempT, tempS = tone_A(sum_arc)\n",
        "    \n",
        "    #append to a list and transform into excel\n",
        "    article_title.append(news_title[i])\n",
        "    article_date.append(news_published[i])\n",
        "    article_summarized_text.append(sum_arc)\n",
        "    tone.append(tempT)\n",
        "    tone_score.append(tempS)\n",
        "\n",
        "  d = {'Title': article_title,\n",
        "      'Date': article_date, \n",
        "      'Original Text': article_text,\n",
        "      'Summarized Text': article_summarized_text,\n",
        "      'FinBERT Tone': tone,\n",
        "      'Tone Score': tone_score}\n",
        "  df_data_storage = pd.DataFrame(data=d, index = None)\n",
        "\n",
        "  #pass to function and append new news to the excel\n",
        "  to_storage(df_data_storage,search_name)"
      ],
      "metadata": {
        "id": "OMcO4090yg58"
      },
      "execution_count": 23,
      "outputs": []
    },
    {
      "cell_type": "code",
      "source": [
        "mainbody('HSBC (Hong Kong)')"
      ],
      "metadata": {
        "id": "TJ0c9-9tz1Mk",
        "colab": {
          "base_uri": "https://localhost:8080/"
        },
        "outputId": "3ebbfde7-714a-4786-bf7f-d3cbe5313f47"
      },
      "execution_count": 24,
      "outputs": [
        {
          "output_type": "stream",
          "name": "stdout",
          "text": [
            "{'title': 'The Fiji Times » Ben Sets Target - Fiji Times', 'published': 'Sun, 27 Nov 2022 00:13:00 GMT', 'published_parsed': time.struct_time(tm_year=2022, tm_mon=11, tm_mday=27, tm_hour=0, tm_min=13, tm_sec=0, tm_wday=6, tm_yday=331, tm_isdst=0), 'link': 'https://news.google.com/__i/rss/rd/articles/CBMiI2h0dHBzOi8vd3d3LmZpaml0aW1lcy5jb20vNjA5MjQ3LTIv0gEA?oc=5'}\n",
            "['Karel Doshi - Country Head of Commercial Banking, HSBC Malaysia', '', 'Mid-Market Enterprises (MMEs), Mid-Tier Companies or Medium-Sized Companies, call them what you would like, but these companies, wedged between smaller companies who receive government support and larger companies who have access to capital markets and other investors, are navigating a fine-balancing act between growing their business operations and managing uncertainties, be it geopolitical, financial or operational risks.', '', 'Nevertheless, this has not dampened their entrepreneurial spirit, according to a recent study by HSBC titled the Business Balancing Act (BBA)*. Interestingly, the BBA survey showed that nine out of 10 (93%) MMEs in Malaysia are expecting to grow their sales in 2023, with the introduction of new products and services and technology-driven efficiencies cited as the main drivers for growth.', '', 'Is the optimism amongst Malaysian MMEs the outlier in this scenario? Not quite, as the findings for Malaysia aligns with global sentiment, where 93% of MMEs across 14 global markets (Australia, Canada, China, France, Germany, Hong Kong, India, Indonesia, Malaysia, Mexico, Singapore, UAE, UK and USA) are looking at sales growth in 2023. However, in terms of the magnitude of sales growth expected next year, there are instances where the optimism of Malaysian MMEs exceeded that of their global peers (see chart).', '', 'Striking a balance', '', 'Growth targets aside, the study highlights the balancing act that these MMEs need to manage, in terms of seizing opportunities and managing a combination of challenges in the year ahead. For example, over three quarters (78%) of Malaysian MMEs plan to enter at least one new foreign market next year, but at the same time 69% expect international trade to be more difficult due to increasing tariffs and an uncertain global political environment. Nevertheless, an interesting observation here is the drive to expand internationally by Malaysian MMEs exceeds that of their global counterparts, as the global average for companies looking to enter a foreign market next year was only at 64%.', '', 'MMEs also need to strike a balance in their digitalisation journey. Almost half (45%) of the Malaysian MMEs surveyed said they will expand to new digital platforms and channels next year-but concerns remain on a decrease in demand and consumer spending, that is crucial in justifying their shift to digital platforms.', '', 'Their concern on a decrease in demand and consumer spending ties in with another aspect of the study, which asked MMEs what were the biggest impediments or threats to their business growth or recovery next year. Malaysian MMES cited inflation and the higher cost of living as well as the increase in interest rates as the biggest threats, and these were also cited as the top threats faced by MMEs globally.', '', 'It is however refreshing to see that despite these hurdles, Malaysian MMEs have not overlooked the importance of sustainable business practices, with over three-fifths (65%) saying that they will focus on making their supply chain more sustainable next year--higher than the Asia Pacific average of 56%. However, it will once again be a balancing act for these businesses, as they face a hurdle in the form of a lack of quality suppliers and goods to enable them to source sustainably.', '', 'A display of resilience', '', 'While the balancing act that the MMEs are maintaining are a focal point of the BBA study, an underlying theme that it showcases is the resilience of these MMEs, which have survived the onslaught of the Covid-19 pandemic over the past two years, and are now regaining some ground.', '', 'They are hungry for new opportunities, and the proof is in the pudding as the BBA results show that more than two thirds (67%) of MMEs are looking for external investments to grow their businesses. Almost a third (29%) of these MMEs are planning to make an acquisition of their own to drive growth, and only a quarter (25%) expressed interest in divesting their business interests.', '', 'Though they are energised to grow their businesses, MMEs are doing so with caution and are keeping their balance sheets lean, as building up adequate cash flow and effective capital management was the top investment priority selected by a majority (72%) of Malaysian MMEs. They are also prioritising investments for marketing products and services (68%), as well investments that enhance customer experience (66%).', '', 'A temperature check for all stakeholders', '', 'Studies like the BBA are important in ensuring that MMES -- not just in Malaysia but across the globe -- remain on a growth trajectory, as they provide a temperature check for all stakeholders of MMEs, be it their customers, suppliers, employees, governments and lenders, like HSBC, through data driven analytics. According to the Malaysian Consortium of Mid-Tier Companies, there are approximately 15,000 Mid-Tier Companies in Malaysia (defined as companies with annual revenues of between RM50 million and RM500 million in the manufacturing sector and between RM20 million and RM500 million in the services sector). While this figure may seem small at only 1.7% of all registered companies in Malaysia, they contribute a staggering 40% of national gross domestic product and employ 16% of the nation\\'s workforce-this is indeed no small feat. MMEs truly are the \"engine room\" of growth for the Malaysian economy! Based on the results of the BBA survey and as a trusted advisor to our MME clients, HSBC is glad to see that the sentiment amongst Malaysian MMES is positive despite the expected headwinds next year. We hope that this positivity translates to business growth for these MMEs and further to that, we hope to help MMES realise the enormous value that they add to the country via gross domestic product, employment opportunities and to the businesses that supply them and buy from them.', '', 'Given their significant contribution to the economy, it is also imperative that there is a conducive ecosystem for MMEs to thrive, both on the domestic and international front and this is a work in progress that involves a collective effort from all stakeholders. At HSBC, we continue to support MMEs to realise their potential by scaling up and connecting them to opportunities as they expand into ASEAN, Europe, the US and beyond. For MMEs, it will continue to be a fine balancing act as they navigate the opportunities and challenges for their businesses, but we believe their resilience is key to managing this.', '', 'The Business Balancing Act survey was conducted by industry research firm Toluna between 28 September 2022 and 24 October 2022. Toluna polled chief executive officers and chief financial officers of more than 2,100 rising and established MMEs across 14 markets, with an annual turnover of between US$10 million (RM47.5 million) to US$500 million (RM2.37 billion). In Malaysia, 171 MMEs were surveyed, and they were primarily from the manufacturing, retail, digital and financial services sectors.', '', 'To reach out to HSBC on how we can support your business, contact us here.']\n"
          ]
        },
        {
          "output_type": "stream",
          "name": "stderr",
          "text": [
            "Some weights of the model checkpoint at yiyanghkust/finbert-pretrain were not used when initializing BertForMaskedLM: ['cls.seq_relationship.bias', 'cls.seq_relationship.weight']\n",
            "- This IS expected if you are initializing BertForMaskedLM from the checkpoint of a model trained on another task or with another architecture (e.g. initializing a BertForSequenceClassification model from a BertForPreTraining model).\n",
            "- This IS NOT expected if you are initializing BertForMaskedLM from the checkpoint of a model that you expect to be exactly identical (initializing a BertForSequenceClassification model from a BertForSequenceClassification model).\n",
            "Some weights of the model checkpoint at bert-base-uncased were not used when initializing BertModel: ['cls.predictions.transform.LayerNorm.bias', 'cls.predictions.transform.dense.weight', 'cls.predictions.transform.LayerNorm.weight', 'cls.predictions.decoder.weight', 'cls.seq_relationship.weight', 'cls.predictions.bias', 'cls.predictions.transform.dense.bias', 'cls.seq_relationship.bias']\n",
            "- This IS expected if you are initializing BertModel from the checkpoint of a model trained on another task or with another architecture (e.g. initializing a BertForSequenceClassification model from a BertForPreTraining model).\n",
            "- This IS NOT expected if you are initializing BertModel from the checkpoint of a model that you expect to be exactly identical (initializing a BertForSequenceClassification model from a BertForSequenceClassification model).\n"
          ]
        },
        {
          "output_type": "stream",
          "name": "stdout",
          "text": [
            "['FIJI 7s coach Ben Gollings has taken the challenge of finishing at the top of the HSBC World Rugby Dubai 7s next weekend.', '', 'Gollings said they were in a tough pool with Argentina, New Zealand and Uruguay.', '', 'He said the matches would be physical.', '', '“They are three very similar teams,” Gollings said.', '', '“But I think it is great for us to have that challenge that adds to the focus that we need.', '', '“In Hong Kong we managed to pull that off very well. The pool wasn’t very strong but we had really set ourselves out.', '', '“So for these two tournaments (Dubai and Cape Town) our target is to finish the pool on the top.', '', '“If we do that then we will be on the right track. We have to play with that intensity that we are playing in the quarter-final and semi-final.”', '', 'Gollings said the three teams in the pool were all strong with their class of their own.', '', '“We know about New Zealand and we know that they will be on a different side based on where they were in Hong Kong.', '', '“Argentina will be similar. They are a team that wants to push. They are a very good side and will test us.', '', '“Playing those tough matches will be important for us. So we want to start in Dubai very well and take that into Cape Town.”']\n"
          ]
        },
        {
          "output_type": "stream",
          "name": "stderr",
          "text": [
            "Some weights of the model checkpoint at yiyanghkust/finbert-pretrain were not used when initializing BertForMaskedLM: ['cls.seq_relationship.bias', 'cls.seq_relationship.weight']\n",
            "- This IS expected if you are initializing BertForMaskedLM from the checkpoint of a model trained on another task or with another architecture (e.g. initializing a BertForSequenceClassification model from a BertForPreTraining model).\n",
            "- This IS NOT expected if you are initializing BertForMaskedLM from the checkpoint of a model that you expect to be exactly identical (initializing a BertForSequenceClassification model from a BertForSequenceClassification model).\n",
            "Some weights of the model checkpoint at bert-base-uncased were not used when initializing BertModel: ['cls.predictions.transform.LayerNorm.bias', 'cls.predictions.transform.dense.weight', 'cls.predictions.transform.LayerNorm.weight', 'cls.predictions.decoder.weight', 'cls.seq_relationship.weight', 'cls.predictions.bias', 'cls.predictions.transform.dense.bias', 'cls.seq_relationship.bias']\n",
            "- This IS expected if you are initializing BertModel from the checkpoint of a model trained on another task or with another architecture (e.g. initializing a BertForSequenceClassification model from a BertForPreTraining model).\n",
            "- This IS NOT expected if you are initializing BertModel from the checkpoint of a model that you expect to be exactly identical (initializing a BertForSequenceClassification model from a BertForSequenceClassification model).\n"
          ]
        },
        {
          "output_type": "stream",
          "name": "stdout",
          "text": [
            "['']\n"
          ]
        },
        {
          "output_type": "stream",
          "name": "stderr",
          "text": [
            "Some weights of the model checkpoint at yiyanghkust/finbert-pretrain were not used when initializing BertForMaskedLM: ['cls.seq_relationship.bias', 'cls.seq_relationship.weight']\n",
            "- This IS expected if you are initializing BertForMaskedLM from the checkpoint of a model trained on another task or with another architecture (e.g. initializing a BertForSequenceClassification model from a BertForPreTraining model).\n",
            "- This IS NOT expected if you are initializing BertForMaskedLM from the checkpoint of a model that you expect to be exactly identical (initializing a BertForSequenceClassification model from a BertForSequenceClassification model).\n",
            "Some weights of the model checkpoint at bert-base-uncased were not used when initializing BertModel: ['cls.predictions.transform.LayerNorm.bias', 'cls.predictions.transform.dense.weight', 'cls.predictions.transform.LayerNorm.weight', 'cls.predictions.decoder.weight', 'cls.seq_relationship.weight', 'cls.predictions.bias', 'cls.predictions.transform.dense.bias', 'cls.seq_relationship.bias']\n",
            "- This IS expected if you are initializing BertModel from the checkpoint of a model trained on another task or with another architecture (e.g. initializing a BertForSequenceClassification model from a BertForPreTraining model).\n",
            "- This IS NOT expected if you are initializing BertModel from the checkpoint of a model that you expect to be exactly identical (initializing a BertForSequenceClassification model from a BertForSequenceClassification model).\n"
          ]
        },
        {
          "output_type": "stream",
          "name": "stdout",
          "text": [
            "FOUND... Appending...\n",
            "successful saved...\n",
            " ==================================================\n"
          ]
        }
      ]
    },
    {
      "cell_type": "code",
      "source": [
        "mainbody('bank of east asia')"
      ],
      "metadata": {
        "id": "1Pn9YIpfz1Ui",
        "colab": {
          "base_uri": "https://localhost:8080/"
        },
        "outputId": "14951250-396f-4abc-fdbc-30188ce85782"
      },
      "execution_count": 25,
      "outputs": [
        {
          "output_type": "stream",
          "name": "stdout",
          "text": [
            "{'title': 'Middle East Asia-Pacific to account for 58% of global air passengers by 2040: ACI - Arab News', 'published': 'Sun, 27 Nov 2022 13:03:59 GMT', 'published_parsed': time.struct_time(tm_year=2022, tm_mon=11, tm_mday=27, tm_hour=13, tm_min=3, tm_sec=59, tm_wday=6, tm_yday=331, tm_isdst=0), 'link': 'https://news.google.com/__i/rss/rd/articles/CBMiNmh0dHBzOi8vd3d3LmFyYWJuZXdzLmNvbS9ub2RlLzIyMDY5MTYvYnVzaW5lc3MtZWNvbm9tedIBAA?oc=5'}\n",
            "['EAST Asian economies, the Philippines included, saw bond yields rise and financial conditions worsen further as major advanced economies tightened monetary policy, the Asian Development Bank (ADB) said last week.', '', '\"Among regional bond markets, Vietnam and the Philippines recorded the sharpest rise overall in government bond yields,\" the Manila-based multilateral said in its latest Asia Bond Monitor report released on Friday.', '', \"Rising inflation forced the US Federal Reserve and the European Central Bank to embark on a rate hike spree this year, which prompted almost all of East Asia's central banks to also tighten policy in response.\", '', 'These, \"in combination with a bleak economic outlook, weighed on domestic financial conditions in the region,\" the ADB noted.', '', 'Over August 31 to November 4, \"emerging East Asia\\'s major currencies depreciated against the United States dollar by a gross domestic product (GDP)-weighted average of 4.2 percent, equity markets retreated by a market-weighted average of 7.5 percent, and risk premiums widened by a GDP-weighted average of 28 basis points (bps),\" it added.', '', 'Get the latest news', '', 'delivered to your inbox Sign up for The Manila Times’ daily newsletters By signing up with an email address, I acknowledge that I have read and agree to the Terms of Service and Privacy Policy', '', \"Two- and 10-year bond yields in the Philippines, in particular, rose by 132 and 136 bps during the review period in the wake of the Bangko Sentral ng Pilipinas' (BSP) cumulative 225-bps policy rate hike from May to September.\", '', 'Inflation hit a nearly 14-year high of 7.7 percent in October, also the second highest in East Asia, which prompted the BSP to further raise rates by 75 bps.', '', 'The peso, which hit a record P59:$1 in October, also fell by 4.1 percent during the review period, while the stock market dropped by a larger 6.0 percent.', '', '\"Equities in the Philippines declined over aggressive rate hikes by its central bank in response to rising inflation and a weakening currency,\" the ADB said.', '', 'Between August 31 and October 14, meanwhile, yields on local currency (LCY) government bonds rose across all tenors by an average of 86 bps, the multilateral noted in its Philippine market summary.', '', '\"Yields on the shorter end of the curve (from one-month to six-month tenors) inched up an average of 94 bps, with the largest increase seen in the three-month tenor at 112 bps,\" the ADB said.', '', '\"Yields for the two-year through 10-year tenors climbed an average of 101 bps, while yields at the longer-end of the curve (from 20-year to 25-year tenors) increased an average of 74 bps,\" it added.', '', '\"The smallest increase in yields was seen for the one-year tenor at only one bp. The spread between the 10-year and two-year maturities widened from 145 bps on 31 August to 154 bps on 14 October.\"', '', \"As of the third quarter, the size of the Philippines' LCY bond market was P11.06 trillion, mostly composed of government offerings (P9.64 trillion) with the corporate sector accounting for the rest (P1.44 trillion).\", '', 'Year on year, government borrowings increased by 15.8 percent while corporate issuances fell by 0.9 percent.', '', 'The regional financial conditions outlook, the ADB said, remains tilted to the downside. Investment sentiment, it added, will continue to be eroded by subdued growth outlooks in major advanced economies and in China, Covid-19 uncertainties, continued tightening and the possibility of the Russia-Ukraine war having a larger impact.', '', '\"Nevertheless, the financial sector in emerging East Asia remained resilient to persistent headwinds not only because of sound economic fundamentals such as sufficient reserves and healthy fiscal and trade balances, but also because of improved institutional quality and more developed domestic capital markets, especially local currency bond markets.\"', '', '\"Over the medium term, as many major regional economies commit to transition to net zero emissions, the region\\'s financial sector faces asset vulnerability issues, especially in high-emitting sectors, as well as large financing gaps for investments in low-emission projects and the transitioning of high-emitting sectors,\" the ADB continued.', '', '\"Providing enough financing while ensuring a resilient and timely transition calls for further development of the sustainable finance market and innovative financing solutions,\" it added.', '', 'The ADB expects the Philippines to grow by 6.5 percent this year, up from 6.0 initially. The forecast for next year was unchanged at 6.3 percent.', '', 'It said inflation would likely average 5.3 percent in 2022 and 4.3 percent next year, higher than the 4.2 percent and 3.5 percent, respectively, that the multilateral previously forecast.']\n"
          ]
        },
        {
          "output_type": "stream",
          "name": "stderr",
          "text": [
            "Some weights of the model checkpoint at yiyanghkust/finbert-pretrain were not used when initializing BertForMaskedLM: ['cls.seq_relationship.bias', 'cls.seq_relationship.weight']\n",
            "- This IS expected if you are initializing BertForMaskedLM from the checkpoint of a model trained on another task or with another architecture (e.g. initializing a BertForSequenceClassification model from a BertForPreTraining model).\n",
            "- This IS NOT expected if you are initializing BertForMaskedLM from the checkpoint of a model that you expect to be exactly identical (initializing a BertForSequenceClassification model from a BertForSequenceClassification model).\n",
            "Some weights of the model checkpoint at bert-base-uncased were not used when initializing BertModel: ['cls.predictions.transform.LayerNorm.bias', 'cls.predictions.transform.dense.weight', 'cls.predictions.transform.LayerNorm.weight', 'cls.predictions.decoder.weight', 'cls.seq_relationship.weight', 'cls.predictions.bias', 'cls.predictions.transform.dense.bias', 'cls.seq_relationship.bias']\n",
            "- This IS expected if you are initializing BertModel from the checkpoint of a model trained on another task or with another architecture (e.g. initializing a BertForSequenceClassification model from a BertForPreTraining model).\n",
            "- This IS NOT expected if you are initializing BertModel from the checkpoint of a model that you expect to be exactly identical (initializing a BertForSequenceClassification model from a BertForSequenceClassification model).\n"
          ]
        },
        {
          "output_type": "stream",
          "name": "stdout",
          "text": [
            "['RIYADH: Air passenger demand is likely to double globally over the next 20 years, with Asia-Pacific and the Middle East accounting for 58 percent of the volume, according to a report by Airports Council International.', '', \"Global passenger numbers are forecast to rise from 9.2 billion in 2019 to about 19 billion in 2040 predicted the ACI Asia-Pacific's Airport Industry Outlook, a quarterly assessment of the airports' performances.\", '', 'Of this volume, Middle Eastern airports are expected to handle 1.1 billion passengers by 2040 – a significant increase of nearly 300 percent of the combined traffic of 505 million they handled in 2019.', '', 'ACI Director General of ACI Asia-Pacific Stefano Baronci said that the region must prepare itself for the oncoming influx: \"The consistent improvement in passenger volumes in the region is a positive indication of a sustained recovery of the industry following prolonged efforts towards rebuilding passenger confidence in air travel.\"', '', 'He said restoring international connectivity will take longer and will be partly dependent on the decision of China to re-connect to the World. \"The macroeconomic headwinds, less acute in Asia than other western regions, should not hamper a process of growth, subject to continue to maintain the freedom to travel without restrictions.\"', '', '\"All the stakeholders engaged in the aviation ecosystem must prepare to the surge in traffic,” insisted the ACI director general.', '', 'The Middle East is an ideally located axis for travel — aircraft flying from the geographical crossroads can reach almost all of Asia, Africa, and Europe within eight hours.', '', 'Tourism is one of the pillars of the Kingdom’s Vision 2030, to contribute to diversifying the base of the national economy, attracting investments, increasing sources of income, and providing job opportunities for citizens, as the sector is witnessing rapid growth as a result of plans to promote the tourism sector.', '', 'Last month, a report by the World Tourism Organization listed Saudi Arabia as top of the Group of 20 countries for the flow rating of international tourists in the first seven months of 2022.', '', 'The report, released during the G20 tourism ministers’ meeting held in Bali, Indonesia, did not detail the exact number of travelers who visited the Kingdom, but claimed the sector saw a growth rate of 121 percent in the first half of 2022.', '', 'During the event, Saudi Arabia’s Tourism Minister Ahmed Al-Khateeb said the surge in tourist inflow aligns with the Kingdom’s economic diversification policies and aims to increase tourism’s contribution to the country’s gross domestic product, as outlined in Vision 2030, the Saudi Press Agency reported.', '', 'Calling Saudi Arabia one of the fastest-growing markets for tourism, Al-Khateeb said the Kingdom’s tourism sector is accelerating at a rate of 14 percent compared to the pre-coronavirus pandemic period.', '', 'Prior to the COVID-19 pandemic, 450,000 tourist visas were issued, since the Kingdom’s Tourism Authority launched the tourist visa program in 2019, by targeting 49 countries in the initial stage, and facilitated access to tourist visas electronically or through entry points to the Kingdom within specific regulatory controls.', '', 'Earlier in June, Al-Khateeb said that Saudi Arabia has allocated $100 million to provide training for 100,000 people to work in the tourism and sustainability sector.', '', 'He added that 90 hotels were launched in the Kingdom as a part of its tourism strategy, and more hotels will be opened soon, with 70 percent being funded by the private sector.', '', 'Al-Khateeb, in June, told AFP that the Kingdom is hoping to attract 12 million foreign visitors in 2022, up from the 4 million tourists who visited Saudi Arabia in 2021.', '', '“Saudi Arabia will change the tourism landscape globally. The destinations that Saudi will offer by 2030, it’s something completely different,” he said.']\n"
          ]
        },
        {
          "output_type": "stream",
          "name": "stderr",
          "text": [
            "Some weights of the model checkpoint at yiyanghkust/finbert-pretrain were not used when initializing BertForMaskedLM: ['cls.seq_relationship.bias', 'cls.seq_relationship.weight']\n",
            "- This IS expected if you are initializing BertForMaskedLM from the checkpoint of a model trained on another task or with another architecture (e.g. initializing a BertForSequenceClassification model from a BertForPreTraining model).\n",
            "- This IS NOT expected if you are initializing BertForMaskedLM from the checkpoint of a model that you expect to be exactly identical (initializing a BertForSequenceClassification model from a BertForSequenceClassification model).\n",
            "Some weights of the model checkpoint at bert-base-uncased were not used when initializing BertModel: ['cls.predictions.transform.LayerNorm.bias', 'cls.predictions.transform.dense.weight', 'cls.predictions.transform.LayerNorm.weight', 'cls.predictions.decoder.weight', 'cls.seq_relationship.weight', 'cls.predictions.bias', 'cls.predictions.transform.dense.bias', 'cls.seq_relationship.bias']\n",
            "- This IS expected if you are initializing BertModel from the checkpoint of a model trained on another task or with another architecture (e.g. initializing a BertForSequenceClassification model from a BertForPreTraining model).\n",
            "- This IS NOT expected if you are initializing BertModel from the checkpoint of a model that you expect to be exactly identical (initializing a BertForSequenceClassification model from a BertForSequenceClassification model).\n"
          ]
        },
        {
          "output_type": "stream",
          "name": "stdout",
          "text": [
            "[\"BANGKOK -- Flooding and other water hazards have become a serious threat to many people living in Asia's cities, as rapid economic development has caused land subsidence in big cities and sea levels keep rising due to global warming and other climate changes.\", '', \"As many as 1.2 billion people, about a third of Asia's population, face the risk of flood damage. The heightened risk of flooding and other water hazards in the world's growth engine may also hinder economic recovery in the post-pandemic era.\"]\n"
          ]
        },
        {
          "output_type": "stream",
          "name": "stderr",
          "text": [
            "Some weights of the model checkpoint at yiyanghkust/finbert-pretrain were not used when initializing BertForMaskedLM: ['cls.seq_relationship.bias', 'cls.seq_relationship.weight']\n",
            "- This IS expected if you are initializing BertForMaskedLM from the checkpoint of a model trained on another task or with another architecture (e.g. initializing a BertForSequenceClassification model from a BertForPreTraining model).\n",
            "- This IS NOT expected if you are initializing BertForMaskedLM from the checkpoint of a model that you expect to be exactly identical (initializing a BertForSequenceClassification model from a BertForSequenceClassification model).\n",
            "Some weights of the model checkpoint at bert-base-uncased were not used when initializing BertModel: ['cls.predictions.transform.LayerNorm.bias', 'cls.predictions.transform.dense.weight', 'cls.predictions.transform.LayerNorm.weight', 'cls.predictions.decoder.weight', 'cls.seq_relationship.weight', 'cls.predictions.bias', 'cls.predictions.transform.dense.bias', 'cls.seq_relationship.bias']\n",
            "- This IS expected if you are initializing BertModel from the checkpoint of a model trained on another task or with another architecture (e.g. initializing a BertForSequenceClassification model from a BertForPreTraining model).\n",
            "- This IS NOT expected if you are initializing BertModel from the checkpoint of a model that you expect to be exactly identical (initializing a BertForSequenceClassification model from a BertForSequenceClassification model).\n"
          ]
        },
        {
          "output_type": "stream",
          "name": "stdout",
          "text": [
            "['TOKYO – The nascent revival in North Asian equities is being touted as the start of a potential bull run, as bets on China’s gradual reopening and the bottoming out of the chip industry intensify.', '', 'Strategists at Goldman Sachs Group expect Asia’s equity leadership to shift from South-east Asia and India to markets such as China and South Korea in 2023, while Societe Generale says Taiwan’s tech-heavy market is also at an inflection point. Jefferies Financial Group has echoed similar views.', '', 'Stocks listed in Hong Kong as well as South Korea and Taiwan have languished for most of the year, owing to their heavy reliance on China’s economy, which has been crimped by stringent Covid-19 controls and a property crisis.', '', 'Meanwhile, domestic-demand driven southern markets of Indonesia and India boasted resilience.', '', 'The tables turned in November after a slew of positive policy moves by Beijing.', '', '“Of concern to us is that South-east Asia is beginning to underperform in the last few weeks, as investors rotate back into North Asia,” said Mr Alexander Redman, chief equity strategist at CLSA.', '', '“Indonesia, as a defensive, domestically orientated commodity exporter, was a logical refuge to ride out the equity storm,” he said, adding that the market will be “less favoured as investors re-engage some deep value cyclical exposure in North Asia.”', '', 'Key equity gauges in Hong Kong rallied about 20 per cent in November, easily topping the rest of Asia and major global peers, as China urged more targeted Covid-19 restrictions and boosted policy support for the real estate sector.', '', 'Foreigners piled US$5.8 billion (S$8 billion) into Taiwan stocks in November, on track for the first inflows in six months and the biggest in 15 years. Net purchases of South Korean shares are set to exceed US$2 billion for a second straight month.', '', 'In contrast, Indonesia’s market – once investors’ favourite as an inflation hedge – is flat in November, and poised to see monthly flows turn negative for the first time since July.', '', 'Investors are also more wary about valuations in India, where benchmarks recently hit record highs, with Goldman Sachs expecting the market to relatively underperform in 2023.', '', '“Any positive catalyst such as a potential China reopening and policy support, lowering of geopolitical tensions or tech cycle bottoming is likely to drive a sharp re-rating” of North Asian markets, Jefferies strategists led by Mr Desh Peramunetilleke wrote in a note.', '', 'The brokerage is overweight on Hong Kong, China, South Korea and Taiwan, neutral on Indonesia, and underweight on India.', '', 'The bullish case for South Korea and Taiwan is also built on their chip dominance, as the markets are home to industry heavyweights such as Samsung Electronics and Taiwan Semiconductor Manufacturing. They also have China as their largest trading partner.', '', 'SocGen and Lombard Odier Private Bank in November joined Morgan Stanley in saying that investors should tip-toe back into Asia’s semiconductor stocks.', '', '“Share prices typically bottom out two to three quarters ahead of the bottom of the semiconductor cycle,” SocGen strategists led by Mr Alain Bokobza wrote in a note last week. “We may be at this point.”', '', 'Chinese shares in Hong Kong are poised for their best monthly showing since 2006, as asset managers from M&G Investments and Eastspring Investments to Franklin Templeton Investments buy into the rally.', '', 'On the mainland, foreign funds have snapped up about 49 billion yuan (S$9.4 billion) worth of stocks via trading links with Hong Kong.']\n"
          ]
        },
        {
          "output_type": "stream",
          "name": "stderr",
          "text": [
            "Some weights of the model checkpoint at yiyanghkust/finbert-pretrain were not used when initializing BertForMaskedLM: ['cls.seq_relationship.bias', 'cls.seq_relationship.weight']\n",
            "- This IS expected if you are initializing BertForMaskedLM from the checkpoint of a model trained on another task or with another architecture (e.g. initializing a BertForSequenceClassification model from a BertForPreTraining model).\n",
            "- This IS NOT expected if you are initializing BertForMaskedLM from the checkpoint of a model that you expect to be exactly identical (initializing a BertForSequenceClassification model from a BertForSequenceClassification model).\n",
            "Some weights of the model checkpoint at bert-base-uncased were not used when initializing BertModel: ['cls.predictions.transform.LayerNorm.bias', 'cls.predictions.transform.dense.weight', 'cls.predictions.transform.LayerNorm.weight', 'cls.predictions.decoder.weight', 'cls.seq_relationship.weight', 'cls.predictions.bias', 'cls.predictions.transform.dense.bias', 'cls.seq_relationship.bias']\n",
            "- This IS expected if you are initializing BertModel from the checkpoint of a model trained on another task or with another architecture (e.g. initializing a BertForSequenceClassification model from a BertForPreTraining model).\n",
            "- This IS NOT expected if you are initializing BertModel from the checkpoint of a model that you expect to be exactly identical (initializing a BertForSequenceClassification model from a BertForSequenceClassification model).\n"
          ]
        },
        {
          "output_type": "stream",
          "name": "stdout",
          "text": [
            "['Islami Bank Bangladesh has been the \"Strongest Bank in Bangladesh\" and the \"Strongest Islamic bank in Bangladesh\" in 2022 according to Singapore-based banking and financial intelligence platform The Asian Banker.', '', \"Foo Boon Ping, the platform's managing editor, announced this on Thursday through a virtual platform which was joined by Mohammed Monirul Moula, managing director of Islami Bank Bangladesh, said a press release.\", '', 'The platform recognised 22 banks analysing data from 500 lenders from Asia, Middle East and Africa, including Australia and New Zealand, and based on six indicators -- ability to scale, balance sheet growth, risk profile, profitability, asset quality and liquidity.', '', 'The platform has been recognising banks since 2007.']\n"
          ]
        },
        {
          "output_type": "stream",
          "name": "stderr",
          "text": [
            "Some weights of the model checkpoint at yiyanghkust/finbert-pretrain were not used when initializing BertForMaskedLM: ['cls.seq_relationship.bias', 'cls.seq_relationship.weight']\n",
            "- This IS expected if you are initializing BertForMaskedLM from the checkpoint of a model trained on another task or with another architecture (e.g. initializing a BertForSequenceClassification model from a BertForPreTraining model).\n",
            "- This IS NOT expected if you are initializing BertForMaskedLM from the checkpoint of a model that you expect to be exactly identical (initializing a BertForSequenceClassification model from a BertForSequenceClassification model).\n",
            "Some weights of the model checkpoint at bert-base-uncased were not used when initializing BertModel: ['cls.predictions.transform.LayerNorm.bias', 'cls.predictions.transform.dense.weight', 'cls.predictions.transform.LayerNorm.weight', 'cls.predictions.decoder.weight', 'cls.seq_relationship.weight', 'cls.predictions.bias', 'cls.predictions.transform.dense.bias', 'cls.seq_relationship.bias']\n",
            "- This IS expected if you are initializing BertModel from the checkpoint of a model trained on another task or with another architecture (e.g. initializing a BertForSequenceClassification model from a BertForPreTraining model).\n",
            "- This IS NOT expected if you are initializing BertModel from the checkpoint of a model that you expect to be exactly identical (initializing a BertForSequenceClassification model from a BertForSequenceClassification model).\n"
          ]
        },
        {
          "output_type": "stream",
          "name": "stdout",
          "text": [
            "[\"SEOUL -- The South Korean defense industry has doubled orders from overseas compared with last year, underscoring the government's ambitions of transforming the country into an arms-exporting powerhouse.\", '', \"President Yoon Suk-yeol visited Korea Aerospace Industries' (KAI) main production hub in Sacheon Thursday to hold a strategy meeting concerning how the public and private sectors can boost weapons exports.\"]\n"
          ]
        },
        {
          "output_type": "stream",
          "name": "stderr",
          "text": [
            "Some weights of the model checkpoint at yiyanghkust/finbert-pretrain were not used when initializing BertForMaskedLM: ['cls.seq_relationship.bias', 'cls.seq_relationship.weight']\n",
            "- This IS expected if you are initializing BertForMaskedLM from the checkpoint of a model trained on another task or with another architecture (e.g. initializing a BertForSequenceClassification model from a BertForPreTraining model).\n",
            "- This IS NOT expected if you are initializing BertForMaskedLM from the checkpoint of a model that you expect to be exactly identical (initializing a BertForSequenceClassification model from a BertForSequenceClassification model).\n",
            "Some weights of the model checkpoint at bert-base-uncased were not used when initializing BertModel: ['cls.predictions.transform.LayerNorm.bias', 'cls.predictions.transform.dense.weight', 'cls.predictions.transform.LayerNorm.weight', 'cls.predictions.decoder.weight', 'cls.seq_relationship.weight', 'cls.predictions.bias', 'cls.predictions.transform.dense.bias', 'cls.seq_relationship.bias']\n",
            "- This IS expected if you are initializing BertModel from the checkpoint of a model trained on another task or with another architecture (e.g. initializing a BertForSequenceClassification model from a BertForPreTraining model).\n",
            "- This IS NOT expected if you are initializing BertModel from the checkpoint of a model that you expect to be exactly identical (initializing a BertForSequenceClassification model from a BertForSequenceClassification model).\n"
          ]
        },
        {
          "output_type": "stream",
          "name": "stdout",
          "text": [
            "['Police and investigators fear organised gangs of fraudsters are expanding across sub-Saharan Africa, exploiting new opportunities as a result of the Covid-19 pandemic and the global economic crisis to make huge sums with little risk of being caught.', '', 'The growth will have a direct impact on the rest of the world, where many victims of “hugely lucrative” fraud live, senior police officials have said.', '', 'Experts attribute the surge in cybercrime in Africa to rapid growth of internet use at a time when police forces and criminal justice systems have been weakened by the economic consequences of a series of major challenges.', '', '“The Covid-19 pandemic has accelerated digitalisation around the world, but as life has shifted increasingly online, cybercriminals have exploited the opportunity to attack vital digital infrastructure,” said Prof Landry Signé, a senior fellow at the Brookings Institution and author of a recent report on the problem. “States across Africa have emerged as a favourite target of cybercriminals, with costly consequences.”', '', 'Interpol have described online scams such as banking and credit card fraud as the most prevalent and pressing cyberthreat in Africa. The Covid-19 pandemic led to a sustained increase in the volume of cyber-attacks, including more than twice as many targeting online banking platforms, analysts at the organisation have said.', '', 'A major operation earlier this month coordinated by Interpol in 14 countries underlined the scale of the threat from cybercrime on the continent and beyond. Police arrested more than 70 alleged fraudsters linked to a Nigerian criminal network known as Black Axe in South Africa, Nigeria and Ivory Coast – as well as in Europe, the Middle East, south-east Asia and the US.', '', 'Almost 50 properties were searched and about $1m intercepted in bank accounts. A residential property, three cars, tens of thousands in cash and 12,000 sim cards were seized.', '', '“It is way wider and broader than these 14 countries. We are dealing with a highly organised international network. These guys are not opportunists … We’re mapping them out around the world,” said Rory Corcoran, the acting head of Interpol’s new Financial Crime and Anti-Corruption Centre.', '', 'The recent raids across Africa targeted alleged members of Nigeria’s infamous Black Axe gang, which began as a student movement in Benin City in the 1970s but has since evolved into a global criminal network that specialises in fraud. A regional hub in South Africa was reportedly officially recognised by the Black Axe leadership in 2013, according to US legal documents viewed by the Guardian.', '', 'The trail leading to the arrests last month began in Ireland, when local police officers recovered phones and other devices belonging to fraudsters linked to Black Axe. Investigators recognised vocabulary typical of the group and were able to trace links back to west Africa.', '', 'A former South African criminal intelligence official said the impact of operations such as the arrests earlier this month should not be exaggerated, however.', '', '“There may be a decrease in activity for a time, but does the organisation stop? Not really. They run these things really effectively and there are work arounds. You get a lot of publicity for law enforcement but really it’s little more than a speed bump for the criminals,” the official said.', '', 'Corcoran said arrests had a significant disruptive effect. Recently introduced improvements to coordination and communication between the banking sector and local police forces also allowed much more rapid tracking, seizure and restitution of stolen funds.', '', 'More than $120m has been seized this year, denying fraudsters such as Black Axe capital that could be reinvested in other forms of crime, such as forcing young west African women into sex work in Europe, purchasing weapons or the growing international traffic in methamphetamines.', '', 'The return of air travel after the pandemic has allowed fraudsters to move again between key hubs of activities, former investigators say. The United Arab Emirates, with its many air links and luxury lifestyle opportunities, has long been a favoured destination for west African fraudsters, for example. Dubai was a favourite base for Ramon Abbas, a flamboyant Nigerian who flaunted a lavish lifestyle fuelled by his efforts to launder millions of stolen dollars.', '', 'Abbas, under the name Ray Hushpuppi, had more than 2 million Instagram followers before he was arrested in 2020 in Dubai, the United Arab Emirates. His social media posts showed him living a life of luxury, complete with private jets, ultra-expensive cars, high-end clothes and $200,000 watches.', '', 'Ramon Abbas, aka Ray Hushpuppi, used to flaunt his lavish lifestyle on Instagram before his arrest. Photograph: Ray Huspuppi /Facebook', '', 'Earlier this month Abbas, 40, was sentenced in Los Angeles to more than 11 years in federal prison and ordered by a federal judge to pay $1.7m in restitution.', '', 'Sign up to First Edition Free daily newsletter Archie Bland and Nimo Omer take you through the top stories and what they mean, free every weekday morning Privacy Notice: Newsletters may contain info about charities, online ads, and content funded by outside parties. For more information see our Newsletters may contain info about charities, online ads, and content funded by outside parties. For more information see our Privacy Policy . We use Google reCaptcha to protect our website and the Google Privacy Policy and Terms of Service apply.', '', 'Kenya is also a significant hub for digital extortion schemes, the FBI and Interpol believe, while South Africa is a major base for organised criminals operating across the continent.', '', '“As well as hosting Black Axe groups, South Africa also helps enable their spread to other parts of the world … Black Axe members come to South Africa to obtain South African citizenship, which facilitates their travel to the US, Europe or Dubai,” Interpol said in a statement accompanying the raids this month. A second Nigerian network – known as the Air Lords – is also reported to be active in South Africa.', '', 'Many cyber frauds in Africa involve the use of online dating sites and apps to engage victims in fictitious romantic relationships in order to elicit money or personal and financial information.', '', '“There’s been a significant growth in skills in the sector, with hacking and similar activities but also romance fraud. There’s an accumulation of experience about what to do and who to target,” said Mark Shaw, the director of the Global Initiative against Transnational Organized Crime.', '', 'A major romance fraud ring was cracked in October 2021 when seven members of Black Axe and a conspirator were arrested in Cape Town in a joint operation between the FBI, Interpol and South African police. The men were charged with running a fraud syndicate that had reportedly stolen $4m from about 100 US victims over a decade.', '', 'Gareth Newham, the head of justice and violence prevention at the Institute for Security Studies in Pretoria, said that the shortage of resources in cash-strapped economies was not the only problem allowing organised crime to flourish on the continent.', '', '“The budget is not necessarily the issue. The South African police force is very well resourced but there has been a massive deterioration in capability. This has been more about very poor political leadership than any lack of funding,” said Newham.', '', '“At the moment, there is a combination of opportunities for money laundering and weakening law enforcement and a limited ability of the state to keep up with a big growth too in cyber activity. Organised crime has really taken off in the past decade [in South Africa], especially the past five years.”', '', 'There are concerns that a global focus on African fraudsters could reinforce dangerous stereotypes.', '', '“In the collective imagination, people refer to these preconceived ideas, perhaps because these are individuals who are receiving emails … but only a small proportion of cybercrime is originating in Africa,” Signé said. “The attacks on advanced economies are not coming from Africa but from geopolitical competitors.”']\n"
          ]
        },
        {
          "output_type": "stream",
          "name": "stderr",
          "text": [
            "Some weights of the model checkpoint at yiyanghkust/finbert-pretrain were not used when initializing BertForMaskedLM: ['cls.seq_relationship.bias', 'cls.seq_relationship.weight']\n",
            "- This IS expected if you are initializing BertForMaskedLM from the checkpoint of a model trained on another task or with another architecture (e.g. initializing a BertForSequenceClassification model from a BertForPreTraining model).\n",
            "- This IS NOT expected if you are initializing BertForMaskedLM from the checkpoint of a model that you expect to be exactly identical (initializing a BertForSequenceClassification model from a BertForSequenceClassification model).\n",
            "Some weights of the model checkpoint at bert-base-uncased were not used when initializing BertModel: ['cls.predictions.transform.LayerNorm.bias', 'cls.predictions.transform.dense.weight', 'cls.predictions.transform.LayerNorm.weight', 'cls.predictions.decoder.weight', 'cls.seq_relationship.weight', 'cls.predictions.bias', 'cls.predictions.transform.dense.bias', 'cls.seq_relationship.bias']\n",
            "- This IS expected if you are initializing BertModel from the checkpoint of a model trained on another task or with another architecture (e.g. initializing a BertForSequenceClassification model from a BertForPreTraining model).\n",
            "- This IS NOT expected if you are initializing BertModel from the checkpoint of a model that you expect to be exactly identical (initializing a BertForSequenceClassification model from a BertForSequenceClassification model).\n"
          ]
        },
        {
          "output_type": "stream",
          "name": "stdout",
          "text": [
            "['Monday, Nov. 28', '', 'CHARITY: Toyz N Da Neighborhood Toy Drive is accepting donations through Dec. 15. Productoftheproject.org/donations.', '', 'RECREATION: Skiing and Snowboarding, daily, Perfect North Slopes, 19074 Perfect Lane, Lawrenceburg. perfectnorth.com.', '', 'Tuesday, Nov. 29', '', 'ART: The Works of Daryl Urig, 10 a.m.-6 p.m., Museum of Spiritual Art & Fine Art Gallery, 318 S. River St., Franklin. Runs through Dec. 30. soulandfineartgallery.com.', '', 'ART: Candace Black: Accoutrements, Weston Art Gallery, 650 Walnut St., Downtown. Exhibition features series of body extensions subjected to pressures illustrated through afflictions and protective barriers such as fire and silver mirroring. Runs Nov. 18-Jan. 15. Free.', '', 'ART: Steven Thurston: Lost in Translation, Deception and Desire, Weston Art Gallery, 650 Walnut St., Downtown. Artist explores notions of authenticity and translation through ongoing series of iconic porcelain busts depicting the founding fathers of the United States, examining translational misunderstanding and conflicting mythologies surrounding the subjects. Runs Nov. 18-Jan. 15. Free.', '', \"ART: Mary Jo Bole: Family White Elephants, Weston Art Gallery, 650 Walnut St., Downtown. Artist explores her family's industrial history and the lineage of women who preserved it. Her experiences are filtered through counter-culture and the punk scene from her youth and Lake Erie. Runs Nov. 18-Jan. 15. Free.\", '', 'MUSEUM: Natural World, 11 a.m.-5 p.m., Cincinnati Art Museum, 953 Eden Park Drive, Mount Adams. Explores collaboration between artists John Edmonds and David Hartt, and poet/scholar Jason Allen-Paisant. Runs Sept. 30-Jan. 15. cincinnatiartmuseum.org.', '', 'MUSEUM: Beyond Bollywood, 11 a.m.-5 p.m., Cincinnati Art Museum, 953 Eden Park Drive, Mount Adams. Through more than 100 artworks drawn from US museums and private collections, you can explore the representation of dance in the arts from South Asia, Southeast Asia and the Himalayan region from the 1st to the 21st centuries. Runs Nov. 11-Feb. 5. cincinnatiartmuseum.org.', '', 'MUSIC: Music Live at Lunch: Vincenzo G. Volpe and Michael Delfin, 12:10 p.m., Christ Church Cathedral, 318 E. Fourth St., Downtown. Free.', '', 'MUSIC: Christmas with the Celts, Memorial Hall.', '', \"RECREATION: FIFA World Cup Watch Party: US Men's National Team vs Iran, 2 p.m., Molly Malone's Irish Pub, 112 E. Fourth St., Covington. mollymalonesirishpub.com/covington.\", '', \"RECREATION: FIFA World Cup Watch Party: US Men's National Team vs Iran, 2 p.m., The Banks, Downtown.\", '', 'Wednesday, Nov. 30', '', 'COMEDY: Emma Willmann, Funny Bone Comedy Club, 7518 Bales St., Liberty Township. One night only. liberty.funnybone.com.', '', 'HOLIDAY OPENING: 19th Century Holiday Guided Tour, 10 a.m.-3 p.m., Heritage Village Museum, 11500 Lebanon Road, Sharonville. See glimpses of the earliest Christmases of Cincinnati, the impact of the Civil War on celebrations, and the new traditions introduced by Queen Victoria. Runs Nov. 30-Dec. 3 and Dec. 7-9. $10 per person. heritagevillagecincinnati.org.', '', 'MUSEUM: Craft and Camera: The Art of Nancy Ford Cones, Taft Museum of Art, 316 Pike St., Downtown. Runs Oct. 1-Jan. 15. $15, $10 seniors and children. Admission is free every Sunday. taftmuseum.org.', '', 'MUSEUM: Free As They Want To Be: Artists Committed to Memory, 10 a.m.-5 p.m. Wednesday-Sunday, National Underground Railroad Freedom Center, 50 E. Freedom Way, Downtown. Runs Sept. 30-March 5. Included with admission. $15, $10.50 ages 3-12. freedomcenter.org.', '', 'SHOPPING: Fort Thomas Holiday Market, 3-7 p.m., Mess Hall, Tower Park, 801 Cochran Ave., Fort Thomas. Artists, crafters and more. Runs Wednesdays Nov. 30-Dec. 14.', '', 'THEATER OPENING: The Dancing Princesses, Ensemble Theatre, 1127 Vine St., Over-the-Rhine. This family-friendly musical is suitable for all ages. Special relaxed (sensory-friendly) performances at 7 p.m. Nov. 18-19 and 2 p.m. Nov. 26. Runs Nov. 30-Dec. 30. ensemblecincinnati.org.', '', 'Thursday, Dec. 1', '', 'COMEDY: Mike Cronin, Go Bananas Comedy Club, 8410 Market Place Lane, Montgomery. Runs Dec. 1-4. gobananascomedy.com.', '', 'DANCE: Hip Hop Nutcracker, Taft Theatre. Touring production features hip-hop pioneer Kurtis Blow. tafttheatre.org.', '', 'EXPO: After Hours Bridal Show, 6-9:30 p.m., Fitton Center for Creative Arts, 101 S. Monument Ave., Hamilton. Free, but registration required. Eventbrite.com.', '', 'FILM: Dinosaurs of Antarctica, Cincinnati Museum Center, 1301 Western Ave., Queensgate. Dinosaurs have never been cooler. See these prehistoric beasts in action in this new Omnimax film. Runs Oct. 14-Jan. 15. $9.50, $7.50 ages 3-12. cincymuseum.org.', '', 'HOLIDAY OPENING: Light in the Forest, 5:30-9 p.m., Rowe Woods, Cincinnati Nature Center, 4949 Tealtown Road, Milford. Runs Dec. 1-Jan. 1. Closed Dec. 24-25. $12, $7 ages 3-17. cincynature.org.', '', 'HOLIDAY: Holiday Junction, Cincinnati Museum Center, 1301 Western Ave., Queensgate. Cincinnati’s beloved holiday tradition, the Duke Energy Holiday Trains, returns to the Museum Center. Santa awaits at the Public Landing just outside of Holiday Junction. $10, or $5 with the purchase of any other museum experience. Cincymuseum.org.', '', 'HOLIDAY: Christkindlmarkt, 4-10 p.m. Thursday, 4-11 p.m. Friday, 11 a.m.-11 p.m. Saturday, 11 a.m.-7 p.m. Sunday, Schmidlapp Lawn adjacent to Moerlein Lager House, 115 Joe Nuxhall Way, Downtown. cincinnatichristkindlmarkt.com.', '', 'MUSEUM: Dinosaurs of Antarctica, Cincinnati Museum Center, 1301 Western Ave., Queensgate. Dinosaurs have never been cooler. This new exhibition uncovers never-before-seen dinosaur fossils buried beneath the snow and ice and dials back the hands of time to 200 million years ago, when Antarctica was a lush woodland teeming with prehistoric beasts. Runs Oct. 14-Jan. 15. Included with museum admission. $16.50, $12.50 ages 3-12. cincymuseum.org.', '', 'MUSIC: Island Christmas Holiday, 7 p.m., The Redmoor, 3187 Linwood Ave., Mount Lookout. \"White Christmas\" meets Bob Marley in this fun soca party sing-along with original Christmas songs. theredmoor.com.', '', 'SHOPPING: Fair Trade Marketplace, 4-9 p.m. Thursday-Friday, 10 a.m.-4 p.m. Saturday, Agner Hall, Dearborn County Fairgrounds, 351 E. Eads Parkway, Lawrenceburg. Free admission. facebook.com/InternationalFairTrade.', '', 'THEATER OPENING: A Christmas Carol, Covedale Center for the Performing Arts, 4990 Glenway Ave., West Price Hill. Musical version of the classic Charles Dickens tale. Runs Dec. 1-23. $31, $28 seniors and students. 513-241-6550. cincinnatilandmarkproductions.com.', '', 'THEATER OPENING: Next to Normal, Footlighters at Stained Glass Theater, 802 York St., Newport. This play is an unflinching look at a suburban family struggling with the effects of mental illness. Runs Dec. 1-18. footlighters.org.', '', 'THEATER: The Nutcracker, Thursday-Sunday, School for Creative and Performing Arts, 108 W. Central Parkway, Over-the-Rhine. Presented by SCPA Dance Dept. Runs Dec. 1-4. scpa.cps-k12.org.', '', 'THEATER ENDING: Little Women, Cincinnati Shakespeare Company, 1195 Elm St., Over-the-Rhine. Runs Nov. 11-Dec. 3. cincyshakes.com.', '', 'Friday, Dec. 2', '', 'ART: Holiday ArtWalk, 6-10 p.m. Friday-Saturday, Essex Studios, 2511 Essex Place, Walnut Hills. More than 100 artists open their studios to the public. Guest artists display work in hallways. Live music, food truck, special poetry reading by Saad Ghosn. Free admission and parking. 513-476-2170; essexstudioscincinnati.com/artwalk.', '', 'ART/CHARITY: Panorama of Cincinnati Art XXXVII, 5-8 p.m., Cincinnati Art Galleries, 225 E. Sixth St., Downtown. Benefits Cincinnati Art Club Art Restoration Fund. $100 per person. Exhibition opens to public on Dec. 3 and runs through Dec. 31.', '', 'CHARITY: Friends Holiday Fete, 5-8 p.m., Krohn Conservatory, 1501 Eden Park Drive, Mount Adams. Tour A Celestial Holiday exhibit, enjoy dinner by the bite, open bar and more. Benefits Friends of Music Hall. $100.', '', 'COMEDY: Godfrey, Funny Bone Comedy Club, 7518 Bales St., Liberty Township. Runs Dec. 2-4. liberty.funnybone.com.', '', 'COMEDY: Michael Turner, 7:30 p.m. Friday-Saturday, MOTR Pub Basement, 1345 Main St., Over-the-Rhine. Ages 21-up. $25 per night. Motrpub.com.', '', 'DANCE: Mutual Dance Theatre: Rojo and Nightcap, 7:30 p.m., Friday-Saturday, Mutual Arts Center, 8222 Monon Ave., Hartwell. Runs Dec. 2-10. $25. Cincinnatiarts.org.', '', 'FESTIVAL: RedsFest, 3-10:30 p.m. Friday, 11 a.m.-6:30 p.m. Saturday, Duke Energy Convention Center, 525 Elm St., Downtown. $25 single day, $20 ages 12-under both days, $15 ages 12-under single day. reds.com.', '', 'FESTIVAL: Dark Charge Winter Block Party, Friday-Saturday, Braxton Brewing Co., 25 W. Seventh St., Covington. Limited edition beer releases, live music and more. VIP $175 both days, $90 single day. darkchargeday.com.', '', 'HOLIDAY: Cirque Dreams Holidaze, 7:30 p.m. Friday, 11 a.m., 3 and 7:30 p.m. Saturday, 1 p.m. Sunday, Aronoff Center for the Arts, 650 Walnut St., Downtown. Broadway-style production with an infusion of contemporary circus arts. Runs Dec. 2-4. Cincinnatiarts.org.', '', 'HOLIDAY: The Christmas Casino, Rising Star Casino Resort, 777 Rising Star Drive, Rising Sun. Runs through Jan.2. thechristmascasino.com.', '', \"HOLIDAY: Reading Holiday Walk, 6:30-9 p.m., Reading Bridal District, Reading Road and Benson St., Reading. Stroll along the street and enjoy decorated storefronts, photos with Santa, s'more station, scavenger hunt, carolers, face painting and more.\", '', 'HOLIDAY: Christkindlmarkt, 5-9 p.m. Friday, 11 a.m.-9 p.m. Saturday, Butler County Fairgrounds, 1715 Fairgrove Ave., Hamilton. Santa visits Saturday from 2-4 p.m. and there’s a kinderfest area for kids. $1 admission, free ages 12-under. Free parking.', '', 'HOLIDAY: Pickers and Grinners Christmas Market, 4-9 p.m., Second St., Maysville. Coincides with Twilight Christmas Parade. Market features live music, handmade arts and crafts, baked goods and food vendors. Parade starts at 6:30 p.m.', '', 'HOLIDAY: Yuletide Village, 5-10 p.m. Friday, 3-10 p.m. Saturday, Renaissance Park, Harveysburg. Runs Nov. 25-Dec. 17. yuletidevillage.com.', '', 'MUSIC: Cincinnati Symphony Orchestra: Gershwin & The Planets, 7:30 p.m. Friday-Saturday, Music Hall, 1241 Elm St., Over-the-Rhine. cincinnatisymphony.org.', '', 'MUSIC: Chris Comer Trio, 9 p.m., Hearth Lounge, 125 W. Fourth St., Downtown.', '', 'MUSIC: Ryan Adams, Andrew J. Brady Music Center.', '', 'MUSIC: Granger Smith, MegaCorp Pavilion. Featuring Earl Dibbles Jr.', '', 'MUSIC: Ruben Studdard sings Luther, Ludlow Garage.', '', 'MUSIC: The Steel Woods, Madison Live.', '', 'SHOPPING: Mustard Seed Market, 11 a.m.-7 p.m., Clermont County Fairgrounds, 1000 Locust St., Owensville. $10.', '', 'SPORTS: Cyclones vs Walleye, 7:30 p.m., Heritage Bank Center, 100 Broadway, Downtown. Superman Night. cycloneshockey.com.', '', 'SPORTS: Holiday Havoc, 8 p.m., 20th Century Theater, 3021 Madison Road, Oakley. Cincinnati wrestling championship featuring KC Navarro vs Cody Hall, Jake Crist vs Savion, Infared vs GKFam, and 4-way elimination tables match. $15, $10 advance. the20thcenturytheater.com.', '', 'THEATER OPENING: Sanders Family Christmas, The Drama Workshop, 3716 Glenmore Ave., Cheviot. Heartwarming sequel to the bluegrass gospel musical Smoke on the Mountain. Enjoy hilarious and touching stories and songs. Runs Dec. 2-18. 513-598-8303; thedramaworkshop.org.', '', 'THEATER OPENING: C.S. Lewis on Stage: Further Up & Further In, Friday-Sunday, Aronoff Center for the Arts. When C.S. Lewis came to faith in 1931, it wasn’t obvious he would become the most influential Christian writer of the 20th century. How did that happen? This theatrical event, starring award-winning actor Max McLean, tells the story. Runs Dec. 2-4. cincinnatiarts.org.', '', 'THEATER OPENING: Peter & the Starcatcher, Northern Kentucky University School of the Arts, Highland Heights. Runs Dec. 2-11. nku.edu.', '', 'Saturday, Dec. 3', '', 'ART: Panorama of Cincinnati Art XXXVII, 10 a.m.-4 p.m., Cincinnati Art Galleries, 225 E. Sixth St., Downtown. Runs Dec. 3-31. Cincyart.com.', '', 'ART: Open House Warming, noon-4 p.m., Manifest Drawing Center, 3464 Central Parkway, Clifton. Free.', '', \"COMEDY: Helltown Comedy Showcase, 7:30 p.m., The Comet, 4579 Hamilton Ave., Northside. Weekly showcase of local and professional comedians. This week's headliner: Dan Alten. Free. bombsawaycomedy.com.\", '', 'CRAFT SHOW: Campbell County Band Boosters Craft & Vendor Show, 9 a.m.-2 p.m., Campbell County High School, 909 Camel Crossing, Alexandria. facebook.com.', '', 'CRAFT SHOW: Batavia Holiday Maker’s Market, 11 a.m.-4 p.m., Nakama Studio, 600 Kilgore Ave., Batavia. Variety of local businesses visit. Food trucks, kid crafts and activities and more. $3 admission. Nakamastudio.org/marketinfo.', '', 'CRAFT SHOW: Little Britain Art Fair, 10 a.m.-7 p.m. Saturday, 10 a.m.-4 p.m. Sunday, Little Britain Carriage House, 5307 Idlewild Road, Burlington. Indoor art fair includes painting, photography, pottery, jewelry and more. Light refreshments for sale in cafe.', '', 'CRAFT SHOW: Ohio Holiday Market, 11 a.m.-4 p.m., Clifton Community Center, 320 McAlpin Ave., Clifton. Shopping, music, door prizes. Ugly sweater contest at 2 p.m. Meet Santa 1-3 p.m. ohioholidaymarket.eventbrite.com.', '', \"CRAFT SHOW: Holiday Pottery Fair, 10 a.m.-3 p.m., Clifton Recreation Center, 320 McAlpin Ave., Clifton. Handmade pottery from local artists. Marty's Waffle Truck visits.\", '', 'CRAFT SHOW: Small Business Holiday Shopping Fair, 10 a.m.-3 p.m., Willow Event Center, 7881 Colerain Ave., Colerain Township. Shop dozens of small businesses with unique gifts.', '', 'CRAFT SHOW: Market Bleu Winter Quarter Show, 6-10 p.m., Contemporary Arts Center, 44 E. Sixth St., Downtown Artisans and artists showcase and sell products. Free admission.', '', \"CRAFT SHOW: Showcase of Arts, 10 a.m.-5 p.m. Saturday, noon-4 p.m. Sunday, The Barn at Woman's Art Club of Cincinnati, 6980 Cambridge Ave., Mariemont. Features knits and woven items, jewelry, pottery, paintings, baked goods, soaps, woodwork, glass and more by local artisans. Fresh wreaths, food truck. Free admission.\", '', 'CRAFT SHOW: Holiday Beers & Cheers Market, 11 a.m.-2 p.m., Sonder Brewing, 8584 Duke Blvd., Mason. Shopping and experience stations. Free admission. Eventbrite.com.', '', 'CRAFT SHOW: Winter Market, 11 a.m.-5 p.m. Saturday-Sunday, Washington Park, 1230 Elm St., Over-the-Rhine. Runs weekends Nov. 25-Dec. 18.', '', 'CRAFT SHOW: St. John Christmas Craft Fair, 9 a.m.-3 p.m., St. John the Evangelist Catholic Church, 9080 Cincinnati Dayton Road, West Chester. Shop 100 unique crafters in three buildings. Lunch is available, as well as a bakery booth and raffle.', '', 'CRAFT SHOW: Cookie Sale, 9 a.m.-1 p.m., St. Joseph, 25 E. Harrison Ave., North Bend. Ladies Society of St. Joseph Church host sale in hospitality room in lower level of church. Handmade ornaments and craft items. Homemade cookies and candy. $8 per pound. Free parking and admission.', '', 'CRAFT SHOW: Blue Ash Holiday Craft Show, 10 a.m.-3 p.m., Blue Ash Recreation Center, 4433 Cooper Road, Blue Ash.', '', 'HOLIDAY: Frontier Christmas, 10 a.m.-4 p.m., Old Washington Historic District, Maysville. Handmade arts and craft vendors line the streets of Old Washington, and local shops and museums will be open with holiday activities for all ages.', '', 'HOLIDAY: Victorian Christmas Home Tour & Tea, 1-7 p.m. Saturday-Sunday, Historic East Row Neighborhood, Newport. Visit 8 distinct homes decorated for the holidays. See inside newly renovated homes, including one still under renovation, and enjoy outdoor lighting displays. Tea service seatings are all sold out. Runs Dec. 3-4. $25, $20 advance. eastrow.org.', '', 'HOLIDAY: Lebanon Horse-Drawn Carriage Parade and Festival, 10 a.m.-8 p.m., Historic Downtown Lebanon. Parade hours are 1 and 7 p.m., Santa hours are 10:30 a.m.-noon and 4-6 p.m. lebanonchamber.org.', '', \"HOLIDAY: Santa's 5K Fun Run, 1 p.m., Independence Fire Station, Delaware Crossing, Independence. Participants receive a race T-shirt, mask and Santa hat. Prizes. Part of Independence Christmas Walk. $25. runsignup.com.\", '', 'HOLIDAY: Independence Christmas Walk, 1-9 p.m., Independence. Santa visits from 1-3 p.m. at the Kenton County Courthouse. From 4-9 p.m. a craft fair is at the courthouse. Tree lighting takes place at 5:15 p.m. on courthouse lawn, followed by lighted Christmas parade and old fashioned walk from Independence Christian Church to the Independence Senior and Community Center. Free. 41051.com.', '', 'HOLIDAY: Family Day: Holiday Fun, 10:30 a.m.-2:30 p.m., American Sign Museum, 1330 Monmouth St., Camp Washington. Create your own wrapping paper, see puppet show, meet Santa, live music and more. Included with museum admission.', '', 'HOLIDAY; Christmas at the Homestead, 1-5 p.m. Saturday-Sunday, Christian Waldschmidt Homestead Museum, 7567 Glendale Milford Road, Camp Dennison. Sponsored by the Ohio Society Daughters of the American Revolution.', '', 'HOLIDAY: Christmas Tree Lighting Festival, 4-8 p.m., 116 N. Karl Brown Way, Loveland. Ring in the holiday season with family activities, holiday market, live entertainment and holiday treats. Free.', '', 'MUSIC: Trampled by Turtles, Andrew J. Brady Music Center.', '', 'MUSIC: Hyryder, Riverfront Live.', '', \"MUSIC: Cincinnati Men's Chorus: Family, 8 p.m. Saturday, 2 p.m. Sunday, Memorial Hall. Collecting personal care and clothing items for Lighthouse Youth Services. $25, $20 advance. memorialhallotr.com.\", '', 'MUSIC: Cat Country 94.1 presents 2022 Homegrown Concert, Madison Theater. With Derek Alan Band, Ryan Alfred.', '', 'RECREATION: Ugly Sweater Bar Crawl, 2-9 p.m., On the Rhine Eatery, 100 E. Court St., Downtown. Start at On the Rhine and visit six other OTR bars. $15-$21. Eventbrite.com.', '', 'THEATER ENDING: Betrayal, Falcon Theatre, 636 Monmouth St., Newport. Runs Nov. 18-Dec. 3. $28, $15 students with valid ID. Falcontheater.net.', '', 'Sunday, Dec. 4', '', 'CHARITY: Sip & Slay Drag Brunch, 10:30 a.m.-1 p.m., Northern Row Brewery, 111 W. McMicken Ave., Over-the-Rhine. Benefits Living With Change. $65-up. Eventbrire.com.', '', 'CRAFT SHOW: Chanukah Bazaar, 10 a.m.-2 p.m., Adath Israel Synagogue, 3201 E. Galbraith Road, Amberley Village. Shop local artists and food vendors for your Chanukah needs.', '', 'CRAFT SHOW: Ultimate Holiday Craft Expo, 10 a.m.-4 p.m., Hilton Cincinnati Airport, 7373 Turfway Road, Florence. Free parking and admission.', '', 'CRAFT SHOW: Ludlow Flea & Craft Fair, 11 a.m., Bircus Brewing Co., 322 Elm St., Ludlow.', '', 'CRAFT SHOW: Holiday Market, 3-7 p.m., The Redmoor, 3187 Linwood Ave., Mount Lookout.', '', 'HOLIDAY: Lunch with Santa, 11:30 a.m.-2 p.m., The Grove Event Center, 9158 Winton Road, Springfield Township. $18 per child ages 2-up, $8 adults.', '', 'HOLIDAY: Cincinnati Civic Orchestra Holiday Concert, 4-6 p.m., The Grove Event Center, 9158 Winton Road, Springfield Township. Free.', '', 'HOLIDAY: An Elegant Victorian Family Christmas, 3-7 p.m., Promont House, 906 Main St., Milford. milfordhistory.net.', '', 'HOLIDAY: German Village Christmas Walk, noon-5 p.m., German Village, N. Second St., Hamilton. Enjoy holiday decorations, horse-drawn carriage rides, tour historic homes and businesses, live music, crafters and visit from Santa. Free. Gettothebc.com.', '', 'MUSIC: Foxing, Madison Live. With Shinra Knives.', '', 'MUSIC: Westwood First Concert Series, 2:30 p.m., Westwood First Presbyterian Church, 3011 Harrison Ave., Westwood. Dec. 4: James Bunte Trio with Emily Jordan. Free, 513-661-6846. Ext. 101. Wfpc.org.', '', 'MUSIC: Westwood Community Band: It’s the Holiday Season, 2 p.m., Mount St. Joseph University Auditorium, 5701 Delhi Road, Delhi Township. Benefits Nate’s Toy Box. Free. Bring new, unwrapped toy. 513-328-4853; westwoodcommunityband.org.', '', 'RECREATION: Pregame Festivities, 1-4:30 p.m., The Banks, E. Freedom Way, Downtown.', '', 'SPORTS: Cincinnati Bengals vs Kansas City Chiefs, Paycor Stadium.', '', 'THEATER ENDING: The Lion, Warsaw Federal Incline Theater, 801 Matson Place, East Price Hill. Runs Nov. 12-Dec. 4. 513-421-3888; cincyplay.com.', '', 'Have an event you’d like us to know about? Send all the details to calendar@cincinnati.com with “Things To Do” in the subject line.']\n"
          ]
        },
        {
          "output_type": "stream",
          "name": "stderr",
          "text": [
            "Some weights of the model checkpoint at yiyanghkust/finbert-pretrain were not used when initializing BertForMaskedLM: ['cls.seq_relationship.bias', 'cls.seq_relationship.weight']\n",
            "- This IS expected if you are initializing BertForMaskedLM from the checkpoint of a model trained on another task or with another architecture (e.g. initializing a BertForSequenceClassification model from a BertForPreTraining model).\n",
            "- This IS NOT expected if you are initializing BertForMaskedLM from the checkpoint of a model that you expect to be exactly identical (initializing a BertForSequenceClassification model from a BertForSequenceClassification model).\n",
            "Some weights of the model checkpoint at bert-base-uncased were not used when initializing BertModel: ['cls.predictions.transform.LayerNorm.bias', 'cls.predictions.transform.dense.weight', 'cls.predictions.transform.LayerNorm.weight', 'cls.predictions.decoder.weight', 'cls.seq_relationship.weight', 'cls.predictions.bias', 'cls.predictions.transform.dense.bias', 'cls.seq_relationship.bias']\n",
            "- This IS expected if you are initializing BertModel from the checkpoint of a model trained on another task or with another architecture (e.g. initializing a BertForSequenceClassification model from a BertForPreTraining model).\n",
            "- This IS NOT expected if you are initializing BertModel from the checkpoint of a model that you expect to be exactly identical (initializing a BertForSequenceClassification model from a BertForSequenceClassification model).\n"
          ]
        },
        {
          "output_type": "stream",
          "name": "stdout",
          "text": [
            "['A combination of one of the lowest labour costs and a large surplus workforce that is likely to continue growing till FY31, is one of the key competitive edges that India is leveraging to challenge its rivals in South East Asia in the race for a China-plus-one strategy.']\n"
          ]
        },
        {
          "output_type": "stream",
          "name": "stderr",
          "text": [
            "Some weights of the model checkpoint at yiyanghkust/finbert-pretrain were not used when initializing BertForMaskedLM: ['cls.seq_relationship.bias', 'cls.seq_relationship.weight']\n",
            "- This IS expected if you are initializing BertForMaskedLM from the checkpoint of a model trained on another task or with another architecture (e.g. initializing a BertForSequenceClassification model from a BertForPreTraining model).\n",
            "- This IS NOT expected if you are initializing BertForMaskedLM from the checkpoint of a model that you expect to be exactly identical (initializing a BertForSequenceClassification model from a BertForSequenceClassification model).\n",
            "Some weights of the model checkpoint at bert-base-uncased were not used when initializing BertModel: ['cls.predictions.transform.LayerNorm.bias', 'cls.predictions.transform.dense.weight', 'cls.predictions.transform.LayerNorm.weight', 'cls.predictions.decoder.weight', 'cls.seq_relationship.weight', 'cls.predictions.bias', 'cls.predictions.transform.dense.bias', 'cls.seq_relationship.bias']\n",
            "- This IS expected if you are initializing BertModel from the checkpoint of a model trained on another task or with another architecture (e.g. initializing a BertForSequenceClassification model from a BertForPreTraining model).\n",
            "- This IS NOT expected if you are initializing BertModel from the checkpoint of a model that you expect to be exactly identical (initializing a BertForSequenceClassification model from a BertForSequenceClassification model).\n"
          ]
        },
        {
          "output_type": "stream",
          "name": "stdout",
          "text": [
            "['RIYADH: The aggregate net profit of Saudi Arabia’s top 10 banks increased by 9.3 percent to SR16.5 billion ($4.39 billion) in the third quarter of 2022, compared to the previous three months, as rising interest income boosted their performance, an analysis done by professional services firm Alvarez & Marsal showed.', '', 'Ten of the largest listed banks it analyzed include Saudi National Bank, Al Rajhi Bank, Riyad Bank, Saudi British Bank, Banque Saudi Fransi, Arab National Bank, Alinma Bank, Bank Albilad, Saudi Investment Bank, and Bank Aljazira.', '', 'In its report, ‘Saudi Arabia Banking Pulse for Q3’, Alvarez & Marsel noted that the aggregate net interest income of these 10 banks increased by 15.9 percent in the third quarter that ended in September.', '', 'This comes as Saudi Arabia’s central bank, known as SAMA, raised its repo and reverse repo rates by 150 basis points quarter-on-quarter in the third quarter, to 3.75 percent and 3.25 percent respectively.', '', 'This was in line with the US Federal Reserve’s move to tame surging inflation and maintain price stability.', '', 'On Nov. 3, SAMA increased its Repo rate once again by 75 bps to 4.50 percent while also increasing the Reverse Repo rate to 4 percent, following the US Federal Reserve’s decision to raise rates by 75 basis points to curb inflation.', '', '“We expect SAMA to continue matching policy rate hikes by the US Federal Reserve, which will help boost the overall banking sectors’ NIMs (net interest margin),” said Asad Ahmed, managing director and head of Middle East financial services at Alvarez & Marsal.', '', 'He added: “Overall, rising interest rates, improvement in asset quality and strong economic rebound are positives for the banking sector in Saudi Arabia.', '', '\"The profitability growth is expected to continue for KSA banks as the interest rate outlook remains in an upward trajectory.”', '', 'The analysis showed that aggregate loans and advances at the end of the third quarter grew 2.9 percent from the previous quarter, continuing to outpace the 0.02 percent growth in deposits quarter on quarter.', '', 'According to the report, the operating income increased by 4.9 percent quarter-on-quarter, primarily driven by growth in total interest income mainly due to higher interest rates.', '', 'The report further noted that the loan-to-deposit ratio in these banks continued to increase for the seventh consecutive quarter by 2.6 percent, to settle at 96.2 percent in the July to September period.', '', 'Saudi National Bank topped the list of banks in terms of assets, as it holds assets worth SR964.4 billion as of the third quarter of 2022.', '', 'It was followed by Al Rajhi and Riyad Bank with assets worth SR740.6 billion and SR347.9 billion respectively, the report added.', '', 'Earlier this month, another report by Kamco Invest revealed that Al Rajhi Bank recorded a profit of $1.2 billion in the third quarter, supported by higher net financing and investment income, fees from banking services, and exchange income.', '', 'The Kamco Invest report further noted that Saudi National Bank reported a 24.6 percent increase in the net profit to $1.3 billion, driven by a 16.1 percent drop in operating expenses due to a lower net impairment charge for credit losses.']\n"
          ]
        },
        {
          "output_type": "stream",
          "name": "stderr",
          "text": [
            "Some weights of the model checkpoint at yiyanghkust/finbert-pretrain were not used when initializing BertForMaskedLM: ['cls.seq_relationship.bias', 'cls.seq_relationship.weight']\n",
            "- This IS expected if you are initializing BertForMaskedLM from the checkpoint of a model trained on another task or with another architecture (e.g. initializing a BertForSequenceClassification model from a BertForPreTraining model).\n",
            "- This IS NOT expected if you are initializing BertForMaskedLM from the checkpoint of a model that you expect to be exactly identical (initializing a BertForSequenceClassification model from a BertForSequenceClassification model).\n",
            "Some weights of the model checkpoint at bert-base-uncased were not used when initializing BertModel: ['cls.predictions.transform.LayerNorm.bias', 'cls.predictions.transform.dense.weight', 'cls.predictions.transform.LayerNorm.weight', 'cls.predictions.decoder.weight', 'cls.seq_relationship.weight', 'cls.predictions.bias', 'cls.predictions.transform.dense.bias', 'cls.seq_relationship.bias']\n",
            "- This IS expected if you are initializing BertModel from the checkpoint of a model trained on another task or with another architecture (e.g. initializing a BertForSequenceClassification model from a BertForPreTraining model).\n",
            "- This IS NOT expected if you are initializing BertModel from the checkpoint of a model that you expect to be exactly identical (initializing a BertForSequenceClassification model from a BertForSequenceClassification model).\n"
          ]
        },
        {
          "output_type": "stream",
          "name": "stdout",
          "text": [
            "['By Nadia Lopez, CalMatters', '', 'The California Air Resources Board unveiled a new version of its highly anticipated strategy for battling climate change on Nov. 16, setting more ambitious targets for cutting greenhouse gases and scaling up controversial projects that capture carbon.', '', 'If adopted by the air board at its Dec. 15 meeting, the plan would radically reshape California’s economy, alter how Californians’ vehicles, buildings and appliances are powered, and ultimately serve as a blueprint for other states and countries to follow.', '', '“Failure is not an option,” said air board Chair Liane Randolph. “There is too much at stake and we need to move as fast and as far as we can to lessen the worst impacts of climate change and leave future generations a livable and healthy California.”', '', 'The five-year climate change strategy, called a scoping plan, outlines in its 297 pages how California could end its reliance on oil and also clean up the nation’s worst air pollution.', '', 'The staff’s final draft plan adds bolder commitments, reducing oil use by 94% from 2022 levels by 2045 — up from a goal of 91% in the September version of the plan.', '', 'The plan also sets a more aggressive goal of cutting carbon emissions 48% below 1990 levels by 2030 — up from the 40% by 2030 required under state law. Net-zero emissions would be achieved in 2045. (Net-zero or carbon neutrality means striking a balance between the carbon dioxide added to the air and the carbon that’s removed.)', '', 'California has a long way to go to meet the new 48% goal in just eight years. By 2020 it had cut emissions only about 14% below 1990 levels, according to air board officials.', '', 'Danny Cullenward, a climate economist who serves on a committee advising the state about its system for trading greenhouse gas credits, said California isn’t on track to meet its existing 2030 reduction target, much less the new, more stringent goal.', '', '“I don’t want to say California isn’t doing anything on climate. We’ve done a lot of things,” said Cullenward, who serves on the Independent Emissions Market Advisory Committee. “But this is such a superficial exercise and it’s filled with so many faults and errors.”', '', 'Air board officials, however, said they are confident that the state can achieve the new target, largely with mandates and policies enacted this year. State officials phased out sales of new gas-powered cars by 2035, set a more stringent low-carbon fuel standard and streamlined siting and permitting of renewable energy projects.', '', '“This plan is a comprehensive roadmap to achieve a pollution-free future,” Gov. Gavin Newsom said in a statement. “It’s the most ambitious set of climate goals of any jurisdiction in the world, and, if adopted, it’ll spur an economic transformation akin to the industrial revolution.”', '', 'But Cullenward criticized the staff’s modeling, which is used to predict how each sector of the economy will reduce emissions. He said the plan lacks a thorough analysis of the feasibility of its projections and makes major assumptions.', '', 'One example, he said, is that the plan relies on other agencies, such as the California Energy Commission, setting new policies, but it doesn’t address the timing and roadblocks they may face or other details.', '', '“It’s a pretty aspirational document but it’s filled with bureaucratic doublespeak,” he said. “It’s really frustrating because there’s so much work to be done.”', '', 'Some policy experts say setting ambitious goals is a crucial step toward cleaning up air pollution and combating climate change.', '', '“The scoping plan can at least help us direct our attention even if it doesn’t give us as much detail as we want,” said Dave Weiskopf, senior policy advisor with NextGen Policy, a progressive advocacy group. “On the one hand, that is really frustrating. On the other hand, it tells us that if we put in the effort to say what we think a good plan should look like, we at least have a shot of getting the state to take meaningful action.”', '', 'The new plan relies more than the original versions on two controversial, advanced technologies for eliminating planet-warming carbon dioxide. Combined, 15% — increased from 5% — of all of the state’s targeted greenhouse gas cuts will come from carbon removal and carbon capture and storage.', '', 'One strategy removes carbon from the atmosphere, such as replanting trees or storing it in soils. Another, called carbon capture and storage, collects carbon spewed from industry smokestacks and injects it into the ground.', '', 'California currently has no carbon removal or capture and storage projects, and air board officials say they wouldn’t be deployed until 2028. The state’s scenario predicts that carbon-capture technology will be installed on most of California’s 17 oil refineries by 2030 and on all cement, clay, glass, and stone facilities by 2045.', '', 'Environmental groups oppose both technologies, saying they extend the lives of fossil fuels, while oil companies say they are necessary to achieve the state’s long-term climate goals. The debate pits those who want to mandate an end to fossil fuels against those who want an approach that relies somewhat on technology to clean up carbon.', '', 'Globally, 27 carbon capture and storage projects are operating so far.', '', 'Oil industry officials declined to comment on the plan Wednesday.', '', 'Achieving the plan’s targets would cost $18 billion in 2035 and $27 billion in 2045, according to air board estimates. The move to decarbonize and transition away from fossil fuels will also drastically increase electricity use, which is expected to soar by as much as 68% in 2045.', '', 'At Newsom’s direction, the air board in September already strengthened its draft plan, originally released last May, to include new goals for offshore wind, cleaner aviation fuels and reducing vehicle miles traveled.', '', 'Other changes include constructing 3 million climate-friendly homes by 2030 and 7 million by 2035, installing at least 6 million heat pumps by 2030, and eliminating the option of building new natural gas plants or using fossil fuels in the electricity sector to maintain grid reliability.', '', 'Eliminating 100 million tons of carbon', '', 'Under a new law that Newsom prioritized in his climate package at the end of this year’s legislative session, the air board was directed to create a new program that puts guardrails on carbon capture, use and storage projects while streamlining the permitting process.', '', 'These technologies aim to remove or capture and store at least 20 million metric tons of carbon by 2030 and 100 million metric tons by 2045, according to the plan.', '', 'Once captured from smokestacks, the carbon could be transported to sites in the Central Valley. Air board staff say the valley is an ideal location for injecting carbon dioxide deep into rock formations because it has the capacity to store at least 17 billion tons.', '', 'Though controversial, air board staff say the technologies are a “necessary tool” to reduce emissions from industrial sectors, such as the cement industry, where no other alternatives may exist.', '', '“We’ve squeezed out all of the emissions that we can under the inventory for manufacturing for transportation and for industry, but we know residual emissions will remain,” said Rajinder Sahota, the board’s deputy executive officer for climate change and research. “We’re going to need all the tools in all of these categories.”', '', 'But at an Oct. 28 workshop, members of the state’s Environmental Justice Advisory Committee raised several concerns about engineered carbon removal, saying it is an unproven strategy that could continue to plague local communities with air pollution. They also say it would delay closure of oil facilities and act as a substitute for direct emissions reductions.', '', '“The Air Resources Board’s latest climate plan once again pins California’s future on a dangerous carbon capture pipe dream,” said Jason Pfeifle, a senior climate campaigner at the Center for Biological Diversity. “Caving to polluters who want to keep burning fossil fuels and dirty biomass energy is a one-way ticket to climate destruction. California needs a plan that rejects industry scams, preserves our ecosystems, and rapidly phases out fossil fuels.”', '', 'Air board staff acknowledged these concerns, but Randolph, the board’s chair, said many of the greenhouse gas targets could not be achieved without them. She said the board has prioritized creating a metric to measure how residents could be affected by these projects and also consider the needs of people who are most affected by air pollution.', '', 'Randolph said the plan’s heavy emphasis on cutting emissions from transportation will also significantly improve air quality in vulnerable communities. Cutting vehicle miles traveled and improving access to mass transit, designing more pedestrian-friendly neighborhoods and increasing access to electric bikes and vehicles all play a role.', '', 'The board expects the state’s landmark cap and trade program — which allows big polluters to buy credits to offset their greenhouse gas emissions — to play a much smaller role over time.', '', 'In the 2017 version of their scoping plan, air board officials estimated about 38% of emissions reductions would come from cap and trade. Instead, it now would help “fill the gap” to meet the accelerated 2030 emissions target.', '', 'Cap and trade has been heavily criticized by legislators and experts in recent years. One criticism is that there are at least 310 million unused credits currently in the system, which is a problem because companies hoard credits that allow them to keep polluting past state limits in later years. Air board officials say they hope to reform the program and address the oversupply of credits at the end of next year.']\n"
          ]
        },
        {
          "output_type": "stream",
          "name": "stderr",
          "text": [
            "Some weights of the model checkpoint at yiyanghkust/finbert-pretrain were not used when initializing BertForMaskedLM: ['cls.seq_relationship.bias', 'cls.seq_relationship.weight']\n",
            "- This IS expected if you are initializing BertForMaskedLM from the checkpoint of a model trained on another task or with another architecture (e.g. initializing a BertForSequenceClassification model from a BertForPreTraining model).\n",
            "- This IS NOT expected if you are initializing BertForMaskedLM from the checkpoint of a model that you expect to be exactly identical (initializing a BertForSequenceClassification model from a BertForSequenceClassification model).\n",
            "Some weights of the model checkpoint at bert-base-uncased were not used when initializing BertModel: ['cls.predictions.transform.LayerNorm.bias', 'cls.predictions.transform.dense.weight', 'cls.predictions.transform.LayerNorm.weight', 'cls.predictions.decoder.weight', 'cls.seq_relationship.weight', 'cls.predictions.bias', 'cls.predictions.transform.dense.bias', 'cls.seq_relationship.bias']\n",
            "- This IS expected if you are initializing BertModel from the checkpoint of a model trained on another task or with another architecture (e.g. initializing a BertForSequenceClassification model from a BertForPreTraining model).\n",
            "- This IS NOT expected if you are initializing BertModel from the checkpoint of a model that you expect to be exactly identical (initializing a BertForSequenceClassification model from a BertForSequenceClassification model).\n"
          ]
        },
        {
          "output_type": "stream",
          "name": "stdout",
          "text": [
            "['(Bloomberg) -- The latest reading of the US labor market on Friday is expected to show job growth on more of the downward glide path sought by Federal Reserve policy makers in their fight to beat back inflation.', '', 'Most Read from Bloomberg', '', 'Payrolls are projected to have risen about 200,000 in November, a second month of decelerating gains. Such growth, while moderating, is nonetheless consistent with solid hiring that will extend the Fed’s rate-hiking campaign into 2023. The report will be the last of its kind before the central bank’s final policy meeting of the year.', '', 'Job openings data on Wednesday are seen illustrating a still-healthy appetite for labor.', '', 'Later that day, at a Brookings Institution event, Fed Chair Jerome Powell will offer his assessment of the economy as investors seek clues about the peak in the benchmark interest rate.', '', 'Read more: Most Fed Officials Seek to Slow Pace of Rate Hikes Soon', '', 'The jobs report is also forecast to show moderating average hourly earnings growth. The Bloomberg survey median calls for a 4.6% annual increase, which would be the smallest since August 2021 and a step in the right direction for Fed policymakers. The unemployment rate probably held at 3.7%, just above a five-decade low.', '', 'Among other key US data, the income and spending report on Thursday is forecast to indicate a softening in core inflation for October. While simmering down, the annual pace is still more than twice the central bank’s goal.', '', 'For more, read Bloomberg Economics’ full Week Ahead for the US', '', 'Other reports include a survey of manufacturing purchasing managers, weekly jobless claims, consumer confidence, and the Fed’s Beige Book of regional economic conditions across the country.', '', 'What Bloomberg Economics Says:', '', 'Story continues', '', '“Even though mid- to lower-income households have depleted excess savings built up during the pandemic, household balance sheets are still historically strong in aggregate. Many lower-income households are getting a boost from state and local government stimulus checks. Older Americans are about to get an 8.7% cost-of-living adjustment to their social-security payments. Residual savings from pandemic-era federal stimulus continue to keep household spending resilient.”', '', '--Anna Wong, Andrew Husby and Eliza Winger, economists. For full analysis, click here', '', 'Elsewhere, the euro-zone may reveal another double-digit inflation reading -- the last such report before the European Central Bank’s December rate decision. Australian consumer prices are likely to increase again, and rate hikes are expected from Thailand to southern Africa.', '', 'Click here for what happened last week and below is our wrap of what is coming up in the global economy.', '', 'Asia', '', 'Factory output figures from Japan and South Korea will give an indication of how slower global growth is weighing on production there, while export figures from Korea at the end of the week will offer the latest health check on the state of global demand.', '', 'Japan’s labor market is likely to show continued tightness, though not enough to guarantee the wage gains Bank of Japan Governor Haruhiko Kuroda seeks for sustainable inflation.', '', 'Capital spending data may show Japanese firms are still betting on a post-pandemic recovery rather than a looming recession. The numbers will feed into revised GDP figures the following week.', '', 'Australia’s monthly inflation rate is expected to speed up, though quarterly figures will continue to hold more sway on policy making.', '', 'The Reserve Bank of Australia’s Jonathan Kearns is set to speak on Wednesday, with Governor Philip Lowe giving remarks on Friday.', '', 'China’s PMI reports on Wednesday will be closely watched as the resurgence in Covid cases, and lockdowns to contain the spread, hamper activity yet again.', '', 'Data published Sunday showed profits at industrial firms in China continued to decline in the first 10 months of the year, weighed down by virus restrictions and falling factory-gate prices.', '', 'Almost all economists reckon the Bank of Thailand will raise its key rate by a quarter point, returning the benchmark to the level it had before the pandemic.', '', 'For more, read Bloomberg Economics’ full Week Ahead for Asia', '', 'Europe, Middle East, Africa', '', 'A pivotal week for euro-zone monetary policy will feature both key data and high-profile remarks from ECB officials.', '', 'Most important is the inflation reading for November, due on Wednesday. Multiple officials have pointed to this as a significant input for their final decision of the year, on Dec. 15, both as an indicator of price pressures and as a data point to feed into their economic projections.', '', 'While projected to slow for the first time this year, inflation probably held above 10% for a second month in November, economists say. Their median prediction is for an outcome of 10.4%, down from 10.6% in October.', '', 'Inflation data from the region’s four biggest economies will also be released, with all but Spain predicted to show at least a slight a slowdown.', '', 'ECB President Christine Lagarde testifies in the European Parliament on Monday, and will make an appearance in Thailand later in the week. Chief Economist Philip Lane delivers a speech in Florence on Thursday. A so-called non-monetary policy meeting of the Governing Council takes place Wednesday, the day of the inflation data.', '', 'Inflation figures will also be released in Switzerland. While running less than a third of that in the neighboring euro region, the consumer-price report will take on added significance because it too is the final take before the Swiss National Bank’s rate decision on Dec. 15, the same day as the ECB.', '', 'Swiss inflation probably held at 3% in November, the median of 14 forecasts shows. That would mark the sixth consecutive month where it has been at least a percentage point above the central bank’s 2% ceiling.', '', 'Looking south, Ghana’s rate decision on Monday may be a close call. Inflation at 40% has yet to peak, producer prices are surging, and the cedi has depreciated by almost 28% against the dollar since last month’s 250 basis-point hike. At the same time, business sentiment has slumped.', '', 'Rate setters in Lesotho and Namibia are expected to follow South Africa’s Reserve Bank and raise rates on Tuesday and Wednesday, respectively, to protect their currency pegs. Also on Wednesday, Mozambique’s central bank is set to keep borrowing costs unchanged.', '', 'Policymakers in Botswana will probably do likewise on Thursday for a second straight meeting after a large cut in gasoline prices that may ease pressure on inflation.', '', 'For more, read Bloomberg Economics’ full Week Ahead for EMEA', '', 'Latin America', '', 'October trade results kick off a busy week in Mexico, followed by unemployment, remittances, the year-to-date budget balance, manufacturing, and Banco de Mexico’s quarterly inflation report.', '', 'The resilience of Latin America’s second-biggest economy in the second half of 2022 may see Banxico mark up its full-year output forecast, while the specter of recession in the US pushes the bank to cut its 2023 GDP forecast of 1.6%.', '', 'After posting 11.7% growth in 2021 it’s all gone downhill for Chile: the economy shrank in July-September, will likely do so again in the fourth quarter, and the central bank is forecasting a negative print for 2023. Of the seven October economic indicators posted this week, expect some double-digit tumbles.', '', 'Consumer prices in Peru’s capital of Lima appear to have peaked, but still-surging core inflation may cinch the case for a 17th straight rate hike at the central bank’s Dec. 7 meeting.', '', 'Brazil’s broadest measure of inflation -- the IGP-M index -- is expected to have fallen for a fourth month in November.', '', 'Third-quarter output figures from Brazil released on Thursday may represent a near-term high-water mark for Latin America’s biggest economy, with analysts forecasting a protracted bout of below-trend growth into 2024.', '', 'For more, read Bloomberg Economics’ full Week Ahead for Latin America', '', '--With assistance from Malcolm Scott, Robert Jameson, Sylvia Westall and Monique Vanek.', '', '(Updates with China industrial profits in Asia section)', '', 'Most Read from Bloomberg Businessweek', '', '©2022 Bloomberg L.P.']\n"
          ]
        },
        {
          "output_type": "stream",
          "name": "stderr",
          "text": [
            "Some weights of the model checkpoint at yiyanghkust/finbert-pretrain were not used when initializing BertForMaskedLM: ['cls.seq_relationship.bias', 'cls.seq_relationship.weight']\n",
            "- This IS expected if you are initializing BertForMaskedLM from the checkpoint of a model trained on another task or with another architecture (e.g. initializing a BertForSequenceClassification model from a BertForPreTraining model).\n",
            "- This IS NOT expected if you are initializing BertForMaskedLM from the checkpoint of a model that you expect to be exactly identical (initializing a BertForSequenceClassification model from a BertForSequenceClassification model).\n",
            "Some weights of the model checkpoint at bert-base-uncased were not used when initializing BertModel: ['cls.predictions.transform.LayerNorm.bias', 'cls.predictions.transform.dense.weight', 'cls.predictions.transform.LayerNorm.weight', 'cls.predictions.decoder.weight', 'cls.seq_relationship.weight', 'cls.predictions.bias', 'cls.predictions.transform.dense.bias', 'cls.seq_relationship.bias']\n",
            "- This IS expected if you are initializing BertModel from the checkpoint of a model trained on another task or with another architecture (e.g. initializing a BertForSequenceClassification model from a BertForPreTraining model).\n",
            "- This IS NOT expected if you are initializing BertModel from the checkpoint of a model that you expect to be exactly identical (initializing a BertForSequenceClassification model from a BertForSequenceClassification model).\n"
          ]
        },
        {
          "output_type": "stream",
          "name": "stdout",
          "text": [
            "['\"Check against delivery\"', '', 'Thank you, dear Volodymyr, for convening us on this very important day.', '', 'This meeting falls on the Holodomor memorial day – when 90 years ago, hunger was used as a weapon by the Soviet Union against the Ukrainian people.', '', 'Today, Russia is again using food as a weapon.', '', 'As part of its brutal aggression against Ukraine, Russia has destroyed your agricultural production, targeted your grain silos, and blockaded your ports.', '', 'Thus Russia is depriving of vital access to food the most vulnerable countries in Africa, the Middle East and Asia.', '', 'And then it uses disinformation to blame others for its despicable actions.', '', 'We must continue to fight back against this.', '', 'Your initiative \"Grain from Ukraine\", which has my full support, is crucial to our efforts.', '', 'You are showing unwavering commitment to global food security, international responsibility and solidarity with those most in need.', '', 'And we stand by your side.', '', \"In Bali, G20 leaders called for global solidarity to fight hunger caused by Russia's war of aggression.\", '', 'We will not falter in our responsibilities and will continue to do everything we can on this front.', '', 'The Solidarity Lanes established by the Commission and bordering Member States are a major success.', '', 'Since May, they have enabled the export of more than 17 million tonnes of Ukrainian grain and food products.', '', 'And they are the only option for the export of all other, non-agricultural Ukrainian goods to the rest of the world.', '', \"The Solidarity Lanes have become a lifeline for Ukraine's economy, bringing more than 19 billion euros of much-needed income to Ukrainian farmers and businesses.\", '', 'The European Commission, together with Financial Institutions such as the EIB, the EBRD, and the World Bank, have now mobilised 1 billion euros of additional funding to boost the capacity of these Solidarity Lanes.', '', 'And we welcome the extension of the Black Sea Grain Initiative for 120 days.', '', 'Taken together, the EU Solidarity Lanes and the Black Sea Grain Initiative have allowed the export of more than 28 million tonnes of agricultural products to the world market, especially to the countries most in need.', '', 'It is very important to signal to the world today that we will not let our most vulnerable partners down.', '', 'This is why I am very pleased to announce the support of the European Commission to load two ships with grain.', '', 'We will pay to transport 40,000 tons of grain which is the remainder of the grain that you have made available. Whatever the costs are.', '', \"90 years after the Holodomor, we honour the memory of Ukraine's victims.\", '', 'They died in silence, starving to death, and, at that time, the world did not rise to help them. We will not let this happen again.', '', 'As we come together with Ukraine today to help avert hunger around the world, we also stand with Ukraine as it mourns the innocent victims of the Holodomor.', '', 'And we will stand with Ukraine for as long as it takes.', '', 'Slava Ukraini!']\n"
          ]
        },
        {
          "output_type": "stream",
          "name": "stderr",
          "text": [
            "Some weights of the model checkpoint at yiyanghkust/finbert-pretrain were not used when initializing BertForMaskedLM: ['cls.seq_relationship.bias', 'cls.seq_relationship.weight']\n",
            "- This IS expected if you are initializing BertForMaskedLM from the checkpoint of a model trained on another task or with another architecture (e.g. initializing a BertForSequenceClassification model from a BertForPreTraining model).\n",
            "- This IS NOT expected if you are initializing BertForMaskedLM from the checkpoint of a model that you expect to be exactly identical (initializing a BertForSequenceClassification model from a BertForSequenceClassification model).\n",
            "Some weights of the model checkpoint at bert-base-uncased were not used when initializing BertModel: ['cls.predictions.transform.LayerNorm.bias', 'cls.predictions.transform.dense.weight', 'cls.predictions.transform.LayerNorm.weight', 'cls.predictions.decoder.weight', 'cls.seq_relationship.weight', 'cls.predictions.bias', 'cls.predictions.transform.dense.bias', 'cls.seq_relationship.bias']\n",
            "- This IS expected if you are initializing BertModel from the checkpoint of a model trained on another task or with another architecture (e.g. initializing a BertForSequenceClassification model from a BertForPreTraining model).\n",
            "- This IS NOT expected if you are initializing BertModel from the checkpoint of a model that you expect to be exactly identical (initializing a BertForSequenceClassification model from a BertForSequenceClassification model).\n"
          ]
        },
        {
          "output_type": "stream",
          "name": "stdout",
          "text": [
            "['The Asia Liberty Forum interview with Professor Raul Fabella', '', '(Part 2)', '', '(This is the second part of the interview with Prof. Raul Fabella conducted by Romeo Bernardo that was the culminating activity of the “Asia Liberty Forum” in Manila on Sept. 29-30, presented by The Atlas Network (https://www.atlasnetwork.org/) and the Foundation for Economic Freedom or FEF (https://www.fef.org.ph/). Through panel discussions, break-out sessions, the Asia Liberty Awards Dinner, and other events, attendees heard from leaders from across the continent about the challenges and opportunities ahead for liberal democracy. The second part of the interview follows below.)', '', 'Romeo Bernardo (RB): Rule of law is almost always cited as a lynchpin of economic freedom. For example, the index of the Heritage Foundation lists it as No. 1, followed by government size, regulatory efficiency and market openness.', '', 'The UN Charter and the Universal Declaration of Human Rights, defines such to include right to life and liberty, freedom from slavery and torture, freedom of opinion and expression, the right to work and education, and many more, without discrimination.', '', 'Your thoughts please on such a broad definition of human rights vs. the narrower one espoused in writings of some authors — and practiced in some authoritarian regimes, especially ones which have been quite successful in bringing millions of their people out of poverty, trading off limitations on political liberties — e.g. China, Vietnam. Arguably even Singapore.', '', 'RF: Rule of Law and inclusion/inequality: Acemoglu and Robinson’s monumental opus (Why Nations Fail) argues that economic liberalization in the form of thin definition of rule of law (protection of property rights and enforcement of contracts) is the lynchpin of long-term sustained growth. Thus, economic liberalization is conducive to improved inclusion (as poverty reduction shown in the People’s Republic of China [PRC]) as growth reduces poverty (Burnside and Dollar, 2000). However, the reduction in poverty incidence does not preclude the violation of the thick definition of rule of law as including respect for basic human rights (the treatment of Uighurs in PRC comes to mind).', '', 'Barro and Salai-Martin (2004, Economic Growth) were the first to point out that whereas economic liberalization significantly associates with economic growth, political liberalization has at best a little and negative association. This suggested a tradeoff and a spirited backlash. In the new world of the 21st century, well-being has many more dimensions than monetary income: environmental sustainability, shared well-being and resilience, etc., all of which can be attenuated on the way to higher per capita.', '', 'The tension spikes when the tradeoff is couched in terms of basic human rights: Did the so-called social contract to attenuate political space in exchange for economic space pay off? Depends upon the criteria of validity. If economic space means economic convergence with the high-income economies and lower poverty incidence, East Asia and PRC are evidence of its payoff.', '', 'Was it worth the lives lost or crippled? Was the Tiananmen Square Massacre in China a fair price to pay for 600 million graduating out of poverty? This is a question of the Sphinx!', '', 'There is, however, a strong evidence-based consensus that the race to the top of the per capita income ladder has scarred the environment, sometimes irretrievably; that climate change has a human agency footprint. Incidentally, the scars are worse for the previous socialist bloc than for market economies. Social unrest can follow norm violations in these other dimensions despite or because of rising income which also changes public values and perception. Finally, the carbon footprint of energy-impoverished Filipinos is so small you would need a microscope to see it.', '', 'RB: In recent years, there seems to be a drift away from liberal regimes that espouse market-based solutions (economic freedoms) towards authoritarian regimes from both the right and the left, everywhere globally. To what extent is this being driven by income inequalities and the failure of governments to address poverty and create jobs with globalization and tech change? Notable examples in developing countries are: to the right Brazil, and to the left, Colombia, Chile, Bolivia. (In the west, the USA is poster boy No. 1, and from the news earlier this week — Italy seems to have turned neo-Fascist!). Is Philippines at any risk at risk of being next? What conditions promote these?', '', 'RF: There is a great deal of debate and interest on how Francis Fukuyama (End of History) — that liberal democracy is the future of humanity — got it wrong. Is income inequality the culprit: possibly, but more salient in the literature is the loss of accustomed and expected entitlements (falling wages, potential loss of jobs from new entrants, threats to accustomed cultural matrix and social contracts from growing diversity, etc.), which can happen with or without growth in inequality. James Scott (Moral Economy of the Peasants, 1976) noted that peasants in East Asia tended to resort to violence when their accustomed standards (food intake, say) are attenuated, especially after adverse climate and harvests and the shares of the landowners do not adjust to accommodate as dictated by the moral economy. So, both inequality cum rigidity and broken expectations are indicted.', '', 'RB: I like much of what you have written in the past on the role of civil society and organizations like FEF. What can we in FEF (and similar like-minded institutions) do to help improve social welfare and preserve economic freedoms? How do we help ensure that we don’t suffer the reversals and drift to illiberal regimes, both left and right, as had happened in other developing countries?', '', 'RF: On the role of Civil Society and incremental market liberalization reforms: Most reform battles in the Philippines involve market liberalization. The reflex response of Philippine political actors to economic difficulties is to find scapegoats among market actors such as the profiteers, oligarchs, foreign investors and speculators. The normal state response is to ban or restrain market exchanges and let government take over: thus the old NFA (National Food Authority, a state monopoly in imports of rice), the OPSF (the Oil Price Stabilization Fund, a state monopoly in imports of petroleum), ban on land ownership over five hectares (CARP, the Comprehensive Agrarian Reform Program), ban on mining and forestry activities; the Agri-Agra law (restraint on bank allocation), blam[ing] oligarchs for nature-triggered water shortages, etc. The Philippine economic saga from the 1990s is one of slow and spasmodic extrication from the straitjacket the state has imposed on the market.', '', 'On FEF engagements: Economic liberalization is where civil society has had the most impact. FEF has been leading the charge to economic liberalization: rice import liberalization, PSA (amended Public Service Act) law allowing foreign participation in more economic activities, free patent law allowing faster grant of titles to patent holders and now allowing consolidation by lifting the five-hectare ownership ceiling and facilitating farm consolidation in the food production sectors. As in Deng’s China, market liberalization is very inclusive in the sense of poverty reduction although it may raise income inequality. The advantage of FEF over other business clubs (MAP or Management Association of the Philippines, MBC or the Makati Business Club, etc.) is that its membership/fellows is not limited to representatives of businesses and firms but also include academics, independent researchers, and public intellectuals.', '', 'Note: (i) the relationship between tech revolution/social media and polarization/inclusion is murky and already heavily covered and discussed in many other local and global fora; added insight may be hard to offer; and, (ii) the response to social cost of illiberal politics and economy is imbedded in the discussion above.', '', 'RB: Economic freedom metrics typically include size of government. As a former Finance undersecretary, I have often wondered whether this is appropriate for a developing country like the Philippines with low tax to GDP ratios and under invests in public goods, especially education and health? In our case we have slipped to the bottom in global rankings on literacy and numeracy, and, not coincidentally, among those who spend least for basic public education. What do you think?', '', 'RF: Barro and Salai-Martin also used size of government as regressor for growth and found that the sign of association is negative. Their interpretation was that it was a proxy for corruption: the more government the more corruption. This interpretation jibes with the weak institution narrative: weak governance tends to throw money and government administration at perceived problems leading to higher government budgets, waste, and corruption. And the allocation of these state resources is skewed towards the squeakiest wheels, fast burn explosions that threaten Armageddon now.', '', 'Unfortunately, neglect of education and human capital infrastructure is a slow burn issue and gets the least attention. And when allocation is increased for education, it supports the same tired formula: more classrooms, more teachers, and more textbooks which result in the same more illiteracy. V. Fabella (2017, “Political-Economic Determinants of Education Reform: Evidence and Interest Group and Student Outcome,” European Journal of Political Economy) has shown that in the battle for reforms in education, access reforms (more classrooms and textbooks) normally trump quality reforms (better trained and motivated teachers) due especially to the opposition of the teachers’ union. In our case, a mortal sin: we can never access exam results of national high school exams to compare quality of high school education outcomes.', '', 'RB. I much enjoyed and learned from your book Capitalism and Inclusion Under Weak Institutions that came out in 2018. It was also the subject of our FEF Paderanga Valera lecture that year. Would you care to talk about it in the remaining time we have?', '', 'RF: On Capitalism and Inclusion: My thesis in the book is that under weak institutions, a greater role of markets is more inclusive defined as poverty incidence. This flies in the face of Piketty (2011) who showed that capitalism or market economics in affluent well-run economies militates against inclusion defined as income inequality. For low-income countries, poverty incidence is the more compelling metric of success. Poverty incidence in the Philippines is highest in the rural areas where the government has effectively vetoed the role of markets for land and finance.', '', 'Romeo L. Bernardo was finance undersecretary from 1990-1996. He is a trustee/director of the Foundation for Economic Freedom, the Management Association of the Philippines, and the FINEX Foundation. He is the principal Philippine Adviser of Globalsource Partners (globalsourcepartners.com). He also serves as a board director in leading companies in banking and financial services, telecommunication, energy, food and beverage, education, real estate, and others.', '', 'romeo.lopez.bernard @gmail.com']\n"
          ]
        },
        {
          "output_type": "stream",
          "name": "stderr",
          "text": [
            "Some weights of the model checkpoint at yiyanghkust/finbert-pretrain were not used when initializing BertForMaskedLM: ['cls.seq_relationship.bias', 'cls.seq_relationship.weight']\n",
            "- This IS expected if you are initializing BertForMaskedLM from the checkpoint of a model trained on another task or with another architecture (e.g. initializing a BertForSequenceClassification model from a BertForPreTraining model).\n",
            "- This IS NOT expected if you are initializing BertForMaskedLM from the checkpoint of a model that you expect to be exactly identical (initializing a BertForSequenceClassification model from a BertForSequenceClassification model).\n",
            "Some weights of the model checkpoint at bert-base-uncased were not used when initializing BertModel: ['cls.predictions.transform.LayerNorm.bias', 'cls.predictions.transform.dense.weight', 'cls.predictions.transform.LayerNorm.weight', 'cls.predictions.decoder.weight', 'cls.seq_relationship.weight', 'cls.predictions.bias', 'cls.predictions.transform.dense.bias', 'cls.seq_relationship.bias']\n",
            "- This IS expected if you are initializing BertModel from the checkpoint of a model trained on another task or with another architecture (e.g. initializing a BertForSequenceClassification model from a BertForPreTraining model).\n",
            "- This IS NOT expected if you are initializing BertModel from the checkpoint of a model that you expect to be exactly identical (initializing a BertForSequenceClassification model from a BertForSequenceClassification model).\n"
          ]
        },
        {
          "output_type": "stream",
          "name": "stdout",
          "text": [
            "['']\n"
          ]
        },
        {
          "output_type": "stream",
          "name": "stderr",
          "text": [
            "Some weights of the model checkpoint at yiyanghkust/finbert-pretrain were not used when initializing BertForMaskedLM: ['cls.seq_relationship.bias', 'cls.seq_relationship.weight']\n",
            "- This IS expected if you are initializing BertForMaskedLM from the checkpoint of a model trained on another task or with another architecture (e.g. initializing a BertForSequenceClassification model from a BertForPreTraining model).\n",
            "- This IS NOT expected if you are initializing BertForMaskedLM from the checkpoint of a model that you expect to be exactly identical (initializing a BertForSequenceClassification model from a BertForSequenceClassification model).\n",
            "Some weights of the model checkpoint at bert-base-uncased were not used when initializing BertModel: ['cls.predictions.transform.LayerNorm.bias', 'cls.predictions.transform.dense.weight', 'cls.predictions.transform.LayerNorm.weight', 'cls.predictions.decoder.weight', 'cls.seq_relationship.weight', 'cls.predictions.bias', 'cls.predictions.transform.dense.bias', 'cls.seq_relationship.bias']\n",
            "- This IS expected if you are initializing BertModel from the checkpoint of a model trained on another task or with another architecture (e.g. initializing a BertForSequenceClassification model from a BertForPreTraining model).\n",
            "- This IS NOT expected if you are initializing BertModel from the checkpoint of a model that you expect to be exactly identical (initializing a BertForSequenceClassification model from a BertForSequenceClassification model).\n"
          ]
        },
        {
          "output_type": "stream",
          "name": "stdout",
          "text": [
            "['RIYADH: Saudi Arabia-based energy company ACWA Power has entered into an agreement to support Thailand’s decarbonization ambitions through a green hydrogen and derivatives development project.', '', 'The firm signed a memorandum of understanding with PTT Public Co. Limited, Thailand’s national integrated energy company; and the Electricity Generating Authority of Thailand, an electric power-related state-owned enterprise, according to a press release.', '', 'As part of the terms of the MoU, ACWA Power, PTT, and EGAT will begin collaborating exclusively on a comprehensive plan to establish large-scale, renewable-powered green hydrogen and derivatives production facilities in Thailand for local energy consumption and global market export purposes.', '', 'With an estimated investment of $7 billion, the Southeast Asian country is targeting hydrogen production of around 225,000 tons annually which is equivalent to 1.2 million tons of green ammonia yearly.', '', 'Paddy Padmanathan, vice chairman and CEO of ACWA Power, said: “We are excited at the prospect of supporting green hydrogen and derivatives exploration and advancement in Thailand, a nation that shares our vision for reliably and responsibly delivering clean energy that drives the sustainability agenda and complements essential climate action worldwide.”', '', 'Thailand is aiming to use green hydrogen as an alternative energy source in the upcoming years in an attempt to fulfill its vow of achieving carbon neutrality by 2050 and net zero emissions by the year 2065, the press release said.', '', 'Moreover, it added that using green hydrogen will help in supporting emissions abatement imperatives and in building a low-carbon circular economy at a domestic level.', '', 'ACWA Power has been expanding its portfolio rapidly, with its asset hitting $75 billion as it posted a 110 percent profit jump in 2022 so far, according to Padmanathan.', '', 'The company is set to reach assets of $230 billion by 2030, the executive told CNBC Arabia.', '', 'While the firm’s current capacity currently stands at 42 gigawatts, he said there exists the capacity to increase the volume by up to three times to reach 150 gigawatts.', '', 'Currently, the company produces 6 million cubic meters of desalinated water, but that figure is estimated to hit 15 million cubic meters by 2030, Padmanathan revealed.', '', 'ACWA Power, which is part-owned by Saudi Arabia’s Public Investment Fund, is also currently producing up to 240,000 tons of green hydrogen, he added.', '', 'A recent bourse filing revealed the energy giant’s profits reached SR883.4 million ($235.1 million) during the first nine months of 2022, up from SR419.9 million during the same period last year.', '', 'The rise was driven by lower costs of development, provisions, and write-offs during the current period.', '', 'It was also attributed to robust growth in ACWA Power’s operating income before impairment and other expenses, as well as lower profit on account of one-off or non-routine expenses during the same period in the year prior, according to a statement.', '', 'Operating income in the nine-month period was SR1.8 billion, an 11 percent increase of SR189 million, compared to the same period last year, which was achieved despite plant outages in four facilities.']\n"
          ]
        },
        {
          "output_type": "stream",
          "name": "stderr",
          "text": [
            "Some weights of the model checkpoint at yiyanghkust/finbert-pretrain were not used when initializing BertForMaskedLM: ['cls.seq_relationship.bias', 'cls.seq_relationship.weight']\n",
            "- This IS expected if you are initializing BertForMaskedLM from the checkpoint of a model trained on another task or with another architecture (e.g. initializing a BertForSequenceClassification model from a BertForPreTraining model).\n",
            "- This IS NOT expected if you are initializing BertForMaskedLM from the checkpoint of a model that you expect to be exactly identical (initializing a BertForSequenceClassification model from a BertForSequenceClassification model).\n",
            "Some weights of the model checkpoint at bert-base-uncased were not used when initializing BertModel: ['cls.predictions.transform.LayerNorm.bias', 'cls.predictions.transform.dense.weight', 'cls.predictions.transform.LayerNorm.weight', 'cls.predictions.decoder.weight', 'cls.seq_relationship.weight', 'cls.predictions.bias', 'cls.predictions.transform.dense.bias', 'cls.seq_relationship.bias']\n",
            "- This IS expected if you are initializing BertModel from the checkpoint of a model trained on another task or with another architecture (e.g. initializing a BertForSequenceClassification model from a BertForPreTraining model).\n",
            "- This IS NOT expected if you are initializing BertModel from the checkpoint of a model that you expect to be exactly identical (initializing a BertForSequenceClassification model from a BertForSequenceClassification model).\n"
          ]
        },
        {
          "output_type": "stream",
          "name": "stdout",
          "text": [
            "['The recent decision of the new head of Twitter, Elon Musk, to sack approximately 50 percent of the workforce is only indicative of the recession that is glooming over the world. The story of Twitter is just one example among many visible ones. Almost all the major firms around the globe have or are planning to lay off employees, including Microsoft, Meta, Tencent, Xiaomi, Unacademy, etc.', '', 'According to a comprehensive study titled ‘Risk of Global Recession in 2023 Rises Amid Simultaneous Rate Hikes’ by the World Bank, all the nation-states are tilting towards a cascade of economic crises in global financial markets and emerging economies, leading to long-term damages. The report blames central banks around the globe for raising interest rates to tackle inflation caused due to the Coronavirus pandemic and Russia’s aggression on Ukraine in the European arena. The report states that even raising the interest rates to an unprecedented high not seen over the past five decades will be insufficient to pull global inflation down to the pre-pandemic levels. It further instils the need to focus on supply disruptions and subside labour-market pressures. The President of the World Bank Group, David Malpass urged policymakers to focus on boosting production instead of cutting consumption and make policies that generate auxiliary investments, improving productivity and capital allocation, which are crucial for growth.', '', 'Economics 101: Recession', '', 'Amidst the pandemic, many states released relief and stimulus packages that heavily leaned on measures to expand liquidity, such as loosening lending restrictions or reducing repo rates (the rate at which commercial banks borrow money from the central bank) as well as reverse repo rates (the rate at which commercial banks lend money to the central bank). China was the first state to act upon these stimulus measures to counteract the disruptions caused by the covid, followed by Japan, the EU, Germany, India and so on. Though the measures helped economies absorb the pandemic’s impact, one major drawback was increased demand due to induced money flow in the market, leading to inflation.', '', 'Inflation, defined as the rate of increase in prices of general goods and commodities in a given period of time, can be caused by multiple factors. A shortfall in aggregate supply, one of the most common factors, can lead to excessive demand pressures in the market. To curb inflation, central banks often tweak or change the fiscal and monetary policies of the nation. Increasing the interest rates is one such measure, as it tightens the economy’s banking system and thus contracts the flow of money, reducing already high demands. However, suppose only the rates are increased without substantial reforms in line with resetting the supply chains, increasing production and overall growth to meet the demand; in that case, a country may move towards a recessionary period. Therefore, alongside rising rates, a nation must diversify its suppliers, invest in technology (without increasing the debt burden), and focus on self-reliance while sustaining employment.', '', 'The International Monetary Fund (IMF) defines recession practically as the fall in a country’s Gross Domestic Product (GDP), i.e. a decline in the value of all the produced goods and services in a country for two consecutive quarters. Simply, a recession is a period of massive economic slowdown. Pointing at a specific moment when a recession occurs is almost impossible and futile. However, a few indicators, like the downfall of GDP and public spending, increased unemployment, and a decline in sales and a country’s output, generally point towards an upcoming recession. To sum up, there are various ways for a recession to start, from sudden shocks to the economy and excessive debt to uncontrolled inflation (or deflation) and non-performing asset bubbles.', '', 'The Stumbling Economies', '', 'According to IMF Managing Director Kristalina Georgieva, “First, Covid, then Russia’s invasion of Ukraine and climate disasters on all continents have inflicted immeasurable harm on people’s lives.” One-third of the world economies, including the United States, Europe and China, are expected to contract in the subsequent quarters.', '', 'For US economists and forecasters, the recession is no longer about ‘if’ but ‘when’. The decision of the Fed (US Central Bank) to increase rates to cool inflation without inducing higher unemployment and an economic downturn has only shrunk the possibility of a ‘soft landing,’ which occurs when the tightened monetary policies of the Fed reduce inflation without causing a recession. Nouriel Roubini, one of the few economists who rightly predicted the financial crisis of 2008, also claims a prolonged and inevitable recession in 2022 that will last till 2023. Economists expect a growth rate of 0.4 percent in the fourth quarter of 2023 as opposed to the fourth quarter of the previous year, and in 2024, they expect the economy to grow at 1.8 percent. The rate of unemployment is expected to rise to 3.7 percent in December this year and to 4.3 percent in June 2023, compared to 3.5 percent in September.', '', 'Like the US, Europe was also under the impression that the economic situation would improve without a recession. Assumptions of subsiding or transitory inflation due to solid businesses, enough public savings and adequate fiscal adjustments turned out wrong for the European economies. The Euro area (5.1 percent), and the UK (6.8 percent), are among the countries with the most expected output loss. Europe has mainly been affected by the Russian war on Ukraine and the resulting oil and gas disruptions leading to an ‘Energy War’ against the former. Similarly, China doesn’t lie far from them, with an expected output loss of 5.7 percent in 2023. Zero Covid Policy, coupled with the mortgage crisis and exodus in the manufacturing sector, has led to the economic slowdown of the Asian giant.', '', 'Impact on the Indian Economy', '', 'India reported a growth of 13.5 percent in the April to June quarter and became the world’s fifth-biggest economy, taking the spot of Great Britain. However, this growth results from the nation’s shutdown amid Delta-driven covid lockdowns during previous quarters and not because of the significant improvements in the economic activities. India needs to focus on skill-based human development projects to unleash its economic potential and effectively utilise its demographic dividend. However, India is not immune to the global slowdown. It is expected to face an output loss of 7.8 percent in 2023.', '', 'Indian CEOs are also expecting a decline in the growth of companies, but the economy is expected to bounce back in the short term, according to KPMG 2022 report. Moreover, 86 percent of CEOs in India expect an impact of up to 10 percent on earnings in the next 12 months. Reducing profit margins, boosting productivity, diversifying supply chains, and implementing a hiring freeze (worst case, layoff policies) are a few steps firms can take to weather such challenges.', '', 'India, thus, needs to tap the potential of start-ups and small enterprises, as opposed to just established firms, by expanding and enhancing the private sector’s access to capital investments and curbing environment-related risks. Reforms in dispute resolution mechanisms are also long overdue, evident through the Ease of Doing Business report, where India ranked 63rd out of 190 countries worldwide. India needs to prove its worth by showing investors that not only can their money achieve decent returns, but it is safe in Indian soil as well.', '', 'The stand on India’s future remains split. The global rating agency S&P claims that India will not face the true and horrifying brunt of the global recession thanks to its decoupled economy with huge domestic demand, healthy balance sheets and enough foreign exchange reserves. On the contrary, according to the Japanese brokerage firm- Nomura, policymakers are misplaced in their optimism about India’s growth trajectory. Its economists assert India’s estimated growth at 7 percent in FY23, which is at par with the RBI’s revised forecasts, but it also predicts a sharp decline to 5.2 percent in FY24. This estimated growth doesn’t align with India’s commitment to becoming a 5 Trillion USD economy.', '', 'Way Forward', '', 'UNCLAD’s Trade and Development Report 2022 projects global economic growth will plunge down to 2.5 percent in 2022, followed by a drop to 2.2 percent in 2023, costing the world a loss of more than 17 trillion USD in productivity. It further warns that the developing nations will be most vulnerable to the slowdown resulting in a cascade of health, debt and climate crises. Regarding the proportion of revenue to public debt, Somalia, Sri Lanka, Angola, Gabon, and Laos are the worst-hit countries, evident through the excessive inflation these states face.', '', 'Similarly, Indian fuel and food commodities prices have increased, but India’s sturdy performance when other countries are struggling can be attributed to its efficient policies. India does not have a perpetual external debt burden to hamper its growth. In addition, the government has focussed on developing the industrial and service sector to promote jobs and increase savings, especially after the Pandemic, to revitalise the Indian economy. Domestically, the government has provided effective social safety nets to ensure healthy livelihood for the population.', '', 'Despite these factors, India must realize and accept the harsh reality of the upcoming turbulent times. India may have a decoupled economy, but the world is one interlinked system. Global slowdowns will lead to a recession in India as well, whose effects are becoming more and more visible with each passing day. Major tech firms in India like Wipro, Tech Mahindra and Infosys have revoked their offer letters to young freshers, while others have started laying off employees amidst the fear of global recession. Irrespective of whether India becomes the “fastest growing economy” in the end, even a modest growth rate of about 5 percent will push millions into poverty in a country like India. It’s only imperative to realise that a depreciating currency and elevated inflation will hit the poorest the hardest, and India must be prepared to deal with this challenge.']\n"
          ]
        },
        {
          "output_type": "stream",
          "name": "stderr",
          "text": [
            "Some weights of the model checkpoint at yiyanghkust/finbert-pretrain were not used when initializing BertForMaskedLM: ['cls.seq_relationship.bias', 'cls.seq_relationship.weight']\n",
            "- This IS expected if you are initializing BertForMaskedLM from the checkpoint of a model trained on another task or with another architecture (e.g. initializing a BertForSequenceClassification model from a BertForPreTraining model).\n",
            "- This IS NOT expected if you are initializing BertForMaskedLM from the checkpoint of a model that you expect to be exactly identical (initializing a BertForSequenceClassification model from a BertForSequenceClassification model).\n",
            "Some weights of the model checkpoint at bert-base-uncased were not used when initializing BertModel: ['cls.predictions.transform.LayerNorm.bias', 'cls.predictions.transform.dense.weight', 'cls.predictions.transform.LayerNorm.weight', 'cls.predictions.decoder.weight', 'cls.seq_relationship.weight', 'cls.predictions.bias', 'cls.predictions.transform.dense.bias', 'cls.seq_relationship.bias']\n",
            "- This IS expected if you are initializing BertModel from the checkpoint of a model trained on another task or with another architecture (e.g. initializing a BertForSequenceClassification model from a BertForPreTraining model).\n",
            "- This IS NOT expected if you are initializing BertModel from the checkpoint of a model that you expect to be exactly identical (initializing a BertForSequenceClassification model from a BertForSequenceClassification model).\n"
          ]
        },
        {
          "output_type": "stream",
          "name": "stdout",
          "text": [
            "[\"SHANGHAI: Protests erupted in China's Shanghai on Saturday night against Beijing's strict Covid-19 policy. Several videos have emerged on social media which showcased people chanting slogans against restrictions imposed by the Chinese government to curb the spread of Covid.\", '', 'The protests erupted after 10 people died and nine others were injured in an apartment fire in Urumqi. Saturday saw protests erupt in Shanghai with people calling to relax Covid-19 curbs across the country. Expressing anger over the stringent Covid policy, Chinese citizens took to the streets in large numbers.', '', 'According to a video posted by DW News East Asia Correspondent William Yang on Twitter, people at \\'Urumqi Road\\' held a protest against Xi Jinping-led Chinese Communist Party (CCP), chanting slogans like \"Step down the Communist Party\" and \" the Communist Party, Step down. Xi Jinping, step down.\"', '', 'In a series of tweets regarding the protests in Shanghai, William Yang said that countless people gathered on Urumqi Road and chanted slogans, \"I don\\'t want PCR test, I want freedom.\" In another tweet, William Yang said, people in \\'Urumqi Road\\' also called for ending the lockdown in Xinjiang.', '', '\"Citizens chanting #Xinjiang, end lockdown, #Xinjiang, end lockdown,\" Yang wrote on Twitter.', '', 'Continuing the thread, he said that a scuffle broke out between people and police at the site of a protest in Shanghai. In a tweet, William Yang said, \"Police surrounded the last few dozens of protesters at the scene in Shanghai and some women were reportedly taken away.\"', '', '\"Incredible footage from #China\\'s #Shanghai, where countless people gathered at a road called \"#Urumqi road,\" chanting the slogan \"Step down, the Communist Party\" very loudly,\" William Yang wrote on Twitter. Notably, the Chinese government has been adhering to strict COVID-19 policy in order to curb the spread of the virus ever since the pandemic emerged in China. The restrictions imposed by the Chinese government include strict lockdowns, travel restrictions and mass testing.']\n"
          ]
        },
        {
          "output_type": "stream",
          "name": "stderr",
          "text": [
            "Some weights of the model checkpoint at yiyanghkust/finbert-pretrain were not used when initializing BertForMaskedLM: ['cls.seq_relationship.bias', 'cls.seq_relationship.weight']\n",
            "- This IS expected if you are initializing BertForMaskedLM from the checkpoint of a model trained on another task or with another architecture (e.g. initializing a BertForSequenceClassification model from a BertForPreTraining model).\n",
            "- This IS NOT expected if you are initializing BertForMaskedLM from the checkpoint of a model that you expect to be exactly identical (initializing a BertForSequenceClassification model from a BertForSequenceClassification model).\n",
            "Some weights of the model checkpoint at bert-base-uncased were not used when initializing BertModel: ['cls.predictions.transform.LayerNorm.bias', 'cls.predictions.transform.dense.weight', 'cls.predictions.transform.LayerNorm.weight', 'cls.predictions.decoder.weight', 'cls.seq_relationship.weight', 'cls.predictions.bias', 'cls.predictions.transform.dense.bias', 'cls.seq_relationship.bias']\n",
            "- This IS expected if you are initializing BertModel from the checkpoint of a model trained on another task or with another architecture (e.g. initializing a BertForSequenceClassification model from a BertForPreTraining model).\n",
            "- This IS NOT expected if you are initializing BertModel from the checkpoint of a model that you expect to be exactly identical (initializing a BertForSequenceClassification model from a BertForSequenceClassification model).\n"
          ]
        },
        {
          "output_type": "stream",
          "name": "stdout",
          "text": [
            "['Deutsche Post AG (OTCMKTS:DPSGY - Get Rating) has received a consensus rating of \"Moderate Buy\" from the twelve analysts that are presently covering the firm, MarketBeat Ratings reports. Three research analysts have rated the stock with a hold recommendation and seven have assigned a buy recommendation to the company. The average 1 year price target among brokerages that have covered the stock in the last year is $55.96.', '', 'Several research analysts recently commented on DPSGY shares. The Goldman Sachs Group downgraded shares of Deutsche Post from a \"buy\" rating to a \"neutral\" rating in a research note on Tuesday, September 20th. Berenberg Bank cut their target price on shares of Deutsche Post from €64.00 ($65.31) to €61.00 ($62.24) and set a \"buy\" rating on the stock in a research report on Tuesday, September 13th. Sanford C. Bernstein raised shares of Deutsche Post from a \"market perform\" rating to an \"outperform\" rating in a research report on Friday, September 30th. JPMorgan Chase & Co. downgraded shares of Deutsche Post from an \"overweight\" rating to a \"neutral\" rating in a research report on Wednesday, November 9th. Finally, AlphaValue downgraded shares of Deutsche Post to a \"buy\" rating in a research report on Thursday, November 10th.', '', 'Deutsche Post Trading Up 0.8 %', '', \"DPSGY stock opened at $39.85 on Friday. The company has a market capitalization of $49.38 billion, a PE ratio of 8.25 and a beta of 1.26. Deutsche Post has a 12 month low of $28.66 and a 12 month high of $65.24. The firm's 50-day moving average is $34.58 and its 200 day moving average is $37.08. The company has a debt-to-equity ratio of 0.77, a current ratio of 1.02 and a quick ratio of 0.99.\", '', 'About Deutsche Post', '', 'Deutsche Post AG operates as a mail and logistics company in Germany, rest of Europe, the Americas, the Asia Pacific, the Middle East, and Africa. The company operates through five segments: Express; Global Forwarding, Freight; Supply Chain; eCommerce Solutions; and Post & Parcel Germany. The Express segment offers time-definite courier and express services to business and private customers.', '', 'Read More', '', \"This instant news alert was generated by narrative science technology and financial data from MarketBeat in order to provide readers with the fastest and most accurate reporting. This story was reviewed by MarketBeat's editorial team prior to publication. Please send any questions or comments about this story to contact@marketbeat.com.\", '', \"Before you consider Deutsche Post, you'll want to hear this.\", '', \"MarketBeat keeps track of Wall Street's top-rated and best performing research analysts and the stocks they recommend to their clients on a daily basis. MarketBeat has identified the five stocks that top analysts are quietly whispering to their clients to buy now before the broader market catches on... and Deutsche Post wasn't on the list.\", '', 'While Deutsche Post currently has a \"Moderate Buy\" rating among analysts, top-rated analysts believe these five stocks are better buys.', '', 'View The Five Stocks Here']\n"
          ]
        },
        {
          "output_type": "stream",
          "name": "stderr",
          "text": [
            "Some weights of the model checkpoint at yiyanghkust/finbert-pretrain were not used when initializing BertForMaskedLM: ['cls.seq_relationship.bias', 'cls.seq_relationship.weight']\n",
            "- This IS expected if you are initializing BertForMaskedLM from the checkpoint of a model trained on another task or with another architecture (e.g. initializing a BertForSequenceClassification model from a BertForPreTraining model).\n",
            "- This IS NOT expected if you are initializing BertForMaskedLM from the checkpoint of a model that you expect to be exactly identical (initializing a BertForSequenceClassification model from a BertForSequenceClassification model).\n",
            "Some weights of the model checkpoint at bert-base-uncased were not used when initializing BertModel: ['cls.predictions.transform.LayerNorm.bias', 'cls.predictions.transform.dense.weight', 'cls.predictions.transform.LayerNorm.weight', 'cls.predictions.decoder.weight', 'cls.seq_relationship.weight', 'cls.predictions.bias', 'cls.predictions.transform.dense.bias', 'cls.seq_relationship.bias']\n",
            "- This IS expected if you are initializing BertModel from the checkpoint of a model trained on another task or with another architecture (e.g. initializing a BertForSequenceClassification model from a BertForPreTraining model).\n",
            "- This IS NOT expected if you are initializing BertModel from the checkpoint of a model that you expect to be exactly identical (initializing a BertForSequenceClassification model from a BertForSequenceClassification model).\n"
          ]
        },
        {
          "output_type": "stream",
          "name": "stdout",
          "text": [
            "['A growing trend', '', 'If Congress fails to serve as watchdog for people’s money, a growing trend will institutionalize the lack of accountability in the utilization of precious public funds.', '', 'The Duterte administration set the trend for massive confidential and intelligence fund allocations for the Office of the President (OP). The apple doesn’t fall far from the tree; Daughterte is now doing the same for her current posts, with a substantial CIF not only for the Office of the Vice President but also for the Department of Education.', '', 'For 2021, according to state auditors, the OP under Rodrigo Duterte spent P2.25 billion in confidential funds and another P2.25 billion in intelligence funds.', '', 'The OP’s CIF was even bigger in 2020, when P4.57 billion was used up – more than what was appropriated for the year. Even with the 14-year-high inflation factored in, the amounts are a huge jump from the average of P500 million to P600 million CIF accorded to the OP under Gloria Macapagal Arroyo and Benigno Aquino III.', '', 'Duterte rejected a provision in the 2021 appropriations law, which required quarterly reporting on the utilization of the CIF. The reason cited was that national security matters are exempted from such a disclosure.', '', 'But if it’s all about national security in the time of COVID, why did the Department of National Defense, which handles counterterrorism apart from external defense, have only P1.86 billion in CIF last year?', '', 'The Department of the Interior and Local Government, which has supervision over the Philippine National Police, spent P908.45 million in CIF.', '', 'Among the agencies with some functions related to law enforcement and fighting crime, the Department of Justice spent P258.21 million in CIF; the Department of Finance, P60.63 million; Department of Environment and Natural Resources, P15 million, and Department of Transportation, P16.85 million.', '', 'Even the Department of Foreign Affairs spent P31.75 million in CIF, while the Department of Social Welfare and Development had P20.04 million.', '', 'In the current administration, the CIFs have also been extended to the Office of the Solicitor General.', '', '* * *', '', 'Heidi Mendoza, a former head of the United Nations Office of Internal Oversight Services and Commission on Audit commissioner, along with former Senate president Franklin Drilon have said that the COA, an independent constitutional body, can exercise its authority and subject all CIFs to a thorough audit.', '', 'If the COA finds anomalous expenditures, it can disallow the funding, according to Drilon.', '', 'The only thing state auditors cannot do is to make their CIF audit public, Drilon told “The Chiefs” on One News last week.', '', 'There are, of course, limits to the details that even auditors can demand when it comes to the utilization of intelligence funds, especially for security agencies. The lives of informants can be put at risk and security operations can be jeopardized. There is a presumption of regularity in the use of CIFs by law enforcement agencies and the military.', '', 'How will CIFs be used by the DepEd and OVP? Taxpayers have been told that it will be used to go after child sex abusers, cyber bullies, drug pushers and other lowlifes who prey on school children.', '', 'But this is a job of law enforcement agencies, not educators. Militant teachers suspect that the money will be used to monitor their ranks for remarks or social media posts that displease DepEd and the administration.', '', 'Others fear that money may be used to rewrite textbooks to whitewash the dictatorship, although President Marcos has said in public that he’s not into revising history. But even if history books are to be rewritten, funding must be taken from the regular DepEd budget for textbooks, and not from lump sums that elude public accounting.', '', 'And what does the OVP need CIF for? Its budget has already ballooned to a hefty P2.3 billion from the P713.41 million allotted by Duterte to the OVP under Leni Robredo for 2022 (lower than the P908.79 million for 2021).', '', '* * *', '', 'If the DepEd is going to get a hefty increase in its budget, there are a gazillion other items in public education that urgently need funding – from additional classrooms to gadgets, textbooks and higher salaries for teachers.', '', 'The top achievement of DepEd in the past half-year is the return to in-person classes. The 100 percent objective was not attained, however, due to natural disasters and the sheer inadequacy of classrooms especially with physical distancing still encouraged.', '', 'Studies have shown that the pandemic widened the learning gap in this country, and worsened the quality of education. Addressing this critical problem in our human capital development requires so much more investments in public education than what has been allotted so far.', '', '* * *', '', 'The World Bank, in a recent study, said income inequality in the Philippines is one of the widest in East Asia. And one of the factors in this yawning income gap, it said, is uneven access to quality education. Like other similar studies, it noted that the pandemic widened the education gap between rich and poor.', '', 'Simply attaining Marcos’ objective of restoring Filipinos’ proficiency in English is challenging enough. He also wants greater emphasis on the teaching of science, technology, engineering and mathematics.', '', 'Seeing what’s happening in the DepEd in the past half year, his education secretary doesn’t seem up to the challenge; her heart and mind are elsewhere. The next six years are looking to become more lost years that will worsen the crisis in Philippine education.', '', 'Marcos should seriously consider giving his running mate another Cabinet portfolio – perhaps her original preference for the defense post (although there’s talk that this has been reserved for someone else). The President can do this when he finally relinquishes the agriculture portfolio – something that is happening soon, if the buzz proves accurate.', '', 'Critics of the CIF for the DepEd are pinning their hopes on the robust militancy among educators and students alike to prevent the misuse of public funds.', '', 'Ideally, the watchdog should be Congress. As Drilon told The Chiefs, approval of CIFs is a political issue. If people want to punish those who went along with the questioned appropriation, they should vote such politicians out of office, he said.', '', 'This, however, will require informed choices, made by people with sufficient education and the standing in life to say no to political patronage during elections.', '', 'Only Congress might reverse this tide that goes against transparency. Members of the Malacañang rubberstamp House of Representatives are hopeless. Unfortunately for the nation, the situation is increasingly looking the same in the Senate.']\n"
          ]
        },
        {
          "output_type": "stream",
          "name": "stderr",
          "text": [
            "Some weights of the model checkpoint at yiyanghkust/finbert-pretrain were not used when initializing BertForMaskedLM: ['cls.seq_relationship.bias', 'cls.seq_relationship.weight']\n",
            "- This IS expected if you are initializing BertForMaskedLM from the checkpoint of a model trained on another task or with another architecture (e.g. initializing a BertForSequenceClassification model from a BertForPreTraining model).\n",
            "- This IS NOT expected if you are initializing BertForMaskedLM from the checkpoint of a model that you expect to be exactly identical (initializing a BertForSequenceClassification model from a BertForSequenceClassification model).\n",
            "Some weights of the model checkpoint at bert-base-uncased were not used when initializing BertModel: ['cls.predictions.transform.LayerNorm.bias', 'cls.predictions.transform.dense.weight', 'cls.predictions.transform.LayerNorm.weight', 'cls.predictions.decoder.weight', 'cls.seq_relationship.weight', 'cls.predictions.bias', 'cls.predictions.transform.dense.bias', 'cls.seq_relationship.bias']\n",
            "- This IS expected if you are initializing BertModel from the checkpoint of a model trained on another task or with another architecture (e.g. initializing a BertForSequenceClassification model from a BertForPreTraining model).\n",
            "- This IS NOT expected if you are initializing BertModel from the checkpoint of a model that you expect to be exactly identical (initializing a BertForSequenceClassification model from a BertForSequenceClassification model).\n"
          ]
        },
        {
          "output_type": "stream",
          "name": "stdout",
          "text": [
            "['']\n"
          ]
        },
        {
          "output_type": "stream",
          "name": "stderr",
          "text": [
            "Some weights of the model checkpoint at yiyanghkust/finbert-pretrain were not used when initializing BertForMaskedLM: ['cls.seq_relationship.bias', 'cls.seq_relationship.weight']\n",
            "- This IS expected if you are initializing BertForMaskedLM from the checkpoint of a model trained on another task or with another architecture (e.g. initializing a BertForSequenceClassification model from a BertForPreTraining model).\n",
            "- This IS NOT expected if you are initializing BertForMaskedLM from the checkpoint of a model that you expect to be exactly identical (initializing a BertForSequenceClassification model from a BertForSequenceClassification model).\n",
            "Some weights of the model checkpoint at bert-base-uncased were not used when initializing BertModel: ['cls.predictions.transform.LayerNorm.bias', 'cls.predictions.transform.dense.weight', 'cls.predictions.transform.LayerNorm.weight', 'cls.predictions.decoder.weight', 'cls.seq_relationship.weight', 'cls.predictions.bias', 'cls.predictions.transform.dense.bias', 'cls.seq_relationship.bias']\n",
            "- This IS expected if you are initializing BertModel from the checkpoint of a model trained on another task or with another architecture (e.g. initializing a BertForSequenceClassification model from a BertForPreTraining model).\n",
            "- This IS NOT expected if you are initializing BertModel from the checkpoint of a model that you expect to be exactly identical (initializing a BertForSequenceClassification model from a BertForSequenceClassification model).\n"
          ]
        },
        {
          "output_type": "stream",
          "name": "stdout",
          "text": [
            "['RIYADH: With oil revenue projected to rise amid strengthening crude prices, S&P Global Ratings expects Bahrain and Oman to improve their economic performance as the Gulf nations continue with their fiscal reforms.', '', 'The global rating agency revised Bahrain’s outlook to positive from stable on expectations that solid growth in non-oil earnings and budget consolidation measures will help ease pressure on the country’s fiscal position.', '', \"S&P said it expects Bahrain's government to continue pursuing reforms to reduce fiscal deficits that will place debt to the gross domestic product on a more sustainable path.\", '', \"“We also assume the country's external vulnerabilities will decline amid current account surpluses over 2022-2024. We, therefore, revised our outlook on Bahrain to positive from stable and affirmed our 'B+/B' ratings,” said S&P in its report released on Nov. 25.\", '', \"The rating agency kept its transfer and convertibility assessment on Bahrain unchanged at 'BB-'.\", '', '“The positive outlook indicates that we expect the government will continue implementing fiscal reforms to reduce the budget deficit and benefit from additional support from other Gulf Cooperation Council sovereigns, if needed,” it said.', '', 'As Bahrain looks at strong economic performance, with its GDP registering the fastest growth over a decade, it is positively impacting the Kingdom’s various sectors including real estate.', '', 'This comes as the real estate transaction volumes in Bahrain improved in the third quarter of 2022, reaching a total of 5,482, according to American commercial real estate consultancy CBRE.', '', 'The August month alone saw over 2,400 transactions, making it Bahrain’s second most successful month since 2018. The country’s newer and landmark office buildings hit their highest occupancy levels in the third quarter as occupiers continued with the flight to quality.', '', 'Oman outlook stable', '', \"Meanwhile, Oman’s outlook remains stable as S&P expects the government's fiscal reform program and favorable prices for key export oil will strengthen the country’s fiscal and external metrics.\", '', \"“We expect a significant improvement in the economy's external balance sheet this year and for the government to return to a small net asset position in 2023. We, therefore, raised our long-term sovereign credit ratings on Oman to 'BB' from 'BB-',” said S&P, adding that the outlook stays stable.\", '', \"The rating agency also revised its transfer and convertibility assessment to 'BB+' from 'BB' and affirmed its 'B' short-term sovereign credit rating on Oman.\", '', \"Higher oil prices coupled with the government's recent reforms have helped Oman better manage its fiscal and external positions. In addition to rebuilding fiscal buffers on the back of windfall oil revenue, S&P said the Omani government has continued to reduce the budget's reliance on oil receipts, in line with its medium-term fiscal plan to 2025.\", '', '“We expect fiscal reforms to continue, including the possible introduction of personal income tax on high earners and measures to increase value-added tax receipts,” it noted in the report.']\n"
          ]
        },
        {
          "output_type": "stream",
          "name": "stderr",
          "text": [
            "Some weights of the model checkpoint at yiyanghkust/finbert-pretrain were not used when initializing BertForMaskedLM: ['cls.seq_relationship.bias', 'cls.seq_relationship.weight']\n",
            "- This IS expected if you are initializing BertForMaskedLM from the checkpoint of a model trained on another task or with another architecture (e.g. initializing a BertForSequenceClassification model from a BertForPreTraining model).\n",
            "- This IS NOT expected if you are initializing BertForMaskedLM from the checkpoint of a model that you expect to be exactly identical (initializing a BertForSequenceClassification model from a BertForSequenceClassification model).\n",
            "Some weights of the model checkpoint at bert-base-uncased were not used when initializing BertModel: ['cls.predictions.transform.LayerNorm.bias', 'cls.predictions.transform.dense.weight', 'cls.predictions.transform.LayerNorm.weight', 'cls.predictions.decoder.weight', 'cls.seq_relationship.weight', 'cls.predictions.bias', 'cls.predictions.transform.dense.bias', 'cls.seq_relationship.bias']\n",
            "- This IS expected if you are initializing BertModel from the checkpoint of a model trained on another task or with another architecture (e.g. initializing a BertForSequenceClassification model from a BertForPreTraining model).\n",
            "- This IS NOT expected if you are initializing BertModel from the checkpoint of a model that you expect to be exactly identical (initializing a BertForSequenceClassification model from a BertForSequenceClassification model).\n"
          ]
        },
        {
          "output_type": "stream",
          "name": "stdout",
          "text": [
            "['The Retail Banking market 2022-2029 report provides a detailed analysis of the dynamic of the market with an extensive focus on secondary research. The report sheds light on the current situation of the market size, share, demand, development patterns, and forecast for the coming years.', '', 'The research report aims to provide reliable and useful Retail Banking industry information and data on the national and international markets thereby helping the market leaders, investors, small businesses, and others gain market intelligence from around the world. The report provides the global Retail Banking market players the insights needed to make key decisions with regard to international markets like expansion and investments. The Retail Banking report anticipates future economic, business, and political factors and trends that may impact their performance at regional and international levels. The multinational businesses that are on top in the Retail Banking marketplace in the recent years and the topics related to the selected markets are covered in report.', '', 'The Global Retail Banking Market Size is Projected to Reach a CAGR of 39% during 2022-2029.', '', 'Exclusive Offer: Flat 30% Discount for A Limited Time', '', 'Get an Exclusive Sample of Report on the Retail Banking market is available : https://www.mraccuracyreports.com/report-sample/192626', '', 'Major Market Players Profiled in the Report include:', '', 'BNP Paribas, Citigroup, HSBC, ICBC, JPMorgan Chase, Bank of America, Barclays, China Construction Bank, Deutsche Bank, Mitsubishi UFJ Financial Group, Wells Fargo', '', 'The market report analyzes the top players that dominate the Retail Banking market. The study reviews the characteristics of the Retail Banking industry and the major manufacturers in the world marketplace. The report provides an enhanced and comparative understanding of the market with the help of financial and SWOT analysis. Additionally, the current technology integrations made by the manufacturers for operational efficiency and to improve the market value, the current financial situation of the manufacturers is explored in the report. The study also analyzes the positive and negative impact of and covid-19 pandemic on the manufacturers and the survival strategies adopted by the players.', '', 'Retail Banking Market Segmentation by Type:', '', 'Transactional Accounts, Savings Accounts, Debit Cards, Credit Cards, Loans, Others.', '', 'Retail Banking Market Segmentation by Application:', '', 'Hardware, Software, Services', '', 'Access full Report Description, TOC, Table of figures, Chart, etc. : https://www.mraccuracyreports.com/reportdetails/reportview/192626', '', 'REGIONAL ANALYSIS', '', 'North America (US, Canada, Mexico)', '', 'Europe (Germany, France, UK, Russia, Italy)', '', 'Asia Pacific (China, Japan, South Korea, India, Southeast Asia)', '', 'South America (Brazil, Argentina, Colombia, etc.)', '', 'The Middle East and Africa (Saudi peninsula, UAE), Egypt, Nigeria, and South Korea)', '', 'Key Questions Answered through the Report', '', '(1) How will the global Retail Banking market perform during the forecast period? What will be the market size in terms of value and volume?', '', '(2) Which segment will drive the global Retail Banking market? Which regional market will show extensive growth in the future? What are the reasons?', '', '(3) How will the Retail Banking market dynamics change because of the impact of future market opportunities, restraints, and drivers?', '', '(4) What are the key strategies adopted by players to sustain themselves in the global Retail Banking market?', '', '(5) How will these strategies influence the Retail Banking market growth and competition?', '', 'Key Insights That Study Is Going to Provide:', '', 'The 360-degree Retail Banking Market overview is based on a global and regional level', '', 'Market Share & Sales Revenue by Key Players & Emerging Regional Players', '', 'Competitors – In this section, various Retail Banking industry leading players are studied with respect to their company profile, product portfolio, capacity, price, cost, and revenue.', '', 'A separate chapter on Retail Banking Market Entropy to gain insights on Leader’s aggressiveness towards market [Merger & Acquisition / Recent Investment and Key Developments]', '', 'Patent Analysis No of patents / Trademarks filed in recent years.', '', 'Table of Content:', '', 'Chapter 1: Introduction, market driving force product Objective of Study, and Research Scope Retail Banking Market', '', 'Chapter 2: Exclusive Summary – the basic information of the Retail Banking Market.', '', 'Chapter 3: Displaying the Market Dynamics- Drivers, Trends, and Challenges of Retail Banking', '', 'Chapter 4: Presenting Retail Banking Market Factor Analysis Porters Five Forces, Supply/Value Chain, PESTEL analysis, Market Entropy, Patent/Trademark Analysis.', '', 'Chapter 5: Displaying 2015-2020 by Type, End-User, and Region', '', 'Chapter 6: Evaluating the top manufacturers in the Retail Banking Market, including their Competitive Landscape, Peer Group Analysis, BCG Matrix, and Company Profile.', '', 'Chapter 7: To evaluate the market by segments, by countries, and by manufacturers with revenue share and sales by key countries in these various regions.', '', 'Chapter 8 & 9: Displaying the Appendix, Methodology, and Data Source', '', 'Conclusion: At the end of the Retail Banking Market report, all the findings and estimations are given. It also includes major drivers and opportunities along with regional analysis. The segment analysis is also provided in terms of type and application.', '', 'Direct Purchase this Market Research Report Now @ https://www.mraccuracyreports.com/checkout/192626', '', 'If you have any special requirements, please contact our sales professional (sales@mraccuracyreports.com), No additional cost will be required to pay for limited additional research. we are going to make sure you get the report that works for your desires', '', 'Thank you for taking the time to read our article…!!', '', 'ABOUT US:', '', 'Mr Accuracy Reports is a global front-runner in the research industry, offering customers contextual and data-driven research services. Customers are supported in creating business plans and attaining long-term success in their respective marketplaces by the organization. The industry provides consulting services, Mr Accuracy Reports research studies, and customized research reports.']\n"
          ]
        },
        {
          "output_type": "stream",
          "name": "stderr",
          "text": [
            "Some weights of the model checkpoint at yiyanghkust/finbert-pretrain were not used when initializing BertForMaskedLM: ['cls.seq_relationship.bias', 'cls.seq_relationship.weight']\n",
            "- This IS expected if you are initializing BertForMaskedLM from the checkpoint of a model trained on another task or with another architecture (e.g. initializing a BertForSequenceClassification model from a BertForPreTraining model).\n",
            "- This IS NOT expected if you are initializing BertForMaskedLM from the checkpoint of a model that you expect to be exactly identical (initializing a BertForSequenceClassification model from a BertForSequenceClassification model).\n",
            "Some weights of the model checkpoint at bert-base-uncased were not used when initializing BertModel: ['cls.predictions.transform.LayerNorm.bias', 'cls.predictions.transform.dense.weight', 'cls.predictions.transform.LayerNorm.weight', 'cls.predictions.decoder.weight', 'cls.seq_relationship.weight', 'cls.predictions.bias', 'cls.predictions.transform.dense.bias', 'cls.seq_relationship.bias']\n",
            "- This IS expected if you are initializing BertModel from the checkpoint of a model trained on another task or with another architecture (e.g. initializing a BertForSequenceClassification model from a BertForPreTraining model).\n",
            "- This IS NOT expected if you are initializing BertModel from the checkpoint of a model that you expect to be exactly identical (initializing a BertForSequenceClassification model from a BertForSequenceClassification model).\n"
          ]
        },
        {
          "output_type": "stream",
          "name": "stdout",
          "text": [
            "['The key to increasing financial inclusion in Saudi Arabia is collaboration between fintech companies and traditional banks, says Anas Zaidan of financial app Yap', '', \"As Saudi Arabia moves closer to achieving its Vision 2030, technology and innovation play a key role. According to Saudi Arabia’s General Authority of Statistics, 36.7 per cent of the kingdom's population is aged 15-34 and has different needs from those of previous generations.\", '', 'One of the most critical is the need for financial inclusion, so that as these young people grow up to become adults, they have the necessary background in learning to save and spend responsibly. This is also paramount if the region is to achieve a cashless society as part of its agenda.', '', 'While technology is disrupting many industries in the kingdom, it is creating an opportunity in the financial services sector – one that can benefit young people specifically.', '', 'With its high youth population, Saudi Arabia is also home to a large population of digital adopters who see mobile devices as the gateway to the rest of the world. Kids are becoming more tech-savvy from a younger age as they are increasingly exposed to aspects of everyday life through a digital lens, now that everything can be done at a touch of a button.', '', 'For example, we are seeing a growing number of kids selecting and ordering food for the family, shopping, booking cars – and with an added element of gamification. This is all because apps and mobile services are increasingly helping to make the day-to-day more seamless and trusted in the household.', '', 'Banking on technology', '', 'Technology is rapidly disrupting Saudi Arabia’s banking landscape. In the first three quarters of 2022, the kingdom has made progress towards achieving its digital transformation goals. Alongside the expansion of the Internet of Things, this is also evident in the rise of financial technology (fintech) players that have emerged in the region, paired with correlating consumer uptake.', '', 'A few years ago, the financial sector in the Middle East had seen little transformation, yet with the advent of platform-based banking, alternative payment methods and various digital financial products, there has been a rise in the number of banked Saudis.', '', 'The growing fintech sector has not only played a key role in solving predisposed consumer pain points, but also in helping to close the financial inclusion gap. This is because technology companies are agile – we can adapt our products and services quickly in response to the demands of the market, and scale for the future using a data-driven approach.', '', 'However, we believe that fintech companies and bricks-and-mortar financial institutions need to work collaboratively rather than in silos. Both these entities bring complementary skills that not only keep the sector at pace, but also enhance the opportunity for a wider cohort of underbanked groups to try a new approach to financial services.', '', 'Fintech companies and bricks-and-mortar financial institutions need to work collaboratively rather than in silos', '', 'Fintech companies’ nimbleness enables us to learn from our consumers’ patterns and identify products and services to help them. Banks keep regulatory processes synchronised and are trusted establishments for many. Some consumer groups have yet to move past cash on delivery or physically visiting the bank to pay in a cheque because they trust what they are used to. This is where banks and fintech firms can work hand in hand.', '', 'Simplifying financial processes', '', 'Saudi Arabia has adopted a digital mindset enabling fintech companies with the tools that simplify the Know Your Customer (KYC) process, a due diligence process that financial firms use to verify the identity of their customers and assess and monitor customer risk. This means it is easier to onboard those that live in remote areas or that have not used a bank before. But it is where regulation must keep up with our sector as the industry proliferates more products.', '', 'As the region becomes a powerhouse for the global economy, it is imperative that every household member feels empowered to manage their finances in much the same way that they might choose what meal to get on a food delivery app.', '', 'As the first independent financial super app for the Middle East, South Asia and Africa, YAP is creating an ecosystem for users to manage their finances all in one place, and from a mobile device. There is no cost to sign up and no minimum salary or minimum balance requirement, meaning it is accessible to all. We have created a digital financial toolkit that anyone can use.', '', \"By everyone, we mean young people as well. We have created a special product for them called YAP Young, which provides parents with the ability to bring financial literacy into their children’s lives by allowing them to create a sub-bank account for their children. They receive a prepaid card and access to the app. Parents can also set up spending limits and card controls and children can earn money by completing missions – a more engaging way to say 'household chores'. This encourages children to save for things that really matter to them with savings goals.\", '', 'By teaching people from a young age how to save and spend wisely, we are investing in our children’s futures.', '', 'Anas Zaidan is the co-founder and managing director of YAP, the first financial super app for consumers and businesses in the Middle East, Africa and South Asian markets']\n"
          ]
        },
        {
          "output_type": "stream",
          "name": "stderr",
          "text": [
            "Some weights of the model checkpoint at yiyanghkust/finbert-pretrain were not used when initializing BertForMaskedLM: ['cls.seq_relationship.bias', 'cls.seq_relationship.weight']\n",
            "- This IS expected if you are initializing BertForMaskedLM from the checkpoint of a model trained on another task or with another architecture (e.g. initializing a BertForSequenceClassification model from a BertForPreTraining model).\n",
            "- This IS NOT expected if you are initializing BertForMaskedLM from the checkpoint of a model that you expect to be exactly identical (initializing a BertForSequenceClassification model from a BertForSequenceClassification model).\n",
            "Some weights of the model checkpoint at bert-base-uncased were not used when initializing BertModel: ['cls.predictions.transform.LayerNorm.bias', 'cls.predictions.transform.dense.weight', 'cls.predictions.transform.LayerNorm.weight', 'cls.predictions.decoder.weight', 'cls.seq_relationship.weight', 'cls.predictions.bias', 'cls.predictions.transform.dense.bias', 'cls.seq_relationship.bias']\n",
            "- This IS expected if you are initializing BertModel from the checkpoint of a model trained on another task or with another architecture (e.g. initializing a BertForSequenceClassification model from a BertForPreTraining model).\n",
            "- This IS NOT expected if you are initializing BertModel from the checkpoint of a model that you expect to be exactly identical (initializing a BertForSequenceClassification model from a BertForSequenceClassification model).\n"
          ]
        },
        {
          "output_type": "stream",
          "name": "stdout",
          "text": [
            "['Dharmaj Crop Guard IPO', '', 'live bse live', '', 'nse live Volume Todays L/H More ×', '', \"Agrochemical company Dharmaj Crop Guard's Rs 251.15-crore initial public offering (IPO) will be launched this week, the ninth public issue to open for subscription in November.\", '', 'Here are 10 key things to know before subscribing to the offer:', '', '1) IPO dates', '', 'The public issue will open for bidding on November 28 and close on November 30, 2022.', '', '2) Price band', '', 'The offer price has been fixed at Rs 216-237 a share.', '', '3) IPO size', '', 'The company aims to raise Rs 251.15 crore through the offer at the upper price band. The issue comprises a fresh issue of shares worth Rs 216 crore and a sale of 14.83 lakh shares by promoters.', '', 'Promoters Manjulaben Rameshbhai Talavia will offload 7.09 lakh shares, Muktaben Jamankumar Talavia 6.56 lakh shares, Domadia Artiben 87,500 shares and Ilaben Jagdishbhai Savaliya 30,000 shares, the company has said.', '', 'Click Here To Read All IPO Related News', '', 'The company has reserved 55,000 shares for its employees who will get them a discount of Rs 10 a share to the final offer price.', '', 'Dharmaj Crop had already raised Rs 75 crore through the anchor book.', '', '4) Objectives of the IPO', '', 'The fresh issue proceeds will be used for setting up a manufacturing facility at Saykha in Gujarat (nearly Rs 105 crore) and to meet working capital requirements (Rs 45 crore) and for general corporate purposes.', '', 'The company will also pay its debts through fresh issue proceeds (Rs 10 crore), while the offer for sale money will go to promoters.', '', \"As of July 2022, the company's borrowings stood at Rs 51.56 crore, significantly up from Rs 36.9 crore as of March 2022.\", '', '5) Lot size', '', 'Investors can bid for a minimum of 60 shares and in multiples of 60 shares thereafter. Retail investors can apply for a minimum of Rs 14,220 worth of shares and the maximum would be Rs 1,99,080 for 14 lots.', '', 'Half of the offer is reserved for qualified institutional buyers, 15 percent for non-institutional investors and the remaining 35 percent for retail investors.', '', '6) Company profile', '', 'Dharmaj Crop is an agrochemical company engaged in the business of manufacturing, distributing, and marketing a range of agro-chemical formulations such as insecticides, fungicides, herbicides, plant-growth regulator, micro fertilisers and antibiotic to B2C and B2B customers.', '', 'The company exports to more than 25 countries in Latin America, East Africa, the Middle East and Far East Asia.', '', 'It has 464 registrations for agrochemical formulations from the Central Insecticide Board and Registration Committee (CIB&RC), of which 269 agrochemical formulations are for sale in India as well as abroad and 195 are exclusively for exports.', '', 'It has also applied for registrations of 18 agrochemical formulations and 17 agrochemical technicals. It has 157 trademark registrations.', '', 'Dharmaj has a manufacturing facility in Ahmedabad with an installed capacity of 25,500 MT for agro-chemical formulations.', '', 'The company sells its branded products in 17 states through 4,362 dealers. As of September 2022, it had more than 154 institutional products sold to more than 600 customers. Some of its key customers include Atul, Heranba Industries, Innovative Agritech, Meghmani Industries, Bharat Rasayan, Oasis, United Insecticides, and Sadik Agrochemicals.', '', '7) Financials', '', \"Dharmaj Crop's profit grew 37 percent in FY22 at Rs 28.69 crore from the previous year.\", '', 'The operating revenue for the year ended March 2022 grew by 30 percent to Rs 394.2 crore from the previous year and growth in FY21 was 53 percent, primarily due to an increase in sales of branded products, institutional sales and the addition of more dealers and customers.', '', 'Even at operating level, EBITDA (earnings before interest, tax, depreciation and amortisation) surged 42.4 percent to Rs 44.3 crore in FY22 and the the same in FY21 increased by 74 percent compared to FY20.', '', 'The margin, too, has been expanding at 11.2 percent in FY22 against 10.3 percent in FY21 and 9 percent in FY20.', '', 'For the four months period ended July FY23, the profit was Rs 18.4 crore on revenue of Rs 220.9 crore with the EBITDA margin at 12.2 percent.', '', '8) Promoters', '', 'Promoter Rameshbhai Ravajibhai Talavia, who is the managing director, has over 28 years of experience in the agrochemical industry, while Jamankumar Hansarajbhai Talavia, a whole time director, has spent 22 years in the industry.', '', 'Another whole-time director, Jagdishbhai Ravjibhai Savaliya has more than 21 years of experience in the sector, while Chief Financial Officer Vishal Domadia has over 12 years of experience.', '', 'The company is owned by its promoters and after the IPO, their shareholding will be reduced to around 73 percent.', '', '9) Risks and concerns', '', 'Here are some risks and concerns highlighted by KRChoksey Research, Anand Rathi, and Swastika Investmart:', '', \"a) The availability and price of raw materials are subject to a number of factors beyond the company's control. Any interruption in the supply or volatility in the prices may negatively impact the ability of DCGL to operate its production facilities.\", '', 'b) A change in product mix will impact the company’s revenue and profit margins.', '', 'c) Forex fluctuations might impact its revenue stream from international clients.', '', \"d) Inability to obtain required registrations and government approvals for its products might hamper the company's profitability.\", '', 'e) The company depends on the success of its relationships with its customers. The loss of one or more customers, the deterioration of their financial condition or prospects, or a reduction in their demand could adversely affect the business.', '', 'f) Increasing use of alternative pest management and crop-protection measures such as biotechnology products, pest-resistant seeds or genetically modified crops may reduce demand for their products and adversely affect the business.', '', 'g) Its manufacturing facility is concentrated in a single region and the inability to operate and grow business in this particular region may have an adverse effect on its business.', '', 'h) A change in government policies towards the agriculture sector or a reduction in subsidies and incentives to farmers could adversely affect the business.', '', 'i) The company faces competition from both domestic and multinational corporations and an inability to compete effectively could result in a loss of customers.', '', '10) Listing date', '', 'The company will finalise IPO share allotment by December 5. Refunds will be transferred to the bank accounts of unsuccessful investors and shares credited to the demat accounts of eligible investors by December 6.', '', 'Dharmaj Crop will make its market debut on December 8.', '', 'Elara Capital (India) and Monarch Networth Capital are the lead managers to the offer, while Link Intime India is the registrar to the IPO.', '', 'Disclaimer: The views and investment tips expressed by experts on Moneycontrol.com are their own and not those of the website or its management. Moneycontrol.com advises users to check with certified experts before taking any investment decisions.']\n"
          ]
        },
        {
          "output_type": "stream",
          "name": "stderr",
          "text": [
            "Some weights of the model checkpoint at yiyanghkust/finbert-pretrain were not used when initializing BertForMaskedLM: ['cls.seq_relationship.bias', 'cls.seq_relationship.weight']\n",
            "- This IS expected if you are initializing BertForMaskedLM from the checkpoint of a model trained on another task or with another architecture (e.g. initializing a BertForSequenceClassification model from a BertForPreTraining model).\n",
            "- This IS NOT expected if you are initializing BertForMaskedLM from the checkpoint of a model that you expect to be exactly identical (initializing a BertForSequenceClassification model from a BertForSequenceClassification model).\n",
            "Some weights of the model checkpoint at bert-base-uncased were not used when initializing BertModel: ['cls.predictions.transform.LayerNorm.bias', 'cls.predictions.transform.dense.weight', 'cls.predictions.transform.LayerNorm.weight', 'cls.predictions.decoder.weight', 'cls.seq_relationship.weight', 'cls.predictions.bias', 'cls.predictions.transform.dense.bias', 'cls.seq_relationship.bias']\n",
            "- This IS expected if you are initializing BertModel from the checkpoint of a model trained on another task or with another architecture (e.g. initializing a BertForSequenceClassification model from a BertForPreTraining model).\n",
            "- This IS NOT expected if you are initializing BertModel from the checkpoint of a model that you expect to be exactly identical (initializing a BertForSequenceClassification model from a BertForSequenceClassification model).\n"
          ]
        },
        {
          "output_type": "stream",
          "name": "stdout",
          "text": [
            "['RIYADH: A trade remedies system for international trade is set to lure investment and boost the competitiveness of domestic products, said the Saudi Minister of Commerce Majid Bin Abdullah Al-Qasabi.', '', 'The trade remedies will also help curb potential damage subsequent to an increase in imports by imposing measures against these imports at the Kingdom’s customs borders, the minister highlighted.', '', 'Al-Qasabi who is also the Chairman of the Board of Directors of the General Authority for Foreign Trade stressed that the trade remedies system will play a crucial role in shielding the Kingdom’s national industry from the damage that comes as a result of the dumped as well as subsidized imports.', '', 'Moreover, the system will also ensure maintaining the Kingdom’s exports that are subject to trade remedies procedures, the minister emphasized.', '', 'The minister said the cabinet’s approval related to the system is also set to create new industries and generate job opportunities, all in line with the goals and objectives of Saudi Arabia’s Vision 2030, reported Saudi Press Agency.', '', 'Last month, the Saudi General Authority for Foreign Trade, in collaboration with the World Trade Organization, hosted a workshop in Riyadh from Oct. 25-27.', '', 'The workshop, titled “Market Access,” was held by a group of international experts at the WTO. It included a number of representatives from government agencies.', '', 'The event aimed to build the skills of specialists in government agencies through an understanding of market access, customs and non-tariff procedures, and the work of the WTO.', '', 'It also demonstrated how participants can benefit from WTO databases.', '', 'The workshop aimed to foster technical expertise and knowledge of the basic principles and rules of the WTO related to tariffs and concession schedules, ongoing issues being discussed at WTO, the Kingdom’s obligations toward other countries in trade agreements and the best practices of other countries.', '', 'Established in Jan. 2019, the General Authority of Foreign Trade is accountable for enhancing international commercial gains and investment activities in the Kingdom while defending its interests in the foreign trade field, thus contributing to the development of its national economy.']\n"
          ]
        },
        {
          "output_type": "stream",
          "name": "stderr",
          "text": [
            "Some weights of the model checkpoint at yiyanghkust/finbert-pretrain were not used when initializing BertForMaskedLM: ['cls.seq_relationship.bias', 'cls.seq_relationship.weight']\n",
            "- This IS expected if you are initializing BertForMaskedLM from the checkpoint of a model trained on another task or with another architecture (e.g. initializing a BertForSequenceClassification model from a BertForPreTraining model).\n",
            "- This IS NOT expected if you are initializing BertForMaskedLM from the checkpoint of a model that you expect to be exactly identical (initializing a BertForSequenceClassification model from a BertForSequenceClassification model).\n",
            "Some weights of the model checkpoint at bert-base-uncased were not used when initializing BertModel: ['cls.predictions.transform.LayerNorm.bias', 'cls.predictions.transform.dense.weight', 'cls.predictions.transform.LayerNorm.weight', 'cls.predictions.decoder.weight', 'cls.seq_relationship.weight', 'cls.predictions.bias', 'cls.predictions.transform.dense.bias', 'cls.seq_relationship.bias']\n",
            "- This IS expected if you are initializing BertModel from the checkpoint of a model trained on another task or with another architecture (e.g. initializing a BertForSequenceClassification model from a BertForPreTraining model).\n",
            "- This IS NOT expected if you are initializing BertModel from the checkpoint of a model that you expect to be exactly identical (initializing a BertForSequenceClassification model from a BertForSequenceClassification model).\n"
          ]
        },
        {
          "output_type": "stream",
          "name": "stdout",
          "text": [
            "['KYIV -- President Volodymyr Zelenskiy declared that Ukraine “cannot be broken” as he cited his country’s fight against the Russian invasion and marked the anniversary of the famine regarded by Ukrainians to be a deliberate act perpetrated by Soviet dictator Joseph Stalin.', '', \"Live Briefing: Russia's Invasion Of Ukraine RFE/RL's Live Briefing gives you all of the latest developments on Russia's ongoing invasion, Kyiv's counteroffensive, Western military aid, global reaction, and the plight of civilians. For all of RFE/RL's coverage of the war, click here.\", '', '\"Ukrainians went through very terrible things...Once they wanted to destroy us with hunger -- now, with darkness and cold,\" Zelenskiy said on November 26 in a video message.', '', '\"We cannot be broken,\" he declared.', '', '', '', 'The prime ministers of EU and NATO members Belgium, Lithuania, and Poland were in Kyiv to mark the day and to attend a summit hosted by Zelenskiy to press the “Grain From Ukraine” initiative designed to get crucial supplies to world markets. German Chancellor Olaf Scholz and French President Emmanuel Macron were among those speaking through video addresses.', '', '', '', 'Zelenskiy’s remarks came amid widespread cuts in power and water supplies in his country after weeks of Russian strikes on Ukrainian infrastructure and as temperatures plunge with the beginning of winter.', '', '', '', \"Zelenskiy and other leaders commemorated the victims of the Holodomor famine, which took place in 1932-33 as Stalin's police forced peasants in Ukraine to join collective farms by requisitioning their grain and other foodstuffs.\", '', 'Historians say the failure to properly harvest crops in Ukraine in 1932 under Soviet mismanagement was the main cause of the famine.', '', '', '', 'It is estimated that up to 9 million people died as a result of executions, deportation, and starvation during the Stalin-era campaign.', '', 'Many Ukrainians consider the famine an act of genocide aimed at wiping out Ukrainian farmers.', '', '', '', 'Along with Ukraine, at least 16 other countries have officially recognized the Holodomor as “genocide.”', '', 'In October 2018, the U.S. Senate adopted a nonbinding resolution recognizing that Stalin and those around him committed genocide against the Ukrainians in 1932-33.', '', '', '', \"German lawmakers are preparing to recognize the Holodomor as genocide, according to a draft text seen by the AFP news agency of a joint resolution from Germany's ruling coalition and opposition.\", '', '', '', 'Moscow has long denied any systematic effort to target Ukrainians, arguing that a poor harvest at the time wiped out many in other parts of the Soviet Union.', '', 'Polish Prime Minister Mateusz Morawiecki said that he \"honored the memory of the Holodomor victims\" at a memorial in the Ukrainian capital.', '', '', '', 'Belgian Prime Minister Alexander De Croo, on his first visit to Kyiv since the Russian invasion, said on Twitter that \"after the heavy bombing of recent days, we stand with the people of Ukraine. More than ever before.\"', '', '', '', '\"With the cold winter months ahead, Belgium is releasing new humanitarian and military aid,\" he added.', '', '', '', 'Zelenskiy told the grain summit that Kyiv is one of the guarantors of world food security and will fulfill its duties despite the Russian invasion, citing the new “Grain From Ukraine” initiative.', '', '', '', 'He pressed world leaders to support the initiative aimed at feeding about 5 million people in poor countries, particularly Ethiopia, Sudan, South Sudan, Somalia, Yemen, Congo, Kenya, and Nigeria.', '', '', '', 'Speaking through video statements to the summit, Scholz and Macron unveiled new financial packages designed to aid Ukrainian grain exports, which have been hit hard by the war, causing food shortages in many of the world’s poorer nations.', '', '', '', '\"The most vulnerable countries must not pay the price of a war they did not want,\" Macron said.', '', '', '', \"Zelenskiy said the Black Sea Grain Initiative -- brokered by Turkey and the UN and agreed to by Russia and Ukraine -- is not operating at full capacity, blaming what he called Moscow's efforts to delay the movement of ships, leaving many vessels trapped at Ukrainian ports.\", '', '', '', 'The deal took effect in August, aimed at unblocking grain shipments to countries in Africa, the Middle East, and parts of Asia.', '', '', '', \"Ukraine and Russia are key global suppliers of wheat, barley, sunflower oil, and other food to those countries, and Russia was the world's top exporter of fertilizer before it launched its ongoing invasion of Ukraine in February.\", '', '', '', 'Many in the West have accused Russia of weaponizing the shipment of crucial food-related supplies to world markets. Moscow denies the accusations.', '', 'Meanwhile, throughout Ukraine, millions of people are still without heat or electricity after the recent devastating Russian air strikes on infrastructure sites.', '', '', '', 'Authorities on November 26 were gradually restoring power in many cities -- helped by the reconnection to the grid of the nation’s four nuclear plants.', '', '', '', 'Fighting between Russian and Ukrainian forces was reported in the east and south of the country, as Kyiv’s troops continue their counteroffensive, which has recaptured thousands of kilometers of territory seized by Russia early in the war.', '', 'In the recently liberated southern city of Kherson and its environs, authorities said at least 32 people have been killed by Russian shelling since pro-Kremlin forces withdrew two weeks ago and moved to the eastern bank of the Dnieper River.', '', '', '', '\"Daily Russian shelling is destroying the city and killing peaceful local residents. In all, Russia has killed 32 civilians in the Kherson region since the de-occupation,\" Ihor Klymenko, chief of the National Police of Ukraine, said on Facebook.', '', '', '', '\"Many people are evacuating to seek refuge in calmer regions of the country. But many residents remain in their homes, and we need to provide them with the maximum possible security,\" he added.', '', 'With reporting by AFP and AP']\n"
          ]
        },
        {
          "output_type": "stream",
          "name": "stderr",
          "text": [
            "Some weights of the model checkpoint at yiyanghkust/finbert-pretrain were not used when initializing BertForMaskedLM: ['cls.seq_relationship.bias', 'cls.seq_relationship.weight']\n",
            "- This IS expected if you are initializing BertForMaskedLM from the checkpoint of a model trained on another task or with another architecture (e.g. initializing a BertForSequenceClassification model from a BertForPreTraining model).\n",
            "- This IS NOT expected if you are initializing BertForMaskedLM from the checkpoint of a model that you expect to be exactly identical (initializing a BertForSequenceClassification model from a BertForSequenceClassification model).\n",
            "Some weights of the model checkpoint at bert-base-uncased were not used when initializing BertModel: ['cls.predictions.transform.LayerNorm.bias', 'cls.predictions.transform.dense.weight', 'cls.predictions.transform.LayerNorm.weight', 'cls.predictions.decoder.weight', 'cls.seq_relationship.weight', 'cls.predictions.bias', 'cls.predictions.transform.dense.bias', 'cls.seq_relationship.bias']\n",
            "- This IS expected if you are initializing BertModel from the checkpoint of a model trained on another task or with another architecture (e.g. initializing a BertForSequenceClassification model from a BertForPreTraining model).\n",
            "- This IS NOT expected if you are initializing BertModel from the checkpoint of a model that you expect to be exactly identical (initializing a BertForSequenceClassification model from a BertForSequenceClassification model).\n"
          ]
        },
        {
          "output_type": "stream",
          "name": "stdout",
          "text": [
            "['']\n"
          ]
        },
        {
          "output_type": "stream",
          "name": "stderr",
          "text": [
            "Some weights of the model checkpoint at yiyanghkust/finbert-pretrain were not used when initializing BertForMaskedLM: ['cls.seq_relationship.bias', 'cls.seq_relationship.weight']\n",
            "- This IS expected if you are initializing BertForMaskedLM from the checkpoint of a model trained on another task or with another architecture (e.g. initializing a BertForSequenceClassification model from a BertForPreTraining model).\n",
            "- This IS NOT expected if you are initializing BertForMaskedLM from the checkpoint of a model that you expect to be exactly identical (initializing a BertForSequenceClassification model from a BertForSequenceClassification model).\n",
            "Some weights of the model checkpoint at bert-base-uncased were not used when initializing BertModel: ['cls.predictions.transform.LayerNorm.bias', 'cls.predictions.transform.dense.weight', 'cls.predictions.transform.LayerNorm.weight', 'cls.predictions.decoder.weight', 'cls.seq_relationship.weight', 'cls.predictions.bias', 'cls.predictions.transform.dense.bias', 'cls.seq_relationship.bias']\n",
            "- This IS expected if you are initializing BertModel from the checkpoint of a model trained on another task or with another architecture (e.g. initializing a BertForSequenceClassification model from a BertForPreTraining model).\n",
            "- This IS NOT expected if you are initializing BertModel from the checkpoint of a model that you expect to be exactly identical (initializing a BertForSequenceClassification model from a BertForSequenceClassification model).\n"
          ]
        },
        {
          "output_type": "stream",
          "name": "stdout",
          "text": [
            "['']\n"
          ]
        },
        {
          "output_type": "stream",
          "name": "stderr",
          "text": [
            "Some weights of the model checkpoint at yiyanghkust/finbert-pretrain were not used when initializing BertForMaskedLM: ['cls.seq_relationship.bias', 'cls.seq_relationship.weight']\n",
            "- This IS expected if you are initializing BertForMaskedLM from the checkpoint of a model trained on another task or with another architecture (e.g. initializing a BertForSequenceClassification model from a BertForPreTraining model).\n",
            "- This IS NOT expected if you are initializing BertForMaskedLM from the checkpoint of a model that you expect to be exactly identical (initializing a BertForSequenceClassification model from a BertForSequenceClassification model).\n",
            "Some weights of the model checkpoint at bert-base-uncased were not used when initializing BertModel: ['cls.predictions.transform.LayerNorm.bias', 'cls.predictions.transform.dense.weight', 'cls.predictions.transform.LayerNorm.weight', 'cls.predictions.decoder.weight', 'cls.seq_relationship.weight', 'cls.predictions.bias', 'cls.predictions.transform.dense.bias', 'cls.seq_relationship.bias']\n",
            "- This IS expected if you are initializing BertModel from the checkpoint of a model trained on another task or with another architecture (e.g. initializing a BertForSequenceClassification model from a BertForPreTraining model).\n",
            "- This IS NOT expected if you are initializing BertModel from the checkpoint of a model that you expect to be exactly identical (initializing a BertForSequenceClassification model from a BertForSequenceClassification model).\n"
          ]
        },
        {
          "output_type": "stream",
          "name": "stdout",
          "text": [
            "['An Israeli man succumbed to his injuries and passed away, on Saturday, after he had sustained injuries in one of the twin blasts that hit Jerusalem, raising the death toll from the attack to two. Earlier this week, Jerusalem was hit by two explosions, one of which resulted in the death of Aryeh Schupak, a 15-year-old Israeli-Canadian national.', '', 'The victim who recently passed away was a man named Tadesse Teshome Ben Ma’ada, said the Shaare Zedek Medical Centre in Jerusalem. They also said that he was critically injured after the first blast that took place on Wednesday near a typically crowded bus stop on the outskirts of the city.', '', '', '', 'ALSO READ | 16-year-old boy killed, 22 injured in two explosions near bus stops in Jerusalem', '', '“The trauma and intensive care teams of Shaare Zedek fought for his life, but unfortunately his injury was very fatal,” said the hospital in a statement. It added, “We offer our deepest condolences to the family.” The 50-year-old immigrated from Ethiopia nearly two decades ago, said the local media reports.', '', 'ALSO WATCH | The West Asia Post: Twin blasts rock Jerusalem', '', 'The city was rocked by two explosions on Wednesday morning (November 23) within an hour. According to media reports, the first one took place at around 7:00 am at the main entrance of Jerusalem in Givat Shaul. At 7:30 a second blast was reported at the Ramot junction which is another entrance to the city.', '', 'ALSO READ | 18-year-old Palestinian kills three Israelis in West Bank', '', 'At least 18 injuries were reported at the time while three were in critical condition after the attack. Subsequently, the Israeli police blamed Palestinians but no group has claimed responsibility yet. This comes amid a rise in tensions between Israelis and Palestinians and an uptick in attacks from both sides.', '', '(With inputs from agencies)', '', '', '', 'WATCH WION LIVE HERE']\n"
          ]
        },
        {
          "output_type": "stream",
          "name": "stderr",
          "text": [
            "Some weights of the model checkpoint at yiyanghkust/finbert-pretrain were not used when initializing BertForMaskedLM: ['cls.seq_relationship.bias', 'cls.seq_relationship.weight']\n",
            "- This IS expected if you are initializing BertForMaskedLM from the checkpoint of a model trained on another task or with another architecture (e.g. initializing a BertForSequenceClassification model from a BertForPreTraining model).\n",
            "- This IS NOT expected if you are initializing BertForMaskedLM from the checkpoint of a model that you expect to be exactly identical (initializing a BertForSequenceClassification model from a BertForSequenceClassification model).\n",
            "Some weights of the model checkpoint at bert-base-uncased were not used when initializing BertModel: ['cls.predictions.transform.LayerNorm.bias', 'cls.predictions.transform.dense.weight', 'cls.predictions.transform.LayerNorm.weight', 'cls.predictions.decoder.weight', 'cls.seq_relationship.weight', 'cls.predictions.bias', 'cls.predictions.transform.dense.bias', 'cls.seq_relationship.bias']\n",
            "- This IS expected if you are initializing BertModel from the checkpoint of a model trained on another task or with another architecture (e.g. initializing a BertForSequenceClassification model from a BertForPreTraining model).\n",
            "- This IS NOT expected if you are initializing BertModel from the checkpoint of a model that you expect to be exactly identical (initializing a BertForSequenceClassification model from a BertForSequenceClassification model).\n"
          ]
        },
        {
          "output_type": "stream",
          "name": "stdout",
          "text": [
            "['Middle East Asia-Pacific to account for 58% of global air passengers by 2040: ACI', '', 'RIYADH: Air passenger demand is likely to double globally over the next 20 years, with Asia-Pacific and the Middle East accounting for 58 percent of the volume, according to a report by Airports Council International.', '', \"Global passenger numbers are forecast to rise from 9.2 billion in 2019 to about 19 billion in 2040 predicted the ACI Asia-Pacific's Airport Industry Outlook, a quarterly assessment of the airports' performances.\", '', 'Of this volume, Middle Eastern airports are expected to handle 1.1 billion passengers by 2040 – a significant increase of nearly 300 percent of the combined traffic of 505 million they handled in 2019.', '', 'ACI Director General of ACI Asia-Pacific Stefano Baronci said that the region must prepare itself for the oncoming influx: \"The consistent improvement in passenger volumes in the region is a positive indication of a sustained recovery of the industry following prolonged efforts towards rebuilding passenger confidence in air travel.\"', '', 'He said restoring international connectivity will take longer and will be partly dependent on the decision of China to re-connect to the World. \"The macroeconomic headwinds, less acute in Asia than other western regions, should not hamper a process of growth, subject to continue to maintain the freedom to travel without restrictions.\"', '', '\"All the stakeholders engaged in the aviation ecosystem must prepare to the surge in traffic,” insisted the ACI director general.', '', 'The Middle East is an ideally located axis for travel — aircraft flying from the geographical crossroads can reach almost all of Asia, Africa, and Europe within eight hours.', '', 'Tourism is one of the pillars of the Kingdom’s Vision 2030, to contribute to diversifying the base of the national economy, attracting investments, increasing sources of income, and providing job opportunities for citizens, as the sector is witnessing rapid growth as a result of plans to promote the tourism sector.', '', 'Last month, a report by the World Tourism Organization listed Saudi Arabia as top of the Group of 20 countries for the flow rating of international tourists in the first seven months of 2022.', '', 'The report, released during the G20 tourism ministers’ meeting held in Bali, Indonesia, did not detail the exact number of travelers who visited the Kingdom, but claimed the sector saw a growth rate of 121 percent in the first half of 2022.', '', 'During the event, Saudi Arabia’s Tourism Minister Ahmed Al-Khateeb said the surge in tourist inflow aligns with the Kingdom’s economic diversification policies and aims to increase tourism’s contribution to the country’s gross domestic product, as outlined in Vision 2030, the Saudi Press Agency reported.', '', 'Calling Saudi Arabia one of the fastest-growing markets for tourism, Al-Khateeb said the Kingdom’s tourism sector is accelerating at a rate of 14 percent compared to the pre-coronavirus pandemic period.', '', 'Prior to the COVID-19 pandemic, 450,000 tourist visas were issued, since the Kingdom’s Tourism Authority launched the tourist visa program in 2019, by targeting 49 countries in the initial stage, and facilitated access to tourist visas electronically or through entry points to the Kingdom within specific regulatory controls.', '', 'Earlier in June, Al-Khateeb said that Saudi Arabia has allocated $100 million to provide training for 100,000 people to work in the tourism and sustainability sector.', '', 'He added that 90 hotels were launched in the Kingdom as a part of its tourism strategy, and more hotels will be opened soon, with 70 percent being funded by the private sector.', '', 'Al-Khateeb, in June, told AFP that the Kingdom is hoping to attract 12 million foreign visitors in 2022, up from the 4 million tourists who visited Saudi Arabia in 2021.', '', '“Saudi Arabia will change the tourism landscape globally. The destinations that Saudi will offer by 2030, it’s something completely different,” he said.']\n"
          ]
        },
        {
          "output_type": "stream",
          "name": "stderr",
          "text": [
            "Some weights of the model checkpoint at yiyanghkust/finbert-pretrain were not used when initializing BertForMaskedLM: ['cls.seq_relationship.bias', 'cls.seq_relationship.weight']\n",
            "- This IS expected if you are initializing BertForMaskedLM from the checkpoint of a model trained on another task or with another architecture (e.g. initializing a BertForSequenceClassification model from a BertForPreTraining model).\n",
            "- This IS NOT expected if you are initializing BertForMaskedLM from the checkpoint of a model that you expect to be exactly identical (initializing a BertForSequenceClassification model from a BertForSequenceClassification model).\n",
            "Some weights of the model checkpoint at bert-base-uncased were not used when initializing BertModel: ['cls.predictions.transform.LayerNorm.bias', 'cls.predictions.transform.dense.weight', 'cls.predictions.transform.LayerNorm.weight', 'cls.predictions.decoder.weight', 'cls.seq_relationship.weight', 'cls.predictions.bias', 'cls.predictions.transform.dense.bias', 'cls.seq_relationship.bias']\n",
            "- This IS expected if you are initializing BertModel from the checkpoint of a model trained on another task or with another architecture (e.g. initializing a BertForSequenceClassification model from a BertForPreTraining model).\n",
            "- This IS NOT expected if you are initializing BertModel from the checkpoint of a model that you expect to be exactly identical (initializing a BertForSequenceClassification model from a BertForSequenceClassification model).\n"
          ]
        },
        {
          "output_type": "stream",
          "name": "stdout",
          "text": [
            "['Central banks around the world must be steadfast in their inflation fight even though economies will suffer as a result, the OECD said this week.The organization boosted its 2023 inflation estimates and said it expects price increases the following year will remain above the targets set by many global central banks. While economies will slow because of tighter monetary policies, the OECD didn’t forecast a recession.Though a survey of US manufacturers showed a fifth month of shrinking activity, another report indicated a healthy increase in business investment. A survey of the euro area businesses indicated that any downturn may not be severe as initially expected.Meantime, the Bank of China eased reserve requirements for banks to help bolster the world’s second-largest economy.Here are some of the charts that appeared on Bloomberg this week on the latest developments in the global economy The world’s central banks must keep raising interest rates to fight pervasive inflation, even as the global economy sinks into a significant slowdown, according to the OECD. The organization raised inflation projections for next year and said that while the global economy will suffer a “significant growth slowdown,” it’s not forecasting a recession.This week saw more major rate hikes across the world, with 75 basis-point hikes in Sweden, New Zealand and South Africa and full percentage-point moves in Pakistan and Nigeria. Turkey went the opposite way, cutting rates by 150 basis points.Business activity contracted for a fifth month in November as demand faltered, while inflationary pressures continued to slowly ease. The S&P Global flash composite purchasing managers’ index slid to the second-lowest level since the immediate aftermath of the pandemic.Orders placed with US factories for business equipment rebounded in October, suggesting capital spending plans are holding up in the face of higher borrowing costs and broader economic uncertainty. Core capital goods shipments jumped the most since the start of the year, suggesting a solid start to fourth-quarter gross domestic product Euro-area businesses see tentative signs that the region’s economic slump may be easing as record inflation cools and expectations for future production improve. A gauge measuring activity in manufacturing and services unexpectedly rose in November, according to S&P Global.Sweden’s home-price decline accelerated in October, as the Nordic country gripped by the most severe housing slump in three decades shows what may lie ahead for many other developed economies.For the second time this year, China’s central bank cut the amount of cash lenders must hold in reserve, ramping up support for an economy racked by surging Covid cases and a continued property downturn. The People’s Bank of China reduced the reserve requirement ratio for most banks by 25 basis points.Signs are growing in China that local government debt burdens are becoming unsustainable. China’s 31 provincial governments have a stockpile of outstanding bonds that’s close to the Ministry of Finance’s risk threshold of 120% of income. A major cause of the financial squeeze is the property crisis.Australia has spent big to attract swathes of Indian tourists to its shores, signed a free-trade deal with post-Brexit Britain and uncovered new Middle East markets during its 30-month trade rift with China. Still, outside iron ore and other key commodities, there’s been substantial pain for exporters.Chile is set to lead the world into a steep interest rate-cutting cycle next year as inflation slows and its economy goes from boom to bust, according to swap markets. Traders are forecasting more than 5 percentage points in cuts in the next 12 months after a surprise inflation print last month and as the economy teeters on the edge of recession.Shipments of boats, vehicles and computer parts are leading Mexico’s export boom, showing growing US demand for industrial products from its southern neighbor. The export of boats produced in Mexico increased 266% in September compared to a year ago, the fastest-growing item among Mexican exports worth more than $100 million.(With assistance from Maya Averbuch, Sebastian Boyd, Valentina Fuentes, Sybilla Gross, William Horobin, John Liu, Yujing Liu, Swati Pandey, Reade Pickert, Jana Randow, Niclas Rolander, Zoe Schneeweiss and Ben Westcott)']\n"
          ]
        },
        {
          "output_type": "stream",
          "name": "stderr",
          "text": [
            "Some weights of the model checkpoint at yiyanghkust/finbert-pretrain were not used when initializing BertForMaskedLM: ['cls.seq_relationship.bias', 'cls.seq_relationship.weight']\n",
            "- This IS expected if you are initializing BertForMaskedLM from the checkpoint of a model trained on another task or with another architecture (e.g. initializing a BertForSequenceClassification model from a BertForPreTraining model).\n",
            "- This IS NOT expected if you are initializing BertForMaskedLM from the checkpoint of a model that you expect to be exactly identical (initializing a BertForSequenceClassification model from a BertForSequenceClassification model).\n",
            "Some weights of the model checkpoint at bert-base-uncased were not used when initializing BertModel: ['cls.predictions.transform.LayerNorm.bias', 'cls.predictions.transform.dense.weight', 'cls.predictions.transform.LayerNorm.weight', 'cls.predictions.decoder.weight', 'cls.seq_relationship.weight', 'cls.predictions.bias', 'cls.predictions.transform.dense.bias', 'cls.seq_relationship.bias']\n",
            "- This IS expected if you are initializing BertModel from the checkpoint of a model trained on another task or with another architecture (e.g. initializing a BertForSequenceClassification model from a BertForPreTraining model).\n",
            "- This IS NOT expected if you are initializing BertModel from the checkpoint of a model that you expect to be exactly identical (initializing a BertForSequenceClassification model from a BertForSequenceClassification model).\n"
          ]
        },
        {
          "output_type": "stream",
          "name": "stdout",
          "text": [
            "['The chances of Imran Khan winning the elections of 2018 were quite murky. Despite his unparalleled fan base and populist rhetoric appeals to the young, and labor class of Pakistan, the legitimacy of his government is marred with allegations of fraud, rigging, and exploitation.', '', 'Some argue that his candidacy was a marketing tactic used by the ‘Establishment’ in Pakistan to form a government that is rather weak and dependent so that the ‘Establishment’ can continue its control over domestic security issues including the Nuclear escalation and relations with India.', '', 'But by and large, Khan won the elections.', '', 'Maybe it was the stardom attached to the name ‘Imran Khan’ and Pakistanis not wanting to confide in the same faces ruling them for centuries.', '', 'Maybe it was the mismanagement and violence that marred election day with unfathomable delays in result declaration in metropolis cities, coupled with post-poll manipulation.', '', 'Maybe it was the judicial-military nexus, that placed all the votes in the right places by not allowing voters to use their will during elections.', '', 'Maybe it was the 7 years-old narcotics case hearing moving forward against the stalwart of Pakistan Muslim League-Nawaz, Hanif Abbasi, giving him a life sentence in a rare late-night session of court, four days ahead of the elections that effectively knocked PML-N out of the race.', '', 'But the deal was done and can’t be undone and Imran Khan became the Prime Minister of Pakistan, for better or worse.', '', 'Khan the Celebrity', '', 'Pakistani nationals were victims of the financial crisis, unemployed people, those who lost their homes, and who were in debt; these people felt like the two parties ruling Pakistan for centuries had destroyed their country’s economy.', '', 'Imran Khan, with his humongous stardom as an athlete and philanthropist, seemed like the only ‘Messiah’ that could save them from all the atrocities they were facing.', '', 'Though, a significant number of votes were cast in favor of PML-N but not in the places that would have locked the win. So Imran Khan, persuaded the angry Pakistanis, the youth, and the labor class who were fed up with being handed over in trade deals with other nations.', '', 'Khan, a socialite that he was, knew how to connect with these agitated masses. Their grievances were clear as a day and so he gave them pretty promises wrapped up in his vibrant rallies filled with catchy songs. His huge social media presence along with the ‘Naya Pakistan’ slogan further amplified his staunch.', '', 'But there lies a challenge as to why Khan became the top highlight of this era. To many who were tired of politicians filling their own pockets, and amid the corruption charges on Nawaz Sharif, Khan’s celebrity status, his colorful personality, his promise of a corruption-free Pakistan, and his unconventional ‘Don’t Panic’ attitude – all of this made Khan seem like the only option who would deliver a better life and nation and, if not that, then at least would be the eradicator of what Pakistan had become.', '', 'Khan the Totalitarian', '', 'The other side of the coin sees Imran Khan as a narcissist, self-centered, and power-hungry mogul. After achieving his eternal craving of becoming the Prime Minister, he hardly showed any respect for the institutions of the country. More often than not he refused to attend the sessions of Parliament, with his excuse being the presence of members of the opposition party whom he referred to as ‘Crooks’ and ‘Chors’ (thieves).', '', 'This resulted in laws, instead of passing through an ordinary law-making process, being passed through presidential ordinances, with very limited power. We can clearly say that these laws were passed without debate, consensus, and thorough examination, negating the very foundation of constitutional requirements.', '', 'Additionally, Khan likes to fabricate stories in his speeches, a lot. In this vein, he brings down any democratic provision that proves him wrong, including targeting political parties on concocted charges of corruption; sustained attacks on the media; undermining law authorities, even the Supreme Court is not exempted from his allegations.', '', 'Through the abrogation of rule of law, irresponsible remarks about institutions, and disdain toward democracy, Khan himself created a fragile parliamentary system, which then collapsed on him. Not only this, but he has fractured the already dwindling democracy of Pakistan into a whole new level.', '', 'Khan the Leader', '', 'Khan came onto the political scene when Pakistan was facing a volatile situation both at home and abroad, coupled with the tensions going on with the Americas, and the rampant inflation, he was still able to take some impressive measures. His work related to health, relief programs, house loans, the environment, entrepreneurship, and the COVID response is admirable.', '', 'In addition, his billion tree tsunami and the building of several small dams initiated an environment-friendly drive in the climate change-affected country. But was he able to deliver on the ‘Promises’ made to the nation? Absolutely Not.', '', 'Perhaps he should have paid more attention to the cabinet as the abrupt changes in the system dwindled the confidence of investors in Pakistan’s economic machinery. His careless handling of some important economic programs including the CPEC decelerated the capital influx that caused the GDP to drop considerably.', '', 'To top it all off, Pakistan, in 2021 dropped from 124th place to 140th place according to Corruption Perceptions Index (CPI), leaving an ugly mark on Khan’s corruption eradication promises on which he has led the foundation of his political career. Maybe he should have abided by the agenda of progression in order to gear up his performance instead of getting involved in blame and shame politics.', '', 'Khan the funambulist', '', 'The important reason why Khan has a cult following in Pakistan is his unfiltered and raw opinions about topics like the Americas, and Afghanistan which he keeps casting in his speeches. And, the audience, mostly the social media-induced young generation eats it all up like a sweet concoction, without paying heed to the implications it will bring to the foreign policy of Pakistan.', '', 'Khan’s decision to appoint Usman Buzdar, an underqualified and inexperienced newcomer to a vital position in the key city of Punjab pretty much sums up his political foresight. Perhaps, the most interesting yet debatable contrivance of his regime is his relentless attitude toward the United States, no previous Prime Minister of Pakistan was able to say ‘Absolutely No’ to the US as it had many allies in the domestic political platform of Pakistan. This stance of Khan was admired a lot in the country, with the phrase being trending in Pakistan. But the remarks came with ramifications for Pakistan on the international forum. This whole scenario further makes people question his political sanity.', '', 'Imran Khan possesses all the characteristics of a populist leader and in Populism: A Very Short Introduction, Cas Mudde says: “Populists are dividers, not uniters” they split society into “two homogenous and antagonistic groups: the pure people on the one end and the corrupt elite on the other.” True to this narration, Khan has divided the nation into two groups of ‘Evil and Good’ people, and the consequences are detrimental to the stability of the Islamic Republic of Pakistan.', '', 'Conclusion', '', 'To sum it all up, Imran Khan, despite his misgivings, his warts, his narcissism, and his unhinged political views, is still able to reach a class of people that have seen Pakistan erode for centuries and consider him the last hope for the country. But he certainly is not the best choice for democracy as his political understanding is ruined by his self-righteous approach. In this manner, he is no better than former US President Trump who incited his supporters to pass on the U.S. Capitol to forestall the peaceful transition of power after his electoral defeat. It is precise to say that Pakistan has fallen into a deep cauldron and only a Magic Wand can heal it at this point. Though Khan has not singularly created this cauldron, he most definitely is exploiting and feeding on it.']\n"
          ]
        },
        {
          "output_type": "stream",
          "name": "stderr",
          "text": [
            "Some weights of the model checkpoint at yiyanghkust/finbert-pretrain were not used when initializing BertForMaskedLM: ['cls.seq_relationship.bias', 'cls.seq_relationship.weight']\n",
            "- This IS expected if you are initializing BertForMaskedLM from the checkpoint of a model trained on another task or with another architecture (e.g. initializing a BertForSequenceClassification model from a BertForPreTraining model).\n",
            "- This IS NOT expected if you are initializing BertForMaskedLM from the checkpoint of a model that you expect to be exactly identical (initializing a BertForSequenceClassification model from a BertForSequenceClassification model).\n",
            "Some weights of the model checkpoint at bert-base-uncased were not used when initializing BertModel: ['cls.predictions.transform.LayerNorm.bias', 'cls.predictions.transform.dense.weight', 'cls.predictions.transform.LayerNorm.weight', 'cls.predictions.decoder.weight', 'cls.seq_relationship.weight', 'cls.predictions.bias', 'cls.predictions.transform.dense.bias', 'cls.seq_relationship.bias']\n",
            "- This IS expected if you are initializing BertModel from the checkpoint of a model trained on another task or with another architecture (e.g. initializing a BertForSequenceClassification model from a BertForPreTraining model).\n",
            "- This IS NOT expected if you are initializing BertModel from the checkpoint of a model that you expect to be exactly identical (initializing a BertForSequenceClassification model from a BertForSequenceClassification model).\n"
          ]
        },
        {
          "output_type": "stream",
          "name": "stdout",
          "text": [
            "['The chances of Imran Khan winning the elections of 2018 were quite murky. Despite his unparalleled fan base and populist rhetoric appeals to the young, and labor class of Pakistan, the legitimacy of his government is marred with allegations of fraud, rigging, and exploitation.', '', 'Some argue that his candidacy was a marketing tactic used by the ‘Establishment’ in Pakistan to form a government that is rather weak and dependent so that the ‘Establishment’ can continue its control over domestic security issues including the Nuclear escalation and relations with India.', '', 'But by and large, Khan won the elections.', '', 'Maybe it was the stardom attached to the name ‘Imran Khan’ and Pakistanis not wanting to confide in the same faces ruling them for centuries.', '', 'Maybe it was the mismanagement and violence that marred election day with unfathomable delays in result declaration in metropolis cities, coupled with post-poll manipulation.', '', 'Maybe it was the judicial-military nexus, that placed all the votes in the right places by not allowing voters to use their will during elections.', '', 'Maybe it was the 7 years-old narcotics case hearing moving forward against the stalwart of Pakistan Muslim League-Nawaz, Hanif Abbasi, giving him a life sentence in a rare late-night session of court, four days ahead of the elections that effectively knocked PML-N out of the race.', '', 'But the deal was done and can’t be undone and Imran Khan became the Prime Minister of Pakistan, for better or worse.', '', 'Khan the Celebrity', '', 'Pakistani nationals were victims of the financial crisis, unemployed people, those who lost their homes, and who were in debt; these people felt like the two parties ruling Pakistan for centuries had destroyed their country’s economy.', '', 'Imran Khan, with his humongous stardom as an athlete and philanthropist, seemed like the only ‘Messiah’ that could save them from all the atrocities they were facing.', '', 'Though, a significant number of votes were cast in favor of PML-N but not in the places that would have locked the win. So Imran Khan, persuaded the angry Pakistanis, the youth, and the labor class who were fed up with being handed over in trade deals with other nations.', '', 'Khan, a socialite that he was, knew how to connect with these agitated masses. Their grievances were clear as a day and so he gave them pretty promises wrapped up in his vibrant rallies filled with catchy songs. His huge social media presence along with the ‘Naya Pakistan’ slogan further amplified his staunch.', '', 'But there lies a challenge as to why Khan became the top highlight of this era. To many who were tired of politicians filling their own pockets, and amid the corruption charges on Nawaz Sharif, Khan’s celebrity status, his colorful personality, his promise of a corruption-free Pakistan, and his unconventional ‘Don’t Panic’ attitude – all of this made Khan seem like the only option who would deliver a better life and nation and, if not that, then at least would be the eradicator of what Pakistan had become.', '', 'Khan the Totalitarian', '', 'The other side of the coin sees Imran Khan as a narcissist, self-centered, and power-hungry mogul. After achieving his eternal craving of becoming the Prime Minister, he hardly showed any respect for the institutions of the country. More often than not he refused to attend the sessions of Parliament, with his excuse being the presence of members of the opposition party whom he referred to as ‘Crooks’ and ‘Chors’ (thieves).', '', 'This resulted in laws, instead of passing through an ordinary law-making process, being passed through presidential ordinances, with very limited power. We can clearly say that these laws were passed without debate, consensus, and thorough examination, negating the very foundation of constitutional requirements.', '', 'Additionally, Khan likes to fabricate stories in his speeches, a lot. In this vein, he brings down any democratic provision that proves him wrong, including targeting political parties on concocted charges of corruption; sustained attacks on the media; undermining law authorities, even the Supreme Court is not exempted from his allegations.', '', 'Through the abrogation of rule of law, irresponsible remarks about institutions, and disdain toward democracy, Khan himself created a fragile parliamentary system, which then collapsed on him. Not only this, but he has fractured the already dwindling democracy of Pakistan into a whole new level.', '', 'Khan the Leader', '', 'Khan came onto the political scene when Pakistan was facing a volatile situation both at home and abroad, coupled with the tensions going on with the Americas, and the rampant inflation, he was still able to take some impressive measures. His work related to health, relief programs, house loans, the environment, entrepreneurship, and the COVID response is admirable.', '', 'In addition, his billion tree tsunami and the building of several small dams initiated an environment-friendly drive in the climate change-affected country. But was he able to deliver on the ‘Promises’ made to the nation? Absolutely Not.', '', 'Perhaps he should have paid more attention to the cabinet as the abrupt changes in the system dwindled the confidence of investors in Pakistan’s economic machinery. His careless handling of some important economic programs including the CPEC decelerated the capital influx that caused the GDP to drop considerably.', '', 'To top it all off, Pakistan, in 2021 dropped from 124th place to 140th place according to Corruption Perceptions Index (CPI), leaving an ugly mark on Khan’s corruption eradication promises on which he has led the foundation of his political career. Maybe he should have abided by the agenda of progression in order to gear up his performance instead of getting involved in blame and shame politics.', '', 'Khan the funambulist', '', 'The important reason why Khan has a cult following in Pakistan is his unfiltered and raw opinions about topics like the Americas, and Afghanistan which he keeps casting in his speeches. And, the audience, mostly the social media-induced young generation eats it all up like a sweet concoction, without paying heed to the implications it will bring to the foreign policy of Pakistan.', '', 'Khan’s decision to appoint Usman Buzdar, an underqualified and inexperienced newcomer to a vital position in the key city of Punjab pretty much sums up his political foresight. Perhaps, the most interesting yet debatable contrivance of his regime is his relentless attitude toward the United States, no previous Prime Minister of Pakistan was able to say ‘Absolutely No’ to the US as it had many allies in the domestic political platform of Pakistan. This stance of Khan was admired a lot in the country, with the phrase being trending in Pakistan. But the remarks came with ramifications for Pakistan on the international forum. This whole scenario further makes people question his political sanity.', '', 'Imran Khan possesses all the characteristics of a populist leader and in Populism: A Very Short Introduction, Cas Mudde says: “Populists are dividers, not uniters” they split society into “two homogenous and antagonistic groups: the pure people on the one end and the corrupt elite on the other.” True to this narration, Khan has divided the nation into two groups of ‘Evil and Good’ people, and the consequences are detrimental to the stability of the Islamic Republic of Pakistan.', '', 'Conclusion', '', 'To sum it all up, Imran Khan, despite his misgivings, his warts, his narcissism, and his unhinged political views, is still able to reach a class of people that have seen Pakistan erode for centuries and consider him the last hope for the country. But he certainly is not the best choice for democracy as his political understanding is ruined by his self-righteous approach. In this manner, he is no better than former US President Trump who incited his supporters to pass on the U.S. Capitol to forestall the peaceful transition of power after his electoral defeat. It is precise to say that Pakistan has fallen into a deep cauldron and only a Magic Wand can heal it at this point. Though Khan has not singularly created this cauldron, he most definitely is exploiting and feeding on it.']\n"
          ]
        },
        {
          "output_type": "stream",
          "name": "stderr",
          "text": [
            "Some weights of the model checkpoint at yiyanghkust/finbert-pretrain were not used when initializing BertForMaskedLM: ['cls.seq_relationship.bias', 'cls.seq_relationship.weight']\n",
            "- This IS expected if you are initializing BertForMaskedLM from the checkpoint of a model trained on another task or with another architecture (e.g. initializing a BertForSequenceClassification model from a BertForPreTraining model).\n",
            "- This IS NOT expected if you are initializing BertForMaskedLM from the checkpoint of a model that you expect to be exactly identical (initializing a BertForSequenceClassification model from a BertForSequenceClassification model).\n",
            "Some weights of the model checkpoint at bert-base-uncased were not used when initializing BertModel: ['cls.predictions.transform.LayerNorm.bias', 'cls.predictions.transform.dense.weight', 'cls.predictions.transform.LayerNorm.weight', 'cls.predictions.decoder.weight', 'cls.seq_relationship.weight', 'cls.predictions.bias', 'cls.predictions.transform.dense.bias', 'cls.seq_relationship.bias']\n",
            "- This IS expected if you are initializing BertModel from the checkpoint of a model trained on another task or with another architecture (e.g. initializing a BertForSequenceClassification model from a BertForPreTraining model).\n",
            "- This IS NOT expected if you are initializing BertModel from the checkpoint of a model that you expect to be exactly identical (initializing a BertForSequenceClassification model from a BertForSequenceClassification model).\n"
          ]
        },
        {
          "output_type": "stream",
          "name": "stdout",
          "text": [
            "['']\n"
          ]
        },
        {
          "output_type": "stream",
          "name": "stderr",
          "text": [
            "Some weights of the model checkpoint at yiyanghkust/finbert-pretrain were not used when initializing BertForMaskedLM: ['cls.seq_relationship.bias', 'cls.seq_relationship.weight']\n",
            "- This IS expected if you are initializing BertForMaskedLM from the checkpoint of a model trained on another task or with another architecture (e.g. initializing a BertForSequenceClassification model from a BertForPreTraining model).\n",
            "- This IS NOT expected if you are initializing BertForMaskedLM from the checkpoint of a model that you expect to be exactly identical (initializing a BertForSequenceClassification model from a BertForSequenceClassification model).\n",
            "Some weights of the model checkpoint at bert-base-uncased were not used when initializing BertModel: ['cls.predictions.transform.LayerNorm.bias', 'cls.predictions.transform.dense.weight', 'cls.predictions.transform.LayerNorm.weight', 'cls.predictions.decoder.weight', 'cls.seq_relationship.weight', 'cls.predictions.bias', 'cls.predictions.transform.dense.bias', 'cls.seq_relationship.bias']\n",
            "- This IS expected if you are initializing BertModel from the checkpoint of a model trained on another task or with another architecture (e.g. initializing a BertForSequenceClassification model from a BertForPreTraining model).\n",
            "- This IS NOT expected if you are initializing BertModel from the checkpoint of a model that you expect to be exactly identical (initializing a BertForSequenceClassification model from a BertForSequenceClassification model).\n"
          ]
        },
        {
          "output_type": "stream",
          "name": "stdout",
          "text": [
            "['The Latest published a market study on Smart Banking Solutions Market provides an overview of the current market dynamics in the Smart Banking Solutions space, as well as what our survey respondents— all outsourcing decision-makers— predict the market will look like in 2028. The study breaks the market by revenue and volume (wherever applicable) and price history to estimate the size and trend analysis and identify gaps and opportunities. Some of the players that are in coverage of the study are IBM, Yinzhijie Tech, KingTeller Tech, Huawei, Sinodata, Hundsun, Parsa Technologies, GRG Banking, Sunyard, Chengdu Santai Electronics, Info-Vision Research Systems Inc., iCSharp, Virtusa', '', 'Get ready to identify the pros and cons of the regulatory framework, local reforms, and its impact on the Industry. Know how Leaders in Smart Banking Solutions are keeping themselves one step forward with our latest survey analysis', '', 'Click to get Smart Banking Solutions Market Research Sample PDF Copy Here @ https://www.mraccuracyreports.com/report-sample/321361', '', 'Major highlights from the Study along with most frequently asked questions:', '', '1) What so unique about this Smart Banking Solutions Assessment?', '', 'Market Factor Analysis: In this economic slowdown, impact on various industries is huge. Moreover, the increase in demand & supply gap as a resultant of sluggish supply chain and production line have made market worth observing. It also discusses technological, regulatory and economic trends that are affecting the market. It also explains the major drivers and regional dynamics of the global market and current trends within the industry.', '', 'Market Concentration: Includes C4 Index, HHI, Comparative Smart Banking Solutions Market Share Analysis (Y-o-Y), Major Companies, Emerging Players with Heat Map Analysis', '', 'Market Entropy: Randomness of the market highlighting aggressive steps that players are taking to overcome current scenario. Development activity and steps like expansions, technological advancement, M&A, joint ventures, launches are highlighted here.', '', 'Patent Analysis: Comparison of patents issued by each players per year.', '', 'Peer Analysis: An evaluation of players by financial metrics such as EBITDA, Net Profit, Gross Margin, Total Revenue, Segmented Market Share, Assets etc to understand management effectiveness, operation and liquidity status.', '', '2)Why only few Companies are profiled in the report?', '', 'Industry standards like NAICS, ICB etc are considered to derive the most important manufacturers. More emphasis is given on SMEs that are emerging and evolving in the market with their product presence and technological upgraded modes, current version includes players like IBM, Yinzhijie Tech, KingTeller Tech, Huawei, Sinodata, Hundsun, Parsa Technologies, GRG Banking, Sunyard, Chengdu Santai Electronics, Info-Vision Research Systems Inc., iCSharp, Virtusa etc and many more.', '', '** Companies reported may vary subject to Name Change / Merger etc.', '', 'Access full Report Description, TOC, Table of figures, Chart, etc. : https://www.mraccuracyreports.com/reportdetails/reportview/321361', '', '3) What details will competitive landscape will provide?', '', 'A value proposition chapter to gauge Smart Banking Solutions market. 2-Page profiles of all listed company with 3 to 5 years financial data to track and comparison of business overview, product specification etc.', '', '4) What all regional segmentation covered? Can specific country of interest be added?', '', 'Country that are included in the analysis are North America, US, Canada, Mexico, Europe, Germany, France, U.K., Italy, Russia, Nordic Countries, Benelux, Rest of Europe, Asia, China, Japan, South Korea, Southeast Asia, India, Rest of Asia, South America, Brazil, Argentina, Rest of South America, Middle East & Africa, Turkey, Israel, Saudi Arabia, UAE & Rest of Middle East & Africa', '', '** Countries of primary interest can be added if missing.', '', '5) Is it possible to limit/customize scope of study to applications of our interest?', '', 'Yes, general version of study is broad, however if you have limited application in your scope & target, then study can also be customize to only those application. As of now it covers applications Aeronautics, Airports & Others.', '', '** Depending upon the requirement the deliverable time may vary.', '', 'To comprehend Smart Banking Solutions market dynamics in the world mainly, the worldwide Smart Banking Solutions market is analyzed across major global regions. Customized study by specific regional or country can be provided, usually client prefers below', '', 'North America: United States of America (US), Canada, and Mexico.', '', '• South & Central America: Argentina, Chile, Colombia and Brazil.', '', '• Middle East & Africa: Kingdom of Saudi Arabia, United Arab Emirates, Turkey, Israel, Egypt and South Africa.', '', '• Europe: the UK, France, Italy, Germany, Spain, NORDICs, BALTIC Countries, Russia, Austria and Rest of Europe.', '', '• Asia: India, China, Japan, South Korea, Taiwan, Southeast Asia (Singapore, Thailand, Malaysia, Indonesia, Philippines & Vietnam etc) & Rest', '', '• Oceania: Australia & New Zealand', '', 'Basic Segmentation Details', '', 'Smart Banking Solutions Product Types In-Depth: .', '', 'Smart Banking Solutions Major Applications/End users: Commercial Bank, Medium Business Bank, Others', '', 'Geographical Analysis: North America, US, Canada, Mexico, Europe, Germany, France, U.K., Italy, Russia, Nordic Countries, Benelux, Rest of Europe, Asia, China, Japan, South Korea, Southeast Asia, India, Rest of Asia, South America, Brazil, Argentina, Rest of South America, Middle East & Africa, Turkey, Israel, Saudi Arabia, UAE & Rest of Middle East & Africa & Rest of World', '', 'For deep analysis of Smart Banking Solutions Market Size, Competition Analysis is provided which includes Revenue (M USD) by Players (2022-2028) & Market Share (%) by Players (2022-2028) complimented with concentration rate.', '', 'Complete Purchase of Smart Banking Solutions Report 2022 at Revised Offered Price @ https://www.mraccuracyreports.com/checkout/321361', '', 'Actual Numbers & In-Depth Analysis of Smart Banking Solutions Market Size Estimation and Trends Available in Full Version of the Report.', '', 'Thanks for reading this article, you can also make sectional purchase or opt-in for regional report by limiting the scope to only North America, ANZ, Europe or MENA Countries, Eastern Europe or European Union.']\n"
          ]
        },
        {
          "output_type": "stream",
          "name": "stderr",
          "text": [
            "Some weights of the model checkpoint at yiyanghkust/finbert-pretrain were not used when initializing BertForMaskedLM: ['cls.seq_relationship.bias', 'cls.seq_relationship.weight']\n",
            "- This IS expected if you are initializing BertForMaskedLM from the checkpoint of a model trained on another task or with another architecture (e.g. initializing a BertForSequenceClassification model from a BertForPreTraining model).\n",
            "- This IS NOT expected if you are initializing BertForMaskedLM from the checkpoint of a model that you expect to be exactly identical (initializing a BertForSequenceClassification model from a BertForSequenceClassification model).\n",
            "Some weights of the model checkpoint at bert-base-uncased were not used when initializing BertModel: ['cls.predictions.transform.LayerNorm.bias', 'cls.predictions.transform.dense.weight', 'cls.predictions.transform.LayerNorm.weight', 'cls.predictions.decoder.weight', 'cls.seq_relationship.weight', 'cls.predictions.bias', 'cls.predictions.transform.dense.bias', 'cls.seq_relationship.bias']\n",
            "- This IS expected if you are initializing BertModel from the checkpoint of a model trained on another task or with another architecture (e.g. initializing a BertForSequenceClassification model from a BertForPreTraining model).\n",
            "- This IS NOT expected if you are initializing BertModel from the checkpoint of a model that you expect to be exactly identical (initializing a BertForSequenceClassification model from a BertForSequenceClassification model).\n"
          ]
        },
        {
          "output_type": "stream",
          "name": "stdout",
          "text": [
            "['']\n"
          ]
        },
        {
          "output_type": "stream",
          "name": "stderr",
          "text": [
            "Some weights of the model checkpoint at yiyanghkust/finbert-pretrain were not used when initializing BertForMaskedLM: ['cls.seq_relationship.bias', 'cls.seq_relationship.weight']\n",
            "- This IS expected if you are initializing BertForMaskedLM from the checkpoint of a model trained on another task or with another architecture (e.g. initializing a BertForSequenceClassification model from a BertForPreTraining model).\n",
            "- This IS NOT expected if you are initializing BertForMaskedLM from the checkpoint of a model that you expect to be exactly identical (initializing a BertForSequenceClassification model from a BertForSequenceClassification model).\n",
            "Some weights of the model checkpoint at bert-base-uncased were not used when initializing BertModel: ['cls.predictions.transform.LayerNorm.bias', 'cls.predictions.transform.dense.weight', 'cls.predictions.transform.LayerNorm.weight', 'cls.predictions.decoder.weight', 'cls.seq_relationship.weight', 'cls.predictions.bias', 'cls.predictions.transform.dense.bias', 'cls.seq_relationship.bias']\n",
            "- This IS expected if you are initializing BertModel from the checkpoint of a model trained on another task or with another architecture (e.g. initializing a BertForSequenceClassification model from a BertForPreTraining model).\n",
            "- This IS NOT expected if you are initializing BertModel from the checkpoint of a model that you expect to be exactly identical (initializing a BertForSequenceClassification model from a BertForSequenceClassification model).\n"
          ]
        },
        {
          "output_type": "stream",
          "name": "stdout",
          "text": [
            "['']\n"
          ]
        },
        {
          "output_type": "stream",
          "name": "stderr",
          "text": [
            "Some weights of the model checkpoint at yiyanghkust/finbert-pretrain were not used when initializing BertForMaskedLM: ['cls.seq_relationship.bias', 'cls.seq_relationship.weight']\n",
            "- This IS expected if you are initializing BertForMaskedLM from the checkpoint of a model trained on another task or with another architecture (e.g. initializing a BertForSequenceClassification model from a BertForPreTraining model).\n",
            "- This IS NOT expected if you are initializing BertForMaskedLM from the checkpoint of a model that you expect to be exactly identical (initializing a BertForSequenceClassification model from a BertForSequenceClassification model).\n",
            "Some weights of the model checkpoint at bert-base-uncased were not used when initializing BertModel: ['cls.predictions.transform.LayerNorm.bias', 'cls.predictions.transform.dense.weight', 'cls.predictions.transform.LayerNorm.weight', 'cls.predictions.decoder.weight', 'cls.seq_relationship.weight', 'cls.predictions.bias', 'cls.predictions.transform.dense.bias', 'cls.seq_relationship.bias']\n",
            "- This IS expected if you are initializing BertModel from the checkpoint of a model trained on another task or with another architecture (e.g. initializing a BertForSequenceClassification model from a BertForPreTraining model).\n",
            "- This IS NOT expected if you are initializing BertModel from the checkpoint of a model that you expect to be exactly identical (initializing a BertForSequenceClassification model from a BertForSequenceClassification model).\n"
          ]
        },
        {
          "output_type": "stream",
          "name": "stdout",
          "text": [
            "['']\n"
          ]
        },
        {
          "output_type": "stream",
          "name": "stderr",
          "text": [
            "Some weights of the model checkpoint at yiyanghkust/finbert-pretrain were not used when initializing BertForMaskedLM: ['cls.seq_relationship.bias', 'cls.seq_relationship.weight']\n",
            "- This IS expected if you are initializing BertForMaskedLM from the checkpoint of a model trained on another task or with another architecture (e.g. initializing a BertForSequenceClassification model from a BertForPreTraining model).\n",
            "- This IS NOT expected if you are initializing BertForMaskedLM from the checkpoint of a model that you expect to be exactly identical (initializing a BertForSequenceClassification model from a BertForSequenceClassification model).\n",
            "Some weights of the model checkpoint at bert-base-uncased were not used when initializing BertModel: ['cls.predictions.transform.LayerNorm.bias', 'cls.predictions.transform.dense.weight', 'cls.predictions.transform.LayerNorm.weight', 'cls.predictions.decoder.weight', 'cls.seq_relationship.weight', 'cls.predictions.bias', 'cls.predictions.transform.dense.bias', 'cls.seq_relationship.bias']\n",
            "- This IS expected if you are initializing BertModel from the checkpoint of a model trained on another task or with another architecture (e.g. initializing a BertForSequenceClassification model from a BertForPreTraining model).\n",
            "- This IS NOT expected if you are initializing BertModel from the checkpoint of a model that you expect to be exactly identical (initializing a BertForSequenceClassification model from a BertForSequenceClassification model).\n"
          ]
        },
        {
          "output_type": "stream",
          "name": "stdout",
          "text": [
            "['']\n"
          ]
        },
        {
          "output_type": "stream",
          "name": "stderr",
          "text": [
            "Some weights of the model checkpoint at yiyanghkust/finbert-pretrain were not used when initializing BertForMaskedLM: ['cls.seq_relationship.bias', 'cls.seq_relationship.weight']\n",
            "- This IS expected if you are initializing BertForMaskedLM from the checkpoint of a model trained on another task or with another architecture (e.g. initializing a BertForSequenceClassification model from a BertForPreTraining model).\n",
            "- This IS NOT expected if you are initializing BertForMaskedLM from the checkpoint of a model that you expect to be exactly identical (initializing a BertForSequenceClassification model from a BertForSequenceClassification model).\n",
            "Some weights of the model checkpoint at bert-base-uncased were not used when initializing BertModel: ['cls.predictions.transform.LayerNorm.bias', 'cls.predictions.transform.dense.weight', 'cls.predictions.transform.LayerNorm.weight', 'cls.predictions.decoder.weight', 'cls.seq_relationship.weight', 'cls.predictions.bias', 'cls.predictions.transform.dense.bias', 'cls.seq_relationship.bias']\n",
            "- This IS expected if you are initializing BertModel from the checkpoint of a model trained on another task or with another architecture (e.g. initializing a BertForSequenceClassification model from a BertForPreTraining model).\n",
            "- This IS NOT expected if you are initializing BertModel from the checkpoint of a model that you expect to be exactly identical (initializing a BertForSequenceClassification model from a BertForSequenceClassification model).\n"
          ]
        },
        {
          "output_type": "stream",
          "name": "stdout",
          "text": [
            "['By Brigadier (Retd.) Dr. Ahsan ur Rahman Khan', '', 'The Conspiracy, Conspirators, and Abettors', '', 'My article titled, “Upsurge of Foreign–sponsored Terrorism and Subversion for ‘Regime Change’ in Pakistan” (1), was published on 20 March 2022, i.e. three weeks before the Regime Change conspiracy in Pakistan was actualized by the conspirators and abettors. It highlighted that:-', '', 'After quite a period of internal security calm in Pakistan a new wave of deadly acts of terrorism had commenced ; and in tandem with these acts, the opposition parties had also raised the impetus of their efforts for Regime Change, i.e. to remove the existing elected government of Prime Minister Imran Khan from political power and install their own government.', '', 'and in tandem with these acts, the opposition parties had also raised the impetus of their efforts for Regime Change, i.e. to remove the existing elected government of Prime Minister Imran Khan from political power and install their own government. As for the renewed upsurge of foreign – sponsored terrorism, while the long history of India’s enmity and hostility is already known, the role of US’ Establishment in using terrorism as a tool of attaining its ‘ hegemonic ’ objectives in world affairs is also well – acknowledge. In that context quotation of just three credible persons should suffice – (iii) India’s Saeed Naqvi the distinguished fellow of Observer Research Foundation of New Delhi (India) asserted that “ I have in recent columns written about the US Establishment’s role in promoting terrorism as an unstated asset. The distillate of this wisdom is available extensively in the columns of New York Time’s Thomas Friedman ” . (2) ; (ii) Polymeropoulos, a highly decorated senior intelligence service officer, who was a Middle – East and South Asia specialist operation officer of CIA and retired in July 2019, admitted in an interview that “ The most interesting part of the US relationship in the counter – ISIS (Daesh) campaign is that we partnered in essence with a terrorist group, the PKK ” . (3) ; and (iii) In 2017 Afghanistan’s and other media reported that when ISIS suffered crippling defeat in Middle East and was compelled to disperse, its remnants were brought secretly by US to Afghanistan and deployed in unmarked helicopters in Tora Bora cave complex in Nangarhar close to border with Pakistan. Even Hamid Karzai, who was himself the US – planted President of Afghanistan for 12 years from 2002 to 2014, had in an interview accused US for the emergence and flourishing of ISIS in Afghanistan and its collusion with US. (4)', '', 'sponsored terrorism, while the long history of India’s enmity and hostility is already known, the role of US’ Establishment in using terrorism as a tool of attaining its hegemonic objectives in world affairs is also well acknowledge. In that context quotation of just three credible persons should suffice (iii) India’s Saeed Naqvi the distinguished fellow of Observer Research Foundation of New Delhi (India) asserted that I have in recent columns written about the US Establishment’s role in promoting terrorism as an unstated asset. The distillate of this wisdom is available extensively in the columns of New York Time’s Thomas Friedman . (2) (ii) Polymeropoulos, a highly decorated senior intelligence service officer, who was a Middle East and South Asia specialist operation officer of CIA and retired in July 2019, admitted in an interview that The most interesting part of the US relationship in the counter ISIS (Daesh) campaign is that we partnered in essence with a terrorist group, the PKK . (3) and (iii) In 2017 Afghanistan’s and other media reported that when ISIS suffered crippling defeat in Middle East and was compelled to disperse, its remnants were brought secretly by US to Afghanistan and deployed in unmarked helicopters in Tora Bora cave complex in Nangarhar close to border with Pakistan. Even Hamid Karzai, who was himself the US planted President of Afghanistan for 12 years from 2002 to 2014, had in an interview accused US for the emergence and flourishing of ISIS in Afghanistan and its collusion with US. (4) There were/are unmistakable evidences/credible reports – including those of recovery of US – made state of the art weapons from the terrorists in Baluchistan – that the premier intelligence agency of US (CIA), supported by India’s (RAW), Israel’s (Mossad) and UK’s (MI – 6) were/are behind this upsurge of terrorism for creating chaos in the country as a prelude to subversion of political parties for Regime Change in Pakistan and bringing in an ‘ assuredly pliant and subservient ’ government in the country.', '', 'including those of recovery of US made state of the art weapons from the terrorists in Baluchistan that the premier intelligence agency of US (CIA), supported by India’s (RAW), Israel’s (Mossad) and UK’s (MI 6) were/are behind this upsurge of terrorism for creating chaos in the country as a prelude to subversion of political parties for Regime Change in Pakistan and bringing in an assuredly pliant and subservient government in the country. US planned for this Regime Change because it was after many decades of the successive ‘ pliant and subservient ’ governments in Pakistan of Nawaz Sharif’s PMLN and Asif Zardari’s PPP that Pakistani masses had brought Imran Khan’s party PTI to power through general elections in 2018 ; and, in formulating Pakistan’s national policies, Prime Minister Imran Khan refused to accept any foreign pressure which was against Pakistan’s national interest or the concept of national sovereignty. US thus wanted their ‘ tested pliant and subservient ’ parties to rule Pakistan again even though against the will of Pakistani nation. The obvious US’ choice thus was for PMLN and PPP whose leaders (Nawaz Sharif’s and Asif Zardari’s families) have their enormous corruption – gotten wealth hidden in UK, US and other countries in the form of companies, property, bank accounts, etc., and thus they could not/ cannot afford to disobey US’ dictates.', '', 'pliant and subservient governments in Pakistan of Nawaz Sharif’s PMLN and Asif Zardari’s PPP that Pakistani masses had brought Imran Khan’s party PTI to power through general elections in 2018 and, in formulating Pakistan’s national policies, Prime Minister Imran Khan refused to accept any foreign pressure which was against Pakistan’s national interest or the concept of national sovereignty. US thus wanted their tested pliant and subservient parties to rule Pakistan again even though against the will of Pakistani nation. The obvious US’ choice thus was for PMLN and PPP whose leaders (Nawaz Sharif’s and Asif Zardari’s families) have their enormous corruption gotten wealth hidden in UK, US and other countries in the form of companies, property, bank accounts, etc., and thus they could not/ cannot afford to disobey US’ dictates. Even Maulana Fazalur Rahman, leader of his religious party JUIF, is included in that list of “pliants and subservients” because (i) he is under investigation for massive corruption charges, and is reported to have “plundered billions of rupees from national exchequer through his frontmen when he was a public office holder during the past regimes”, and have “made investment abroad and bought properties in Qatar and the United Arab Emirates (UAE)” besides making enormous properties in different parts of Pakistan. (5); and (ii) at one stage when there were chances of PPP (then under Benazir Bhutto) forming the government after Musharraf’s government, Maulana Fazalur Rahman invited Anne Patterson US’ ambassador in Pakistan over a lunch meeting. Discussions in that meeting were reported by Anne Patterson in a classified message to US. That message was leaked by Wiki Leaks and was published in the world including Pakistan. In that message Anne Patterson had communicated to US government that (underlining added for highlighting): “Responding to an invitation, Ambassador met for lunch with Jamiat Ulema-e-Islam (JUI-F) leader Fazlur Rehman on November 20. Ambassador reiterated that the USG supporting lifting the state of emergency and steps to ensure the elections are free and fair. Rehman agreed, but he affirmed that his party would not boycott the elections. Seeking USG approval in the event he became Prime Minister,”——–.; “Also attending the lunch were Maulana Abdul Ghafoor Haideri, Senator Talha Mahmood, Senator Aza Swati and Malik Sikander Khan”—-.; and “Even if JUI-F’s voter support drops, he has made it clear that, free and fair elections notwithstanding, his still significant number of votes are up for sale”. (6)', '', 'US then started its covert political subversion techniques to collate its pliant and subservient parties to put up a joint challenge to Imran Khan’s coalition government. For that purpose Asif Zardari’s PPP, Nawaz Sharif’f PMLN, and Maulana Fazalur Rahman’s JUIF readily joined hands; and managed to bring in their fold other smaller parties, forming the alliance called PDM. And, of course, the power–hungry Maulana Fazalur Rahman, who was sulking being out of parliament after being soundly rejected by public vote in 2018 elections, was made the head of PDM.', '', 'Additionally, in October 2021 US’ diplomats in US embassy Islamabad started meetings with PTI’s parliamentarians, parliamentarians of PTI government’s coalition partner parties, other parties’ leaders, and Pakistan’s media persons, to subvert their loyalties to support US’ conspiracy for Regime Change in Pakistan. Those US’ efforts continued till March 2022 and ultimately succeeded; and many PTI’s parliamentarians as well as coalition partner parties, and many Pakistani media persons accepted to become ‘turn coats’ to support the Regime Change Conspiracy. (7).', '', 'To further solidify those efforts to purchase the conscience of those ‘turn coats’, huge monetary payments were brazenly made to those ‘turn coats’ in Sind Government’s official Sind House located in close vicinity of important buildings like Supreme Court etc. in the Red Zone of Islamabad (8); and police from Sind (under PPP provincial government) was brought to safeguard this activity in Sind House. (9)', '', 'Then US’ Assistant Secretary Donald Lu met Pakistan’s ambassador to US and communicated the threat, referring to a move by Pakistan’s opposition parties for vote of no confidence against PM Imran Khan. He threatened that “If the vote of no confidence does not succeeded and Prime minister Imran Khan remains in office, He will be isolated from US and we will take the issue head on. If the vote of no confidence succeeds, all will be forgiven“. (10) And, then that move also materialised.', '', 'Details are already known as to how that no confidence move was made to work for actualising US’ conspired Regime Change in Pakistan during the night 9/10 April 2022. However the most unfortunate aspect of that was the fact that the unprecedented acts of Islamabad High Court and Supreme Court suddenly opening up in that night, as well as deployment of Islamabad police and the rangers with prisoner vans without the orders of the interior minister, gave the impression to the masses that all those acts were linked to the actualisation of the Regime Change conspiracy.', '', 'The Astoundingly Defiant Reaction of the Masses', '', 'However, the conspirators and abettors of that Regime Change conspiracy got their first shock when Pakistani masses in the country and abroad put up an immediate defiant reaction to that Regime Change. In a completely unprecedented manner Pakistani masses, educated and uneducated alike, immediately came out in the streets in tens of thousands throughout the country, and vehemently announced their refusal to accept that US–sponsored Regime Change.', '', 'That reaction was certainly surprising from the masses who have historically been mostly docile to such governmental changes in the past accepting those as fait accompli. However, that sudden major change in the behaviour of Pakistani masses can be understood relying upon the two branches of epistemology (the theory of knowledge), i.e. revealed knowledge and man–made knowledge.', '', 'Available explanation of this phenomenon in the revealed knowledge is provided by Ayah 30 of Surah Al–Anfal in Quran.', '', 'Translation “Remember how the Unbelievers plotted against thee, to keep thee in bonds, or slay thee, or get thee out (of thy home).They plot and plan, And God too plans, But the best of planners is God”. (11)', '', 'From this verdict given by our Creator Allah (SWT) it is evident without doubt that this time around Allah (SWT) intervened to save Pakistani masses from this conspiracy, and it was His plan which checkmated the plan of the Regime Change conspirators and abettors.', '', 'And, the man–made knowledge relating to human behaviour clearly leads to the understanding that this change of masses’ behaviour occurred due to two factors: i.e.', '', 'The open and criminally arrogant acts of US to communicate the threat through Pakistan’s ambassador to remove Pakistan’s elected government of Imran Khan from power or else to face the consequences, and then having that threat materialised conspiratorially with the help of US’ “ tentacles ” in Pakistan, greatly hurt Pakistani nation’s national pride ; and,', '', 'tentacles in Pakistan, greatly hurt Pakistani nation’s national pride and, The “Regime Change” PDM government thus brought to power by that US’ conspiracy was/is led by the well–known corruption and money laundering political mafia of Nawaz Sharif and Asif Zardari under whose alternative governments during last three decades Pakistani nation had already suffered miserable socio–economic suffering.', '', 'This mindset of the masses defying this ‘Regime Change’ PDM government, therefore, is not only undefeatable; it is also getting more and more strengthened now as a reaction to the extremely fascist and criminally inhuman manner of this PDM government in openly defying rule of law and human rights throughout Pakistan for criminally crushing its opponents/critics. That is also the reason that Imran Khan’s popularity graph in the masses is continuously rising – has crossed the 76 percent mark by now in the recent by– elections.', '', 'Damages Already Done due to Regime Change', '', 'Factually right from its inception this ‘Regime Change’ PDM government was bound to be a governance failure and hence to bring serious disaster in the country; reasons being:-', '', 'Most of the hierarchical leaderships of PDM’s main parties are either convicted criminals or facing court charges of corruption, money – laundering, or other crime – 60 percent of its original cabinet members were/are on bail for such cases pending in courts. Entire focus of this PDM government was therefore expected to be only on getting themselves out of law’s grip on them due to their criminal acts. And, for that purpose, after forming the PDM government they have been busy only in amending the related laws/rules through acts of the ‘ Regime Change parliament ’ , and appointing their ‘ pliant officials ’ in National Accountability Bureau and other law enforcing institutions. They had/have no interest in, or time for, resolving governance matters/issues. So far they have already succeeded in getting rid of many of the corruption/money laundering cases against them, including such cases of Rupees eleven hundred billion against Nawaz Sharif’s, Shahbaz Sharif’s, Asif Zardari’s, and affiliates’ families ;', '', 'laundering, or other crime 60 percent of its original cabinet members were/are on bail for such cases pending in courts. Entire focus of this PDM government was therefore expected to be only on getting themselves out of law’s grip on them due to their criminal acts. And, for that purpose, after forming the PDM government they have been busy only in amending the related laws/rules through acts of the Regime Change parliament , and appointing their pliant officials in National Accountability Bureau and other law enforcing institutions. They had/have no interest in, or time for, resolving governance matters/issues. So far they have already succeeded in getting rid of many of the corruption/money laundering cases against them, including such cases of Rupees eleven hundred billion against Nawaz Sharif’s, Shahbaz Sharif’s, Asif Zardari’s, and affiliates’ families The PDM government comprises of 13 political parties of different ideological mindset/political objectives. These parties continue vying for political power, hence too unwieldy for logical governance decisions ;', '', 'These 13 PDM component parties are so greedy of ‘governmental advantages’ that through ‘political blackmail’ these have by now forced the PDM prime minister to increase his cabinet ministerial appointments from the original 34 to a mammoth number of 76 – causing huge unnecessary burden of billions of Rupees per month on the already badly depleted national treasury, thus further aggravating Pakistan’s economy crisis.', '', 'It is because of these reasons that since the last six months, after the installation of PDM government, economy as also political and internal stability of Pakistan has nose–dived to catastrophic proportion. In that:-', '', 'Pakistan’s economy (which under Imran Khan’s PTI government despite Covid – 19 damages had produced a rise of GDP growth rate from – 0 . 9 % in 2020 to a booming 6 % (12) by beginning of 2022) , has crashed downwards to “ only 2 percent in the current fiscal year ending June 2023 ” (13).', '', '19 damages had produced a rise of GDP growth rate from 0 9 % in 2020 to a booming 6 % (12) by beginning of 2022) has crashed downwards to only 2 percent in the current fiscal year ending June 2023 (13). Due to the professional inability as also lack of attention for carefully making logical governmental decisions by PDM government: massive new wide–ranging taxes worth about Rupees 876 billion have been levied in the country(14); fuel prices have been exorbitantly raised, as compared to the prices under Imran Khan’s PTI government (Table below). As a result of these ill–conceived policies of PDM, prices of even essential food items and medicine have gone beyond the reach of majority of the masses.', '', '16 February 2022 (PTI Govt.) 1 October 2022 (PDM Govt.) Petrol (Premium) Rs. 159.86 /Ltr Rs. 224.8/Ltr Diesel (high speed) Rs154.15 /Ltr Rs. 235.3/Ltr Diesel (light speed) Rs123.97 /Ltr Rs. 186.5/Ltr Kerosene Oil Rs126.56 /Ltr Rs. 191.83/Ltr Reference. (15) (16)', '', 'Pakistan Rupee has suffered devaluation against US Dollar, in that “ The Pakistani Rupee (PKR) crashed by about 17 per cent against the US dollar in the month of July 2022 owing to weakness in balance of payment and political instability ” . (17) And, devaluation of Pakistan Rupee has gone further in subsequent months ; further raising the already unbearable price hike of essential food items/commodities.', '', 'The Pakistani Rupee (PKR) crashed by about 17 per cent against the US dollar in the month of July 2022 owing to weakness in balance of payment and political instability . (17) And, devaluation of Pakistan Rupee has gone further in subsequent months further raising the already unbearable price hike of essential food items/commodities. Pakistan’s textile industry is the largest foreign exchange earner for the country. It contributes “ more than 60 % to the country’s total exports ” (18) During the last fiscal year (2021 – 2022) it had boomed because Imran Khan’s PTI government had kept electricity and gas prices under control and had provided the textile industry with competitive power tariff. But the PDM government not only withdrew that competitive power tariffs to this industry, it also exorbitantly raised electricity bills. As a result now this industry finds itself economically unfeasible to function. As a result in the beginning of October 2022 All Pakistan Textile Mills Association (APTMA) announced the decision “ to shut down textile units across the country from Saturday to protest the withdrawal of competitive power tariffs. ”; “ 1,600 textile mills have already shut shops ”; and “ Five million employees will lose their jobs and 30 million people will be affected due to the closure of these units ” . (19)', '', 'more than 60 % to the country’s total exports (18) During the last fiscal year (2021 2022) it had boomed because Imran Khan’s PTI government had kept electricity and gas prices under control and had provided the textile industry with competitive power tariff. But the PDM government not only withdrew that competitive power tariffs to this industry, it also exorbitantly raised electricity bills. As a result now this industry finds itself economically unfeasible to function. As a result in the beginning of October 2022 All Pakistan Textile Mills Association (APTMA) announced the decision to shut down textile units across the country from Saturday to protest the withdrawal of competitive power tariffs. 1,600 textile mills have already shut shops and Five million employees will lose their jobs and 30 million people will be affected due to the closure of these units . (19) Asif Zardari’s PPP Sindh government’s ineptitude in preventing flood disasters, and criminal negligence in proving essential relief work after recent flood calamity, has caused immense human, economic and material loss of masses in Sindh province. (20) In that context latest World Bank report has also highlighted, “ Poverty in the hardest – hit regions will likely worsen in the context of the recent flooding. Preliminary estimates suggest that – without decisive relief and recovery efforts to help the poor – the national poverty rate may increase by 2 . 5 to 4 percentage points, pushing between 5 . 8 and 9 million people into poverty. (21)', '', 'Poverty in the hardest hit regions will likely worsen in the context of the recent flooding. Preliminary estimates suggest that without decisive relief and recovery efforts to help the poor the national poverty rate may increase by 2 5 to 4 percentage points, pushing between 5 8 and 9 million people into poverty. (21) According to a 13 September 2022 report, the Global Report on Food Crises 2022 has highlighted that “ Pakistan is experiencing a growing debt crisis, significant currency depreciation and a record food inflation, reducing households’ purchasing power ” . (22)', '', 'Pakistan is experiencing a growing debt crisis, significant currency depreciation and a record food inflation, reducing households’ purchasing power . (22) As a result of these criminally inept policies Pakistani masses are facing unbearable miseries, to the extent that :-', '', 'About the current massive price hike in the country, the report published on 1 st November 2022 highlighted that according to the data released by Pakistan Bureau of Statistics, inflation based upon Consumer Price Index (CPI), which was just 9 . 2 % during Imran Khan’s PTI government in October 2021, has risen as high as 26 . 6 % by October 2022 under PDM government.(23) Due to this unbearable price hike created by ‘ Regime Change PDM government’, specially of essential food items and medicine, more than half of Pakistani masses are finding it too difficult to pay for what is needed to survive ;', '', 'November 2022 highlighted that according to the data released by Pakistan Bureau of Statistics, inflation based upon Consumer Price Index (CPI), which was just 9 2 % during Imran Khan’s PTI government in October 2021, has risen as high as 26 6 % by October 2022 under PDM government.(23) Due to this unbearable price hike created by Regime Change PDM government’, specially of essential food items and medicine, more than half of Pakistani masses are finding it too difficult to pay for what is needed to survive An article published on 23 rd of October 2022 has highlighted that according to the survey report of International Labour Organisation (ILO)’s Household Income and Expenditure Survey (HIES), “ it is a fact that 77 . 60 percent of Pakistan’s population lives in poor conditions (less than $5 . 50 per day income) ” . (24)', '', 'of October 2022 has highlighted that according to the survey report of International Labour Organisation (ILO)’s Household Income and Expenditure Survey (HIES), it is a fact that 77 60 percent of Pakistan’s population lives in poor conditions (less than $5 50 per day income) . (24) Due to the aforementioned ineptitude of Asif Zardari’s PPP provincial government in preventing flood disasters and criminal negligence in proving essential relief work after recent flood calamity, the unbearable poverty of masses in Sindh has reached the stage where according to recent report from Mirpur Khas, “People who have lost everything have been left with no option but to sell their young and underage girls to feed their starving families and to get their ailing near and dear ones treated at private hospitals”. (25)', '', 'And now, people of Pakistan, elite and masses alike, are facing further worst of the ‘Regime Change’ disaster . In that, when the thus traumatised Pakistanis started raising their voices against these miseries unleashed due the government policies, the ‘ Regime Change PDM government ’ resorted to most inhuman fascist measures . Those include:-', '', 'Extreme inhuman custodial torture of media persons, professor, and senator ;', '', 'Blackmailing in the most inhuman manner ; registering false and baseless cases against the opposition party leaders to arrest them and keep them under detention ;', '', 'registering false and baseless cases against the opposition party leaders to arrest them and keep them under detention Forcefully gagging the media, obliterating the universal human right of freedom of speech ;', '', 'Denying the right of people to launch peaceful protest.', '', 'And that fascism of “Regime Change” PDM government went further when PDM’s interior minister and other PDM leaders conveyed murder threat to Imran Khan. And that threat was then actualised after just a few days when assassination of Imran Khan was attempted by more than one assassins during his public rally in Wazirabad. One of his supporters was killed and about 11 PTI leaders around Imran Khan were wounded. Imran Khan was seriously wounded. One of the assassins was arrested. Imran Khan, being the main aggrieved person, sent his complaint to the concerned police station for registering the FIR about his assassination attempt. In his complaint Imran Khan nominated three persons, i.e. PDM’s prime minister, interior minister and a senior officer of intelligence agency, for their involvement in his assassination attempt. PDM government forced the media not to disclose the name of that senior officer and his intelligence agency; though through the social media name of that officer and intelligence agency, as mentioned by Imran khan in his complaint, became known to everyone in Pakistan and abroad. However the police, which is legally bound to register such FIR according to the complaint of the complainant, refused to do so. Even the inspector general of provincial police showed his inability for registration of FIR because the complaint included the name of that senior officer of intelligence agency. That act of police authority shocked the nation, because it reflected that “powerful elite” is above even the constitution of Pakistan. That disgusting realisation, if not mended immediately, is most likely to create dangerous polarisation between the nation and the powerful organs of the Establishment of the country.', '', 'This alarming economic breakdown, obliteration of rule of law, chaos and instability thus created in Pakistan suits the US’ design to bring Pakistan to its knees to accept US’ dictates in international politics, including: (a) US’ requirements of Pakistan accepting to have “US’ desired” relations with US’ main strategic partner India despite India’s recent illegal actions in Kashmir, and diplomatically “opening up” with Israel despite Israel’s illegal actions in Palestine; and (b) ultimately compelling Pakistan to forego its nuclear weapon assets. Recent reports have already shown the inclination of PDM government to so diplomatically “open up” with India and Israel. And recent statement of US president Joe Biden also indicates that US is now eying the opportunity to actualise its objective relating to the nuclear assets of Pakistan. In his speech at a reception of the Democratic Congressional Campaign Committee US president clearly declared, “Pakistan is one of the ‘most dangerous’ nations which has nuclear weapons without any cohesion”. (26) When that declaration of US’ president received serious criticism by Pakistani public, some of the US’ officials issued statements to the contrary to save the situation, but in vain; because “White House press secretary Karine Jean–Pierre said there was nothing new in Biden’s statement regarding Pakistan’s nuclear assets, clarifying that the Democrat leader has made such comments before as well.” (27)', '', 'Current Situation', '', 'Salient features of the current happenings:-', '', 'Despite public’s anguished uproar, PTI – PMLQ ruled Punjab government’s police stuck to its stance of not recording the FIR according to the complaint of former Prime Minister Imran Khan who is the aggrieved person in the case of his murder attempt. That act clearly shows that “ powerful elite ” is above even the constitution of Pakistan, and that it can obliterate rule of law at will.', '', 'PMLQ ruled Punjab government’s police stuck to its stance of not recording the FIR according to the complaint of former Prime Minister Imran Khan who is the aggrieved person in the case of his murder attempt. That act clearly shows that powerful elite is above even the constitution of Pakistan, and that it can obliterate rule of law at will. Journalist Arshad Sharif who was credibly lifting the veil of the “Regime Change conspiracy in Pakistan ” , indicating who could possibly be the conspirators and abettors abroad and in Pakistan, was targeted by the “ Regime Change ” PDM government by registering multiple serous cases against him in different parts of Pakistan – some even carrying death sentence. Then a life threat was conveyed to him. He appealed to the PDM government and the court to provide him safety from such threat, but no action was taken by the authorities. Thus pressurised, he had to leave the country, but he was followed by the conspirators and was got murdered after severe torture in Kenya. His postmortem was conducted in Islamabad’s government hospital. His mother contacted the hospital authority to get copy of the postmortem report which is her legal right. Hospital authorities refused to provide her that report, blatantly obliterating their constitutional obligation – and all state/governmental organs preferred to remain silent! Again a show of the “ powerful elite ” being above the constitution/rule of law.', '', ', indicating who could possibly be the conspirators and abettors abroad and in Pakistan, was targeted by the Regime Change PDM government by registering multiple serous cases against him in different parts of Pakistan some even carrying death sentence. Then a life threat was conveyed to him. He appealed to the PDM government and the court to provide him safety from such threat, but no action was taken by the authorities. Thus pressurised, he had to leave the country, but he was followed by the conspirators and was got murdered after severe torture in Kenya. His postmortem was conducted in Islamabad’s government hospital. His mother contacted the hospital authority to get copy of the postmortem report which is her legal right. Hospital authorities refused to provide her that report, blatantly obliterating their constitutional obligation and all state/governmental organs preferred to remain silent! Again a show of the powerful elite being above the constitution/rule of law. In the case of the media persons, professor, and senator – who critisised the “ Regime Change conspiracy ” and were picked up by Islamabad police and subjected to extreme inhuman custodial torture by the organs of PDM government – justice has still not been provided to these aggrieved persons despite public’s pronounced indignation.', '', 'who critisised the Regime Change conspiracy and were picked up by Islamabad police and subjected to extreme inhuman custodial torture by the organs of PDM government justice has still not been provided to these aggrieved persons despite public’s pronounced indignation. The brutal practice of registering fabricated cases and thus getting arrest warrants of Imran Khan and his party leaders continues unabated by PDM government.', '', 'Due to the lack of attention of the “self–serving” PDM government crime rate in Pakistan has increased manifold, as shown by these media reports:-', '', 'Pakistan Revenue report of June 2022 – “ It is generally known that affordability issues in buying essential items lead to rise in street crime. Pakistan is witnessing massive surge in prices of essential items over the period of last few months with the rise in prices of commodities ——— ” . (28)', '', 'It is generally known that affordability issues in buying essential items lead to rise in street crime. Pakistan is witnessing massive surge in prices of essential items over the period of last few months with the rise in prices of commodities ——— . (28) GEO News report of September 2022 – “ More than 56,500 street crimes were reported in Karachi in the ongoing year, so far ” . (29)', '', 'More than 56,500 street crimes were reported in Karachi in the ongoing year, so far . (29) DAWN report of September 2022 – ISLAMABAD: “A significant increase was seen in criminal cases in the capital, with 9,804 criminal activities reported in the city between Jan 1 and Aug 31 this year. This was an increase 141. 2 pc when compared to 2021 when 4,063 criminal activities occurred”. (30)', '', 'As a result, according to Daily Times report of August 2022, “ Pakistan has a rising crime rate . Some have linked rising crime rates to unemployment, illiteracy, rising inflation, and poverty. That is why people are forced to commit crimes to meet their basic needs. Meanwhile, citizens are constantly in a state of fear and insecurity . Most people have either been victims of street crimes themselves or know someone who was a victim recently. Going to a crowded bazaar in broad daylight is as unsafe as travelling on a deserted road at night . Lack of security is affecting the overall well–being of society ”. (31)', '', 'The Upshot', '', 'The aforementioned ground realities clearly show that this “Regime Change” in Pakistan – conspired by US and implemented with the help of the conspiracy abettors in Pakistan – has unleashed the spate of untold unbearable miseries on the nation as a whole. In Islamic terminology this act certainly falls in the category of ‘Zulm’ (most inhuman oppression), and those who conspired or abetted in the implementation of this Regime Change conspiracy fall in the category of ‘Zalemun’ (wrongdoers who commit Zulm). These Zalemun may be thinking that they are too powerful to be accounted for their crime, but what certainly awaits them in their destiny is laid down by none other than our Creator Allah Almighty Himself in Quran (Surah Ibrahim, Ayah 42):-', '', '(Translation. Think not that God doth not heed the deeds of those who do wrong. He but giveth them respite against a Day when the eyes will fixedly stare in horror.) (32)', '', 'This heinous Regime Change conspiracy has two distinctly marked aspects i.e. (a) US’ covert criminal intervention in Pakistan’s internal state affairs, and (b) the consequential untold miseries unleashed on the nation. These have aroused in the nation a very high degree of irremediable feeling of hatred and vengeance against the conspirators and abettors. As a result: (a) Imran Khan’s current massive national movement, led by the youth, is bound to succeed in getting the country rid of this heinous “Regime Change” PDM government; and (b) US will find it too difficult to earn the goodwill of Pakistani nation.', '', 'Additionally three more consequential effects are most likely to dominate Pakistan’s body politic in the immediate and near future time frames: (a) most of the PDM parties, particularly PMLN, PPP, and JUIF will find it too difficult even to survive politically; (b) Establishment will have to remain out of politics; and (c) henceforth ‘Will of the people’ will dominate to introduce and retain rule of law in the country.', '', 'References', '', '(1). https://analysedreviews.com/single/blog/detail/17', '', '(2).https://www.newagebd.net/article/154558/uss-afghan-terror-assets-will-weaken-delhis-anti-pak-plaints', '', '(3).https://www.aa.com.tr/en/americas/us-worked-with-ypg-pkk-terrorists-in-syria-cia-veteran/1829863', '', '(4).https://www.aljazeera.com/news/2017/11/10/hamid-karzai-us-colluded-with-isil-in-afghanistan', '', '(5).https://www.thenews.com.pk/print/774009-murad-shares-details-of- properties-owned-by-fazl-s-frontmen', '', '(6). https://www.dawn.com/news/633241/2007-fazlur-rehmans-votes-were-up-for-sale', '', '(7). https://www.youtube.com/watch?v=pqHb4LSmepg', '', '(8). https://www.pakistantoday.com.pk/2022/03/17/raja-riaz-claims-24-pti-mnas-are-staying-in-sindh-house/', '', '(9).https://dunyanews.tv/en/Pakistan/645690-Sindh-House-center-of-horse-trading-Fawad-Ch-no-confidence-motion', '', '(10).https://defence.pk/pdf/threads/original-words-of-donald-lu-in-cipher.740086/', '', '(11). https://www.sacred-texts.com/isl/quran/00804.htm', '', '(12). https://www.adb.org/countries/pakistan/economy', '', '(13).https://www.worldbank.org/en/news/press-release/2022/10/06/world-bank-pakistan-s-economy-slows-down-while-inflation-rises-amid-catastrophic-floods (Hereinafter cited as World Bank report dated 6 October 2022).', '', '(14).https://profit.pakistantoday.com.pk/2022/06/23/govt-to-impose-rs876bn-in-new-taxes/', '', '(15). https://www.urdupoint.com/business/petroleum-prices-in-pakistan.html', '', '(16). https://www.zameen.com/blog/latest-petrol-price-pakistan.html', '', '(17).https://pkrevenue.com/pakistani-rupee-crashes-17-against-dollar-in-july-2022/', '', '(18).https://www.fibre2fashion.com/industry-article/5034/growth-of-textile-industry-in-pakistan#:~:text=According%20to%20recent%20figures%2C%20the,the%20total%20GDP%20is%208.5%25.', '', '(19).https://www.pakistantoday.com.pk/2022/10/05/textile-producers-union-announces-nationwide-closure/', '', '(20). https://www.youtube.com/watch?v=E4bbGUcZsoE', '', '(21). World Bank report dated 6 October 2022. op.cit.', '', '(22). https://www.dawn.com/news/1709851', '', '(23). https://pkrevenue.com/headline-inflation-surges-by-26-6-in-october-2022/', '', '(24).https://www.pakistantoday.com.pk/2022/10/23/the-cycle-of-poverty-in-pakistan/', '', '(25).https://minutemirror.com.pk/starving-sick-flood-victims-selling-daughters-to-get-by-62012/', '', '(26).https://www.aljazeera.com/news/2022/10/15/imran-khan-slams-bidens-pakistan-most-dangerous-comment', '', '(27).https://en.dailypakistan.com.pk/16-Oct-2022/nothing-new-in-biden-s-remarks-on-pakistan-s-nuclear-assets-white-house', '', '(28). https://pkrevenue.com/high-inflation-leads-to-street-crime/', '', '(29).https://www.geo.tv/latest/438501-over-56000-street-crime-incidents-reported-in-karachi-in-2022-so-far', '', '(30). https://www.dawn.com/news/1708963', '', '(31).https://dailytimes.com.pk/980370/street-crime-climbing-at-an-alarming-rate/', '', '(32). https://www.sacred-texts.com/isl/quran/01407.htm']\n"
          ]
        },
        {
          "output_type": "stream",
          "name": "stderr",
          "text": [
            "Some weights of the model checkpoint at yiyanghkust/finbert-pretrain were not used when initializing BertForMaskedLM: ['cls.seq_relationship.bias', 'cls.seq_relationship.weight']\n",
            "- This IS expected if you are initializing BertForMaskedLM from the checkpoint of a model trained on another task or with another architecture (e.g. initializing a BertForSequenceClassification model from a BertForPreTraining model).\n",
            "- This IS NOT expected if you are initializing BertForMaskedLM from the checkpoint of a model that you expect to be exactly identical (initializing a BertForSequenceClassification model from a BertForSequenceClassification model).\n",
            "Some weights of the model checkpoint at bert-base-uncased were not used when initializing BertModel: ['cls.predictions.transform.LayerNorm.bias', 'cls.predictions.transform.dense.weight', 'cls.predictions.transform.LayerNorm.weight', 'cls.predictions.decoder.weight', 'cls.seq_relationship.weight', 'cls.predictions.bias', 'cls.predictions.transform.dense.bias', 'cls.seq_relationship.bias']\n",
            "- This IS expected if you are initializing BertModel from the checkpoint of a model trained on another task or with another architecture (e.g. initializing a BertForSequenceClassification model from a BertForPreTraining model).\n",
            "- This IS NOT expected if you are initializing BertModel from the checkpoint of a model that you expect to be exactly identical (initializing a BertForSequenceClassification model from a BertForSequenceClassification model).\n"
          ]
        },
        {
          "output_type": "stream",
          "name": "stdout",
          "text": [
            "['In addition to trade using land ports, there has been a beneficial shift in the cross-border transportation of goods through the railway interchange focal stations recently. Photo: TBS', '', 'The land boundary separating India and Bangladesh is approximately 4,000 kilometres long. The cross-border trade between the two nations is facilitated by 34 Land Customs Stations (LCS), two Integrated Check Posts (ICP) and five Railway Interchange Focal Points (IFP).', '', \"Even though there are several LCS still being used, the Benapole-Petrapole ICP handles the preponderance of overland freight movement. It is the only ground terminal that permits the import and export of nearly all commodities, with the exception of a few that are subject to customs agency restrictions. It is one of the oldest and most crowded land ports. According to the World Bank's recent study, it requires 138 hours to transfer a vehicle through the ICP from the Indian side to the Bangladesh side.\", '', 'Other LCS, including Changrabandha-Burimari, Ghojadonga-Bhomra and Mahadipur-Sonamasjid have experienced a significant rise in freight traffic in recent years. As a result, there has been a rise in awareness among stakeholders about the need to improve equipment facilities at these LCS.', '', 'There has also been a beneficial shift in the cross-border transportation of goods through the railway interchange focal stations recently.', '', 'As most of the LCS was shut down to freight traffic due to the outbreak of Covid-19, the railroads of both Bangladesh and India worked to maintain trade relations by using the five railway interchange sites. Trade relations via railways have increased twofold compared to pre-pandemic levels.', '', 'Apart from the plethora of goods transported by rail, three significant advances have been made in cross-border rail operations during this period.', '', \"Until recently, bulk cargo such as gypsum, corn, limestone, fly ash, food grains and project cargo were the only cargo transported by railroads. Due to the COVID-19 pandemic's restrictions and restricted use of land ports, there was an increase in the usage of railroads to transport freight, which resulted in a diversification of goods being moved for consumption and development purposes. To meet the growing demand for fast-moving consumer goods, raw materials for industry, vehicles, automobiles and tractors, freight trains were used to deliver basic commodities such as sugar, cotton, cottonseed, spices and tractors.\", '', 'Furthermore, a parcel train service was launched between Bangladesh and India in a response to the popularity of transporting goods by rail. Due to the limited carrying capacity of parcel trains, traders now have the opportunity to export smaller quantities of high-value items, including cotton yarn, fast-moving consumer goods, cotton, chemicals, textiles, fabric and other supplies for the apparel sector.', '', 'Last but not least, a container train service and automotive cargo mobility were also added.', '', 'These actions have enabled railroads to emerge as a trustworthy option for delivering quick and secure logistics-related solutions that boost international trade between the two nations. Another aspect that has given rail a unique advantage over road for cross-border trade is that freight trains can reach much closer to their final destinations within Bangladesh than trucks, because goods carried by trucks are transshipped onto other trucks at the border.', '', 'Between 2019 and 2020, the flow of cargo between India and Bangladesh increased by more than 130% (Figure-1). The transport of goods from road to rail has also undergone a significant change in sectors such as the automotive industry. Compared to two years ago, the railway now carries the majority of car freight from India to Bangladesh. In addition, the development of container rail services has created various opportunities for transporting valuable goods.', '', \"Bangladesh was India's fourth largest export market in 2022, with exports to Bangladesh increasing significantly from US $9.6 billion in 2020-21 to $14.5 billion in 2021-22 (Department of Commerce, 2022). The positive effects of rail freight transport on the growth of reciprocal trade between the two nations have been recorded. The transition in trade flows between Bangladesh and India is depicted in Figure-2.\", '', 'Prospects and consequences', '', 'In 2015, India\\'s Ministry of External Affairs declared its \"Act East\" policy. India focussed on strengthening connectivity, one of the core aspects of the country\\'s bilateral cooperation with its neighbours.', '', 'This pertains to Bangladesh and encompasses strategic measures to promote rail connectivity and cross-border trade. Meanwhile, for the South Asia Subregional Economic Cooperation (SASEC) as a whole, reducing trade costs and cross-border movement of cargoes is a must for enhancing equitably sustainable and inclusive development.', '', 'In addition to making business more accessible and fostering trade, the expansion of bilateral trade brought about by the use of rail logistics has the potential to transform the cross-border logistics landscape. There could be significant impact from the expansion of cross-border rail logistics if the trajectory persists. It would lead to a diminution in traffic congestion in the Benapole-to-Petrapole ICP, an expedited transport system lead-time and the option to reduce port bottlenecks and late shipping delivery. It would also lower transportation expenses, be more efficient in terms of energy potency and would generally be an alternative to using roads, which has problems with exorbitant charges, numerous local authorities and a lack of safety.', '', 'However, to enjoy benefits from the expanded economic advantages of rail operations, supportive additional policy initiatives will be required. These initiatives include building inland cargo facilities in Bangladesh that are rail-based and developing extra freight cargo handling capacity in the Bangladesh Railway Management System. A system has to be established where services are available round-the-clock. Private sector needs to be engaged, including both in infrastructure development and logistical management. Technology usage needs to be enhanced for trade facilitation, including streamlining customs procedures. We need mechanisms for reviewing joint applications that are unvarying, for the synchronisation of operating days or hours from both entities, mutual acceptance of inspection and maintenance, testing and certification, pooling of facilities, combined controls from both sides and implementation of single-point border control.', '', 'There is a significant possibility for both countries to economically benefit from collaborating together to interconnect their railway links in order to build cross-border logistics services. In the coming decades, business in the region might be significantly augmented by rail logistics, and it might even become a feasible option for shipments. To support the expansion of cross-border rail trade, sustained and all-encompassing efforts are required.', '', 'For this to happen, steady and comprehensive efforts are vital to facilitate the improvement of cross-border trade through rail.', '', 'Dr Munshi Muhammad Abdul Kader Jilani is an Assistant Professor of the Bangladesh Institute of Governance and Management (BIGM), Email: [email protected], and His Twitter handle is @MunshiJilani', '', 'Disclaimer: The views and opinions expressed in this article are those of the author and do not necessarily reflect the opinions and views of The Business Standard.']\n"
          ]
        },
        {
          "output_type": "stream",
          "name": "stderr",
          "text": [
            "Some weights of the model checkpoint at yiyanghkust/finbert-pretrain were not used when initializing BertForMaskedLM: ['cls.seq_relationship.bias', 'cls.seq_relationship.weight']\n",
            "- This IS expected if you are initializing BertForMaskedLM from the checkpoint of a model trained on another task or with another architecture (e.g. initializing a BertForSequenceClassification model from a BertForPreTraining model).\n",
            "- This IS NOT expected if you are initializing BertForMaskedLM from the checkpoint of a model that you expect to be exactly identical (initializing a BertForSequenceClassification model from a BertForSequenceClassification model).\n",
            "Some weights of the model checkpoint at bert-base-uncased were not used when initializing BertModel: ['cls.predictions.transform.LayerNorm.bias', 'cls.predictions.transform.dense.weight', 'cls.predictions.transform.LayerNorm.weight', 'cls.predictions.decoder.weight', 'cls.seq_relationship.weight', 'cls.predictions.bias', 'cls.predictions.transform.dense.bias', 'cls.seq_relationship.bias']\n",
            "- This IS expected if you are initializing BertModel from the checkpoint of a model trained on another task or with another architecture (e.g. initializing a BertForSequenceClassification model from a BertForPreTraining model).\n",
            "- This IS NOT expected if you are initializing BertModel from the checkpoint of a model that you expect to be exactly identical (initializing a BertForSequenceClassification model from a BertForSequenceClassification model).\n"
          ]
        },
        {
          "output_type": "stream",
          "name": "stdout",
          "text": [
            "['Cristiano Ronaldo’s second spell at Manchester United has come to an end, in the most abrupt manner. There was no going back for the 37-year-old forward who is currently on international duty with Portugal at the 2022 FIFA World Cup after his tirade against the Red Devils in the Piers Morgan interview.', '', 'Ronaldo bashed the club from every direction, as he also had a go at the manager Erik ten Hag, owners of the Glazers family, and even some former players and interim manager Ralf Rangnick.', '', 'As a result, even before he kicked a ball at the FIFA World Cup Portugal, Cristiano Ronaldo and Manchester United parted ways after a contract termination was agreed upon. The Portuguese captain led his country out of the tunnel in their opening against Ghana as a free agent for the first time in his career.', '', 'With a heap of questions piling up on his future, Ronaldo soo could be the subject of another lucrative offer from the Saudis, who are ready to do everything in order to bring the global star to the middle-east.', '', 'Saudis ready to double their previous offer for Cristiano Ronaldo', '', 'Cristiano Ronaldo already had attempted to leave United in the summer market but was unable to do so. Many of the clubs from around the world had lined up at his doorsteps, but couldn’t take the forward out of Old Trafford.', '', 'Bayern Munich, Chelsea, Sporting Cp, Atletico Madrid, and Napoli were all said to be heavily interested in Ronaldo, but the ones who tabled a mammoth offer were the Saudis. Riyadh-based Al Hilal came calling with a ridiculous bid which was also confirmed by the player himself in the Piers Morgan interview.', '', 'According to multiple reports, the Saudi club offered Ronaldo around £300 million with a contract of two years. That said, the five-time Ballon d’Or winner would have easily pocketed £150 million per year, and could have retired at the end of his contract with an extra £300 million in his already bulging bank account. However, as expected, Ronaldo refused the offer as he still wants to remain in Europe for at least three more years as he revealed in the interview.', '', 'But the Saudis are not going to back down so easily, as they are ready to attempt and lure the now free agent after he wraps up the World Cup campaign with Portugal.', '', 'As per Daily Mirror, Al Hilal is now planning to put a blank cheque in front of Ronaldo and ask him to fill it with the figures which would please him. That’s an audacious offer given they were already ready to pay him £150 million-per-year in the summer.', '', 'The Saudis’ desperate moves to entice Cristiano Ronaldo to the middle-east are said to have some underlying reasons. The Gulf nation is bidding to host the 2030 FIFA World Cup, and wants to use Ronaldo, who recently became the first ever person to gather 500 million Instagram followers, as the face of their bid. The former Real Madrid superstar kicking a ball around in Saudi Arabia itself would be their biggest show of power, after their recent win over Argentina at the 2022 World Cup, and the takeover of Newcastle United which they accomplished last year.', '', 'Even the Saudi Sports Minister Prince Abdulaziz bin Turki Al-Faisal has endorsed the idea of Ronaldo gracing the country’s football league. On being asked whether he knows in detail Al Hilal’s plans of trying their luck to land the five-time Champions League winner, he told CNN in an interview:', '', '“I don’t know, that’s a straight answer. I read the same thing as you read in the news. I don’t know what his future plans are. Why not? We have a strong league. In each team, we have seven foreign players playing and we are looking to increase that. Our teams play at the top level in Asia. Football is strong in Saudi. So why not?”', '', 'However, it is expected that Ronaldo is set to reject the gigantic offer once again, as he searches for a Champions League club. The all-time top scorer of the competition can still grace it as the teams qualified for the Round of 16 need to submit a fresh list of players for the knockouts after the January transfer market.', '', 'Ronaldo is certainly eyeing the same for now, he strongly stated that he is committed to the Portuguese national team to take as far as he can at the World Cup.']\n"
          ]
        },
        {
          "output_type": "stream",
          "name": "stderr",
          "text": [
            "Some weights of the model checkpoint at yiyanghkust/finbert-pretrain were not used when initializing BertForMaskedLM: ['cls.seq_relationship.bias', 'cls.seq_relationship.weight']\n",
            "- This IS expected if you are initializing BertForMaskedLM from the checkpoint of a model trained on another task or with another architecture (e.g. initializing a BertForSequenceClassification model from a BertForPreTraining model).\n",
            "- This IS NOT expected if you are initializing BertForMaskedLM from the checkpoint of a model that you expect to be exactly identical (initializing a BertForSequenceClassification model from a BertForSequenceClassification model).\n",
            "Some weights of the model checkpoint at bert-base-uncased were not used when initializing BertModel: ['cls.predictions.transform.LayerNorm.bias', 'cls.predictions.transform.dense.weight', 'cls.predictions.transform.LayerNorm.weight', 'cls.predictions.decoder.weight', 'cls.seq_relationship.weight', 'cls.predictions.bias', 'cls.predictions.transform.dense.bias', 'cls.seq_relationship.bias']\n",
            "- This IS expected if you are initializing BertModel from the checkpoint of a model trained on another task or with another architecture (e.g. initializing a BertForSequenceClassification model from a BertForPreTraining model).\n",
            "- This IS NOT expected if you are initializing BertModel from the checkpoint of a model that you expect to be exactly identical (initializing a BertForSequenceClassification model from a BertForSequenceClassification model).\n"
          ]
        },
        {
          "output_type": "stream",
          "name": "stdout",
          "text": [
            "['The Digital Payments Market SWOT Analysis by Key Players – Aurus Inc., PayPal Holdings Inc., WEX Inc., Total System Services Inc., Paysafe Holdings U.K. Limited, Global Payments Inc. & More', '', 'This press release was orginally distributed by SBWire', '', 'Pune, Maharashtra — (SBWIRE) — 11/25/2022 — Digital Payments Market Scope & Overview 2022:', '', 'An electronic transaction, also called a digital payment, is a method of transferring money that uses a digital device, such as a mobile phone, computer, or PoS, along with electronic channels such as SWIFT or mobile wireless data. In this process, the merchant, the customer, the payment network, and the bank are all involved. The transition to digital payments and receipts has helped small companies all over the world to make rapid and secure payments at no cost and without risk. Consumers, governments, companies, and international development organizations have benefited from the advantages of this innovation, including lower costs and greater transparency and security.', '', '\"According to SNS insider, the Digital Payments Market Size was valued at US$ 65.32 Bn in 2021, and is projected to reach US$ 256.64 Bn by 2028, with a growing CAGR of 21.56% during the Forecast Period 2022-2028.\"', '', 'Get a Free Sample Report of Digital Payments Market @ https://www.snsinsider.com/sample-request/1388', '', 'for more information or customization mail us at [email protected]', '', 'The Digital Payments market research report examines changes in raw materials, final consumers, product distribution and sales channels, and product distribution and sales channels. Businesses can utilize the research report to develop effective expansion strategies and obtain a better understanding of the market. Market research considers macroeconomic policies, industrial policies, regional industrial layout characteristics, key business product dynamics, and industry growth trends.', '', \"In terms of growth rate, market segmentation, market size, predicted trends, and regional viewpoint, the research report contains both qualitative and quantitative data. Digital Payments market research assesses the current condition, which is expected to have an impact on the market's potential in the future. There is also information accessible on the industry's historical growth, CAGR standing, price structure, and supply-demand dynamics.\", '', 'Major Key Company profiles analysis covered in Digital Payments Market are:', '', '– Aurus Inc.', '', '– PayPal Holdings Inc.', '', '– WEX Inc.', '', '– Total System Services Inc.', '', '– Paysafe Holdings U.K. Limited', '', '– Global Payments Inc.', '', '– YapStone Inc.', '', '– Novatti Group Limited', '', '– Financial Software & Systems Pvt. Ltd.', '', '– Fiserv Inc.', '', 'Digital Payments Market Segmentation Outlook 2022', '', 'The Digital Payments market research study examines the major market categories based on end-use, type, and location in depth. The market size was calculated using both primary and secondary sources. The strategy evaluation considers everything from long-term growth plans for both new and experienced market competitors to marketing channels and market positioning.', '', 'Major Segments and Sub-Segment of Digital Payments Market are Listed Below:', '', 'Segmentation by Component:', '', 'Solutions', '', '– Payment Gateway Solutions', '', '– Payment Processing Solutions', '', '– Payment Wallet Solutions', '', '– Payment Security and Fraud Management Solutions', '', '– Point of Sale (POS) Solutions', '', 'Services', '', '– Professional Services', '', '– Consulting', '', '– Implementation', '', '– Support and Maintenance', '', '– Managed Services', '', 'Segmentation by Payment:', '', '– Bank Cards', '', '– Digital Currencies', '', '– Digital Wallets', '', '– Net Banking', '', '– Point of Sales', '', '– Others', '', 'Segmentation by Deployment Type:', '', '– On-premises', '', '– Cloud', '', 'Segmentation by Organization Size:', '', '– Small and Medium-sized Enterprises', '', '– Large Enterprises', '', 'Segmentation by Vertical:', '', '– Banking, Financial Services, And Insurance', '', '– Retail and Ecommerce', '', '– Healthcare', '', '– Travel and Hospitality', '', '– Transportation and Logistics', '', '– Media and Entertainment', '', '– Other Verticals', '', 'Key Reasons to Purchase This Market Study:', '', '? This report gives you analytical view of global market where all regional analysis', '', 'Are covered', '', '? This report contains market current size, share, growth prospectus and also included forecasted data', '', '? report studied on actual market growth so you can easily understand where market stands after several years.', '', '? Company partnership, future growth analysis, new opportunities values analysis are covered in this report.', '', 'Covid-19 Impact Analysis', '', 'The global coronavirus (COVID-19) epidemic has affected every aspect of life. The research offers a market overview, including definitions, applications, and manufacturing techniques. The Digital Payments market research contains both qualitative and quantitative data that are solely focused on the various factors.', '', 'Enquiry about report @ https://www.snsinsider.com/enquiry/1388', '', '(Black Friday Sale Is Live till 31st November 2022!! 20% Flat Discount on All Reports)', '', 'Regional Analysis & Outlook', '', 'Extensive multi-level research was undertaken on a wide range of geographical regions around the world in order to collect qualitative and quantitative market data from both internal and external sources. The strategy also requires the creation of a regional market analysis and forecast for each Digital Payments market area.', '', 'Regional Analysis Covered in this report:', '', '– North America [United States, Canada]', '', '– Europe [Germany, France, U.K., Italy, Russia]', '', '– Asia-Pacific [China, Japan, South Korea, India, Australia, China Taiwan, Indonesia, Thailand, Malaysia]', '', '– Latin America [Mexico, Brazil, Argentina]', '', '– Middle East & Africa [Turkey, Saudi Arabia, UAE]', '', 'Digital Payments Market Competitive Analysis', '', \"The purpose of this research is to outline past, present, and forecast changes in supply, market size, competition, and the value chain. The market report includes information on all of the industry's major players, such as company profiles, sizes, product values, specifications, and capacities. The Digital Payments market analysis attempts to forecast market estimates for the following year by evaluating market statistics from previous years for certain sectors and countries.\", '', 'Key Questions Answered in the Digital Payments Market Report', '', '– What are the most effective tactics for sustaining industry competition?', '', \"– What are the market's primary growth possibilities in the next years?\", '', '– What are the dimensions of the target market and its potential future growth?', '', 'Major Conclusion of This Research Study:', '', 'The Digital Payments market report will be used as a reference to help users fully comprehend every area of the industry. It focuses on the current market and anticipated trends to provide organizations with better knowledge.', '', 'Table of Contents – Major Key Points', '', '1. Introduction', '', '2. Research Methodology', '', '3. Market Dynamics', '', '4. Impact Analysis', '', '5. Value Chain Analysis', '', \"6. Porter's 5 Forces Model\", '', '7. PEST Analysis', '', '8. Digital Payments Market Segmentation, By Component', '', '9. Digital Payments Market Segmentation, By Payment', '', '10. Digital Payments Market Segmentation, By Deployment Type', '', '11. Digital Payments Market Segmentation, By Organization Size', '', '12. Digital Payments Market Segmentation, By Vertical', '', '13. Regional Analysis', '', '14. Company Profiles', '', '15. Competitive Landscape', '', '16. Conclusion', '', 'Buy 1-User PDF of Digital Payments Market 2022 @ https://www.snsinsider.com/checkout/1388', '', 'Contact Us:', '', 'Akash Anand – Head of Business Development & Strategy', '', '[email protected]', '', 'Phone: +1-415-230-0044 (US) | +91-7798602273 (IND)', '', 'About Us:', '', 'SNS Insider is a market research and insights firm that has won several awards and earned a solid reputation for service and strategy. We are not merely a research organization. We are a strategic partner who can assist you in reframing issues and generating answers to the trickiest business difficulties. For greater consumer insight and client experiences, we leverage the power of experience and people.', '', 'When you employ our services, you will collaborate with qualified and experienced staff. We believe it is crucial to collaborate with our clients to ensure that each project is customized to meet their demands. Nobody knows your customers or community better than you do. Therefore, our team needs to ask the correct questions that appeal to your audience in order to collect the best information.', '', 'For more information on this press release visit: http://www.sbwire.com/press-releases/digital-payments-market-size-revenue-development-strategies-business-risk-factors-analysis-industry-key-players-overview-and-segmentation-forecasts-to-2028-1367001.htm']\n"
          ]
        },
        {
          "output_type": "stream",
          "name": "stderr",
          "text": [
            "Some weights of the model checkpoint at yiyanghkust/finbert-pretrain were not used when initializing BertForMaskedLM: ['cls.seq_relationship.bias', 'cls.seq_relationship.weight']\n",
            "- This IS expected if you are initializing BertForMaskedLM from the checkpoint of a model trained on another task or with another architecture (e.g. initializing a BertForSequenceClassification model from a BertForPreTraining model).\n",
            "- This IS NOT expected if you are initializing BertForMaskedLM from the checkpoint of a model that you expect to be exactly identical (initializing a BertForSequenceClassification model from a BertForSequenceClassification model).\n",
            "Some weights of the model checkpoint at bert-base-uncased were not used when initializing BertModel: ['cls.predictions.transform.LayerNorm.bias', 'cls.predictions.transform.dense.weight', 'cls.predictions.transform.LayerNorm.weight', 'cls.predictions.decoder.weight', 'cls.seq_relationship.weight', 'cls.predictions.bias', 'cls.predictions.transform.dense.bias', 'cls.seq_relationship.bias']\n",
            "- This IS expected if you are initializing BertModel from the checkpoint of a model trained on another task or with another architecture (e.g. initializing a BertForSequenceClassification model from a BertForPreTraining model).\n",
            "- This IS NOT expected if you are initializing BertModel from the checkpoint of a model that you expect to be exactly identical (initializing a BertForSequenceClassification model from a BertForSequenceClassification model).\n"
          ]
        },
        {
          "output_type": "stream",
          "name": "stdout",
          "text": [
            "['The BJP government went into 2019 with a lot of energy and momentum. The electoral victory in May that year was decisive and rewarded the Prime Minister with more seats than he had secured in 2014. With the confidence of that mandate, and the idea that the people were with him on change, he began to spend the political capital he had earned. For one year, till June 2020, this continued and then it ran out of steam.', '', 'In this period of 12 months things happened, and much of the aftermath still remain with us. Let us look at how things unfolded.', '', 'On 25 July, the triple talaq bill was passed in the Lok Sabha. The Supreme Court had already invalidated it earlier, but now it was made a criminal offence. This was accompanied by a series of ‘freedom of religion’ laws in BJP states banning marriage between Hindus and Muslims. These were against what was called love jihad.', '', 'A few days after that, on 5 August Article 370 was undone. This was a special moment for the BJP. On 31 August, the final National Register of Citizens was published by Assam, which had begun the process of jailing those who could not prove their ancestors had been in the state before 1971. Another triumphal moment for the BJP came a few weeks after that, on 9 November. The Supreme Court delivered the Ayodhya judgement and handed the full site over for the temple, capping a three decade movement from the BJP. The next month, on 9 December, the Citizenship Amendment Act was passed in the Lok Sabha. Readers will recall that the Home Minister had promised that it was one claw of a two-part pincer. The other being a nationwide NRC.', '', 'The peak arrived a few weeks after that with the visit of then US President Donald Trump in the Narendra Modi stadium in Ahmedabad. This was possibly the point after which the agenda seems to have been exhausted. A nationwide movement against the CAA came with global outrage at what India was doing. The pogrom in Delhi during the presidential visit showed how little control there was even in the capital.', '', 'The next month came the national lockdown which some said was the world’s most severe. It didn’t change the trajectory of COVID infections in India. A few weeks after that was the terrible sequence in Ladakh where we lost 20 soldiers and which altered the national security dynamic of India by default, shifting focus from the west and against Pakistan to the east. We do not know, and even the Foreign Ninister says he is baffled, why China did what it did. On 5 June, one year after the victory came the last attempt at big change: the farm laws ordinance. The protest against them stalled the government’s momentum.', '', 'In Kashmir, having gutted Article 370, the BJP didn’t appear to know what to do next. It still doesn’t appear to know. Kashmir is the only part of South Asia to not have an elected government. It is three years since Article 370 went and four years since its Assembly was dissolved. Violence is not lower than it was in the few years before 2015 and we have seen the minority Pandits protesting about the way they have been treated.', '', 'The laws targeting minorities ran into trouble because they were not passed without application of mind. This month, a legal website ran this headline: “Madhya Pradesh Freedom Of Religion Act: HC finds provision requiring inter-faith couples to declare conversion before Collector ‘Prima Facie Unconstitutional’.” Gujarat High Court also sent a judgment against the law there.', '', 'The farm laws were undone with an apology from the Prime Minister after the largest mass mobilisation this country has seen. The CAA law is now three years old but the government for some reason cannot implement it. The talk of a nationwide NRC has ended.', '', 'Finally, even on the economy, not much was possible on the positive side after this period. The government’s data showed that GDP growth slowed across nine quarters, meaning for two years and three months, beginning January 2018. The arrival of COVID and the hit the economy took masked the damage it had already sustained. The reason Bangladesh overtook India in per capita GDP was not only because India mismanaged the pandemic. Our neighbour had been catching up since 2015 and it was inevitable that unless India did something remarkable to turn around its trajectory it would be left behind, and it was. Unemployment data from the government shows joblessness has been at record highs for four years.', '', 'The BJP’s 2019 manifesto said one of the indicators of its governance was the improvement in India’s position on the World Bank’s Doing Business (previously ease of doing business) rankings. Unfortunately, this ranking was discontinued in 2020 after some countries were found manipulating the process to improve their scores.', '', 'There is not much to show on governance after that one year burst of activity. The second wave finished off any credibility on that front and it was for a reason that even someone as fond of publicity as the Prime Minister did not appear in public for 20 days.', '', 'The listlessness shows in endless political campaigning conducted without much reference to performance, only to charisma. The past is not spoken about though it has not gone away and indeed even demonetisation is being heard by the Supreme Court now though the BJP wants it to be forgotten.']\n"
          ]
        },
        {
          "output_type": "stream",
          "name": "stderr",
          "text": [
            "Some weights of the model checkpoint at yiyanghkust/finbert-pretrain were not used when initializing BertForMaskedLM: ['cls.seq_relationship.bias', 'cls.seq_relationship.weight']\n",
            "- This IS expected if you are initializing BertForMaskedLM from the checkpoint of a model trained on another task or with another architecture (e.g. initializing a BertForSequenceClassification model from a BertForPreTraining model).\n",
            "- This IS NOT expected if you are initializing BertForMaskedLM from the checkpoint of a model that you expect to be exactly identical (initializing a BertForSequenceClassification model from a BertForSequenceClassification model).\n",
            "Some weights of the model checkpoint at bert-base-uncased were not used when initializing BertModel: ['cls.predictions.transform.LayerNorm.bias', 'cls.predictions.transform.dense.weight', 'cls.predictions.transform.LayerNorm.weight', 'cls.predictions.decoder.weight', 'cls.seq_relationship.weight', 'cls.predictions.bias', 'cls.predictions.transform.dense.bias', 'cls.seq_relationship.bias']\n",
            "- This IS expected if you are initializing BertModel from the checkpoint of a model trained on another task or with another architecture (e.g. initializing a BertForSequenceClassification model from a BertForPreTraining model).\n",
            "- This IS NOT expected if you are initializing BertModel from the checkpoint of a model that you expect to be exactly identical (initializing a BertForSequenceClassification model from a BertForSequenceClassification model).\n"
          ]
        },
        {
          "output_type": "stream",
          "name": "stdout",
          "text": [
            "['Cruise ship ‘Mein Schiff 5’ with 2,030 passengers, a majority of them Europeans and 945 crew members, will make its maiden call on Sri Lanka on November 29.', '', 'The ship will call at Hambantota Port on November 30, creating history as the first large passenger ship to call and stay overnight at the HIP Port.', '', 'Due to the ship being too large to berth in the Colombo Port passenger terminal it will anchor at the East container terminal making it the first cruise ship to be anchored there.', '', 'Hapag-lloyd Lanka (Pvt) Ltd will make the logistic arrangements while Aitken Spence Travels will be in charge of excursions. It will stay one night in Colombo and Hambantota.', '', 'This is the second back-to-back passenger cruise ship to call over on Sri Lanka after Norwegian ship Vikingmas carrying 700 tourists and 450 crew members arrived at the Colombo Port last week marking herself as the first cruise ship to call on Sri Lanka post-Covid.']\n"
          ]
        },
        {
          "output_type": "stream",
          "name": "stderr",
          "text": [
            "Some weights of the model checkpoint at yiyanghkust/finbert-pretrain were not used when initializing BertForMaskedLM: ['cls.seq_relationship.bias', 'cls.seq_relationship.weight']\n",
            "- This IS expected if you are initializing BertForMaskedLM from the checkpoint of a model trained on another task or with another architecture (e.g. initializing a BertForSequenceClassification model from a BertForPreTraining model).\n",
            "- This IS NOT expected if you are initializing BertForMaskedLM from the checkpoint of a model that you expect to be exactly identical (initializing a BertForSequenceClassification model from a BertForSequenceClassification model).\n",
            "Some weights of the model checkpoint at bert-base-uncased were not used when initializing BertModel: ['cls.predictions.transform.LayerNorm.bias', 'cls.predictions.transform.dense.weight', 'cls.predictions.transform.LayerNorm.weight', 'cls.predictions.decoder.weight', 'cls.seq_relationship.weight', 'cls.predictions.bias', 'cls.predictions.transform.dense.bias', 'cls.seq_relationship.bias']\n",
            "- This IS expected if you are initializing BertModel from the checkpoint of a model trained on another task or with another architecture (e.g. initializing a BertForSequenceClassification model from a BertForPreTraining model).\n",
            "- This IS NOT expected if you are initializing BertModel from the checkpoint of a model that you expect to be exactly identical (initializing a BertForSequenceClassification model from a BertForSequenceClassification model).\n"
          ]
        },
        {
          "output_type": "stream",
          "name": "stdout",
          "text": [
            "FOUND... Appending...\n",
            "successful saved...\n",
            " ==================================================\n"
          ]
        }
      ]
    },
    {
      "cell_type": "code",
      "source": [
        "mainbody('hang seng index')"
      ],
      "metadata": {
        "id": "GFvIEp6jz1ZZ",
        "colab": {
          "base_uri": "https://localhost:8080/"
        },
        "outputId": "f3f1ef9a-2386-4b45-ccc3-19987c3162dc"
      },
      "execution_count": 26,
      "outputs": [
        {
          "output_type": "stream",
          "name": "stdout",
          "text": [
            "{'title': 'Investors head north in global shift - 台北時報', 'published': 'Sun, 27 Nov 2022 16:00:00 GMT', 'published_parsed': time.struct_time(tm_year=2022, tm_mon=11, tm_mday=27, tm_hour=16, tm_min=0, tm_sec=0, tm_wday=6, tm_yday=331, tm_isdst=0), 'link': 'https://news.google.com/__i/rss/rd/articles/CBMiQ2h0dHBzOi8vd3d3LnRhaXBlaXRpbWVzLmNvbS9OZXdzL2Jpei9hcmNoaXZlcy8yMDIyLzExLzI4LzIwMDM3ODk3MDjSAQA?oc=5'}\n",
            "['💡 Before it’s here, it’s on Smartkarma', '', 'Sign Up for Free The Smartkarma Preview Pass is your entry to the Independent Investment Research Network ✓ Unlimited Research Summaries', '', '✓ Personalised Alerts', '', '✓ Custom Watchlists', '', '✓ Company Data and News', '', '✓ Events & Webinars Sign Up for Free']\n"
          ]
        },
        {
          "output_type": "stream",
          "name": "stderr",
          "text": [
            "Some weights of the model checkpoint at yiyanghkust/finbert-pretrain were not used when initializing BertForMaskedLM: ['cls.seq_relationship.bias', 'cls.seq_relationship.weight']\n",
            "- This IS expected if you are initializing BertForMaskedLM from the checkpoint of a model trained on another task or with another architecture (e.g. initializing a BertForSequenceClassification model from a BertForPreTraining model).\n",
            "- This IS NOT expected if you are initializing BertForMaskedLM from the checkpoint of a model that you expect to be exactly identical (initializing a BertForSequenceClassification model from a BertForSequenceClassification model).\n",
            "Some weights of the model checkpoint at bert-base-uncased were not used when initializing BertModel: ['cls.predictions.transform.LayerNorm.bias', 'cls.predictions.transform.dense.weight', 'cls.predictions.transform.LayerNorm.weight', 'cls.predictions.decoder.weight', 'cls.seq_relationship.weight', 'cls.predictions.bias', 'cls.predictions.transform.dense.bias', 'cls.seq_relationship.bias']\n",
            "- This IS expected if you are initializing BertModel from the checkpoint of a model trained on another task or with another architecture (e.g. initializing a BertForSequenceClassification model from a BertForPreTraining model).\n",
            "- This IS NOT expected if you are initializing BertModel from the checkpoint of a model that you expect to be exactly identical (initializing a BertForSequenceClassification model from a BertForSequenceClassification model).\n"
          ]
        },
        {
          "output_type": "stream",
          "name": "stdout",
          "text": [
            "['Investors head north in global shift', '', 'ASIAN REVIVAL: Indonesia has gone from an inflation hedge to underperformer, as Taiwanese and South Korean chip heavyweights lure investors, analysts said', '', 'Bloomberg', '', '', '', '', '', 'The nascent revival in North Asian equities is being touted as the start of a potential bull run as bets for China’s gradual reopening and the bottoming out of the chip industry intensify.', '', 'Strategists at Goldman Sachs Group Inc said they expect Asia’s equity leadership to shift from Southeast Asia and India to markets such as China and South Korea next year.', '', 'Meanwhile, Societe Generale SA said Taiwan’s tech-heavy market is also at an inflection point, and Jefferies Financial Group Inc has echoed similar views.', '', 'People wait to cross a street past an electronic sign showing numbers of the Hang Seng index in Hong Kong on Nov. 11, 2022. Photo: Isaac Lawrence, AFP', '', '“Of concern to us is that Southeast Asia is beginning to underperform in the last few weeks, as investors rotate back into North Asia,” CLSA chief equity strategist Alexander Redman said.', '', '“Indonesia, as a defensive, domestically oriented commodity exporter, was a logical refuge to ride out the equity storm,” he said, adding that the market would be “less favored as investors re-engage some deep value cyclical exposure in North Asia.”', '', 'Key equity gauges in Hong Kong have rallied about 20 percent this month, easily topping the rest of Asia and major global peers, as China urged more targeted COVID-19 restrictions and boosted policy support for the real-estate sector.', '', 'Foreigners have piled US$5.8 billion into Taiwan stocks this month, on track for the first inflows in six months and the biggest in 15 years. Net purchases of South Korean shares are set to exceed US$2 billion for a second straight month.', '', 'In contrast, Indonesia’s market — once investors’ favorite as an inflation hedge — is flat this month, and poised to see monthly flows turn negative for the first time since July.', '', 'Investors are also more wary about valuations in India, where benchmarks recently hit record highs, with Goldman Sachs expecting the market to relatively underperform next month.', '', '“Any positive catalysts such as a potential China reopening and policy support, lowering of geopolitical tensions or tech cycle bottoming is likely to drive a sharp rerating” of North Asian markets, Jefferies strategists led by Desh Peramunetilleke wrote in a note.', '', 'The brokerage is overweight on Taiwan, Hong Kong, China and South Korea, neutral on Indonesia and underweight on India.', '', 'The bullish case for Taiwan and South Korea is also built on their chip dominance, as the markets are home to industry heavyweights such as Samsung Electronics Co and Taiwan Semiconductor Manufacturing Co (TSMC, 台積電). They also have China as their largest trading partner.', '', 'SocGen and Lombard Odier Private Bank this month joined Morgan Stanley in saying that investors should tip-toe back into Asia’s semiconductor stocks.', '', '“Share prices typically bottom out two-to-three quarters ahead of the bottom of the semiconductor cycle,” SocGen strategists led by Alain Bokobza wrote in a note last week. “We may be at this point.”', '', 'Chinese shares in Hong Kong are poised for their best monthly showing since 2006, as asset managers from M&G Investments and Eastspring Investments to Franklin Templeton Investments buy into the rally.', '', 'On the mainland, foreign funds have snapped up about 49 billion yuan (US$6.83 billion) worth of stocks via trading links with Hong Kong.', '', 'That is not to say the road uphill for North Asia will be smooth.', '', 'With their heavy export dependence, the markets are vulnerable to the risk of a global recession and are often at the center of geopolitical tensions that involve the US and China. Further, a record jump in COVID-19 cases is also tempering positive market momentum.', '', '“There are ongoing concerns from the geopolitical side of the consideration,” William Blair Investment Management LLC portfolio manager Vivian Lin Thurston said.', '', 'Even though the industry cycle is turning, “if the global economy is getting into a slowdown, I think we have to reevaluate the cycle and the thesis,” she added.', '', 'Nonetheless, with earnings forecasts having fallen deeply across northern economies, markets might have more upside potential. Equity benchmarks in China, South Korea and Taiwan are down more than 15 percent year-on-year, while those in Indonesia and India are up about 7 percent each.']\n"
          ]
        },
        {
          "output_type": "stream",
          "name": "stderr",
          "text": [
            "Some weights of the model checkpoint at yiyanghkust/finbert-pretrain were not used when initializing BertForMaskedLM: ['cls.seq_relationship.bias', 'cls.seq_relationship.weight']\n",
            "- This IS expected if you are initializing BertForMaskedLM from the checkpoint of a model trained on another task or with another architecture (e.g. initializing a BertForSequenceClassification model from a BertForPreTraining model).\n",
            "- This IS NOT expected if you are initializing BertForMaskedLM from the checkpoint of a model that you expect to be exactly identical (initializing a BertForSequenceClassification model from a BertForSequenceClassification model).\n",
            "Some weights of the model checkpoint at bert-base-uncased were not used when initializing BertModel: ['cls.predictions.transform.LayerNorm.bias', 'cls.predictions.transform.dense.weight', 'cls.predictions.transform.LayerNorm.weight', 'cls.predictions.decoder.weight', 'cls.seq_relationship.weight', 'cls.predictions.bias', 'cls.predictions.transform.dense.bias', 'cls.seq_relationship.bias']\n",
            "- This IS expected if you are initializing BertModel from the checkpoint of a model trained on another task or with another architecture (e.g. initializing a BertForSequenceClassification model from a BertForPreTraining model).\n",
            "- This IS NOT expected if you are initializing BertModel from the checkpoint of a model that you expect to be exactly identical (initializing a BertForSequenceClassification model from a BertForSequenceClassification model).\n"
          ]
        },
        {
          "output_type": "stream",
          "name": "stdout",
          "text": [
            "['A month to go for the year and the bottom line for investment markets is that nothing much has changed – short term risks remain high and that could see share markets continuing to trade erratically.', '', 'The Fed’s thinking still dominates and that means US interest rates will continue to rise and in turn that means the value of the US dollar will impact investor thinking about value – even as the greenback falls slowly amid lingering fears of a US/global recession continue.', '', 'Markets, though, are now entering a happy time – the seasonally strong end of the year for shares.', '', 'Strategists want to see shares rally into January, ease going through February and remain above the recent lows and then for the rally to resume as the Fed and other major central banks wind back their tightening moves.', '', 'That’s the hope but failure to rally through the run up to Christmas and the New Year would be a bad sign and undermine market sentiment which has been wanting to rebound strongly now for two months.', '', 'Of course there are negatives – led by inflation remaining too high, China’s Covid case numbers continuing to grow and forcing the economy to slow dramatically and for labour markets to drop as jobless numbers start rising sharply.', '', 'We saw Friday a modest loosening of Chinese monetary policy with the People’s Bank of China announcing a 0.25% cut in the Reserve Requirement Ratio (RRR) – the proportion of money that lenders must hold as reserves. China last cut the RRR in April by the same amount.', '', 'Apart from Japan, that’s the most significant easing of monetary policy among developed economies for months and is an official acknowledgement the economy is weakening thanks to the impact of the third wave of Covid infections and the growing lockdowns and other control measures.', '', 'The central bank said on Friday that it would cut the RRR for financial institutions by 0.25% next Monday, which will release about 500 billion yuan ($US69.75 billion) in long-term funds.', '', 'The RRR cut will be on top of the tens of billions of dollars in bank loans and bond issues approved by the central bank for China’s embattled property companies – especially state-owned developers. More than $US80 billion in loans, bond issues and other financing moves were approved last week.', '', 'But this week also sees a speech by Fed chair Jay Powell that will have a big impact on the markets, especially as it will be this last before the important two-day Fed meeting in mid-December.', '', 'His words are likely to help market sentiment, giving the minutes of the last Fed meeting showed a changing attitude to the pace of rate rises.', '', 'Friday saw the Dow rise 152.97 points, or 0.45% to 34,347.03; the S&P 500 fell 0.03% to end the day at 4,026.12. The Nasdaq Composite slipped 0.52% to 11,226.36,', '', 'Shares of Apple fell 2% on news of reduced iPhone shipments from a Foxconn assembly plant in China as production was hit by worker unrest over the country’s strict health rules.', '', 'All three indexes ended the week higher and at five-month highs.', '', 'The Dow is up 1.78%, and the S&P 500 is up 1.53% during the short week. The tech-heavy Nasdaq is lagging the other two indexes but is still up 0.72%', '', 'The AMP’s chief economist, Shane Oliver said markets “resumed their rally last week helped by further signs of a slowing in rate hikes from the Fed and a decline in bond yields.”', '', '“While the latter may partly reflect recession fears, lower bond yields also make shares more attractive from a valuation perspective.”', '', 'Besides the rise in the US market, Eurozone rose 1.2% and Japanese shares were up 1.4%, but Chinese shares fell 0.7% on Covid lockdown worries. Hong Kong’s Hang Seng Index fell more than 2.2%, even though the bailout of China’s struggling property sector accelerated.', '', 'The ASX 200 closed out the week with a fourth straight day of gains on Friday, adding 0.2% higher to 7,259.5 points with only two sectors, energy and mining, posting losses.', '', 'The Australian dollar surged against the US overnight and was trading at 67.51 US cents early Saturday morning, Sydney time.', '', 'The positive global lead saw Australian shares rise 1.5% to their highest since May and the market is now down by only 2.5% for the year to date.', '', 'Bond yields fell further. Oil and iron ore prices fell but copper prices were little changed.']\n"
          ]
        },
        {
          "output_type": "stream",
          "name": "stderr",
          "text": [
            "Some weights of the model checkpoint at yiyanghkust/finbert-pretrain were not used when initializing BertForMaskedLM: ['cls.seq_relationship.bias', 'cls.seq_relationship.weight']\n",
            "- This IS expected if you are initializing BertForMaskedLM from the checkpoint of a model trained on another task or with another architecture (e.g. initializing a BertForSequenceClassification model from a BertForPreTraining model).\n",
            "- This IS NOT expected if you are initializing BertForMaskedLM from the checkpoint of a model that you expect to be exactly identical (initializing a BertForSequenceClassification model from a BertForSequenceClassification model).\n",
            "Some weights of the model checkpoint at bert-base-uncased were not used when initializing BertModel: ['cls.predictions.transform.LayerNorm.bias', 'cls.predictions.transform.dense.weight', 'cls.predictions.transform.LayerNorm.weight', 'cls.predictions.decoder.weight', 'cls.seq_relationship.weight', 'cls.predictions.bias', 'cls.predictions.transform.dense.bias', 'cls.seq_relationship.bias']\n",
            "- This IS expected if you are initializing BertModel from the checkpoint of a model trained on another task or with another architecture (e.g. initializing a BertForSequenceClassification model from a BertForPreTraining model).\n",
            "- This IS NOT expected if you are initializing BertModel from the checkpoint of a model that you expect to be exactly identical (initializing a BertForSequenceClassification model from a BertForSequenceClassification model).\n"
          ]
        },
        {
          "output_type": "stream",
          "name": "stdout",
          "text": [
            "['💡 Before it’s here, it’s on Smartkarma', '', 'Sign Up for Free The Smartkarma Preview Pass is your entry to the Independent Investment Research Network ✓ Unlimited Research Summaries', '', '✓ Personalised Alerts', '', '✓ Custom Watchlists', '', '✓ Company Data and News', '', '✓ Events & Webinars Sign Up for Free']\n"
          ]
        },
        {
          "output_type": "stream",
          "name": "stderr",
          "text": [
            "Some weights of the model checkpoint at yiyanghkust/finbert-pretrain were not used when initializing BertForMaskedLM: ['cls.seq_relationship.bias', 'cls.seq_relationship.weight']\n",
            "- This IS expected if you are initializing BertForMaskedLM from the checkpoint of a model trained on another task or with another architecture (e.g. initializing a BertForSequenceClassification model from a BertForPreTraining model).\n",
            "- This IS NOT expected if you are initializing BertForMaskedLM from the checkpoint of a model that you expect to be exactly identical (initializing a BertForSequenceClassification model from a BertForSequenceClassification model).\n",
            "Some weights of the model checkpoint at bert-base-uncased were not used when initializing BertModel: ['cls.predictions.transform.LayerNorm.bias', 'cls.predictions.transform.dense.weight', 'cls.predictions.transform.LayerNorm.weight', 'cls.predictions.decoder.weight', 'cls.seq_relationship.weight', 'cls.predictions.bias', 'cls.predictions.transform.dense.bias', 'cls.seq_relationship.bias']\n",
            "- This IS expected if you are initializing BertModel from the checkpoint of a model trained on another task or with another architecture (e.g. initializing a BertForSequenceClassification model from a BertForPreTraining model).\n",
            "- This IS NOT expected if you are initializing BertModel from the checkpoint of a model that you expect to be exactly identical (initializing a BertForSequenceClassification model from a BertForSequenceClassification model).\n"
          ]
        },
        {
          "output_type": "stream",
          "name": "stdout",
          "text": [
            "['💡 Before it’s here, it’s on Smartkarma', '', 'Sign Up for Free The Smartkarma Preview Pass is your entry to the Independent Investment Research Network ✓ Unlimited Research Summaries', '', '✓ Personalised Alerts', '', '✓ Custom Watchlists', '', '✓ Company Data and News', '', '✓ Events & Webinars Sign Up for Free']\n"
          ]
        },
        {
          "output_type": "stream",
          "name": "stderr",
          "text": [
            "Some weights of the model checkpoint at yiyanghkust/finbert-pretrain were not used when initializing BertForMaskedLM: ['cls.seq_relationship.bias', 'cls.seq_relationship.weight']\n",
            "- This IS expected if you are initializing BertForMaskedLM from the checkpoint of a model trained on another task or with another architecture (e.g. initializing a BertForSequenceClassification model from a BertForPreTraining model).\n",
            "- This IS NOT expected if you are initializing BertForMaskedLM from the checkpoint of a model that you expect to be exactly identical (initializing a BertForSequenceClassification model from a BertForSequenceClassification model).\n",
            "Some weights of the model checkpoint at bert-base-uncased were not used when initializing BertModel: ['cls.predictions.transform.LayerNorm.bias', 'cls.predictions.transform.dense.weight', 'cls.predictions.transform.LayerNorm.weight', 'cls.predictions.decoder.weight', 'cls.seq_relationship.weight', 'cls.predictions.bias', 'cls.predictions.transform.dense.bias', 'cls.seq_relationship.bias']\n",
            "- This IS expected if you are initializing BertModel from the checkpoint of a model trained on another task or with another architecture (e.g. initializing a BertForSequenceClassification model from a BertForPreTraining model).\n",
            "- This IS NOT expected if you are initializing BertModel from the checkpoint of a model that you expect to be exactly identical (initializing a BertForSequenceClassification model from a BertForSequenceClassification model).\n"
          ]
        },
        {
          "output_type": "stream",
          "name": "stdout",
          "text": [
            "['💡 Before it’s here, it’s on Smartkarma', '', 'Sign Up for Free The Smartkarma Preview Pass is your entry to the Independent Investment Research Network ✓ Unlimited Research Summaries', '', '✓ Personalised Alerts', '', '✓ Custom Watchlists', '', '✓ Company Data and News', '', '✓ Events & Webinars Sign Up for Free']\n"
          ]
        },
        {
          "output_type": "stream",
          "name": "stderr",
          "text": [
            "Some weights of the model checkpoint at yiyanghkust/finbert-pretrain were not used when initializing BertForMaskedLM: ['cls.seq_relationship.bias', 'cls.seq_relationship.weight']\n",
            "- This IS expected if you are initializing BertForMaskedLM from the checkpoint of a model trained on another task or with another architecture (e.g. initializing a BertForSequenceClassification model from a BertForPreTraining model).\n",
            "- This IS NOT expected if you are initializing BertForMaskedLM from the checkpoint of a model that you expect to be exactly identical (initializing a BertForSequenceClassification model from a BertForSequenceClassification model).\n",
            "Some weights of the model checkpoint at bert-base-uncased were not used when initializing BertModel: ['cls.predictions.transform.LayerNorm.bias', 'cls.predictions.transform.dense.weight', 'cls.predictions.transform.LayerNorm.weight', 'cls.predictions.decoder.weight', 'cls.seq_relationship.weight', 'cls.predictions.bias', 'cls.predictions.transform.dense.bias', 'cls.seq_relationship.bias']\n",
            "- This IS expected if you are initializing BertModel from the checkpoint of a model trained on another task or with another architecture (e.g. initializing a BertForSequenceClassification model from a BertForPreTraining model).\n",
            "- This IS NOT expected if you are initializing BertModel from the checkpoint of a model that you expect to be exactly identical (initializing a BertForSequenceClassification model from a BertForSequenceClassification model).\n"
          ]
        },
        {
          "output_type": "stream",
          "name": "stdout",
          "text": [
            "FOUND... Appending...\n",
            "successful saved...\n",
            " ==================================================\n"
          ]
        }
      ]
    },
    {
      "cell_type": "markdown",
      "source": [
        "#Enter the stocks ID and download all the data from yahoo finance"
      ],
      "metadata": {
        "id": "Uy0iJyvRv5gB"
      }
    },
    {
      "cell_type": "code",
      "source": [
        "#0023.HK - BEA\n",
        "#0005.HK - HSBC\n",
        "#^HSI - Heng Seng Index\n",
        "df_stock_hsbc = get_stocks('0005.HK')\n",
        "df_stock_bea = get_stocks('0023.HK')\n",
        "df_stock_hsi = get_stocks('^HSI')\n",
        "\n",
        "df_stock_hsbc.to_excel(\"Stock HSBC.xlsx\", index = None)\n",
        "df_stock_bea.to_excel(\"Stock BEA.xlsx\", index = None)\n",
        "df_stock_hsi.to_excel(\"Stock HSI.xlsx\", index = None)\n"
      ],
      "metadata": {
        "id": "6lDKwEN4jGiN",
        "colab": {
          "base_uri": "https://localhost:8080/"
        },
        "outputId": "3888cae9-0069-425c-9aab-3a5beca8138c"
      },
      "execution_count": 27,
      "outputs": [
        {
          "output_type": "stream",
          "name": "stdout",
          "text": [
            "[*********************100%***********************]  1 of 1 completed\n",
            "[*********************100%***********************]  1 of 1 completed\n",
            "[*********************100%***********************]  1 of 1 completed\n"
          ]
        }
      ]
    },
    {
      "cell_type": "code",
      "source": [
        "df_stock_hsi"
      ],
      "metadata": {
        "id": "d1oI-W2c5bJm",
        "colab": {
          "base_uri": "https://localhost:8080/",
          "height": 455
        },
        "outputId": "fb352a10-539e-44af-c292-b3f994b80488"
      },
      "execution_count": 28,
      "outputs": [
        {
          "output_type": "execute_result",
          "data": {
            "text/plain": [
              "                    Open          High           Low         Close  \\\n",
              "Date                                                                 \n",
              "2020-01-02  28249.369141  28543.519531  28245.970703  28543.519531   \n",
              "2020-01-03  28828.359375  28883.300781  28428.169922  28451.500000   \n",
              "2020-01-06  28326.500000  28367.869141  28054.289062  28226.189453   \n",
              "2020-01-07  28352.679688  28473.080078  28264.070312  28322.060547   \n",
              "2020-01-08  27999.580078  28198.609375  27857.730469  28087.919922   \n",
              "...                  ...           ...           ...           ...   \n",
              "2022-11-21  17654.150391  17746.339844  17389.449219  17655.910156   \n",
              "2022-11-22  17625.189453  17751.929688  17287.599609  17424.410156   \n",
              "2022-11-23  17460.900391  17640.839844  17375.960938  17523.810547   \n",
              "2022-11-24  17684.529297  17759.240234  17517.119141  17660.900391   \n",
              "2022-11-25  17673.199219  17673.199219  17412.039062  17573.580078   \n",
              "\n",
              "               Adj Close      Volume  \n",
              "Date                                  \n",
              "2020-01-02  28543.519531  1262732800  \n",
              "2020-01-03  28451.500000  1797904800  \n",
              "2020-01-06  28226.189453  1793426600  \n",
              "2020-01-07  28322.060547  1302687200  \n",
              "2020-01-08  28087.919922  1709241600  \n",
              "...                  ...         ...  \n",
              "2022-11-21  17655.910156  2230983500  \n",
              "2022-11-22  17424.410156  3024902000  \n",
              "2022-11-23  17523.810547  2423764400  \n",
              "2022-11-24  17660.900391  2910419300  \n",
              "2022-11-25  17573.580078  3176711400  \n",
              "\n",
              "[718 rows x 6 columns]"
            ],
            "text/html": [
              "\n",
              "  <div id=\"df-77cd05ca-54ef-47e7-a3b2-b6a5ea47acf9\">\n",
              "    <div class=\"colab-df-container\">\n",
              "      <div>\n",
              "<style scoped>\n",
              "    .dataframe tbody tr th:only-of-type {\n",
              "        vertical-align: middle;\n",
              "    }\n",
              "\n",
              "    .dataframe tbody tr th {\n",
              "        vertical-align: top;\n",
              "    }\n",
              "\n",
              "    .dataframe thead th {\n",
              "        text-align: right;\n",
              "    }\n",
              "</style>\n",
              "<table border=\"1\" class=\"dataframe\">\n",
              "  <thead>\n",
              "    <tr style=\"text-align: right;\">\n",
              "      <th></th>\n",
              "      <th>Open</th>\n",
              "      <th>High</th>\n",
              "      <th>Low</th>\n",
              "      <th>Close</th>\n",
              "      <th>Adj Close</th>\n",
              "      <th>Volume</th>\n",
              "    </tr>\n",
              "    <tr>\n",
              "      <th>Date</th>\n",
              "      <th></th>\n",
              "      <th></th>\n",
              "      <th></th>\n",
              "      <th></th>\n",
              "      <th></th>\n",
              "      <th></th>\n",
              "    </tr>\n",
              "  </thead>\n",
              "  <tbody>\n",
              "    <tr>\n",
              "      <th>2020-01-02</th>\n",
              "      <td>28249.369141</td>\n",
              "      <td>28543.519531</td>\n",
              "      <td>28245.970703</td>\n",
              "      <td>28543.519531</td>\n",
              "      <td>28543.519531</td>\n",
              "      <td>1262732800</td>\n",
              "    </tr>\n",
              "    <tr>\n",
              "      <th>2020-01-03</th>\n",
              "      <td>28828.359375</td>\n",
              "      <td>28883.300781</td>\n",
              "      <td>28428.169922</td>\n",
              "      <td>28451.500000</td>\n",
              "      <td>28451.500000</td>\n",
              "      <td>1797904800</td>\n",
              "    </tr>\n",
              "    <tr>\n",
              "      <th>2020-01-06</th>\n",
              "      <td>28326.500000</td>\n",
              "      <td>28367.869141</td>\n",
              "      <td>28054.289062</td>\n",
              "      <td>28226.189453</td>\n",
              "      <td>28226.189453</td>\n",
              "      <td>1793426600</td>\n",
              "    </tr>\n",
              "    <tr>\n",
              "      <th>2020-01-07</th>\n",
              "      <td>28352.679688</td>\n",
              "      <td>28473.080078</td>\n",
              "      <td>28264.070312</td>\n",
              "      <td>28322.060547</td>\n",
              "      <td>28322.060547</td>\n",
              "      <td>1302687200</td>\n",
              "    </tr>\n",
              "    <tr>\n",
              "      <th>2020-01-08</th>\n",
              "      <td>27999.580078</td>\n",
              "      <td>28198.609375</td>\n",
              "      <td>27857.730469</td>\n",
              "      <td>28087.919922</td>\n",
              "      <td>28087.919922</td>\n",
              "      <td>1709241600</td>\n",
              "    </tr>\n",
              "    <tr>\n",
              "      <th>...</th>\n",
              "      <td>...</td>\n",
              "      <td>...</td>\n",
              "      <td>...</td>\n",
              "      <td>...</td>\n",
              "      <td>...</td>\n",
              "      <td>...</td>\n",
              "    </tr>\n",
              "    <tr>\n",
              "      <th>2022-11-21</th>\n",
              "      <td>17654.150391</td>\n",
              "      <td>17746.339844</td>\n",
              "      <td>17389.449219</td>\n",
              "      <td>17655.910156</td>\n",
              "      <td>17655.910156</td>\n",
              "      <td>2230983500</td>\n",
              "    </tr>\n",
              "    <tr>\n",
              "      <th>2022-11-22</th>\n",
              "      <td>17625.189453</td>\n",
              "      <td>17751.929688</td>\n",
              "      <td>17287.599609</td>\n",
              "      <td>17424.410156</td>\n",
              "      <td>17424.410156</td>\n",
              "      <td>3024902000</td>\n",
              "    </tr>\n",
              "    <tr>\n",
              "      <th>2022-11-23</th>\n",
              "      <td>17460.900391</td>\n",
              "      <td>17640.839844</td>\n",
              "      <td>17375.960938</td>\n",
              "      <td>17523.810547</td>\n",
              "      <td>17523.810547</td>\n",
              "      <td>2423764400</td>\n",
              "    </tr>\n",
              "    <tr>\n",
              "      <th>2022-11-24</th>\n",
              "      <td>17684.529297</td>\n",
              "      <td>17759.240234</td>\n",
              "      <td>17517.119141</td>\n",
              "      <td>17660.900391</td>\n",
              "      <td>17660.900391</td>\n",
              "      <td>2910419300</td>\n",
              "    </tr>\n",
              "    <tr>\n",
              "      <th>2022-11-25</th>\n",
              "      <td>17673.199219</td>\n",
              "      <td>17673.199219</td>\n",
              "      <td>17412.039062</td>\n",
              "      <td>17573.580078</td>\n",
              "      <td>17573.580078</td>\n",
              "      <td>3176711400</td>\n",
              "    </tr>\n",
              "  </tbody>\n",
              "</table>\n",
              "<p>718 rows × 6 columns</p>\n",
              "</div>\n",
              "      <button class=\"colab-df-convert\" onclick=\"convertToInteractive('df-77cd05ca-54ef-47e7-a3b2-b6a5ea47acf9')\"\n",
              "              title=\"Convert this dataframe to an interactive table.\"\n",
              "              style=\"display:none;\">\n",
              "        \n",
              "  <svg xmlns=\"http://www.w3.org/2000/svg\" height=\"24px\"viewBox=\"0 0 24 24\"\n",
              "       width=\"24px\">\n",
              "    <path d=\"M0 0h24v24H0V0z\" fill=\"none\"/>\n",
              "    <path d=\"M18.56 5.44l.94 2.06.94-2.06 2.06-.94-2.06-.94-.94-2.06-.94 2.06-2.06.94zm-11 1L8.5 8.5l.94-2.06 2.06-.94-2.06-.94L8.5 2.5l-.94 2.06-2.06.94zm10 10l.94 2.06.94-2.06 2.06-.94-2.06-.94-.94-2.06-.94 2.06-2.06.94z\"/><path d=\"M17.41 7.96l-1.37-1.37c-.4-.4-.92-.59-1.43-.59-.52 0-1.04.2-1.43.59L10.3 9.45l-7.72 7.72c-.78.78-.78 2.05 0 2.83L4 21.41c.39.39.9.59 1.41.59.51 0 1.02-.2 1.41-.59l7.78-7.78 2.81-2.81c.8-.78.8-2.07 0-2.86zM5.41 20L4 18.59l7.72-7.72 1.47 1.35L5.41 20z\"/>\n",
              "  </svg>\n",
              "      </button>\n",
              "      \n",
              "  <style>\n",
              "    .colab-df-container {\n",
              "      display:flex;\n",
              "      flex-wrap:wrap;\n",
              "      gap: 12px;\n",
              "    }\n",
              "\n",
              "    .colab-df-convert {\n",
              "      background-color: #E8F0FE;\n",
              "      border: none;\n",
              "      border-radius: 50%;\n",
              "      cursor: pointer;\n",
              "      display: none;\n",
              "      fill: #1967D2;\n",
              "      height: 32px;\n",
              "      padding: 0 0 0 0;\n",
              "      width: 32px;\n",
              "    }\n",
              "\n",
              "    .colab-df-convert:hover {\n",
              "      background-color: #E2EBFA;\n",
              "      box-shadow: 0px 1px 2px rgba(60, 64, 67, 0.3), 0px 1px 3px 1px rgba(60, 64, 67, 0.15);\n",
              "      fill: #174EA6;\n",
              "    }\n",
              "\n",
              "    [theme=dark] .colab-df-convert {\n",
              "      background-color: #3B4455;\n",
              "      fill: #D2E3FC;\n",
              "    }\n",
              "\n",
              "    [theme=dark] .colab-df-convert:hover {\n",
              "      background-color: #434B5C;\n",
              "      box-shadow: 0px 1px 3px 1px rgba(0, 0, 0, 0.15);\n",
              "      filter: drop-shadow(0px 1px 2px rgba(0, 0, 0, 0.3));\n",
              "      fill: #FFFFFF;\n",
              "    }\n",
              "  </style>\n",
              "\n",
              "      <script>\n",
              "        const buttonEl =\n",
              "          document.querySelector('#df-77cd05ca-54ef-47e7-a3b2-b6a5ea47acf9 button.colab-df-convert');\n",
              "        buttonEl.style.display =\n",
              "          google.colab.kernel.accessAllowed ? 'block' : 'none';\n",
              "\n",
              "        async function convertToInteractive(key) {\n",
              "          const element = document.querySelector('#df-77cd05ca-54ef-47e7-a3b2-b6a5ea47acf9');\n",
              "          const dataTable =\n",
              "            await google.colab.kernel.invokeFunction('convertToInteractive',\n",
              "                                                     [key], {});\n",
              "          if (!dataTable) return;\n",
              "\n",
              "          const docLinkHtml = 'Like what you see? Visit the ' +\n",
              "            '<a target=\"_blank\" href=https://colab.research.google.com/notebooks/data_table.ipynb>data table notebook</a>'\n",
              "            + ' to learn more about interactive tables.';\n",
              "          element.innerHTML = '';\n",
              "          dataTable['output_type'] = 'display_data';\n",
              "          await google.colab.output.renderOutput(dataTable, element);\n",
              "          const docLink = document.createElement('div');\n",
              "          docLink.innerHTML = docLinkHtml;\n",
              "          element.appendChild(docLink);\n",
              "        }\n",
              "      </script>\n",
              "    </div>\n",
              "  </div>\n",
              "  "
            ]
          },
          "metadata": {},
          "execution_count": 28
        }
      ]
    },
    {
      "cell_type": "markdown",
      "source": [
        "#Testing (Old Code)\n"
      ],
      "metadata": {
        "id": "azkm7TplwEUb"
      }
    },
    {
      "cell_type": "code",
      "source": [
        "'''\n",
        "#count the pov / neg / neutral\n",
        "sent_positive = df_sentences_sentiment.Tone.str.count(\"Positive\").sum()\n",
        "sent_negative = df_sentences_sentiment.Tone.str.count(\"Negative\").sum()\n",
        "sent_neutral = df_sentences_sentiment.Tone.str.count(\"Neutral\").sum()\n",
        "total = sent_positive + sent_negative + sent_neutral\n",
        "print(' Positive:',sent_positive,' Ratio:',(sent_positive/total)*100,'%','\\n',\n",
        "   'Negative:',sent_negative,' Ratio:',(sent_negative/total)*100,'%','\\n',\n",
        "   'Neutral:',sent_neutral,' Ratio:',(sent_neutral/total)*100,'%','\\n',\n",
        "   'Total',total)\n",
        "print('='*100)\n",
        "d = df_sentences_sentiment\n",
        "#d = df_sentences_sentiment.loc[df_sentences_sentiment['Tone'] == 'Positive']\n",
        "print(d)\n",
        "df_sentences_sentiment\n",
        "#find the length and mean \n",
        "#print(df_sentences_sentiment['Tone Score'].sum()/len(df_sentences_sentiment['Tone Score']))\n",
        "'''"
      ],
      "metadata": {
        "id": "1JE0qNPfsEVf",
        "colab": {
          "base_uri": "https://localhost:8080/",
          "height": 122
        },
        "outputId": "b889119b-8197-4d1e-893d-5047b72605c0"
      },
      "execution_count": 29,
      "outputs": [
        {
          "output_type": "execute_result",
          "data": {
            "text/plain": [
              "'\\n#count the pov / neg / neutral\\nsent_positive = df_sentences_sentiment.Tone.str.count(\"Positive\").sum()\\nsent_negative = df_sentences_sentiment.Tone.str.count(\"Negative\").sum()\\nsent_neutral = df_sentences_sentiment.Tone.str.count(\"Neutral\").sum()\\ntotal = sent_positive + sent_negative + sent_neutral\\nprint(\\' Positive:\\',sent_positive,\\' Ratio:\\',(sent_positive/total)*100,\\'%\\',\\'\\n\\',\\n   \\'Negative:\\',sent_negative,\\' Ratio:\\',(sent_negative/total)*100,\\'%\\',\\'\\n\\',\\n   \\'Neutral:\\',sent_neutral,\\' Ratio:\\',(sent_neutral/total)*100,\\'%\\',\\'\\n\\',\\n   \\'Total\\',total)\\nprint(\\'=\\'*100)\\nd = df_sentences_sentiment\\n#d = df_sentences_sentiment.loc[df_sentences_sentiment[\\'Tone\\'] == \\'Positive\\']\\nprint(d)\\ndf_sentences_sentiment\\n#find the length and mean \\n#print(df_sentences_sentiment[\\'Tone Score\\'].sum()/len(df_sentences_sentiment[\\'Tone Score\\']))\\n'"
            ],
            "application/vnd.google.colaboratory.intrinsic+json": {
              "type": "string"
            }
          },
          "metadata": {},
          "execution_count": 29
        }
      ]
    },
    {
      "cell_type": "code",
      "source": [],
      "metadata": {
        "id": "XdhXsGl3153C"
      },
      "execution_count": 29,
      "outputs": []
    }
  ]
}