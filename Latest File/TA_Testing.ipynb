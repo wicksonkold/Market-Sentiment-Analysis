{
  "nbformat": 4,
  "nbformat_minor": 0,
  "metadata": {
    "colab": {
      "provenance": [],
      "mount_file_id": "196sSkFyj0lVtZyFDUeSK9fI4636IxPZj",
      "authorship_tag": "ABX9TyOFsrZuL9LR/0yN/HQvbjPV",
      "include_colab_link": true
    },
    "kernelspec": {
      "name": "python3",
      "display_name": "Python 3"
    },
    "language_info": {
      "name": "python"
    }
  },
  "cells": [
    {
      "cell_type": "markdown",
      "metadata": {
        "id": "view-in-github",
        "colab_type": "text"
      },
      "source": [
        "<a href=\"https://colab.research.google.com/github/wicksonkold/Market-Sentiment-Analysis/blob/main/TA_Testing.ipynb\" target=\"_parent\"><img src=\"https://colab.research.google.com/assets/colab-badge.svg\" alt=\"Open In Colab\"/></a>"
      ]
    },
    {
      "cell_type": "markdown",
      "source": [
        "#Money Flow Index\n",
        "#Relative Strength Index\n",
        "#Moving Average Convergence/Divergence"
      ],
      "metadata": {
        "id": "zq17pGJUdX4H"
      }
    },
    {
      "cell_type": "code",
      "source": [
        "!pip install pandas --upgrade --quiet\n",
        "!pip install numpy --upgrade --quiet\n",
        "!pip install yfinance --upgrade --quiet\n",
        "!pip install ta --upgrade --quiet\n",
        "!pip install pygooglenews --upgrade --quiet\n",
        "!pip install matplotlib --upgrade --quiet"
      ],
      "metadata": {
        "colab": {
          "base_uri": "https://localhost:8080/"
        },
        "id": "Kdm3QGD1X93l",
        "outputId": "a9d64f27-6cab-43c2-ab1d-2ead17ea16ae"
      },
      "execution_count": 1,
      "outputs": [
        {
          "output_type": "stream",
          "name": "stdout",
          "text": [
            "\u001b[K     |████████████████████████████████| 12.2 MB 5.3 MB/s \n",
            "\u001b[K     |████████████████████████████████| 17.1 MB 4.6 MB/s \n",
            "\u001b[31mERROR: pip's dependency resolver does not currently take into account all the packages that are installed. This behaviour is the source of the following dependency conflicts.\n",
            "scipy 1.7.3 requires numpy<1.23.0,>=1.16.5, but you have numpy 1.23.5 which is incompatible.\u001b[0m\n",
            "\u001b[K     |████████████████████████████████| 62 kB 993 kB/s \n",
            "\u001b[?25h  Building wheel for ta (setup.py) ... \u001b[?25l\u001b[?25hdone\n",
            "\u001b[K     |████████████████████████████████| 362 kB 5.2 MB/s \n",
            "\u001b[K     |████████████████████████████████| 1.2 MB 46.3 MB/s \n",
            "\u001b[K     |████████████████████████████████| 128 kB 45.1 MB/s \n",
            "\u001b[?25h  Building wheel for feedparser (setup.py) ... \u001b[?25l\u001b[?25hdone\n",
            "\u001b[K     |████████████████████████████████| 9.4 MB 5.2 MB/s \n",
            "\u001b[K     |████████████████████████████████| 965 kB 58.3 MB/s \n",
            "\u001b[K     |████████████████████████████████| 295 kB 57.7 MB/s \n",
            "\u001b[?25h"
          ]
        }
      ]
    },
    {
      "cell_type": "code",
      "source": [
        "import yfinance as yf\n",
        "import pandas as pd\n",
        "import numpy as np\n",
        "import datetime\n",
        "import matplotlib.pyplot as plt\n",
        "import ta\n",
        "\n",
        "def get_stocks(name):\n",
        "  #time\n",
        "  current_time = datetime.datetime.now()\n",
        "  start_date = '2014-01-01'\n",
        "  end_date = current_time\n",
        "\n",
        "  # Set the ticker\n",
        "  ticker = name \n",
        "  # Get the data\n",
        "  data = yf.download(ticker, start_date, end_date)\n",
        "  # Print the last 5 rows\n",
        "  #print(data.head())\n",
        "  df = pd.DataFrame(data=data)\n",
        "  return df"
      ],
      "metadata": {
        "id": "fY9-tPUOIy8w"
      },
      "execution_count": 2,
      "outputs": []
    },
    {
      "cell_type": "code",
      "source": [
        "#0023.HK - BEA\n",
        "#0005.HK - HSBC\n",
        "#^HSI - Heng Seng Index\n",
        "df_stock_hsbc = get_stocks('0005.HK')\n",
        "df_stock_bea = get_stocks('0023.HK')\n",
        "df_stock_hsi = get_stocks('^HSI')\n",
        "\n",
        "'''\n",
        "df_stock_hsbc.to_excel(\"Stock HSBC.xlsx\", index = None)\n",
        "df_stock_bea.to_excel(\"Stock BEA.xlsx\", index = None)\n",
        "df_stock_hsi.to_excel(\"Stock HSI.xlsx\", index = None)\n",
        "'''"
      ],
      "metadata": {
        "colab": {
          "base_uri": "https://localhost:8080/",
          "height": 87
        },
        "id": "9_2Tx-8sIy_I",
        "outputId": "e3ec3ab8-2ff3-4ef3-83d0-f765bbd12995"
      },
      "execution_count": 3,
      "outputs": [
        {
          "output_type": "stream",
          "name": "stdout",
          "text": [
            "[*********************100%***********************]  1 of 1 completed\n",
            "[*********************100%***********************]  1 of 1 completed\n",
            "[*********************100%***********************]  1 of 1 completed\n"
          ]
        },
        {
          "output_type": "execute_result",
          "data": {
            "text/plain": [
              "'\\ndf_stock_hsbc.to_excel(\"Stock HSBC.xlsx\", index = None)\\ndf_stock_bea.to_excel(\"Stock BEA.xlsx\", index = None)\\ndf_stock_hsi.to_excel(\"Stock HSI.xlsx\", index = None)\\n'"
            ],
            "application/vnd.google.colaboratory.intrinsic+json": {
              "type": "string"
            }
          },
          "metadata": {},
          "execution_count": 3
        }
      ]
    },
    {
      "cell_type": "markdown",
      "source": [
        "#TA"
      ],
      "metadata": {
        "id": "lIihXRZfnvH4"
      }
    },
    {
      "cell_type": "code",
      "source": [
        "df_stock_hsbc.info()"
      ],
      "metadata": {
        "id": "rFuDV6Jmnuy1",
        "colab": {
          "base_uri": "https://localhost:8080/"
        },
        "outputId": "11f4ac3c-63fd-443b-fc17-466bd9578c84"
      },
      "execution_count": 4,
      "outputs": [
        {
          "output_type": "stream",
          "name": "stdout",
          "text": [
            "<class 'pandas.core.frame.DataFrame'>\n",
            "DatetimeIndex: 2203 entries, 2014-01-02 to 2022-12-02\n",
            "Data columns (total 6 columns):\n",
            " #   Column     Non-Null Count  Dtype  \n",
            "---  ------     --------------  -----  \n",
            " 0   Open       2203 non-null   float64\n",
            " 1   High       2203 non-null   float64\n",
            " 2   Low        2203 non-null   float64\n",
            " 3   Close      2203 non-null   float64\n",
            " 4   Adj Close  2203 non-null   float64\n",
            " 5   Volume     2203 non-null   int64  \n",
            "dtypes: float64(5), int64(1)\n",
            "memory usage: 120.5 KB\n"
          ]
        }
      ]
    },
    {
      "cell_type": "markdown",
      "source": [
        "https://technical-analysis-library-in-python.readthedocs.io/en/latest/ta.html#trend-indicators"
      ],
      "metadata": {
        "id": "kd_E7IY0-bK3"
      }
    },
    {
      "cell_type": "code",
      "source": [
        "def df_ta(df):\n",
        "  df['RSI'] = ta.momentum.RSIIndicator(df['Close'], window=14).rsi()\n",
        "  df['MFI'] = ta.volume.MFIIndicator(df['High'],df['Low'],df['Close'],df['Volume'], window=14).money_flow_index()\n",
        "  df['MACD'] = ta.trend.MACD(df['Close'],window_slow = 26, window_fast = 12, window_sign = 9).macd()\n",
        "  df[\"Returns\"] = np.log(df['Close'] / df['Close'].shift())\n",
        "  \n",
        "  temp = []\n",
        "  col_list = df[\"Returns\"].values.tolist()\n",
        "  for i in col_list:\n",
        "    if i >= 0:\n",
        "      temp.append(0)\n",
        "    elif i < 0:\n",
        "      temp.append(1)\n",
        "    else:\n",
        "      temp.append(None)\n",
        "\n",
        "  df[\"Sorted_Return\"] = temp\n",
        "\n",
        "  new_df = df.dropna()\n",
        "  return new_df"
      ],
      "metadata": {
        "id": "Olp6p83c13ht"
      },
      "execution_count": 17,
      "outputs": []
    },
    {
      "cell_type": "code",
      "source": [
        "new_df_stock_hsbc = df_ta(df_stock_hsbc) \n",
        "new_df_stock_bea = df_ta(df_stock_bea)\n",
        "new_df_stock_hsi = df_ta(df_stock_hsi)"
      ],
      "metadata": {
        "id": "AjKWPK-M13j0"
      },
      "execution_count": 18,
      "outputs": []
    },
    {
      "cell_type": "code",
      "source": [
        "new_df_stock_hsbc"
      ],
      "metadata": {
        "id": "6qdcXEOq13mL",
        "colab": {
          "base_uri": "https://localhost:8080/",
          "height": 455
        },
        "outputId": "9c5119f7-53e8-44a3-88cb-118870753938"
      },
      "execution_count": 19,
      "outputs": [
        {
          "output_type": "execute_result",
          "data": {
            "text/plain": [
              "                 Open       High        Low      Close  Adj Close    Volume  \\\n",
              "Date                                                                          \n",
              "2014-02-10  79.849998  79.849998  79.150002  79.199997  51.115627  18100317   \n",
              "2014-02-11  79.050003  79.800003  79.050003  79.699997  51.438339  18579742   \n",
              "2014-02-12  80.699997  81.300003  80.599998  81.000000  52.277370  23042878   \n",
              "2014-02-13  82.000000  82.000000  81.199997  81.349998  52.503250  17349305   \n",
              "2014-02-14  82.449997  82.500000  81.900002  82.099998  52.987309  16175910   \n",
              "...               ...        ...        ...        ...        ...       ...   \n",
              "2022-11-28  45.950001  45.950001  44.950001  45.599998  45.599998  16162878   \n",
              "2022-11-29  45.700001  46.250000  45.599998  46.250000  46.250000  21580355   \n",
              "2022-11-30  47.400002  47.650002  46.900002  47.250000  47.250000  27847858   \n",
              "2022-12-01  47.599998  47.849998  46.849998  47.299999  47.299999  32156733   \n",
              "2022-12-02  47.299999  47.349998  46.700001  46.900002  46.900002  23145310   \n",
              "\n",
              "                  RSI        MFI      MACD   Returns  Sorted_Return  \n",
              "Date                                                                 \n",
              "2014-02-10  24.119626  24.535382 -1.550945 -0.001262            1.0  \n",
              "2014-02-11  29.496018  26.116428 -1.538075  0.006293            0.0  \n",
              "2014-02-12  41.167767  32.736868 -1.406760  0.016180            0.0  \n",
              "2014-02-13  43.862299  33.880771 -1.259926  0.004312            0.0  \n",
              "2014-02-14  49.228509  39.749862 -1.070699  0.009177            0.0  \n",
              "...               ...        ...       ...       ...            ...  \n",
              "2022-11-28  63.938026  67.511102  0.931755 -0.008734            1.0  \n",
              "2022-11-29  67.097299  74.147243  0.988716  0.014154            0.0  \n",
              "2022-11-30  71.267704  80.291812  1.101848  0.021391            0.0  \n",
              "2022-12-01  71.462470  81.235501  1.181916  0.001058            0.0  \n",
              "2022-12-02  67.519282  71.885213  1.199270 -0.008493            1.0  \n",
              "\n",
              "[2178 rows x 11 columns]"
            ],
            "text/html": [
              "\n",
              "  <div id=\"df-b95a0b3e-0a4b-4826-80ff-6db60b235eee\">\n",
              "    <div class=\"colab-df-container\">\n",
              "      <div>\n",
              "<style scoped>\n",
              "    .dataframe tbody tr th:only-of-type {\n",
              "        vertical-align: middle;\n",
              "    }\n",
              "\n",
              "    .dataframe tbody tr th {\n",
              "        vertical-align: top;\n",
              "    }\n",
              "\n",
              "    .dataframe thead th {\n",
              "        text-align: right;\n",
              "    }\n",
              "</style>\n",
              "<table border=\"1\" class=\"dataframe\">\n",
              "  <thead>\n",
              "    <tr style=\"text-align: right;\">\n",
              "      <th></th>\n",
              "      <th>Open</th>\n",
              "      <th>High</th>\n",
              "      <th>Low</th>\n",
              "      <th>Close</th>\n",
              "      <th>Adj Close</th>\n",
              "      <th>Volume</th>\n",
              "      <th>RSI</th>\n",
              "      <th>MFI</th>\n",
              "      <th>MACD</th>\n",
              "      <th>Returns</th>\n",
              "      <th>Sorted_Return</th>\n",
              "    </tr>\n",
              "    <tr>\n",
              "      <th>Date</th>\n",
              "      <th></th>\n",
              "      <th></th>\n",
              "      <th></th>\n",
              "      <th></th>\n",
              "      <th></th>\n",
              "      <th></th>\n",
              "      <th></th>\n",
              "      <th></th>\n",
              "      <th></th>\n",
              "      <th></th>\n",
              "      <th></th>\n",
              "    </tr>\n",
              "  </thead>\n",
              "  <tbody>\n",
              "    <tr>\n",
              "      <th>2014-02-10</th>\n",
              "      <td>79.849998</td>\n",
              "      <td>79.849998</td>\n",
              "      <td>79.150002</td>\n",
              "      <td>79.199997</td>\n",
              "      <td>51.115627</td>\n",
              "      <td>18100317</td>\n",
              "      <td>24.119626</td>\n",
              "      <td>24.535382</td>\n",
              "      <td>-1.550945</td>\n",
              "      <td>-0.001262</td>\n",
              "      <td>1.0</td>\n",
              "    </tr>\n",
              "    <tr>\n",
              "      <th>2014-02-11</th>\n",
              "      <td>79.050003</td>\n",
              "      <td>79.800003</td>\n",
              "      <td>79.050003</td>\n",
              "      <td>79.699997</td>\n",
              "      <td>51.438339</td>\n",
              "      <td>18579742</td>\n",
              "      <td>29.496018</td>\n",
              "      <td>26.116428</td>\n",
              "      <td>-1.538075</td>\n",
              "      <td>0.006293</td>\n",
              "      <td>0.0</td>\n",
              "    </tr>\n",
              "    <tr>\n",
              "      <th>2014-02-12</th>\n",
              "      <td>80.699997</td>\n",
              "      <td>81.300003</td>\n",
              "      <td>80.599998</td>\n",
              "      <td>81.000000</td>\n",
              "      <td>52.277370</td>\n",
              "      <td>23042878</td>\n",
              "      <td>41.167767</td>\n",
              "      <td>32.736868</td>\n",
              "      <td>-1.406760</td>\n",
              "      <td>0.016180</td>\n",
              "      <td>0.0</td>\n",
              "    </tr>\n",
              "    <tr>\n",
              "      <th>2014-02-13</th>\n",
              "      <td>82.000000</td>\n",
              "      <td>82.000000</td>\n",
              "      <td>81.199997</td>\n",
              "      <td>81.349998</td>\n",
              "      <td>52.503250</td>\n",
              "      <td>17349305</td>\n",
              "      <td>43.862299</td>\n",
              "      <td>33.880771</td>\n",
              "      <td>-1.259926</td>\n",
              "      <td>0.004312</td>\n",
              "      <td>0.0</td>\n",
              "    </tr>\n",
              "    <tr>\n",
              "      <th>2014-02-14</th>\n",
              "      <td>82.449997</td>\n",
              "      <td>82.500000</td>\n",
              "      <td>81.900002</td>\n",
              "      <td>82.099998</td>\n",
              "      <td>52.987309</td>\n",
              "      <td>16175910</td>\n",
              "      <td>49.228509</td>\n",
              "      <td>39.749862</td>\n",
              "      <td>-1.070699</td>\n",
              "      <td>0.009177</td>\n",
              "      <td>0.0</td>\n",
              "    </tr>\n",
              "    <tr>\n",
              "      <th>...</th>\n",
              "      <td>...</td>\n",
              "      <td>...</td>\n",
              "      <td>...</td>\n",
              "      <td>...</td>\n",
              "      <td>...</td>\n",
              "      <td>...</td>\n",
              "      <td>...</td>\n",
              "      <td>...</td>\n",
              "      <td>...</td>\n",
              "      <td>...</td>\n",
              "      <td>...</td>\n",
              "    </tr>\n",
              "    <tr>\n",
              "      <th>2022-11-28</th>\n",
              "      <td>45.950001</td>\n",
              "      <td>45.950001</td>\n",
              "      <td>44.950001</td>\n",
              "      <td>45.599998</td>\n",
              "      <td>45.599998</td>\n",
              "      <td>16162878</td>\n",
              "      <td>63.938026</td>\n",
              "      <td>67.511102</td>\n",
              "      <td>0.931755</td>\n",
              "      <td>-0.008734</td>\n",
              "      <td>1.0</td>\n",
              "    </tr>\n",
              "    <tr>\n",
              "      <th>2022-11-29</th>\n",
              "      <td>45.700001</td>\n",
              "      <td>46.250000</td>\n",
              "      <td>45.599998</td>\n",
              "      <td>46.250000</td>\n",
              "      <td>46.250000</td>\n",
              "      <td>21580355</td>\n",
              "      <td>67.097299</td>\n",
              "      <td>74.147243</td>\n",
              "      <td>0.988716</td>\n",
              "      <td>0.014154</td>\n",
              "      <td>0.0</td>\n",
              "    </tr>\n",
              "    <tr>\n",
              "      <th>2022-11-30</th>\n",
              "      <td>47.400002</td>\n",
              "      <td>47.650002</td>\n",
              "      <td>46.900002</td>\n",
              "      <td>47.250000</td>\n",
              "      <td>47.250000</td>\n",
              "      <td>27847858</td>\n",
              "      <td>71.267704</td>\n",
              "      <td>80.291812</td>\n",
              "      <td>1.101848</td>\n",
              "      <td>0.021391</td>\n",
              "      <td>0.0</td>\n",
              "    </tr>\n",
              "    <tr>\n",
              "      <th>2022-12-01</th>\n",
              "      <td>47.599998</td>\n",
              "      <td>47.849998</td>\n",
              "      <td>46.849998</td>\n",
              "      <td>47.299999</td>\n",
              "      <td>47.299999</td>\n",
              "      <td>32156733</td>\n",
              "      <td>71.462470</td>\n",
              "      <td>81.235501</td>\n",
              "      <td>1.181916</td>\n",
              "      <td>0.001058</td>\n",
              "      <td>0.0</td>\n",
              "    </tr>\n",
              "    <tr>\n",
              "      <th>2022-12-02</th>\n",
              "      <td>47.299999</td>\n",
              "      <td>47.349998</td>\n",
              "      <td>46.700001</td>\n",
              "      <td>46.900002</td>\n",
              "      <td>46.900002</td>\n",
              "      <td>23145310</td>\n",
              "      <td>67.519282</td>\n",
              "      <td>71.885213</td>\n",
              "      <td>1.199270</td>\n",
              "      <td>-0.008493</td>\n",
              "      <td>1.0</td>\n",
              "    </tr>\n",
              "  </tbody>\n",
              "</table>\n",
              "<p>2178 rows × 11 columns</p>\n",
              "</div>\n",
              "      <button class=\"colab-df-convert\" onclick=\"convertToInteractive('df-b95a0b3e-0a4b-4826-80ff-6db60b235eee')\"\n",
              "              title=\"Convert this dataframe to an interactive table.\"\n",
              "              style=\"display:none;\">\n",
              "        \n",
              "  <svg xmlns=\"http://www.w3.org/2000/svg\" height=\"24px\"viewBox=\"0 0 24 24\"\n",
              "       width=\"24px\">\n",
              "    <path d=\"M0 0h24v24H0V0z\" fill=\"none\"/>\n",
              "    <path d=\"M18.56 5.44l.94 2.06.94-2.06 2.06-.94-2.06-.94-.94-2.06-.94 2.06-2.06.94zm-11 1L8.5 8.5l.94-2.06 2.06-.94-2.06-.94L8.5 2.5l-.94 2.06-2.06.94zm10 10l.94 2.06.94-2.06 2.06-.94-2.06-.94-.94-2.06-.94 2.06-2.06.94z\"/><path d=\"M17.41 7.96l-1.37-1.37c-.4-.4-.92-.59-1.43-.59-.52 0-1.04.2-1.43.59L10.3 9.45l-7.72 7.72c-.78.78-.78 2.05 0 2.83L4 21.41c.39.39.9.59 1.41.59.51 0 1.02-.2 1.41-.59l7.78-7.78 2.81-2.81c.8-.78.8-2.07 0-2.86zM5.41 20L4 18.59l7.72-7.72 1.47 1.35L5.41 20z\"/>\n",
              "  </svg>\n",
              "      </button>\n",
              "      \n",
              "  <style>\n",
              "    .colab-df-container {\n",
              "      display:flex;\n",
              "      flex-wrap:wrap;\n",
              "      gap: 12px;\n",
              "    }\n",
              "\n",
              "    .colab-df-convert {\n",
              "      background-color: #E8F0FE;\n",
              "      border: none;\n",
              "      border-radius: 50%;\n",
              "      cursor: pointer;\n",
              "      display: none;\n",
              "      fill: #1967D2;\n",
              "      height: 32px;\n",
              "      padding: 0 0 0 0;\n",
              "      width: 32px;\n",
              "    }\n",
              "\n",
              "    .colab-df-convert:hover {\n",
              "      background-color: #E2EBFA;\n",
              "      box-shadow: 0px 1px 2px rgba(60, 64, 67, 0.3), 0px 1px 3px 1px rgba(60, 64, 67, 0.15);\n",
              "      fill: #174EA6;\n",
              "    }\n",
              "\n",
              "    [theme=dark] .colab-df-convert {\n",
              "      background-color: #3B4455;\n",
              "      fill: #D2E3FC;\n",
              "    }\n",
              "\n",
              "    [theme=dark] .colab-df-convert:hover {\n",
              "      background-color: #434B5C;\n",
              "      box-shadow: 0px 1px 3px 1px rgba(0, 0, 0, 0.15);\n",
              "      filter: drop-shadow(0px 1px 2px rgba(0, 0, 0, 0.3));\n",
              "      fill: #FFFFFF;\n",
              "    }\n",
              "  </style>\n",
              "\n",
              "      <script>\n",
              "        const buttonEl =\n",
              "          document.querySelector('#df-b95a0b3e-0a4b-4826-80ff-6db60b235eee button.colab-df-convert');\n",
              "        buttonEl.style.display =\n",
              "          google.colab.kernel.accessAllowed ? 'block' : 'none';\n",
              "\n",
              "        async function convertToInteractive(key) {\n",
              "          const element = document.querySelector('#df-b95a0b3e-0a4b-4826-80ff-6db60b235eee');\n",
              "          const dataTable =\n",
              "            await google.colab.kernel.invokeFunction('convertToInteractive',\n",
              "                                                     [key], {});\n",
              "          if (!dataTable) return;\n",
              "\n",
              "          const docLinkHtml = 'Like what you see? Visit the ' +\n",
              "            '<a target=\"_blank\" href=https://colab.research.google.com/notebooks/data_table.ipynb>data table notebook</a>'\n",
              "            + ' to learn more about interactive tables.';\n",
              "          element.innerHTML = '';\n",
              "          dataTable['output_type'] = 'display_data';\n",
              "          await google.colab.output.renderOutput(dataTable, element);\n",
              "          const docLink = document.createElement('div');\n",
              "          docLink.innerHTML = docLinkHtml;\n",
              "          element.appendChild(docLink);\n",
              "        }\n",
              "      </script>\n",
              "    </div>\n",
              "  </div>\n",
              "  "
            ]
          },
          "metadata": {},
          "execution_count": 19
        }
      ]
    },
    {
      "cell_type": "code",
      "source": [
        "new_df_stock_hsbc.to_excel(\"RSI Sorted.xlsx\")"
      ],
      "metadata": {
        "id": "oMM2ZiCvXDJp"
      },
      "execution_count": 20,
      "outputs": []
    },
    {
      "cell_type": "markdown",
      "source": [
        "#Do Cross Correlation\n",
        "- "
      ],
      "metadata": {
        "id": "sGstW1q0FvVp"
      }
    },
    {
      "cell_type": "code",
      "source": [
        "'''\n",
        "from datetime \n",
        "a = 'Sun, 28 Mar 2021 07:00:00 GMT'\n",
        "b = a[5:16]\n",
        "b = b.split(' ')\n",
        "year = b[2]\n",
        "month = b[1]\n",
        "day = b[0]\n",
        "month_dict = {'Jan' : '01',\n",
        "        'Feb' : '02',\n",
        "        'Mar' : '03',\n",
        "        'Apr' : '04',\n",
        "        'May' : '05',\n",
        "        'Jun' : '06',\n",
        "        'Jul' : '07',\n",
        "        'Aug' : '08',\n",
        "        'Sep' : '09',\n",
        "        'Oct' : '10',\n",
        "        'Nov' : '11',\n",
        "        'Dec' : '12',\n",
        "        }\n",
        "\n",
        "for i in month_dict:\n",
        "  if month == i:\n",
        "    month = i.values()\n",
        "\n",
        "resutl = year+'/'+month+'/'+day\n",
        "'''"
      ],
      "metadata": {
        "colab": {
          "base_uri": "https://localhost:8080/",
          "height": 70
        },
        "id": "5UGwbKZBuyId",
        "outputId": "a4093909-716d-46eb-9051-a9026d9407c4"
      },
      "execution_count": 8,
      "outputs": [
        {
          "output_type": "execute_result",
          "data": {
            "text/plain": [
              "\"\\nfrom datetime \\na = 'Sun, 28 Mar 2021 07:00:00 GMT'\\nb = a[5:16]\\nb = b.split(' ')\\nyear = b[2]\\nmonth = b[1]\\nday = b[0]\\nmonth_dict = {'Jan' : '01',\\n        'Feb' : '02',\\n        'Mar' : '03',\\n        'Apr' : '04',\\n        'May' : '05',\\n        'Jun' : '06',\\n        'Jul' : '07',\\n        'Aug' : '08',\\n        'Sep' : '09',\\n        'Oct' : '10',\\n        'Nov' : '11',\\n        'Dec' : '12',\\n        }\\n\\nfor i in month_dict:\\n  if month == i:\\n    month = i.values()\\n\\nresutl = year+'/'+month+'/'+day\\n\""
            ],
            "application/vnd.google.colaboratory.intrinsic+json": {
              "type": "string"
            }
          },
          "metadata": {},
          "execution_count": 8
        }
      ]
    },
    {
      "cell_type": "code",
      "source": [],
      "metadata": {
        "id": "tF2BWPaquy-3"
      },
      "execution_count": 8,
      "outputs": []
    }
  ]
}